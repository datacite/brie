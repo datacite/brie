{
 "cells": [
  {
   "cell_type": "code",
   "execution_count": 1,
   "metadata": {},
   "outputs": [
    {
     "name": "stderr",
     "output_type": "stream",
     "text": [
      "Updating HTML index of packages in '.Library'\n",
      "Making 'packages.html' ... done\n",
      "Updating HTML index of packages in '.Library'\n",
      "Making 'packages.html' ... done\n"
     ]
    }
   ],
   "source": [
    "install.packages(\"rdatacite\")\n",
    "install.packages(\"httr\")"
   ]
  },
  {
   "cell_type": "code",
   "execution_count": 2,
   "metadata": {},
   "outputs": [
    {
     "name": "stderr",
     "output_type": "stream",
     "text": [
      "\n",
      "Attaching package: ‘dplyr’\n",
      "\n",
      "The following objects are masked from ‘package:stats’:\n",
      "\n",
      "    filter, lag\n",
      "\n",
      "The following objects are masked from ‘package:base’:\n",
      "\n",
      "    intersect, setdiff, setequal, union\n",
      "\n",
      "\n",
      "Attaching package: ‘memoise’\n",
      "\n",
      "The following object is masked from ‘package:httr’:\n",
      "\n",
      "    timeout\n",
      "\n"
     ]
    }
   ],
   "source": [
    "library(jsonlite)\n",
    "library(dplyr)\n",
    "library(stringr)\n",
    "library(httr)\n",
    "library(\"memoise\")\n"
   ]
  },
  {
   "cell_type": "code",
   "execution_count": 3,
   "metadata": {},
   "outputs": [],
   "source": [
    "call_api<-function(rows, cursor){\n",
    "    response <- fromJSON(paste0('https://query.eventdata.crossref.org/events?rows=',rows,'&filter=source:crossref&cursor=',cursor))\n",
    "    return(response)\n",
    "}\n"
   ]
  },
  {
   "cell_type": "code",
   "execution_count": 143,
   "metadata": {},
   "outputs": [
    {
     "data": {
      "text/html": [
       "<dl>\n",
       "\t<dt>$status</dt>\n",
       "\t\t<dd>'ok'</dd>\n",
       "\t<dt>$`message-type`</dt>\n",
       "\t\t<dd>'event-list'</dd>\n",
       "\t<dt>$message</dt>\n",
       "\t\t<dd><dl>\n",
       "\t<dt>$`next-cursor`</dt>\n",
       "\t\t<dd>'f8188032-56d6-4326-bdee-28c3428cfb03'</dd>\n",
       "\t<dt>$`total-results`</dt>\n",
       "\t\t<dd>22450</dd>\n",
       "\t<dt>$`items-per-page`</dt>\n",
       "\t\t<dd>100</dd>\n",
       "\t<dt>$events</dt>\n",
       "\t\t<dd><table>\n",
       "<thead><tr><th scope=col>license</th><th scope=col>obj_id</th><th scope=col>source_token</th><th scope=col>occurred_at</th><th scope=col>subj_id</th><th scope=col>id</th><th scope=col>terms</th><th scope=col>message_action</th><th scope=col>source_id</th><th scope=col>timestamp</th><th scope=col>relation_type_id</th></tr></thead>\n",
       "<tbody>\n",
       "\t<tr><td>https://doi.org/10.13003/CED-terms-of-use           </td><td>https://doi.org/10.5281/zenodo.45923                </td><td>8676e950-8ac5-4074-8ac3-c0a18ada7e99                </td><td>2016-07-26T00:00:00Z                                </td><td>https://doi.org/10.1080/17538947.2016.1205673       </td><td>ea6a12dc-3620-48db-af09-30d3bb499682                </td><td>https://doi.org/10.13003/CED-terms-of-use           </td><td>create                                              </td><td>crossref                                            </td><td>2017-06-01T15:31:02Z                                </td><td>references                                          </td></tr>\n",
       "\t<tr><td>https://doi.org/10.13003/CED-terms-of-use           </td><td>https://doi.org/10.7916/D8HD7SV6                    </td><td>8676e950-8ac5-4074-8ac3-c0a18ada7e99                </td><td>2016-09-28T00:00:00Z                                </td><td>https://doi.org/10.3389/fnins.2016.00436            </td><td>5037d604-6463-440f-aa0f-42fe07a968f2                </td><td>https://doi.org/10.13003/CED-terms-of-use           </td><td>create                                              </td><td>crossref                                            </td><td>2017-06-01T15:31:02Z                                </td><td>references                                          </td></tr>\n",
       "\t<tr><td>https://doi.org/10.13003/CED-terms-of-use           </td><td>https://doi.org/10.5524/100111                      </td><td>8676e950-8ac5-4074-8ac3-c0a18ada7e99                </td><td>2017-05-30T00:00:00Z                                </td><td>https://doi.org/10.3389/fnins.2017.00302            </td><td>01149fa7-9fe2-4d55-b1a2-bd3d39851496                </td><td>https://doi.org/10.13003/CED-terms-of-use           </td><td>create                                              </td><td>crossref                                            </td><td>2017-06-01T15:31:03Z                                </td><td>references                                          </td></tr>\n",
       "\t<tr><td>https://doi.org/10.13003/CED-terms-of-use           </td><td>https://doi.org/10.13140/2.1.2938.5929.             </td><td>8676e950-8ac5-4074-8ac3-c0a18ada7e99                </td><td>2017-03-07T00:00:00Z                                </td><td>https://doi.org/10.3390/ijerph14030267              </td><td>dac7c4e7-0c7e-4e87-b562-4a36d99c01b7                </td><td>https://doi.org/10.13003/CED-terms-of-use           </td><td>create                                              </td><td>crossref                                            </td><td>2017-06-01T16:00:02Z                                </td><td>references                                          </td></tr>\n",
       "\t<tr><td>https://doi.org/10.13003/CED-terms-of-use           </td><td>https://doi.org/10.2312/ceig.20151208               </td><td>8676e950-8ac5-4074-8ac3-c0a18ada7e99                </td><td>2016-10-07T00:00:00Z                                </td><td>https://doi.org/10.3389/fninf.2016.00044            </td><td>d8fe1a41-3a42-4421-a621-b1a5950149b2                </td><td>https://doi.org/10.13003/CED-terms-of-use           </td><td>create                                              </td><td>crossref                                            </td><td>2017-06-01T16:00:03Z                                </td><td>references                                          </td></tr>\n",
       "\t<tr><td>https://doi.org/10.13003/CED-terms-of-use           </td><td>https://doi.org/10.2195/lj_Rev_sadowsky_en_201207_01</td><td>8676e950-8ac5-4074-8ac3-c0a18ada7e99                </td><td>2016-02-24T00:00:00Z                                </td><td>https://doi.org/10.1007/s12159-016-0131-1           </td><td>47566ec1-ec33-4f1e-b4a2-22fa4fead92f                </td><td>https://doi.org/10.13003/CED-terms-of-use           </td><td>create                                              </td><td>crossref                                            </td><td>2017-06-01T16:00:03Z                                </td><td>references                                          </td></tr>\n",
       "\t<tr><td>https://doi.org/10.13003/CED-terms-of-use           </td><td>https://doi.org/10.11588/ijodr.2008.1.20            </td><td>8676e950-8ac5-4074-8ac3-c0a18ada7e99                </td><td>2017-02-17T00:00:00Z                                </td><td>https://doi.org/10.3389/fnhum.2017.00072            </td><td>6186ca2e-98ba-47e5-a067-2ecebe81259f                </td><td>https://doi.org/10.13003/CED-terms-of-use           </td><td>create                                              </td><td>crossref                                            </td><td>2017-06-01T16:00:04Z                                </td><td>references                                          </td></tr>\n",
       "\t<tr><td>https://doi.org/10.13003/CED-terms-of-use           </td><td>https://doi.org/10.3933/applrheol-22-32575          </td><td>8676e950-8ac5-4074-8ac3-c0a18ada7e99                </td><td>2015-01-01T00:00:00Z                                </td><td>https://doi.org/10.1155/2015/172862                 </td><td>6c879bab-ade8-4b5b-985d-b2911e943b16                </td><td>https://doi.org/10.13003/CED-terms-of-use           </td><td>create                                              </td><td>crossref                                            </td><td>2017-06-01T16:00:05Z                                </td><td>references                                          </td></tr>\n",
       "\t<tr><td>https://doi.org/10.13003/CED-terms-of-use           </td><td>https://doi.org/10.5281/zenodo.23670                </td><td>8676e950-8ac5-4074-8ac3-c0a18ada7e99                </td><td>2017-01-30T00:00:00Z                                </td><td>https://doi.org/10.3897/zookeys.648.10935           </td><td>5061a66c-056f-46ee-a88a-d5d1afcdcfb2                </td><td>https://doi.org/10.13003/CED-terms-of-use           </td><td>create                                              </td><td>crossref                                            </td><td>2017-06-01T16:00:05Z                                </td><td>references                                          </td></tr>\n",
       "\t<tr><td>https://doi.org/10.13003/CED-terms-of-use           </td><td>https://doi.org/10.5065/D6WD3XH5                    </td><td>8676e950-8ac5-4074-8ac3-c0a18ada7e99                </td><td>2017-01-01T00:00:00Z                                </td><td>https://doi.org/10.1007/s12517-016-2784-0           </td><td>6ad8d2b0-e40c-4ba4-8a21-51a732806b97                </td><td>https://doi.org/10.13003/CED-terms-of-use           </td><td>create                                              </td><td>crossref                                            </td><td>2017-06-01T16:00:06Z                                </td><td>references                                          </td></tr>\n",
       "\t<tr><td>https://doi.org/10.13003/CED-terms-of-use           </td><td>https://doi.org/10.2312/GFZ.gt.17.16                </td><td>8676e950-8ac5-4074-8ac3-c0a18ada7e99                </td><td>2016-04-26T00:00:00Z                                </td><td>https://doi.org/10.1007/s12517-016-2393-y           </td><td>37c9aef3-8dfb-41d7-b7f5-239ae3d0c495                </td><td>https://doi.org/10.13003/CED-terms-of-use           </td><td>create                                              </td><td>crossref                                            </td><td>2017-06-01T16:00:07Z                                </td><td>references                                          </td></tr>\n",
       "\t<tr><td>https://doi.org/10.13003/CED-terms-of-use           </td><td>https://doi.org/10.5277/ord120303                   </td><td>8676e950-8ac5-4074-8ac3-c0a18ada7e99                </td><td>2015-01-01T00:00:00Z                                </td><td>https://doi.org/10.1515/foli-2015-0033              </td><td>ce775d4a-315a-4935-b8c7-baf627ddd3bc                </td><td>https://doi.org/10.13003/CED-terms-of-use           </td><td>create                                              </td><td>crossref                                            </td><td>2017-06-01T16:00:08Z                                </td><td>references                                          </td></tr>\n",
       "\t<tr><td>https://doi.org/10.13003/CED-terms-of-use           </td><td>https://doi.org/10.5281/zenodo.23706                </td><td>8676e950-8ac5-4074-8ac3-c0a18ada7e99                </td><td>2017-01-30T00:00:00Z                                </td><td>https://doi.org/10.3897/zookeys.648.10935           </td><td>11d5f9c0-747c-42f5-93c0-69112c42643a                </td><td>https://doi.org/10.13003/CED-terms-of-use           </td><td>create                                              </td><td>crossref                                            </td><td>2017-06-01T16:00:08Z                                </td><td>references                                          </td></tr>\n",
       "\t<tr><td>https://doi.org/10.13003/CED-terms-of-use           </td><td>https://doi.org/10.5281/zenodo.23772                </td><td>8676e950-8ac5-4074-8ac3-c0a18ada7e99                </td><td>2017-01-30T00:00:00Z                                </td><td>https://doi.org/10.3897/zookeys.648.10935           </td><td>9da43a9f-12ca-4b6b-82fb-f2a0d793fd7f                </td><td>https://doi.org/10.13003/CED-terms-of-use           </td><td>create                                              </td><td>crossref                                            </td><td>2017-06-01T16:00:09Z                                </td><td>references                                          </td></tr>\n",
       "\t<tr><td>https://doi.org/10.13003/CED-terms-of-use           </td><td>https://doi.org/10.5167/uzh-50780                   </td><td>8676e950-8ac5-4074-8ac3-c0a18ada7e99                </td><td>2014-06-20T00:00:00Z                                </td><td>https://doi.org/10.3390/ijerph110606472             </td><td>0b362064-d71b-485f-bb7b-e27093a0a837                </td><td>https://doi.org/10.13003/CED-terms-of-use           </td><td>create                                              </td><td>crossref                                            </td><td>2017-06-01T16:00:10Z                                </td><td>references                                          </td></tr>\n",
       "\t<tr><td>https://doi.org/10.13003/CED-terms-of-use           </td><td>https://doi.org/10.5061/dryad.mr221                 </td><td>8676e950-8ac5-4074-8ac3-c0a18ada7e99                </td><td>2016-09-26T00:00:00Z                                </td><td>https://doi.org/10.3897/zookeys.618.9986            </td><td>192f29c3-7292-4879-a034-09e2617d4ec0                </td><td>https://doi.org/10.13003/CED-terms-of-use           </td><td>create                                              </td><td>crossref                                            </td><td>2017-06-01T16:00:11Z                                </td><td>references                                          </td></tr>\n",
       "\t<tr><td>https://doi.org/10.13003/CED-terms-of-use           </td><td>https://doi.org/10.5281/zenodo.23616                </td><td>8676e950-8ac5-4074-8ac3-c0a18ada7e99                </td><td>2017-01-30T00:00:00Z                                </td><td>https://doi.org/10.3897/zookeys.648.10935           </td><td>2aa5aedd-5b53-4ca9-aacf-eb847f7832a2                </td><td>https://doi.org/10.13003/CED-terms-of-use           </td><td>create                                              </td><td>crossref                                            </td><td>2017-06-01T16:00:12Z                                </td><td>references                                          </td></tr>\n",
       "\t<tr><td>https://doi.org/10.13003/CED-terms-of-use           </td><td>https://doi.org/10.5281/zenodo.16303                </td><td>8676e950-8ac5-4074-8ac3-c0a18ada7e99                </td><td>2017-04-20T00:00:00Z                                </td><td>https://doi.org/10.3389/fncom.2017.00021            </td><td>0f3c2f10-fdfc-4848-8e21-713d2eb6aafd                </td><td>https://doi.org/10.13003/CED-terms-of-use           </td><td>create                                              </td><td>crossref                                            </td><td>2017-06-01T16:00:12Z                                </td><td>references                                          </td></tr>\n",
       "\t<tr><td>https://doi.org/10.13003/CED-terms-of-use           </td><td>https://doi.org/10.3929/ethz-a-000585900            </td><td>8676e950-8ac5-4074-8ac3-c0a18ada7e99                </td><td>2013-07-01T00:00:00Z                                </td><td>https://doi.org/10.3832/ifor0099-006                </td><td>eba6f420-de2e-4a60-ac84-c8bcfd91c76c                </td><td>https://doi.org/10.13003/CED-terms-of-use           </td><td>create                                              </td><td>crossref                                            </td><td>2017-06-01T16:00:13Z                                </td><td>references                                          </td></tr>\n",
       "\t<tr><td>https://doi.org/10.13003/CED-terms-of-use           </td><td>https://doi.org/10.5281/zenodo.259534               </td><td>8676e950-8ac5-4074-8ac3-c0a18ada7e99                </td><td>2017-05-16T00:00:00Z                                </td><td>https://doi.org/10.3389/fninf.2017.00030            </td><td>e3992538-f96a-421e-9ac5-f6d6585f66b2                </td><td>https://doi.org/10.13003/CED-terms-of-use           </td><td>create                                              </td><td>crossref                                            </td><td>2017-06-01T16:00:13Z                                </td><td>references                                          </td></tr>\n",
       "\t<tr><td>https://doi.org/10.13003/CED-terms-of-use           </td><td>https://doi.org/10.15779/Z38F35Q                    </td><td>8676e950-8ac5-4074-8ac3-c0a18ada7e99                </td><td>2017-01-18T00:00:00Z                                </td><td>https://doi.org/10.1080/02508060.2017.1276040       </td><td>fea5b384-ecc2-48b9-92c8-1176991a450e                </td><td>https://doi.org/10.13003/CED-terms-of-use           </td><td>create                                              </td><td>crossref                                            </td><td>2017-06-01T16:00:14Z                                </td><td>references                                          </td></tr>\n",
       "\t<tr><td>https://doi.org/10.13003/CED-terms-of-use           </td><td>https://doi.org/10.5277/abb140204                   </td><td>8676e950-8ac5-4074-8ac3-c0a18ada7e99                </td><td>2015-01-01T00:00:00Z                                </td><td>https://doi.org/10.1515/humo-2015-0050              </td><td>b65b07e6-0d88-452b-9e2c-df0253ca5ebd                </td><td>https://doi.org/10.13003/CED-terms-of-use           </td><td>create                                              </td><td>crossref                                            </td><td>2017-06-01T16:00:15Z                                </td><td>references                                          </td></tr>\n",
       "\t<tr><td>https://doi.org/10.13003/CED-terms-of-use           </td><td>https://doi.org/10.5281/zenodo.274214               </td><td>8676e950-8ac5-4074-8ac3-c0a18ada7e99                </td><td>2017-05-02T00:00:00Z                                </td><td>https://doi.org/10.3390/s17051003                   </td><td>373ba603-9e02-45ab-a0cc-c79cb1a7e6f1                </td><td>https://doi.org/10.13003/CED-terms-of-use           </td><td>create                                              </td><td>crossref                                            </td><td>2017-06-01T16:00:15Z                                </td><td>references                                          </td></tr>\n",
       "\t<tr><td>https://doi.org/10.13003/CED-terms-of-use           </td><td>https://doi.org/10.18433/J3P306                     </td><td>8676e950-8ac5-4074-8ac3-c0a18ada7e99                </td><td>2017-05-21T00:00:00Z                                </td><td>https://doi.org/10.3390/ijms18051104                </td><td>3761347e-1562-4dcc-938d-496685d836c4                </td><td>https://doi.org/10.13003/CED-terms-of-use           </td><td>create                                              </td><td>crossref                                            </td><td>2017-06-01T16:00:16Z                                </td><td>references                                          </td></tr>\n",
       "\t<tr><td>https://doi.org/10.13003/CED-terms-of-use           </td><td>https://doi.org/10.13128/Aestimum-7251              </td><td>8676e950-8ac5-4074-8ac3-c0a18ada7e99                </td><td>2016-12-20T00:00:00Z                                </td><td>https://doi.org/10.3846/bjrbe.2016.30               </td><td>3634fa8f-e7a9-4779-9a1d-4a22102eb56f                </td><td>https://doi.org/10.13003/CED-terms-of-use           </td><td>create                                              </td><td>crossref                                            </td><td>2017-06-01T16:00:16Z                                </td><td>references                                          </td></tr>\n",
       "\t<tr><td>https://doi.org/10.13003/CED-terms-of-use           </td><td>https://doi.org/10.7910/DVN/26910                   </td><td>8676e950-8ac5-4074-8ac3-c0a18ada7e99                </td><td>2017-01-07T00:00:00Z                                </td><td>https://doi.org/10.1186/s13104-016-2340-8           </td><td>e8a17aaf-b07b-4394-b9de-37e3014a7fa6                </td><td>https://doi.org/10.13003/CED-terms-of-use           </td><td>create                                              </td><td>crossref                                            </td><td>2017-06-01T16:00:17Z                                </td><td>references                                          </td></tr>\n",
       "\t<tr><td>https://doi.org/10.13003/CED-terms-of-use           </td><td>https://doi.org/10.5061/dryad.234                   </td><td>8676e950-8ac5-4074-8ac3-c0a18ada7e99                </td><td>2013-09-17T00:00:00Z                                </td><td>https://doi.org/10.1080/17550874.2013.820806        </td><td>a67d5448-8476-4eb4-b75c-299d061711ea                </td><td>https://doi.org/10.13003/CED-terms-of-use           </td><td>create                                              </td><td>crossref                                            </td><td>2017-06-01T16:00:17Z                                </td><td>references                                          </td></tr>\n",
       "\t<tr><td>https://doi.org/10.13003/CED-terms-of-use           </td><td>https://doi.org/10.5281/zenodo.185858               </td><td>8676e950-8ac5-4074-8ac3-c0a18ada7e99                </td><td>2017-04-21T00:00:00Z                                </td><td>https://doi.org/10.3897/zookeys.669.12245           </td><td>fc264885-7b0e-4adf-9db4-44d8798fbfc8                </td><td>https://doi.org/10.13003/CED-terms-of-use           </td><td>create                                              </td><td>crossref                                            </td><td>2017-06-01T16:00:18Z                                </td><td>references                                          </td></tr>\n",
       "\t<tr><td>https://doi.org/10.13003/CED-terms-of-use           </td><td>https://doi.org/10.5170/CERN-2013-004               </td><td>8676e950-8ac5-4074-8ac3-c0a18ada7e99                </td><td>2015-05-14T00:00:00Z                                </td><td>https://doi.org/10.1103/Physics.8.45                </td><td>209d7b90-f937-46ec-9c42-09baf7bbd8e6                </td><td>https://doi.org/10.13003/CED-terms-of-use           </td><td>create                                              </td><td>crossref                                            </td><td>2017-06-01T16:00:18Z                                </td><td>references                                          </td></tr>\n",
       "\t<tr><td>https://doi.org/10.13003/CED-terms-of-use           </td><td>https://doi.org/10.5277/epe120208                   </td><td>8676e950-8ac5-4074-8ac3-c0a18ada7e99                </td><td>2016-01-01T00:00:00Z                                </td><td>https://doi.org/10.1515/pjct-2016-0071              </td><td>3403ba94-f946-47f1-91ce-ca868bc6e2a5                </td><td>https://doi.org/10.13003/CED-terms-of-use           </td><td>create                                              </td><td>crossref                                            </td><td>2017-06-01T16:00:19Z                                </td><td>references                                          </td></tr>\n",
       "\t<tr><td>⋮</td><td>⋮</td><td>⋮</td><td>⋮</td><td>⋮</td><td>⋮</td><td>⋮</td><td>⋮</td><td>⋮</td><td>⋮</td><td>⋮</td></tr>\n",
       "\t<tr><td>https://doi.org/10.13003/CED-terms-of-use    </td><td>https://doi.org/10.5281/zenodo.23429         </td><td>8676e950-8ac5-4074-8ac3-c0a18ada7e99         </td><td>2017-01-30T00:00:00Z                         </td><td>https://doi.org/10.3897/zookeys.648.10935    </td><td>153f1643-21ad-4a14-90b9-158b6fc2cb0e         </td><td>https://doi.org/10.13003/CED-terms-of-use    </td><td>create                                       </td><td>crossref                                     </td><td>2017-06-01T16:00:46Z                         </td><td>references                                   </td></tr>\n",
       "\t<tr><td>https://doi.org/10.13003/CED-terms-of-use    </td><td>https://doi.org/10.5281/zenodo.32969         </td><td>8676e950-8ac5-4074-8ac3-c0a18ada7e99         </td><td>2016-05-26T00:00:00Z                         </td><td>https://doi.org/10.3389/fnana.2016.00057     </td><td>01d18d77-d567-4ec6-b30e-8516de9449f0         </td><td>https://doi.org/10.13003/CED-terms-of-use    </td><td>create                                       </td><td>crossref                                     </td><td>2017-06-01T16:00:46Z                         </td><td>references                                   </td></tr>\n",
       "\t<tr><td>https://doi.org/10.13003/CED-terms-of-use    </td><td>https://doi.org/10.18433/J32K5B              </td><td>8676e950-8ac5-4074-8ac3-c0a18ada7e99         </td><td>2016-08-01T00:00:00Z                         </td><td>https://doi.org/10.3390/ijms17081242         </td><td>987efc8f-5e0e-485d-b42e-2764aa8fdecf         </td><td>https://doi.org/10.13003/CED-terms-of-use    </td><td>create                                       </td><td>crossref                                     </td><td>2017-06-01T16:00:47Z                         </td><td>references                                   </td></tr>\n",
       "\t<tr><td>https://doi.org/10.13003/CED-terms-of-use    </td><td>https://doi.org/10.5281/zenodo.23716         </td><td>8676e950-8ac5-4074-8ac3-c0a18ada7e99         </td><td>2017-01-30T00:00:00Z                         </td><td>https://doi.org/10.3897/zookeys.648.10935    </td><td>82b50d00-1eea-4f0b-973b-34bbdd68bf73         </td><td>https://doi.org/10.13003/CED-terms-of-use    </td><td>create                                       </td><td>crossref                                     </td><td>2017-06-01T16:00:48Z                         </td><td>references                                   </td></tr>\n",
       "\t<tr><td>https://doi.org/10.13003/CED-terms-of-use    </td><td>https://doi.org/10.5281/zenodo.27878         </td><td>8676e950-8ac5-4074-8ac3-c0a18ada7e99         </td><td>2016-12-20T00:00:00Z                         </td><td>https://doi.org/10.3389/fncom.2016.00130     </td><td>0c433cd8-ccae-4a09-86a1-f56dc85ec25b         </td><td>https://doi.org/10.13003/CED-terms-of-use    </td><td>create                                       </td><td>crossref                                     </td><td>2017-06-01T16:00:48Z                         </td><td>references                                   </td></tr>\n",
       "\t<tr><td>https://doi.org/10.13003/CED-terms-of-use    </td><td>https://doi.org/10.5886/y2bbsq5              </td><td>8676e950-8ac5-4074-8ac3-c0a18ada7e99         </td><td>2016-09-26T00:00:00Z                         </td><td>https://doi.org/10.3897/zookeys.618.9986     </td><td>ad5eafe5-de46-412e-ac40-1f292d8b0851         </td><td>https://doi.org/10.13003/CED-terms-of-use    </td><td>create                                       </td><td>crossref                                     </td><td>2017-06-01T16:00:49Z                         </td><td>references                                   </td></tr>\n",
       "\t<tr><td>https://doi.org/10.13003/CED-terms-of-use    </td><td>https://doi.org/10.5281/zenodo.345413        </td><td>8676e950-8ac5-4074-8ac3-c0a18ada7e99         </td><td>2017-03-20T00:00:00Z                         </td><td>https://doi.org/10.3389/fncom.2017.00016     </td><td>554356dd-7a03-40ba-99f9-2bb55b9ee2f6         </td><td>https://doi.org/10.13003/CED-terms-of-use    </td><td>create                                       </td><td>crossref                                     </td><td>2017-06-01T16:00:49Z                         </td><td>references                                   </td></tr>\n",
       "\t<tr><td>https://doi.org/10.13003/CED-terms-of-use    </td><td>https://doi.org/10.3334/CDIAC/00001_V2011    </td><td>8676e950-8ac5-4074-8ac3-c0a18ada7e99         </td><td>2016-09-26T00:00:00Z                         </td><td>https://doi.org/10.1080/13504509.2016.1238021</td><td>3110b299-616a-41bd-8fdc-bca6fe90e919         </td><td>https://doi.org/10.13003/CED-terms-of-use    </td><td>create                                       </td><td>crossref                                     </td><td>2017-06-01T16:00:50Z                         </td><td>references                                   </td></tr>\n",
       "\t<tr><td>https://doi.org/10.13003/CED-terms-of-use    </td><td>https://doi.org/10.6092/1970-9870/2501       </td><td>8676e950-8ac5-4074-8ac3-c0a18ada7e99         </td><td>2016-10-25T00:00:00Z                         </td><td>https://doi.org/10.1007/s40558-016-0066-z    </td><td>2df91e29-eea2-435a-80c3-662667d606a8         </td><td>https://doi.org/10.13003/CED-terms-of-use    </td><td>create                                       </td><td>crossref                                     </td><td>2017-06-01T16:00:50Z                         </td><td>references                                   </td></tr>\n",
       "\t<tr><td>https://doi.org/10.13003/CED-terms-of-use    </td><td>https://doi.org/10.5684/soep.v27             </td><td>8676e950-8ac5-4074-8ac3-c0a18ada7e99         </td><td>2017-02-16T00:00:00Z                         </td><td>https://doi.org/10.1007/s12208-017-0174-2    </td><td>a5d4eb10-9297-4799-8569-3ca8935d7ee4         </td><td>https://doi.org/10.13003/CED-terms-of-use    </td><td>create                                       </td><td>crossref                                     </td><td>2017-06-01T16:00:51Z                         </td><td>references                                   </td></tr>\n",
       "\t<tr><td>https://doi.org/10.13003/CED-terms-of-use    </td><td>https://doi.org/10.2312/SBM/SBM12/001-010    </td><td>8676e950-8ac5-4074-8ac3-c0a18ada7e99         </td><td>2017-03-01T00:00:00Z                         </td><td>https://doi.org/10.1007/s12517-017-2930-3    </td><td>fe0d00fa-ea9c-447f-841c-8aaf42dd63ac         </td><td>https://doi.org/10.13003/CED-terms-of-use    </td><td>create                                       </td><td>crossref                                     </td><td>2017-06-01T16:00:52Z                         </td><td>references                                   </td></tr>\n",
       "\t<tr><td>https://doi.org/10.13003/CED-terms-of-use    </td><td>https://doi.org/10.5281/zenodo.44222         </td><td>8676e950-8ac5-4074-8ac3-c0a18ada7e99         </td><td>2017-05-24T00:00:00Z                         </td><td>https://doi.org/10.3389/fninf.2017.00034     </td><td>8723815a-73e3-43cf-964c-bd2e377798b7         </td><td>https://doi.org/10.13003/CED-terms-of-use    </td><td>create                                       </td><td>crossref                                     </td><td>2017-06-01T16:00:52Z                         </td><td>references                                   </td></tr>\n",
       "\t<tr><td>https://doi.org/10.13003/CED-terms-of-use    </td><td>https://doi.org/10.5281/zenodo.23683         </td><td>8676e950-8ac5-4074-8ac3-c0a18ada7e99         </td><td>2017-01-30T00:00:00Z                         </td><td>https://doi.org/10.3897/zookeys.648.10935    </td><td>6b2e4206-4b82-4e2b-b84b-82fea0ec5a59         </td><td>https://doi.org/10.13003/CED-terms-of-use    </td><td>create                                       </td><td>crossref                                     </td><td>2017-06-01T16:00:53Z                         </td><td>references                                   </td></tr>\n",
       "\t<tr><td>https://doi.org/10.13003/CED-terms-of-use    </td><td>https://doi.org/10.6092/unibo/amsacta/5401   </td><td>8676e950-8ac5-4074-8ac3-c0a18ada7e99         </td><td>2016-01-01T00:00:00Z                         </td><td>https://doi.org/10.1155/2016/9349627         </td><td>624caeee-310c-4aa5-b3e7-aac114427368         </td><td>https://doi.org/10.13003/CED-terms-of-use    </td><td>create                                       </td><td>crossref                                     </td><td>2017-06-01T16:00:53Z                         </td><td>references                                   </td></tr>\n",
       "\t<tr><td>https://doi.org/10.13003/CED-terms-of-use    </td><td>https://doi.org/10.18433/J3TP4T              </td><td>8676e950-8ac5-4074-8ac3-c0a18ada7e99         </td><td>2016-09-14T00:00:00Z                         </td><td>https://doi.org/10.1007/s12029-016-9871-z    </td><td>8a85e5c7-5e2c-497c-a577-6b35375871c6         </td><td>https://doi.org/10.13003/CED-terms-of-use    </td><td>create                                       </td><td>crossref                                     </td><td>2017-06-01T16:00:54Z                         </td><td>references                                   </td></tr>\n",
       "\t<tr><td>https://doi.org/10.13003/CED-terms-of-use    </td><td>https://doi.org/10.5281/zenodo.23689         </td><td>8676e950-8ac5-4074-8ac3-c0a18ada7e99         </td><td>2017-01-30T00:00:00Z                         </td><td>https://doi.org/10.3897/zookeys.648.10935    </td><td>990880e7-39de-4510-b177-f46199d97287         </td><td>https://doi.org/10.13003/CED-terms-of-use    </td><td>create                                       </td><td>crossref                                     </td><td>2017-06-01T16:00:55Z                         </td><td>references                                   </td></tr>\n",
       "\t<tr><td>https://doi.org/10.13003/CED-terms-of-use    </td><td>https://doi.org/10.5281/zenodo.23553         </td><td>8676e950-8ac5-4074-8ac3-c0a18ada7e99         </td><td>2017-01-30T00:00:00Z                         </td><td>https://doi.org/10.3897/zookeys.648.10935    </td><td>5024ae40-9ceb-47d4-89aa-df51c9ba7ce0         </td><td>https://doi.org/10.13003/CED-terms-of-use    </td><td>create                                       </td><td>crossref                                     </td><td>2017-06-01T16:00:55Z                         </td><td>references                                   </td></tr>\n",
       "\t<tr><td>https://doi.org/10.13003/CED-terms-of-use    </td><td>https://doi.org/10.18433/J3W595              </td><td>8676e950-8ac5-4074-8ac3-c0a18ada7e99         </td><td>2016-08-04T00:00:00Z                         </td><td>https://doi.org/10.3389/fncel.2016.00192     </td><td>4ee1812c-ae27-4f96-a1ff-6ee89e96ef70         </td><td>https://doi.org/10.13003/CED-terms-of-use    </td><td>create                                       </td><td>crossref                                     </td><td>2017-06-01T16:00:56Z                         </td><td>references                                   </td></tr>\n",
       "\t<tr><td>https://doi.org/10.13003/CED-terms-of-use    </td><td>https://doi.org/10.5281/zenodo.24553         </td><td>8676e950-8ac5-4074-8ac3-c0a18ada7e99         </td><td>2016-03-15T00:00:00Z                         </td><td>https://doi.org/10.3897/zookeys.572.7177     </td><td>38f43cf2-b2b9-4713-80c4-66b7e8f132f0         </td><td>https://doi.org/10.13003/CED-terms-of-use    </td><td>create                                       </td><td>crossref                                     </td><td>2017-06-01T16:00:56Z                         </td><td>references                                   </td></tr>\n",
       "\t<tr><td>https://doi.org/10.13003/CED-terms-of-use    </td><td>https://doi.org/10.3886/ICPSR29282.v1        </td><td>8676e950-8ac5-4074-8ac3-c0a18ada7e99         </td><td>2015-09-01T00:00:00Z                         </td><td>https://doi.org/10.1177/1541931215591298     </td><td>95f80e09-2698-4012-9f8b-8015070bdd8f         </td><td>https://doi.org/10.13003/CED-terms-of-use    </td><td>create                                       </td><td>crossref                                     </td><td>2017-06-01T16:00:57Z                         </td><td>references                                   </td></tr>\n",
       "\t<tr><td>https://doi.org/10.13003/CED-terms-of-use    </td><td>https://doi.org/10.7916/D8VX0F48             </td><td>8676e950-8ac5-4074-8ac3-c0a18ada7e99         </td><td>2017-04-24T00:00:00Z                         </td><td>https://doi.org/10.3389/fnhum.2017.00198     </td><td>208557f4-ba81-4bd8-9be5-da67e45b7a22         </td><td>https://doi.org/10.13003/CED-terms-of-use    </td><td>create                                       </td><td>crossref                                     </td><td>2017-06-01T16:00:57Z                         </td><td>references                                   </td></tr>\n",
       "\t<tr><td>https://doi.org/10.13003/CED-terms-of-use    </td><td>https://doi.org/10.5277/EPE130205            </td><td>8676e950-8ac5-4074-8ac3-c0a18ada7e99         </td><td>2015-01-01T00:00:00Z                         </td><td>https://doi.org/10.1515/pjct-2015-0062       </td><td>7c2309c4-c889-4193-9374-cb8a7ad9b425         </td><td>https://doi.org/10.13003/CED-terms-of-use    </td><td>create                                       </td><td>crossref                                     </td><td>2017-06-01T16:00:58Z                         </td><td>references                                   </td></tr>\n",
       "\t<tr><td>https://doi.org/10.13003/CED-terms-of-use    </td><td>https://doi.org/10.5281/zenodo.23758         </td><td>8676e950-8ac5-4074-8ac3-c0a18ada7e99         </td><td>2017-03-27T00:00:00Z                         </td><td>https://doi.org/10.3897/zookeys.663.11554    </td><td>11e0b222-78ad-4f29-b6ea-ebf9c8e4e2d2         </td><td>https://doi.org/10.13003/CED-terms-of-use    </td><td>create                                       </td><td>crossref                                     </td><td>2017-06-01T16:00:58Z                         </td><td>references                                   </td></tr>\n",
       "\t<tr><td>https://doi.org/10.13003/CED-terms-of-use    </td><td>https://doi.org/10.5281/zenodo.23423         </td><td>8676e950-8ac5-4074-8ac3-c0a18ada7e99         </td><td>2017-01-30T00:00:00Z                         </td><td>https://doi.org/10.3897/zookeys.648.10935    </td><td>24e8decd-0244-4f0a-b919-8dab0ed974e7         </td><td>https://doi.org/10.13003/CED-terms-of-use    </td><td>create                                       </td><td>crossref                                     </td><td>2017-06-01T16:00:59Z                         </td><td>references                                   </td></tr>\n",
       "\t<tr><td>https://doi.org/10.13003/CED-terms-of-use    </td><td>https://doi.org/10.5681/bi.2012.022          </td><td>8676e950-8ac5-4074-8ac3-c0a18ada7e99         </td><td>2015-05-06T00:00:00Z                         </td><td>https://doi.org/10.3389/fnbeh.2015.00103     </td><td>737c6ce8-3f45-4d92-b3e5-68574720169f         </td><td>https://doi.org/10.13003/CED-terms-of-use    </td><td>create                                       </td><td>crossref                                     </td><td>2017-06-01T16:01:00Z                         </td><td>references                                   </td></tr>\n",
       "\t<tr><td>https://doi.org/10.13003/CED-terms-of-use    </td><td>https://doi.org/10.18433/J3G022              </td><td>8676e950-8ac5-4074-8ac3-c0a18ada7e99         </td><td>2017-04-05T00:00:00Z                         </td><td>https://doi.org/10.3390/ijms18040750         </td><td>6aba08f7-5343-46f0-b1cb-892212d5731a         </td><td>https://doi.org/10.13003/CED-terms-of-use    </td><td>create                                       </td><td>crossref                                     </td><td>2017-06-01T16:01:00Z                         </td><td>references                                   </td></tr>\n",
       "\t<tr><td>https://doi.org/10.13003/CED-terms-of-use    </td><td>https://doi.org/10.17886/EpiBull-2015-011.4  </td><td>8676e950-8ac5-4074-8ac3-c0a18ada7e99         </td><td>2016-06-30T00:00:00Z                         </td><td>https://doi.org/10.3390/ijerph13070650       </td><td>d6d20399-e31c-4939-b91e-ccac2609ece7         </td><td>https://doi.org/10.13003/CED-terms-of-use    </td><td>create                                       </td><td>crossref                                     </td><td>2017-06-01T16:01:01Z                         </td><td>references                                   </td></tr>\n",
       "\t<tr><td>https://doi.org/10.13003/CED-terms-of-use    </td><td>https://doi.org/10.5195/jwsr.2003.236        </td><td>8676e950-8ac5-4074-8ac3-c0a18ada7e99         </td><td>2016-03-10T00:00:00Z                         </td><td>https://doi.org/10.3390/ijerph13030309       </td><td>d2f0c7ff-0c1c-4572-86d8-03ecb835db14         </td><td>https://doi.org/10.13003/CED-terms-of-use    </td><td>create                                       </td><td>crossref                                     </td><td>2017-06-01T16:01:01Z                         </td><td>references                                   </td></tr>\n",
       "\t<tr><td>https://doi.org/10.13003/CED-terms-of-use    </td><td>https://doi.org/10.5681/joddd.2013.031       </td><td>8676e950-8ac5-4074-8ac3-c0a18ada7e99         </td><td>2015-01-01T00:00:00Z                         </td><td>https://doi.org/10.1515/pjct-2015-0047       </td><td>c27f6aef-98af-49df-8b30-e8c49d01ef5d         </td><td>https://doi.org/10.13003/CED-terms-of-use    </td><td>create                                       </td><td>crossref                                     </td><td>2017-06-01T16:01:02Z                         </td><td>references                                   </td></tr>\n",
       "\t<tr><td>https://doi.org/10.13003/CED-terms-of-use    </td><td>https://doi.org/10.5073/vitis.2016.55.161-164</td><td>8676e950-8ac5-4074-8ac3-c0a18ada7e99         </td><td>2017-01-23T00:00:00Z                         </td><td>https://doi.org/10.3897/zookeys.647.11098    </td><td>f8188032-56d6-4326-bdee-28c3428cfb03         </td><td>https://doi.org/10.13003/CED-terms-of-use    </td><td>create                                       </td><td>crossref                                     </td><td>2017-06-01T16:01:03Z                         </td><td>references                                   </td></tr>\n",
       "</tbody>\n",
       "</table>\n",
       "</dd>\n",
       "</dl>\n",
       "</dd>\n",
       "</dl>\n"
      ],
      "text/latex": [
       "\\begin{description}\n",
       "\\item[\\$status] 'ok'\n",
       "\\item[\\$`message-type`] 'event-list'\n",
       "\\item[\\$message] \\begin{description}\n",
       "\\item[\\$`next-cursor`] 'f8188032-56d6-4326-bdee-28c3428cfb03'\n",
       "\\item[\\$`total-results`] 22450\n",
       "\\item[\\$`items-per-page`] 100\n",
       "\\item[\\$events] \\begin{tabular}{r|lllllllllll}\n",
       " license & obj\\_id & source\\_token & occurred\\_at & subj\\_id & id & terms & message\\_action & source\\_id & timestamp & relation\\_type\\_id\\\\\n",
       "\\hline\n",
       "\t https://doi.org/10.13003/CED-terms-of-use            & https://doi.org/10.5281/zenodo.45923                 & 8676e950-8ac5-4074-8ac3-c0a18ada7e99                 & 2016-07-26T00:00:00Z                                 & https://doi.org/10.1080/17538947.2016.1205673        & ea6a12dc-3620-48db-af09-30d3bb499682                 & https://doi.org/10.13003/CED-terms-of-use            & create                                               & crossref                                             & 2017-06-01T15:31:02Z                                 & references                                          \\\\\n",
       "\t https://doi.org/10.13003/CED-terms-of-use            & https://doi.org/10.7916/D8HD7SV6                     & 8676e950-8ac5-4074-8ac3-c0a18ada7e99                 & 2016-09-28T00:00:00Z                                 & https://doi.org/10.3389/fnins.2016.00436             & 5037d604-6463-440f-aa0f-42fe07a968f2                 & https://doi.org/10.13003/CED-terms-of-use            & create                                               & crossref                                             & 2017-06-01T15:31:02Z                                 & references                                          \\\\\n",
       "\t https://doi.org/10.13003/CED-terms-of-use            & https://doi.org/10.5524/100111                       & 8676e950-8ac5-4074-8ac3-c0a18ada7e99                 & 2017-05-30T00:00:00Z                                 & https://doi.org/10.3389/fnins.2017.00302             & 01149fa7-9fe2-4d55-b1a2-bd3d39851496                 & https://doi.org/10.13003/CED-terms-of-use            & create                                               & crossref                                             & 2017-06-01T15:31:03Z                                 & references                                          \\\\\n",
       "\t https://doi.org/10.13003/CED-terms-of-use            & https://doi.org/10.13140/2.1.2938.5929.              & 8676e950-8ac5-4074-8ac3-c0a18ada7e99                 & 2017-03-07T00:00:00Z                                 & https://doi.org/10.3390/ijerph14030267               & dac7c4e7-0c7e-4e87-b562-4a36d99c01b7                 & https://doi.org/10.13003/CED-terms-of-use            & create                                               & crossref                                             & 2017-06-01T16:00:02Z                                 & references                                          \\\\\n",
       "\t https://doi.org/10.13003/CED-terms-of-use            & https://doi.org/10.2312/ceig.20151208                & 8676e950-8ac5-4074-8ac3-c0a18ada7e99                 & 2016-10-07T00:00:00Z                                 & https://doi.org/10.3389/fninf.2016.00044             & d8fe1a41-3a42-4421-a621-b1a5950149b2                 & https://doi.org/10.13003/CED-terms-of-use            & create                                               & crossref                                             & 2017-06-01T16:00:03Z                                 & references                                          \\\\\n",
       "\t https://doi.org/10.13003/CED-terms-of-use                      & https://doi.org/10.2195/lj\\_Rev\\_sadowsky\\_en\\_201207\\_01 & 8676e950-8ac5-4074-8ac3-c0a18ada7e99                           & 2016-02-24T00:00:00Z                                           & https://doi.org/10.1007/s12159-016-0131-1                      & 47566ec1-ec33-4f1e-b4a2-22fa4fead92f                           & https://doi.org/10.13003/CED-terms-of-use                      & create                                                         & crossref                                                       & 2017-06-01T16:00:03Z                                           & references                                                    \\\\\n",
       "\t https://doi.org/10.13003/CED-terms-of-use            & https://doi.org/10.11588/ijodr.2008.1.20             & 8676e950-8ac5-4074-8ac3-c0a18ada7e99                 & 2017-02-17T00:00:00Z                                 & https://doi.org/10.3389/fnhum.2017.00072             & 6186ca2e-98ba-47e5-a067-2ecebe81259f                 & https://doi.org/10.13003/CED-terms-of-use            & create                                               & crossref                                             & 2017-06-01T16:00:04Z                                 & references                                          \\\\\n",
       "\t https://doi.org/10.13003/CED-terms-of-use            & https://doi.org/10.3933/applrheol-22-32575           & 8676e950-8ac5-4074-8ac3-c0a18ada7e99                 & 2015-01-01T00:00:00Z                                 & https://doi.org/10.1155/2015/172862                  & 6c879bab-ade8-4b5b-985d-b2911e943b16                 & https://doi.org/10.13003/CED-terms-of-use            & create                                               & crossref                                             & 2017-06-01T16:00:05Z                                 & references                                          \\\\\n",
       "\t https://doi.org/10.13003/CED-terms-of-use            & https://doi.org/10.5281/zenodo.23670                 & 8676e950-8ac5-4074-8ac3-c0a18ada7e99                 & 2017-01-30T00:00:00Z                                 & https://doi.org/10.3897/zookeys.648.10935            & 5061a66c-056f-46ee-a88a-d5d1afcdcfb2                 & https://doi.org/10.13003/CED-terms-of-use            & create                                               & crossref                                             & 2017-06-01T16:00:05Z                                 & references                                          \\\\\n",
       "\t https://doi.org/10.13003/CED-terms-of-use            & https://doi.org/10.5065/D6WD3XH5                     & 8676e950-8ac5-4074-8ac3-c0a18ada7e99                 & 2017-01-01T00:00:00Z                                 & https://doi.org/10.1007/s12517-016-2784-0            & 6ad8d2b0-e40c-4ba4-8a21-51a732806b97                 & https://doi.org/10.13003/CED-terms-of-use            & create                                               & crossref                                             & 2017-06-01T16:00:06Z                                 & references                                          \\\\\n",
       "\t https://doi.org/10.13003/CED-terms-of-use            & https://doi.org/10.2312/GFZ.gt.17.16                 & 8676e950-8ac5-4074-8ac3-c0a18ada7e99                 & 2016-04-26T00:00:00Z                                 & https://doi.org/10.1007/s12517-016-2393-y            & 37c9aef3-8dfb-41d7-b7f5-239ae3d0c495                 & https://doi.org/10.13003/CED-terms-of-use            & create                                               & crossref                                             & 2017-06-01T16:00:07Z                                 & references                                          \\\\\n",
       "\t https://doi.org/10.13003/CED-terms-of-use            & https://doi.org/10.5277/ord120303                    & 8676e950-8ac5-4074-8ac3-c0a18ada7e99                 & 2015-01-01T00:00:00Z                                 & https://doi.org/10.1515/foli-2015-0033               & ce775d4a-315a-4935-b8c7-baf627ddd3bc                 & https://doi.org/10.13003/CED-terms-of-use            & create                                               & crossref                                             & 2017-06-01T16:00:08Z                                 & references                                          \\\\\n",
       "\t https://doi.org/10.13003/CED-terms-of-use            & https://doi.org/10.5281/zenodo.23706                 & 8676e950-8ac5-4074-8ac3-c0a18ada7e99                 & 2017-01-30T00:00:00Z                                 & https://doi.org/10.3897/zookeys.648.10935            & 11d5f9c0-747c-42f5-93c0-69112c42643a                 & https://doi.org/10.13003/CED-terms-of-use            & create                                               & crossref                                             & 2017-06-01T16:00:08Z                                 & references                                          \\\\\n",
       "\t https://doi.org/10.13003/CED-terms-of-use            & https://doi.org/10.5281/zenodo.23772                 & 8676e950-8ac5-4074-8ac3-c0a18ada7e99                 & 2017-01-30T00:00:00Z                                 & https://doi.org/10.3897/zookeys.648.10935            & 9da43a9f-12ca-4b6b-82fb-f2a0d793fd7f                 & https://doi.org/10.13003/CED-terms-of-use            & create                                               & crossref                                             & 2017-06-01T16:00:09Z                                 & references                                          \\\\\n",
       "\t https://doi.org/10.13003/CED-terms-of-use            & https://doi.org/10.5167/uzh-50780                    & 8676e950-8ac5-4074-8ac3-c0a18ada7e99                 & 2014-06-20T00:00:00Z                                 & https://doi.org/10.3390/ijerph110606472              & 0b362064-d71b-485f-bb7b-e27093a0a837                 & https://doi.org/10.13003/CED-terms-of-use            & create                                               & crossref                                             & 2017-06-01T16:00:10Z                                 & references                                          \\\\\n",
       "\t https://doi.org/10.13003/CED-terms-of-use            & https://doi.org/10.5061/dryad.mr221                  & 8676e950-8ac5-4074-8ac3-c0a18ada7e99                 & 2016-09-26T00:00:00Z                                 & https://doi.org/10.3897/zookeys.618.9986             & 192f29c3-7292-4879-a034-09e2617d4ec0                 & https://doi.org/10.13003/CED-terms-of-use            & create                                               & crossref                                             & 2017-06-01T16:00:11Z                                 & references                                          \\\\\n",
       "\t https://doi.org/10.13003/CED-terms-of-use            & https://doi.org/10.5281/zenodo.23616                 & 8676e950-8ac5-4074-8ac3-c0a18ada7e99                 & 2017-01-30T00:00:00Z                                 & https://doi.org/10.3897/zookeys.648.10935            & 2aa5aedd-5b53-4ca9-aacf-eb847f7832a2                 & https://doi.org/10.13003/CED-terms-of-use            & create                                               & crossref                                             & 2017-06-01T16:00:12Z                                 & references                                          \\\\\n",
       "\t https://doi.org/10.13003/CED-terms-of-use            & https://doi.org/10.5281/zenodo.16303                 & 8676e950-8ac5-4074-8ac3-c0a18ada7e99                 & 2017-04-20T00:00:00Z                                 & https://doi.org/10.3389/fncom.2017.00021             & 0f3c2f10-fdfc-4848-8e21-713d2eb6aafd                 & https://doi.org/10.13003/CED-terms-of-use            & create                                               & crossref                                             & 2017-06-01T16:00:12Z                                 & references                                          \\\\\n",
       "\t https://doi.org/10.13003/CED-terms-of-use            & https://doi.org/10.3929/ethz-a-000585900             & 8676e950-8ac5-4074-8ac3-c0a18ada7e99                 & 2013-07-01T00:00:00Z                                 & https://doi.org/10.3832/ifor0099-006                 & eba6f420-de2e-4a60-ac84-c8bcfd91c76c                 & https://doi.org/10.13003/CED-terms-of-use            & create                                               & crossref                                             & 2017-06-01T16:00:13Z                                 & references                                          \\\\\n",
       "\t https://doi.org/10.13003/CED-terms-of-use            & https://doi.org/10.5281/zenodo.259534                & 8676e950-8ac5-4074-8ac3-c0a18ada7e99                 & 2017-05-16T00:00:00Z                                 & https://doi.org/10.3389/fninf.2017.00030             & e3992538-f96a-421e-9ac5-f6d6585f66b2                 & https://doi.org/10.13003/CED-terms-of-use            & create                                               & crossref                                             & 2017-06-01T16:00:13Z                                 & references                                          \\\\\n",
       "\t https://doi.org/10.13003/CED-terms-of-use            & https://doi.org/10.15779/Z38F35Q                     & 8676e950-8ac5-4074-8ac3-c0a18ada7e99                 & 2017-01-18T00:00:00Z                                 & https://doi.org/10.1080/02508060.2017.1276040        & fea5b384-ecc2-48b9-92c8-1176991a450e                 & https://doi.org/10.13003/CED-terms-of-use            & create                                               & crossref                                             & 2017-06-01T16:00:14Z                                 & references                                          \\\\\n",
       "\t https://doi.org/10.13003/CED-terms-of-use            & https://doi.org/10.5277/abb140204                    & 8676e950-8ac5-4074-8ac3-c0a18ada7e99                 & 2015-01-01T00:00:00Z                                 & https://doi.org/10.1515/humo-2015-0050               & b65b07e6-0d88-452b-9e2c-df0253ca5ebd                 & https://doi.org/10.13003/CED-terms-of-use            & create                                               & crossref                                             & 2017-06-01T16:00:15Z                                 & references                                          \\\\\n",
       "\t https://doi.org/10.13003/CED-terms-of-use            & https://doi.org/10.5281/zenodo.274214                & 8676e950-8ac5-4074-8ac3-c0a18ada7e99                 & 2017-05-02T00:00:00Z                                 & https://doi.org/10.3390/s17051003                    & 373ba603-9e02-45ab-a0cc-c79cb1a7e6f1                 & https://doi.org/10.13003/CED-terms-of-use            & create                                               & crossref                                             & 2017-06-01T16:00:15Z                                 & references                                          \\\\\n",
       "\t https://doi.org/10.13003/CED-terms-of-use            & https://doi.org/10.18433/J3P306                      & 8676e950-8ac5-4074-8ac3-c0a18ada7e99                 & 2017-05-21T00:00:00Z                                 & https://doi.org/10.3390/ijms18051104                 & 3761347e-1562-4dcc-938d-496685d836c4                 & https://doi.org/10.13003/CED-terms-of-use            & create                                               & crossref                                             & 2017-06-01T16:00:16Z                                 & references                                          \\\\\n",
       "\t https://doi.org/10.13003/CED-terms-of-use            & https://doi.org/10.13128/Aestimum-7251               & 8676e950-8ac5-4074-8ac3-c0a18ada7e99                 & 2016-12-20T00:00:00Z                                 & https://doi.org/10.3846/bjrbe.2016.30                & 3634fa8f-e7a9-4779-9a1d-4a22102eb56f                 & https://doi.org/10.13003/CED-terms-of-use            & create                                               & crossref                                             & 2017-06-01T16:00:16Z                                 & references                                          \\\\\n",
       "\t https://doi.org/10.13003/CED-terms-of-use            & https://doi.org/10.7910/DVN/26910                    & 8676e950-8ac5-4074-8ac3-c0a18ada7e99                 & 2017-01-07T00:00:00Z                                 & https://doi.org/10.1186/s13104-016-2340-8            & e8a17aaf-b07b-4394-b9de-37e3014a7fa6                 & https://doi.org/10.13003/CED-terms-of-use            & create                                               & crossref                                             & 2017-06-01T16:00:17Z                                 & references                                          \\\\\n",
       "\t https://doi.org/10.13003/CED-terms-of-use            & https://doi.org/10.5061/dryad.234                    & 8676e950-8ac5-4074-8ac3-c0a18ada7e99                 & 2013-09-17T00:00:00Z                                 & https://doi.org/10.1080/17550874.2013.820806         & a67d5448-8476-4eb4-b75c-299d061711ea                 & https://doi.org/10.13003/CED-terms-of-use            & create                                               & crossref                                             & 2017-06-01T16:00:17Z                                 & references                                          \\\\\n",
       "\t https://doi.org/10.13003/CED-terms-of-use            & https://doi.org/10.5281/zenodo.185858                & 8676e950-8ac5-4074-8ac3-c0a18ada7e99                 & 2017-04-21T00:00:00Z                                 & https://doi.org/10.3897/zookeys.669.12245            & fc264885-7b0e-4adf-9db4-44d8798fbfc8                 & https://doi.org/10.13003/CED-terms-of-use            & create                                               & crossref                                             & 2017-06-01T16:00:18Z                                 & references                                          \\\\\n",
       "\t https://doi.org/10.13003/CED-terms-of-use            & https://doi.org/10.5170/CERN-2013-004                & 8676e950-8ac5-4074-8ac3-c0a18ada7e99                 & 2015-05-14T00:00:00Z                                 & https://doi.org/10.1103/Physics.8.45                 & 209d7b90-f937-46ec-9c42-09baf7bbd8e6                 & https://doi.org/10.13003/CED-terms-of-use            & create                                               & crossref                                             & 2017-06-01T16:00:18Z                                 & references                                          \\\\\n",
       "\t https://doi.org/10.13003/CED-terms-of-use            & https://doi.org/10.5277/epe120208                    & 8676e950-8ac5-4074-8ac3-c0a18ada7e99                 & 2016-01-01T00:00:00Z                                 & https://doi.org/10.1515/pjct-2016-0071               & 3403ba94-f946-47f1-91ce-ca868bc6e2a5                 & https://doi.org/10.13003/CED-terms-of-use            & create                                               & crossref                                             & 2017-06-01T16:00:19Z                                 & references                                          \\\\\n",
       "\t ⋮ & ⋮ & ⋮ & ⋮ & ⋮ & ⋮ & ⋮ & ⋮ & ⋮ & ⋮ & ⋮\\\\\n",
       "\t https://doi.org/10.13003/CED-terms-of-use     & https://doi.org/10.5281/zenodo.23429          & 8676e950-8ac5-4074-8ac3-c0a18ada7e99          & 2017-01-30T00:00:00Z                          & https://doi.org/10.3897/zookeys.648.10935     & 153f1643-21ad-4a14-90b9-158b6fc2cb0e          & https://doi.org/10.13003/CED-terms-of-use     & create                                        & crossref                                      & 2017-06-01T16:00:46Z                          & references                                   \\\\\n",
       "\t https://doi.org/10.13003/CED-terms-of-use     & https://doi.org/10.5281/zenodo.32969          & 8676e950-8ac5-4074-8ac3-c0a18ada7e99          & 2016-05-26T00:00:00Z                          & https://doi.org/10.3389/fnana.2016.00057      & 01d18d77-d567-4ec6-b30e-8516de9449f0          & https://doi.org/10.13003/CED-terms-of-use     & create                                        & crossref                                      & 2017-06-01T16:00:46Z                          & references                                   \\\\\n",
       "\t https://doi.org/10.13003/CED-terms-of-use     & https://doi.org/10.18433/J32K5B               & 8676e950-8ac5-4074-8ac3-c0a18ada7e99          & 2016-08-01T00:00:00Z                          & https://doi.org/10.3390/ijms17081242          & 987efc8f-5e0e-485d-b42e-2764aa8fdecf          & https://doi.org/10.13003/CED-terms-of-use     & create                                        & crossref                                      & 2017-06-01T16:00:47Z                          & references                                   \\\\\n",
       "\t https://doi.org/10.13003/CED-terms-of-use     & https://doi.org/10.5281/zenodo.23716          & 8676e950-8ac5-4074-8ac3-c0a18ada7e99          & 2017-01-30T00:00:00Z                          & https://doi.org/10.3897/zookeys.648.10935     & 82b50d00-1eea-4f0b-973b-34bbdd68bf73          & https://doi.org/10.13003/CED-terms-of-use     & create                                        & crossref                                      & 2017-06-01T16:00:48Z                          & references                                   \\\\\n",
       "\t https://doi.org/10.13003/CED-terms-of-use     & https://doi.org/10.5281/zenodo.27878          & 8676e950-8ac5-4074-8ac3-c0a18ada7e99          & 2016-12-20T00:00:00Z                          & https://doi.org/10.3389/fncom.2016.00130      & 0c433cd8-ccae-4a09-86a1-f56dc85ec25b          & https://doi.org/10.13003/CED-terms-of-use     & create                                        & crossref                                      & 2017-06-01T16:00:48Z                          & references                                   \\\\\n",
       "\t https://doi.org/10.13003/CED-terms-of-use     & https://doi.org/10.5886/y2bbsq5               & 8676e950-8ac5-4074-8ac3-c0a18ada7e99          & 2016-09-26T00:00:00Z                          & https://doi.org/10.3897/zookeys.618.9986      & ad5eafe5-de46-412e-ac40-1f292d8b0851          & https://doi.org/10.13003/CED-terms-of-use     & create                                        & crossref                                      & 2017-06-01T16:00:49Z                          & references                                   \\\\\n",
       "\t https://doi.org/10.13003/CED-terms-of-use     & https://doi.org/10.5281/zenodo.345413         & 8676e950-8ac5-4074-8ac3-c0a18ada7e99          & 2017-03-20T00:00:00Z                          & https://doi.org/10.3389/fncom.2017.00016      & 554356dd-7a03-40ba-99f9-2bb55b9ee2f6          & https://doi.org/10.13003/CED-terms-of-use     & create                                        & crossref                                      & 2017-06-01T16:00:49Z                          & references                                   \\\\\n",
       "\t https://doi.org/10.13003/CED-terms-of-use       & https://doi.org/10.3334/CDIAC/00001\\_V2011     & 8676e950-8ac5-4074-8ac3-c0a18ada7e99            & 2016-09-26T00:00:00Z                            & https://doi.org/10.1080/13504509.2016.1238021   & 3110b299-616a-41bd-8fdc-bca6fe90e919            & https://doi.org/10.13003/CED-terms-of-use       & create                                          & crossref                                        & 2017-06-01T16:00:50Z                            & references                                     \\\\\n",
       "\t https://doi.org/10.13003/CED-terms-of-use     & https://doi.org/10.6092/1970-9870/2501        & 8676e950-8ac5-4074-8ac3-c0a18ada7e99          & 2016-10-25T00:00:00Z                          & https://doi.org/10.1007/s40558-016-0066-z     & 2df91e29-eea2-435a-80c3-662667d606a8          & https://doi.org/10.13003/CED-terms-of-use     & create                                        & crossref                                      & 2017-06-01T16:00:50Z                          & references                                   \\\\\n",
       "\t https://doi.org/10.13003/CED-terms-of-use     & https://doi.org/10.5684/soep.v27              & 8676e950-8ac5-4074-8ac3-c0a18ada7e99          & 2017-02-16T00:00:00Z                          & https://doi.org/10.1007/s12208-017-0174-2     & a5d4eb10-9297-4799-8569-3ca8935d7ee4          & https://doi.org/10.13003/CED-terms-of-use     & create                                        & crossref                                      & 2017-06-01T16:00:51Z                          & references                                   \\\\\n",
       "\t https://doi.org/10.13003/CED-terms-of-use     & https://doi.org/10.2312/SBM/SBM12/001-010     & 8676e950-8ac5-4074-8ac3-c0a18ada7e99          & 2017-03-01T00:00:00Z                          & https://doi.org/10.1007/s12517-017-2930-3     & fe0d00fa-ea9c-447f-841c-8aaf42dd63ac          & https://doi.org/10.13003/CED-terms-of-use     & create                                        & crossref                                      & 2017-06-01T16:00:52Z                          & references                                   \\\\\n",
       "\t https://doi.org/10.13003/CED-terms-of-use     & https://doi.org/10.5281/zenodo.44222          & 8676e950-8ac5-4074-8ac3-c0a18ada7e99          & 2017-05-24T00:00:00Z                          & https://doi.org/10.3389/fninf.2017.00034      & 8723815a-73e3-43cf-964c-bd2e377798b7          & https://doi.org/10.13003/CED-terms-of-use     & create                                        & crossref                                      & 2017-06-01T16:00:52Z                          & references                                   \\\\\n",
       "\t https://doi.org/10.13003/CED-terms-of-use     & https://doi.org/10.5281/zenodo.23683          & 8676e950-8ac5-4074-8ac3-c0a18ada7e99          & 2017-01-30T00:00:00Z                          & https://doi.org/10.3897/zookeys.648.10935     & 6b2e4206-4b82-4e2b-b84b-82fea0ec5a59          & https://doi.org/10.13003/CED-terms-of-use     & create                                        & crossref                                      & 2017-06-01T16:00:53Z                          & references                                   \\\\\n",
       "\t https://doi.org/10.13003/CED-terms-of-use     & https://doi.org/10.6092/unibo/amsacta/5401    & 8676e950-8ac5-4074-8ac3-c0a18ada7e99          & 2016-01-01T00:00:00Z                          & https://doi.org/10.1155/2016/9349627          & 624caeee-310c-4aa5-b3e7-aac114427368          & https://doi.org/10.13003/CED-terms-of-use     & create                                        & crossref                                      & 2017-06-01T16:00:53Z                          & references                                   \\\\\n",
       "\t https://doi.org/10.13003/CED-terms-of-use     & https://doi.org/10.18433/J3TP4T               & 8676e950-8ac5-4074-8ac3-c0a18ada7e99          & 2016-09-14T00:00:00Z                          & https://doi.org/10.1007/s12029-016-9871-z     & 8a85e5c7-5e2c-497c-a577-6b35375871c6          & https://doi.org/10.13003/CED-terms-of-use     & create                                        & crossref                                      & 2017-06-01T16:00:54Z                          & references                                   \\\\\n",
       "\t https://doi.org/10.13003/CED-terms-of-use     & https://doi.org/10.5281/zenodo.23689          & 8676e950-8ac5-4074-8ac3-c0a18ada7e99          & 2017-01-30T00:00:00Z                          & https://doi.org/10.3897/zookeys.648.10935     & 990880e7-39de-4510-b177-f46199d97287          & https://doi.org/10.13003/CED-terms-of-use     & create                                        & crossref                                      & 2017-06-01T16:00:55Z                          & references                                   \\\\\n",
       "\t https://doi.org/10.13003/CED-terms-of-use     & https://doi.org/10.5281/zenodo.23553          & 8676e950-8ac5-4074-8ac3-c0a18ada7e99          & 2017-01-30T00:00:00Z                          & https://doi.org/10.3897/zookeys.648.10935     & 5024ae40-9ceb-47d4-89aa-df51c9ba7ce0          & https://doi.org/10.13003/CED-terms-of-use     & create                                        & crossref                                      & 2017-06-01T16:00:55Z                          & references                                   \\\\\n",
       "\t https://doi.org/10.13003/CED-terms-of-use     & https://doi.org/10.18433/J3W595               & 8676e950-8ac5-4074-8ac3-c0a18ada7e99          & 2016-08-04T00:00:00Z                          & https://doi.org/10.3389/fncel.2016.00192      & 4ee1812c-ae27-4f96-a1ff-6ee89e96ef70          & https://doi.org/10.13003/CED-terms-of-use     & create                                        & crossref                                      & 2017-06-01T16:00:56Z                          & references                                   \\\\\n",
       "\t https://doi.org/10.13003/CED-terms-of-use     & https://doi.org/10.5281/zenodo.24553          & 8676e950-8ac5-4074-8ac3-c0a18ada7e99          & 2016-03-15T00:00:00Z                          & https://doi.org/10.3897/zookeys.572.7177      & 38f43cf2-b2b9-4713-80c4-66b7e8f132f0          & https://doi.org/10.13003/CED-terms-of-use     & create                                        & crossref                                      & 2017-06-01T16:00:56Z                          & references                                   \\\\\n",
       "\t https://doi.org/10.13003/CED-terms-of-use     & https://doi.org/10.3886/ICPSR29282.v1         & 8676e950-8ac5-4074-8ac3-c0a18ada7e99          & 2015-09-01T00:00:00Z                          & https://doi.org/10.1177/1541931215591298      & 95f80e09-2698-4012-9f8b-8015070bdd8f          & https://doi.org/10.13003/CED-terms-of-use     & create                                        & crossref                                      & 2017-06-01T16:00:57Z                          & references                                   \\\\\n",
       "\t https://doi.org/10.13003/CED-terms-of-use     & https://doi.org/10.7916/D8VX0F48              & 8676e950-8ac5-4074-8ac3-c0a18ada7e99          & 2017-04-24T00:00:00Z                          & https://doi.org/10.3389/fnhum.2017.00198      & 208557f4-ba81-4bd8-9be5-da67e45b7a22          & https://doi.org/10.13003/CED-terms-of-use     & create                                        & crossref                                      & 2017-06-01T16:00:57Z                          & references                                   \\\\\n",
       "\t https://doi.org/10.13003/CED-terms-of-use     & https://doi.org/10.5277/EPE130205             & 8676e950-8ac5-4074-8ac3-c0a18ada7e99          & 2015-01-01T00:00:00Z                          & https://doi.org/10.1515/pjct-2015-0062        & 7c2309c4-c889-4193-9374-cb8a7ad9b425          & https://doi.org/10.13003/CED-terms-of-use     & create                                        & crossref                                      & 2017-06-01T16:00:58Z                          & references                                   \\\\\n",
       "\t https://doi.org/10.13003/CED-terms-of-use     & https://doi.org/10.5281/zenodo.23758          & 8676e950-8ac5-4074-8ac3-c0a18ada7e99          & 2017-03-27T00:00:00Z                          & https://doi.org/10.3897/zookeys.663.11554     & 11e0b222-78ad-4f29-b6ea-ebf9c8e4e2d2          & https://doi.org/10.13003/CED-terms-of-use     & create                                        & crossref                                      & 2017-06-01T16:00:58Z                          & references                                   \\\\\n",
       "\t https://doi.org/10.13003/CED-terms-of-use     & https://doi.org/10.5281/zenodo.23423          & 8676e950-8ac5-4074-8ac3-c0a18ada7e99          & 2017-01-30T00:00:00Z                          & https://doi.org/10.3897/zookeys.648.10935     & 24e8decd-0244-4f0a-b919-8dab0ed974e7          & https://doi.org/10.13003/CED-terms-of-use     & create                                        & crossref                                      & 2017-06-01T16:00:59Z                          & references                                   \\\\\n",
       "\t https://doi.org/10.13003/CED-terms-of-use     & https://doi.org/10.5681/bi.2012.022           & 8676e950-8ac5-4074-8ac3-c0a18ada7e99          & 2015-05-06T00:00:00Z                          & https://doi.org/10.3389/fnbeh.2015.00103      & 737c6ce8-3f45-4d92-b3e5-68574720169f          & https://doi.org/10.13003/CED-terms-of-use     & create                                        & crossref                                      & 2017-06-01T16:01:00Z                          & references                                   \\\\\n",
       "\t https://doi.org/10.13003/CED-terms-of-use     & https://doi.org/10.18433/J3G022               & 8676e950-8ac5-4074-8ac3-c0a18ada7e99          & 2017-04-05T00:00:00Z                          & https://doi.org/10.3390/ijms18040750          & 6aba08f7-5343-46f0-b1cb-892212d5731a          & https://doi.org/10.13003/CED-terms-of-use     & create                                        & crossref                                      & 2017-06-01T16:01:00Z                          & references                                   \\\\\n",
       "\t https://doi.org/10.13003/CED-terms-of-use     & https://doi.org/10.17886/EpiBull-2015-011.4   & 8676e950-8ac5-4074-8ac3-c0a18ada7e99          & 2016-06-30T00:00:00Z                          & https://doi.org/10.3390/ijerph13070650        & d6d20399-e31c-4939-b91e-ccac2609ece7          & https://doi.org/10.13003/CED-terms-of-use     & create                                        & crossref                                      & 2017-06-01T16:01:01Z                          & references                                   \\\\\n",
       "\t https://doi.org/10.13003/CED-terms-of-use     & https://doi.org/10.5195/jwsr.2003.236         & 8676e950-8ac5-4074-8ac3-c0a18ada7e99          & 2016-03-10T00:00:00Z                          & https://doi.org/10.3390/ijerph13030309        & d2f0c7ff-0c1c-4572-86d8-03ecb835db14          & https://doi.org/10.13003/CED-terms-of-use     & create                                        & crossref                                      & 2017-06-01T16:01:01Z                          & references                                   \\\\\n",
       "\t https://doi.org/10.13003/CED-terms-of-use     & https://doi.org/10.5681/joddd.2013.031        & 8676e950-8ac5-4074-8ac3-c0a18ada7e99          & 2015-01-01T00:00:00Z                          & https://doi.org/10.1515/pjct-2015-0047        & c27f6aef-98af-49df-8b30-e8c49d01ef5d          & https://doi.org/10.13003/CED-terms-of-use     & create                                        & crossref                                      & 2017-06-01T16:01:02Z                          & references                                   \\\\\n",
       "\t https://doi.org/10.13003/CED-terms-of-use     & https://doi.org/10.5073/vitis.2016.55.161-164 & 8676e950-8ac5-4074-8ac3-c0a18ada7e99          & 2017-01-23T00:00:00Z                          & https://doi.org/10.3897/zookeys.647.11098     & f8188032-56d6-4326-bdee-28c3428cfb03          & https://doi.org/10.13003/CED-terms-of-use     & create                                        & crossref                                      & 2017-06-01T16:01:03Z                          & references                                   \\\\\n",
       "\\end{tabular}\n",
       "\n",
       "\\end{description}\n",
       "\n",
       "\\end{description}\n"
      ],
      "text/markdown": [
       "$status\n",
       ":   'ok'\n",
       "$`message-type`\n",
       ":   'event-list'\n",
       "$message\n",
       ":   $`next-cursor`\n",
       ":   'f8188032-56d6-4326-bdee-28c3428cfb03'\n",
       "$`total-results`\n",
       ":   22450\n",
       "$`items-per-page`\n",
       ":   100\n",
       "$events\n",
       ":   \n",
       "license | obj_id | source_token | occurred_at | subj_id | id | terms | message_action | source_id | timestamp | relation_type_id | \n",
       "|---|---|---|---|---|---|---|---|---|---|---|---|---|---|---|---|---|---|---|---|---|---|---|---|---|---|---|---|---|---|---|---|---|---|---|---|---|---|---|---|---|---|---|---|---|---|---|---|---|---|---|---|---|---|---|---|---|---|---|---|---|\n",
       "| https://doi.org/10.13003/CED-terms-of-use            | https://doi.org/10.5281/zenodo.45923                 | 8676e950-8ac5-4074-8ac3-c0a18ada7e99                 | 2016-07-26T00:00:00Z                                 | https://doi.org/10.1080/17538947.2016.1205673        | ea6a12dc-3620-48db-af09-30d3bb499682                 | https://doi.org/10.13003/CED-terms-of-use            | create                                               | crossref                                             | 2017-06-01T15:31:02Z                                 | references                                           | \n",
       "| https://doi.org/10.13003/CED-terms-of-use            | https://doi.org/10.7916/D8HD7SV6                     | 8676e950-8ac5-4074-8ac3-c0a18ada7e99                 | 2016-09-28T00:00:00Z                                 | https://doi.org/10.3389/fnins.2016.00436             | 5037d604-6463-440f-aa0f-42fe07a968f2                 | https://doi.org/10.13003/CED-terms-of-use            | create                                               | crossref                                             | 2017-06-01T15:31:02Z                                 | references                                           | \n",
       "| https://doi.org/10.13003/CED-terms-of-use            | https://doi.org/10.5524/100111                       | 8676e950-8ac5-4074-8ac3-c0a18ada7e99                 | 2017-05-30T00:00:00Z                                 | https://doi.org/10.3389/fnins.2017.00302             | 01149fa7-9fe2-4d55-b1a2-bd3d39851496                 | https://doi.org/10.13003/CED-terms-of-use            | create                                               | crossref                                             | 2017-06-01T15:31:03Z                                 | references                                           | \n",
       "| https://doi.org/10.13003/CED-terms-of-use            | https://doi.org/10.13140/2.1.2938.5929.              | 8676e950-8ac5-4074-8ac3-c0a18ada7e99                 | 2017-03-07T00:00:00Z                                 | https://doi.org/10.3390/ijerph14030267               | dac7c4e7-0c7e-4e87-b562-4a36d99c01b7                 | https://doi.org/10.13003/CED-terms-of-use            | create                                               | crossref                                             | 2017-06-01T16:00:02Z                                 | references                                           | \n",
       "| https://doi.org/10.13003/CED-terms-of-use            | https://doi.org/10.2312/ceig.20151208                | 8676e950-8ac5-4074-8ac3-c0a18ada7e99                 | 2016-10-07T00:00:00Z                                 | https://doi.org/10.3389/fninf.2016.00044             | d8fe1a41-3a42-4421-a621-b1a5950149b2                 | https://doi.org/10.13003/CED-terms-of-use            | create                                               | crossref                                             | 2017-06-01T16:00:03Z                                 | references                                           | \n",
       "| https://doi.org/10.13003/CED-terms-of-use            | https://doi.org/10.2195/lj_Rev_sadowsky_en_201207_01 | 8676e950-8ac5-4074-8ac3-c0a18ada7e99                 | 2016-02-24T00:00:00Z                                 | https://doi.org/10.1007/s12159-016-0131-1            | 47566ec1-ec33-4f1e-b4a2-22fa4fead92f                 | https://doi.org/10.13003/CED-terms-of-use            | create                                               | crossref                                             | 2017-06-01T16:00:03Z                                 | references                                           | \n",
       "| https://doi.org/10.13003/CED-terms-of-use            | https://doi.org/10.11588/ijodr.2008.1.20             | 8676e950-8ac5-4074-8ac3-c0a18ada7e99                 | 2017-02-17T00:00:00Z                                 | https://doi.org/10.3389/fnhum.2017.00072             | 6186ca2e-98ba-47e5-a067-2ecebe81259f                 | https://doi.org/10.13003/CED-terms-of-use            | create                                               | crossref                                             | 2017-06-01T16:00:04Z                                 | references                                           | \n",
       "| https://doi.org/10.13003/CED-terms-of-use            | https://doi.org/10.3933/applrheol-22-32575           | 8676e950-8ac5-4074-8ac3-c0a18ada7e99                 | 2015-01-01T00:00:00Z                                 | https://doi.org/10.1155/2015/172862                  | 6c879bab-ade8-4b5b-985d-b2911e943b16                 | https://doi.org/10.13003/CED-terms-of-use            | create                                               | crossref                                             | 2017-06-01T16:00:05Z                                 | references                                           | \n",
       "| https://doi.org/10.13003/CED-terms-of-use            | https://doi.org/10.5281/zenodo.23670                 | 8676e950-8ac5-4074-8ac3-c0a18ada7e99                 | 2017-01-30T00:00:00Z                                 | https://doi.org/10.3897/zookeys.648.10935            | 5061a66c-056f-46ee-a88a-d5d1afcdcfb2                 | https://doi.org/10.13003/CED-terms-of-use            | create                                               | crossref                                             | 2017-06-01T16:00:05Z                                 | references                                           | \n",
       "| https://doi.org/10.13003/CED-terms-of-use            | https://doi.org/10.5065/D6WD3XH5                     | 8676e950-8ac5-4074-8ac3-c0a18ada7e99                 | 2017-01-01T00:00:00Z                                 | https://doi.org/10.1007/s12517-016-2784-0            | 6ad8d2b0-e40c-4ba4-8a21-51a732806b97                 | https://doi.org/10.13003/CED-terms-of-use            | create                                               | crossref                                             | 2017-06-01T16:00:06Z                                 | references                                           | \n",
       "| https://doi.org/10.13003/CED-terms-of-use            | https://doi.org/10.2312/GFZ.gt.17.16                 | 8676e950-8ac5-4074-8ac3-c0a18ada7e99                 | 2016-04-26T00:00:00Z                                 | https://doi.org/10.1007/s12517-016-2393-y            | 37c9aef3-8dfb-41d7-b7f5-239ae3d0c495                 | https://doi.org/10.13003/CED-terms-of-use            | create                                               | crossref                                             | 2017-06-01T16:00:07Z                                 | references                                           | \n",
       "| https://doi.org/10.13003/CED-terms-of-use            | https://doi.org/10.5277/ord120303                    | 8676e950-8ac5-4074-8ac3-c0a18ada7e99                 | 2015-01-01T00:00:00Z                                 | https://doi.org/10.1515/foli-2015-0033               | ce775d4a-315a-4935-b8c7-baf627ddd3bc                 | https://doi.org/10.13003/CED-terms-of-use            | create                                               | crossref                                             | 2017-06-01T16:00:08Z                                 | references                                           | \n",
       "| https://doi.org/10.13003/CED-terms-of-use            | https://doi.org/10.5281/zenodo.23706                 | 8676e950-8ac5-4074-8ac3-c0a18ada7e99                 | 2017-01-30T00:00:00Z                                 | https://doi.org/10.3897/zookeys.648.10935            | 11d5f9c0-747c-42f5-93c0-69112c42643a                 | https://doi.org/10.13003/CED-terms-of-use            | create                                               | crossref                                             | 2017-06-01T16:00:08Z                                 | references                                           | \n",
       "| https://doi.org/10.13003/CED-terms-of-use            | https://doi.org/10.5281/zenodo.23772                 | 8676e950-8ac5-4074-8ac3-c0a18ada7e99                 | 2017-01-30T00:00:00Z                                 | https://doi.org/10.3897/zookeys.648.10935            | 9da43a9f-12ca-4b6b-82fb-f2a0d793fd7f                 | https://doi.org/10.13003/CED-terms-of-use            | create                                               | crossref                                             | 2017-06-01T16:00:09Z                                 | references                                           | \n",
       "| https://doi.org/10.13003/CED-terms-of-use            | https://doi.org/10.5167/uzh-50780                    | 8676e950-8ac5-4074-8ac3-c0a18ada7e99                 | 2014-06-20T00:00:00Z                                 | https://doi.org/10.3390/ijerph110606472              | 0b362064-d71b-485f-bb7b-e27093a0a837                 | https://doi.org/10.13003/CED-terms-of-use            | create                                               | crossref                                             | 2017-06-01T16:00:10Z                                 | references                                           | \n",
       "| https://doi.org/10.13003/CED-terms-of-use            | https://doi.org/10.5061/dryad.mr221                  | 8676e950-8ac5-4074-8ac3-c0a18ada7e99                 | 2016-09-26T00:00:00Z                                 | https://doi.org/10.3897/zookeys.618.9986             | 192f29c3-7292-4879-a034-09e2617d4ec0                 | https://doi.org/10.13003/CED-terms-of-use            | create                                               | crossref                                             | 2017-06-01T16:00:11Z                                 | references                                           | \n",
       "| https://doi.org/10.13003/CED-terms-of-use            | https://doi.org/10.5281/zenodo.23616                 | 8676e950-8ac5-4074-8ac3-c0a18ada7e99                 | 2017-01-30T00:00:00Z                                 | https://doi.org/10.3897/zookeys.648.10935            | 2aa5aedd-5b53-4ca9-aacf-eb847f7832a2                 | https://doi.org/10.13003/CED-terms-of-use            | create                                               | crossref                                             | 2017-06-01T16:00:12Z                                 | references                                           | \n",
       "| https://doi.org/10.13003/CED-terms-of-use            | https://doi.org/10.5281/zenodo.16303                 | 8676e950-8ac5-4074-8ac3-c0a18ada7e99                 | 2017-04-20T00:00:00Z                                 | https://doi.org/10.3389/fncom.2017.00021             | 0f3c2f10-fdfc-4848-8e21-713d2eb6aafd                 | https://doi.org/10.13003/CED-terms-of-use            | create                                               | crossref                                             | 2017-06-01T16:00:12Z                                 | references                                           | \n",
       "| https://doi.org/10.13003/CED-terms-of-use            | https://doi.org/10.3929/ethz-a-000585900             | 8676e950-8ac5-4074-8ac3-c0a18ada7e99                 | 2013-07-01T00:00:00Z                                 | https://doi.org/10.3832/ifor0099-006                 | eba6f420-de2e-4a60-ac84-c8bcfd91c76c                 | https://doi.org/10.13003/CED-terms-of-use            | create                                               | crossref                                             | 2017-06-01T16:00:13Z                                 | references                                           | \n",
       "| https://doi.org/10.13003/CED-terms-of-use            | https://doi.org/10.5281/zenodo.259534                | 8676e950-8ac5-4074-8ac3-c0a18ada7e99                 | 2017-05-16T00:00:00Z                                 | https://doi.org/10.3389/fninf.2017.00030             | e3992538-f96a-421e-9ac5-f6d6585f66b2                 | https://doi.org/10.13003/CED-terms-of-use            | create                                               | crossref                                             | 2017-06-01T16:00:13Z                                 | references                                           | \n",
       "| https://doi.org/10.13003/CED-terms-of-use            | https://doi.org/10.15779/Z38F35Q                     | 8676e950-8ac5-4074-8ac3-c0a18ada7e99                 | 2017-01-18T00:00:00Z                                 | https://doi.org/10.1080/02508060.2017.1276040        | fea5b384-ecc2-48b9-92c8-1176991a450e                 | https://doi.org/10.13003/CED-terms-of-use            | create                                               | crossref                                             | 2017-06-01T16:00:14Z                                 | references                                           | \n",
       "| https://doi.org/10.13003/CED-terms-of-use            | https://doi.org/10.5277/abb140204                    | 8676e950-8ac5-4074-8ac3-c0a18ada7e99                 | 2015-01-01T00:00:00Z                                 | https://doi.org/10.1515/humo-2015-0050               | b65b07e6-0d88-452b-9e2c-df0253ca5ebd                 | https://doi.org/10.13003/CED-terms-of-use            | create                                               | crossref                                             | 2017-06-01T16:00:15Z                                 | references                                           | \n",
       "| https://doi.org/10.13003/CED-terms-of-use            | https://doi.org/10.5281/zenodo.274214                | 8676e950-8ac5-4074-8ac3-c0a18ada7e99                 | 2017-05-02T00:00:00Z                                 | https://doi.org/10.3390/s17051003                    | 373ba603-9e02-45ab-a0cc-c79cb1a7e6f1                 | https://doi.org/10.13003/CED-terms-of-use            | create                                               | crossref                                             | 2017-06-01T16:00:15Z                                 | references                                           | \n",
       "| https://doi.org/10.13003/CED-terms-of-use            | https://doi.org/10.18433/J3P306                      | 8676e950-8ac5-4074-8ac3-c0a18ada7e99                 | 2017-05-21T00:00:00Z                                 | https://doi.org/10.3390/ijms18051104                 | 3761347e-1562-4dcc-938d-496685d836c4                 | https://doi.org/10.13003/CED-terms-of-use            | create                                               | crossref                                             | 2017-06-01T16:00:16Z                                 | references                                           | \n",
       "| https://doi.org/10.13003/CED-terms-of-use            | https://doi.org/10.13128/Aestimum-7251               | 8676e950-8ac5-4074-8ac3-c0a18ada7e99                 | 2016-12-20T00:00:00Z                                 | https://doi.org/10.3846/bjrbe.2016.30                | 3634fa8f-e7a9-4779-9a1d-4a22102eb56f                 | https://doi.org/10.13003/CED-terms-of-use            | create                                               | crossref                                             | 2017-06-01T16:00:16Z                                 | references                                           | \n",
       "| https://doi.org/10.13003/CED-terms-of-use            | https://doi.org/10.7910/DVN/26910                    | 8676e950-8ac5-4074-8ac3-c0a18ada7e99                 | 2017-01-07T00:00:00Z                                 | https://doi.org/10.1186/s13104-016-2340-8            | e8a17aaf-b07b-4394-b9de-37e3014a7fa6                 | https://doi.org/10.13003/CED-terms-of-use            | create                                               | crossref                                             | 2017-06-01T16:00:17Z                                 | references                                           | \n",
       "| https://doi.org/10.13003/CED-terms-of-use            | https://doi.org/10.5061/dryad.234                    | 8676e950-8ac5-4074-8ac3-c0a18ada7e99                 | 2013-09-17T00:00:00Z                                 | https://doi.org/10.1080/17550874.2013.820806         | a67d5448-8476-4eb4-b75c-299d061711ea                 | https://doi.org/10.13003/CED-terms-of-use            | create                                               | crossref                                             | 2017-06-01T16:00:17Z                                 | references                                           | \n",
       "| https://doi.org/10.13003/CED-terms-of-use            | https://doi.org/10.5281/zenodo.185858                | 8676e950-8ac5-4074-8ac3-c0a18ada7e99                 | 2017-04-21T00:00:00Z                                 | https://doi.org/10.3897/zookeys.669.12245            | fc264885-7b0e-4adf-9db4-44d8798fbfc8                 | https://doi.org/10.13003/CED-terms-of-use            | create                                               | crossref                                             | 2017-06-01T16:00:18Z                                 | references                                           | \n",
       "| https://doi.org/10.13003/CED-terms-of-use            | https://doi.org/10.5170/CERN-2013-004                | 8676e950-8ac5-4074-8ac3-c0a18ada7e99                 | 2015-05-14T00:00:00Z                                 | https://doi.org/10.1103/Physics.8.45                 | 209d7b90-f937-46ec-9c42-09baf7bbd8e6                 | https://doi.org/10.13003/CED-terms-of-use            | create                                               | crossref                                             | 2017-06-01T16:00:18Z                                 | references                                           | \n",
       "| https://doi.org/10.13003/CED-terms-of-use            | https://doi.org/10.5277/epe120208                    | 8676e950-8ac5-4074-8ac3-c0a18ada7e99                 | 2016-01-01T00:00:00Z                                 | https://doi.org/10.1515/pjct-2016-0071               | 3403ba94-f946-47f1-91ce-ca868bc6e2a5                 | https://doi.org/10.13003/CED-terms-of-use            | create                                               | crossref                                             | 2017-06-01T16:00:19Z                                 | references                                           | \n",
       "| ⋮ | ⋮ | ⋮ | ⋮ | ⋮ | ⋮ | ⋮ | ⋮ | ⋮ | ⋮ | ⋮ | \n",
       "| https://doi.org/10.13003/CED-terms-of-use     | https://doi.org/10.5281/zenodo.23429          | 8676e950-8ac5-4074-8ac3-c0a18ada7e99          | 2017-01-30T00:00:00Z                          | https://doi.org/10.3897/zookeys.648.10935     | 153f1643-21ad-4a14-90b9-158b6fc2cb0e          | https://doi.org/10.13003/CED-terms-of-use     | create                                        | crossref                                      | 2017-06-01T16:00:46Z                          | references                                    | \n",
       "| https://doi.org/10.13003/CED-terms-of-use     | https://doi.org/10.5281/zenodo.32969          | 8676e950-8ac5-4074-8ac3-c0a18ada7e99          | 2016-05-26T00:00:00Z                          | https://doi.org/10.3389/fnana.2016.00057      | 01d18d77-d567-4ec6-b30e-8516de9449f0          | https://doi.org/10.13003/CED-terms-of-use     | create                                        | crossref                                      | 2017-06-01T16:00:46Z                          | references                                    | \n",
       "| https://doi.org/10.13003/CED-terms-of-use     | https://doi.org/10.18433/J32K5B               | 8676e950-8ac5-4074-8ac3-c0a18ada7e99          | 2016-08-01T00:00:00Z                          | https://doi.org/10.3390/ijms17081242          | 987efc8f-5e0e-485d-b42e-2764aa8fdecf          | https://doi.org/10.13003/CED-terms-of-use     | create                                        | crossref                                      | 2017-06-01T16:00:47Z                          | references                                    | \n",
       "| https://doi.org/10.13003/CED-terms-of-use     | https://doi.org/10.5281/zenodo.23716          | 8676e950-8ac5-4074-8ac3-c0a18ada7e99          | 2017-01-30T00:00:00Z                          | https://doi.org/10.3897/zookeys.648.10935     | 82b50d00-1eea-4f0b-973b-34bbdd68bf73          | https://doi.org/10.13003/CED-terms-of-use     | create                                        | crossref                                      | 2017-06-01T16:00:48Z                          | references                                    | \n",
       "| https://doi.org/10.13003/CED-terms-of-use     | https://doi.org/10.5281/zenodo.27878          | 8676e950-8ac5-4074-8ac3-c0a18ada7e99          | 2016-12-20T00:00:00Z                          | https://doi.org/10.3389/fncom.2016.00130      | 0c433cd8-ccae-4a09-86a1-f56dc85ec25b          | https://doi.org/10.13003/CED-terms-of-use     | create                                        | crossref                                      | 2017-06-01T16:00:48Z                          | references                                    | \n",
       "| https://doi.org/10.13003/CED-terms-of-use     | https://doi.org/10.5886/y2bbsq5               | 8676e950-8ac5-4074-8ac3-c0a18ada7e99          | 2016-09-26T00:00:00Z                          | https://doi.org/10.3897/zookeys.618.9986      | ad5eafe5-de46-412e-ac40-1f292d8b0851          | https://doi.org/10.13003/CED-terms-of-use     | create                                        | crossref                                      | 2017-06-01T16:00:49Z                          | references                                    | \n",
       "| https://doi.org/10.13003/CED-terms-of-use     | https://doi.org/10.5281/zenodo.345413         | 8676e950-8ac5-4074-8ac3-c0a18ada7e99          | 2017-03-20T00:00:00Z                          | https://doi.org/10.3389/fncom.2017.00016      | 554356dd-7a03-40ba-99f9-2bb55b9ee2f6          | https://doi.org/10.13003/CED-terms-of-use     | create                                        | crossref                                      | 2017-06-01T16:00:49Z                          | references                                    | \n",
       "| https://doi.org/10.13003/CED-terms-of-use     | https://doi.org/10.3334/CDIAC/00001_V2011     | 8676e950-8ac5-4074-8ac3-c0a18ada7e99          | 2016-09-26T00:00:00Z                          | https://doi.org/10.1080/13504509.2016.1238021 | 3110b299-616a-41bd-8fdc-bca6fe90e919          | https://doi.org/10.13003/CED-terms-of-use     | create                                        | crossref                                      | 2017-06-01T16:00:50Z                          | references                                    | \n",
       "| https://doi.org/10.13003/CED-terms-of-use     | https://doi.org/10.6092/1970-9870/2501        | 8676e950-8ac5-4074-8ac3-c0a18ada7e99          | 2016-10-25T00:00:00Z                          | https://doi.org/10.1007/s40558-016-0066-z     | 2df91e29-eea2-435a-80c3-662667d606a8          | https://doi.org/10.13003/CED-terms-of-use     | create                                        | crossref                                      | 2017-06-01T16:00:50Z                          | references                                    | \n",
       "| https://doi.org/10.13003/CED-terms-of-use     | https://doi.org/10.5684/soep.v27              | 8676e950-8ac5-4074-8ac3-c0a18ada7e99          | 2017-02-16T00:00:00Z                          | https://doi.org/10.1007/s12208-017-0174-2     | a5d4eb10-9297-4799-8569-3ca8935d7ee4          | https://doi.org/10.13003/CED-terms-of-use     | create                                        | crossref                                      | 2017-06-01T16:00:51Z                          | references                                    | \n",
       "| https://doi.org/10.13003/CED-terms-of-use     | https://doi.org/10.2312/SBM/SBM12/001-010     | 8676e950-8ac5-4074-8ac3-c0a18ada7e99          | 2017-03-01T00:00:00Z                          | https://doi.org/10.1007/s12517-017-2930-3     | fe0d00fa-ea9c-447f-841c-8aaf42dd63ac          | https://doi.org/10.13003/CED-terms-of-use     | create                                        | crossref                                      | 2017-06-01T16:00:52Z                          | references                                    | \n",
       "| https://doi.org/10.13003/CED-terms-of-use     | https://doi.org/10.5281/zenodo.44222          | 8676e950-8ac5-4074-8ac3-c0a18ada7e99          | 2017-05-24T00:00:00Z                          | https://doi.org/10.3389/fninf.2017.00034      | 8723815a-73e3-43cf-964c-bd2e377798b7          | https://doi.org/10.13003/CED-terms-of-use     | create                                        | crossref                                      | 2017-06-01T16:00:52Z                          | references                                    | \n",
       "| https://doi.org/10.13003/CED-terms-of-use     | https://doi.org/10.5281/zenodo.23683          | 8676e950-8ac5-4074-8ac3-c0a18ada7e99          | 2017-01-30T00:00:00Z                          | https://doi.org/10.3897/zookeys.648.10935     | 6b2e4206-4b82-4e2b-b84b-82fea0ec5a59          | https://doi.org/10.13003/CED-terms-of-use     | create                                        | crossref                                      | 2017-06-01T16:00:53Z                          | references                                    | \n",
       "| https://doi.org/10.13003/CED-terms-of-use     | https://doi.org/10.6092/unibo/amsacta/5401    | 8676e950-8ac5-4074-8ac3-c0a18ada7e99          | 2016-01-01T00:00:00Z                          | https://doi.org/10.1155/2016/9349627          | 624caeee-310c-4aa5-b3e7-aac114427368          | https://doi.org/10.13003/CED-terms-of-use     | create                                        | crossref                                      | 2017-06-01T16:00:53Z                          | references                                    | \n",
       "| https://doi.org/10.13003/CED-terms-of-use     | https://doi.org/10.18433/J3TP4T               | 8676e950-8ac5-4074-8ac3-c0a18ada7e99          | 2016-09-14T00:00:00Z                          | https://doi.org/10.1007/s12029-016-9871-z     | 8a85e5c7-5e2c-497c-a577-6b35375871c6          | https://doi.org/10.13003/CED-terms-of-use     | create                                        | crossref                                      | 2017-06-01T16:00:54Z                          | references                                    | \n",
       "| https://doi.org/10.13003/CED-terms-of-use     | https://doi.org/10.5281/zenodo.23689          | 8676e950-8ac5-4074-8ac3-c0a18ada7e99          | 2017-01-30T00:00:00Z                          | https://doi.org/10.3897/zookeys.648.10935     | 990880e7-39de-4510-b177-f46199d97287          | https://doi.org/10.13003/CED-terms-of-use     | create                                        | crossref                                      | 2017-06-01T16:00:55Z                          | references                                    | \n",
       "| https://doi.org/10.13003/CED-terms-of-use     | https://doi.org/10.5281/zenodo.23553          | 8676e950-8ac5-4074-8ac3-c0a18ada7e99          | 2017-01-30T00:00:00Z                          | https://doi.org/10.3897/zookeys.648.10935     | 5024ae40-9ceb-47d4-89aa-df51c9ba7ce0          | https://doi.org/10.13003/CED-terms-of-use     | create                                        | crossref                                      | 2017-06-01T16:00:55Z                          | references                                    | \n",
       "| https://doi.org/10.13003/CED-terms-of-use     | https://doi.org/10.18433/J3W595               | 8676e950-8ac5-4074-8ac3-c0a18ada7e99          | 2016-08-04T00:00:00Z                          | https://doi.org/10.3389/fncel.2016.00192      | 4ee1812c-ae27-4f96-a1ff-6ee89e96ef70          | https://doi.org/10.13003/CED-terms-of-use     | create                                        | crossref                                      | 2017-06-01T16:00:56Z                          | references                                    | \n",
       "| https://doi.org/10.13003/CED-terms-of-use     | https://doi.org/10.5281/zenodo.24553          | 8676e950-8ac5-4074-8ac3-c0a18ada7e99          | 2016-03-15T00:00:00Z                          | https://doi.org/10.3897/zookeys.572.7177      | 38f43cf2-b2b9-4713-80c4-66b7e8f132f0          | https://doi.org/10.13003/CED-terms-of-use     | create                                        | crossref                                      | 2017-06-01T16:00:56Z                          | references                                    | \n",
       "| https://doi.org/10.13003/CED-terms-of-use     | https://doi.org/10.3886/ICPSR29282.v1         | 8676e950-8ac5-4074-8ac3-c0a18ada7e99          | 2015-09-01T00:00:00Z                          | https://doi.org/10.1177/1541931215591298      | 95f80e09-2698-4012-9f8b-8015070bdd8f          | https://doi.org/10.13003/CED-terms-of-use     | create                                        | crossref                                      | 2017-06-01T16:00:57Z                          | references                                    | \n",
       "| https://doi.org/10.13003/CED-terms-of-use     | https://doi.org/10.7916/D8VX0F48              | 8676e950-8ac5-4074-8ac3-c0a18ada7e99          | 2017-04-24T00:00:00Z                          | https://doi.org/10.3389/fnhum.2017.00198      | 208557f4-ba81-4bd8-9be5-da67e45b7a22          | https://doi.org/10.13003/CED-terms-of-use     | create                                        | crossref                                      | 2017-06-01T16:00:57Z                          | references                                    | \n",
       "| https://doi.org/10.13003/CED-terms-of-use     | https://doi.org/10.5277/EPE130205             | 8676e950-8ac5-4074-8ac3-c0a18ada7e99          | 2015-01-01T00:00:00Z                          | https://doi.org/10.1515/pjct-2015-0062        | 7c2309c4-c889-4193-9374-cb8a7ad9b425          | https://doi.org/10.13003/CED-terms-of-use     | create                                        | crossref                                      | 2017-06-01T16:00:58Z                          | references                                    | \n",
       "| https://doi.org/10.13003/CED-terms-of-use     | https://doi.org/10.5281/zenodo.23758          | 8676e950-8ac5-4074-8ac3-c0a18ada7e99          | 2017-03-27T00:00:00Z                          | https://doi.org/10.3897/zookeys.663.11554     | 11e0b222-78ad-4f29-b6ea-ebf9c8e4e2d2          | https://doi.org/10.13003/CED-terms-of-use     | create                                        | crossref                                      | 2017-06-01T16:00:58Z                          | references                                    | \n",
       "| https://doi.org/10.13003/CED-terms-of-use     | https://doi.org/10.5281/zenodo.23423          | 8676e950-8ac5-4074-8ac3-c0a18ada7e99          | 2017-01-30T00:00:00Z                          | https://doi.org/10.3897/zookeys.648.10935     | 24e8decd-0244-4f0a-b919-8dab0ed974e7          | https://doi.org/10.13003/CED-terms-of-use     | create                                        | crossref                                      | 2017-06-01T16:00:59Z                          | references                                    | \n",
       "| https://doi.org/10.13003/CED-terms-of-use     | https://doi.org/10.5681/bi.2012.022           | 8676e950-8ac5-4074-8ac3-c0a18ada7e99          | 2015-05-06T00:00:00Z                          | https://doi.org/10.3389/fnbeh.2015.00103      | 737c6ce8-3f45-4d92-b3e5-68574720169f          | https://doi.org/10.13003/CED-terms-of-use     | create                                        | crossref                                      | 2017-06-01T16:01:00Z                          | references                                    | \n",
       "| https://doi.org/10.13003/CED-terms-of-use     | https://doi.org/10.18433/J3G022               | 8676e950-8ac5-4074-8ac3-c0a18ada7e99          | 2017-04-05T00:00:00Z                          | https://doi.org/10.3390/ijms18040750          | 6aba08f7-5343-46f0-b1cb-892212d5731a          | https://doi.org/10.13003/CED-terms-of-use     | create                                        | crossref                                      | 2017-06-01T16:01:00Z                          | references                                    | \n",
       "| https://doi.org/10.13003/CED-terms-of-use     | https://doi.org/10.17886/EpiBull-2015-011.4   | 8676e950-8ac5-4074-8ac3-c0a18ada7e99          | 2016-06-30T00:00:00Z                          | https://doi.org/10.3390/ijerph13070650        | d6d20399-e31c-4939-b91e-ccac2609ece7          | https://doi.org/10.13003/CED-terms-of-use     | create                                        | crossref                                      | 2017-06-01T16:01:01Z                          | references                                    | \n",
       "| https://doi.org/10.13003/CED-terms-of-use     | https://doi.org/10.5195/jwsr.2003.236         | 8676e950-8ac5-4074-8ac3-c0a18ada7e99          | 2016-03-10T00:00:00Z                          | https://doi.org/10.3390/ijerph13030309        | d2f0c7ff-0c1c-4572-86d8-03ecb835db14          | https://doi.org/10.13003/CED-terms-of-use     | create                                        | crossref                                      | 2017-06-01T16:01:01Z                          | references                                    | \n",
       "| https://doi.org/10.13003/CED-terms-of-use     | https://doi.org/10.5681/joddd.2013.031        | 8676e950-8ac5-4074-8ac3-c0a18ada7e99          | 2015-01-01T00:00:00Z                          | https://doi.org/10.1515/pjct-2015-0047        | c27f6aef-98af-49df-8b30-e8c49d01ef5d          | https://doi.org/10.13003/CED-terms-of-use     | create                                        | crossref                                      | 2017-06-01T16:01:02Z                          | references                                    | \n",
       "| https://doi.org/10.13003/CED-terms-of-use     | https://doi.org/10.5073/vitis.2016.55.161-164 | 8676e950-8ac5-4074-8ac3-c0a18ada7e99          | 2017-01-23T00:00:00Z                          | https://doi.org/10.3897/zookeys.647.11098     | f8188032-56d6-4326-bdee-28c3428cfb03          | https://doi.org/10.13003/CED-terms-of-use     | create                                        | crossref                                      | 2017-06-01T16:01:03Z                          | references                                    | \n",
       "\n",
       "\n",
       "\n",
       "\n",
       "\n",
       "\n",
       "\n",
       "\n"
      ],
      "text/plain": [
       "$status\n",
       "[1] \"ok\"\n",
       "\n",
       "$`message-type`\n",
       "[1] \"event-list\"\n",
       "\n",
       "$message\n",
       "$message$`next-cursor`\n",
       "[1] \"f8188032-56d6-4326-bdee-28c3428cfb03\"\n",
       "\n",
       "$message$`total-results`\n",
       "[1] 22450\n",
       "\n",
       "$message$`items-per-page`\n",
       "[1] 100\n",
       "\n",
       "$message$events\n",
       "                                      license\n",
       "1   https://doi.org/10.13003/CED-terms-of-use\n",
       "2   https://doi.org/10.13003/CED-terms-of-use\n",
       "3   https://doi.org/10.13003/CED-terms-of-use\n",
       "4   https://doi.org/10.13003/CED-terms-of-use\n",
       "5   https://doi.org/10.13003/CED-terms-of-use\n",
       "6   https://doi.org/10.13003/CED-terms-of-use\n",
       "7   https://doi.org/10.13003/CED-terms-of-use\n",
       "8   https://doi.org/10.13003/CED-terms-of-use\n",
       "9   https://doi.org/10.13003/CED-terms-of-use\n",
       "10  https://doi.org/10.13003/CED-terms-of-use\n",
       "11  https://doi.org/10.13003/CED-terms-of-use\n",
       "12  https://doi.org/10.13003/CED-terms-of-use\n",
       "13  https://doi.org/10.13003/CED-terms-of-use\n",
       "14  https://doi.org/10.13003/CED-terms-of-use\n",
       "15  https://doi.org/10.13003/CED-terms-of-use\n",
       "16  https://doi.org/10.13003/CED-terms-of-use\n",
       "17  https://doi.org/10.13003/CED-terms-of-use\n",
       "18  https://doi.org/10.13003/CED-terms-of-use\n",
       "19  https://doi.org/10.13003/CED-terms-of-use\n",
       "20  https://doi.org/10.13003/CED-terms-of-use\n",
       "21  https://doi.org/10.13003/CED-terms-of-use\n",
       "22  https://doi.org/10.13003/CED-terms-of-use\n",
       "23  https://doi.org/10.13003/CED-terms-of-use\n",
       "24  https://doi.org/10.13003/CED-terms-of-use\n",
       "25  https://doi.org/10.13003/CED-terms-of-use\n",
       "26  https://doi.org/10.13003/CED-terms-of-use\n",
       "27  https://doi.org/10.13003/CED-terms-of-use\n",
       "28  https://doi.org/10.13003/CED-terms-of-use\n",
       "29  https://doi.org/10.13003/CED-terms-of-use\n",
       "30  https://doi.org/10.13003/CED-terms-of-use\n",
       "31  https://doi.org/10.13003/CED-terms-of-use\n",
       "32  https://doi.org/10.13003/CED-terms-of-use\n",
       "33  https://doi.org/10.13003/CED-terms-of-use\n",
       "34  https://doi.org/10.13003/CED-terms-of-use\n",
       "35  https://doi.org/10.13003/CED-terms-of-use\n",
       "36  https://doi.org/10.13003/CED-terms-of-use\n",
       "37  https://doi.org/10.13003/CED-terms-of-use\n",
       "38  https://doi.org/10.13003/CED-terms-of-use\n",
       "39  https://doi.org/10.13003/CED-terms-of-use\n",
       "40  https://doi.org/10.13003/CED-terms-of-use\n",
       "41  https://doi.org/10.13003/CED-terms-of-use\n",
       "42  https://doi.org/10.13003/CED-terms-of-use\n",
       "43  https://doi.org/10.13003/CED-terms-of-use\n",
       "44  https://doi.org/10.13003/CED-terms-of-use\n",
       "45  https://doi.org/10.13003/CED-terms-of-use\n",
       "46  https://doi.org/10.13003/CED-terms-of-use\n",
       "47  https://doi.org/10.13003/CED-terms-of-use\n",
       "48  https://doi.org/10.13003/CED-terms-of-use\n",
       "49  https://doi.org/10.13003/CED-terms-of-use\n",
       "50  https://doi.org/10.13003/CED-terms-of-use\n",
       "51  https://doi.org/10.13003/CED-terms-of-use\n",
       "52  https://doi.org/10.13003/CED-terms-of-use\n",
       "53  https://doi.org/10.13003/CED-terms-of-use\n",
       "54  https://doi.org/10.13003/CED-terms-of-use\n",
       "55  https://doi.org/10.13003/CED-terms-of-use\n",
       "56  https://doi.org/10.13003/CED-terms-of-use\n",
       "57  https://doi.org/10.13003/CED-terms-of-use\n",
       "58  https://doi.org/10.13003/CED-terms-of-use\n",
       "59  https://doi.org/10.13003/CED-terms-of-use\n",
       "60  https://doi.org/10.13003/CED-terms-of-use\n",
       "61  https://doi.org/10.13003/CED-terms-of-use\n",
       "62  https://doi.org/10.13003/CED-terms-of-use\n",
       "63  https://doi.org/10.13003/CED-terms-of-use\n",
       "64  https://doi.org/10.13003/CED-terms-of-use\n",
       "65  https://doi.org/10.13003/CED-terms-of-use\n",
       "66  https://doi.org/10.13003/CED-terms-of-use\n",
       "67  https://doi.org/10.13003/CED-terms-of-use\n",
       "68  https://doi.org/10.13003/CED-terms-of-use\n",
       "69  https://doi.org/10.13003/CED-terms-of-use\n",
       "70  https://doi.org/10.13003/CED-terms-of-use\n",
       "71  https://doi.org/10.13003/CED-terms-of-use\n",
       "72  https://doi.org/10.13003/CED-terms-of-use\n",
       "73  https://doi.org/10.13003/CED-terms-of-use\n",
       "74  https://doi.org/10.13003/CED-terms-of-use\n",
       "75  https://doi.org/10.13003/CED-terms-of-use\n",
       "76  https://doi.org/10.13003/CED-terms-of-use\n",
       "77  https://doi.org/10.13003/CED-terms-of-use\n",
       "78  https://doi.org/10.13003/CED-terms-of-use\n",
       "79  https://doi.org/10.13003/CED-terms-of-use\n",
       "80  https://doi.org/10.13003/CED-terms-of-use\n",
       "81  https://doi.org/10.13003/CED-terms-of-use\n",
       "82  https://doi.org/10.13003/CED-terms-of-use\n",
       "83  https://doi.org/10.13003/CED-terms-of-use\n",
       "84  https://doi.org/10.13003/CED-terms-of-use\n",
       "85  https://doi.org/10.13003/CED-terms-of-use\n",
       "86  https://doi.org/10.13003/CED-terms-of-use\n",
       "87  https://doi.org/10.13003/CED-terms-of-use\n",
       "88  https://doi.org/10.13003/CED-terms-of-use\n",
       "89  https://doi.org/10.13003/CED-terms-of-use\n",
       "90  https://doi.org/10.13003/CED-terms-of-use\n",
       "91  https://doi.org/10.13003/CED-terms-of-use\n",
       "92  https://doi.org/10.13003/CED-terms-of-use\n",
       "93  https://doi.org/10.13003/CED-terms-of-use\n",
       "94  https://doi.org/10.13003/CED-terms-of-use\n",
       "95  https://doi.org/10.13003/CED-terms-of-use\n",
       "96  https://doi.org/10.13003/CED-terms-of-use\n",
       "97  https://doi.org/10.13003/CED-terms-of-use\n",
       "98  https://doi.org/10.13003/CED-terms-of-use\n",
       "99  https://doi.org/10.13003/CED-terms-of-use\n",
       "100 https://doi.org/10.13003/CED-terms-of-use\n",
       "                                                   obj_id\n",
       "1                    https://doi.org/10.5281/zenodo.45923\n",
       "2                        https://doi.org/10.7916/D8HD7SV6\n",
       "3                          https://doi.org/10.5524/100111\n",
       "4                 https://doi.org/10.13140/2.1.2938.5929.\n",
       "5                   https://doi.org/10.2312/ceig.20151208\n",
       "6    https://doi.org/10.2195/lj_Rev_sadowsky_en_201207_01\n",
       "7                https://doi.org/10.11588/ijodr.2008.1.20\n",
       "8              https://doi.org/10.3933/applrheol-22-32575\n",
       "9                    https://doi.org/10.5281/zenodo.23670\n",
       "10                       https://doi.org/10.5065/D6WD3XH5\n",
       "11                   https://doi.org/10.2312/GFZ.gt.17.16\n",
       "12                      https://doi.org/10.5277/ord120303\n",
       "13                   https://doi.org/10.5281/zenodo.23706\n",
       "14                   https://doi.org/10.5281/zenodo.23772\n",
       "15                      https://doi.org/10.5167/uzh-50780\n",
       "16                    https://doi.org/10.5061/dryad.mr221\n",
       "17                   https://doi.org/10.5281/zenodo.23616\n",
       "18                   https://doi.org/10.5281/zenodo.16303\n",
       "19               https://doi.org/10.3929/ethz-a-000585900\n",
       "20                  https://doi.org/10.5281/zenodo.259534\n",
       "21                       https://doi.org/10.15779/Z38F35Q\n",
       "22                      https://doi.org/10.5277/abb140204\n",
       "23                  https://doi.org/10.5281/zenodo.274214\n",
       "24                        https://doi.org/10.18433/J3P306\n",
       "25                 https://doi.org/10.13128/Aestimum-7251\n",
       "26                      https://doi.org/10.7910/DVN/26910\n",
       "27                      https://doi.org/10.5061/dryad.234\n",
       "28                  https://doi.org/10.5281/zenodo.185858\n",
       "29                  https://doi.org/10.5170/CERN-2013-004\n",
       "30                      https://doi.org/10.5277/epe120208\n",
       "31               https://doi.org/10.18454/IRJ.2016.43.039\n",
       "32            https://doi.org/10.2390/biecoll-jib-2006-41\n",
       "33                       https://doi.org/10.7916/D8RJ4HM5\n",
       "34                   https://doi.org/10.5681/apb.2012.018\n",
       "35   https://doi.org/10.15167/2421-4248/jpmh2008.49.4.134\n",
       "36                   https://doi.org/10.5281/zenodo.12710\n",
       "37                       https://doi.org/10.7289/V5C8276M\n",
       "38                https://doi.org/10.13128/Aestimum-13170\n",
       "39                      https://doi.org/10.3205/psm000072\n",
       "40                 https://doi.org/10.5061/dryad.d47h94c9\n",
       "41                    https://doi.org/10.5257/iea/et/2013\n",
       "42                    https://doi.org/10.16910/jemr.3.4.2\n",
       "43              https://doi.org/10.13140/RG.2.1.4606.9606\n",
       "44  https://doi.org/10.2312/COMPAESTH/COMPAESTH09/057-064\n",
       "45                   https://doi.org/10.5281/zenodo.23624\n",
       "46                   https://doi.org/10.5281/zenodo.23657\n",
       "47                   https://doi.org/10.5281/zenodo.23739\n",
       "48                   https://doi.org/10.5281/zenodo.23680\n",
       "49                 https://doi.org/10.1594/PANGAEA.763149\n",
       "50                   https://doi.org/10.5281/zenodo.23595\n",
       "51                 https://doi.org/10.13140/2.1.4699.5527\n",
       "52                   https://doi.org/10.5281/zenodo.23887\n",
       "53                         https://doi.org/10.3205/000087\n",
       "54                        https://doi.org/10.5167/uzh-690\n",
       "55                   https://doi.org/10.5281/zenodo.24043\n",
       "56                   https://doi.org/10.5281/zenodo.23671\n",
       "57                   https://doi.org/10.5281/zenodo.23748\n",
       "58                   https://doi.org/10.5281/zenodo.23692\n",
       "59                   https://doi.org/10.5281/zenodo.14580\n",
       "60          https://doi.org/10.3205/ctt-2010-en-000080.01\n",
       "61                     https://doi.org/10.20380/GI2000.24\n",
       "62                      https://doi.org/10.3205/cto000091\n",
       "63                       https://doi.org/10.7282/T3X63KMS\n",
       "64                   https://doi.org/10.5281/zenodo.23698\n",
       "65                       https://doi.org/10.7930/J08G8HMN\n",
       "66                     https://doi.org/10.3205/dgkh000196\n",
       "67                        https://doi.org/10.15468/mn7p62\n",
       "68               https://doi.org/10.3929/ethz-a-005083385\n",
       "69                       https://doi.org/10.7930/J0Z31WJ2\n",
       "70                   https://doi.org/10.5281/zenodo.23657\n",
       "71                   https://doi.org/10.5281/zenodo.23429\n",
       "72                   https://doi.org/10.5281/zenodo.32969\n",
       "73                        https://doi.org/10.18433/J32K5B\n",
       "74                   https://doi.org/10.5281/zenodo.23716\n",
       "75                   https://doi.org/10.5281/zenodo.27878\n",
       "76                        https://doi.org/10.5886/y2bbsq5\n",
       "77                  https://doi.org/10.5281/zenodo.345413\n",
       "78              https://doi.org/10.3334/CDIAC/00001_V2011\n",
       "79                 https://doi.org/10.6092/1970-9870/2501\n",
       "80                       https://doi.org/10.5684/soep.v27\n",
       "81              https://doi.org/10.2312/SBM/SBM12/001-010\n",
       "82                   https://doi.org/10.5281/zenodo.44222\n",
       "83                   https://doi.org/10.5281/zenodo.23683\n",
       "84             https://doi.org/10.6092/unibo/amsacta/5401\n",
       "85                        https://doi.org/10.18433/J3TP4T\n",
       "86                   https://doi.org/10.5281/zenodo.23689\n",
       "87                   https://doi.org/10.5281/zenodo.23553\n",
       "88                        https://doi.org/10.18433/J3W595\n",
       "89                   https://doi.org/10.5281/zenodo.24553\n",
       "90                  https://doi.org/10.3886/ICPSR29282.v1\n",
       "91                       https://doi.org/10.7916/D8VX0F48\n",
       "92                      https://doi.org/10.5277/EPE130205\n",
       "93                   https://doi.org/10.5281/zenodo.23758\n",
       "94                   https://doi.org/10.5281/zenodo.23423\n",
       "95                    https://doi.org/10.5681/bi.2012.022\n",
       "96                        https://doi.org/10.18433/J3G022\n",
       "97            https://doi.org/10.17886/EpiBull-2015-011.4\n",
       "98                  https://doi.org/10.5195/jwsr.2003.236\n",
       "99                 https://doi.org/10.5681/joddd.2013.031\n",
       "100         https://doi.org/10.5073/vitis.2016.55.161-164\n",
       "                            source_token          occurred_at\n",
       "1   8676e950-8ac5-4074-8ac3-c0a18ada7e99 2016-07-26T00:00:00Z\n",
       "2   8676e950-8ac5-4074-8ac3-c0a18ada7e99 2016-09-28T00:00:00Z\n",
       "3   8676e950-8ac5-4074-8ac3-c0a18ada7e99 2017-05-30T00:00:00Z\n",
       "4   8676e950-8ac5-4074-8ac3-c0a18ada7e99 2017-03-07T00:00:00Z\n",
       "5   8676e950-8ac5-4074-8ac3-c0a18ada7e99 2016-10-07T00:00:00Z\n",
       "6   8676e950-8ac5-4074-8ac3-c0a18ada7e99 2016-02-24T00:00:00Z\n",
       "7   8676e950-8ac5-4074-8ac3-c0a18ada7e99 2017-02-17T00:00:00Z\n",
       "8   8676e950-8ac5-4074-8ac3-c0a18ada7e99 2015-01-01T00:00:00Z\n",
       "9   8676e950-8ac5-4074-8ac3-c0a18ada7e99 2017-01-30T00:00:00Z\n",
       "10  8676e950-8ac5-4074-8ac3-c0a18ada7e99 2017-01-01T00:00:00Z\n",
       "11  8676e950-8ac5-4074-8ac3-c0a18ada7e99 2016-04-26T00:00:00Z\n",
       "12  8676e950-8ac5-4074-8ac3-c0a18ada7e99 2015-01-01T00:00:00Z\n",
       "13  8676e950-8ac5-4074-8ac3-c0a18ada7e99 2017-01-30T00:00:00Z\n",
       "14  8676e950-8ac5-4074-8ac3-c0a18ada7e99 2017-01-30T00:00:00Z\n",
       "15  8676e950-8ac5-4074-8ac3-c0a18ada7e99 2014-06-20T00:00:00Z\n",
       "16  8676e950-8ac5-4074-8ac3-c0a18ada7e99 2016-09-26T00:00:00Z\n",
       "17  8676e950-8ac5-4074-8ac3-c0a18ada7e99 2017-01-30T00:00:00Z\n",
       "18  8676e950-8ac5-4074-8ac3-c0a18ada7e99 2017-04-20T00:00:00Z\n",
       "19  8676e950-8ac5-4074-8ac3-c0a18ada7e99 2013-07-01T00:00:00Z\n",
       "20  8676e950-8ac5-4074-8ac3-c0a18ada7e99 2017-05-16T00:00:00Z\n",
       "21  8676e950-8ac5-4074-8ac3-c0a18ada7e99 2017-01-18T00:00:00Z\n",
       "22  8676e950-8ac5-4074-8ac3-c0a18ada7e99 2015-01-01T00:00:00Z\n",
       "23  8676e950-8ac5-4074-8ac3-c0a18ada7e99 2017-05-02T00:00:00Z\n",
       "24  8676e950-8ac5-4074-8ac3-c0a18ada7e99 2017-05-21T00:00:00Z\n",
       "25  8676e950-8ac5-4074-8ac3-c0a18ada7e99 2016-12-20T00:00:00Z\n",
       "26  8676e950-8ac5-4074-8ac3-c0a18ada7e99 2017-01-07T00:00:00Z\n",
       "27  8676e950-8ac5-4074-8ac3-c0a18ada7e99 2013-09-17T00:00:00Z\n",
       "28  8676e950-8ac5-4074-8ac3-c0a18ada7e99 2017-04-21T00:00:00Z\n",
       "29  8676e950-8ac5-4074-8ac3-c0a18ada7e99 2015-05-14T00:00:00Z\n",
       "30  8676e950-8ac5-4074-8ac3-c0a18ada7e99 2016-01-01T00:00:00Z\n",
       "31  8676e950-8ac5-4074-8ac3-c0a18ada7e99 2017-05-01T00:00:00Z\n",
       "32  8676e950-8ac5-4074-8ac3-c0a18ada7e99 2010-01-01T00:00:00Z\n",
       "33  8676e950-8ac5-4074-8ac3-c0a18ada7e99 2016-03-30T00:00:00Z\n",
       "34  8676e950-8ac5-4074-8ac3-c0a18ada7e99 2016-01-01T00:00:00Z\n",
       "35  8676e950-8ac5-4074-8ac3-c0a18ada7e99 2016-07-28T00:00:00Z\n",
       "36  8676e950-8ac5-4074-8ac3-c0a18ada7e99 2016-08-23T00:00:00Z\n",
       "37  8676e950-8ac5-4074-8ac3-c0a18ada7e99 2017-04-28T00:00:00Z\n",
       "38  8676e950-8ac5-4074-8ac3-c0a18ada7e99 2016-08-01T00:00:00Z\n",
       "39  8676e950-8ac5-4074-8ac3-c0a18ada7e99 2014-07-24T00:00:00Z\n",
       "40  8676e950-8ac5-4074-8ac3-c0a18ada7e99 2015-01-08T00:00:00Z\n",
       "41  8676e950-8ac5-4074-8ac3-c0a18ada7e99 2014-01-01T00:00:00Z\n",
       "42  8676e950-8ac5-4074-8ac3-c0a18ada7e99 2016-07-21T00:00:00Z\n",
       "43  8676e950-8ac5-4074-8ac3-c0a18ada7e99 2015-11-27T00:00:00Z\n",
       "44  8676e950-8ac5-4074-8ac3-c0a18ada7e99 2017-03-09T00:00:00Z\n",
       "45  8676e950-8ac5-4074-8ac3-c0a18ada7e99 2017-01-30T00:00:00Z\n",
       "46  8676e950-8ac5-4074-8ac3-c0a18ada7e99 2017-03-27T00:00:00Z\n",
       "47  8676e950-8ac5-4074-8ac3-c0a18ada7e99 2017-01-30T00:00:00Z\n",
       "48  8676e950-8ac5-4074-8ac3-c0a18ada7e99 2017-01-30T00:00:00Z\n",
       "49  8676e950-8ac5-4074-8ac3-c0a18ada7e99 2012-03-01T00:00:00Z\n",
       "50  8676e950-8ac5-4074-8ac3-c0a18ada7e99 2017-01-30T00:00:00Z\n",
       "51  8676e950-8ac5-4074-8ac3-c0a18ada7e99 2015-11-26T00:00:00Z\n",
       "52  8676e950-8ac5-4074-8ac3-c0a18ada7e99 2017-03-27T00:00:00Z\n",
       "53  8676e950-8ac5-4074-8ac3-c0a18ada7e99 2013-01-22T00:00:00Z\n",
       "54  8676e950-8ac5-4074-8ac3-c0a18ada7e99 2017-04-12T00:00:00Z\n",
       "55  8676e950-8ac5-4074-8ac3-c0a18ada7e99 2017-03-27T00:00:00Z\n",
       "56  8676e950-8ac5-4074-8ac3-c0a18ada7e99 2017-01-30T00:00:00Z\n",
       "57  8676e950-8ac5-4074-8ac3-c0a18ada7e99 2017-01-30T00:00:00Z\n",
       "58  8676e950-8ac5-4074-8ac3-c0a18ada7e99 2017-01-30T00:00:00Z\n",
       "59  8676e950-8ac5-4074-8ac3-c0a18ada7e99 2017-02-01T00:00:00Z\n",
       "60  8676e950-8ac5-4074-8ac3-c0a18ada7e99 2014-10-27T00:00:00Z\n",
       "61  8676e950-8ac5-4074-8ac3-c0a18ada7e99 2017-05-12T00:00:00Z\n",
       "62  8676e950-8ac5-4074-8ac3-c0a18ada7e99 2017-02-18T00:00:00Z\n",
       "63  8676e950-8ac5-4074-8ac3-c0a18ada7e99 2017-02-04T00:00:00Z\n",
       "64  8676e950-8ac5-4074-8ac3-c0a18ada7e99 2017-01-30T00:00:00Z\n",
       "65  8676e950-8ac5-4074-8ac3-c0a18ada7e99 2016-04-12T00:00:00Z\n",
       "66  8676e950-8ac5-4074-8ac3-c0a18ada7e99 2015-02-23T00:00:00Z\n",
       "67  8676e950-8ac5-4074-8ac3-c0a18ada7e99 2016-11-30T00:00:00Z\n",
       "68  8676e950-8ac5-4074-8ac3-c0a18ada7e99 2016-01-02T00:00:00Z\n",
       "69  8676e950-8ac5-4074-8ac3-c0a18ada7e99 2015-12-15T00:00:00Z\n",
       "70  8676e950-8ac5-4074-8ac3-c0a18ada7e99 2017-01-30T00:00:00Z\n",
       "71  8676e950-8ac5-4074-8ac3-c0a18ada7e99 2017-01-30T00:00:00Z\n",
       "72  8676e950-8ac5-4074-8ac3-c0a18ada7e99 2016-05-26T00:00:00Z\n",
       "73  8676e950-8ac5-4074-8ac3-c0a18ada7e99 2016-08-01T00:00:00Z\n",
       "74  8676e950-8ac5-4074-8ac3-c0a18ada7e99 2017-01-30T00:00:00Z\n",
       "75  8676e950-8ac5-4074-8ac3-c0a18ada7e99 2016-12-20T00:00:00Z\n",
       "76  8676e950-8ac5-4074-8ac3-c0a18ada7e99 2016-09-26T00:00:00Z\n",
       "77  8676e950-8ac5-4074-8ac3-c0a18ada7e99 2017-03-20T00:00:00Z\n",
       "78  8676e950-8ac5-4074-8ac3-c0a18ada7e99 2016-09-26T00:00:00Z\n",
       "79  8676e950-8ac5-4074-8ac3-c0a18ada7e99 2016-10-25T00:00:00Z\n",
       "80  8676e950-8ac5-4074-8ac3-c0a18ada7e99 2017-02-16T00:00:00Z\n",
       "81  8676e950-8ac5-4074-8ac3-c0a18ada7e99 2017-03-01T00:00:00Z\n",
       "82  8676e950-8ac5-4074-8ac3-c0a18ada7e99 2017-05-24T00:00:00Z\n",
       "83  8676e950-8ac5-4074-8ac3-c0a18ada7e99 2017-01-30T00:00:00Z\n",
       "84  8676e950-8ac5-4074-8ac3-c0a18ada7e99 2016-01-01T00:00:00Z\n",
       "85  8676e950-8ac5-4074-8ac3-c0a18ada7e99 2016-09-14T00:00:00Z\n",
       "86  8676e950-8ac5-4074-8ac3-c0a18ada7e99 2017-01-30T00:00:00Z\n",
       "87  8676e950-8ac5-4074-8ac3-c0a18ada7e99 2017-01-30T00:00:00Z\n",
       "88  8676e950-8ac5-4074-8ac3-c0a18ada7e99 2016-08-04T00:00:00Z\n",
       "89  8676e950-8ac5-4074-8ac3-c0a18ada7e99 2016-03-15T00:00:00Z\n",
       "90  8676e950-8ac5-4074-8ac3-c0a18ada7e99 2015-09-01T00:00:00Z\n",
       "91  8676e950-8ac5-4074-8ac3-c0a18ada7e99 2017-04-24T00:00:00Z\n",
       "92  8676e950-8ac5-4074-8ac3-c0a18ada7e99 2015-01-01T00:00:00Z\n",
       "93  8676e950-8ac5-4074-8ac3-c0a18ada7e99 2017-03-27T00:00:00Z\n",
       "94  8676e950-8ac5-4074-8ac3-c0a18ada7e99 2017-01-30T00:00:00Z\n",
       "95  8676e950-8ac5-4074-8ac3-c0a18ada7e99 2015-05-06T00:00:00Z\n",
       "96  8676e950-8ac5-4074-8ac3-c0a18ada7e99 2017-04-05T00:00:00Z\n",
       "97  8676e950-8ac5-4074-8ac3-c0a18ada7e99 2016-06-30T00:00:00Z\n",
       "98  8676e950-8ac5-4074-8ac3-c0a18ada7e99 2016-03-10T00:00:00Z\n",
       "99  8676e950-8ac5-4074-8ac3-c0a18ada7e99 2015-01-01T00:00:00Z\n",
       "100 8676e950-8ac5-4074-8ac3-c0a18ada7e99 2017-01-23T00:00:00Z\n",
       "                                          subj_id\n",
       "1   https://doi.org/10.1080/17538947.2016.1205673\n",
       "2        https://doi.org/10.3389/fnins.2016.00436\n",
       "3        https://doi.org/10.3389/fnins.2017.00302\n",
       "4          https://doi.org/10.3390/ijerph14030267\n",
       "5        https://doi.org/10.3389/fninf.2016.00044\n",
       "6       https://doi.org/10.1007/s12159-016-0131-1\n",
       "7        https://doi.org/10.3389/fnhum.2017.00072\n",
       "8             https://doi.org/10.1155/2015/172862\n",
       "9       https://doi.org/10.3897/zookeys.648.10935\n",
       "10      https://doi.org/10.1007/s12517-016-2784-0\n",
       "11      https://doi.org/10.1007/s12517-016-2393-y\n",
       "12         https://doi.org/10.1515/foli-2015-0033\n",
       "13      https://doi.org/10.3897/zookeys.648.10935\n",
       "14      https://doi.org/10.3897/zookeys.648.10935\n",
       "15        https://doi.org/10.3390/ijerph110606472\n",
       "16       https://doi.org/10.3897/zookeys.618.9986\n",
       "17      https://doi.org/10.3897/zookeys.648.10935\n",
       "18       https://doi.org/10.3389/fncom.2017.00021\n",
       "19           https://doi.org/10.3832/ifor0099-006\n",
       "20       https://doi.org/10.3389/fninf.2017.00030\n",
       "21  https://doi.org/10.1080/02508060.2017.1276040\n",
       "22         https://doi.org/10.1515/humo-2015-0050\n",
       "23              https://doi.org/10.3390/s17051003\n",
       "24           https://doi.org/10.3390/ijms18051104\n",
       "25          https://doi.org/10.3846/bjrbe.2016.30\n",
       "26      https://doi.org/10.1186/s13104-016-2340-8\n",
       "27   https://doi.org/10.1080/17550874.2013.820806\n",
       "28      https://doi.org/10.3897/zookeys.669.12245\n",
       "29           https://doi.org/10.1103/Physics.8.45\n",
       "30         https://doi.org/10.1515/pjct-2016-0071\n",
       "31  https://doi.org/10.1088/1755-1315/66/1/012026\n",
       "32            https://doi.org/10.1155/2010/924529\n",
       "33       https://doi.org/10.3389/fnbeh.2016.00059\n",
       "34        https://doi.org/10.3923/pjbs.2016.26.35\n",
       "35      https://doi.org/10.1007/s12210-016-0557-z\n",
       "36       https://doi.org/10.3389/fninf.2016.00036\n",
       "37      https://doi.org/10.1007/s12517-017-2962-8\n",
       "38         https://doi.org/10.3390/ijerph13080775\n",
       "39       https://doi.org/10.3389/fnhum.2014.00531\n",
       "40       https://doi.org/10.3897/zookeys.469.8439\n",
       "41             https://doi.org/10.1039/C3EE43034K\n",
       "42       https://doi.org/10.3389/fnhum.2016.00343\n",
       "43        https://doi.org/10.3390/ijerph121214960\n",
       "44       https://doi.org/10.3389/fnhum.2017.00094\n",
       "45      https://doi.org/10.3897/zookeys.648.10935\n",
       "46      https://doi.org/10.3897/zookeys.663.11554\n",
       "47      https://doi.org/10.3897/zookeys.648.10935\n",
       "48      https://doi.org/10.3897/zookeys.648.10935\n",
       "49   https://doi.org/10.1080/17550874.2012.687501\n",
       "50      https://doi.org/10.3897/zookeys.648.10935\n",
       "51       https://doi.org/10.3897/zookeys.540.6099\n",
       "52      https://doi.org/10.3897/zookeys.663.11554\n",
       "53           https://doi.org/10.3390/ijms14012135\n",
       "54       https://doi.org/10.3389/fnbot.2017.00020\n",
       "55      https://doi.org/10.3897/zookeys.663.11554\n",
       "56      https://doi.org/10.3897/zookeys.648.10935\n",
       "57      https://doi.org/10.3897/zookeys.648.10935\n",
       "58      https://doi.org/10.3897/zookeys.648.10935\n",
       "59      https://doi.org/10.3897/zookeys.650.10982\n",
       "60       https://doi.org/10.3389/fncel.2014.00328\n",
       "61      https://doi.org/10.1108/ITSE-02-2017-0015\n",
       "62           https://doi.org/10.3390/ijms18020443\n",
       "63      https://doi.org/10.1007/s00604-017-2102-x\n",
       "64      https://doi.org/10.3897/zookeys.648.10935\n",
       "65  https://doi.org/10.1080/02508060.2016.1166416\n",
       "66        https://doi.org/10.3390/ijerph120302344\n",
       "67      https://doi.org/10.3897/zookeys.637.10276\n",
       "68           https://doi.org/10.3832/ifor1356-008\n",
       "69          https://doi.org/10.3846/bjrbe.2015.44\n",
       "70      https://doi.org/10.3897/zookeys.648.10935\n",
       "71      https://doi.org/10.3897/zookeys.648.10935\n",
       "72       https://doi.org/10.3389/fnana.2016.00057\n",
       "73           https://doi.org/10.3390/ijms17081242\n",
       "74      https://doi.org/10.3897/zookeys.648.10935\n",
       "75       https://doi.org/10.3389/fncom.2016.00130\n",
       "76       https://doi.org/10.3897/zookeys.618.9986\n",
       "77       https://doi.org/10.3389/fncom.2017.00016\n",
       "78  https://doi.org/10.1080/13504509.2016.1238021\n",
       "79      https://doi.org/10.1007/s40558-016-0066-z\n",
       "80      https://doi.org/10.1007/s12208-017-0174-2\n",
       "81      https://doi.org/10.1007/s12517-017-2930-3\n",
       "82       https://doi.org/10.3389/fninf.2017.00034\n",
       "83      https://doi.org/10.3897/zookeys.648.10935\n",
       "84           https://doi.org/10.1155/2016/9349627\n",
       "85      https://doi.org/10.1007/s12029-016-9871-z\n",
       "86      https://doi.org/10.3897/zookeys.648.10935\n",
       "87      https://doi.org/10.3897/zookeys.648.10935\n",
       "88       https://doi.org/10.3389/fncel.2016.00192\n",
       "89       https://doi.org/10.3897/zookeys.572.7177\n",
       "90       https://doi.org/10.1177/1541931215591298\n",
       "91       https://doi.org/10.3389/fnhum.2017.00198\n",
       "92         https://doi.org/10.1515/pjct-2015-0062\n",
       "93      https://doi.org/10.3897/zookeys.663.11554\n",
       "94      https://doi.org/10.3897/zookeys.648.10935\n",
       "95       https://doi.org/10.3389/fnbeh.2015.00103\n",
       "96           https://doi.org/10.3390/ijms18040750\n",
       "97         https://doi.org/10.3390/ijerph13070650\n",
       "98         https://doi.org/10.3390/ijerph13030309\n",
       "99         https://doi.org/10.1515/pjct-2015-0047\n",
       "100     https://doi.org/10.3897/zookeys.647.11098\n",
       "                                      id\n",
       "1   ea6a12dc-3620-48db-af09-30d3bb499682\n",
       "2   5037d604-6463-440f-aa0f-42fe07a968f2\n",
       "3   01149fa7-9fe2-4d55-b1a2-bd3d39851496\n",
       "4   dac7c4e7-0c7e-4e87-b562-4a36d99c01b7\n",
       "5   d8fe1a41-3a42-4421-a621-b1a5950149b2\n",
       "6   47566ec1-ec33-4f1e-b4a2-22fa4fead92f\n",
       "7   6186ca2e-98ba-47e5-a067-2ecebe81259f\n",
       "8   6c879bab-ade8-4b5b-985d-b2911e943b16\n",
       "9   5061a66c-056f-46ee-a88a-d5d1afcdcfb2\n",
       "10  6ad8d2b0-e40c-4ba4-8a21-51a732806b97\n",
       "11  37c9aef3-8dfb-41d7-b7f5-239ae3d0c495\n",
       "12  ce775d4a-315a-4935-b8c7-baf627ddd3bc\n",
       "13  11d5f9c0-747c-42f5-93c0-69112c42643a\n",
       "14  9da43a9f-12ca-4b6b-82fb-f2a0d793fd7f\n",
       "15  0b362064-d71b-485f-bb7b-e27093a0a837\n",
       "16  192f29c3-7292-4879-a034-09e2617d4ec0\n",
       "17  2aa5aedd-5b53-4ca9-aacf-eb847f7832a2\n",
       "18  0f3c2f10-fdfc-4848-8e21-713d2eb6aafd\n",
       "19  eba6f420-de2e-4a60-ac84-c8bcfd91c76c\n",
       "20  e3992538-f96a-421e-9ac5-f6d6585f66b2\n",
       "21  fea5b384-ecc2-48b9-92c8-1176991a450e\n",
       "22  b65b07e6-0d88-452b-9e2c-df0253ca5ebd\n",
       "23  373ba603-9e02-45ab-a0cc-c79cb1a7e6f1\n",
       "24  3761347e-1562-4dcc-938d-496685d836c4\n",
       "25  3634fa8f-e7a9-4779-9a1d-4a22102eb56f\n",
       "26  e8a17aaf-b07b-4394-b9de-37e3014a7fa6\n",
       "27  a67d5448-8476-4eb4-b75c-299d061711ea\n",
       "28  fc264885-7b0e-4adf-9db4-44d8798fbfc8\n",
       "29  209d7b90-f937-46ec-9c42-09baf7bbd8e6\n",
       "30  3403ba94-f946-47f1-91ce-ca868bc6e2a5\n",
       "31  fe54cf1b-cead-4a5c-b2e2-fa1f3d6f43c0\n",
       "32  40464da6-70a7-4502-b158-aac3a9a8182a\n",
       "33  46113238-bfa6-4465-b438-63079fa4e9e9\n",
       "34  c43c2048-d1db-42aa-aa0d-9fafa11f078e\n",
       "35  0be05ef8-049c-4c0a-bad3-33d900983515\n",
       "36  3dff53a0-c67f-4b7e-92eb-1ecdac62dc73\n",
       "37  d40caab0-24db-460b-bb1d-9444c2b75656\n",
       "38  5bad3fa2-a756-4d81-a5ad-5647805b5484\n",
       "39  f780b509-48d2-4130-80e3-4ef3fe5c48c1\n",
       "40  28c47a58-942b-4cbf-88e5-aff53ef980ca\n",
       "41  e5110a50-27dc-4c32-b193-6ab486781146\n",
       "42  8468977f-8385-4895-82a4-4e9d30d0d951\n",
       "43  7389ee23-3658-4a1b-9384-beee2e006754\n",
       "44  c1632c86-3f58-47d4-b64a-72c7cd8df73f\n",
       "45  75846d0e-bdf5-4335-a1dc-fbd76d050d1f\n",
       "46  9fde0eb7-1f8c-4f30-99bf-abc38e887f76\n",
       "47  5b78b244-ce6e-4b83-93b2-41c50de16140\n",
       "48  8031441a-1561-45da-b2b9-7fa55f8955e2\n",
       "49  22691c1a-d044-4dc5-9d20-8d73bcb263d7\n",
       "50  08e764e1-1679-4728-8be6-e50ede909dde\n",
       "51  e61a612e-5c89-4fc7-9b7d-6f7d2b016327\n",
       "52  854f79a0-b336-4f15-811d-2b4e652a676e\n",
       "53  a9d684fd-7b7e-4095-b36e-3a2dbf60a894\n",
       "54  cfa63aca-6f7f-4187-ac18-98749caa88ab\n",
       "55  52cdf628-85c8-49aa-be38-3a08a7c72716\n",
       "56  29cd6be6-ccc3-4a51-a0c6-8fec81aa346b\n",
       "57  e12b9219-f8c1-434c-977c-6b009197d2ea\n",
       "58  41277faf-e97c-4690-8e24-4966ae20e3d6\n",
       "59  ff081c48-0881-4bf9-851a-70d6b4ca1efc\n",
       "60  b79afba3-24df-4e26-a094-e4a1bffce4e7\n",
       "61  467432be-c686-4219-83a7-1d8b6ab5ccba\n",
       "62  21e76ce9-6e84-4b49-bc10-bf2e2da1cd50\n",
       "63  3d47b426-7b6d-4193-939a-69e17b502333\n",
       "64  bdcba052-1574-458f-8a30-ae88a05a6d74\n",
       "65  739ddd19-f1e7-4ceb-985c-592abe38113e\n",
       "66  cdee2684-6bae-4df1-9ba2-6de396825997\n",
       "67  3b14a9b2-e27e-4602-8a57-889447423506\n",
       "68  36ec7f71-a971-416a-952f-58c29533701a\n",
       "69  ec181fe8-e781-41c3-8cb1-daf6e71f3f43\n",
       "70  2b25b621-3d5f-434f-9c1f-f71efed2088b\n",
       "71  153f1643-21ad-4a14-90b9-158b6fc2cb0e\n",
       "72  01d18d77-d567-4ec6-b30e-8516de9449f0\n",
       "73  987efc8f-5e0e-485d-b42e-2764aa8fdecf\n",
       "74  82b50d00-1eea-4f0b-973b-34bbdd68bf73\n",
       "75  0c433cd8-ccae-4a09-86a1-f56dc85ec25b\n",
       "76  ad5eafe5-de46-412e-ac40-1f292d8b0851\n",
       "77  554356dd-7a03-40ba-99f9-2bb55b9ee2f6\n",
       "78  3110b299-616a-41bd-8fdc-bca6fe90e919\n",
       "79  2df91e29-eea2-435a-80c3-662667d606a8\n",
       "80  a5d4eb10-9297-4799-8569-3ca8935d7ee4\n",
       "81  fe0d00fa-ea9c-447f-841c-8aaf42dd63ac\n",
       "82  8723815a-73e3-43cf-964c-bd2e377798b7\n",
       "83  6b2e4206-4b82-4e2b-b84b-82fea0ec5a59\n",
       "84  624caeee-310c-4aa5-b3e7-aac114427368\n",
       "85  8a85e5c7-5e2c-497c-a577-6b35375871c6\n",
       "86  990880e7-39de-4510-b177-f46199d97287\n",
       "87  5024ae40-9ceb-47d4-89aa-df51c9ba7ce0\n",
       "88  4ee1812c-ae27-4f96-a1ff-6ee89e96ef70\n",
       "89  38f43cf2-b2b9-4713-80c4-66b7e8f132f0\n",
       "90  95f80e09-2698-4012-9f8b-8015070bdd8f\n",
       "91  208557f4-ba81-4bd8-9be5-da67e45b7a22\n",
       "92  7c2309c4-c889-4193-9374-cb8a7ad9b425\n",
       "93  11e0b222-78ad-4f29-b6ea-ebf9c8e4e2d2\n",
       "94  24e8decd-0244-4f0a-b919-8dab0ed974e7\n",
       "95  737c6ce8-3f45-4d92-b3e5-68574720169f\n",
       "96  6aba08f7-5343-46f0-b1cb-892212d5731a\n",
       "97  d6d20399-e31c-4939-b91e-ccac2609ece7\n",
       "98  d2f0c7ff-0c1c-4572-86d8-03ecb835db14\n",
       "99  c27f6aef-98af-49df-8b30-e8c49d01ef5d\n",
       "100 f8188032-56d6-4326-bdee-28c3428cfb03\n",
       "                                        terms message_action source_id\n",
       "1   https://doi.org/10.13003/CED-terms-of-use         create  crossref\n",
       "2   https://doi.org/10.13003/CED-terms-of-use         create  crossref\n",
       "3   https://doi.org/10.13003/CED-terms-of-use         create  crossref\n",
       "4   https://doi.org/10.13003/CED-terms-of-use         create  crossref\n",
       "5   https://doi.org/10.13003/CED-terms-of-use         create  crossref\n",
       "6   https://doi.org/10.13003/CED-terms-of-use         create  crossref\n",
       "7   https://doi.org/10.13003/CED-terms-of-use         create  crossref\n",
       "8   https://doi.org/10.13003/CED-terms-of-use         create  crossref\n",
       "9   https://doi.org/10.13003/CED-terms-of-use         create  crossref\n",
       "10  https://doi.org/10.13003/CED-terms-of-use         create  crossref\n",
       "11  https://doi.org/10.13003/CED-terms-of-use         create  crossref\n",
       "12  https://doi.org/10.13003/CED-terms-of-use         create  crossref\n",
       "13  https://doi.org/10.13003/CED-terms-of-use         create  crossref\n",
       "14  https://doi.org/10.13003/CED-terms-of-use         create  crossref\n",
       "15  https://doi.org/10.13003/CED-terms-of-use         create  crossref\n",
       "16  https://doi.org/10.13003/CED-terms-of-use         create  crossref\n",
       "17  https://doi.org/10.13003/CED-terms-of-use         create  crossref\n",
       "18  https://doi.org/10.13003/CED-terms-of-use         create  crossref\n",
       "19  https://doi.org/10.13003/CED-terms-of-use         create  crossref\n",
       "20  https://doi.org/10.13003/CED-terms-of-use         create  crossref\n",
       "21  https://doi.org/10.13003/CED-terms-of-use         create  crossref\n",
       "22  https://doi.org/10.13003/CED-terms-of-use         create  crossref\n",
       "23  https://doi.org/10.13003/CED-terms-of-use         create  crossref\n",
       "24  https://doi.org/10.13003/CED-terms-of-use         create  crossref\n",
       "25  https://doi.org/10.13003/CED-terms-of-use         create  crossref\n",
       "26  https://doi.org/10.13003/CED-terms-of-use         create  crossref\n",
       "27  https://doi.org/10.13003/CED-terms-of-use         create  crossref\n",
       "28  https://doi.org/10.13003/CED-terms-of-use         create  crossref\n",
       "29  https://doi.org/10.13003/CED-terms-of-use         create  crossref\n",
       "30  https://doi.org/10.13003/CED-terms-of-use         create  crossref\n",
       "31  https://doi.org/10.13003/CED-terms-of-use         create  crossref\n",
       "32  https://doi.org/10.13003/CED-terms-of-use         create  crossref\n",
       "33  https://doi.org/10.13003/CED-terms-of-use         create  crossref\n",
       "34  https://doi.org/10.13003/CED-terms-of-use         create  crossref\n",
       "35  https://doi.org/10.13003/CED-terms-of-use         create  crossref\n",
       "36  https://doi.org/10.13003/CED-terms-of-use         create  crossref\n",
       "37  https://doi.org/10.13003/CED-terms-of-use         create  crossref\n",
       "38  https://doi.org/10.13003/CED-terms-of-use         create  crossref\n",
       "39  https://doi.org/10.13003/CED-terms-of-use         create  crossref\n",
       "40  https://doi.org/10.13003/CED-terms-of-use         create  crossref\n",
       "41  https://doi.org/10.13003/CED-terms-of-use         create  crossref\n",
       "42  https://doi.org/10.13003/CED-terms-of-use         create  crossref\n",
       "43  https://doi.org/10.13003/CED-terms-of-use         create  crossref\n",
       "44  https://doi.org/10.13003/CED-terms-of-use         create  crossref\n",
       "45  https://doi.org/10.13003/CED-terms-of-use         create  crossref\n",
       "46  https://doi.org/10.13003/CED-terms-of-use         create  crossref\n",
       "47  https://doi.org/10.13003/CED-terms-of-use         create  crossref\n",
       "48  https://doi.org/10.13003/CED-terms-of-use         create  crossref\n",
       "49  https://doi.org/10.13003/CED-terms-of-use         create  crossref\n",
       "50  https://doi.org/10.13003/CED-terms-of-use         create  crossref\n",
       "51  https://doi.org/10.13003/CED-terms-of-use         create  crossref\n",
       "52  https://doi.org/10.13003/CED-terms-of-use         create  crossref\n",
       "53  https://doi.org/10.13003/CED-terms-of-use         create  crossref\n",
       "54  https://doi.org/10.13003/CED-terms-of-use         create  crossref\n",
       "55  https://doi.org/10.13003/CED-terms-of-use         create  crossref\n",
       "56  https://doi.org/10.13003/CED-terms-of-use         create  crossref\n",
       "57  https://doi.org/10.13003/CED-terms-of-use         create  crossref\n",
       "58  https://doi.org/10.13003/CED-terms-of-use         create  crossref\n",
       "59  https://doi.org/10.13003/CED-terms-of-use         create  crossref\n",
       "60  https://doi.org/10.13003/CED-terms-of-use         create  crossref\n",
       "61  https://doi.org/10.13003/CED-terms-of-use         create  crossref\n",
       "62  https://doi.org/10.13003/CED-terms-of-use         create  crossref\n",
       "63  https://doi.org/10.13003/CED-terms-of-use         create  crossref\n",
       "64  https://doi.org/10.13003/CED-terms-of-use         create  crossref\n",
       "65  https://doi.org/10.13003/CED-terms-of-use         create  crossref\n",
       "66  https://doi.org/10.13003/CED-terms-of-use         create  crossref\n",
       "67  https://doi.org/10.13003/CED-terms-of-use         create  crossref\n",
       "68  https://doi.org/10.13003/CED-terms-of-use         create  crossref\n",
       "69  https://doi.org/10.13003/CED-terms-of-use         create  crossref\n",
       "70  https://doi.org/10.13003/CED-terms-of-use         create  crossref\n",
       "71  https://doi.org/10.13003/CED-terms-of-use         create  crossref\n",
       "72  https://doi.org/10.13003/CED-terms-of-use         create  crossref\n",
       "73  https://doi.org/10.13003/CED-terms-of-use         create  crossref\n",
       "74  https://doi.org/10.13003/CED-terms-of-use         create  crossref\n",
       "75  https://doi.org/10.13003/CED-terms-of-use         create  crossref\n",
       "76  https://doi.org/10.13003/CED-terms-of-use         create  crossref\n",
       "77  https://doi.org/10.13003/CED-terms-of-use         create  crossref\n",
       "78  https://doi.org/10.13003/CED-terms-of-use         create  crossref\n",
       "79  https://doi.org/10.13003/CED-terms-of-use         create  crossref\n",
       "80  https://doi.org/10.13003/CED-terms-of-use         create  crossref\n",
       "81  https://doi.org/10.13003/CED-terms-of-use         create  crossref\n",
       "82  https://doi.org/10.13003/CED-terms-of-use         create  crossref\n",
       "83  https://doi.org/10.13003/CED-terms-of-use         create  crossref\n",
       "84  https://doi.org/10.13003/CED-terms-of-use         create  crossref\n",
       "85  https://doi.org/10.13003/CED-terms-of-use         create  crossref\n",
       "86  https://doi.org/10.13003/CED-terms-of-use         create  crossref\n",
       "87  https://doi.org/10.13003/CED-terms-of-use         create  crossref\n",
       "88  https://doi.org/10.13003/CED-terms-of-use         create  crossref\n",
       "89  https://doi.org/10.13003/CED-terms-of-use         create  crossref\n",
       "90  https://doi.org/10.13003/CED-terms-of-use         create  crossref\n",
       "91  https://doi.org/10.13003/CED-terms-of-use         create  crossref\n",
       "92  https://doi.org/10.13003/CED-terms-of-use         create  crossref\n",
       "93  https://doi.org/10.13003/CED-terms-of-use         create  crossref\n",
       "94  https://doi.org/10.13003/CED-terms-of-use         create  crossref\n",
       "95  https://doi.org/10.13003/CED-terms-of-use         create  crossref\n",
       "96  https://doi.org/10.13003/CED-terms-of-use         create  crossref\n",
       "97  https://doi.org/10.13003/CED-terms-of-use         create  crossref\n",
       "98  https://doi.org/10.13003/CED-terms-of-use         create  crossref\n",
       "99  https://doi.org/10.13003/CED-terms-of-use         create  crossref\n",
       "100 https://doi.org/10.13003/CED-terms-of-use         create  crossref\n",
       "               timestamp relation_type_id\n",
       "1   2017-06-01T15:31:02Z       references\n",
       "2   2017-06-01T15:31:02Z       references\n",
       "3   2017-06-01T15:31:03Z       references\n",
       "4   2017-06-01T16:00:02Z       references\n",
       "5   2017-06-01T16:00:03Z       references\n",
       "6   2017-06-01T16:00:03Z       references\n",
       "7   2017-06-01T16:00:04Z       references\n",
       "8   2017-06-01T16:00:05Z       references\n",
       "9   2017-06-01T16:00:05Z       references\n",
       "10  2017-06-01T16:00:06Z       references\n",
       "11  2017-06-01T16:00:07Z       references\n",
       "12  2017-06-01T16:00:08Z       references\n",
       "13  2017-06-01T16:00:08Z       references\n",
       "14  2017-06-01T16:00:09Z       references\n",
       "15  2017-06-01T16:00:10Z       references\n",
       "16  2017-06-01T16:00:11Z       references\n",
       "17  2017-06-01T16:00:12Z       references\n",
       "18  2017-06-01T16:00:12Z       references\n",
       "19  2017-06-01T16:00:13Z       references\n",
       "20  2017-06-01T16:00:13Z       references\n",
       "21  2017-06-01T16:00:14Z       references\n",
       "22  2017-06-01T16:00:15Z       references\n",
       "23  2017-06-01T16:00:15Z       references\n",
       "24  2017-06-01T16:00:16Z       references\n",
       "25  2017-06-01T16:00:16Z       references\n",
       "26  2017-06-01T16:00:17Z       references\n",
       "27  2017-06-01T16:00:17Z       references\n",
       "28  2017-06-01T16:00:18Z       references\n",
       "29  2017-06-01T16:00:18Z       references\n",
       "30  2017-06-01T16:00:19Z       references\n",
       "31  2017-06-01T16:00:20Z       references\n",
       "32  2017-06-01T16:00:20Z       references\n",
       "33  2017-06-01T16:00:21Z       references\n",
       "34  2017-06-01T16:00:22Z       references\n",
       "35  2017-06-01T16:00:22Z       references\n",
       "36  2017-06-01T16:00:23Z       references\n",
       "37  2017-06-01T16:00:24Z       references\n",
       "38  2017-06-01T16:00:24Z       references\n",
       "39  2017-06-01T16:00:25Z       references\n",
       "40  2017-06-01T16:00:26Z       references\n",
       "41  2017-06-01T16:00:27Z       references\n",
       "42  2017-06-01T16:00:28Z       references\n",
       "43  2017-06-01T16:00:28Z       references\n",
       "44  2017-06-01T16:00:29Z       references\n",
       "45  2017-06-01T16:00:29Z       references\n",
       "46  2017-06-01T16:00:30Z       references\n",
       "47  2017-06-01T16:00:30Z       references\n",
       "48  2017-06-01T16:00:31Z       references\n",
       "49  2017-06-01T16:00:32Z       references\n",
       "50  2017-06-01T16:00:32Z       references\n",
       "51  2017-06-01T16:00:33Z       references\n",
       "52  2017-06-01T16:00:33Z       references\n",
       "53  2017-06-01T16:00:34Z       references\n",
       "54  2017-06-01T16:00:35Z       references\n",
       "55  2017-06-01T16:00:35Z       references\n",
       "56  2017-06-01T16:00:36Z       references\n",
       "57  2017-06-01T16:00:37Z       references\n",
       "58  2017-06-01T16:00:37Z       references\n",
       "59  2017-06-01T16:00:38Z       references\n",
       "60  2017-06-01T16:00:39Z       references\n",
       "61  2017-06-01T16:00:39Z       references\n",
       "62  2017-06-01T16:00:40Z       references\n",
       "63  2017-06-01T16:00:41Z       references\n",
       "64  2017-06-01T16:00:42Z       references\n",
       "65  2017-06-01T16:00:42Z       references\n",
       "66  2017-06-01T16:00:43Z       references\n",
       "67  2017-06-01T16:00:43Z       references\n",
       "68  2017-06-01T16:00:44Z       references\n",
       "69  2017-06-01T16:00:45Z       references\n",
       "70  2017-06-01T16:00:45Z       references\n",
       "71  2017-06-01T16:00:46Z       references\n",
       "72  2017-06-01T16:00:46Z       references\n",
       "73  2017-06-01T16:00:47Z       references\n",
       "74  2017-06-01T16:00:48Z       references\n",
       "75  2017-06-01T16:00:48Z       references\n",
       "76  2017-06-01T16:00:49Z       references\n",
       "77  2017-06-01T16:00:49Z       references\n",
       "78  2017-06-01T16:00:50Z       references\n",
       "79  2017-06-01T16:00:50Z       references\n",
       "80  2017-06-01T16:00:51Z       references\n",
       "81  2017-06-01T16:00:52Z       references\n",
       "82  2017-06-01T16:00:52Z       references\n",
       "83  2017-06-01T16:00:53Z       references\n",
       "84  2017-06-01T16:00:53Z       references\n",
       "85  2017-06-01T16:00:54Z       references\n",
       "86  2017-06-01T16:00:55Z       references\n",
       "87  2017-06-01T16:00:55Z       references\n",
       "88  2017-06-01T16:00:56Z       references\n",
       "89  2017-06-01T16:00:56Z       references\n",
       "90  2017-06-01T16:00:57Z       references\n",
       "91  2017-06-01T16:00:57Z       references\n",
       "92  2017-06-01T16:00:58Z       references\n",
       "93  2017-06-01T16:00:58Z       references\n",
       "94  2017-06-01T16:00:59Z       references\n",
       "95  2017-06-01T16:01:00Z       references\n",
       "96  2017-06-01T16:01:00Z       references\n",
       "97  2017-06-01T16:01:01Z       references\n",
       "98  2017-06-01T16:01:01Z       references\n",
       "99  2017-06-01T16:01:02Z       references\n",
       "100 2017-06-01T16:01:03Z       references\n",
       "\n"
      ]
     },
     "metadata": {},
     "output_type": "display_data"
    }
   ],
   "source": [
    "call_api(100,\"c792fa87-fd65-4479-b2f8-0abe2fa26a1d\")"
   ]
  },
  {
   "cell_type": "code",
   "execution_count": 5,
   "metadata": {},
   "outputs": [],
   "source": [
    "get_data_pub_links<-function(rows) {\n",
    "    start <- fromJSON(paste0('https://query.eventdata.crossref.org/events?rows=',rows,'&filter=source:crossref'))\n",
    "    data <- start$message$events\n",
    "    total<- start$message$`total-results`\n",
    "    cursor <- start$message$`next-cursor`\n",
    "    repeat {   \n",
    "        print(cursor)\n",
    "        response <- call_api(rows,cursor)\n",
    "        cursor <- response$message$`next-cursor`\n",
    "        print(cursor)\n",
    "        if (nrow(data)+rows >= total) {\n",
    "            print(\"Well done!\")\n",
    "            break\n",
    "        } \n",
    "        else {\n",
    "            data <-rbind(data,response$message$events )\n",
    "            print(nrow(data))\n",
    "            print(\"another line\")\n",
    "       }\n",
    "    }\n",
    "    return(data)\n",
    "}\n"
   ]
  },
  {
   "cell_type": "code",
   "execution_count": 6,
   "metadata": {},
   "outputs": [
    {
     "name": "stdout",
     "output_type": "stream",
     "text": [
      "[1] \"9f08b30a-8563-49ce-9de6-624a088860ef\"\n",
      "[1] \"3438f9e2-a36e-4ff3-87d7-e38a89069663\"\n",
      "[1] 4400\n",
      "[1] \"another line\"\n",
      "[1] \"3438f9e2-a36e-4ff3-87d7-e38a89069663\"\n",
      "[1] \"9e2a3bcf-31e5-4205-a418-6ec584643e53\"\n",
      "[1] 6600\n",
      "[1] \"another line\"\n",
      "[1] \"9e2a3bcf-31e5-4205-a418-6ec584643e53\"\n",
      "[1] \"ae3458b4-88db-4b23-bad9-126ccd4f17ef\"\n",
      "[1] 8800\n",
      "[1] \"another line\"\n",
      "[1] \"ae3458b4-88db-4b23-bad9-126ccd4f17ef\"\n",
      "[1] \"0e7b4134-a3cb-4fa0-bf0d-a17155e88e50\"\n",
      "[1] 11000\n",
      "[1] \"another line\"\n",
      "[1] \"0e7b4134-a3cb-4fa0-bf0d-a17155e88e50\"\n",
      "[1] \"26381a0e-ce12-4e1f-9c54-96d6943f8734\"\n",
      "[1] 13200\n",
      "[1] \"another line\"\n",
      "[1] \"26381a0e-ce12-4e1f-9c54-96d6943f8734\"\n",
      "[1] \"626461d6-5c9b-46b6-b1c3-57f508ddcc04\"\n",
      "[1] 15400\n",
      "[1] \"another line\"\n",
      "[1] \"626461d6-5c9b-46b6-b1c3-57f508ddcc04\"\n",
      "[1] \"96bd97ac-f286-49f7-a09d-bdfdc68dcd43\"\n",
      "[1] 17600\n",
      "[1] \"another line\"\n",
      "[1] \"96bd97ac-f286-49f7-a09d-bdfdc68dcd43\"\n",
      "[1] \"2b9175d0-28e5-4946-96eb-dbec42bcbe0b\"\n",
      "[1] 19800\n",
      "[1] \"another line\"\n",
      "[1] \"2b9175d0-28e5-4946-96eb-dbec42bcbe0b\"\n",
      "[1] \"8a8fd7fa-4ea0-4219-8045-c31be6e9d1f3\"\n",
      "[1] 22000\n",
      "[1] \"another line\"\n",
      "[1] \"8a8fd7fa-4ea0-4219-8045-c31be6e9d1f3\"\n",
      "[1] \"3037194c-6f80-4b89-b7bf-cd3777bf1b50\"\n",
      "[1] \"Well done!\"\n"
     ]
    }
   ],
   "source": [
    "data<-get_data_pub_links(2200)\n"
   ]
  },
  {
   "cell_type": "code",
   "execution_count": 7,
   "metadata": {},
   "outputs": [],
   "source": [
    "get_dcdatacentre<- function(obj_id,ra){\n",
    "    if(ra == 'DataCite'){\n",
    "        doi<-as.character(str_extract(obj_id,'(10\\\\.\\\\d{4,5}\\\\/.+)\\\\z'))\n",
    "        dc_info<-fromJSON(paste0('https://api.datacite.org/works?query=',doi,'&rows=0'))\n",
    "        return(dc_info$meta$data_centers$title)        \n",
    "    }\n",
    "    else{\n",
    "        return(\"\")\n",
    "    }\n",
    "}\n"
   ]
  },
  {
   "cell_type": "code",
   "execution_count": 159,
   "metadata": {},
   "outputs": [],
   "source": [
    "get_ra<-function(prefix){\n",
    "    ra<-fromJSON(paste0(\"https://api.datacite.org/prefixes/\",prefix))\n",
    "    return((ra$data$attributes$`registration-agency`))\n",
    "}"
   ]
  },
  {
   "cell_type": "code",
   "execution_count": 160,
   "metadata": {},
   "outputs": [
    {
     "data": {
      "text/html": [
       "'ResearchGate'"
      ],
      "text/latex": [
       "'ResearchGate'"
      ],
      "text/markdown": [
       "'ResearchGate'"
      ],
      "text/plain": [
       "[1] \"ResearchGate\""
      ]
     },
     "metadata": {},
     "output_type": "display_data"
    }
   ],
   "source": [
    "\n",
    "get_dcdatacentre(\"https://doi.org/10.13140/rg.2.1.1350.3122\",get_ra('10.13140'))\n",
    "\n",
    "\n",
    "\n"
   ]
  },
  {
   "cell_type": "code",
   "execution_count": 161,
   "metadata": {},
   "outputs": [
    {
     "name": "stdout",
     "output_type": "stream",
     "text": [
      "[1] 22000\n"
     ]
    }
   ],
   "source": [
    "create_data_pack<- function(data){\n",
    "    data <- data %>% \n",
    "        mutate(occurred_at = as.Date(occurred_at),\n",
    "               timestamp = as.Date(timestamp),\n",
    "               relation_type_id = as.factor(relation_type_id),\n",
    "               message_action = as.factor(message_action),\n",
    "               obj_prefix = paste0(str_extract(obj_id,'(10\\\\.\\\\d{4,5})'),\"/\"),\n",
    "               subj_prefix = paste0(str_extract(subj_id,'(10\\\\.\\\\d{4,5})'),\"/\"),\n",
    "#                obj_ra = as.character(get_ra(obj_prefix)),\n",
    "#                obj_dc = get_dcdatacentre(obj_id, obj_ra),\n",
    "               message_action = as.factor(message_action),\n",
    "               source_id = as.factor(source_id))\n",
    "    print(nrow(data))\n",
    "    return(data)\n",
    "}\n",
    "data_pack<-create_data_pack(data)"
   ]
  },
  {
   "cell_type": "code",
   "execution_count": 162,
   "metadata": {},
   "outputs": [
    {
     "data": {
      "text/html": [
       "<table>\n",
       "<thead><tr><th scope=col>license</th><th scope=col>obj_id</th><th scope=col>source_token</th><th scope=col>occurred_at</th><th scope=col>subj_id</th><th scope=col>id</th><th scope=col>terms</th><th scope=col>message_action</th><th scope=col>source_id</th><th scope=col>timestamp</th><th scope=col>relation_type_id</th><th scope=col>obj_prefix</th><th scope=col>subj_prefix</th></tr></thead>\n",
       "<tbody>\n",
       "\t<tr><td>https://doi.org/10.13003/CED-terms-of-use          </td><td>https://doi.org/10.13140/RG.2.1.1350.3122          </td><td>8676e950-8ac5-4074-8ac3-c0a18ada7e99               </td><td>2017-04-01                                         </td><td>https://doi.org/10.1109/LRA.2017.2651945           </td><td>26eb9df3-c841-48c2-b3f8-239c0bf91506               </td><td>https://doi.org/10.13003/CED-terms-of-use          </td><td>create                                             </td><td>crossref                                           </td><td>2017-05-19                                         </td><td>references                                         </td><td>10.13140/                                          </td><td>10.1109/                                           </td></tr>\n",
       "\t<tr><td>https://doi.org/10.13003/CED-terms-of-use          </td><td>https://doi.org/10.5061/dryad.dk385                </td><td>8676e950-8ac5-4074-8ac3-c0a18ada7e99               </td><td>2017-02-13                                         </td><td>https://doi.org/10.1111/pala.12283                 </td><td>d53dd280-221e-48f9-bbf8-d48aba12d818               </td><td>https://doi.org/10.13003/CED-terms-of-use          </td><td>create                                             </td><td>crossref                                           </td><td>2017-05-19                                         </td><td>references                                         </td><td>10.5061/                                           </td><td>10.1111/                                           </td></tr>\n",
       "\t<tr><td>https://doi.org/10.13003/CED-terms-of-use          </td><td>https://doi.org/10.7930/J0H12ZXG                   </td><td>8676e950-8ac5-4074-8ac3-c0a18ada7e99               </td><td>2017-02-13                                         </td><td>https://doi.org/10.1007/s10669-017-9631-z          </td><td>a750e5b8-3bc6-4054-a321-949c7ad330c5               </td><td>https://doi.org/10.13003/CED-terms-of-use          </td><td>create                                             </td><td>crossref                                           </td><td>2017-05-19                                         </td><td>references                                         </td><td>10.7930/                                           </td><td>10.1007/                                           </td></tr>\n",
       "\t<tr><td>https://doi.org/10.13003/CED-terms-of-use          </td><td>https://doi.org/10.5195/errs.2012.125              </td><td>8676e950-8ac5-4074-8ac3-c0a18ada7e99               </td><td>2016-11-21                                         </td><td>https://doi.org/10.1080/14702436.2016.1256209      </td><td>f007f43b-7649-4b43-9224-3729b2536f65               </td><td>https://doi.org/10.13003/CED-terms-of-use          </td><td>create                                             </td><td>crossref                                           </td><td>2017-05-19                                         </td><td>references                                         </td><td>10.5195/                                           </td><td>10.1080/                                           </td></tr>\n",
       "\t<tr><td>https://doi.org/10.13003/CED-terms-of-use          </td><td>https://doi.org/10.5256/f1000research.10763.d151064</td><td>8676e950-8ac5-4074-8ac3-c0a18ada7e99               </td><td>2017-02-10                                         </td><td>https://doi.org/10.12688/f1000research.10763.1     </td><td>46f3df4f-74c0-42f2-a76d-b108f86d768b               </td><td>https://doi.org/10.13003/CED-terms-of-use          </td><td>create                                             </td><td>crossref                                           </td><td>2017-05-19                                         </td><td>references                                         </td><td>10.5256/                                           </td><td>10.12688/                                          </td></tr>\n",
       "\t<tr><td>https://doi.org/10.13003/CED-terms-of-use          </td><td>https://doi.org/10.5281/zenodo.193080              </td><td>8676e950-8ac5-4074-8ac3-c0a18ada7e99               </td><td>2016-12-20                                         </td><td>https://doi.org/10.12688/f1000research.10426.1     </td><td>d871bfce-69ce-4437-be74-b8584ef3b0ec               </td><td>https://doi.org/10.13003/CED-terms-of-use          </td><td>create                                             </td><td>crossref                                           </td><td>2017-05-19                                         </td><td>references                                         </td><td>10.5281/                                           </td><td>10.12688/                                          </td></tr>\n",
       "</tbody>\n",
       "</table>\n"
      ],
      "text/latex": [
       "\\begin{tabular}{r|lllllllllllll}\n",
       " license & obj\\_id & source\\_token & occurred\\_at & subj\\_id & id & terms & message\\_action & source\\_id & timestamp & relation\\_type\\_id & obj\\_prefix & subj\\_prefix\\\\\n",
       "\\hline\n",
       "\t https://doi.org/10.13003/CED-terms-of-use           & https://doi.org/10.13140/RG.2.1.1350.3122           & 8676e950-8ac5-4074-8ac3-c0a18ada7e99                & 2017-04-01                                          & https://doi.org/10.1109/LRA.2017.2651945            & 26eb9df3-c841-48c2-b3f8-239c0bf91506                & https://doi.org/10.13003/CED-terms-of-use           & create                                              & crossref                                            & 2017-05-19                                          & references                                          & 10.13140/                                           & 10.1109/                                           \\\\\n",
       "\t https://doi.org/10.13003/CED-terms-of-use           & https://doi.org/10.5061/dryad.dk385                 & 8676e950-8ac5-4074-8ac3-c0a18ada7e99                & 2017-02-13                                          & https://doi.org/10.1111/pala.12283                  & d53dd280-221e-48f9-bbf8-d48aba12d818                & https://doi.org/10.13003/CED-terms-of-use           & create                                              & crossref                                            & 2017-05-19                                          & references                                          & 10.5061/                                            & 10.1111/                                           \\\\\n",
       "\t https://doi.org/10.13003/CED-terms-of-use           & https://doi.org/10.7930/J0H12ZXG                    & 8676e950-8ac5-4074-8ac3-c0a18ada7e99                & 2017-02-13                                          & https://doi.org/10.1007/s10669-017-9631-z           & a750e5b8-3bc6-4054-a321-949c7ad330c5                & https://doi.org/10.13003/CED-terms-of-use           & create                                              & crossref                                            & 2017-05-19                                          & references                                          & 10.7930/                                            & 10.1007/                                           \\\\\n",
       "\t https://doi.org/10.13003/CED-terms-of-use           & https://doi.org/10.5195/errs.2012.125               & 8676e950-8ac5-4074-8ac3-c0a18ada7e99                & 2016-11-21                                          & https://doi.org/10.1080/14702436.2016.1256209       & f007f43b-7649-4b43-9224-3729b2536f65                & https://doi.org/10.13003/CED-terms-of-use           & create                                              & crossref                                            & 2017-05-19                                          & references                                          & 10.5195/                                            & 10.1080/                                           \\\\\n",
       "\t https://doi.org/10.13003/CED-terms-of-use           & https://doi.org/10.5256/f1000research.10763.d151064 & 8676e950-8ac5-4074-8ac3-c0a18ada7e99                & 2017-02-10                                          & https://doi.org/10.12688/f1000research.10763.1      & 46f3df4f-74c0-42f2-a76d-b108f86d768b                & https://doi.org/10.13003/CED-terms-of-use           & create                                              & crossref                                            & 2017-05-19                                          & references                                          & 10.5256/                                            & 10.12688/                                          \\\\\n",
       "\t https://doi.org/10.13003/CED-terms-of-use           & https://doi.org/10.5281/zenodo.193080               & 8676e950-8ac5-4074-8ac3-c0a18ada7e99                & 2016-12-20                                          & https://doi.org/10.12688/f1000research.10426.1      & d871bfce-69ce-4437-be74-b8584ef3b0ec                & https://doi.org/10.13003/CED-terms-of-use           & create                                              & crossref                                            & 2017-05-19                                          & references                                          & 10.5281/                                            & 10.12688/                                          \\\\\n",
       "\\end{tabular}\n"
      ],
      "text/markdown": [
       "\n",
       "license | obj_id | source_token | occurred_at | subj_id | id | terms | message_action | source_id | timestamp | relation_type_id | obj_prefix | subj_prefix | \n",
       "|---|---|---|---|---|---|\n",
       "| https://doi.org/10.13003/CED-terms-of-use           | https://doi.org/10.13140/RG.2.1.1350.3122           | 8676e950-8ac5-4074-8ac3-c0a18ada7e99                | 2017-04-01                                          | https://doi.org/10.1109/LRA.2017.2651945            | 26eb9df3-c841-48c2-b3f8-239c0bf91506                | https://doi.org/10.13003/CED-terms-of-use           | create                                              | crossref                                            | 2017-05-19                                          | references                                          | 10.13140/                                           | 10.1109/                                            | \n",
       "| https://doi.org/10.13003/CED-terms-of-use           | https://doi.org/10.5061/dryad.dk385                 | 8676e950-8ac5-4074-8ac3-c0a18ada7e99                | 2017-02-13                                          | https://doi.org/10.1111/pala.12283                  | d53dd280-221e-48f9-bbf8-d48aba12d818                | https://doi.org/10.13003/CED-terms-of-use           | create                                              | crossref                                            | 2017-05-19                                          | references                                          | 10.5061/                                            | 10.1111/                                            | \n",
       "| https://doi.org/10.13003/CED-terms-of-use           | https://doi.org/10.7930/J0H12ZXG                    | 8676e950-8ac5-4074-8ac3-c0a18ada7e99                | 2017-02-13                                          | https://doi.org/10.1007/s10669-017-9631-z           | a750e5b8-3bc6-4054-a321-949c7ad330c5                | https://doi.org/10.13003/CED-terms-of-use           | create                                              | crossref                                            | 2017-05-19                                          | references                                          | 10.7930/                                            | 10.1007/                                            | \n",
       "| https://doi.org/10.13003/CED-terms-of-use           | https://doi.org/10.5195/errs.2012.125               | 8676e950-8ac5-4074-8ac3-c0a18ada7e99                | 2016-11-21                                          | https://doi.org/10.1080/14702436.2016.1256209       | f007f43b-7649-4b43-9224-3729b2536f65                | https://doi.org/10.13003/CED-terms-of-use           | create                                              | crossref                                            | 2017-05-19                                          | references                                          | 10.5195/                                            | 10.1080/                                            | \n",
       "| https://doi.org/10.13003/CED-terms-of-use           | https://doi.org/10.5256/f1000research.10763.d151064 | 8676e950-8ac5-4074-8ac3-c0a18ada7e99                | 2017-02-10                                          | https://doi.org/10.12688/f1000research.10763.1      | 46f3df4f-74c0-42f2-a76d-b108f86d768b                | https://doi.org/10.13003/CED-terms-of-use           | create                                              | crossref                                            | 2017-05-19                                          | references                                          | 10.5256/                                            | 10.12688/                                           | \n",
       "| https://doi.org/10.13003/CED-terms-of-use           | https://doi.org/10.5281/zenodo.193080               | 8676e950-8ac5-4074-8ac3-c0a18ada7e99                | 2016-12-20                                          | https://doi.org/10.12688/f1000research.10426.1      | d871bfce-69ce-4437-be74-b8584ef3b0ec                | https://doi.org/10.13003/CED-terms-of-use           | create                                              | crossref                                            | 2017-05-19                                          | references                                          | 10.5281/                                            | 10.12688/                                           | \n",
       "\n",
       "\n"
      ],
      "text/plain": [
       "  license                                  \n",
       "1 https://doi.org/10.13003/CED-terms-of-use\n",
       "2 https://doi.org/10.13003/CED-terms-of-use\n",
       "3 https://doi.org/10.13003/CED-terms-of-use\n",
       "4 https://doi.org/10.13003/CED-terms-of-use\n",
       "5 https://doi.org/10.13003/CED-terms-of-use\n",
       "6 https://doi.org/10.13003/CED-terms-of-use\n",
       "  obj_id                                             \n",
       "1 https://doi.org/10.13140/RG.2.1.1350.3122          \n",
       "2 https://doi.org/10.5061/dryad.dk385                \n",
       "3 https://doi.org/10.7930/J0H12ZXG                   \n",
       "4 https://doi.org/10.5195/errs.2012.125              \n",
       "5 https://doi.org/10.5256/f1000research.10763.d151064\n",
       "6 https://doi.org/10.5281/zenodo.193080              \n",
       "  source_token                         occurred_at\n",
       "1 8676e950-8ac5-4074-8ac3-c0a18ada7e99 2017-04-01 \n",
       "2 8676e950-8ac5-4074-8ac3-c0a18ada7e99 2017-02-13 \n",
       "3 8676e950-8ac5-4074-8ac3-c0a18ada7e99 2017-02-13 \n",
       "4 8676e950-8ac5-4074-8ac3-c0a18ada7e99 2016-11-21 \n",
       "5 8676e950-8ac5-4074-8ac3-c0a18ada7e99 2017-02-10 \n",
       "6 8676e950-8ac5-4074-8ac3-c0a18ada7e99 2016-12-20 \n",
       "  subj_id                                       \n",
       "1 https://doi.org/10.1109/LRA.2017.2651945      \n",
       "2 https://doi.org/10.1111/pala.12283            \n",
       "3 https://doi.org/10.1007/s10669-017-9631-z     \n",
       "4 https://doi.org/10.1080/14702436.2016.1256209 \n",
       "5 https://doi.org/10.12688/f1000research.10763.1\n",
       "6 https://doi.org/10.12688/f1000research.10426.1\n",
       "  id                                  \n",
       "1 26eb9df3-c841-48c2-b3f8-239c0bf91506\n",
       "2 d53dd280-221e-48f9-bbf8-d48aba12d818\n",
       "3 a750e5b8-3bc6-4054-a321-949c7ad330c5\n",
       "4 f007f43b-7649-4b43-9224-3729b2536f65\n",
       "5 46f3df4f-74c0-42f2-a76d-b108f86d768b\n",
       "6 d871bfce-69ce-4437-be74-b8584ef3b0ec\n",
       "  terms                                     message_action source_id timestamp \n",
       "1 https://doi.org/10.13003/CED-terms-of-use create         crossref  2017-05-19\n",
       "2 https://doi.org/10.13003/CED-terms-of-use create         crossref  2017-05-19\n",
       "3 https://doi.org/10.13003/CED-terms-of-use create         crossref  2017-05-19\n",
       "4 https://doi.org/10.13003/CED-terms-of-use create         crossref  2017-05-19\n",
       "5 https://doi.org/10.13003/CED-terms-of-use create         crossref  2017-05-19\n",
       "6 https://doi.org/10.13003/CED-terms-of-use create         crossref  2017-05-19\n",
       "  relation_type_id obj_prefix subj_prefix\n",
       "1 references       10.13140/  10.1109/   \n",
       "2 references       10.5061/   10.1111/   \n",
       "3 references       10.7930/   10.1007/   \n",
       "4 references       10.5195/   10.1080/   \n",
       "5 references       10.5256/   10.12688/  \n",
       "6 references       10.5281/   10.12688/  "
      ]
     },
     "metadata": {},
     "output_type": "display_data"
    }
   ],
   "source": [
    "head(data_pack)"
   ]
  },
  {
   "cell_type": "code",
   "execution_count": 154,
   "metadata": {},
   "outputs": [],
   "source": [
    "save(data_pack,file=\"../data/11032018_Mugging_Crossref_Datacite_links_out.Rda\")"
   ]
  },
  {
   "cell_type": "markdown",
   "metadata": {
    "collapsed": true
   },
   "source": [
    "## Processing Adding Datcentre\n",
    "\n",
    "https://api.datacite.org/works?query=prefix:10.5256&rows=1"
   ]
  },
  {
   "cell_type": "code",
   "execution_count": 2,
   "metadata": {
    "collapsed": true
   },
   "outputs": [],
   "source": [
    "load('../data/05072017_Mugging_Crossref_Datacite_links_out.Rda')"
   ]
  },
  {
   "cell_type": "code",
   "execution_count": 12,
   "metadata": {},
   "outputs": [],
   "source": [
    "# data\n"
   ]
  },
  {
   "cell_type": "code",
   "execution_count": 13,
   "metadata": {},
   "outputs": [],
   "source": [
    "# data <- data %>% \n",
    "#     rowwise() %>% \n",
    "#     mutate(obj_dc = get_dcdatacentre(obj_id)) \n",
    "# nrow(data)"
   ]
  },
  {
   "cell_type": "code",
   "execution_count": 14,
   "metadata": {},
   "outputs": [],
   "source": [
    "# data$obj_id[1]"
   ]
  },
  {
   "cell_type": "code",
   "execution_count": 182,
   "metadata": {},
   "outputs": [],
   "source": [
    "get_dcdatacentrebyprefix<- function(obj_prefix){\n",
    "    prefix <- obj_prefix\n",
    "    url <- sprintf(\"https://api.datacite.org/prefixes/%s/\", prefix)\n",
    "    \n",
    "    dc_info<-fromJSON(url)\n",
    "#     return(head(dc_info$meta$`data-centers`,1)$title)\n",
    "    id <- head(dc_info$data$relationships$clients$data,1)$id\n",
    "    if(!is.null(id)){\n",
    "        print(id)\n",
    "        client<-fromJSON(paste0('https://api.datacite.org/clients/',id))\n",
    "        clientinfo<-client$data$attributes$name\n",
    "    }else{\n",
    "        clientinfo<-\"No client\"\n",
    "    }\n",
    "\n",
    "    return(clientinfo)\n",
    "}\n",
    "\n",
    "# get_dcdatacentrebyprefix(\"10.13140/\")"
   ]
  },
  {
   "cell_type": "code",
   "execution_count": null,
   "metadata": {},
   "outputs": [],
   "source": []
  },
  {
   "cell_type": "code",
   "execution_count": 183,
   "metadata": {},
   "outputs": [],
   "source": [
    "get_xrdatacentrebyprefix<- function(subj_prefix){\n",
    "    dc_info<-fromJSON(paste0('https://api.crossref.org/prefixes/',(subj_prefix)))\n",
    "    return(head(dc_info$message$name,1))\n",
    "}\n",
    "\n",
    "\n"
   ]
  },
  {
   "cell_type": "code",
   "execution_count": 184,
   "metadata": {},
   "outputs": [],
   "source": [
    "get_datacentreName <- function(prefix){\n",
    "    ra<- get_ra(prefix)\n",
    "    print(ra)\n",
    "    print(prefix)\n",
    "    if(ra == \"DataCite\"){\n",
    "        r<-get_dcdatacentrebyprefix(prefix)\n",
    "        print(prefix)\n",
    "    }\n",
    "    else{\n",
    "        r<-get_xrdatacentrebyprefix(prefix)\n",
    "    }\n",
    "    return(r)\n",
    "}\n",
    "\n"
   ]
  },
  {
   "cell_type": "code",
   "execution_count": 185,
   "metadata": {},
   "outputs": [],
   "source": [
    "get_listOfPrefix_Names<-function(data){\n",
    "    prefixes<-as.data.frame(unique(data$obj_prefix))\n",
    "    prefixes$value<-prefixes$`unique(data$obj_prefix)`\n",
    "    colnames(prefixes)[2] <- \"obj_prefix\"\n",
    "\n",
    "\n",
    "    prefixes <- prefixes %>% \n",
    "        rowwise() %>% \n",
    "        mutate(\n",
    "            obj_dc = as.factor(get_datacentreName(obj_prefix)) \n",
    "        )\n",
    "    return(prefixes)\n",
    "}\n",
    "# get_listOfPrefix_Names(data_pack)"
   ]
  },
  {
   "cell_type": "code",
   "execution_count": 191,
   "metadata": {},
   "outputs": [
    {
     "name": "stdout",
     "output_type": "stream",
     "text": [
      "[1] \"DataCite\"\n",
      "[1] 10.13140/\n",
      "379 Levels: 10.11577/ 10.11586/ 10.11588/ 10.1184/ 10.12682/ ... 10.7945/\n",
      "[1] \"rg.rg\"\n",
      "[1] 10.13140/\n",
      "379 Levels: 10.11577/ 10.11586/ 10.11588/ 10.1184/ 10.12682/ ... 10.7945/\n",
      "[1] \"DataCite\"\n",
      "[1] 10.5061/\n",
      "379 Levels: 10.11577/ 10.11586/ 10.11588/ 10.1184/ 10.12682/ ... 10.7945/\n",
      "[1] \"cdl.dryad\"\n",
      "[1] 10.5061/\n",
      "379 Levels: 10.11577/ 10.11586/ 10.11588/ 10.1184/ 10.12682/ ... 10.7945/\n"
     ]
    },
    {
     "name": "stderr",
     "output_type": "stream",
     "text": [
      "Warning message in mutate_impl(.data, dots):\n",
      "“Unequal factor levels: coercing to character”Warning message in mutate_impl(.data, dots):\n",
      "“binding character and factor vector, coercing into character vector”Warning message in mutate_impl(.data, dots):\n",
      "“binding character and factor vector, coercing into character vector”"
     ]
    },
    {
     "name": "stdout",
     "output_type": "stream",
     "text": [
      "[1] \"DataCite\"\n",
      "[1] 10.7930/\n",
      "379 Levels: 10.11577/ 10.11586/ 10.11588/ 10.1184/ 10.12682/ ... 10.7945/\n",
      "[1] \"cdl.usgcrp\"\n",
      "[1] 10.7930/\n",
      "379 Levels: 10.11577/ 10.11586/ 10.11588/ 10.1184/ 10.12682/ ... 10.7945/\n"
     ]
    },
    {
     "name": "stderr",
     "output_type": "stream",
     "text": [
      "Warning message in mutate_impl(.data, dots):\n",
      "“binding character and factor vector, coercing into character vector”"
     ]
    },
    {
     "name": "stdout",
     "output_type": "stream",
     "text": [
      "[1] \"DataCite\"\n",
      "[1] 10.5195/\n",
      "379 Levels: 10.11577/ 10.11586/ 10.11588/ 10.1184/ 10.12682/ ... 10.7945/\n",
      "[1] \"cdl.pitt\"\n",
      "[1] 10.5195/\n",
      "379 Levels: 10.11577/ 10.11586/ 10.11588/ 10.1184/ 10.12682/ ... 10.7945/\n"
     ]
    },
    {
     "name": "stderr",
     "output_type": "stream",
     "text": [
      "Warning message in mutate_impl(.data, dots):\n",
      "“binding character and factor vector, coercing into character vector”"
     ]
    },
    {
     "name": "stdout",
     "output_type": "stream",
     "text": [
      "[1] \"DataCite\"\n",
      "[1] 10.5256/\n",
      "379 Levels: 10.11577/ 10.11586/ 10.11588/ 10.1184/ 10.12682/ ... 10.7945/\n",
      "[1] \"bl.f1000r\"\n",
      "[1] 10.5256/\n",
      "379 Levels: 10.11577/ 10.11586/ 10.11588/ 10.1184/ 10.12682/ ... 10.7945/\n"
     ]
    },
    {
     "name": "stderr",
     "output_type": "stream",
     "text": [
      "Warning message in mutate_impl(.data, dots):\n",
      "“binding character and factor vector, coercing into character vector”"
     ]
    },
    {
     "name": "stdout",
     "output_type": "stream",
     "text": [
      "[1] \"DataCite\"\n",
      "[1] 10.5281/\n",
      "379 Levels: 10.11577/ 10.11586/ 10.11588/ 10.1184/ 10.12682/ ... 10.7945/\n",
      "[1] \"cern.zenodo\"\n",
      "[1] 10.5281/\n",
      "379 Levels: 10.11577/ 10.11586/ 10.11588/ 10.1184/ 10.12682/ ... 10.7945/\n"
     ]
    },
    {
     "name": "stderr",
     "output_type": "stream",
     "text": [
      "Warning message in mutate_impl(.data, dots):\n",
      "“binding character and factor vector, coercing into character vector”"
     ]
    },
    {
     "name": "stdout",
     "output_type": "stream",
     "text": [
      "[1] \"Crossref\"\n",
      "[1] 10.18433/\n",
      "379 Levels: 10.11577/ 10.11586/ 10.11588/ 10.1184/ 10.12682/ ... 10.7945/\n"
     ]
    },
    {
     "name": "stderr",
     "output_type": "stream",
     "text": [
      "Warning message in mutate_impl(.data, dots):\n",
      "“binding character and factor vector, coercing into character vector”"
     ]
    },
    {
     "name": "stdout",
     "output_type": "stream",
     "text": [
      "[1] \"DataCite\"\n",
      "[1] 10.5681/\n",
      "379 Levels: 10.11577/ 10.11586/ 10.11588/ 10.1184/ 10.12682/ ... 10.7945/\n",
      "[1] \"zbmed.tabriz\"\n",
      "[1] 10.5681/\n",
      "379 Levels: 10.11577/ 10.11586/ 10.11588/ 10.1184/ 10.12682/ ... 10.7945/\n"
     ]
    },
    {
     "name": "stderr",
     "output_type": "stream",
     "text": [
      "Warning message in mutate_impl(.data, dots):\n",
      "“binding character and factor vector, coercing into character vector”"
     ]
    },
    {
     "name": "stdout",
     "output_type": "stream",
     "text": [
      "[1] \"DataCite\"\n",
      "[1] 10.3886/\n",
      "379 Levels: 10.11577/ 10.11586/ 10.11588/ 10.1184/ 10.12682/ ... 10.7945/\n",
      "[1] \"gesis.icpsr\"\n",
      "[1] 10.3886/\n",
      "379 Levels: 10.11577/ 10.11586/ 10.11588/ 10.1184/ 10.12682/ ... 10.7945/\n"
     ]
    },
    {
     "name": "stderr",
     "output_type": "stream",
     "text": [
      "Warning message in mutate_impl(.data, dots):\n",
      "“binding character and factor vector, coercing into character vector”"
     ]
    },
    {
     "name": "stdout",
     "output_type": "stream",
     "text": [
      "[1] \"DataCite\"\n",
      "[1] 10.3205/\n",
      "379 Levels: 10.11577/ 10.11586/ 10.11588/ 10.1184/ 10.12682/ ... 10.7945/\n",
      "[1] \"zbmed.gms\"\n",
      "[1] 10.3205/\n",
      "379 Levels: 10.11577/ 10.11586/ 10.11588/ 10.1184/ 10.12682/ ... 10.7945/\n"
     ]
    },
    {
     "name": "stderr",
     "output_type": "stream",
     "text": [
      "Warning message in mutate_impl(.data, dots):\n",
      "“binding character and factor vector, coercing into character vector”"
     ]
    },
    {
     "name": "stdout",
     "output_type": "stream",
     "text": [
      "[1] \"DataCite\"\n",
      "[1] 10.7490/\n",
      "379 Levels: 10.11577/ 10.11586/ 10.11588/ 10.1184/ 10.12682/ ... 10.7945/\n",
      "[1] \"bl.f1000r\"\n",
      "[1] 10.7490/\n",
      "379 Levels: 10.11577/ 10.11586/ 10.11588/ 10.1184/ 10.12682/ ... 10.7945/\n"
     ]
    },
    {
     "name": "stderr",
     "output_type": "stream",
     "text": [
      "Warning message in mutate_impl(.data, dots):\n",
      "“binding character and factor vector, coercing into character vector”"
     ]
    },
    {
     "name": "stdout",
     "output_type": "stream",
     "text": [
      "[1] \"DataCite\"\n",
      "[1] 10.5524/\n",
      "379 Levels: 10.11577/ 10.11586/ 10.11588/ 10.1184/ 10.12682/ ... 10.7945/\n",
      "[1] \"bl.bgi\"\n",
      "[1] 10.5524/\n",
      "379 Levels: 10.11577/ 10.11586/ 10.11588/ 10.1184/ 10.12682/ ... 10.7945/\n"
     ]
    },
    {
     "name": "stderr",
     "output_type": "stream",
     "text": [
      "Warning message in mutate_impl(.data, dots):\n",
      "“binding character and factor vector, coercing into character vector”"
     ]
    },
    {
     "name": "stdout",
     "output_type": "stream",
     "text": [
      "[1] \"DataCite\"\n",
      "[1] 10.6084/\n",
      "379 Levels: 10.11577/ 10.11586/ 10.11588/ 10.1184/ 10.12682/ ... 10.7945/\n",
      "[1] \"figshare.ars\"\n",
      "[1] 10.6084/\n",
      "379 Levels: 10.11577/ 10.11586/ 10.11588/ 10.1184/ 10.12682/ ... 10.7945/\n"
     ]
    },
    {
     "name": "stderr",
     "output_type": "stream",
     "text": [
      "Warning message in mutate_impl(.data, dots):\n",
      "“binding character and factor vector, coercing into character vector”"
     ]
    },
    {
     "name": "stdout",
     "output_type": "stream",
     "text": [
      "[1] \"DataCite\"\n",
      "[1] 10.4119/\n",
      "379 Levels: 10.11577/ 10.11586/ 10.11588/ 10.1184/ 10.12682/ ... 10.7945/\n",
      "[1] \"tib.unibi\"\n",
      "[1] 10.4119/\n",
      "379 Levels: 10.11577/ 10.11586/ 10.11588/ 10.1184/ 10.12682/ ... 10.7945/\n"
     ]
    },
    {
     "name": "stderr",
     "output_type": "stream",
     "text": [
      "Warning message in mutate_impl(.data, dots):\n",
      "“binding character and factor vector, coercing into character vector”"
     ]
    },
    {
     "name": "stdout",
     "output_type": "stream",
     "text": [
      "[1] \"DataCite\"\n",
      "[1] 10.17863/\n",
      "379 Levels: 10.11577/ 10.11586/ 10.11588/ 10.1184/ 10.12682/ ... 10.7945/\n",
      "[1] \"bl.cam\"\n",
      "[1] 10.17863/\n",
      "379 Levels: 10.11577/ 10.11586/ 10.11588/ 10.1184/ 10.12682/ ... 10.7945/\n"
     ]
    },
    {
     "name": "stderr",
     "output_type": "stream",
     "text": [
      "Warning message in mutate_impl(.data, dots):\n",
      "“binding character and factor vector, coercing into character vector”"
     ]
    },
    {
     "name": "stdout",
     "output_type": "stream",
     "text": [
      "[1] \"DataCite\"\n",
      "[1] 10.18162/\n",
      "379 Levels: 10.11577/ 10.11586/ 10.11588/ 10.1184/ 10.12682/ ... 10.7945/\n",
      "[1] \"cisti.crifpe\"\n",
      "[1] 10.18162/\n",
      "379 Levels: 10.11577/ 10.11586/ 10.11588/ 10.1184/ 10.12682/ ... 10.7945/\n"
     ]
    },
    {
     "name": "stderr",
     "output_type": "stream",
     "text": [
      "Warning message in mutate_impl(.data, dots):\n",
      "“binding character and factor vector, coercing into character vector”"
     ]
    },
    {
     "name": "stdout",
     "output_type": "stream",
     "text": [
      "[1] \"DataCite\"\n",
      "[1] 10.5678/\n",
      "379 Levels: 10.11577/ 10.11586/ 10.11588/ 10.1184/ 10.12682/ ... 10.7945/\n",
      "[1] \"tib.for816\"\n",
      "[1] 10.5678/\n",
      "379 Levels: 10.11577/ 10.11586/ 10.11588/ 10.1184/ 10.12682/ ... 10.7945/\n"
     ]
    },
    {
     "name": "stderr",
     "output_type": "stream",
     "text": [
      "Warning message in mutate_impl(.data, dots):\n",
      "“binding character and factor vector, coercing into character vector”"
     ]
    },
    {
     "name": "stdout",
     "output_type": "stream",
     "text": [
      "[1] \"Crossref\"\n",
      "[1] 10.18438/\n",
      "379 Levels: 10.11577/ 10.11586/ 10.11588/ 10.1184/ 10.12682/ ... 10.7945/\n"
     ]
    },
    {
     "name": "stderr",
     "output_type": "stream",
     "text": [
      "Warning message in mutate_impl(.data, dots):\n",
      "“binding character and factor vector, coercing into character vector”"
     ]
    },
    {
     "name": "stdout",
     "output_type": "stream",
     "text": [
      "[1] \"DataCite\"\n",
      "[1] 10.5078/\n",
      "379 Levels: 10.11577/ 10.11586/ 10.11588/ 10.1184/ 10.12682/ ... 10.7945/\n",
      "[1] \"ethz.corssa\"\n",
      "[1] 10.5078/\n",
      "379 Levels: 10.11577/ 10.11586/ 10.11588/ 10.1184/ 10.12682/ ... 10.7945/\n"
     ]
    },
    {
     "name": "stderr",
     "output_type": "stream",
     "text": [
      "Warning message in mutate_impl(.data, dots):\n",
      "“binding character and factor vector, coercing into character vector”"
     ]
    },
    {
     "name": "stdout",
     "output_type": "stream",
     "text": [
      "[1] \"DataCite\"\n",
      "[1] 10.5255/\n",
      "379 Levels: 10.11577/ 10.11586/ 10.11588/ 10.1184/ 10.12682/ ... 10.7945/\n",
      "[1] \"bl.ukda\"\n",
      "[1] 10.5255/\n",
      "379 Levels: 10.11577/ 10.11586/ 10.11588/ 10.1184/ 10.12682/ ... 10.7945/\n"
     ]
    },
    {
     "name": "stderr",
     "output_type": "stream",
     "text": [
      "Warning message in mutate_impl(.data, dots):\n",
      "“binding character and factor vector, coercing into character vector”"
     ]
    },
    {
     "name": "stdout",
     "output_type": "stream",
     "text": [
      "[1] \"DataCite\"\n",
      "[1] 10.5070/\n",
      "379 Levels: 10.11577/ 10.11586/ 10.11588/ 10.1184/ 10.12682/ ... 10.7945/\n",
      "[1] \"cdl.eschol\"\n",
      "[1] 10.5070/\n",
      "379 Levels: 10.11577/ 10.11586/ 10.11588/ 10.1184/ 10.12682/ ... 10.7945/\n"
     ]
    },
    {
     "name": "stderr",
     "output_type": "stream",
     "text": [
      "Warning message in mutate_impl(.data, dots):\n",
      "“binding character and factor vector, coercing into character vector”"
     ]
    },
    {
     "name": "stdout",
     "output_type": "stream",
     "text": [
      "[1] \"DataCite\"\n",
      "[1] 10.1594/\n",
      "379 Levels: 10.11577/ 10.11586/ 10.11588/ 10.1184/ 10.12682/ ... 10.7945/\n",
      "[1] \"tib.wdcc\"\n",
      "[1] 10.1594/\n",
      "379 Levels: 10.11577/ 10.11586/ 10.11588/ 10.1184/ 10.12682/ ... 10.7945/\n"
     ]
    },
    {
     "name": "stderr",
     "output_type": "stream",
     "text": [
      "Warning message in mutate_impl(.data, dots):\n",
      "“binding character and factor vector, coercing into character vector”"
     ]
    },
    {
     "name": "stdout",
     "output_type": "stream",
     "text": [
      "[1] \"DataCite\"\n",
      "[1] 10.5067/\n",
      "379 Levels: 10.11577/ 10.11586/ 10.11588/ 10.1184/ 10.12682/ ... 10.7945/\n",
      "[1] \"cdl.nasagsfc\"\n",
      "[1] 10.5067/\n",
      "379 Levels: 10.11577/ 10.11586/ 10.11588/ 10.1184/ 10.12682/ ... 10.7945/\n"
     ]
    },
    {
     "name": "stderr",
     "output_type": "stream",
     "text": [
      "Warning message in mutate_impl(.data, dots):\n",
      "“binding character and factor vector, coercing into character vector”"
     ]
    },
    {
     "name": "stdout",
     "output_type": "stream",
     "text": [
      "[1] \"DataCite\"\n",
      "[1] 10.7289/\n",
      "379 Levels: 10.11577/ 10.11586/ 10.11588/ 10.1184/ 10.12682/ ... 10.7945/\n",
      "[1] \"cdl.noaa\"\n",
      "[1] 10.7289/\n",
      "379 Levels: 10.11577/ 10.11586/ 10.11588/ 10.1184/ 10.12682/ ... 10.7945/\n"
     ]
    },
    {
     "name": "stderr",
     "output_type": "stream",
     "text": [
      "Warning message in mutate_impl(.data, dots):\n",
      "“binding character and factor vector, coercing into character vector”"
     ]
    },
    {
     "name": "stdout",
     "output_type": "stream",
     "text": [
      "[1] \"DataCite\"\n",
      "[1] 10.5062/\n",
      "379 Levels: 10.11577/ 10.11586/ 10.11588/ 10.1184/ 10.12682/ ... 10.7945/\n",
      "[1] \"cdl.ucsb\"\n",
      "[1] 10.5062/\n",
      "379 Levels: 10.11577/ 10.11586/ 10.11588/ 10.1184/ 10.12682/ ... 10.7945/\n"
     ]
    },
    {
     "name": "stderr",
     "output_type": "stream",
     "text": [
      "Warning message in mutate_impl(.data, dots):\n",
      "“binding character and factor vector, coercing into character vector”"
     ]
    },
    {
     "name": "stdout",
     "output_type": "stream",
     "text": [
      "[1] \"DataCite\"\n",
      "[1] 10.7489/\n",
      "379 Levels: 10.11577/ 10.11586/ 10.11588/ 10.1184/ 10.12682/ ... 10.7945/\n",
      "[1] \"bl.marinesc\"\n",
      "[1] 10.7489/\n",
      "379 Levels: 10.11577/ 10.11586/ 10.11588/ 10.1184/ 10.12682/ ... 10.7945/\n"
     ]
    },
    {
     "name": "stderr",
     "output_type": "stream",
     "text": [
      "Warning message in mutate_impl(.data, dots):\n",
      "“binding character and factor vector, coercing into character vector”"
     ]
    },
    {
     "name": "stdout",
     "output_type": "stream",
     "text": [
      "[1] \"DataCite\"\n",
      "[1] 10.5440/\n",
      "379 Levels: 10.11577/ 10.11586/ 10.11588/ 10.1184/ 10.12682/ ... 10.7945/\n",
      "[1] \"osti.ornlngee\"\n",
      "[1] 10.5440/\n",
      "379 Levels: 10.11577/ 10.11586/ 10.11588/ 10.1184/ 10.12682/ ... 10.7945/\n"
     ]
    },
    {
     "name": "stderr",
     "output_type": "stream",
     "text": [
      "Warning message in mutate_impl(.data, dots):\n",
      "“binding character and factor vector, coercing into character vector”"
     ]
    },
    {
     "name": "stdout",
     "output_type": "stream",
     "text": [
      "[1] \"DataCite\"\n",
      "[1] 10.7265/\n",
      "379 Levels: 10.11577/ 10.11586/ 10.11588/ 10.1184/ 10.12682/ ... 10.7945/\n",
      "[1] \"cdl.nsidc\"\n",
      "[1] 10.7265/\n",
      "379 Levels: 10.11577/ 10.11586/ 10.11588/ 10.1184/ 10.12682/ ... 10.7945/\n"
     ]
    },
    {
     "name": "stderr",
     "output_type": "stream",
     "text": [
      "Warning message in mutate_impl(.data, dots):\n",
      "“binding character and factor vector, coercing into character vector”"
     ]
    },
    {
     "name": "stdout",
     "output_type": "stream",
     "text": [
      "[1] \"DataCite\"\n",
      "[1] 10.3204/\n",
      "379 Levels: 10.11577/ 10.11586/ 10.11588/ 10.1184/ 10.12682/ ... 10.7945/\n",
      "[1] \"tib.desy\"\n",
      "[1] 10.3204/\n",
      "379 Levels: 10.11577/ 10.11586/ 10.11588/ 10.1184/ 10.12682/ ... 10.7945/\n"
     ]
    },
    {
     "name": "stderr",
     "output_type": "stream",
     "text": [
      "Warning message in mutate_impl(.data, dots):\n",
      "“binding character and factor vector, coercing into character vector”"
     ]
    },
    {
     "name": "stdout",
     "output_type": "stream",
     "text": [
      "[1] \"DataCite\"\n",
      "[1] 10.6092/\n",
      "379 Levels: 10.11577/ 10.11586/ 10.11588/ 10.1184/ 10.12682/ ... 10.7945/\n",
      "[1] \"crui.imtlucca\"\n",
      "[1] 10.6092/\n",
      "379 Levels: 10.11577/ 10.11586/ 10.11588/ 10.1184/ 10.12682/ ... 10.7945/\n"
     ]
    },
    {
     "name": "stderr",
     "output_type": "stream",
     "text": [
      "Warning message in mutate_impl(.data, dots):\n",
      "“binding character and factor vector, coercing into character vector”"
     ]
    },
    {
     "name": "stdout",
     "output_type": "stream",
     "text": [
      "[1] \"DataCite\"\n",
      "[1] 10.5167/\n",
      "379 Levels: 10.11577/ 10.11586/ 10.11588/ 10.1184/ 10.12682/ ... 10.7945/\n",
      "[1] \"ethz.zora\"\n",
      "[1] 10.5167/\n",
      "379 Levels: 10.11577/ 10.11586/ 10.11588/ 10.1184/ 10.12682/ ... 10.7945/\n"
     ]
    },
    {
     "name": "stderr",
     "output_type": "stream",
     "text": [
      "Warning message in mutate_impl(.data, dots):\n",
      "“binding character and factor vector, coercing into character vector”"
     ]
    },
    {
     "name": "stdout",
     "output_type": "stream",
     "text": [
      "[1] \"DataCite\"\n",
      "[1] 10.4231/\n",
      "379 Levels: 10.11577/ 10.11586/ 10.11588/ 10.1184/ 10.12682/ ... 10.7945/\n",
      "[1] \"purdue.ezid\"\n",
      "[1] 10.4231/\n",
      "379 Levels: 10.11577/ 10.11586/ 10.11588/ 10.1184/ 10.12682/ ... 10.7945/\n"
     ]
    },
    {
     "name": "stderr",
     "output_type": "stream",
     "text": [
      "Warning message in mutate_impl(.data, dots):\n",
      "“binding character and factor vector, coercing into character vector”"
     ]
    },
    {
     "name": "stdout",
     "output_type": "stream",
     "text": [
      "[1] \"DataCite\"\n",
      "[1] 10.18148/\n",
      "379 Levels: 10.11577/ 10.11586/ 10.11588/ 10.1184/ 10.12682/ ... 10.7945/\n",
      "[1] \"tib.ukon\"\n",
      "[1] 10.18148/\n",
      "379 Levels: 10.11577/ 10.11586/ 10.11588/ 10.1184/ 10.12682/ ... 10.7945/\n"
     ]
    },
    {
     "name": "stderr",
     "output_type": "stream",
     "text": [
      "Warning message in mutate_impl(.data, dots):\n",
      "“binding character and factor vector, coercing into character vector”"
     ]
    },
    {
     "name": "stdout",
     "output_type": "stream",
     "text": [
      "[1] \"DataCite\"\n",
      "[1] 10.2312/\n",
      "379 Levels: 10.11577/ 10.11586/ 10.11588/ 10.1184/ 10.12682/ ... 10.7945/\n",
      "[1] \"tib.wdcc\"\n",
      "[1] 10.2312/\n",
      "379 Levels: 10.11577/ 10.11586/ 10.11588/ 10.1184/ 10.12682/ ... 10.7945/\n"
     ]
    },
    {
     "name": "stderr",
     "output_type": "stream",
     "text": [
      "Warning message in mutate_impl(.data, dots):\n",
      "“binding character and factor vector, coercing into character vector”"
     ]
    },
    {
     "name": "stdout",
     "output_type": "stream",
     "text": [
      "[1] \"DataCite\"\n",
      "[1] 10.5169/\n",
      "379 Levels: 10.11577/ 10.11586/ 10.11588/ 10.1184/ 10.12682/ ... 10.7945/\n",
      "[1] \"ethz.seals\"\n",
      "[1] 10.5169/\n",
      "379 Levels: 10.11577/ 10.11586/ 10.11588/ 10.1184/ 10.12682/ ... 10.7945/\n"
     ]
    },
    {
     "name": "stderr",
     "output_type": "stream",
     "text": [
      "Warning message in mutate_impl(.data, dots):\n",
      "“binding character and factor vector, coercing into character vector”"
     ]
    },
    {
     "name": "stdout",
     "output_type": "stream",
     "text": [
      "[1] \"DataCite\"\n",
      "[1] 10.14465/\n",
      "379 Levels: 10.11577/ 10.11586/ 10.11588/ 10.1184/ 10.12682/ ... 10.7945/\n",
      "[1] \"bl.cefas\"\n",
      "[1] 10.14465/\n",
      "379 Levels: 10.11577/ 10.11586/ 10.11588/ 10.1184/ 10.12682/ ... 10.7945/\n"
     ]
    },
    {
     "name": "stderr",
     "output_type": "stream",
     "text": [
      "Warning message in mutate_impl(.data, dots):\n",
      "“binding character and factor vector, coercing into character vector”"
     ]
    },
    {
     "name": "stdout",
     "output_type": "stream",
     "text": [
      "[1] \"DataCite\"\n",
      "[1] 10.3334/\n",
      "379 Levels: 10.11577/ 10.11586/ 10.11588/ 10.1184/ 10.12682/ ... 10.7945/\n",
      "[1] \"cdl.ornl\"\n",
      "[1] 10.3334/\n",
      "379 Levels: 10.11577/ 10.11586/ 10.11588/ 10.1184/ 10.12682/ ... 10.7945/\n"
     ]
    },
    {
     "name": "stderr",
     "output_type": "stream",
     "text": [
      "Warning message in mutate_impl(.data, dots):\n",
      "“binding character and factor vector, coercing into character vector”"
     ]
    },
    {
     "name": "stdout",
     "output_type": "stream",
     "text": [
      "[1] \"DataCite\"\n",
      "[1] 10.15783/\n",
      "379 Levels: 10.11577/ 10.11586/ 10.11588/ 10.1184/ 10.12682/ ... 10.7945/\n",
      "[1] \"cdl.crawdad\"\n",
      "[1] 10.15783/\n",
      "379 Levels: 10.11577/ 10.11586/ 10.11588/ 10.1184/ 10.12682/ ... 10.7945/\n"
     ]
    },
    {
     "name": "stderr",
     "output_type": "stream",
     "text": [
      "Warning message in mutate_impl(.data, dots):\n",
      "“binding character and factor vector, coercing into character vector”"
     ]
    },
    {
     "name": "stdout",
     "output_type": "stream",
     "text": [
      "[1] \"DataCite\"\n",
      "[1] 10.6101/\n",
      "379 Levels: 10.11577/ 10.11586/ 10.11588/ 10.1184/ 10.12682/ ... 10.7945/\n",
      "[1] \"zbmed.aezq\"\n",
      "[1] 10.6101/\n",
      "379 Levels: 10.11577/ 10.11586/ 10.11588/ 10.1184/ 10.12682/ ... 10.7945/\n"
     ]
    },
    {
     "name": "stderr",
     "output_type": "stream",
     "text": [
      "Warning message in mutate_impl(.data, dots):\n",
      "“binding character and factor vector, coercing into character vector”"
     ]
    },
    {
     "name": "stdout",
     "output_type": "stream",
     "text": [
      "[1] \"DataCite\"\n",
      "[1] 10.5075/\n",
      "379 Levels: 10.11577/ 10.11586/ 10.11588/ 10.1184/ 10.12682/ ... 10.7945/\n",
      "[1] \"ethz.epfl\"\n",
      "[1] 10.5075/\n",
      "379 Levels: 10.11577/ 10.11586/ 10.11588/ 10.1184/ 10.12682/ ... 10.7945/\n"
     ]
    },
    {
     "name": "stderr",
     "output_type": "stream",
     "text": [
      "Warning message in mutate_impl(.data, dots):\n",
      "“binding character and factor vector, coercing into character vector”"
     ]
    },
    {
     "name": "stdout",
     "output_type": "stream",
     "text": [
      "[1] \"DataCite\"\n",
      "[1] 10.5285/\n",
      "379 Levels: 10.11577/ 10.11586/ 10.11588/ 10.1184/ 10.12682/ ... 10.7945/\n",
      "[1] \"bl.nerc\"\n",
      "[1] 10.5285/\n",
      "379 Levels: 10.11577/ 10.11586/ 10.11588/ 10.1184/ 10.12682/ ... 10.7945/\n"
     ]
    },
    {
     "name": "stderr",
     "output_type": "stream",
     "text": [
      "Warning message in mutate_impl(.data, dots):\n",
      "“binding character and factor vector, coercing into character vector”"
     ]
    },
    {
     "name": "stdout",
     "output_type": "stream",
     "text": [
      "[1] \"DataCite\"\n",
      "[1] 10.7892/\n",
      "379 Levels: 10.11577/ 10.11586/ 10.11588/ 10.1184/ 10.12682/ ... 10.7945/\n",
      "[1] \"ethz.boris\"\n",
      "[1] 10.7892/\n",
      "379 Levels: 10.11577/ 10.11586/ 10.11588/ 10.1184/ 10.12682/ ... 10.7945/\n"
     ]
    },
    {
     "name": "stderr",
     "output_type": "stream",
     "text": [
      "Warning message in mutate_impl(.data, dots):\n",
      "“binding character and factor vector, coercing into character vector”"
     ]
    },
    {
     "name": "stdout",
     "output_type": "stream",
     "text": [
      "[1] \"DataCite\"\n",
      "[1] 10.2314/\n",
      "379 Levels: 10.11577/ 10.11586/ 10.11588/ 10.1184/ 10.12682/ ... 10.7945/\n",
      "[1] \"tib.tib\"\n",
      "[1] 10.2314/\n",
      "379 Levels: 10.11577/ 10.11586/ 10.11588/ 10.1184/ 10.12682/ ... 10.7945/\n"
     ]
    },
    {
     "name": "stderr",
     "output_type": "stream",
     "text": [
      "Warning message in mutate_impl(.data, dots):\n",
      "“binding character and factor vector, coercing into character vector”"
     ]
    },
    {
     "name": "stdout",
     "output_type": "stream",
     "text": [
      "[1] \"DataCite\"\n",
      "[1] 10.4230/\n",
      "379 Levels: 10.11577/ 10.11586/ 10.11588/ 10.1184/ 10.12682/ ... 10.7945/\n",
      "[1] \"tib.dagst\"\n",
      "[1] 10.4230/\n",
      "379 Levels: 10.11577/ 10.11586/ 10.11588/ 10.1184/ 10.12682/ ... 10.7945/\n"
     ]
    },
    {
     "name": "stderr",
     "output_type": "stream",
     "text": [
      "Warning message in mutate_impl(.data, dots):\n",
      "“binding character and factor vector, coercing into character vector”"
     ]
    },
    {
     "name": "stdout",
     "output_type": "stream",
     "text": [
      "[1] \"DataCite\"\n",
      "[1] 10.5170/\n",
      "379 Levels: 10.11577/ 10.11586/ 10.11588/ 10.1184/ 10.12682/ ... 10.7945/\n",
      "[1] \"cern.yellow\"\n",
      "[1] 10.5170/\n",
      "379 Levels: 10.11577/ 10.11586/ 10.11588/ 10.1184/ 10.12682/ ... 10.7945/\n"
     ]
    },
    {
     "name": "stderr",
     "output_type": "stream",
     "text": [
      "Warning message in mutate_impl(.data, dots):\n",
      "“binding character and factor vector, coercing into character vector”"
     ]
    },
    {
     "name": "stdout",
     "output_type": "stream",
     "text": [
      "[1] \"DataCite\"\n",
      "[1] 10.5162/\n",
      "379 Levels: 10.11577/ 10.11586/ 10.11588/ 10.1184/ 10.12682/ ... 10.7945/\n",
      "[1] \"tib.ama\"\n",
      "[1] 10.5162/\n",
      "379 Levels: 10.11577/ 10.11586/ 10.11588/ 10.1184/ 10.12682/ ... 10.7945/\n"
     ]
    },
    {
     "name": "stderr",
     "output_type": "stream",
     "text": [
      "Warning message in mutate_impl(.data, dots):\n",
      "“binding character and factor vector, coercing into character vector”"
     ]
    },
    {
     "name": "stdout",
     "output_type": "stream",
     "text": [
      "[1] \"DataCite\"\n",
      "[1] 10.3929/\n",
      "379 Levels: 10.11577/ 10.11586/ 10.11588/ 10.1184/ 10.12682/ ... 10.7945/\n",
      "[1] \"ethz.e-coll\"\n",
      "[1] 10.3929/\n",
      "379 Levels: 10.11577/ 10.11586/ 10.11588/ 10.1184/ 10.12682/ ... 10.7945/\n"
     ]
    },
    {
     "name": "stderr",
     "output_type": "stream",
     "text": [
      "Warning message in mutate_impl(.data, dots):\n",
      "“binding character and factor vector, coercing into character vector”"
     ]
    },
    {
     "name": "stdout",
     "output_type": "stream",
     "text": [
      "[1] \"DataCite\"\n",
      "[1] 10.2390/\n",
      "379 Levels: 10.11577/ 10.11586/ 10.11588/ 10.1184/ 10.12682/ ... 10.7945/\n",
      "[1] \"tib.unibi\"\n",
      "[1] 10.2390/\n",
      "379 Levels: 10.11577/ 10.11586/ 10.11588/ 10.1184/ 10.12682/ ... 10.7945/\n"
     ]
    },
    {
     "name": "stderr",
     "output_type": "stream",
     "text": [
      "Warning message in mutate_impl(.data, dots):\n",
      "“binding character and factor vector, coercing into character vector”"
     ]
    },
    {
     "name": "stdout",
     "output_type": "stream",
     "text": [
      "[1] \"DataCite\"\n",
      "[1] 10.6078/\n",
      "379 Levels: 10.11577/ 10.11586/ 10.11588/ 10.1184/ 10.12682/ ... 10.7945/\n",
      "[1] \"cdl.ocontext\"\n",
      "[1] 10.6078/\n",
      "379 Levels: 10.11577/ 10.11586/ 10.11588/ 10.1184/ 10.12682/ ... 10.7945/\n"
     ]
    },
    {
     "name": "stderr",
     "output_type": "stream",
     "text": [
      "Warning message in mutate_impl(.data, dots):\n",
      "“binding character and factor vector, coercing into character vector”"
     ]
    },
    {
     "name": "stdout",
     "output_type": "stream",
     "text": [
      "[1] \"DataCite\"\n",
      "[1] 10.5904/\n",
      "379 Levels: 10.11577/ 10.11586/ 10.11588/ 10.1184/ 10.12682/ ... 10.7945/\n",
      "[1] \"ethz.wgms\"\n",
      "[1] 10.5904/\n",
      "379 Levels: 10.11577/ 10.11586/ 10.11588/ 10.1184/ 10.12682/ ... 10.7945/\n"
     ]
    },
    {
     "name": "stderr",
     "output_type": "stream",
     "text": [
      "Warning message in mutate_impl(.data, dots):\n",
      "“binding character and factor vector, coercing into character vector”"
     ]
    },
    {
     "name": "stdout",
     "output_type": "stream",
     "text": [
      "[1] \"DataCite\"\n",
      "[1] 10.5676/\n",
      "379 Levels: 10.11577/ 10.11586/ 10.11588/ 10.1184/ 10.12682/ ... 10.7945/\n",
      "[1] \"tib.dwd\"\n",
      "[1] 10.5676/\n",
      "379 Levels: 10.11577/ 10.11586/ 10.11588/ 10.1184/ 10.12682/ ... 10.7945/\n"
     ]
    },
    {
     "name": "stderr",
     "output_type": "stream",
     "text": [
      "Warning message in mutate_impl(.data, dots):\n",
      "“binding character and factor vector, coercing into character vector”"
     ]
    },
    {
     "name": "stdout",
     "output_type": "stream",
     "text": [
      "[1] \"DataCite\"\n",
      "[1] 10.5521/\n",
      "379 Levels: 10.11577/ 10.11586/ 10.11588/ 10.1184/ 10.12682/ ... 10.7945/\n",
      "[1] \"bl.leeds\"\n",
      "[1] 10.5521/\n",
      "379 Levels: 10.11577/ 10.11586/ 10.11588/ 10.1184/ 10.12682/ ... 10.7945/\n"
     ]
    },
    {
     "name": "stderr",
     "output_type": "stream",
     "text": [
      "Warning message in mutate_impl(.data, dots):\n",
      "“binding character and factor vector, coercing into character vector”"
     ]
    },
    {
     "name": "stdout",
     "output_type": "stream",
     "text": [
      "[1] \"DataCite\"\n",
      "[1] 10.4229/\n",
      "379 Levels: 10.11577/ 10.11586/ 10.11588/ 10.1184/ 10.12682/ ... 10.7945/\n",
      "[1] \"tib.wip\"\n",
      "[1] 10.4229/\n",
      "379 Levels: 10.11577/ 10.11586/ 10.11588/ 10.1184/ 10.12682/ ... 10.7945/\n"
     ]
    },
    {
     "name": "stderr",
     "output_type": "stream",
     "text": [
      "Warning message in mutate_impl(.data, dots):\n",
      "“binding character and factor vector, coercing into character vector”"
     ]
    },
    {
     "name": "stdout",
     "output_type": "stream",
     "text": [
      "[1] \"DataCite\"\n",
      "[1] 10.13152/\n",
      "379 Levels: 10.11577/ 10.11586/ 10.11588/ 10.1184/ 10.12682/ ... 10.7945/\n",
      "[1] \"gesis.ijrvet\"\n",
      "[1] 10.13152/\n",
      "379 Levels: 10.11577/ 10.11586/ 10.11588/ 10.1184/ 10.12682/ ... 10.7945/\n"
     ]
    },
    {
     "name": "stderr",
     "output_type": "stream",
     "text": [
      "Warning message in mutate_impl(.data, dots):\n",
      "“binding character and factor vector, coercing into character vector”"
     ]
    },
    {
     "name": "stdout",
     "output_type": "stream",
     "text": [
      "[1] \"DataCite\"\n",
      "[1] 10.6100/\n",
      "379 Levels: 10.11577/ 10.11586/ 10.11588/ 10.1184/ 10.12682/ ... 10.7945/\n",
      "[1] \"delft.tue\"\n",
      "[1] 10.6100/\n",
      "379 Levels: 10.11577/ 10.11586/ 10.11588/ 10.1184/ 10.12682/ ... 10.7945/\n"
     ]
    },
    {
     "name": "stderr",
     "output_type": "stream",
     "text": [
      "Warning message in mutate_impl(.data, dots):\n",
      "“binding character and factor vector, coercing into character vector”"
     ]
    },
    {
     "name": "stdout",
     "output_type": "stream",
     "text": [
      "[1] \"DataCite\"\n",
      "[1] 10.12684/\n",
      "379 Levels: 10.11577/ 10.11586/ 10.11588/ 10.1184/ 10.12682/ ... 10.7945/\n",
      "[1] \"ethz.bopalt\"\n",
      "[1] 10.12684/\n",
      "379 Levels: 10.11577/ 10.11586/ 10.11588/ 10.1184/ 10.12682/ ... 10.7945/\n"
     ]
    },
    {
     "name": "stderr",
     "output_type": "stream",
     "text": [
      "Warning message in mutate_impl(.data, dots):\n",
      "“binding character and factor vector, coercing into character vector”"
     ]
    },
    {
     "name": "stdout",
     "output_type": "stream",
     "text": [
      "[1] \"DataCite\"\n",
      "[1] 10.13128/\n",
      "379 Levels: 10.11577/ 10.11586/ 10.11588/ 10.1184/ 10.12682/ ... 10.7945/\n",
      "[1] \"crui.unifi\"\n",
      "[1] 10.13128/\n",
      "379 Levels: 10.11577/ 10.11586/ 10.11588/ 10.1184/ 10.12682/ ... 10.7945/\n"
     ]
    },
    {
     "name": "stderr",
     "output_type": "stream",
     "text": [
      "Warning message in mutate_impl(.data, dots):\n",
      "“binding character and factor vector, coercing into character vector”"
     ]
    },
    {
     "name": "stdout",
     "output_type": "stream",
     "text": [
      "[1] \"DataCite\"\n",
      "[1] 10.4232/\n",
      "379 Levels: 10.11577/ 10.11586/ 10.11588/ 10.1184/ 10.12682/ ... 10.7945/\n",
      "[1] \"gesis.gesis\"\n",
      "[1] 10.4232/\n",
      "379 Levels: 10.11577/ 10.11586/ 10.11588/ 10.1184/ 10.12682/ ... 10.7945/\n"
     ]
    },
    {
     "name": "stderr",
     "output_type": "stream",
     "text": [
      "Warning message in mutate_impl(.data, dots):\n",
      "“binding character and factor vector, coercing into character vector”"
     ]
    },
    {
     "name": "stdout",
     "output_type": "stream",
     "text": [
      "[1] \"DataCite\"\n",
      "[1] 10.7916/\n",
      "379 Levels: 10.11577/ 10.11586/ 10.11588/ 10.1184/ 10.12682/ ... 10.7945/\n",
      "[1] \"cdl.culis\"\n",
      "[1] 10.7916/\n",
      "379 Levels: 10.11577/ 10.11586/ 10.11588/ 10.1184/ 10.12682/ ... 10.7945/\n"
     ]
    },
    {
     "name": "stderr",
     "output_type": "stream",
     "text": [
      "Warning message in mutate_impl(.data, dots):\n",
      "“binding character and factor vector, coercing into character vector”"
     ]
    },
    {
     "name": "stdout",
     "output_type": "stream",
     "text": [
      "[1] \"DataCite\"\n",
      "[1] 10.5880/\n",
      "379 Levels: 10.11577/ 10.11586/ 10.11588/ 10.1184/ 10.12682/ ... 10.7945/\n",
      "[1] \"tib.gfz\"\n",
      "[1] 10.5880/\n",
      "379 Levels: 10.11577/ 10.11586/ 10.11588/ 10.1184/ 10.12682/ ... 10.7945/\n"
     ]
    },
    {
     "name": "stderr",
     "output_type": "stream",
     "text": [
      "Warning message in mutate_impl(.data, dots):\n",
      "“binding character and factor vector, coercing into character vector”"
     ]
    },
    {
     "name": "stdout",
     "output_type": "stream",
     "text": [
      "[1] \"DataCite\"\n",
      "[1] 10.5065/\n",
      "379 Levels: 10.11577/ 10.11586/ 10.11588/ 10.1184/ 10.12682/ ... 10.7945/\n",
      "[1] \"cdl.ncar\"\n",
      "[1] 10.5065/\n",
      "379 Levels: 10.11577/ 10.11586/ 10.11588/ 10.1184/ 10.12682/ ... 10.7945/\n"
     ]
    },
    {
     "name": "stderr",
     "output_type": "stream",
     "text": [
      "Warning message in mutate_impl(.data, dots):\n",
      "“binding character and factor vector, coercing into character vector”"
     ]
    },
    {
     "name": "stdout",
     "output_type": "stream",
     "text": [
      "[1] \"Crossref\"\n",
      "[1] 10.7287/\n",
      "379 Levels: 10.11577/ 10.11586/ 10.11588/ 10.1184/ 10.12682/ ... 10.7945/\n"
     ]
    },
    {
     "name": "stderr",
     "output_type": "stream",
     "text": [
      "Warning message in mutate_impl(.data, dots):\n",
      "“binding character and factor vector, coercing into character vector”"
     ]
    },
    {
     "name": "stdout",
     "output_type": "stream",
     "text": [
      "[1] \"DataCite\"\n",
      "[1] 10.5675/\n",
      "379 Levels: 10.11577/ 10.11586/ 10.11588/ 10.1184/ 10.12682/ ... 10.7945/\n",
      "[1] \"tib.bafg\"\n",
      "[1] 10.5675/\n",
      "379 Levels: 10.11577/ 10.11586/ 10.11588/ 10.1184/ 10.12682/ ... 10.7945/\n"
     ]
    },
    {
     "name": "stderr",
     "output_type": "stream",
     "text": [
      "Warning message in mutate_impl(.data, dots):\n",
      "“binding character and factor vector, coercing into character vector”"
     ]
    },
    {
     "name": "stdout",
     "output_type": "stream",
     "text": [
      "[1] \"DataCite\"\n",
      "[1] 10.5071/\n",
      "379 Levels: 10.11577/ 10.11586/ 10.11588/ 10.1184/ 10.12682/ ... 10.7945/\n",
      "[1] \"tib.eta\"\n",
      "[1] 10.5071/\n",
      "379 Levels: 10.11577/ 10.11586/ 10.11588/ 10.1184/ 10.12682/ ... 10.7945/\n"
     ]
    },
    {
     "name": "stderr",
     "output_type": "stream",
     "text": [
      "Warning message in mutate_impl(.data, dots):\n",
      "“binding character and factor vector, coercing into character vector”"
     ]
    },
    {
     "name": "stdout",
     "output_type": "stream",
     "text": [
      "[1] \"DataCite\"\n",
      "[1] 10.5277/\n",
      "379 Levels: 10.11577/ 10.11586/ 10.11588/ 10.1184/ 10.12682/ ... 10.7945/\n",
      "[1] \"tib.owpwr\"\n",
      "[1] 10.5277/\n",
      "379 Levels: 10.11577/ 10.11586/ 10.11588/ 10.1184/ 10.12682/ ... 10.7945/\n"
     ]
    },
    {
     "name": "stderr",
     "output_type": "stream",
     "text": [
      "Warning message in mutate_impl(.data, dots):\n",
      "“binding character and factor vector, coercing into character vector”"
     ]
    },
    {
     "name": "stdout",
     "output_type": "stream",
     "text": [
      "[1] \"DataCite\"\n",
      "[1] 10.17886/\n",
      "379 Levels: 10.11577/ 10.11586/ 10.11588/ 10.1184/ 10.12682/ ... 10.7945/\n",
      "[1] \"gesis.rki\"\n",
      "[1] 10.17886/\n",
      "379 Levels: 10.11577/ 10.11586/ 10.11588/ 10.1184/ 10.12682/ ... 10.7945/\n"
     ]
    },
    {
     "name": "stderr",
     "output_type": "stream",
     "text": [
      "Warning message in mutate_impl(.data, dots):\n",
      "“binding character and factor vector, coercing into character vector”"
     ]
    },
    {
     "name": "stdout",
     "output_type": "stream",
     "text": [
      "[1] \"DataCite\"\n",
      "[1] 10.15150/\n",
      "379 Levels: 10.11577/ 10.11586/ 10.11588/ 10.1184/ 10.12682/ ... 10.7945/\n",
      "[1] \"zbmed.ktbl\"\n",
      "[1] 10.15150/\n",
      "379 Levels: 10.11577/ 10.11586/ 10.11588/ 10.1184/ 10.12682/ ... 10.7945/\n"
     ]
    },
    {
     "name": "stderr",
     "output_type": "stream",
     "text": [
      "Warning message in mutate_impl(.data, dots):\n",
      "“binding character and factor vector, coercing into character vector”"
     ]
    },
    {
     "name": "stdout",
     "output_type": "stream",
     "text": [
      "[1] \"DataCite\"\n",
      "[1] 10.17169/\n",
      "379 Levels: 10.11577/ 10.11586/ 10.11588/ 10.1184/ 10.12682/ ... 10.7945/\n",
      "[1] \"tib.fuub\"\n",
      "[1] 10.17169/\n",
      "379 Levels: 10.11577/ 10.11586/ 10.11588/ 10.1184/ 10.12682/ ... 10.7945/\n"
     ]
    },
    {
     "name": "stderr",
     "output_type": "stream",
     "text": [
      "Warning message in mutate_impl(.data, dots):\n",
      "“binding character and factor vector, coercing into character vector”"
     ]
    },
    {
     "name": "stdout",
     "output_type": "stream",
     "text": [
      "[1] \"Crossref\"\n",
      "[1] 10.20360/\n",
      "379 Levels: 10.11577/ 10.11586/ 10.11588/ 10.1184/ 10.12682/ ... 10.7945/\n"
     ]
    },
    {
     "name": "stderr",
     "output_type": "stream",
     "text": [
      "Warning message in mutate_impl(.data, dots):\n",
      "“binding character and factor vector, coercing into character vector”"
     ]
    },
    {
     "name": "stdout",
     "output_type": "stream",
     "text": [
      "[1] \"DataCite\"\n",
      "[1] 10.5439/\n",
      "379 Levels: 10.11577/ 10.11586/ 10.11588/ 10.1184/ 10.12682/ ... 10.7945/\n",
      "[1] \"osti.ornlarm\"\n",
      "[1] 10.5439/\n",
      "379 Levels: 10.11577/ 10.11586/ 10.11588/ 10.1184/ 10.12682/ ... 10.7945/\n"
     ]
    },
    {
     "name": "stderr",
     "output_type": "stream",
     "text": [
      "Warning message in mutate_impl(.data, dots):\n",
      "“binding character and factor vector, coercing into character vector”"
     ]
    },
    {
     "name": "stdout",
     "output_type": "stream",
     "text": [
      "[1] \"DataCite\"\n",
      "[1] 10.3933/\n",
      "379 Levels: 10.11577/ 10.11586/ 10.11588/ 10.1184/ 10.12682/ ... 10.7945/\n",
      "[1] \"ethz.ar\"\n",
      "[1] 10.3933/\n",
      "379 Levels: 10.11577/ 10.11586/ 10.11588/ 10.1184/ 10.12682/ ... 10.7945/\n"
     ]
    },
    {
     "name": "stderr",
     "output_type": "stream",
     "text": [
      "Warning message in mutate_impl(.data, dots):\n",
      "“binding character and factor vector, coercing into character vector”"
     ]
    },
    {
     "name": "stdout",
     "output_type": "stream",
     "text": [
      "[1] \"DataCite\"\n",
      "[1] 10.13016/\n",
      "379 Levels: 10.11577/ 10.11586/ 10.11588/ 10.1184/ 10.12682/ ... 10.7945/\n",
      "[1] \"purdue.umd\"\n",
      "[1] 10.13016/\n",
      "379 Levels: 10.11577/ 10.11586/ 10.11588/ 10.1184/ 10.12682/ ... 10.7945/\n"
     ]
    },
    {
     "name": "stderr",
     "output_type": "stream",
     "text": [
      "Warning message in mutate_impl(.data, dots):\n",
      "“binding character and factor vector, coercing into character vector”"
     ]
    },
    {
     "name": "stdout",
     "output_type": "stream",
     "text": [
      "[1] \"DataCite\"\n",
      "[1] 10.5282/\n",
      "379 Levels: 10.11577/ 10.11586/ 10.11588/ 10.1184/ 10.12682/ ... 10.7945/\n",
      "[1] \"tib.ublmu\"\n",
      "[1] 10.5282/\n",
      "379 Levels: 10.11577/ 10.11586/ 10.11588/ 10.1184/ 10.12682/ ... 10.7945/\n"
     ]
    },
    {
     "name": "stderr",
     "output_type": "stream",
     "text": [
      "Warning message in mutate_impl(.data, dots):\n",
      "“binding character and factor vector, coercing into character vector”"
     ]
    },
    {
     "name": "stdout",
     "output_type": "stream",
     "text": [
      "[1] \"DataCite\"\n",
      "[1] 10.7914/\n",
      "379 Levels: 10.11577/ 10.11586/ 10.11588/ 10.1184/ 10.12682/ ... 10.7945/\n",
      "[1] \"cdl.fdsn\"\n",
      "[1] 10.7914/\n",
      "379 Levels: 10.11577/ 10.11586/ 10.11588/ 10.1184/ 10.12682/ ... 10.7945/\n"
     ]
    },
    {
     "name": "stderr",
     "output_type": "stream",
     "text": [
      "Warning message in mutate_impl(.data, dots):\n",
      "“binding character and factor vector, coercing into character vector”"
     ]
    },
    {
     "name": "stdout",
     "output_type": "stream",
     "text": [
      "[1] \"DataCite\"\n",
      "[1] 10.4121/\n",
      "379 Levels: 10.11577/ 10.11586/ 10.11588/ 10.1184/ 10.12682/ ... 10.7945/\n",
      "[1] \"delft.data4tu\"\n",
      "[1] 10.4121/\n",
      "379 Levels: 10.11577/ 10.11586/ 10.11588/ 10.1184/ 10.12682/ ... 10.7945/\n"
     ]
    },
    {
     "name": "stderr",
     "output_type": "stream",
     "text": [
      "Warning message in mutate_impl(.data, dots):\n",
      "“binding character and factor vector, coercing into character vector”"
     ]
    },
    {
     "name": "stdout",
     "output_type": "stream",
     "text": [
      "[1] \"DataCite\"\n",
      "[1] 10.5284/\n",
      "379 Levels: 10.11577/ 10.11586/ 10.11588/ 10.1184/ 10.12682/ ... 10.7945/\n",
      "[1] \"bl.ads\"\n",
      "[1] 10.5284/\n",
      "379 Levels: 10.11577/ 10.11586/ 10.11588/ 10.1184/ 10.12682/ ... 10.7945/\n"
     ]
    },
    {
     "name": "stderr",
     "output_type": "stream",
     "text": [
      "Warning message in mutate_impl(.data, dots):\n",
      "“binding character and factor vector, coercing into character vector”"
     ]
    },
    {
     "name": "stdout",
     "output_type": "stream",
     "text": [
      "[1] \"DataCite\"\n",
      "[1] 10.7480/\n",
      "379 Levels: 10.11577/ 10.11586/ 10.11588/ 10.1184/ 10.12682/ ... 10.7945/\n",
      "[1] \"delft.tudarch\"\n",
      "[1] 10.7480/\n",
      "379 Levels: 10.11577/ 10.11586/ 10.11588/ 10.1184/ 10.12682/ ... 10.7945/\n"
     ]
    },
    {
     "name": "stderr",
     "output_type": "stream",
     "text": [
      "Warning message in mutate_impl(.data, dots):\n",
      "“binding character and factor vector, coercing into character vector”"
     ]
    },
    {
     "name": "stdout",
     "output_type": "stream",
     "text": [
      "[1] \"Crossref\"\n",
      "[1] 10.20355/\n",
      "379 Levels: 10.11577/ 10.11586/ 10.11588/ 10.1184/ 10.12682/ ... 10.7945/\n"
     ]
    },
    {
     "name": "stderr",
     "output_type": "stream",
     "text": [
      "Warning message in mutate_impl(.data, dots):\n",
      "“binding character and factor vector, coercing into character vector”"
     ]
    },
    {
     "name": "stdout",
     "output_type": "stream",
     "text": [
      "[1] \"DataCite\"\n",
      "[1] 10.1285/\n",
      "379 Levels: 10.11577/ 10.11586/ 10.11588/ 10.1184/ 10.12682/ ... 10.7945/\n",
      "[1] \"crui.unile\"\n",
      "[1] 10.1285/\n",
      "379 Levels: 10.11577/ 10.11586/ 10.11588/ 10.1184/ 10.12682/ ... 10.7945/\n"
     ]
    },
    {
     "name": "stderr",
     "output_type": "stream",
     "text": [
      "Warning message in mutate_impl(.data, dots):\n",
      "“binding character and factor vector, coercing into character vector”"
     ]
    },
    {
     "name": "stdout",
     "output_type": "stream",
     "text": [
      "[1] \"DataCite\"\n",
      "[1] 10.20385/\n",
      "379 Levels: 10.11577/ 10.11586/ 10.11588/ 10.1184/ 10.12682/ ... 10.7945/\n",
      "[1] \"tib.hsd\"\n",
      "[1] 10.20385/\n",
      "379 Levels: 10.11577/ 10.11586/ 10.11588/ 10.1184/ 10.12682/ ... 10.7945/\n"
     ]
    },
    {
     "name": "stderr",
     "output_type": "stream",
     "text": [
      "Warning message in mutate_impl(.data, dots):\n",
      "“binding character and factor vector, coercing into character vector”"
     ]
    },
    {
     "name": "stdout",
     "output_type": "stream",
     "text": [
      "[1] \"DataCite\"\n",
      "[1] 10.17179/\n",
      "379 Levels: 10.11577/ 10.11586/ 10.11588/ 10.1184/ 10.12682/ ... 10.7945/\n",
      "[1] \"zbmed.ifado\"\n",
      "[1] 10.17179/\n",
      "379 Levels: 10.11577/ 10.11586/ 10.11588/ 10.1184/ 10.12682/ ... 10.7945/\n"
     ]
    },
    {
     "name": "stderr",
     "output_type": "stream",
     "text": [
      "Warning message in mutate_impl(.data, dots):\n",
      "“binding character and factor vector, coercing into character vector”"
     ]
    },
    {
     "name": "stdout",
     "output_type": "stream",
     "text": [
      "[1] \"DataCite\"\n",
      "[1] 10.17026/\n",
      "379 Levels: 10.11577/ 10.11586/ 10.11588/ 10.1184/ 10.12682/ ... 10.7945/\n",
      "[1] \"delft.easy\"\n",
      "[1] 10.17026/\n",
      "379 Levels: 10.11577/ 10.11586/ 10.11588/ 10.1184/ 10.12682/ ... 10.7945/\n"
     ]
    },
    {
     "name": "stderr",
     "output_type": "stream",
     "text": [
      "Warning message in mutate_impl(.data, dots):\n",
      "“binding character and factor vector, coercing into character vector”"
     ]
    },
    {
     "name": "stdout",
     "output_type": "stream",
     "text": [
      "[1] \"DataCite\"\n",
      "[1] 10.15502/\n",
      "379 Levels: 10.11577/ 10.11586/ 10.11588/ 10.1184/ 10.12682/ ... 10.7945/\n",
      "[1] \"gesis.mind\"\n",
      "[1] 10.15502/\n",
      "379 Levels: 10.11577/ 10.11586/ 10.11588/ 10.1184/ 10.12682/ ... 10.7945/\n"
     ]
    },
    {
     "name": "stderr",
     "output_type": "stream",
     "text": [
      "Warning message in mutate_impl(.data, dots):\n",
      "“binding character and factor vector, coercing into character vector”"
     ]
    },
    {
     "name": "stdout",
     "output_type": "stream",
     "text": [
      "[1] \"DataCite\"\n",
      "[1] 10.7484/\n",
      "379 Levels: 10.11577/ 10.11586/ 10.11588/ 10.1184/ 10.12682/ ... 10.7945/\n",
      "[1] \"cern.inspire\"\n",
      "[1] 10.7484/\n",
      "379 Levels: 10.11577/ 10.11586/ 10.11588/ 10.1184/ 10.12682/ ... 10.7945/\n"
     ]
    },
    {
     "name": "stderr",
     "output_type": "stream",
     "text": [
      "Warning message in mutate_impl(.data, dots):\n",
      "“binding character and factor vector, coercing into character vector”"
     ]
    },
    {
     "name": "stdout",
     "output_type": "stream",
     "text": [
      "[1] \"DataCite\"\n",
      "[1] 10.7910/\n",
      "379 Levels: 10.11577/ 10.11586/ 10.11588/ 10.1184/ 10.12682/ ... 10.7945/\n",
      "[1] \"cdl.datavers\"\n",
      "[1] 10.7910/\n",
      "379 Levels: 10.11577/ 10.11586/ 10.11588/ 10.1184/ 10.12682/ ... 10.7945/\n"
     ]
    },
    {
     "name": "stderr",
     "output_type": "stream",
     "text": [
      "Warning message in mutate_impl(.data, dots):\n",
      "“binding character and factor vector, coercing into character vector”"
     ]
    },
    {
     "name": "stdout",
     "output_type": "stream",
     "text": [
      "[1] \"DataCite\"\n",
      "[1] 10.4233/\n",
      "379 Levels: 10.11577/ 10.11586/ 10.11588/ 10.1184/ 10.12682/ ... 10.7945/\n",
      "[1] \"delft.tudelft\"\n",
      "[1] 10.4233/\n",
      "379 Levels: 10.11577/ 10.11586/ 10.11588/ 10.1184/ 10.12682/ ... 10.7945/\n"
     ]
    },
    {
     "name": "stderr",
     "output_type": "stream",
     "text": [
      "Warning message in mutate_impl(.data, dots):\n",
      "“binding character and factor vector, coercing into character vector”"
     ]
    },
    {
     "name": "stdout",
     "output_type": "stream",
     "text": [
      "[1] \"DataCite\"\n",
      "[1] 10.7275/\n",
      "379 Levels: 10.11577/ 10.11586/ 10.11588/ 10.1184/ 10.12682/ ... 10.7945/\n",
      "[1] \"cdl.uma\"\n",
      "[1] 10.7275/\n",
      "379 Levels: 10.11577/ 10.11586/ 10.11588/ 10.1184/ 10.12682/ ... 10.7945/\n"
     ]
    },
    {
     "name": "stderr",
     "output_type": "stream",
     "text": [
      "Warning message in mutate_impl(.data, dots):\n",
      "“binding character and factor vector, coercing into character vector”"
     ]
    },
    {
     "name": "stdout",
     "output_type": "stream",
     "text": [
      "[1] \"DataCite\"\n",
      "[1] 10.11588/\n",
      "379 Levels: 10.11577/ 10.11586/ 10.11588/ 10.1184/ 10.12682/ ... 10.7945/\n",
      "[1] \"gesis.ubhd\"\n",
      "[1] 10.11588/\n",
      "379 Levels: 10.11577/ 10.11586/ 10.11588/ 10.1184/ 10.12682/ ... 10.7945/\n"
     ]
    },
    {
     "name": "stderr",
     "output_type": "stream",
     "text": [
      "Warning message in mutate_impl(.data, dots):\n",
      "“binding character and factor vector, coercing into character vector”"
     ]
    },
    {
     "name": "stdout",
     "output_type": "stream",
     "text": [
      "[1] \"Crossref\"\n",
      "[1] 10.18733/\n",
      "379 Levels: 10.11577/ 10.11586/ 10.11588/ 10.1184/ 10.12682/ ... 10.7945/\n"
     ]
    },
    {
     "name": "stderr",
     "output_type": "stream",
     "text": [
      "Warning message in mutate_impl(.data, dots):\n",
      "“binding character and factor vector, coercing into character vector”"
     ]
    },
    {
     "name": "stdout",
     "output_type": "stream",
     "text": [
      "[1] \"Crossref\"\n",
      "[1] 10.21432/\n",
      "379 Levels: 10.11577/ 10.11586/ 10.11588/ 10.1184/ 10.12682/ ... 10.7945/\n"
     ]
    },
    {
     "name": "stderr",
     "output_type": "stream",
     "text": [
      "Warning message in mutate_impl(.data, dots):\n",
      "“binding character and factor vector, coercing into character vector”"
     ]
    },
    {
     "name": "stdout",
     "output_type": "stream",
     "text": [
      "[1] \"DataCite\"\n",
      "[1] 10.5157/\n",
      "379 Levels: 10.11577/ 10.11586/ 10.11588/ 10.1184/ 10.12682/ ... 10.7945/\n",
      "[1] \"gesis.neps\"\n",
      "[1] 10.5157/\n",
      "379 Levels: 10.11577/ 10.11586/ 10.11588/ 10.1184/ 10.12682/ ... 10.7945/\n"
     ]
    },
    {
     "name": "stderr",
     "output_type": "stream",
     "text": [
      "Warning message in mutate_impl(.data, dots):\n",
      "“binding character and factor vector, coercing into character vector”"
     ]
    },
    {
     "name": "stdout",
     "output_type": "stream",
     "text": [
      "[1] \"DataCite\"\n",
      "[1] 10.14279/\n",
      "379 Levels: 10.11577/ 10.11586/ 10.11588/ 10.1184/ 10.12682/ ... 10.7945/\n",
      "[1] \"tib.tub\"\n",
      "[1] 10.14279/\n",
      "379 Levels: 10.11577/ 10.11586/ 10.11588/ 10.1184/ 10.12682/ ... 10.7945/\n"
     ]
    },
    {
     "name": "stderr",
     "output_type": "stream",
     "text": [
      "Warning message in mutate_impl(.data, dots):\n",
      "“binding character and factor vector, coercing into character vector”"
     ]
    },
    {
     "name": "stdout",
     "output_type": "stream",
     "text": [
      "[1] \"DataCite\"\n",
      "[1] 10.16910/\n",
      "379 Levels: 10.11577/ 10.11586/ 10.11588/ 10.1184/ 10.12682/ ... 10.7945/\n",
      "[1] \"ethz.bopjemr\"\n",
      "[1] 10.16910/\n",
      "379 Levels: 10.11577/ 10.11586/ 10.11588/ 10.1184/ 10.12682/ ... 10.7945/\n"
     ]
    },
    {
     "name": "stderr",
     "output_type": "stream",
     "text": [
      "Warning message in mutate_impl(.data, dots):\n",
      "“binding character and factor vector, coercing into character vector”"
     ]
    },
    {
     "name": "stdout",
     "output_type": "stream",
     "text": [
      "[1] \"DataCite\"\n",
      "[1] 10.6067/\n",
      "379 Levels: 10.11577/ 10.11586/ 10.11588/ 10.1184/ 10.12682/ ... 10.7945/\n",
      "[1] \"cdl.digant\"\n",
      "[1] 10.6067/\n",
      "379 Levels: 10.11577/ 10.11586/ 10.11588/ 10.1184/ 10.12682/ ... 10.7945/\n"
     ]
    },
    {
     "name": "stderr",
     "output_type": "stream",
     "text": [
      "Warning message in mutate_impl(.data, dots):\n",
      "“binding character and factor vector, coercing into character vector”"
     ]
    },
    {
     "name": "stdout",
     "output_type": "stream",
     "text": [
      "[1] \"DataCite\"\n",
      "[1] 10.5259/\n",
      "379 Levels: 10.11577/ 10.11586/ 10.11588/ 10.1184/ 10.12682/ ... 10.7945/\n",
      "[1] \"bl.wap\"\n",
      "[1] 10.5259/\n",
      "379 Levels: 10.11577/ 10.11586/ 10.11588/ 10.1184/ 10.12682/ ... 10.7945/\n"
     ]
    },
    {
     "name": "stderr",
     "output_type": "stream",
     "text": [
      "Warning message in mutate_impl(.data, dots):\n",
      "“binding character and factor vector, coercing into character vector”"
     ]
    },
    {
     "name": "stdout",
     "output_type": "stream",
     "text": [
      "[1] \"DataCite\"\n",
      "[1] 10.17185/\n",
      "379 Levels: 10.11577/ 10.11586/ 10.11588/ 10.1184/ 10.12682/ ... 10.7945/\n",
      "[1] \"tib.ubde\"\n",
      "[1] 10.17185/\n",
      "379 Levels: 10.11577/ 10.11586/ 10.11588/ 10.1184/ 10.12682/ ... 10.7945/\n"
     ]
    },
    {
     "name": "stderr",
     "output_type": "stream",
     "text": [
      "Warning message in mutate_impl(.data, dots):\n",
      "“binding character and factor vector, coercing into character vector”"
     ]
    },
    {
     "name": "stdout",
     "output_type": "stream",
     "text": [
      "[1] \"DataCite\"\n",
      "[1] 10.12758/\n",
      "379 Levels: 10.11577/ 10.11586/ 10.11588/ 10.1184/ 10.12682/ ... 10.7945/\n",
      "[1] \"gesis.gesis\"\n",
      "[1] 10.12758/\n",
      "379 Levels: 10.11577/ 10.11586/ 10.11588/ 10.1184/ 10.12682/ ... 10.7945/\n"
     ]
    },
    {
     "name": "stderr",
     "output_type": "stream",
     "text": [
      "Warning message in mutate_impl(.data, dots):\n",
      "“binding character and factor vector, coercing into character vector”"
     ]
    },
    {
     "name": "stdout",
     "output_type": "stream",
     "text": [
      "[1] \"DataCite\"\n",
      "[1] 10.4122/\n",
      "379 Levels: 10.11577/ 10.11586/ 10.11588/ 10.1184/ 10.12682/ ... 10.7945/\n",
      "[1] \"dk.dtic\"\n",
      "[1] 10.4122/\n",
      "379 Levels: 10.11577/ 10.11586/ 10.11588/ 10.1184/ 10.12682/ ... 10.7945/\n"
     ]
    },
    {
     "name": "stderr",
     "output_type": "stream",
     "text": [
      "Warning message in mutate_impl(.data, dots):\n",
      "“binding character and factor vector, coercing into character vector”"
     ]
    },
    {
     "name": "stdout",
     "output_type": "stream",
     "text": [
      "[1] \"DataCite\"\n",
      "[1] 10.5278/\n",
      "379 Levels: 10.11577/ 10.11586/ 10.11588/ 10.1184/ 10.12682/ ... 10.7945/\n",
      "[1] \"dk.aau\"\n",
      "[1] 10.5278/\n",
      "379 Levels: 10.11577/ 10.11586/ 10.11588/ 10.1184/ 10.12682/ ... 10.7945/\n"
     ]
    },
    {
     "name": "stderr",
     "output_type": "stream",
     "text": [
      "Warning message in mutate_impl(.data, dots):\n",
      "“binding character and factor vector, coercing into character vector”"
     ]
    },
    {
     "name": "stdout",
     "output_type": "stream",
     "text": [
      "[1] \"DataCite\"\n",
      "[1] 10.5885/\n",
      "379 Levels: 10.11577/ 10.11586/ 10.11588/ 10.1184/ 10.12682/ ... 10.7945/\n",
      "[1] \"cisti.cen\"\n",
      "[1] 10.5885/\n",
      "379 Levels: 10.11577/ 10.11586/ 10.11588/ 10.1184/ 10.12682/ ... 10.7945/\n"
     ]
    },
    {
     "name": "stderr",
     "output_type": "stream",
     "text": [
      "Warning message in mutate_impl(.data, dots):\n",
      "“binding character and factor vector, coercing into character vector”"
     ]
    },
    {
     "name": "stdout",
     "output_type": "stream",
     "text": [
      "[1] \"DataCite\"\n",
      "[1] 10.17600/\n",
      "379 Levels: 10.11577/ 10.11586/ 10.11588/ 10.1184/ 10.12682/ ... 10.7945/\n",
      "[1] \"inist.ifremer\"\n",
      "[1] 10.17600/\n",
      "379 Levels: 10.11577/ 10.11586/ 10.11588/ 10.1184/ 10.12682/ ... 10.7945/\n"
     ]
    },
    {
     "name": "stderr",
     "output_type": "stream",
     "text": [
      "Warning message in mutate_impl(.data, dots):\n",
      "“binding character and factor vector, coercing into character vector”"
     ]
    },
    {
     "name": "stdout",
     "output_type": "stream",
     "text": [
      "[1] \"DataCite\"\n",
      "[1] 10.15135/\n",
      "379 Levels: 10.11577/ 10.11586/ 10.11588/ 10.1184/ 10.12682/ ... 10.7945/\n",
      "[1] \"zbmed.sfuwien\"\n",
      "[1] 10.15135/\n",
      "379 Levels: 10.11577/ 10.11586/ 10.11588/ 10.1184/ 10.12682/ ... 10.7945/\n"
     ]
    },
    {
     "name": "stderr",
     "output_type": "stream",
     "text": [
      "Warning message in mutate_impl(.data, dots):\n",
      "“binding character and factor vector, coercing into character vector”"
     ]
    },
    {
     "name": "stdout",
     "output_type": "stream",
     "text": [
      "[1] \"DataCite\"\n",
      "[1] 10.6096/\n",
      "379 Levels: 10.11577/ 10.11586/ 10.11588/ 10.1184/ 10.12682/ ... 10.7945/\n",
      "[1] \"inist.omp\"\n",
      "[1] 10.6096/\n",
      "379 Levels: 10.11577/ 10.11586/ 10.11588/ 10.1184/ 10.12682/ ... 10.7945/\n"
     ]
    },
    {
     "name": "stderr",
     "output_type": "stream",
     "text": [
      "Warning message in mutate_impl(.data, dots):\n",
      "“binding character and factor vector, coercing into character vector”"
     ]
    },
    {
     "name": "stdout",
     "output_type": "stream",
     "text": [
      "[1] \"DataCite\"\n",
      "[1] 10.6073/\n",
      "379 Levels: 10.11577/ 10.11586/ 10.11588/ 10.1184/ 10.12682/ ... 10.7945/\n",
      "[1] \"edi.edi\"\n",
      "[1] 10.6073/\n",
      "379 Levels: 10.11577/ 10.11586/ 10.11588/ 10.1184/ 10.12682/ ... 10.7945/\n"
     ]
    },
    {
     "name": "stderr",
     "output_type": "stream",
     "text": [
      "Warning message in mutate_impl(.data, dots):\n",
      "“binding character and factor vector, coercing into character vector”"
     ]
    },
    {
     "name": "stdout",
     "output_type": "stream",
     "text": [
      "[1] \"DataCite\"\n",
      "[1] 10.12770/\n",
      "379 Levels: 10.11577/ 10.11586/ 10.11588/ 10.1184/ 10.12682/ ... 10.7945/\n",
      "[1] \"inist.ifremer\"\n",
      "[1] 10.12770/\n",
      "379 Levels: 10.11577/ 10.11586/ 10.11588/ 10.1184/ 10.12682/ ... 10.7945/\n"
     ]
    },
    {
     "name": "stderr",
     "output_type": "stream",
     "text": [
      "Warning message in mutate_impl(.data, dots):\n",
      "“binding character and factor vector, coercing into character vector”"
     ]
    },
    {
     "name": "stdout",
     "output_type": "stream",
     "text": [
      "[1] \"DataCite\"\n",
      "[1] 10.3289/\n",
      "379 Levels: 10.11577/ 10.11586/ 10.11588/ 10.1184/ 10.12682/ ... 10.7945/\n",
      "[1] \"tib.geomar\"\n",
      "[1] 10.3289/\n",
      "379 Levels: 10.11577/ 10.11586/ 10.11588/ 10.1184/ 10.12682/ ... 10.7945/\n"
     ]
    },
    {
     "name": "stderr",
     "output_type": "stream",
     "text": [
      "Warning message in mutate_impl(.data, dots):\n",
      "“binding character and factor vector, coercing into character vector”"
     ]
    },
    {
     "name": "stdout",
     "output_type": "stream",
     "text": [
      "[1] \"DataCite\"\n",
      "[1] 10.5066/\n",
      "379 Levels: 10.11577/ 10.11586/ 10.11588/ 10.1184/ 10.12682/ ... 10.7945/\n",
      "[1] \"cdl.usgs\"\n",
      "[1] 10.5066/\n",
      "379 Levels: 10.11577/ 10.11586/ 10.11588/ 10.1184/ 10.12682/ ... 10.7945/\n"
     ]
    },
    {
     "name": "stderr",
     "output_type": "stream",
     "text": [
      "Warning message in mutate_impl(.data, dots):\n",
      "“binding character and factor vector, coercing into character vector”"
     ]
    },
    {
     "name": "stdout",
     "output_type": "stream",
     "text": [
      "[1] \"DataCite\"\n",
      "[1] 10.7282/\n",
      "379 Levels: 10.11577/ 10.11586/ 10.11588/ 10.1184/ 10.12682/ ... 10.7945/\n",
      "[1] \"cdl.rutgers\"\n",
      "[1] 10.7282/\n",
      "379 Levels: 10.11577/ 10.11586/ 10.11588/ 10.1184/ 10.12682/ ... 10.7945/\n"
     ]
    },
    {
     "name": "stderr",
     "output_type": "stream",
     "text": [
      "Warning message in mutate_impl(.data, dots):\n",
      "“binding character and factor vector, coercing into character vector”"
     ]
    },
    {
     "name": "stdout",
     "output_type": "stream",
     "text": [
      "[1] \"DataCite\"\n",
      "[1] 10.13130/\n",
      "379 Levels: 10.11577/ 10.11586/ 10.11588/ 10.1184/ 10.12682/ ... 10.7945/\n",
      "[1] \"crui.unimi\"\n",
      "[1] 10.13130/\n",
      "379 Levels: 10.11577/ 10.11586/ 10.11588/ 10.1184/ 10.12682/ ... 10.7945/\n"
     ]
    },
    {
     "name": "stderr",
     "output_type": "stream",
     "text": [
      "Warning message in mutate_impl(.data, dots):\n",
      "“binding character and factor vector, coercing into character vector”"
     ]
    },
    {
     "name": "stdout",
     "output_type": "stream",
     "text": [
      "[1] \"DataCite\"\n",
      "[1] 10.7927/\n",
      "379 Levels: 10.11577/ 10.11586/ 10.11588/ 10.1184/ 10.12682/ ... 10.7945/\n",
      "[1] \"cdl.ciesin\"\n",
      "[1] 10.7927/\n",
      "379 Levels: 10.11577/ 10.11586/ 10.11588/ 10.1184/ 10.12682/ ... 10.7945/\n"
     ]
    },
    {
     "name": "stderr",
     "output_type": "stream",
     "text": [
      "Warning message in mutate_impl(.data, dots):\n",
      "“binding character and factor vector, coercing into character vector”"
     ]
    },
    {
     "name": "stdout",
     "output_type": "stream",
     "text": [
      "[1] \"DataCite\"\n",
      "[1] 10.5073/\n",
      "379 Levels: 10.11577/ 10.11586/ 10.11588/ 10.1184/ 10.12682/ ... 10.7945/\n",
      "[1] \"tib.jki\"\n",
      "[1] 10.5073/\n",
      "379 Levels: 10.11577/ 10.11586/ 10.11588/ 10.1184/ 10.12682/ ... 10.7945/\n"
     ]
    },
    {
     "name": "stderr",
     "output_type": "stream",
     "text": [
      "Warning message in mutate_impl(.data, dots):\n",
      "“binding character and factor vector, coercing into character vector”"
     ]
    },
    {
     "name": "stdout",
     "output_type": "stream",
     "text": [
      "[1] \"DataCite\"\n",
      "[1] 10.14283/\n",
      "379 Levels: 10.11577/ 10.11586/ 10.11588/ 10.1184/ 10.12682/ ... 10.7945/\n",
      "[1] \"inist.serdi\"\n",
      "[1] 10.14283/\n",
      "379 Levels: 10.11577/ 10.11586/ 10.11588/ 10.1184/ 10.12682/ ... 10.7945/\n"
     ]
    },
    {
     "name": "stderr",
     "output_type": "stream",
     "text": [
      "Warning message in mutate_impl(.data, dots):\n",
      "“binding character and factor vector, coercing into character vector”"
     ]
    },
    {
     "name": "stdout",
     "output_type": "stream",
     "text": [
      "[1] \"DataCite\"\n",
      "[1] 10.17190/\n",
      "379 Levels: 10.11577/ 10.11586/ 10.11588/ 10.1184/ 10.12682/ ... 10.7945/\n",
      "[1] \"osti.amerflux\"\n",
      "[1] 10.17190/\n",
      "379 Levels: 10.11577/ 10.11586/ 10.11588/ 10.1184/ 10.12682/ ... 10.7945/\n"
     ]
    },
    {
     "name": "stderr",
     "output_type": "stream",
     "text": [
      "Warning message in mutate_impl(.data, dots):\n",
      "“binding character and factor vector, coercing into character vector”"
     ]
    },
    {
     "name": "stdout",
     "output_type": "stream",
     "text": [
      "[1] \"DataCite\"\n",
      "[1] 10.7269/\n",
      "379 Levels: 10.11577/ 10.11586/ 10.11588/ 10.1184/ 10.12682/ ... 10.7945/\n",
      "[1] 10.7269/\n",
      "379 Levels: 10.11577/ 10.11586/ 10.11588/ 10.1184/ 10.12682/ ... 10.7945/\n"
     ]
    },
    {
     "name": "stderr",
     "output_type": "stream",
     "text": [
      "Warning message in mutate_impl(.data, dots):\n",
      "“binding character and factor vector, coercing into character vector”"
     ]
    },
    {
     "name": "stdout",
     "output_type": "stream",
     "text": [
      "[1] \"DataCite\"\n",
      "[1] 10.13099/\n",
      "379 Levels: 10.11577/ 10.11586/ 10.11588/ 10.1184/ 10.12682/ ... 10.7945/\n",
      "[1] \"ethz.itis\"\n",
      "[1] 10.13099/\n",
      "379 Levels: 10.11577/ 10.11586/ 10.11588/ 10.1184/ 10.12682/ ... 10.7945/\n"
     ]
    },
    {
     "name": "stderr",
     "output_type": "stream",
     "text": [
      "Warning message in mutate_impl(.data, dots):\n",
      "“binding character and factor vector, coercing into character vector”"
     ]
    },
    {
     "name": "stdout",
     "output_type": "stream",
     "text": [
      "[1] \"DataCite\"\n",
      "[1] 10.5684/\n",
      "379 Levels: 10.11577/ 10.11586/ 10.11588/ 10.1184/ 10.12682/ ... 10.7945/\n",
      "[1] \"gesis.soep\"\n",
      "[1] 10.5684/\n",
      "379 Levels: 10.11577/ 10.11586/ 10.11588/ 10.1184/ 10.12682/ ... 10.7945/\n"
     ]
    },
    {
     "name": "stderr",
     "output_type": "stream",
     "text": [
      "Warning message in mutate_impl(.data, dots):\n",
      "“binding character and factor vector, coercing into character vector”"
     ]
    },
    {
     "name": "stdout",
     "output_type": "stream",
     "text": [
      "[1] \"DataCite\"\n",
      "[1] 10.5445/\n",
      "379 Levels: 10.11577/ 10.11586/ 10.11588/ 10.1184/ 10.12682/ ... 10.7945/\n",
      "[1] \"tib.kit\"\n",
      "[1] 10.5445/\n",
      "379 Levels: 10.11577/ 10.11586/ 10.11588/ 10.1184/ 10.12682/ ... 10.7945/\n"
     ]
    },
    {
     "name": "stderr",
     "output_type": "stream",
     "text": [
      "Warning message in mutate_impl(.data, dots):\n",
      "“binding character and factor vector, coercing into character vector”"
     ]
    },
    {
     "name": "stdout",
     "output_type": "stream",
     "text": [
      "[1] \"DataCite\"\n",
      "[1] 10.14469/\n",
      "379 Levels: 10.11577/ 10.11586/ 10.11588/ 10.1184/ 10.12682/ ... 10.7945/\n",
      "[1] \"bl.imperial\"\n",
      "[1] 10.14469/\n",
      "379 Levels: 10.11577/ 10.11586/ 10.11588/ 10.1184/ 10.12682/ ... 10.7945/\n"
     ]
    },
    {
     "name": "stderr",
     "output_type": "stream",
     "text": [
      "Warning message in mutate_impl(.data, dots):\n",
      "“binding character and factor vector, coercing into character vector”"
     ]
    },
    {
     "name": "stdout",
     "output_type": "stream",
     "text": [
      "[1] \"DataCite\"\n",
      "[1] 10.7907/\n",
      "379 Levels: 10.11577/ 10.11586/ 10.11588/ 10.1184/ 10.12682/ ... 10.7945/\n",
      "[1] \"cdl.caltech\"\n",
      "[1] 10.7907/\n",
      "379 Levels: 10.11577/ 10.11586/ 10.11588/ 10.1184/ 10.12682/ ... 10.7945/\n"
     ]
    },
    {
     "name": "stderr",
     "output_type": "stream",
     "text": [
      "Warning message in mutate_impl(.data, dots):\n",
      "“binding character and factor vector, coercing into character vector”"
     ]
    },
    {
     "name": "stdout",
     "output_type": "stream",
     "text": [
      "[1] \"DataCite\"\n",
      "[1] 10.21420/\n",
      "379 Levels: 10.11577/ 10.11586/ 10.11588/ 10.1184/ 10.12682/ ... 10.7945/\n",
      "[1] \"cdl.gns\"\n",
      "[1] 10.21420/\n",
      "379 Levels: 10.11577/ 10.11586/ 10.11588/ 10.1184/ 10.12682/ ... 10.7945/\n"
     ]
    },
    {
     "name": "stderr",
     "output_type": "stream",
     "text": [
      "Warning message in mutate_impl(.data, dots):\n",
      "“binding character and factor vector, coercing into character vector”"
     ]
    },
    {
     "name": "stdout",
     "output_type": "stream",
     "text": [
      "[1] \"DataCite\"\n",
      "[1] 10.7274/\n",
      "379 Levels: 10.11577/ 10.11586/ 10.11588/ 10.1184/ 10.12682/ ... 10.7945/\n",
      "[1] \"purdue.und\"\n",
      "[1] 10.7274/\n",
      "379 Levels: 10.11577/ 10.11586/ 10.11588/ 10.1184/ 10.12682/ ... 10.7945/\n"
     ]
    },
    {
     "name": "stderr",
     "output_type": "stream",
     "text": [
      "Warning message in mutate_impl(.data, dots):\n",
      "“binding character and factor vector, coercing into character vector”"
     ]
    },
    {
     "name": "stdout",
     "output_type": "stream",
     "text": [
      "[1] \"DataCite\"\n",
      "[1] 10.7932/\n",
      "379 Levels: 10.11577/ 10.11586/ 10.11588/ 10.1184/ 10.12682/ ... 10.7945/\n",
      "[1] \"cdl.bsl\"\n",
      "[1] 10.7932/\n",
      "379 Levels: 10.11577/ 10.11586/ 10.11588/ 10.1184/ 10.12682/ ... 10.7945/\n"
     ]
    },
    {
     "name": "stderr",
     "output_type": "stream",
     "text": [
      "Warning message in mutate_impl(.data, dots):\n",
      "“binding character and factor vector, coercing into character vector”"
     ]
    },
    {
     "name": "stdout",
     "output_type": "stream",
     "text": [
      "[1] \"DataCite\"\n",
      "[1] 10.18429/\n",
      "379 Levels: 10.11577/ 10.11586/ 10.11588/ 10.1184/ 10.12682/ ... 10.7945/\n",
      "[1] \"cern.jacow\"\n",
      "[1] 10.18429/\n",
      "379 Levels: 10.11577/ 10.11586/ 10.11588/ 10.1184/ 10.12682/ ... 10.7945/\n"
     ]
    },
    {
     "name": "stderr",
     "output_type": "stream",
     "text": [
      "Warning message in mutate_impl(.data, dots):\n",
      "“binding character and factor vector, coercing into character vector”"
     ]
    },
    {
     "name": "stdout",
     "output_type": "stream",
     "text": [
      "[1] \"DataCite\"\n",
      "[1] 10.5441/\n",
      "379 Levels: 10.11577/ 10.11586/ 10.11588/ 10.1184/ 10.12682/ ... 10.7945/\n",
      "[1] \"tib.ukon\"\n",
      "[1] 10.5441/\n",
      "379 Levels: 10.11577/ 10.11586/ 10.11588/ 10.1184/ 10.12682/ ... 10.7945/\n"
     ]
    },
    {
     "name": "stderr",
     "output_type": "stream",
     "text": [
      "Warning message in mutate_impl(.data, dots):\n",
      "“binding character and factor vector, coercing into character vector”"
     ]
    },
    {
     "name": "stdout",
     "output_type": "stream",
     "text": [
      "[1] \"DataCite\"\n",
      "[1] 10.15482/\n",
      "379 Levels: 10.11577/ 10.11586/ 10.11588/ 10.1184/ 10.12682/ ... 10.7945/\n",
      "[1] \"osti.usdaadc\"\n",
      "[1] 10.15482/\n",
      "379 Levels: 10.11577/ 10.11586/ 10.11588/ 10.1184/ 10.12682/ ... 10.7945/\n"
     ]
    },
    {
     "name": "stderr",
     "output_type": "stream",
     "text": [
      "Warning message in mutate_impl(.data, dots):\n",
      "“binding character and factor vector, coercing into character vector”"
     ]
    },
    {
     "name": "stdout",
     "output_type": "stream",
     "text": [
      "[1] \"DataCite\"\n",
      "[1] 10.7909/\n",
      "379 Levels: 10.11577/ 10.11586/ 10.11588/ 10.1184/ 10.12682/ ... 10.7945/\n",
      "[1] \"cdl.seismola\"\n",
      "[1] 10.7909/\n",
      "379 Levels: 10.11577/ 10.11586/ 10.11588/ 10.1184/ 10.12682/ ... 10.7945/\n"
     ]
    },
    {
     "name": "stderr",
     "output_type": "stream",
     "text": [
      "Warning message in mutate_impl(.data, dots):\n",
      "“binding character and factor vector, coercing into character vector”"
     ]
    },
    {
     "name": "stdout",
     "output_type": "stream",
     "text": [
      "[1] \"DataCite\"\n",
      "[1] 10.7945/\n",
      "379 Levels: 10.11577/ 10.11586/ 10.11588/ 10.1184/ 10.12682/ ... 10.7945/\n",
      "[1] \"cdl.cin\"\n",
      "[1] 10.7945/\n",
      "379 Levels: 10.11577/ 10.11586/ 10.11588/ 10.1184/ 10.12682/ ... 10.7945/\n"
     ]
    },
    {
     "name": "stderr",
     "output_type": "stream",
     "text": [
      "Warning message in mutate_impl(.data, dots):\n",
      "“binding character and factor vector, coercing into character vector”"
     ]
    },
    {
     "name": "stdout",
     "output_type": "stream",
     "text": [
      "[1] \"DataCite\"\n",
      "[1] 10.18419/\n",
      "379 Levels: 10.11577/ 10.11586/ 10.11588/ 10.1184/ 10.12682/ ... 10.7945/\n",
      "[1] \"tib.ubs\"\n",
      "[1] 10.18419/\n",
      "379 Levels: 10.11577/ 10.11586/ 10.11588/ 10.1184/ 10.12682/ ... 10.7945/\n"
     ]
    },
    {
     "name": "stderr",
     "output_type": "stream",
     "text": [
      "Warning message in mutate_impl(.data, dots):\n",
      "“binding character and factor vector, coercing into character vector”"
     ]
    },
    {
     "name": "stdout",
     "output_type": "stream",
     "text": [
      "[1] \"DataCite\"\n",
      "[1] 10.5525/\n",
      "379 Levels: 10.11577/ 10.11586/ 10.11588/ 10.1184/ 10.12682/ ... 10.7945/\n",
      "[1] \"bl.glasgow\"\n",
      "[1] 10.5525/\n",
      "379 Levels: 10.11577/ 10.11586/ 10.11588/ 10.1184/ 10.12682/ ... 10.7945/\n"
     ]
    },
    {
     "name": "stderr",
     "output_type": "stream",
     "text": [
      "Warning message in mutate_impl(.data, dots):\n",
      "“binding character and factor vector, coercing into character vector”"
     ]
    },
    {
     "name": "stdout",
     "output_type": "stream",
     "text": [
      "[1] \"DataCite\"\n",
      "[1] 10.13137/\n",
      "379 Levels: 10.11577/ 10.11586/ 10.11588/ 10.1184/ 10.12682/ ... 10.7945/\n",
      "[1] \"crui.units\"\n",
      "[1] 10.13137/\n",
      "379 Levels: 10.11577/ 10.11586/ 10.11588/ 10.1184/ 10.12682/ ... 10.7945/\n"
     ]
    },
    {
     "name": "stderr",
     "output_type": "stream",
     "text": [
      "Warning message in mutate_impl(.data, dots):\n",
      "“binding character and factor vector, coercing into character vector”"
     ]
    },
    {
     "name": "stdout",
     "output_type": "stream",
     "text": [
      "[1] \"DataCite\"\n",
      "[1] 10.21426/\n",
      "379 Levels: 10.11577/ 10.11586/ 10.11588/ 10.1184/ 10.12682/ ... 10.7945/\n",
      "[1] \"cdl.ucm\"\n",
      "[1] 10.21426/\n",
      "379 Levels: 10.11577/ 10.11586/ 10.11588/ 10.1184/ 10.12682/ ... 10.7945/\n"
     ]
    },
    {
     "name": "stderr",
     "output_type": "stream",
     "text": [
      "Warning message in mutate_impl(.data, dots):\n",
      "“binding character and factor vector, coercing into character vector”"
     ]
    },
    {
     "name": "stdout",
     "output_type": "stream",
     "text": [
      "[1] \"DataCite\"\n",
      "[1] 10.5517/\n",
      "379 Levels: 10.11577/ 10.11586/ 10.11588/ 10.1184/ 10.12682/ ... 10.7945/\n",
      "[1] \"bl.ccdc\"\n",
      "[1] 10.5517/\n",
      "379 Levels: 10.11577/ 10.11586/ 10.11588/ 10.1184/ 10.12682/ ... 10.7945/\n"
     ]
    },
    {
     "name": "stderr",
     "output_type": "stream",
     "text": [
      "Warning message in mutate_impl(.data, dots):\n",
      "“binding character and factor vector, coercing into character vector”"
     ]
    },
    {
     "name": "stdout",
     "output_type": "stream",
     "text": [
      "[1] \"DataCite\"\n",
      "[1] 10.18435/\n",
      "379 Levels: 10.11577/ 10.11586/ 10.11588/ 10.1184/ 10.12682/ ... 10.7945/\n",
      "[1] 10.18435/\n",
      "379 Levels: 10.11577/ 10.11586/ 10.11588/ 10.1184/ 10.12682/ ... 10.7945/\n"
     ]
    },
    {
     "name": "stderr",
     "output_type": "stream",
     "text": [
      "Warning message in mutate_impl(.data, dots):\n",
      "“binding character and factor vector, coercing into character vector”"
     ]
    },
    {
     "name": "stdout",
     "output_type": "stream",
     "text": [
      "[1] \"DataCite\"\n",
      "[1] 10.17628/\n",
      "379 Levels: 10.11577/ 10.11586/ 10.11588/ 10.1184/ 10.12682/ ... 10.7945/\n",
      "[1] \"mtakik.ecb\"\n",
      "[1] 10.17628/\n",
      "379 Levels: 10.11577/ 10.11586/ 10.11588/ 10.1184/ 10.12682/ ... 10.7945/\n"
     ]
    },
    {
     "name": "stderr",
     "output_type": "stream",
     "text": [
      "Warning message in mutate_impl(.data, dots):\n",
      "“binding character and factor vector, coercing into character vector”"
     ]
    },
    {
     "name": "stdout",
     "output_type": "stream",
     "text": [
      "[1] \"DataCite\"\n",
      "[1] 10.13127/\n",
      "379 Levels: 10.11577/ 10.11586/ 10.11588/ 10.1184/ 10.12682/ ... 10.7945/\n",
      "[1] \"crui.ingv\"\n",
      "[1] 10.13127/\n",
      "379 Levels: 10.11577/ 10.11586/ 10.11588/ 10.1184/ 10.12682/ ... 10.7945/\n"
     ]
    },
    {
     "name": "stderr",
     "output_type": "stream",
     "text": [
      "Warning message in mutate_impl(.data, dots):\n",
      "“binding character and factor vector, coercing into character vector”"
     ]
    },
    {
     "name": "stdout",
     "output_type": "stream",
     "text": [
      "[1] \"DataCite\"\n",
      "[1] 10.5523/\n",
      "379 Levels: 10.11577/ 10.11586/ 10.11588/ 10.1184/ 10.12682/ ... 10.7945/\n",
      "[1] \"bl.bristol\"\n",
      "[1] 10.5523/\n",
      "379 Levels: 10.11577/ 10.11586/ 10.11588/ 10.1184/ 10.12682/ ... 10.7945/\n"
     ]
    },
    {
     "name": "stderr",
     "output_type": "stream",
     "text": [
      "Warning message in mutate_impl(.data, dots):\n",
      "“binding character and factor vector, coercing into character vector”"
     ]
    },
    {
     "name": "stdout",
     "output_type": "stream",
     "text": [
      "[1] \"DataCite\"\n",
      "[1] 10.14456/\n",
      "379 Levels: 10.11577/ 10.11586/ 10.11588/ 10.1184/ 10.12682/ ... 10.7945/\n",
      "[1] \"nrct.db1\"\n",
      "[1] 10.14456/\n",
      "379 Levels: 10.11577/ 10.11586/ 10.11588/ 10.1184/ 10.12682/ ... 10.7945/\n"
     ]
    },
    {
     "name": "stderr",
     "output_type": "stream",
     "text": [
      "Warning message in mutate_impl(.data, dots):\n",
      "“binding character and factor vector, coercing into character vector”"
     ]
    },
    {
     "name": "stdout",
     "output_type": "stream",
     "text": [
      "[1] \"DataCite\"\n",
      "[1] 10.5291/\n",
      "379 Levels: 10.11577/ 10.11586/ 10.11588/ 10.1184/ 10.12682/ ... 10.7945/\n",
      "[1] \"inist.ill\"\n",
      "[1] 10.5291/\n",
      "379 Levels: 10.11577/ 10.11586/ 10.11588/ 10.1184/ 10.12682/ ... 10.7945/\n"
     ]
    },
    {
     "name": "stderr",
     "output_type": "stream",
     "text": [
      "Warning message in mutate_impl(.data, dots):\n",
      "“binding character and factor vector, coercing into character vector”"
     ]
    },
    {
     "name": "stdout",
     "output_type": "stream",
     "text": [
      "[1] \"DataCite\"\n",
      "[1] 10.13117/\n",
      "379 Levels: 10.11577/ 10.11586/ 10.11588/ 10.1184/ 10.12682/ ... 10.7945/\n",
      "[1] \"crui.gem\"\n",
      "[1] 10.13117/\n",
      "379 Levels: 10.11577/ 10.11586/ 10.11588/ 10.1184/ 10.12682/ ... 10.7945/\n"
     ]
    },
    {
     "name": "stderr",
     "output_type": "stream",
     "text": [
      "Warning message in mutate_impl(.data, dots):\n",
      "“binding character and factor vector, coercing into character vector”"
     ]
    },
    {
     "name": "stdout",
     "output_type": "stream",
     "text": [
      "[1] \"DataCite\"\n",
      "[1] 10.18118/\n",
      "379 Levels: 10.11577/ 10.11586/ 10.11588/ 10.1184/ 10.12682/ ... 10.7945/\n",
      "[1] \"cdl.geer\"\n",
      "[1] 10.18118/\n",
      "379 Levels: 10.11577/ 10.11586/ 10.11588/ 10.1184/ 10.12682/ ... 10.7945/\n"
     ]
    },
    {
     "name": "stderr",
     "output_type": "stream",
     "text": [
      "Warning message in mutate_impl(.data, dots):\n",
      "“binding character and factor vector, coercing into character vector”"
     ]
    },
    {
     "name": "stdout",
     "output_type": "stream",
     "text": [
      "[1] \"DataCite\"\n",
      "[1] 10.4225/\n",
      "379 Levels: 10.11577/ 10.11586/ 10.11588/ 10.1184/ 10.12682/ ... 10.7945/\n",
      "[1] \"ands.centre57\"\n",
      "[1] 10.4225/\n",
      "379 Levels: 10.11577/ 10.11586/ 10.11588/ 10.1184/ 10.12682/ ... 10.7945/\n"
     ]
    },
    {
     "name": "stderr",
     "output_type": "stream",
     "text": [
      "Warning message in mutate_impl(.data, dots):\n",
      "“binding character and factor vector, coercing into character vector”"
     ]
    },
    {
     "name": "stdout",
     "output_type": "stream",
     "text": [
      "[1] \"DataCite\"\n",
      "[1] 10.5518/\n",
      "379 Levels: 10.11577/ 10.11586/ 10.11588/ 10.1184/ 10.12682/ ... 10.7945/\n",
      "[1] \"bl.leeds\"\n",
      "[1] 10.5518/\n",
      "379 Levels: 10.11577/ 10.11586/ 10.11588/ 10.1184/ 10.12682/ ... 10.7945/\n"
     ]
    },
    {
     "name": "stderr",
     "output_type": "stream",
     "text": [
      "Warning message in mutate_impl(.data, dots):\n",
      "“binding character and factor vector, coercing into character vector”"
     ]
    },
    {
     "name": "stdout",
     "output_type": "stream",
     "text": [
      "[1] \"DataCite\"\n",
      "[1] 10.15468/\n",
      "379 Levels: 10.11577/ 10.11586/ 10.11588/ 10.1184/ 10.12682/ ... 10.7945/\n",
      "[1] \"dk.gbif\"\n",
      "[1] 10.15468/\n",
      "379 Levels: 10.11577/ 10.11586/ 10.11588/ 10.1184/ 10.12682/ ... 10.7945/\n"
     ]
    },
    {
     "name": "stderr",
     "output_type": "stream",
     "text": [
      "Warning message in mutate_impl(.data, dots):\n",
      "“binding character and factor vector, coercing into character vector”"
     ]
    },
    {
     "name": "stdout",
     "output_type": "stream",
     "text": [
      "[1] \"DataCite\"\n",
      "[1] 10.7294/\n",
      "379 Levels: 10.11577/ 10.11586/ 10.11588/ 10.1184/ 10.12682/ ... 10.7945/\n",
      "[1] \"cdl.vtlib\"\n",
      "[1] 10.7294/\n",
      "379 Levels: 10.11577/ 10.11586/ 10.11588/ 10.1184/ 10.12682/ ... 10.7945/\n"
     ]
    },
    {
     "name": "stderr",
     "output_type": "stream",
     "text": [
      "Warning message in mutate_impl(.data, dots):\n",
      "“binding character and factor vector, coercing into character vector”"
     ]
    },
    {
     "name": "stdout",
     "output_type": "stream",
     "text": [
      "[1] \"DataCite\"\n",
      "[1] 10.13026/\n",
      "379 Levels: 10.11577/ 10.11586/ 10.11588/ 10.1184/ 10.12682/ ... 10.7945/\n",
      "[1] \"cdl.mitlcp\"\n",
      "[1] 10.13026/\n",
      "379 Levels: 10.11577/ 10.11586/ 10.11588/ 10.1184/ 10.12682/ ... 10.7945/\n"
     ]
    },
    {
     "name": "stderr",
     "output_type": "stream",
     "text": [
      "Warning message in mutate_impl(.data, dots):\n",
      "“binding character and factor vector, coercing into character vector”"
     ]
    },
    {
     "name": "stdout",
     "output_type": "stream",
     "text": [
      "[1] \"DataCite\"\n",
      "[1] 10.18461/\n",
      "379 Levels: 10.11577/ 10.11586/ 10.11588/ 10.1184/ 10.12682/ ... 10.7945/\n",
      "[1] \"zbmed.ijsfd\"\n",
      "[1] 10.18461/\n",
      "379 Levels: 10.11577/ 10.11586/ 10.11588/ 10.1184/ 10.12682/ ... 10.7945/\n"
     ]
    },
    {
     "name": "stderr",
     "output_type": "stream",
     "text": [
      "Warning message in mutate_impl(.data, dots):\n",
      "“binding character and factor vector, coercing into character vector”"
     ]
    },
    {
     "name": "stdout",
     "output_type": "stream",
     "text": [
      "[1] \"DataCite\"\n",
      "[1] 10.15779/\n",
      "379 Levels: 10.11577/ 10.11586/ 10.11588/ 10.1184/ 10.12682/ ... 10.7945/\n",
      "[1] \"cdl.ucblawlb\"\n",
      "[1] 10.15779/\n",
      "379 Levels: 10.11577/ 10.11586/ 10.11588/ 10.1184/ 10.12682/ ... 10.7945/\n"
     ]
    },
    {
     "name": "stderr",
     "output_type": "stream",
     "text": [
      "Warning message in mutate_impl(.data, dots):\n",
      "“binding character and factor vector, coercing into character vector”"
     ]
    },
    {
     "name": "stdout",
     "output_type": "stream",
     "text": [
      "[1] \"DataCite\"\n",
      "[1] 10.7937/\n",
      "379 Levels: 10.11577/ 10.11586/ 10.11588/ 10.1184/ 10.12682/ ... 10.7945/\n",
      "[1] \"cdl.tcia\"\n",
      "[1] 10.7937/\n",
      "379 Levels: 10.11577/ 10.11586/ 10.11588/ 10.1184/ 10.12682/ ... 10.7945/\n"
     ]
    },
    {
     "name": "stderr",
     "output_type": "stream",
     "text": [
      "Warning message in mutate_impl(.data, dots):\n",
      "“binding character and factor vector, coercing into character vector”"
     ]
    },
    {
     "name": "stdout",
     "output_type": "stream",
     "text": [
      "[1] \"DataCite\"\n",
      "[1] 10.1184/\n",
      "379 Levels: 10.11577/ 10.11586/ 10.11588/ 10.1184/ 10.12682/ ... 10.7945/\n",
      "[1] \"cdl.cmu\"\n",
      "[1] 10.1184/\n",
      "379 Levels: 10.11577/ 10.11586/ 10.11588/ 10.1184/ 10.12682/ ... 10.7945/\n"
     ]
    },
    {
     "name": "stderr",
     "output_type": "stream",
     "text": [
      "Warning message in mutate_impl(.data, dots):\n",
      "“binding character and factor vector, coercing into character vector”"
     ]
    },
    {
     "name": "stdout",
     "output_type": "stream",
     "text": [
      "[1] \"DataCite\"\n",
      "[1] 10.15781/\n",
      "379 Levels: 10.11577/ 10.11586/ 10.11588/ 10.1184/ 10.12682/ ... 10.7945/\n",
      "[1] \"cdl.utaustin\"\n",
      "[1] 10.15781/\n",
      "379 Levels: 10.11577/ 10.11586/ 10.11588/ 10.1184/ 10.12682/ ... 10.7945/\n"
     ]
    },
    {
     "name": "stderr",
     "output_type": "stream",
     "text": [
      "Warning message in mutate_impl(.data, dots):\n",
      "“binding character and factor vector, coercing into character vector”"
     ]
    },
    {
     "name": "stdout",
     "output_type": "stream",
     "text": [
      "[1] \"DataCite\"\n",
      "[1] 10.3931/\n",
      "379 Levels: 10.11577/ 10.11586/ 10.11588/ 10.1184/ 10.12682/ ... 10.7945/\n",
      "[1] \"ethz.e-rara\"\n",
      "[1] 10.3931/\n",
      "379 Levels: 10.11577/ 10.11586/ 10.11588/ 10.1184/ 10.12682/ ... 10.7945/\n"
     ]
    },
    {
     "name": "stderr",
     "output_type": "stream",
     "text": [
      "Warning message in mutate_impl(.data, dots):\n",
      "“binding character and factor vector, coercing into character vector”"
     ]
    },
    {
     "name": "stdout",
     "output_type": "stream",
     "text": [
      "[1] \"DataCite\"\n",
      "[1] 10.12686/\n",
      "379 Levels: 10.11577/ 10.11586/ 10.11588/ 10.1184/ 10.12682/ ... 10.7945/\n",
      "[1] \"ethz.sed\"\n",
      "[1] 10.12686/\n",
      "379 Levels: 10.11577/ 10.11586/ 10.11588/ 10.1184/ 10.12682/ ... 10.7945/\n"
     ]
    },
    {
     "name": "stderr",
     "output_type": "stream",
     "text": [
      "Warning message in mutate_impl(.data, dots):\n",
      "“binding character and factor vector, coercing into character vector”"
     ]
    },
    {
     "name": "stdout",
     "output_type": "stream",
     "text": [
      "[1] \"DataCite\"\n",
      "[1] 10.5438/\n",
      "379 Levels: 10.11577/ 10.11586/ 10.11588/ 10.1184/ 10.12682/ ... 10.7945/\n",
      "[1] \"datacite.datacite\"\n",
      "[1] 10.5438/\n",
      "379 Levels: 10.11577/ 10.11586/ 10.11588/ 10.1184/ 10.12682/ ... 10.7945/\n"
     ]
    },
    {
     "name": "stderr",
     "output_type": "stream",
     "text": [
      "Warning message in mutate_impl(.data, dots):\n",
      "“binding character and factor vector, coercing into character vector”"
     ]
    },
    {
     "name": "stdout",
     "output_type": "stream",
     "text": [
      "[1] \"DataCite\"\n",
      "[1] 10.17612/\n",
      "379 Levels: 10.11577/ 10.11586/ 10.11588/ 10.1184/ 10.12682/ ... 10.7945/\n",
      "[1] \"cdl.pgerr\"\n",
      "[1] 10.17612/\n",
      "379 Levels: 10.11577/ 10.11586/ 10.11588/ 10.1184/ 10.12682/ ... 10.7945/\n"
     ]
    },
    {
     "name": "stderr",
     "output_type": "stream",
     "text": [
      "Warning message in mutate_impl(.data, dots):\n",
      "“binding character and factor vector, coercing into character vector”"
     ]
    },
    {
     "name": "stdout",
     "output_type": "stream",
     "text": [
      "[1] \"DataCite\"\n",
      "[1] 10.5283/\n",
      "379 Levels: 10.11577/ 10.11586/ 10.11588/ 10.1184/ 10.12682/ ... 10.7945/\n",
      "[1] \"zbmed.pf\"\n",
      "[1] 10.5283/\n",
      "379 Levels: 10.11577/ 10.11586/ 10.11588/ 10.1184/ 10.12682/ ... 10.7945/\n"
     ]
    },
    {
     "name": "stderr",
     "output_type": "stream",
     "text": [
      "Warning message in mutate_impl(.data, dots):\n",
      "“binding character and factor vector, coercing into character vector”"
     ]
    },
    {
     "name": "stdout",
     "output_type": "stream",
     "text": [
      "[1] \"DataCite\"\n",
      "[1] 10.6080/\n",
      "379 Levels: 10.11577/ 10.11586/ 10.11588/ 10.1184/ 10.12682/ ... 10.7945/\n",
      "[1] \"cdl.ucbcrcns\"\n",
      "[1] 10.6080/\n",
      "379 Levels: 10.11577/ 10.11586/ 10.11588/ 10.1184/ 10.12682/ ... 10.7945/\n"
     ]
    },
    {
     "name": "stderr",
     "output_type": "stream",
     "text": [
      "Warning message in mutate_impl(.data, dots):\n",
      "“binding character and factor vector, coercing into character vector”"
     ]
    },
    {
     "name": "stdout",
     "output_type": "stream",
     "text": [
      "[1] \"DataCite\"\n",
      "[1] 10.14466/\n",
      "379 Levels: 10.11577/ 10.11586/ 10.11588/ 10.1184/ 10.12682/ ... 10.7945/\n",
      "[1] \"bl.cefas\"\n",
      "[1] 10.14466/\n",
      "379 Levels: 10.11577/ 10.11586/ 10.11588/ 10.1184/ 10.12682/ ... 10.7945/\n"
     ]
    },
    {
     "name": "stderr",
     "output_type": "stream",
     "text": [
      "Warning message in mutate_impl(.data, dots):\n",
      "“binding character and factor vector, coercing into character vector”"
     ]
    },
    {
     "name": "stdout",
     "output_type": "stream",
     "text": [
      "[1] \"DataCite\"\n",
      "[1] 10.7264/\n",
      "379 Levels: 10.11577/ 10.11586/ 10.11588/ 10.1184/ 10.12682/ ... 10.7945/\n",
      "[1] \"cdl.uoregon\"\n",
      "[1] 10.7264/\n",
      "379 Levels: 10.11577/ 10.11586/ 10.11588/ 10.1184/ 10.12682/ ... 10.7945/\n"
     ]
    },
    {
     "name": "stderr",
     "output_type": "stream",
     "text": [
      "Warning message in mutate_impl(.data, dots):\n",
      "“binding character and factor vector, coercing into character vector”"
     ]
    },
    {
     "name": "stdout",
     "output_type": "stream",
     "text": [
      "[1] \"DataCite\"\n",
      "[1] 10.15120/\n",
      "379 Levels: 10.11577/ 10.11586/ 10.11588/ 10.1184/ 10.12682/ ... 10.7945/\n",
      "[1] \"tib.gsi\"\n",
      "[1] 10.15120/\n",
      "379 Levels: 10.11577/ 10.11586/ 10.11588/ 10.1184/ 10.12682/ ... 10.7945/\n"
     ]
    },
    {
     "name": "stderr",
     "output_type": "stream",
     "text": [
      "Warning message in mutate_impl(.data, dots):\n",
      "“binding character and factor vector, coercing into character vector”"
     ]
    },
    {
     "name": "stdout",
     "output_type": "stream",
     "text": [
      "[1] \"DataCite\"\n",
      "[1] 10.18725/\n",
      "379 Levels: 10.11577/ 10.11586/ 10.11588/ 10.1184/ 10.12682/ ... 10.7945/\n",
      "[1] \"tib.oparu\"\n",
      "[1] 10.18725/\n",
      "379 Levels: 10.11577/ 10.11586/ 10.11588/ 10.1184/ 10.12682/ ... 10.7945/\n"
     ]
    },
    {
     "name": "stderr",
     "output_type": "stream",
     "text": [
      "Warning message in mutate_impl(.data, dots):\n",
      "“binding character and factor vector, coercing into character vector”"
     ]
    },
    {
     "name": "stdout",
     "output_type": "stream",
     "text": [
      "[1] \"DataCite\"\n",
      "[1] 10.14470/\n",
      "379 Levels: 10.11577/ 10.11586/ 10.11588/ 10.1184/ 10.12682/ ... 10.7945/\n",
      "[1] \"tib.gfz\"\n",
      "[1] 10.14470/\n",
      "379 Levels: 10.11577/ 10.11586/ 10.11588/ 10.1184/ 10.12682/ ... 10.7945/\n"
     ]
    },
    {
     "name": "stderr",
     "output_type": "stream",
     "text": [
      "Warning message in mutate_impl(.data, dots):\n",
      "“binding character and factor vector, coercing into character vector”"
     ]
    },
    {
     "name": "stdout",
     "output_type": "stream",
     "text": [
      "[1] \"DataCite\"\n",
      "[1] 10.15126/\n",
      "379 Levels: 10.11577/ 10.11586/ 10.11588/ 10.1184/ 10.12682/ ... 10.7945/\n",
      "[1] \"bl.surrey\"\n",
      "[1] 10.15126/\n",
      "379 Levels: 10.11577/ 10.11586/ 10.11588/ 10.1184/ 10.12682/ ... 10.7945/\n"
     ]
    },
    {
     "name": "stderr",
     "output_type": "stream",
     "text": [
      "Warning message in mutate_impl(.data, dots):\n",
      "“binding character and factor vector, coercing into character vector”"
     ]
    },
    {
     "name": "stdout",
     "output_type": "stream",
     "text": [
      "[1] \"DataCite\"\n",
      "[1] 10.18157/\n",
      "379 Levels: 10.11577/ 10.11586/ 10.11588/ 10.1184/ 10.12682/ ... 10.7945/\n",
      "[1] \"snd.qog\"\n",
      "[1] 10.18157/\n",
      "379 Levels: 10.11577/ 10.11586/ 10.11588/ 10.1184/ 10.12682/ ... 10.7945/\n"
     ]
    },
    {
     "name": "stderr",
     "output_type": "stream",
     "text": [
      "Warning message in mutate_impl(.data, dots):\n",
      "“binding character and factor vector, coercing into character vector”"
     ]
    },
    {
     "name": "stdout",
     "output_type": "stream",
     "text": [
      "[1] \"DataCite\"\n",
      "[1] 10.14471/\n",
      "379 Levels: 10.11577/ 10.11586/ 10.11588/ 10.1184/ 10.12682/ ... 10.7945/\n",
      "[1] \"zbmed.florsoz\"\n",
      "[1] 10.14471/\n",
      "379 Levels: 10.11577/ 10.11586/ 10.11588/ 10.1184/ 10.12682/ ... 10.7945/\n"
     ]
    },
    {
     "name": "stderr",
     "output_type": "stream",
     "text": [
      "Warning message in mutate_impl(.data, dots):\n",
      "“binding character and factor vector, coercing into character vector”"
     ]
    },
    {
     "name": "stdout",
     "output_type": "stream",
     "text": [
      "[1] \"DataCite\"\n",
      "[1] 10.15167/\n",
      "379 Levels: 10.11577/ 10.11586/ 10.11588/ 10.1184/ 10.12682/ ... 10.7945/\n",
      "[1] \"crui.unige\"\n",
      "[1] 10.15167/\n",
      "379 Levels: 10.11577/ 10.11586/ 10.11588/ 10.1184/ 10.12682/ ... 10.7945/\n"
     ]
    },
    {
     "name": "stderr",
     "output_type": "stream",
     "text": [
      "Warning message in mutate_impl(.data, dots):\n",
      "“binding character and factor vector, coercing into character vector”"
     ]
    },
    {
     "name": "stdout",
     "output_type": "stream",
     "text": [
      "[1] \"DataCite\"\n",
      "[1] 10.7482/\n",
      "379 Levels: 10.11577/ 10.11586/ 10.11588/ 10.1184/ 10.12682/ ... 10.7945/\n",
      "[1] \"zbmed.fbn\"\n",
      "[1] 10.7482/\n",
      "379 Levels: 10.11577/ 10.11586/ 10.11588/ 10.1184/ 10.12682/ ... 10.7945/\n"
     ]
    },
    {
     "name": "stderr",
     "output_type": "stream",
     "text": [
      "Warning message in mutate_impl(.data, dots):\n",
      "“binding character and factor vector, coercing into character vector”"
     ]
    },
    {
     "name": "stdout",
     "output_type": "stream",
     "text": [
      "[1] \"DataCite\"\n",
      "[1] 10.15480/\n",
      "379 Levels: 10.11577/ 10.11586/ 10.11588/ 10.1184/ 10.12682/ ... 10.7945/\n",
      "[1] \"tib.tuhh\"\n",
      "[1] 10.15480/\n",
      "379 Levels: 10.11577/ 10.11586/ 10.11588/ 10.1184/ 10.12682/ ... 10.7945/\n"
     ]
    },
    {
     "name": "stderr",
     "output_type": "stream",
     "text": [
      "Warning message in mutate_impl(.data, dots):\n",
      "“binding character and factor vector, coercing into character vector”"
     ]
    },
    {
     "name": "stdout",
     "output_type": "stream",
     "text": [
      "[1] \"DataCite\"\n",
      "[1] 10.6103/\n",
      "379 Levels: 10.11577/ 10.11586/ 10.11588/ 10.1184/ 10.12682/ ... 10.7945/\n",
      "[1] \"gesis.share\"\n",
      "[1] 10.6103/\n",
      "379 Levels: 10.11577/ 10.11586/ 10.11588/ 10.1184/ 10.12682/ ... 10.7945/\n"
     ]
    },
    {
     "name": "stderr",
     "output_type": "stream",
     "text": [
      "Warning message in mutate_impl(.data, dots):\n",
      "“binding character and factor vector, coercing into character vector”"
     ]
    },
    {
     "name": "stdout",
     "output_type": "stream",
     "text": [
      "[1] \"DataCite\"\n",
      "[1] 10.12767/\n",
      "379 Levels: 10.11577/ 10.11586/ 10.11588/ 10.1184/ 10.12682/ ... 10.7945/\n",
      "[1] \"zbmed.ble\"\n",
      "[1] 10.12767/\n",
      "379 Levels: 10.11577/ 10.11586/ 10.11588/ 10.1184/ 10.12682/ ... 10.7945/\n"
     ]
    },
    {
     "name": "stderr",
     "output_type": "stream",
     "text": [
      "Warning message in mutate_impl(.data, dots):\n",
      "“binding character and factor vector, coercing into character vector”"
     ]
    },
    {
     "name": "stdout",
     "output_type": "stream",
     "text": [
      "[1] \"DataCite\"\n",
      "[1] 10.17882/\n",
      "379 Levels: 10.11577/ 10.11586/ 10.11588/ 10.1184/ 10.12682/ ... 10.7945/\n",
      "[1] \"inist.ifremer\"\n",
      "[1] 10.17882/\n",
      "379 Levels: 10.11577/ 10.11586/ 10.11588/ 10.1184/ 10.12682/ ... 10.7945/\n"
     ]
    },
    {
     "name": "stderr",
     "output_type": "stream",
     "text": [
      "Warning message in mutate_impl(.data, dots):\n",
      "“binding character and factor vector, coercing into character vector”"
     ]
    },
    {
     "name": "stdout",
     "output_type": "stream",
     "text": [
      "[1] \"DataCite\"\n",
      "[1] 10.3285/\n",
      "379 Levels: 10.11577/ 10.11586/ 10.11588/ 10.1184/ 10.12682/ ... 10.7945/\n",
      "[1] \"tib.geozon\"\n",
      "[1] 10.3285/\n",
      "379 Levels: 10.11577/ 10.11586/ 10.11588/ 10.1184/ 10.12682/ ... 10.7945/\n"
     ]
    },
    {
     "name": "stderr",
     "output_type": "stream",
     "text": [
      "Warning message in mutate_impl(.data, dots):\n",
      "“binding character and factor vector, coercing into character vector”"
     ]
    },
    {
     "name": "stdout",
     "output_type": "stream",
     "text": [
      "[1] \"DataCite\"\n",
      "[1] 10.17611/\n",
      "379 Levels: 10.11577/ 10.11586/ 10.11588/ 10.1184/ 10.12682/ ... 10.7945/\n",
      "[1] \"cdl.iris\"\n",
      "[1] 10.17611/\n",
      "379 Levels: 10.11577/ 10.11586/ 10.11588/ 10.1184/ 10.12682/ ... 10.7945/\n"
     ]
    },
    {
     "name": "stderr",
     "output_type": "stream",
     "text": [
      "Warning message in mutate_impl(.data, dots):\n",
      "“binding character and factor vector, coercing into character vector”"
     ]
    },
    {
     "name": "stdout",
     "output_type": "stream",
     "text": [
      "[1] \"DataCite\"\n",
      "[1] 10.13019/\n",
      "379 Levels: 10.11577/ 10.11586/ 10.11588/ 10.1184/ 10.12682/ ... 10.7945/\n",
      "[1] \"purdue.mygeohub\"\n",
      "[1] 10.13019/\n",
      "379 Levels: 10.11577/ 10.11586/ 10.11588/ 10.1184/ 10.12682/ ... 10.7945/\n"
     ]
    },
    {
     "name": "stderr",
     "output_type": "stream",
     "text": [
      "Warning message in mutate_impl(.data, dots):\n",
      "“binding character and factor vector, coercing into character vector”"
     ]
    },
    {
     "name": "stdout",
     "output_type": "stream",
     "text": [
      "[1] \"DataCite\"\n",
      "[1] 10.13155/\n",
      "379 Levels: 10.11577/ 10.11586/ 10.11588/ 10.1184/ 10.12682/ ... 10.7945/\n",
      "[1] \"inist.ifremer\"\n",
      "[1] 10.13155/\n",
      "379 Levels: 10.11577/ 10.11586/ 10.11588/ 10.1184/ 10.12682/ ... 10.7945/\n"
     ]
    },
    {
     "name": "stderr",
     "output_type": "stream",
     "text": [
      "Warning message in mutate_impl(.data, dots):\n",
      "“binding character and factor vector, coercing into character vector”"
     ]
    },
    {
     "name": "stdout",
     "output_type": "stream",
     "text": [
      "[1] \"DataCite\"\n",
      "[1] 10.7281/\n",
      "379 Levels: 10.11577/ 10.11586/ 10.11588/ 10.1184/ 10.12682/ ... 10.7945/\n",
      "[1] \"cdl.jhu\"\n",
      "[1] 10.7281/\n",
      "379 Levels: 10.11577/ 10.11586/ 10.11588/ 10.1184/ 10.12682/ ... 10.7945/\n"
     ]
    },
    {
     "name": "stderr",
     "output_type": "stream",
     "text": [
      "Warning message in mutate_impl(.data, dots):\n",
      "“binding character and factor vector, coercing into character vector”"
     ]
    },
    {
     "name": "stdout",
     "output_type": "stream",
     "text": [
      "[1] \"DataCite\"\n",
      "[1] 10.6069/\n",
      "379 Levels: 10.11577/ 10.11586/ 10.11588/ 10.1184/ 10.12682/ ... 10.7945/\n",
      "[1] \"cdl.uwl\"\n",
      "[1] 10.6069/\n",
      "379 Levels: 10.11577/ 10.11586/ 10.11588/ 10.1184/ 10.12682/ ... 10.7945/\n"
     ]
    },
    {
     "name": "stderr",
     "output_type": "stream",
     "text": [
      "Warning message in mutate_impl(.data, dots):\n",
      "“binding character and factor vector, coercing into character vector”"
     ]
    },
    {
     "name": "stdout",
     "output_type": "stream",
     "text": [
      "[1] \"DataCite\"\n",
      "[1] 10.16904/\n",
      "379 Levels: 10.11577/ 10.11586/ 10.11588/ 10.1184/ 10.12682/ ... 10.7945/\n",
      "[1] \"ethz.wsl\"\n",
      "[1] 10.16904/\n",
      "379 Levels: 10.11577/ 10.11586/ 10.11588/ 10.1184/ 10.12682/ ... 10.7945/\n"
     ]
    },
    {
     "name": "stderr",
     "output_type": "stream",
     "text": [
      "Warning message in mutate_impl(.data, dots):\n",
      "“binding character and factor vector, coercing into character vector”"
     ]
    },
    {
     "name": "stdout",
     "output_type": "stream",
     "text": [
      "[1] \"DataCite\"\n",
      "[1] 10.14284/\n",
      "379 Levels: 10.11577/ 10.11586/ 10.11588/ 10.1184/ 10.12682/ ... 10.7945/\n",
      "[1] \"delft.vliz\"\n",
      "[1] 10.14284/\n",
      "379 Levels: 10.11577/ 10.11586/ 10.11588/ 10.1184/ 10.12682/ ... 10.7945/\n"
     ]
    },
    {
     "name": "stderr",
     "output_type": "stream",
     "text": [
      "Warning message in mutate_impl(.data, dots):\n",
      "“binding character and factor vector, coercing into character vector”"
     ]
    },
    {
     "name": "stdout",
     "output_type": "stream",
     "text": [
      "[1] \"DataCite\"\n",
      "[1] 10.18434/\n",
      "379 Levels: 10.11577/ 10.11586/ 10.11588/ 10.1184/ 10.12682/ ... 10.7945/\n",
      "[1] \"osti.nist\"\n",
      "[1] 10.18434/\n",
      "379 Levels: 10.11577/ 10.11586/ 10.11588/ 10.1184/ 10.12682/ ... 10.7945/\n"
     ]
    },
    {
     "name": "stderr",
     "output_type": "stream",
     "text": [
      "Warning message in mutate_impl(.data, dots):\n",
      "“binding character and factor vector, coercing into character vector”"
     ]
    },
    {
     "name": "stdout",
     "output_type": "stream",
     "text": [
      "[1] \"DataCite\"\n",
      "[1] 10.5063/\n",
      "379 Levels: 10.11577/ 10.11586/ 10.11588/ 10.1184/ 10.12682/ ... 10.7945/\n",
      "[1] \"cdl.nceas\"\n",
      "[1] 10.5063/\n",
      "379 Levels: 10.11577/ 10.11586/ 10.11588/ 10.1184/ 10.12682/ ... 10.7945/\n"
     ]
    },
    {
     "name": "stderr",
     "output_type": "stream",
     "text": [
      "Warning message in mutate_impl(.data, dots):\n",
      "“binding character and factor vector, coercing into character vector”"
     ]
    },
    {
     "name": "stdout",
     "output_type": "stream",
     "text": [
      "[1] \"DataCite\"\n",
      "[1] 10.5887/\n",
      "379 Levels: 10.11577/ 10.11586/ 10.11588/ 10.1184/ 10.12682/ ... 10.7945/\n",
      "[1] \"cisti.ugardr\"\n",
      "[1] 10.5887/\n",
      "379 Levels: 10.11577/ 10.11586/ 10.11588/ 10.1184/ 10.12682/ ... 10.7945/\n"
     ]
    },
    {
     "name": "stderr",
     "output_type": "stream",
     "text": [
      "Warning message in mutate_impl(.data, dots):\n",
      "“binding character and factor vector, coercing into character vector”"
     ]
    },
    {
     "name": "stdout",
     "output_type": "stream",
     "text": [
      "[1] \"DataCite\"\n",
      "[1] 10.7931/\n",
      "379 Levels: 10.11577/ 10.11586/ 10.11588/ 10.1184/ 10.12682/ ... 10.7945/\n",
      "[1] \"cdl.lcrnz\"\n",
      "[1] 10.7931/\n",
      "379 Levels: 10.11577/ 10.11586/ 10.11588/ 10.1184/ 10.12682/ ... 10.7945/\n"
     ]
    },
    {
     "name": "stderr",
     "output_type": "stream",
     "text": [
      "Warning message in mutate_impl(.data, dots):\n",
      "“binding character and factor vector, coercing into character vector”"
     ]
    },
    {
     "name": "stdout",
     "output_type": "stream",
     "text": [
      "[1] \"DataCite\"\n",
      "[1] 10.15124/\n",
      "379 Levels: 10.11577/ 10.11586/ 10.11588/ 10.1184/ 10.12682/ ... 10.7945/\n",
      "[1] \"bl.york\"\n",
      "[1] 10.15124/\n",
      "379 Levels: 10.11577/ 10.11586/ 10.11588/ 10.1184/ 10.12682/ ... 10.7945/\n"
     ]
    },
    {
     "name": "stderr",
     "output_type": "stream",
     "text": [
      "Warning message in mutate_impl(.data, dots):\n",
      "“binding character and factor vector, coercing into character vector”"
     ]
    },
    {
     "name": "stdout",
     "output_type": "stream",
     "text": [
      "[1] \"DataCite\"\n",
      "[1] 10.6075/\n",
      "379 Levels: 10.11577/ 10.11586/ 10.11588/ 10.1184/ 10.12682/ ... 10.7945/\n",
      "[1] \"cdl.rcidc\"\n",
      "[1] 10.6075/\n",
      "379 Levels: 10.11577/ 10.11586/ 10.11588/ 10.1184/ 10.12682/ ... 10.7945/\n"
     ]
    },
    {
     "name": "stderr",
     "output_type": "stream",
     "text": [
      "Warning message in mutate_impl(.data, dots):\n",
      "“binding character and factor vector, coercing into character vector”"
     ]
    },
    {
     "name": "stdout",
     "output_type": "stream",
     "text": [
      "[1] \"DataCite\"\n",
      "[1] 10.5166/\n",
      "379 Levels: 10.11577/ 10.11586/ 10.11588/ 10.1184/ 10.12682/ ... 10.7945/\n",
      "[1] \"ethz.jroi\"\n",
      "[1] 10.5166/\n",
      "379 Levels: 10.11577/ 10.11586/ 10.11588/ 10.1184/ 10.12682/ ... 10.7945/\n"
     ]
    },
    {
     "name": "stderr",
     "output_type": "stream",
     "text": [
      "Warning message in mutate_impl(.data, dots):\n",
      "“binding character and factor vector, coercing into character vector”"
     ]
    },
    {
     "name": "stdout",
     "output_type": "stream",
     "text": [
      "[1] \"DataCite\"\n",
      "[1] 10.12760/\n",
      "379 Levels: 10.11577/ 10.11586/ 10.11588/ 10.1184/ 10.12682/ ... 10.7945/\n",
      "[1] \"tib.earsel\"\n",
      "[1] 10.12760/\n",
      "379 Levels: 10.11577/ 10.11586/ 10.11588/ 10.1184/ 10.12682/ ... 10.7945/\n"
     ]
    },
    {
     "name": "stderr",
     "output_type": "stream",
     "text": [
      "Warning message in mutate_impl(.data, dots):\n",
      "“binding character and factor vector, coercing into character vector”"
     ]
    },
    {
     "name": "stdout",
     "output_type": "stream",
     "text": [
      "[1] \"DataCite\"\n",
      "[1] 10.18154/\n",
      "379 Levels: 10.11577/ 10.11586/ 10.11588/ 10.1184/ 10.12682/ ... 10.7945/\n",
      "[1] \"tib.rwth\"\n",
      "[1] 10.18154/\n",
      "379 Levels: 10.11577/ 10.11586/ 10.11588/ 10.1184/ 10.12682/ ... 10.7945/\n"
     ]
    },
    {
     "name": "stderr",
     "output_type": "stream",
     "text": [
      "Warning message in mutate_impl(.data, dots):\n",
      "“binding character and factor vector, coercing into character vector”"
     ]
    },
    {
     "name": "stdout",
     "output_type": "stream",
     "text": [
      "[1] \"DataCite\"\n",
      "[1] 10.18138/\n",
      "379 Levels: 10.11577/ 10.11586/ 10.11588/ 10.1184/ 10.12682/ ... 10.7945/\n",
      "[1] \"osti.pegasus\"\n",
      "[1] 10.18138/\n",
      "379 Levels: 10.11577/ 10.11586/ 10.11588/ 10.1184/ 10.12682/ ... 10.7945/\n"
     ]
    },
    {
     "name": "stderr",
     "output_type": "stream",
     "text": [
      "Warning message in mutate_impl(.data, dots):\n",
      "“binding character and factor vector, coercing into character vector”"
     ]
    },
    {
     "name": "stdout",
     "output_type": "stream",
     "text": [
      "[1] \"DataCite\"\n",
      "[1] 10.12759/\n",
      "379 Levels: 10.11577/ 10.11586/ 10.11588/ 10.1184/ 10.12682/ ... 10.7945/\n",
      "[1] \"gesis.gesis\"\n",
      "[1] 10.12759/\n",
      "379 Levels: 10.11577/ 10.11586/ 10.11588/ 10.1184/ 10.12682/ ... 10.7945/\n"
     ]
    },
    {
     "name": "stderr",
     "output_type": "stream",
     "text": [
      "Warning message in mutate_impl(.data, dots):\n",
      "“binding character and factor vector, coercing into character vector”"
     ]
    },
    {
     "name": "stdout",
     "output_type": "stream",
     "text": [
      "[1] \"DataCite\"\n",
      "[1] 10.18454/\n",
      "379 Levels: 10.11577/ 10.11586/ 10.11588/ 10.1184/ 10.12682/ ... 10.7945/\n",
      "[1] \"rads.main\"\n",
      "[1] 10.18454/\n",
      "379 Levels: 10.11577/ 10.11586/ 10.11588/ 10.1184/ 10.12682/ ... 10.7945/\n"
     ]
    },
    {
     "name": "stderr",
     "output_type": "stream",
     "text": [
      "Warning message in mutate_impl(.data, dots):\n",
      "“binding character and factor vector, coercing into character vector”"
     ]
    },
    {
     "name": "stdout",
     "output_type": "stream",
     "text": [
      "[1] \"DataCite\"\n",
      "[1] 10.15133/\n",
      "379 Levels: 10.11577/ 10.11586/ 10.11588/ 10.1184/ 10.12682/ ... 10.7945/\n",
      "[1] \"delft.eur\"\n",
      "[1] 10.15133/\n",
      "379 Levels: 10.11577/ 10.11586/ 10.11588/ 10.1184/ 10.12682/ ... 10.7945/\n"
     ]
    },
    {
     "name": "stderr",
     "output_type": "stream",
     "text": [
      "Warning message in mutate_impl(.data, dots):\n",
      "“binding character and factor vector, coercing into character vector”"
     ]
    },
    {
     "name": "stdout",
     "output_type": "stream",
     "text": [
      "[1] \"DataCite\"\n",
      "[1] 10.21415/\n",
      "379 Levels: 10.11577/ 10.11586/ 10.11588/ 10.1184/ 10.12682/ ... 10.7945/\n",
      "[1] \"cdl.talkbank\"\n",
      "[1] 10.21415/\n",
      "379 Levels: 10.11577/ 10.11586/ 10.11588/ 10.1184/ 10.12682/ ... 10.7945/\n"
     ]
    },
    {
     "name": "stderr",
     "output_type": "stream",
     "text": [
      "Warning message in mutate_impl(.data, dots):\n",
      "“binding character and factor vector, coercing into character vector”"
     ]
    },
    {
     "name": "stdout",
     "output_type": "stream",
     "text": [
      "[1] \"DataCite\"\n",
      "[1] 10.13021/\n",
      "379 Levels: 10.11577/ 10.11586/ 10.11588/ 10.1184/ 10.12682/ ... 10.7945/\n",
      "[1] \"cdl.gmu\"\n",
      "[1] 10.13021/\n",
      "379 Levels: 10.11577/ 10.11586/ 10.11588/ 10.1184/ 10.12682/ ... 10.7945/\n"
     ]
    },
    {
     "name": "stderr",
     "output_type": "stream",
     "text": [
      "Warning message in mutate_impl(.data, dots):\n",
      "“binding character and factor vector, coercing into character vector”"
     ]
    },
    {
     "name": "stdout",
     "output_type": "stream",
     "text": [
      "[1] \"DataCite\"\n",
      "[1] 10.14288/\n",
      "379 Levels: 10.11577/ 10.11586/ 10.11588/ 10.1184/ 10.12682/ ... 10.7945/\n",
      "[1] \"cisti.ubc\"\n",
      "[1] 10.14288/\n",
      "379 Levels: 10.11577/ 10.11586/ 10.11588/ 10.1184/ 10.12682/ ... 10.7945/\n"
     ]
    },
    {
     "name": "stderr",
     "output_type": "stream",
     "text": [
      "Warning message in mutate_impl(.data, dots):\n",
      "“binding character and factor vector, coercing into character vector”"
     ]
    },
    {
     "name": "stdout",
     "output_type": "stream",
     "text": [
      "[1] \"Crossref\"\n",
      "[1] 10.21225/\n",
      "379 Levels: 10.11577/ 10.11586/ 10.11588/ 10.1184/ 10.12682/ ... 10.7945/\n"
     ]
    },
    {
     "name": "stderr",
     "output_type": "stream",
     "text": [
      "Warning message in mutate_impl(.data, dots):\n",
      "“binding character and factor vector, coercing into character vector”"
     ]
    },
    {
     "name": "stdout",
     "output_type": "stream",
     "text": [
      "[1] \"DataCite\"\n",
      "[1] 10.7485/\n",
      "379 Levels: 10.11577/ 10.11586/ 10.11588/ 10.1184/ 10.12682/ ... 10.7945/\n",
      "[1] \"tib.hog\"\n",
      "[1] 10.7485/\n",
      "379 Levels: 10.11577/ 10.11586/ 10.11588/ 10.1184/ 10.12682/ ... 10.7945/\n"
     ]
    },
    {
     "name": "stderr",
     "output_type": "stream",
     "text": [
      "Warning message in mutate_impl(.data, dots):\n",
      "“binding character and factor vector, coercing into character vector”"
     ]
    },
    {
     "name": "stdout",
     "output_type": "stream",
     "text": [
      "[1] \"DataCite\"\n",
      "[1] 10.13023/\n",
      "379 Levels: 10.11577/ 10.11586/ 10.11588/ 10.1184/ 10.12682/ ... 10.7945/\n",
      "[1] \"cdl.uky\"\n",
      "[1] 10.13023/\n",
      "379 Levels: 10.11577/ 10.11586/ 10.11588/ 10.1184/ 10.12682/ ... 10.7945/\n"
     ]
    },
    {
     "name": "stderr",
     "output_type": "stream",
     "text": [
      "Warning message in mutate_impl(.data, dots):\n",
      "“binding character and factor vector, coercing into character vector”"
     ]
    },
    {
     "name": "stdout",
     "output_type": "stream",
     "text": [
      "[1] \"DataCite\"\n",
      "[1] 10.22021/\n",
      "379 Levels: 10.11577/ 10.11586/ 10.11588/ 10.1184/ 10.12682/ ... 10.7945/\n",
      "[1] \"bl.metadata\"\n",
      "[1] 10.22021/\n",
      "379 Levels: 10.11577/ 10.11586/ 10.11588/ 10.1184/ 10.12682/ ... 10.7945/\n"
     ]
    },
    {
     "name": "stderr",
     "output_type": "stream",
     "text": [
      "Warning message in mutate_impl(.data, dots):\n",
      "“binding character and factor vector, coercing into character vector”"
     ]
    },
    {
     "name": "stdout",
     "output_type": "stream",
     "text": [
      "[1] \"DataCite\"\n",
      "[1] 10.15141/\n",
      "379 Levels: 10.11577/ 10.11586/ 10.11588/ 10.1184/ 10.12682/ ... 10.7945/\n",
      "[1] \"cdl.ucd-ssds\"\n",
      "[1] 10.15141/\n",
      "379 Levels: 10.11577/ 10.11586/ 10.11588/ 10.1184/ 10.12682/ ... 10.7945/\n"
     ]
    },
    {
     "name": "stderr",
     "output_type": "stream",
     "text": [
      "Warning message in mutate_impl(.data, dots):\n",
      "“binding character and factor vector, coercing into character vector”"
     ]
    },
    {
     "name": "stdout",
     "output_type": "stream",
     "text": [
      "[1] \"DataCite\"\n",
      "[1] 10.18416/\n",
      "379 Levels: 10.11577/ 10.11586/ 10.11588/ 10.1184/ 10.12682/ ... 10.7945/\n",
      "[1] \"tib.insci\"\n",
      "[1] 10.18416/\n",
      "379 Levels: 10.11577/ 10.11586/ 10.11588/ 10.1184/ 10.12682/ ... 10.7945/\n"
     ]
    },
    {
     "name": "stderr",
     "output_type": "stream",
     "text": [
      "Warning message in mutate_impl(.data, dots):\n",
      "“binding character and factor vector, coercing into character vector”"
     ]
    },
    {
     "name": "stdout",
     "output_type": "stream",
     "text": [
      "[1] \"DataCite\"\n",
      "[1] 10.7795/\n",
      "379 Levels: 10.11577/ 10.11586/ 10.11588/ 10.1184/ 10.12682/ ... 10.7945/\n",
      "[1] \"tib.ptb\"\n",
      "[1] 10.7795/\n",
      "379 Levels: 10.11577/ 10.11586/ 10.11588/ 10.1184/ 10.12682/ ... 10.7945/\n"
     ]
    },
    {
     "name": "stderr",
     "output_type": "stream",
     "text": [
      "Warning message in mutate_impl(.data, dots):\n",
      "“binding character and factor vector, coercing into character vector”"
     ]
    },
    {
     "name": "stdout",
     "output_type": "stream",
     "text": [
      "[1] \"DataCite\"\n",
      "[1] 10.17634/\n",
      "379 Levels: 10.11577/ 10.11586/ 10.11588/ 10.1184/ 10.12682/ ... 10.7945/\n",
      "[1] \"bl.ncl\"\n",
      "[1] 10.17634/\n",
      "379 Levels: 10.11577/ 10.11586/ 10.11588/ 10.1184/ 10.12682/ ... 10.7945/\n"
     ]
    },
    {
     "name": "stderr",
     "output_type": "stream",
     "text": [
      "Warning message in mutate_impl(.data, dots):\n",
      "“binding character and factor vector, coercing into character vector”"
     ]
    },
    {
     "name": "stdout",
     "output_type": "stream",
     "text": [
      "[1] \"DataCite\"\n",
      "[1] 10.12762/\n",
      "379 Levels: 10.11577/ 10.11586/ 10.11588/ 10.1184/ 10.12682/ ... 10.7945/\n",
      "[1] \"inist.onera\"\n",
      "[1] 10.12762/\n",
      "379 Levels: 10.11577/ 10.11586/ 10.11588/ 10.1184/ 10.12682/ ... 10.7945/\n"
     ]
    },
    {
     "name": "stderr",
     "output_type": "stream",
     "text": [
      "Warning message in mutate_impl(.data, dots):\n",
      "“binding character and factor vector, coercing into character vector”"
     ]
    },
    {
     "name": "stdout",
     "output_type": "stream",
     "text": [
      "[1] \"DataCite\"\n",
      "[1] 10.17188/\n",
      "379 Levels: 10.11577/ 10.11586/ 10.11588/ 10.1184/ 10.12682/ ... 10.7945/\n",
      "[1] \"osti.lbnlmp\"\n",
      "[1] 10.17188/\n",
      "379 Levels: 10.11577/ 10.11586/ 10.11588/ 10.1184/ 10.12682/ ... 10.7945/\n"
     ]
    },
    {
     "name": "stderr",
     "output_type": "stream",
     "text": [
      "Warning message in mutate_impl(.data, dots):\n",
      "“binding character and factor vector, coercing into character vector”"
     ]
    },
    {
     "name": "stdout",
     "output_type": "stream",
     "text": [
      "[1] \"DataCite\"\n",
      "[1] 10.17630/\n",
      "379 Levels: 10.11577/ 10.11586/ 10.11588/ 10.1184/ 10.12682/ ... 10.7945/\n",
      "[1] \"bl.standrew\"\n",
      "[1] 10.17630/\n",
      "379 Levels: 10.11577/ 10.11586/ 10.11588/ 10.1184/ 10.12682/ ... 10.7945/\n"
     ]
    },
    {
     "name": "stderr",
     "output_type": "stream",
     "text": [
      "Warning message in mutate_impl(.data, dots):\n",
      "“binding character and factor vector, coercing into character vector”"
     ]
    },
    {
     "name": "stdout",
     "output_type": "stream",
     "text": [
      "[1] \"DataCite\"\n",
      "[1] 10.17861/\n",
      "379 Levels: 10.11577/ 10.11586/ 10.11588/ 10.1184/ 10.12682/ ... 10.7945/\n",
      "[1] \"bl.hwu\"\n",
      "[1] 10.17861/\n",
      "379 Levels: 10.11577/ 10.11586/ 10.11588/ 10.1184/ 10.12682/ ... 10.7945/\n"
     ]
    },
    {
     "name": "stderr",
     "output_type": "stream",
     "text": [
      "Warning message in mutate_impl(.data, dots):\n",
      "“binding character and factor vector, coercing into character vector”"
     ]
    },
    {
     "name": "stdout",
     "output_type": "stream",
     "text": [
      "[1] \"DataCite\"\n",
      "[1] 10.15128/\n",
      "379 Levels: 10.11577/ 10.11586/ 10.11588/ 10.1184/ 10.12682/ ... 10.7945/\n",
      "[1] \"bl.durham\"\n",
      "[1] 10.15128/\n",
      "379 Levels: 10.11577/ 10.11586/ 10.11588/ 10.1184/ 10.12682/ ... 10.7945/\n"
     ]
    },
    {
     "name": "stderr",
     "output_type": "stream",
     "text": [
      "Warning message in mutate_impl(.data, dots):\n",
      "“binding character and factor vector, coercing into character vector”"
     ]
    },
    {
     "name": "stdout",
     "output_type": "stream",
     "text": [
      "[1] \"DataCite\"\n",
      "[1] 10.17638/\n",
      "379 Levels: 10.11577/ 10.11586/ 10.11588/ 10.1184/ 10.12682/ ... 10.7945/\n",
      "[1] \"bl.lpool\"\n",
      "[1] 10.17638/\n",
      "379 Levels: 10.11577/ 10.11586/ 10.11588/ 10.1184/ 10.12682/ ... 10.7945/\n"
     ]
    },
    {
     "name": "stderr",
     "output_type": "stream",
     "text": [
      "Warning message in mutate_impl(.data, dots):\n",
      "“binding character and factor vector, coercing into character vector”"
     ]
    },
    {
     "name": "stdout",
     "output_type": "stream",
     "text": [
      "[1] \"DataCite\"\n",
      "[1] 10.2313/\n",
      "379 Levels: 10.11577/ 10.11586/ 10.11588/ 10.1184/ 10.12682/ ... 10.7945/\n",
      "[1] \"tib.tum\"\n",
      "[1] 10.2313/\n",
      "379 Levels: 10.11577/ 10.11586/ 10.11588/ 10.1184/ 10.12682/ ... 10.7945/\n"
     ]
    },
    {
     "name": "stderr",
     "output_type": "stream",
     "text": [
      "Warning message in mutate_impl(.data, dots):\n",
      "“binding character and factor vector, coercing into character vector”"
     ]
    },
    {
     "name": "stdout",
     "output_type": "stream",
     "text": [
      "[1] \"DataCite\"\n",
      "[1] 10.15161/\n",
      "379 Levels: 10.11577/ 10.11586/ 10.11588/ 10.1184/ 10.12682/ ... 10.7945/\n",
      "[1] \"crui.infncnaf\"\n",
      "[1] 10.15161/\n",
      "379 Levels: 10.11577/ 10.11586/ 10.11588/ 10.1184/ 10.12682/ ... 10.7945/\n"
     ]
    },
    {
     "name": "stderr",
     "output_type": "stream",
     "text": [
      "Warning message in mutate_impl(.data, dots):\n",
      "“binding character and factor vector, coercing into character vector”"
     ]
    },
    {
     "name": "stdout",
     "output_type": "stream",
     "text": [
      "[1] \"DataCite\"\n",
      "[1] 10.4224/\n",
      "379 Levels: 10.11577/ 10.11586/ 10.11588/ 10.1184/ 10.12682/ ... 10.7945/\n",
      "[1] \"cisti.nrc\"\n",
      "[1] 10.4224/\n",
      "379 Levels: 10.11577/ 10.11586/ 10.11588/ 10.1184/ 10.12682/ ... 10.7945/\n"
     ]
    },
    {
     "name": "stderr",
     "output_type": "stream",
     "text": [
      "Warning message in mutate_impl(.data, dots):\n",
      "“binding character and factor vector, coercing into character vector”"
     ]
    },
    {
     "name": "stdout",
     "output_type": "stream",
     "text": [
      "[1] \"DataCite\"\n",
      "[1] 10.7908/\n",
      "379 Levels: 10.11577/ 10.11586/ 10.11588/ 10.1184/ 10.12682/ ... 10.7945/\n",
      "[1] \"cdl.broad\"\n",
      "[1] 10.7908/\n",
      "379 Levels: 10.11577/ 10.11586/ 10.11588/ 10.1184/ 10.12682/ ... 10.7945/\n"
     ]
    },
    {
     "name": "stderr",
     "output_type": "stream",
     "text": [
      "Warning message in mutate_impl(.data, dots):\n",
      "“binding character and factor vector, coercing into character vector”"
     ]
    },
    {
     "name": "stdout",
     "output_type": "stream",
     "text": [
      "[1] \"DataCite\"\n",
      "[1] 10.5287/\n",
      "379 Levels: 10.11577/ 10.11586/ 10.11588/ 10.1184/ 10.12682/ ... 10.7945/\n",
      "[1] \"bl.oxdb\"\n",
      "[1] 10.5287/\n",
      "379 Levels: 10.11577/ 10.11586/ 10.11588/ 10.1184/ 10.12682/ ... 10.7945/\n"
     ]
    },
    {
     "name": "stderr",
     "output_type": "stream",
     "text": [
      "Warning message in mutate_impl(.data, dots):\n",
      "“binding character and factor vector, coercing into character vector”"
     ]
    },
    {
     "name": "stdout",
     "output_type": "stream",
     "text": [
      "[1] \"DataCite\"\n",
      "[1] 10.7797/\n",
      "379 Levels: 10.11577/ 10.11586/ 10.11588/ 10.1184/ 10.12682/ ... 10.7945/\n",
      "[1] \"gesis.rki\"\n",
      "[1] 10.7797/\n",
      "379 Levels: 10.11577/ 10.11586/ 10.11588/ 10.1184/ 10.12682/ ... 10.7945/\n"
     ]
    },
    {
     "name": "stderr",
     "output_type": "stream",
     "text": [
      "Warning message in mutate_impl(.data, dots):\n",
      "“binding character and factor vector, coercing into character vector”"
     ]
    },
    {
     "name": "stdout",
     "output_type": "stream",
     "text": [
      "[1] \"DataCite\"\n",
      "[1] 10.17037/\n",
      "379 Levels: 10.11577/ 10.11586/ 10.11588/ 10.1184/ 10.12682/ ... 10.7945/\n",
      "[1] \"bl.lshtm\"\n",
      "[1] 10.17037/\n",
      "379 Levels: 10.11577/ 10.11586/ 10.11588/ 10.1184/ 10.12682/ ... 10.7945/\n"
     ]
    },
    {
     "name": "stderr",
     "output_type": "stream",
     "text": [
      "Warning message in mutate_impl(.data, dots):\n",
      "“binding character and factor vector, coercing into character vector”"
     ]
    },
    {
     "name": "stdout",
     "output_type": "stream",
     "text": [
      "[1] \"DataCite\"\n",
      "[1] 10.15156/\n",
      "379 Levels: 10.11577/ 10.11586/ 10.11588/ 10.1184/ 10.12682/ ... 10.7945/\n",
      "[1] \"estdoi.bio\"\n",
      "[1] 10.15156/\n",
      "379 Levels: 10.11577/ 10.11586/ 10.11588/ 10.1184/ 10.12682/ ... 10.7945/\n"
     ]
    },
    {
     "name": "stderr",
     "output_type": "stream",
     "text": [
      "Warning message in mutate_impl(.data, dots):\n",
      "“binding character and factor vector, coercing into character vector”"
     ]
    },
    {
     "name": "stdout",
     "output_type": "stream",
     "text": [
      "[1] \"DataCite\"\n",
      "[1] 10.12751/\n",
      "379 Levels: 10.11577/ 10.11586/ 10.11588/ 10.1184/ 10.12682/ ... 10.7945/\n",
      "[1] \"tib.g-node\"\n",
      "[1] 10.12751/\n",
      "379 Levels: 10.11577/ 10.11586/ 10.11588/ 10.1184/ 10.12682/ ... 10.7945/\n"
     ]
    },
    {
     "name": "stderr",
     "output_type": "stream",
     "text": [
      "Warning message in mutate_impl(.data, dots):\n",
      "“binding character and factor vector, coercing into character vector”"
     ]
    },
    {
     "name": "stdout",
     "output_type": "stream",
     "text": [
      "[1] \"DataCite\"\n",
      "[1] 10.6083/\n",
      "379 Levels: 10.11577/ 10.11586/ 10.11588/ 10.1184/ 10.12682/ ... 10.7945/\n",
      "[1] \"cdl.ohsu\"\n",
      "[1] 10.6083/\n",
      "379 Levels: 10.11577/ 10.11586/ 10.11588/ 10.1184/ 10.12682/ ... 10.7945/\n"
     ]
    },
    {
     "name": "stderr",
     "output_type": "stream",
     "text": [
      "Warning message in mutate_impl(.data, dots):\n",
      "“binding character and factor vector, coercing into character vector”"
     ]
    },
    {
     "name": "stdout",
     "output_type": "stream",
     "text": [
      "[1] \"DataCite\"\n",
      "[1] 10.17626/\n",
      "379 Levels: 10.11577/ 10.11586/ 10.11588/ 10.1184/ 10.12682/ ... 10.7945/\n",
      "[1] \"mtakik.szie-uti\"\n",
      "[1] 10.17626/\n",
      "379 Levels: 10.11577/ 10.11586/ 10.11588/ 10.1184/ 10.12682/ ... 10.7945/\n"
     ]
    },
    {
     "name": "stderr",
     "output_type": "stream",
     "text": [
      "Warning message in mutate_impl(.data, dots):\n",
      "“binding character and factor vector, coercing into character vector”"
     ]
    },
    {
     "name": "stdout",
     "output_type": "stream",
     "text": [
      "[1] \"DataCite\"\n",
      "[1] 10.5258/\n",
      "379 Levels: 10.11577/ 10.11586/ 10.11588/ 10.1184/ 10.12682/ ... 10.7945/\n",
      "[1] \"bl.soton\"\n",
      "[1] 10.5258/\n",
      "379 Levels: 10.11577/ 10.11586/ 10.11588/ 10.1184/ 10.12682/ ... 10.7945/\n"
     ]
    },
    {
     "name": "stderr",
     "output_type": "stream",
     "text": [
      "Warning message in mutate_impl(.data, dots):\n",
      "“binding character and factor vector, coercing into character vector”"
     ]
    },
    {
     "name": "stdout",
     "output_type": "stream",
     "text": [
      "[1] \"DataCite\"\n",
      "[1] 10.6091/\n",
      "379 Levels: 10.11577/ 10.11586/ 10.11588/ 10.1184/ 10.12682/ ... 10.7945/\n",
      "[1] \"zbmed.ibj\"\n",
      "[1] 10.6091/\n",
      "379 Levels: 10.11577/ 10.11586/ 10.11588/ 10.1184/ 10.12682/ ... 10.7945/\n"
     ]
    },
    {
     "name": "stderr",
     "output_type": "stream",
     "text": [
      "Warning message in mutate_impl(.data, dots):\n",
      "“binding character and factor vector, coercing into character vector”"
     ]
    },
    {
     "name": "stdout",
     "output_type": "stream",
     "text": [
      "[1] \"DataCite\"\n",
      "[1] 10.5156/\n",
      "379 Levels: 10.11577/ 10.11586/ 10.11588/ 10.1184/ 10.12682/ ... 10.7945/\n",
      "[1] \"gesis.deas\"\n",
      "[1] 10.5156/\n",
      "379 Levels: 10.11577/ 10.11586/ 10.11588/ 10.1184/ 10.12682/ ... 10.7945/\n"
     ]
    },
    {
     "name": "stderr",
     "output_type": "stream",
     "text": [
      "Warning message in mutate_impl(.data, dots):\n",
      "“binding character and factor vector, coercing into character vector”"
     ]
    },
    {
     "name": "stdout",
     "output_type": "stream",
     "text": [
      "[1] \"DataCite\"\n",
      "[1] 10.7935/\n",
      "379 Levels: 10.11577/ 10.11586/ 10.11588/ 10.1184/ 10.12682/ ... 10.7945/\n",
      "[1] \"cdl.ligo\"\n",
      "[1] 10.7935/\n",
      "379 Levels: 10.11577/ 10.11586/ 10.11588/ 10.1184/ 10.12682/ ... 10.7945/\n"
     ]
    },
    {
     "name": "stderr",
     "output_type": "stream",
     "text": [
      "Warning message in mutate_impl(.data, dots):\n",
      "“binding character and factor vector, coercing into character vector”"
     ]
    },
    {
     "name": "stdout",
     "output_type": "stream",
     "text": [
      "[1] \"DataCite\"\n",
      "[1] 10.6102/\n",
      "379 Levels: 10.11577/ 10.11586/ 10.11588/ 10.1184/ 10.12682/ ... 10.7945/\n",
      "[1] \"gesis.gesis\"\n",
      "[1] 10.6102/\n",
      "379 Levels: 10.11577/ 10.11586/ 10.11588/ 10.1184/ 10.12682/ ... 10.7945/\n"
     ]
    },
    {
     "name": "stderr",
     "output_type": "stream",
     "text": [
      "Warning message in mutate_impl(.data, dots):\n",
      "“binding character and factor vector, coercing into character vector”"
     ]
    },
    {
     "name": "stdout",
     "output_type": "stream",
     "text": [
      "[1] \"DataCite\"\n",
      "[1] 10.3249/\n",
      "379 Levels: 10.11577/ 10.11586/ 10.11588/ 10.1184/ 10.12682/ ... 10.7945/\n",
      "[1] \"subgoe.dariah\"\n",
      "[1] 10.3249/\n",
      "379 Levels: 10.11577/ 10.11586/ 10.11588/ 10.1184/ 10.12682/ ... 10.7945/\n"
     ]
    },
    {
     "name": "stderr",
     "output_type": "stream",
     "text": [
      "Warning message in mutate_impl(.data, dots):\n",
      "“binding character and factor vector, coercing into character vector”"
     ]
    },
    {
     "name": "stdout",
     "output_type": "stream",
     "text": [
      "[1] \"DataCite\"\n",
      "[1] 10.14763/\n",
      "379 Levels: 10.11577/ 10.11586/ 10.11588/ 10.1184/ 10.12682/ ... 10.7945/\n",
      "[1] \"gesis.hiig\"\n",
      "[1] 10.14763/\n",
      "379 Levels: 10.11577/ 10.11586/ 10.11588/ 10.1184/ 10.12682/ ... 10.7945/\n"
     ]
    },
    {
     "name": "stderr",
     "output_type": "stream",
     "text": [
      "Warning message in mutate_impl(.data, dots):\n",
      "“binding character and factor vector, coercing into character vector”"
     ]
    },
    {
     "name": "stdout",
     "output_type": "stream",
     "text": [
      "[1] \"DataCite\"\n",
      "[1] 10.5161/\n",
      "379 Levels: 10.11577/ 10.11586/ 10.11588/ 10.1184/ 10.12682/ ... 10.7945/\n",
      "[1] \"tib.grips\"\n",
      "[1] 10.5161/\n",
      "379 Levels: 10.11577/ 10.11586/ 10.11588/ 10.1184/ 10.12682/ ... 10.7945/\n"
     ]
    },
    {
     "name": "stderr",
     "output_type": "stream",
     "text": [
      "Warning message in mutate_impl(.data, dots):\n",
      "“binding character and factor vector, coercing into character vector”"
     ]
    },
    {
     "name": "stdout",
     "output_type": "stream",
     "text": [
      "[1] \"DataCite\"\n",
      "[1] 10.15503/\n",
      "379 Levels: 10.11577/ 10.11586/ 10.11588/ 10.1184/ 10.12682/ ... 10.7945/\n",
      "[1] \"tib.fpsc\"\n",
      "[1] 10.15503/\n",
      "379 Levels: 10.11577/ 10.11586/ 10.11588/ 10.1184/ 10.12682/ ... 10.7945/\n"
     ]
    },
    {
     "name": "stderr",
     "output_type": "stream",
     "text": [
      "Warning message in mutate_impl(.data, dots):\n",
      "“binding character and factor vector, coercing into character vector”"
     ]
    },
    {
     "name": "stdout",
     "output_type": "stream",
     "text": [
      "[1] \"DataCite\"\n",
      "[1] 10.18128/\n",
      "379 Levels: 10.11577/ 10.11586/ 10.11588/ 10.1184/ 10.12682/ ... 10.7945/\n",
      "[1] \"purdue.ipums\"\n",
      "[1] 10.18128/\n",
      "379 Levels: 10.11577/ 10.11586/ 10.11588/ 10.1184/ 10.12682/ ... 10.7945/\n"
     ]
    },
    {
     "name": "stderr",
     "output_type": "stream",
     "text": [
      "Warning message in mutate_impl(.data, dots):\n",
      "“binding character and factor vector, coercing into character vector”"
     ]
    },
    {
     "name": "stdout",
     "output_type": "stream",
     "text": [
      "[1] \"DataCite\"\n",
      "[1] 10.15788/\n",
      "379 Levels: 10.11577/ 10.11586/ 10.11588/ 10.1184/ 10.12682/ ... 10.7945/\n",
      "[1] \"cdl.msu\"\n",
      "[1] 10.15788/\n",
      "379 Levels: 10.11577/ 10.11586/ 10.11588/ 10.1184/ 10.12682/ ... 10.7945/\n"
     ]
    },
    {
     "name": "stderr",
     "output_type": "stream",
     "text": [
      "Warning message in mutate_impl(.data, dots):\n",
      "“binding character and factor vector, coercing into character vector”"
     ]
    },
    {
     "name": "stdout",
     "output_type": "stream",
     "text": [
      "[1] \"DataCite\"\n",
      "[1] 10.5682/\n",
      "379 Levels: 10.11577/ 10.11586/ 10.11588/ 10.1184/ 10.12682/ ... 10.7945/\n",
      "[1] \"tib.editura\"\n",
      "[1] 10.5682/\n",
      "379 Levels: 10.11577/ 10.11586/ 10.11588/ 10.1184/ 10.12682/ ... 10.7945/\n"
     ]
    },
    {
     "name": "stderr",
     "output_type": "stream",
     "text": [
      "Warning message in mutate_impl(.data, dots):\n",
      "“binding character and factor vector, coercing into character vector”"
     ]
    },
    {
     "name": "stdout",
     "output_type": "stream",
     "text": [
      "[1] \"DataCite\"\n",
      "[1] 10.15778/\n",
      "379 Levels: 10.11577/ 10.11586/ 10.11588/ 10.1184/ 10.12682/ ... 10.7945/\n",
      "[1] \"inist.resif\"\n",
      "[1] 10.15778/\n",
      "379 Levels: 10.11577/ 10.11586/ 10.11588/ 10.1184/ 10.12682/ ... 10.7945/\n"
     ]
    },
    {
     "name": "stderr",
     "output_type": "stream",
     "text": [
      "Warning message in mutate_impl(.data, dots):\n",
      "“binding character and factor vector, coercing into character vector”"
     ]
    },
    {
     "name": "stdout",
     "output_type": "stream",
     "text": [
      "[1] \"DataCite\"\n",
      "[1] 10.18421/\n",
      "379 Levels: 10.11577/ 10.11586/ 10.11588/ 10.1184/ 10.12682/ ... 10.7945/\n",
      "[1] \"tib.tem\"\n",
      "[1] 10.18421/\n",
      "379 Levels: 10.11577/ 10.11586/ 10.11588/ 10.1184/ 10.12682/ ... 10.7945/\n"
     ]
    },
    {
     "name": "stderr",
     "output_type": "stream",
     "text": [
      "Warning message in mutate_impl(.data, dots):\n",
      "“binding character and factor vector, coercing into character vector”"
     ]
    },
    {
     "name": "stdout",
     "output_type": "stream",
     "text": [
      "[1] \"DataCite\"\n",
      "[1] 10.17877/\n",
      "379 Levels: 10.11577/ 10.11586/ 10.11588/ 10.1184/ 10.12682/ ... 10.7945/\n",
      "[1] \"tib.tudo\"\n",
      "[1] 10.17877/\n",
      "379 Levels: 10.11577/ 10.11586/ 10.11588/ 10.1184/ 10.12682/ ... 10.7945/\n"
     ]
    },
    {
     "name": "stderr",
     "output_type": "stream",
     "text": [
      "Warning message in mutate_impl(.data, dots):\n",
      "“binding character and factor vector, coercing into character vector”"
     ]
    },
    {
     "name": "stdout",
     "output_type": "stream",
     "text": [
      "[1] \"DataCite\"\n",
      "[1] 10.6079/\n",
      "379 Levels: 10.11577/ 10.11586/ 10.11588/ 10.1184/ 10.12682/ ... 10.7945/\n",
      "[1] \"cdl.uclaeeb\"\n",
      "[1] 10.6079/\n",
      "379 Levels: 10.11577/ 10.11586/ 10.11588/ 10.1184/ 10.12682/ ... 10.7945/\n"
     ]
    },
    {
     "name": "stderr",
     "output_type": "stream",
     "text": [
      "Warning message in mutate_impl(.data, dots):\n",
      "“binding character and factor vector, coercing into character vector”"
     ]
    },
    {
     "name": "stdout",
     "output_type": "stream",
     "text": [
      "[1] \"DataCite\"\n",
      "[1] 10.7934/\n",
      "379 Levels: 10.11577/ 10.11586/ 10.11588/ 10.1184/ 10.12682/ ... 10.7945/\n",
      "[1] \"cdl.morphoba\"\n",
      "[1] 10.7934/\n",
      "379 Levels: 10.11577/ 10.11586/ 10.11588/ 10.1184/ 10.12682/ ... 10.7945/\n"
     ]
    },
    {
     "name": "stderr",
     "output_type": "stream",
     "text": [
      "Warning message in mutate_impl(.data, dots):\n",
      "“binding character and factor vector, coercing into character vector”"
     ]
    },
    {
     "name": "stdout",
     "output_type": "stream",
     "text": [
      "[1] \"DataCite\"\n",
      "[1] 10.7303/\n",
      "379 Levels: 10.11577/ 10.11586/ 10.11588/ 10.1184/ 10.12682/ ... 10.7945/\n",
      "[1] \"cdl.sagebio\"\n",
      "[1] 10.7303/\n",
      "379 Levels: 10.11577/ 10.11586/ 10.11588/ 10.1184/ 10.12682/ ... 10.7945/\n"
     ]
    },
    {
     "name": "stderr",
     "output_type": "stream",
     "text": [
      "Warning message in mutate_impl(.data, dots):\n",
      "“binding character and factor vector, coercing into character vector”"
     ]
    },
    {
     "name": "stdout",
     "output_type": "stream",
     "text": [
      "[1] \"DataCite\"\n",
      "[1] 10.2195/\n",
      "379 Levels: 10.11577/ 10.11586/ 10.11588/ 10.1184/ 10.12682/ ... 10.7945/\n",
      "[1] \"tib.lj-red\"\n",
      "[1] 10.2195/\n",
      "379 Levels: 10.11577/ 10.11586/ 10.11588/ 10.1184/ 10.12682/ ... 10.7945/\n"
     ]
    },
    {
     "name": "stderr",
     "output_type": "stream",
     "text": [
      "Warning message in mutate_impl(.data, dots):\n",
      "“binding character and factor vector, coercing into character vector”"
     ]
    },
    {
     "name": "stdout",
     "output_type": "stream",
     "text": [
      "[1] \"DataCite\"\n",
      "[1] 10.13141/\n",
      "379 Levels: 10.11577/ 10.11586/ 10.11588/ 10.1184/ 10.12682/ ... 10.7945/\n",
      "[1] \"tib.slubdd\"\n",
      "[1] 10.13141/\n",
      "379 Levels: 10.11577/ 10.11586/ 10.11588/ 10.1184/ 10.12682/ ... 10.7945/\n"
     ]
    },
    {
     "name": "stderr",
     "output_type": "stream",
     "text": [
      "Warning message in mutate_impl(.data, dots):\n",
      "“binding character and factor vector, coercing into character vector”"
     ]
    },
    {
     "name": "stdout",
     "output_type": "stream",
     "text": [
      "[1] \"DataCite\"\n",
      "[1] 10.14750/\n",
      "379 Levels: 10.11577/ 10.11586/ 10.11588/ 10.1184/ 10.12682/ ... 10.7945/\n",
      "[1] \"mtakik.me\"\n",
      "[1] 10.14750/\n",
      "379 Levels: 10.11577/ 10.11586/ 10.11588/ 10.1184/ 10.12682/ ... 10.7945/\n"
     ]
    },
    {
     "name": "stderr",
     "output_type": "stream",
     "text": [
      "Warning message in mutate_impl(.data, dots):\n",
      "“binding character and factor vector, coercing into character vector”"
     ]
    },
    {
     "name": "stdout",
     "output_type": "stream",
     "text": [
      "[1] \"DataCite\"\n",
      "[1] 10.12682/\n",
      "379 Levels: 10.11577/ 10.11586/ 10.11588/ 10.1184/ 10.12682/ ... 10.7945/\n",
      "[1] \"ethz.lives\"\n",
      "[1] 10.12682/\n",
      "379 Levels: 10.11577/ 10.11586/ 10.11588/ 10.1184/ 10.12682/ ... 10.7945/\n"
     ]
    },
    {
     "name": "stderr",
     "output_type": "stream",
     "text": [
      "Warning message in mutate_impl(.data, dots):\n",
      "“binding character and factor vector, coercing into character vector”"
     ]
    },
    {
     "name": "stdout",
     "output_type": "stream",
     "text": [
      "[1] \"DataCite\"\n",
      "[1] 10.13012/\n",
      "379 Levels: 10.11577/ 10.11586/ 10.11588/ 10.1184/ 10.12682/ ... 10.7945/\n",
      "[1] \"purdue.uiuclib\"\n",
      "[1] 10.13012/\n",
      "379 Levels: 10.11577/ 10.11586/ 10.11588/ 10.1184/ 10.12682/ ... 10.7945/\n"
     ]
    },
    {
     "name": "stderr",
     "output_type": "stream",
     "text": [
      "Warning message in mutate_impl(.data, dots):\n",
      "“binding character and factor vector, coercing into character vector”"
     ]
    },
    {
     "name": "stdout",
     "output_type": "stream",
     "text": [
      "[1] \"DataCite\"\n",
      "[1] 10.21220/\n",
      "379 Levels: 10.11577/ 10.11586/ 10.11588/ 10.1184/ 10.12682/ ... 10.7945/\n",
      "[1] \"cdl.wmlib\"\n",
      "[1] 10.21220/\n",
      "379 Levels: 10.11577/ 10.11586/ 10.11588/ 10.1184/ 10.12682/ ... 10.7945/\n"
     ]
    },
    {
     "name": "stderr",
     "output_type": "stream",
     "text": [
      "Warning message in mutate_impl(.data, dots):\n",
      "“binding character and factor vector, coercing into character vector”"
     ]
    },
    {
     "name": "stdout",
     "output_type": "stream",
     "text": [
      "[1] \"DataCite\"\n",
      "[1] 10.7483/\n",
      "379 Levels: 10.11577/ 10.11586/ 10.11588/ 10.1184/ 10.12682/ ... 10.7945/\n",
      "[1] \"cern.opendata\"\n",
      "[1] 10.7483/\n",
      "379 Levels: 10.11577/ 10.11586/ 10.11588/ 10.1184/ 10.12682/ ... 10.7945/\n"
     ]
    },
    {
     "name": "stderr",
     "output_type": "stream",
     "text": [
      "Warning message in mutate_impl(.data, dots):\n",
      "“binding character and factor vector, coercing into character vector”"
     ]
    },
    {
     "name": "stdout",
     "output_type": "stream",
     "text": [
      "[1] \"DataCite\"\n",
      "[1] 10.5286/\n",
      "379 Levels: 10.11577/ 10.11586/ 10.11588/ 10.1184/ 10.12682/ ... 10.7945/\n",
      "[1] \"bl.stfc\"\n",
      "[1] 10.5286/\n",
      "379 Levels: 10.11577/ 10.11586/ 10.11588/ 10.1184/ 10.12682/ ... 10.7945/\n"
     ]
    },
    {
     "name": "stderr",
     "output_type": "stream",
     "text": [
      "Warning message in mutate_impl(.data, dots):\n",
      "“binding character and factor vector, coercing into character vector”"
     ]
    },
    {
     "name": "stdout",
     "output_type": "stream",
     "text": [
      "[1] \"DataCite\"\n",
      "[1] 10.17605/\n",
      "379 Levels: 10.11577/ 10.11586/ 10.11588/ 10.1184/ 10.12682/ ... 10.7945/\n",
      "[1] \"cdl.cos\"\n",
      "[1] 10.17605/\n",
      "379 Levels: 10.11577/ 10.11586/ 10.11588/ 10.1184/ 10.12682/ ... 10.7945/\n"
     ]
    },
    {
     "name": "stderr",
     "output_type": "stream",
     "text": [
      "Warning message in mutate_impl(.data, dots):\n",
      "“binding character and factor vector, coercing into character vector”"
     ]
    },
    {
     "name": "stdout",
     "output_type": "stream",
     "text": [
      "[1] \"DataCite\"\n",
      "[1] 10.20364/\n",
      "379 Levels: 10.11577/ 10.11586/ 10.11588/ 10.1184/ 10.12682/ ... 10.7945/\n",
      "[1] \"zbmed.zi\"\n",
      "[1] 10.20364/\n",
      "379 Levels: 10.11577/ 10.11586/ 10.11588/ 10.1184/ 10.12682/ ... 10.7945/\n"
     ]
    },
    {
     "name": "stderr",
     "output_type": "stream",
     "text": [
      "Warning message in mutate_impl(.data, dots):\n",
      "“binding character and factor vector, coercing into character vector”"
     ]
    },
    {
     "name": "stdout",
     "output_type": "stream",
     "text": [
      "[1] \"DataCite\"\n",
      "[1] 10.7280/\n",
      "379 Levels: 10.11577/ 10.11586/ 10.11588/ 10.1184/ 10.12682/ ... 10.7945/\n",
      "[1] \"cdl.uci\"\n",
      "[1] 10.7280/\n",
      "379 Levels: 10.11577/ 10.11586/ 10.11588/ 10.1184/ 10.12682/ ... 10.7945/\n"
     ]
    },
    {
     "name": "stderr",
     "output_type": "stream",
     "text": [
      "Warning message in mutate_impl(.data, dots):\n",
      "“binding character and factor vector, coercing into character vector”"
     ]
    },
    {
     "name": "stdout",
     "output_type": "stream",
     "text": [
      "[1] \"DataCite\"\n",
      "[1] 10.13136/\n",
      "379 Levels: 10.11577/ 10.11586/ 10.11588/ 10.1184/ 10.12682/ ... 10.7945/\n",
      "[1] \"crui.univr\"\n",
      "[1] 10.13136/\n",
      "379 Levels: 10.11577/ 10.11586/ 10.11588/ 10.1184/ 10.12682/ ... 10.7945/\n"
     ]
    },
    {
     "name": "stderr",
     "output_type": "stream",
     "text": [
      "Warning message in mutate_impl(.data, dots):\n",
      "“binding character and factor vector, coercing into character vector”"
     ]
    },
    {
     "name": "stdout",
     "output_type": "stream",
     "text": [
      "[1] \"DataCite\"\n",
      "[1] 10.17632/\n",
      "379 Levels: 10.11577/ 10.11586/ 10.11588/ 10.1184/ 10.12682/ ... 10.7945/\n",
      "[1] \"bl.mendeley\"\n",
      "[1] 10.17632/\n",
      "379 Levels: 10.11577/ 10.11586/ 10.11588/ 10.1184/ 10.12682/ ... 10.7945/\n"
     ]
    },
    {
     "name": "stderr",
     "output_type": "stream",
     "text": [
      "Warning message in mutate_impl(.data, dots):\n",
      "“binding character and factor vector, coercing into character vector”"
     ]
    },
    {
     "name": "stdout",
     "output_type": "stream",
     "text": [
      "[1] \"DataCite\"\n",
      "[1] 10.18131/\n",
      "379 Levels: 10.11577/ 10.11586/ 10.11588/ 10.1184/ 10.12682/ ... 10.7945/\n",
      "[1] \"purdue.ghsl\"\n",
      "[1] 10.18131/\n",
      "379 Levels: 10.11577/ 10.11586/ 10.11588/ 10.1184/ 10.12682/ ... 10.7945/\n"
     ]
    },
    {
     "name": "stderr",
     "output_type": "stream",
     "text": [
      "Warning message in mutate_impl(.data, dots):\n",
      "“binding character and factor vector, coercing into character vector”"
     ]
    },
    {
     "name": "stdout",
     "output_type": "stream",
     "text": [
      "[1] \"DataCite\"\n",
      "[1] 10.15454/\n",
      "379 Levels: 10.11577/ 10.11586/ 10.11588/ 10.1184/ 10.12682/ ... 10.7945/\n",
      "[1] \"inist.inra\"\n",
      "[1] 10.15454/\n",
      "379 Levels: 10.11577/ 10.11586/ 10.11588/ 10.1184/ 10.12682/ ... 10.7945/\n"
     ]
    },
    {
     "name": "stderr",
     "output_type": "stream",
     "text": [
      "Warning message in mutate_impl(.data, dots):\n",
      "“binding character and factor vector, coercing into character vector”"
     ]
    },
    {
     "name": "stdout",
     "output_type": "stream",
     "text": [
      "[1] \"DataCite\"\n",
      "[1] 10.5447/\n",
      "379 Levels: 10.11577/ 10.11586/ 10.11588/ 10.1184/ 10.12682/ ... 10.7945/\n",
      "[1] \"tib.ipk\"\n",
      "[1] 10.5447/\n",
      "379 Levels: 10.11577/ 10.11586/ 10.11588/ 10.1184/ 10.12682/ ... 10.7945/\n"
     ]
    },
    {
     "name": "stderr",
     "output_type": "stream",
     "text": [
      "Warning message in mutate_impl(.data, dots):\n",
      "“binding character and factor vector, coercing into character vector”"
     ]
    },
    {
     "name": "stdout",
     "output_type": "stream",
     "text": [
      "[1] \"DataCite\"\n",
      "[1] 10.12765/\n",
      "379 Levels: 10.11577/ 10.11586/ 10.11588/ 10.1184/ 10.12682/ ... 10.7945/\n",
      "[1] \"gesis.bib\"\n",
      "[1] 10.12765/\n",
      "379 Levels: 10.11577/ 10.11586/ 10.11588/ 10.1184/ 10.12682/ ... 10.7945/\n"
     ]
    },
    {
     "name": "stderr",
     "output_type": "stream",
     "text": [
      "Warning message in mutate_impl(.data, dots):\n",
      "“binding character and factor vector, coercing into character vector”"
     ]
    },
    {
     "name": "stdout",
     "output_type": "stream",
     "text": [
      "[1] \"DataCite\"\n",
      "[1] 10.20382/\n",
      "379 Levels: 10.11577/ 10.11586/ 10.11588/ 10.1184/ 10.12682/ ... 10.7945/\n",
      "[1] \"cisti.cglab\"\n",
      "[1] 10.20382/\n",
      "379 Levels: 10.11577/ 10.11586/ 10.11588/ 10.1184/ 10.12682/ ... 10.7945/\n"
     ]
    },
    {
     "name": "stderr",
     "output_type": "stream",
     "text": [
      "Warning message in mutate_impl(.data, dots):\n",
      "“binding character and factor vector, coercing into character vector”"
     ]
    },
    {
     "name": "stdout",
     "output_type": "stream",
     "text": [
      "[1] \"DataCite\"\n",
      "[1] 10.21953/\n",
      "379 Levels: 10.11577/ 10.11586/ 10.11588/ 10.1184/ 10.12682/ ... 10.7945/\n",
      "[1] \"bl.lse\"\n",
      "[1] 10.21953/\n",
      "379 Levels: 10.11577/ 10.11586/ 10.11588/ 10.1184/ 10.12682/ ... 10.7945/\n"
     ]
    },
    {
     "name": "stderr",
     "output_type": "stream",
     "text": [
      "Warning message in mutate_impl(.data, dots):\n",
      "“binding character and factor vector, coercing into character vector”"
     ]
    },
    {
     "name": "stdout",
     "output_type": "stream",
     "text": [
      "[1] \"DataCite\"\n",
      "[1] 10.17635/\n",
      "379 Levels: 10.11577/ 10.11586/ 10.11588/ 10.1184/ 10.12682/ ... 10.7945/\n",
      "[1] \"bl.lancs\"\n",
      "[1] 10.17635/\n",
      "379 Levels: 10.11577/ 10.11586/ 10.11588/ 10.1184/ 10.12682/ ... 10.7945/\n"
     ]
    },
    {
     "name": "stderr",
     "output_type": "stream",
     "text": [
      "Warning message in mutate_impl(.data, dots):\n",
      "“binding character and factor vector, coercing into character vector”"
     ]
    },
    {
     "name": "stdout",
     "output_type": "stream",
     "text": [
      "[1] \"DataCite\"\n",
      "[1] 10.13135/\n",
      "379 Levels: 10.11577/ 10.11586/ 10.11588/ 10.1184/ 10.12682/ ... 10.7945/\n",
      "[1] \"crui.unito\"\n",
      "[1] 10.13135/\n",
      "379 Levels: 10.11577/ 10.11586/ 10.11588/ 10.1184/ 10.12682/ ... 10.7945/\n"
     ]
    },
    {
     "name": "stderr",
     "output_type": "stream",
     "text": [
      "Warning message in mutate_impl(.data, dots):\n",
      "“binding character and factor vector, coercing into character vector”"
     ]
    },
    {
     "name": "stdout",
     "output_type": "stream",
     "text": [
      "[1] \"DataCite\"\n",
      "[1] 10.17175/\n",
      "379 Levels: 10.11577/ 10.11586/ 10.11588/ 10.1184/ 10.12682/ ... 10.7945/\n",
      "[1] \"gesis.hab\"\n",
      "[1] 10.17175/\n",
      "379 Levels: 10.11577/ 10.11586/ 10.11588/ 10.1184/ 10.12682/ ... 10.7945/\n"
     ]
    },
    {
     "name": "stderr",
     "output_type": "stream",
     "text": [
      "Warning message in mutate_impl(.data, dots):\n",
      "“binding character and factor vector, coercing into character vector”"
     ]
    },
    {
     "name": "stdout",
     "output_type": "stream",
     "text": [
      "[1] \"DataCite\"\n",
      "[1] 10.15162/\n",
      "379 Levels: 10.11577/ 10.11586/ 10.11588/ 10.1184/ 10.12682/ ... 10.7945/\n",
      "[1] \"crui.uniba\"\n",
      "[1] 10.15162/\n",
      "379 Levels: 10.11577/ 10.11586/ 10.11588/ 10.1184/ 10.12682/ ... 10.7945/\n"
     ]
    },
    {
     "name": "stderr",
     "output_type": "stream",
     "text": [
      "Warning message in mutate_impl(.data, dots):\n",
      "“binding character and factor vector, coercing into character vector”"
     ]
    },
    {
     "name": "stdout",
     "output_type": "stream",
     "text": [
      "[1] \"DataCite\"\n",
      "[1] 10.13092/\n",
      "379 Levels: 10.11577/ 10.11586/ 10.11588/ 10.1184/ 10.12682/ ... 10.7945/\n",
      "[1] \"ethz.lo\"\n",
      "[1] 10.13092/\n",
      "379 Levels: 10.11577/ 10.11586/ 10.11588/ 10.1184/ 10.12682/ ... 10.7945/\n"
     ]
    },
    {
     "name": "stderr",
     "output_type": "stream",
     "text": [
      "Warning message in mutate_impl(.data, dots):\n",
      "“binding character and factor vector, coercing into character vector”"
     ]
    },
    {
     "name": "stdout",
     "output_type": "stream",
     "text": [
      "[1] \"DataCite\"\n",
      "[1] 10.7290/\n",
      "379 Levels: 10.11577/ 10.11586/ 10.11588/ 10.1184/ 10.12682/ ... 10.7945/\n",
      "[1] \"cdl.utenn\"\n",
      "[1] 10.7290/\n",
      "379 Levels: 10.11577/ 10.11586/ 10.11588/ 10.1184/ 10.12682/ ... 10.7945/\n"
     ]
    },
    {
     "name": "stderr",
     "output_type": "stream",
     "text": [
      "Warning message in mutate_impl(.data, dots):\n",
      "“binding character and factor vector, coercing into character vector”"
     ]
    },
    {
     "name": "stdout",
     "output_type": "stream",
     "text": [
      "[1] \"DataCite\"\n",
      "[1] 10.17892/\n",
      "379 Levels: 10.11577/ 10.11586/ 10.11588/ 10.1184/ 10.12682/ ... 10.7945/\n",
      "[1] \"gesis.apparat\"\n",
      "[1] 10.17892/\n",
      "379 Levels: 10.11577/ 10.11586/ 10.11588/ 10.1184/ 10.12682/ ... 10.7945/\n"
     ]
    },
    {
     "name": "stderr",
     "output_type": "stream",
     "text": [
      "Warning message in mutate_impl(.data, dots):\n",
      "“binding character and factor vector, coercing into character vector”"
     ]
    },
    {
     "name": "stdout",
     "output_type": "stream",
     "text": [
      "[1] \"DataCite\"\n",
      "[1] 10.6094/\n",
      "379 Levels: 10.11577/ 10.11586/ 10.11588/ 10.1184/ 10.12682/ ... 10.7945/\n",
      "[1] \"tib.ubfr\"\n",
      "[1] 10.6094/\n",
      "379 Levels: 10.11577/ 10.11586/ 10.11588/ 10.1184/ 10.12682/ ... 10.7945/\n"
     ]
    },
    {
     "name": "stderr",
     "output_type": "stream",
     "text": [
      "Warning message in mutate_impl(.data, dots):\n",
      "“binding character and factor vector, coercing into character vector”"
     ]
    },
    {
     "name": "stdout",
     "output_type": "stream",
     "text": [
      "[1] \"DataCite\"\n",
      "[1] 10.7939/\n",
      "379 Levels: 10.11577/ 10.11586/ 10.11588/ 10.1184/ 10.12682/ ... 10.7945/\n",
      "[1] \"cdl.ual\"\n",
      "[1] 10.7939/\n",
      "379 Levels: 10.11577/ 10.11586/ 10.11588/ 10.1184/ 10.12682/ ... 10.7945/\n"
     ]
    },
    {
     "name": "stderr",
     "output_type": "stream",
     "text": [
      "Warning message in mutate_impl(.data, dots):\n",
      "“binding character and factor vector, coercing into character vector”"
     ]
    },
    {
     "name": "stdout",
     "output_type": "stream",
     "text": [
      "[1] \"DataCite\"\n",
      "[1] 10.7891/\n",
      "379 Levels: 10.11577/ 10.11586/ 10.11588/ 10.1184/ 10.12682/ ... 10.7945/\n",
      "[1] \"ethz.e-manus\"\n",
      "[1] 10.7891/\n",
      "379 Levels: 10.11577/ 10.11586/ 10.11588/ 10.1184/ 10.12682/ ... 10.7945/\n"
     ]
    },
    {
     "name": "stderr",
     "output_type": "stream",
     "text": [
      "Warning message in mutate_impl(.data, dots):\n",
      "“binding character and factor vector, coercing into character vector”"
     ]
    },
    {
     "name": "stdout",
     "output_type": "stream",
     "text": [
      "[1] \"DataCite\"\n",
      "[1] 10.17196/\n",
      "379 Levels: 10.11577/ 10.11586/ 10.11588/ 10.1184/ 10.12682/ ... 10.7945/\n",
      "[1] \"snd.chalmers\"\n",
      "[1] 10.17196/\n",
      "379 Levels: 10.11577/ 10.11586/ 10.11588/ 10.1184/ 10.12682/ ... 10.7945/\n"
     ]
    },
    {
     "name": "stderr",
     "output_type": "stream",
     "text": [
      "Warning message in mutate_impl(.data, dots):\n",
      "“binding character and factor vector, coercing into character vector”"
     ]
    },
    {
     "name": "stdout",
     "output_type": "stream",
     "text": [
      "[1] \"DataCite\"\n",
      "[1] 10.20388/\n",
      "379 Levels: 10.11577/ 10.11586/ 10.11588/ 10.1184/ 10.12682/ ... 10.7945/\n",
      "[1] \"rads.main\"\n",
      "[1] 10.20388/\n",
      "379 Levels: 10.11577/ 10.11586/ 10.11588/ 10.1184/ 10.12682/ ... 10.7945/\n"
     ]
    },
    {
     "name": "stderr",
     "output_type": "stream",
     "text": [
      "Warning message in mutate_impl(.data, dots):\n",
      "“binding character and factor vector, coercing into character vector”"
     ]
    },
    {
     "name": "stdout",
     "output_type": "stream",
     "text": [
      "[1] \"DataCite\"\n",
      "[1] 10.5257/\n",
      "379 Levels: 10.11577/ 10.11586/ 10.11588/ 10.1184/ 10.12682/ ... 10.7945/\n",
      "[1] \"bl.esds-i\"\n",
      "[1] 10.5257/\n",
      "379 Levels: 10.11577/ 10.11586/ 10.11588/ 10.1184/ 10.12682/ ... 10.7945/\n"
     ]
    },
    {
     "name": "stderr",
     "output_type": "stream",
     "text": [
      "Warning message in mutate_impl(.data, dots):\n",
      "“binding character and factor vector, coercing into character vector”"
     ]
    },
    {
     "name": "stdout",
     "output_type": "stream",
     "text": [
      "[1] \"DataCite\"\n",
      "[1] 10.20380/\n",
      "379 Levels: 10.11577/ 10.11586/ 10.11588/ 10.1184/ 10.12682/ ... 10.7945/\n",
      "[1] \"cisti.chccs\"\n",
      "[1] 10.20380/\n",
      "379 Levels: 10.11577/ 10.11586/ 10.11588/ 10.1184/ 10.12682/ ... 10.7945/\n"
     ]
    },
    {
     "name": "stderr",
     "output_type": "stream",
     "text": [
      "Warning message in mutate_impl(.data, dots):\n",
      "“binding character and factor vector, coercing into character vector”"
     ]
    },
    {
     "name": "stdout",
     "output_type": "stream",
     "text": [
      "[1] \"DataCite\"\n",
      "[1] 10.5886/\n",
      "379 Levels: 10.11577/ 10.11586/ 10.11588/ 10.1184/ 10.12682/ ... 10.7945/\n",
      "[1] \"cisti.udembc\"\n",
      "[1] 10.5886/\n",
      "379 Levels: 10.11577/ 10.11586/ 10.11588/ 10.1184/ 10.12682/ ... 10.7945/\n"
     ]
    },
    {
     "name": "stderr",
     "output_type": "stream",
     "text": [
      "Warning message in mutate_impl(.data, dots):\n",
      "“binding character and factor vector, coercing into character vector”"
     ]
    },
    {
     "name": "stdout",
     "output_type": "stream",
     "text": [
      "[1] \"DataCite\"\n",
      "[1] 10.5519/\n",
      "379 Levels: 10.11577/ 10.11586/ 10.11588/ 10.1184/ 10.12682/ ... 10.7945/\n",
      "[1] \"bl.nhm\"\n",
      "[1] 10.5519/\n",
      "379 Levels: 10.11577/ 10.11586/ 10.11588/ 10.1184/ 10.12682/ ... 10.7945/\n"
     ]
    },
    {
     "name": "stderr",
     "output_type": "stream",
     "text": [
      "Warning message in mutate_impl(.data, dots):\n",
      "“binding character and factor vector, coercing into character vector”"
     ]
    },
    {
     "name": "stdout",
     "output_type": "stream",
     "text": [
      "[1] \"Crossref\"\n",
      "[1] 10.18740/\n",
      "379 Levels: 10.11577/ 10.11586/ 10.11588/ 10.1184/ 10.12682/ ... 10.7945/\n"
     ]
    },
    {
     "name": "stderr",
     "output_type": "stream",
     "text": [
      "Warning message in mutate_impl(.data, dots):\n",
      "“binding character and factor vector, coercing into character vector”"
     ]
    },
    {
     "name": "stdout",
     "output_type": "stream",
     "text": [
      "[1] \"DataCite\"\n",
      "[1] 10.3932/\n",
      "379 Levels: 10.11577/ 10.11586/ 10.11588/ 10.1184/ 10.12682/ ... 10.7945/\n",
      "[1] \"ethz.epics-ba\"\n",
      "[1] 10.3932/\n",
      "379 Levels: 10.11577/ 10.11586/ 10.11588/ 10.1184/ 10.12682/ ... 10.7945/\n"
     ]
    },
    {
     "name": "stderr",
     "output_type": "stream",
     "text": [
      "Warning message in mutate_impl(.data, dots):\n",
      "“binding character and factor vector, coercing into character vector”"
     ]
    },
    {
     "name": "stdout",
     "output_type": "stream",
     "text": [
      "[1] \"DataCite\"\n",
      "[1] 10.14291/\n",
      "379 Levels: 10.11577/ 10.11586/ 10.11588/ 10.1184/ 10.12682/ ... 10.7945/\n",
      "[1] \"cdl.caltech\"\n",
      "[1] 10.14291/\n",
      "379 Levels: 10.11577/ 10.11586/ 10.11588/ 10.1184/ 10.12682/ ... 10.7945/\n"
     ]
    },
    {
     "name": "stderr",
     "output_type": "stream",
     "text": [
      "Warning message in mutate_impl(.data, dots):\n",
      "“binding character and factor vector, coercing into character vector”"
     ]
    },
    {
     "name": "stdout",
     "output_type": "stream",
     "text": [
      "[1] \"DataCite\"\n",
      "[1] 10.21427/\n",
      "379 Levels: 10.11577/ 10.11586/ 10.11588/ 10.1184/ 10.12682/ ... 10.7945/\n",
      "[1] \"cdl.dit\"\n",
      "[1] 10.21427/\n",
      "379 Levels: 10.11577/ 10.11586/ 10.11588/ 10.1184/ 10.12682/ ... 10.7945/\n"
     ]
    },
    {
     "name": "stderr",
     "output_type": "stream",
     "text": [
      "Warning message in mutate_impl(.data, dots):\n",
      "“binding character and factor vector, coercing into character vector”"
     ]
    },
    {
     "name": "stdout",
     "output_type": "stream",
     "text": [
      "[1] \"DataCite\"\n",
      "[1] 10.17616/\n",
      "379 Levels: 10.11577/ 10.11586/ 10.11588/ 10.1184/ 10.12682/ ... 10.7945/\n",
      "[1] \"purdue.re3data\"\n",
      "[1] 10.17616/\n",
      "379 Levels: 10.11577/ 10.11586/ 10.11588/ 10.1184/ 10.12682/ ... 10.7945/\n"
     ]
    },
    {
     "name": "stderr",
     "output_type": "stream",
     "text": [
      "Warning message in mutate_impl(.data, dots):\n",
      "“binding character and factor vector, coercing into character vector”"
     ]
    },
    {
     "name": "stdout",
     "output_type": "stream",
     "text": [
      "[1] \"DataCite\"\n",
      "[1] 10.15497/\n",
      "379 Levels: 10.11577/ 10.11586/ 10.11588/ 10.1184/ 10.12682/ ... 10.7945/\n",
      "[1] \"datacite.rda\"\n",
      "[1] 10.15497/\n",
      "379 Levels: 10.11577/ 10.11586/ 10.11588/ 10.1184/ 10.12682/ ... 10.7945/\n"
     ]
    },
    {
     "name": "stderr",
     "output_type": "stream",
     "text": [
      "Warning message in mutate_impl(.data, dots):\n",
      "“binding character and factor vector, coercing into character vector”"
     ]
    },
    {
     "name": "stdout",
     "output_type": "stream",
     "text": [
      "[1] \"DataCite\"\n",
      "[1] 10.17192/\n",
      "379 Levels: 10.11577/ 10.11586/ 10.11588/ 10.1184/ 10.12682/ ... 10.7945/\n",
      "[1] \"tib.ubmr\"\n",
      "[1] 10.17192/\n",
      "379 Levels: 10.11577/ 10.11586/ 10.11588/ 10.1184/ 10.12682/ ... 10.7945/\n"
     ]
    },
    {
     "name": "stderr",
     "output_type": "stream",
     "text": [
      "Warning message in mutate_impl(.data, dots):\n",
      "“binding character and factor vector, coercing into character vector”"
     ]
    },
    {
     "name": "stdout",
     "output_type": "stream",
     "text": [
      "[1] \"DataCite\"\n",
      "[1] 10.17888/\n",
      "379 Levels: 10.11577/ 10.11586/ 10.11588/ 10.1184/ 10.12682/ ... 10.7945/\n",
      "[1] \"gesis.bifie\"\n",
      "[1] 10.17888/\n",
      "379 Levels: 10.11577/ 10.11586/ 10.11588/ 10.1184/ 10.12682/ ... 10.7945/\n"
     ]
    },
    {
     "name": "stderr",
     "output_type": "stream",
     "text": [
      "Warning message in mutate_impl(.data, dots):\n",
      "“binding character and factor vector, coercing into character vector”"
     ]
    },
    {
     "name": "stdout",
     "output_type": "stream",
     "text": [
      "[1] \"DataCite\"\n",
      "[1] 10.5159/\n",
      "379 Levels: 10.11577/ 10.11586/ 10.11588/ 10.1184/ 10.12682/ ... 10.7945/\n",
      "[1] \"gesis.iqb\"\n",
      "[1] 10.5159/\n",
      "379 Levels: 10.11577/ 10.11586/ 10.11588/ 10.1184/ 10.12682/ ... 10.7945/\n"
     ]
    },
    {
     "name": "stderr",
     "output_type": "stream",
     "text": [
      "Warning message in mutate_impl(.data, dots):\n",
      "“binding character and factor vector, coercing into character vector”"
     ]
    },
    {
     "name": "stdout",
     "output_type": "stream",
     "text": [
      "[1] \"DataCite\"\n",
      "[1] 10.5203/\n",
      "379 Levels: 10.11577/ 10.11586/ 10.11588/ 10.1184/ 10.12682/ ... 10.7945/\n",
      "[1] \"cisti.umanlib\"\n",
      "[1] 10.5203/\n",
      "379 Levels: 10.11577/ 10.11586/ 10.11588/ 10.1184/ 10.12682/ ... 10.7945/\n"
     ]
    },
    {
     "name": "stderr",
     "output_type": "stream",
     "text": [
      "Warning message in mutate_impl(.data, dots):\n",
      "“binding character and factor vector, coercing into character vector”"
     ]
    },
    {
     "name": "stdout",
     "output_type": "stream",
     "text": [
      "[1] \"DataCite\"\n",
      "[1] 10.5879/\n",
      "379 Levels: 10.11577/ 10.11586/ 10.11588/ 10.1184/ 10.12682/ ... 10.7945/\n",
      "[1] \"snd.chalmers\"\n",
      "[1] 10.5879/\n",
      "379 Levels: 10.11577/ 10.11586/ 10.11588/ 10.1184/ 10.12682/ ... 10.7945/\n"
     ]
    },
    {
     "name": "stderr",
     "output_type": "stream",
     "text": [
      "Warning message in mutate_impl(.data, dots):\n",
      "“binding character and factor vector, coercing into character vector”"
     ]
    },
    {
     "name": "stdout",
     "output_type": "stream",
     "text": [
      "[1] \"DataCite\"\n",
      "[1] 10.12754/\n",
      "379 Levels: 10.11577/ 10.11586/ 10.11588/ 10.1184/ 10.12682/ ... 10.7945/\n",
      "[1] \"tib.iow\"\n",
      "[1] 10.12754/\n",
      "379 Levels: 10.11577/ 10.11586/ 10.11588/ 10.1184/ 10.12682/ ... 10.7945/\n"
     ]
    },
    {
     "name": "stderr",
     "output_type": "stream",
     "text": [
      "Warning message in mutate_impl(.data, dots):\n",
      "“binding character and factor vector, coercing into character vector”"
     ]
    },
    {
     "name": "stdout",
     "output_type": "stream",
     "text": [
      "[1] \"DataCite\"\n",
      "[1] 10.17035/\n",
      "379 Levels: 10.11577/ 10.11586/ 10.11588/ 10.1184/ 10.12682/ ... 10.7945/\n",
      "[1] \"bl.cardiff\"\n",
      "[1] 10.17035/\n",
      "379 Levels: 10.11577/ 10.11586/ 10.11588/ 10.1184/ 10.12682/ ... 10.7945/\n"
     ]
    },
    {
     "name": "stderr",
     "output_type": "stream",
     "text": [
      "Warning message in mutate_impl(.data, dots):\n",
      "“binding character and factor vector, coercing into character vector”"
     ]
    },
    {
     "name": "stdout",
     "output_type": "stream",
     "text": [
      "[1] \"DataCite\"\n",
      "[1] 10.21425/\n",
      "379 Levels: 10.11577/ 10.11586/ 10.11588/ 10.1184/ 10.12682/ ... 10.7945/\n",
      "[1] \"cdl.ucm\"\n",
      "[1] 10.21425/\n",
      "379 Levels: 10.11577/ 10.11586/ 10.11588/ 10.1184/ 10.12682/ ... 10.7945/\n"
     ]
    },
    {
     "name": "stderr",
     "output_type": "stream",
     "text": [
      "Warning message in mutate_impl(.data, dots):\n",
      "“binding character and factor vector, coercing into character vector”"
     ]
    },
    {
     "name": "stdout",
     "output_type": "stream",
     "text": [
      "[1] \"DataCite\"\n",
      "[1] 10.21237/\n",
      "379 Levels: 10.11577/ 10.11586/ 10.11588/ 10.1184/ 10.12682/ ... 10.7945/\n",
      "[1] \"cdl.ucr\"\n",
      "[1] 10.21237/\n",
      "379 Levels: 10.11577/ 10.11586/ 10.11588/ 10.1184/ 10.12682/ ... 10.7945/\n"
     ]
    },
    {
     "name": "stderr",
     "output_type": "stream",
     "text": [
      "Warning message in mutate_impl(.data, dots):\n",
      "“binding character and factor vector, coercing into character vector”"
     ]
    },
    {
     "name": "stdout",
     "output_type": "stream",
     "text": [
      "[1] \"DataCite\"\n",
      "[1] 10.7298/\n",
      "379 Levels: 10.11577/ 10.11586/ 10.11588/ 10.1184/ 10.12682/ ... 10.7945/\n",
      "[1] \"cdl.cul\"\n",
      "[1] 10.7298/\n",
      "379 Levels: 10.11577/ 10.11586/ 10.11588/ 10.1184/ 10.12682/ ... 10.7945/\n"
     ]
    },
    {
     "name": "stderr",
     "output_type": "stream",
     "text": [
      "Warning message in mutate_impl(.data, dots):\n",
      "“binding character and factor vector, coercing into character vector”"
     ]
    },
    {
     "name": "stdout",
     "output_type": "stream",
     "text": [
      "[1] \"DataCite\"\n",
      "[1] 10.18116/\n",
      "379 Levels: 10.11577/ 10.11586/ 10.11588/ 10.1184/ 10.12682/ ... 10.7945/\n",
      "[1] \"cdl.ummscand\"\n",
      "[1] 10.18116/\n",
      "379 Levels: 10.11577/ 10.11586/ 10.11588/ 10.1184/ 10.12682/ ... 10.7945/\n"
     ]
    },
    {
     "name": "stderr",
     "output_type": "stream",
     "text": [
      "Warning message in mutate_impl(.data, dots):\n",
      "“binding character and factor vector, coercing into character vector”"
     ]
    },
    {
     "name": "stdout",
     "output_type": "stream",
     "text": [
      "[1] \"DataCite\"\n",
      "[1] 10.15142/\n",
      "379 Levels: 10.11577/ 10.11586/ 10.11588/ 10.1184/ 10.12682/ ... 10.7945/\n",
      "[1] \"cdl.usu\"\n",
      "[1] 10.15142/\n",
      "379 Levels: 10.11577/ 10.11586/ 10.11588/ 10.1184/ 10.12682/ ... 10.7945/\n"
     ]
    },
    {
     "name": "stderr",
     "output_type": "stream",
     "text": [
      "Warning message in mutate_impl(.data, dots):\n",
      "“binding character and factor vector, coercing into character vector”"
     ]
    },
    {
     "name": "stdout",
     "output_type": "stream",
     "text": [
      "[1] \"DataCite\"\n",
      "[1] 10.7267/\n",
      "379 Levels: 10.11577/ 10.11586/ 10.11588/ 10.1184/ 10.12682/ ... 10.7945/\n",
      "[1] \"cdl.osu\"\n",
      "[1] 10.7267/\n",
      "379 Levels: 10.11577/ 10.11586/ 10.11588/ 10.1184/ 10.12682/ ... 10.7945/\n"
     ]
    },
    {
     "name": "stderr",
     "output_type": "stream",
     "text": [
      "Warning message in mutate_impl(.data, dots):\n",
      "“binding character and factor vector, coercing into character vector”"
     ]
    },
    {
     "name": "stdout",
     "output_type": "stream",
     "text": [
      "[1] \"DataCite\"\n",
      "[1] 10.5069/\n",
      "379 Levels: 10.11577/ 10.11586/ 10.11588/ 10.1184/ 10.12682/ ... 10.7945/\n",
      "[1] \"cdl.sdscot\"\n",
      "[1] 10.5069/\n",
      "379 Levels: 10.11577/ 10.11586/ 10.11588/ 10.1184/ 10.12682/ ... 10.7945/\n"
     ]
    },
    {
     "name": "stderr",
     "output_type": "stream",
     "text": [
      "Warning message in mutate_impl(.data, dots):\n",
      "“binding character and factor vector, coercing into character vector”"
     ]
    },
    {
     "name": "stdout",
     "output_type": "stream",
     "text": [
      "[1] \"DataCite\"\n",
      "[1] 10.5288/\n",
      "379 Levels: 10.11577/ 10.11586/ 10.11588/ 10.1184/ 10.12682/ ... 10.7945/\n",
      "[1] \"tib.dgg\"\n",
      "[1] 10.5288/\n",
      "379 Levels: 10.11577/ 10.11586/ 10.11588/ 10.1184/ 10.12682/ ... 10.7945/\n"
     ]
    },
    {
     "name": "stderr",
     "output_type": "stream",
     "text": [
      "Warning message in mutate_impl(.data, dots):\n",
      "“binding character and factor vector, coercing into character vector”"
     ]
    },
    {
     "name": "stdout",
     "output_type": "stream",
     "text": [
      "[1] \"DataCite\"\n",
      "[1] 10.17617/\n",
      "379 Levels: 10.11577/ 10.11586/ 10.11588/ 10.1184/ 10.12682/ ... 10.7945/\n",
      "[1] \"tib.mpdl\"\n",
      "[1] 10.17617/\n",
      "379 Levels: 10.11577/ 10.11586/ 10.11588/ 10.1184/ 10.12682/ ... 10.7945/\n"
     ]
    },
    {
     "name": "stderr",
     "output_type": "stream",
     "text": [
      "Warning message in mutate_impl(.data, dots):\n",
      "“binding character and factor vector, coercing into character vector”"
     ]
    },
    {
     "name": "stdout",
     "output_type": "stream",
     "text": [
      "[1] \"DataCite\"\n",
      "[1] 10.17613/\n",
      "379 Levels: 10.11577/ 10.11586/ 10.11588/ 10.1184/ 10.12682/ ... 10.7945/\n",
      "[1] \"cdl.mla\"\n",
      "[1] 10.17613/\n",
      "379 Levels: 10.11577/ 10.11586/ 10.11588/ 10.1184/ 10.12682/ ... 10.7945/\n"
     ]
    },
    {
     "name": "stderr",
     "output_type": "stream",
     "text": [
      "Warning message in mutate_impl(.data, dots):\n",
      "“binding character and factor vector, coercing into character vector”"
     ]
    },
    {
     "name": "stdout",
     "output_type": "stream",
     "text": [
      "[1] \"DataCite\"\n",
      "[1] 10.15463/\n",
      "379 Levels: 10.11577/ 10.11586/ 10.11588/ 10.1184/ 10.12682/ ... 10.7945/\n",
      "[1] \"gesis.bsb\"\n",
      "[1] 10.15463/\n",
      "379 Levels: 10.11577/ 10.11586/ 10.11588/ 10.1184/ 10.12682/ ... 10.7945/\n"
     ]
    },
    {
     "name": "stderr",
     "output_type": "stream",
     "text": [
      "Warning message in mutate_impl(.data, dots):\n",
      "“binding character and factor vector, coercing into character vector”"
     ]
    },
    {
     "name": "stdout",
     "output_type": "stream",
     "text": [
      "[1] \"DataCite\"\n",
      "[1] 10.5451/\n",
      "379 Levels: 10.11577/ 10.11586/ 10.11588/ 10.1184/ 10.12682/ ... 10.7945/\n",
      "[1] \"ethz.unibas\"\n",
      "[1] 10.5451/\n",
      "379 Levels: 10.11577/ 10.11586/ 10.11588/ 10.1184/ 10.12682/ ... 10.7945/\n"
     ]
    },
    {
     "name": "stderr",
     "output_type": "stream",
     "text": [
      "Warning message in mutate_impl(.data, dots):\n",
      "“binding character and factor vector, coercing into character vector”"
     ]
    },
    {
     "name": "stdout",
     "output_type": "stream",
     "text": [
      "[1] \"DataCite\"\n",
      "[1] 10.15478/\n",
      "379 Levels: 10.11577/ 10.11586/ 10.11588/ 10.1184/ 10.12682/ ... 10.7945/\n",
      "[1] \"delft.iea\"\n",
      "[1] 10.15478/\n",
      "379 Levels: 10.11577/ 10.11586/ 10.11588/ 10.1184/ 10.12682/ ... 10.7945/\n"
     ]
    },
    {
     "name": "stderr",
     "output_type": "stream",
     "text": [
      "Warning message in mutate_impl(.data, dots):\n",
      "“binding character and factor vector, coercing into character vector”"
     ]
    },
    {
     "name": "stdout",
     "output_type": "stream",
     "text": [
      "[1] \"DataCite\"\n",
      "[1] 10.13133/\n",
      "379 Levels: 10.11577/ 10.11586/ 10.11588/ 10.1184/ 10.12682/ ... 10.7945/\n",
      "[1] \"crui.uniroma1\"\n",
      "[1] 10.13133/\n",
      "379 Levels: 10.11577/ 10.11586/ 10.11588/ 10.1184/ 10.12682/ ... 10.7945/\n"
     ]
    },
    {
     "name": "stderr",
     "output_type": "stream",
     "text": [
      "Warning message in mutate_impl(.data, dots):\n",
      "“binding character and factor vector, coercing into character vector”"
     ]
    },
    {
     "name": "stdout",
     "output_type": "stream",
     "text": [
      "[1] \"DataCite\"\n",
      "[1] 10.21334/\n",
      "379 Levels: 10.11577/ 10.11586/ 10.11588/ 10.1184/ 10.12682/ ... 10.7945/\n",
      "[1] \"bibsys.npolar\"\n",
      "[1] 10.21334/\n",
      "379 Levels: 10.11577/ 10.11586/ 10.11588/ 10.1184/ 10.12682/ ... 10.7945/\n"
     ]
    },
    {
     "name": "stderr",
     "output_type": "stream",
     "text": [
      "Warning message in mutate_impl(.data, dots):\n",
      "“binding character and factor vector, coercing into character vector”"
     ]
    },
    {
     "name": "stdout",
     "output_type": "stream",
     "text": [
      "[1] \"DataCite\"\n",
      "[1] 10.15474/\n",
      "379 Levels: 10.11577/ 10.11586/ 10.11588/ 10.1184/ 10.12682/ ... 10.7945/\n",
      "[1] \"inist.cebc\"\n",
      "[1] 10.15474/\n",
      "379 Levels: 10.11577/ 10.11586/ 10.11588/ 10.1184/ 10.12682/ ... 10.7945/\n"
     ]
    },
    {
     "name": "stderr",
     "output_type": "stream",
     "text": [
      "Warning message in mutate_impl(.data, dots):\n",
      "“binding character and factor vector, coercing into character vector”"
     ]
    },
    {
     "name": "stdout",
     "output_type": "stream",
     "text": [
      "[1] \"DataCite\"\n",
      "[1] 10.15129/\n",
      "379 Levels: 10.11577/ 10.11586/ 10.11588/ 10.1184/ 10.12682/ ... 10.7945/\n",
      "[1] \"bl.strath\"\n",
      "[1] 10.15129/\n",
      "379 Levels: 10.11577/ 10.11586/ 10.11588/ 10.1184/ 10.12682/ ... 10.7945/\n"
     ]
    },
    {
     "name": "stderr",
     "output_type": "stream",
     "text": [
      "Warning message in mutate_impl(.data, dots):\n",
      "“binding character and factor vector, coercing into character vector”"
     ]
    },
    {
     "name": "stdout",
     "output_type": "stream",
     "text": [
      "[1] \"Crossref\"\n",
      "[1] 10.18741/\n",
      "379 Levels: 10.11577/ 10.11586/ 10.11588/ 10.1184/ 10.12682/ ... 10.7945/\n"
     ]
    },
    {
     "name": "stderr",
     "output_type": "stream",
     "text": [
      "Warning message in mutate_impl(.data, dots):\n",
      "“binding character and factor vector, coercing into character vector”"
     ]
    },
    {
     "name": "stdout",
     "output_type": "stream",
     "text": [
      "[1] \"Crossref\"\n",
      "[1] 10.21226/\n",
      "379 Levels: 10.11577/ 10.11586/ 10.11588/ 10.1184/ 10.12682/ ... 10.7945/\n"
     ]
    },
    {
     "name": "stderr",
     "output_type": "stream",
     "text": [
      "Warning message in mutate_impl(.data, dots):\n",
      "“binding character and factor vector, coercing into character vector”"
     ]
    },
    {
     "name": "stdout",
     "output_type": "stream",
     "text": [
      "[1] \"DataCite\"\n",
      "[1] 10.15496/\n",
      "379 Levels: 10.11577/ 10.11586/ 10.11588/ 10.1184/ 10.12682/ ... 10.7945/\n",
      "[1] \"tib.ubtdois\"\n",
      "[1] 10.15496/\n",
      "379 Levels: 10.11577/ 10.11586/ 10.11588/ 10.1184/ 10.12682/ ... 10.7945/\n"
     ]
    },
    {
     "name": "stderr",
     "output_type": "stream",
     "text": [
      "Warning message in mutate_impl(.data, dots):\n",
      "“binding character and factor vector, coercing into character vector”"
     ]
    },
    {
     "name": "stdout",
     "output_type": "stream",
     "text": [
      "[1] \"DataCite\"\n",
      "[1] 10.15169/\n",
      "379 Levels: 10.11577/ 10.11586/ 10.11588/ 10.1184/ 10.12682/ ... 10.7945/\n",
      "[1] \"crui.unict\"\n",
      "[1] 10.15169/\n",
      "379 Levels: 10.11577/ 10.11586/ 10.11588/ 10.1184/ 10.12682/ ... 10.7945/\n"
     ]
    },
    {
     "name": "stderr",
     "output_type": "stream",
     "text": [
      "Warning message in mutate_impl(.data, dots):\n",
      "“binding character and factor vector, coercing into character vector”"
     ]
    },
    {
     "name": "stdout",
     "output_type": "stream",
     "text": [
      "[1] \"DataCite\"\n",
      "[1] 10.15131/\n",
      "379 Levels: 10.11577/ 10.11586/ 10.11588/ 10.1184/ 10.12682/ ... 10.7945/\n",
      "[1] \"bl.shef\"\n",
      "[1] 10.15131/\n",
      "379 Levels: 10.11577/ 10.11586/ 10.11588/ 10.1184/ 10.12682/ ... 10.7945/\n"
     ]
    },
    {
     "name": "stderr",
     "output_type": "stream",
     "text": [
      "Warning message in mutate_impl(.data, dots):\n",
      "“binding character and factor vector, coercing into character vector”"
     ]
    },
    {
     "name": "stdout",
     "output_type": "stream",
     "text": [
      "[1] \"DataCite\"\n",
      "[1] 10.18156/\n",
      "379 Levels: 10.11577/ 10.11586/ 10.11588/ 10.1184/ 10.12682/ ... 10.7945/\n",
      "[1] \"tib.ubtdois\"\n",
      "[1] 10.18156/\n",
      "379 Levels: 10.11577/ 10.11586/ 10.11588/ 10.1184/ 10.12682/ ... 10.7945/\n"
     ]
    },
    {
     "name": "stderr",
     "output_type": "stream",
     "text": [
      "Warning message in mutate_impl(.data, dots):\n",
      "“binding character and factor vector, coercing into character vector”"
     ]
    },
    {
     "name": "stdout",
     "output_type": "stream",
     "text": [
      "[1] \"DataCite\"\n",
      "[1] 10.21265/\n",
      "379 Levels: 10.11577/ 10.11586/ 10.11588/ 10.1184/ 10.12682/ ... 10.7945/\n",
      "[1] \"rads.main\"\n",
      "[1] 10.21265/\n",
      "379 Levels: 10.11577/ 10.11586/ 10.11588/ 10.1184/ 10.12682/ ... 10.7945/\n"
     ]
    },
    {
     "name": "stderr",
     "output_type": "stream",
     "text": [
      "Warning message in mutate_impl(.data, dots):\n",
      "“binding character and factor vector, coercing into character vector”"
     ]
    },
    {
     "name": "stdout",
     "output_type": "stream",
     "text": [
      "[1] \"DataCite\"\n",
      "[1] 10.21934/\n",
      "379 Levels: 10.11577/ 10.11586/ 10.11588/ 10.1184/ 10.12682/ ... 10.7945/\n",
      "[1] \"tib.baua-doi\"\n",
      "[1] 10.21934/\n",
      "379 Levels: 10.11577/ 10.11586/ 10.11588/ 10.1184/ 10.12682/ ... 10.7945/\n"
     ]
    },
    {
     "name": "stderr",
     "output_type": "stream",
     "text": [
      "Warning message in mutate_impl(.data, dots):\n",
      "“binding character and factor vector, coercing into character vector”"
     ]
    },
    {
     "name": "stdout",
     "output_type": "stream",
     "text": [
      "[1] \"DataCite\"\n",
      "[1] 10.7805/\n",
      "379 Levels: 10.11577/ 10.11586/ 10.11588/ 10.1184/ 10.12682/ ... 10.7945/\n",
      "[1] \"zbw.ifo\"\n",
      "[1] 10.7805/\n",
      "379 Levels: 10.11577/ 10.11586/ 10.11588/ 10.1184/ 10.12682/ ... 10.7945/\n"
     ]
    },
    {
     "name": "stderr",
     "output_type": "stream",
     "text": [
      "Warning message in mutate_impl(.data, dots):\n",
      "“binding character and factor vector, coercing into character vector”"
     ]
    },
    {
     "name": "stdout",
     "output_type": "stream",
     "text": [
      "[1] \"DataCite\"\n",
      "[1] 10.17028/\n",
      "379 Levels: 10.11577/ 10.11586/ 10.11588/ 10.1184/ 10.12682/ ... 10.7945/\n",
      "[1] \"bl.lboro\"\n",
      "[1] 10.17028/\n",
      "379 Levels: 10.11577/ 10.11586/ 10.11588/ 10.1184/ 10.12682/ ... 10.7945/\n"
     ]
    },
    {
     "name": "stderr",
     "output_type": "stream",
     "text": [
      "Warning message in mutate_impl(.data, dots):\n",
      "“binding character and factor vector, coercing into character vector”"
     ]
    },
    {
     "name": "stdout",
     "output_type": "stream",
     "text": [
      "[1] \"DataCite\"\n",
      "[1] 10.21236/\n",
      "379 Levels: 10.11577/ 10.11586/ 10.11588/ 10.1184/ 10.12682/ ... 10.7945/\n",
      "[1] \"cdl.dtic\"\n",
      "[1] 10.21236/\n",
      "379 Levels: 10.11577/ 10.11586/ 10.11588/ 10.1184/ 10.12682/ ... 10.7945/\n"
     ]
    },
    {
     "name": "stderr",
     "output_type": "stream",
     "text": [
      "Warning message in mutate_impl(.data, dots):\n",
      "“binding character and factor vector, coercing into character vector”"
     ]
    },
    {
     "name": "stdout",
     "output_type": "stream",
     "text": [
      "[1] \"Crossref\"\n",
      "[1] 10.25336/\n",
      "379 Levels: 10.11577/ 10.11586/ 10.11588/ 10.1184/ 10.12682/ ... 10.7945/\n"
     ]
    },
    {
     "name": "stderr",
     "output_type": "stream",
     "text": [
      "Warning message in mutate_impl(.data, dots):\n",
      "“binding character and factor vector, coercing into character vector”"
     ]
    },
    {
     "name": "stdout",
     "output_type": "stream",
     "text": [
      "[1] \"DataCite\"\n",
      "[1] 10.18130/\n",
      "379 Levels: 10.11577/ 10.11586/ 10.11588/ 10.1184/ 10.12682/ ... 10.7945/\n",
      "[1] \"cdl.uva\"\n",
      "[1] 10.18130/\n",
      "379 Levels: 10.11577/ 10.11586/ 10.11588/ 10.1184/ 10.12682/ ... 10.7945/\n"
     ]
    },
    {
     "name": "stderr",
     "output_type": "stream",
     "text": [
      "Warning message in mutate_impl(.data, dots):\n",
      "“binding character and factor vector, coercing into character vector”"
     ]
    },
    {
     "name": "stdout",
     "output_type": "stream",
     "text": [
      "[1] \"DataCite\"\n",
      "[1] 10.23731/\n",
      "379 Levels: 10.11577/ 10.11586/ 10.11588/ 10.1184/ 10.12682/ ... 10.7945/\n",
      "[1] \"cern.yrmono\"\n",
      "[1] 10.23731/\n",
      "379 Levels: 10.11577/ 10.11586/ 10.11588/ 10.1184/ 10.12682/ ... 10.7945/\n"
     ]
    },
    {
     "name": "stderr",
     "output_type": "stream",
     "text": [
      "Warning message in mutate_impl(.data, dots):\n",
      "“binding character and factor vector, coercing into character vector”"
     ]
    },
    {
     "name": "stdout",
     "output_type": "stream",
     "text": [
      "[1] \"DataCite\"\n",
      "[1] 10.17918/\n",
      "379 Levels: 10.11577/ 10.11586/ 10.11588/ 10.1184/ 10.12682/ ... 10.7945/\n",
      "[1] \"cdl.drxldata\"\n",
      "[1] 10.17918/\n",
      "379 Levels: 10.11577/ 10.11586/ 10.11588/ 10.1184/ 10.12682/ ... 10.7945/\n"
     ]
    },
    {
     "name": "stderr",
     "output_type": "stream",
     "text": [
      "Warning message in mutate_impl(.data, dots):\n",
      "“binding character and factor vector, coercing into character vector”"
     ]
    },
    {
     "name": "stdout",
     "output_type": "stream",
     "text": [
      "[1] \"DataCite\"\n",
      "[1] 10.15122/\n",
      "379 Levels: 10.11577/ 10.11586/ 10.11588/ 10.1184/ 10.12682/ ... 10.7945/\n",
      "[1] \"inist.garnier\"\n",
      "[1] 10.15122/\n",
      "379 Levels: 10.11577/ 10.11586/ 10.11588/ 10.1184/ 10.12682/ ... 10.7945/\n"
     ]
    },
    {
     "name": "stderr",
     "output_type": "stream",
     "text": [
      "Warning message in mutate_impl(.data, dots):\n",
      "“binding character and factor vector, coercing into character vector”"
     ]
    },
    {
     "name": "stdout",
     "output_type": "stream",
     "text": [
      "[1] \"DataCite\"\n",
      "[1] 10.14287/\n",
      "379 Levels: 10.11577/ 10.11586/ 10.11588/ 10.1184/ 10.12682/ ... 10.7945/\n",
      "[1] \"cisti.woudc\"\n",
      "[1] 10.14287/\n",
      "379 Levels: 10.11577/ 10.11586/ 10.11588/ 10.1184/ 10.12682/ ... 10.7945/\n"
     ]
    },
    {
     "name": "stderr",
     "output_type": "stream",
     "text": [
      "Warning message in mutate_impl(.data, dots):\n",
      "“binding character and factor vector, coercing into character vector”"
     ]
    },
    {
     "name": "stdout",
     "output_type": "stream",
     "text": [
      "[1] \"DataCite\"\n",
      "[1] 10.21224/\n",
      "379 Levels: 10.11577/ 10.11586/ 10.11588/ 10.1184/ 10.12682/ ... 10.7945/\n",
      "[1] \"cdl.ucsd\"\n",
      "[1] 10.21224/\n",
      "379 Levels: 10.11577/ 10.11586/ 10.11588/ 10.1184/ 10.12682/ ... 10.7945/\n"
     ]
    },
    {
     "name": "stderr",
     "output_type": "stream",
     "text": [
      "Warning message in mutate_impl(.data, dots):\n",
      "“binding character and factor vector, coercing into character vector”"
     ]
    },
    {
     "name": "stdout",
     "output_type": "stream",
     "text": [
      "[1] \"DataCite\"\n",
      "[1] 10.6104/\n",
      "379 Levels: 10.11577/ 10.11586/ 10.11588/ 10.1184/ 10.12682/ ... 10.7945/\n",
      "[1] \"gesis.ude\"\n",
      "[1] 10.6104/\n",
      "379 Levels: 10.11577/ 10.11586/ 10.11588/ 10.1184/ 10.12682/ ... 10.7945/\n"
     ]
    },
    {
     "name": "stderr",
     "output_type": "stream",
     "text": [
      "Warning message in mutate_impl(.data, dots):\n",
      "“binding character and factor vector, coercing into character vector”"
     ]
    },
    {
     "name": "stdout",
     "output_type": "stream",
     "text": [
      "[1] \"DataCite\"\n",
      "[1] 10.17174/\n",
      "379 Levels: 10.11577/ 10.11586/ 10.11588/ 10.1184/ 10.12682/ ... 10.7945/\n",
      "[1] \"gesis.ifpuk\"\n",
      "[1] 10.17174/\n",
      "379 Levels: 10.11577/ 10.11586/ 10.11588/ 10.1184/ 10.12682/ ... 10.7945/\n"
     ]
    },
    {
     "name": "stderr",
     "output_type": "stream",
     "text": [
      "Warning message in mutate_impl(.data, dots):\n",
      "“binding character and factor vector, coercing into character vector”"
     ]
    },
    {
     "name": "stdout",
     "output_type": "stream",
     "text": [
      "[1] \"DataCite\"\n",
      "[1] 10.18129/\n",
      "379 Levels: 10.11577/ 10.11586/ 10.11588/ 10.1184/ 10.12682/ ... 10.7945/\n",
      "[1] \"purdue.ncib\"\n",
      "[1] 10.18129/\n",
      "379 Levels: 10.11577/ 10.11586/ 10.11588/ 10.1184/ 10.12682/ ... 10.7945/\n"
     ]
    },
    {
     "name": "stderr",
     "output_type": "stream",
     "text": [
      "Warning message in mutate_impl(.data, dots):\n",
      "“binding character and factor vector, coercing into character vector”"
     ]
    },
    {
     "name": "stdout",
     "output_type": "stream",
     "text": [
      "[1] \"DataCite\"\n",
      "[1] 10.17864/\n",
      "379 Levels: 10.11577/ 10.11586/ 10.11588/ 10.1184/ 10.12682/ ... 10.7945/\n",
      "[1] \"bl.reading\"\n",
      "[1] 10.17864/\n",
      "379 Levels: 10.11577/ 10.11586/ 10.11588/ 10.1184/ 10.12682/ ... 10.7945/\n"
     ]
    },
    {
     "name": "stderr",
     "output_type": "stream",
     "text": [
      "Warning message in mutate_impl(.data, dots):\n",
      "“binding character and factor vector, coercing into character vector”"
     ]
    },
    {
     "name": "stdout",
     "output_type": "stream",
     "text": [
      "[1] \"DataCite\"\n",
      "[1] 10.4226/\n",
      "379 Levels: 10.11577/ 10.11586/ 10.11588/ 10.1184/ 10.12682/ ... 10.7945/\n",
      "[1] \"ands.centre95\"\n",
      "[1] 10.4226/\n",
      "379 Levels: 10.11577/ 10.11586/ 10.11588/ 10.1184/ 10.12682/ ... 10.7945/\n"
     ]
    },
    {
     "name": "stderr",
     "output_type": "stream",
     "text": [
      "Warning message in mutate_impl(.data, dots):\n",
      "“binding character and factor vector, coercing into character vector”"
     ]
    },
    {
     "name": "stdout",
     "output_type": "stream",
     "text": [
      "[1] \"DataCite\"\n",
      "[1] 10.17879/\n",
      "379 Levels: 10.11577/ 10.11586/ 10.11588/ 10.1184/ 10.12682/ ... 10.7945/\n",
      "[1] \"tib.ulbms\"\n",
      "[1] 10.17879/\n",
      "379 Levels: 10.11577/ 10.11586/ 10.11588/ 10.1184/ 10.12682/ ... 10.7945/\n"
     ]
    },
    {
     "name": "stderr",
     "output_type": "stream",
     "text": [
      "Warning message in mutate_impl(.data, dots):\n",
      "“binding character and factor vector, coercing into character vector”"
     ]
    },
    {
     "name": "stdout",
     "output_type": "stream",
     "text": [
      "[1] \"DataCite\"\n",
      "[1] 10.14455/\n",
      "379 Levels: 10.11577/ 10.11586/ 10.11588/ 10.1184/ 10.12682/ ... 10.7945/\n",
      "[1] \"nrct.db1\"\n",
      "[1] 10.14455/\n",
      "379 Levels: 10.11577/ 10.11586/ 10.11588/ 10.1184/ 10.12682/ ... 10.7945/\n"
     ]
    },
    {
     "name": "stderr",
     "output_type": "stream",
     "text": [
      "Warning message in mutate_impl(.data, dots):\n",
      "“binding character and factor vector, coercing into character vector”"
     ]
    },
    {
     "name": "stdout",
     "output_type": "stream",
     "text": [
      "[1] \"DataCite\"\n",
      "[1] 10.17182/\n",
      "379 Levels: 10.11577/ 10.11586/ 10.11588/ 10.1184/ 10.12682/ ... 10.7945/\n",
      "[1] \"cern.hepdata\"\n",
      "[1] 10.17182/\n",
      "379 Levels: 10.11577/ 10.11586/ 10.11588/ 10.1184/ 10.12682/ ... 10.7945/\n"
     ]
    },
    {
     "name": "stderr",
     "output_type": "stream",
     "text": [
      "Warning message in mutate_impl(.data, dots):\n",
      "“binding character and factor vector, coercing into character vector”"
     ]
    },
    {
     "name": "stdout",
     "output_type": "stream",
     "text": [
      "[1] \"DataCite\"\n",
      "[1] 10.11586/\n",
      "379 Levels: 10.11577/ 10.11586/ 10.11588/ 10.1184/ 10.12682/ ... 10.7945/\n",
      "[1] \"gesis.bstift\"\n",
      "[1] 10.11586/\n",
      "379 Levels: 10.11577/ 10.11586/ 10.11588/ 10.1184/ 10.12682/ ... 10.7945/\n"
     ]
    },
    {
     "name": "stderr",
     "output_type": "stream",
     "text": [
      "Warning message in mutate_impl(.data, dots):\n",
      "“binding character and factor vector, coercing into character vector”"
     ]
    },
    {
     "name": "stdout",
     "output_type": "stream",
     "text": [
      "[1] \"DataCite\"\n",
      "[1] 10.18444/\n",
      "379 Levels: 10.11577/ 10.11586/ 10.11588/ 10.1184/ 10.12682/ ... 10.7945/\n",
      "[1] \"gesis.rki\"\n",
      "[1] 10.18444/\n",
      "379 Levels: 10.11577/ 10.11586/ 10.11588/ 10.1184/ 10.12682/ ... 10.7945/\n"
     ]
    },
    {
     "name": "stderr",
     "output_type": "stream",
     "text": [
      "Warning message in mutate_impl(.data, dots):\n",
      "“binding character and factor vector, coercing into character vector”"
     ]
    },
    {
     "name": "stdout",
     "output_type": "stream",
     "text": [
      "[1] \"DataCite\"\n",
      "[1] 10.13020/\n",
      "379 Levels: 10.11577/ 10.11586/ 10.11588/ 10.1184/ 10.12682/ ... 10.7945/\n",
      "[1] \"purdue.drum\"\n",
      "[1] 10.13020/\n",
      "379 Levels: 10.11577/ 10.11586/ 10.11588/ 10.1184/ 10.12682/ ... 10.7945/\n"
     ]
    },
    {
     "name": "stderr",
     "output_type": "stream",
     "text": [
      "Warning message in mutate_impl(.data, dots):\n",
      "“binding character and factor vector, coercing into character vector”"
     ]
    },
    {
     "name": "stdout",
     "output_type": "stream",
     "text": [
      "[1] \"DataCite\"\n",
      "[1] 10.17633/\n",
      "379 Levels: 10.11577/ 10.11586/ 10.11588/ 10.1184/ 10.12682/ ... 10.7945/\n",
      "[1] \"bl.brunel\"\n",
      "[1] 10.17633/\n",
      "379 Levels: 10.11577/ 10.11586/ 10.11588/ 10.1184/ 10.12682/ ... 10.7945/\n"
     ]
    },
    {
     "name": "stderr",
     "output_type": "stream",
     "text": [
      "Warning message in mutate_impl(.data, dots):\n",
      "“binding character and factor vector, coercing into character vector”"
     ]
    },
    {
     "name": "stdout",
     "output_type": "stream",
     "text": [
      "[1] \"DataCite\"\n",
      "[1] 10.21248/\n",
      "379 Levels: 10.11577/ 10.11586/ 10.11588/ 10.1184/ 10.12682/ ... 10.7945/\n",
      "[1] \"gesis.ubjcs\"\n",
      "[1] 10.21248/\n",
      "379 Levels: 10.11577/ 10.11586/ 10.11588/ 10.1184/ 10.12682/ ... 10.7945/\n"
     ]
    },
    {
     "name": "stderr",
     "output_type": "stream",
     "text": [
      "Warning message in mutate_impl(.data, dots):\n",
      "“binding character and factor vector, coercing into character vector”"
     ]
    },
    {
     "name": "stdout",
     "output_type": "stream",
     "text": [
      "[1] \"DataCite\"\n",
      "[1] 10.18452/\n",
      "379 Levels: 10.11577/ 10.11586/ 10.11588/ 10.1184/ 10.12682/ ... 10.7945/\n",
      "[1] \"tib.hu-edoc\"\n",
      "[1] 10.18452/\n",
      "379 Levels: 10.11577/ 10.11586/ 10.11588/ 10.1184/ 10.12682/ ... 10.7945/\n"
     ]
    },
    {
     "name": "stderr",
     "output_type": "stream",
     "text": [
      "Warning message in mutate_impl(.data, dots):\n",
      "“binding character and factor vector, coercing into character vector”"
     ]
    },
    {
     "name": "stdout",
     "output_type": "stream",
     "text": [
      "[1] \"DataCite\"\n",
      "[1] 10.12753/\n",
      "379 Levels: 10.11577/ 10.11586/ 10.11588/ 10.1184/ 10.12682/ ... 10.7945/\n",
      "[1] \"tib.adlnet\"\n",
      "[1] 10.12753/\n",
      "379 Levels: 10.11577/ 10.11586/ 10.11588/ 10.1184/ 10.12682/ ... 10.7945/\n"
     ]
    },
    {
     "name": "stderr",
     "output_type": "stream",
     "text": [
      "Warning message in mutate_impl(.data, dots):\n",
      "“binding character and factor vector, coercing into character vector”"
     ]
    },
    {
     "name": "stdout",
     "output_type": "stream",
     "text": [
      "[1] \"DataCite\"\n",
      "[1] 10.20381/\n",
      "379 Levels: 10.11577/ 10.11586/ 10.11588/ 10.1184/ 10.12682/ ... 10.7945/\n",
      "[1] \"cisti.uottawa\"\n",
      "[1] 10.20381/\n",
      "379 Levels: 10.11577/ 10.11586/ 10.11588/ 10.1184/ 10.12682/ ... 10.7945/\n"
     ]
    },
    {
     "name": "stderr",
     "output_type": "stream",
     "text": [
      "Warning message in mutate_impl(.data, dots):\n",
      "“binding character and factor vector, coercing into character vector”"
     ]
    },
    {
     "name": "stdout",
     "output_type": "stream",
     "text": [
      "[1] \"DataCite\"\n",
      "[1] 10.7804/\n",
      "379 Levels: 10.11577/ 10.11586/ 10.11588/ 10.1184/ 10.12682/ ... 10.7945/\n",
      "[1] \"gesis.gesis\"\n",
      "[1] 10.7804/\n",
      "379 Levels: 10.11577/ 10.11586/ 10.11588/ 10.1184/ 10.12682/ ... 10.7945/\n"
     ]
    },
    {
     "name": "stderr",
     "output_type": "stream",
     "text": [
      "Warning message in mutate_impl(.data, dots):\n",
      "“binding character and factor vector, coercing into character vector”"
     ]
    },
    {
     "name": "stdout",
     "output_type": "stream",
     "text": [
      "[1] \"DataCite\"\n",
      "[1] 10.13154/\n",
      "379 Levels: 10.11577/ 10.11586/ 10.11588/ 10.1184/ 10.12682/ ... 10.7945/\n",
      "[1] \"tib.rubhb\"\n",
      "[1] 10.13154/\n",
      "379 Levels: 10.11577/ 10.11586/ 10.11588/ 10.1184/ 10.12682/ ... 10.7945/\n"
     ]
    },
    {
     "name": "stderr",
     "output_type": "stream",
     "text": [
      "Warning message in mutate_impl(.data, dots):\n",
      "“binding character and factor vector, coercing into character vector”"
     ]
    },
    {
     "name": "stdout",
     "output_type": "stream",
     "text": [
      "[1] \"DataCite\"\n",
      "[1] 10.21982/\n",
      "379 Levels: 10.11577/ 10.11586/ 10.11588/ 10.1184/ 10.12682/ ... 10.7945/\n",
      "[1] \"purdue.umgrss\"\n",
      "[1] 10.21982/\n",
      "379 Levels: 10.11577/ 10.11586/ 10.11588/ 10.1184/ 10.12682/ ... 10.7945/\n"
     ]
    },
    {
     "name": "stderr",
     "output_type": "stream",
     "text": [
      "Warning message in mutate_impl(.data, dots):\n",
      "“binding character and factor vector, coercing into character vector”"
     ]
    },
    {
     "name": "stdout",
     "output_type": "stream",
     "text": [
      "[1] \"Crossref\"\n",
      "[1] 10.21992/\n",
      "379 Levels: 10.11577/ 10.11586/ 10.11588/ 10.1184/ 10.12682/ ... 10.7945/\n"
     ]
    },
    {
     "name": "stderr",
     "output_type": "stream",
     "text": [
      "Warning message in mutate_impl(.data, dots):\n",
      "“binding character and factor vector, coercing into character vector”"
     ]
    },
    {
     "name": "stdout",
     "output_type": "stream",
     "text": [
      "[1] \"DataCite\"\n",
      "[1] 10.15465/\n",
      "379 Levels: 10.11577/ 10.11586/ 10.11588/ 10.1184/ 10.12682/ ... 10.7945/\n",
      "[1] \"gesis.gesis\"\n",
      "[1] 10.15465/\n",
      "379 Levels: 10.11577/ 10.11586/ 10.11588/ 10.1184/ 10.12682/ ... 10.7945/\n"
     ]
    },
    {
     "name": "stderr",
     "output_type": "stream",
     "text": [
      "Warning message in mutate_impl(.data, dots):\n",
      "“binding character and factor vector, coercing into character vector”"
     ]
    },
    {
     "name": "stdout",
     "output_type": "stream",
     "text": [
      "[1] \"DataCite\"\n",
      "[1] 10.14473/\n",
      "379 Levels: 10.11577/ 10.11586/ 10.11588/ 10.1184/ 10.12682/ ... 10.7945/\n",
      "[1] \"gesis.csda\"\n",
      "[1] 10.14473/\n",
      "379 Levels: 10.11577/ 10.11586/ 10.11588/ 10.1184/ 10.12682/ ... 10.7945/\n"
     ]
    },
    {
     "name": "stderr",
     "output_type": "stream",
     "text": [
      "Warning message in mutate_impl(.data, dots):\n",
      "“binding character and factor vector, coercing into character vector”"
     ]
    },
    {
     "name": "stdout",
     "output_type": "stream",
     "text": [
      "[1] \"DataCite\"\n",
      "[1] 10.13125/\n",
      "379 Levels: 10.11577/ 10.11586/ 10.11588/ 10.1184/ 10.12682/ ... 10.7945/\n",
      "[1] \"crui.unica\"\n",
      "[1] 10.13125/\n",
      "379 Levels: 10.11577/ 10.11586/ 10.11588/ 10.1184/ 10.12682/ ... 10.7945/\n"
     ]
    },
    {
     "name": "stderr",
     "output_type": "stream",
     "text": [
      "Warning message in mutate_impl(.data, dots):\n",
      "“binding character and factor vector, coercing into character vector”"
     ]
    },
    {
     "name": "stdout",
     "output_type": "stream",
     "text": [
      "[1] \"DataCite\"\n",
      "[1] 10.15462/\n",
      "379 Levels: 10.11577/ 10.11586/ 10.11588/ 10.1184/ 10.12682/ ... 10.7945/\n",
      "[1] \"gesis.ijll\"\n",
      "[1] 10.15462/\n",
      "379 Levels: 10.11577/ 10.11586/ 10.11588/ 10.1184/ 10.12682/ ... 10.7945/\n"
     ]
    },
    {
     "name": "stderr",
     "output_type": "stream",
     "text": [
      "Warning message in mutate_impl(.data, dots):\n",
      "“binding character and factor vector, coercing into character vector”"
     ]
    },
    {
     "name": "stdout",
     "output_type": "stream",
     "text": [
      "[1] \"DataCite\"\n",
      "[1] 10.17197/\n",
      "379 Levels: 10.11577/ 10.11586/ 10.11588/ 10.1184/ 10.12682/ ... 10.7945/\n",
      "[1] \"snd.ddb\"\n",
      "[1] 10.17197/\n",
      "379 Levels: 10.11577/ 10.11586/ 10.11588/ 10.1184/ 10.12682/ ... 10.7945/\n"
     ]
    },
    {
     "name": "stderr",
     "output_type": "stream",
     "text": [
      "Warning message in mutate_impl(.data, dots):\n",
      "“binding character and factor vector, coercing into character vector”"
     ]
    },
    {
     "name": "stdout",
     "output_type": "stream",
     "text": [
      "[1] \"DataCite\"\n",
      "[1] 10.5446/\n",
      "379 Levels: 10.11577/ 10.11586/ 10.11588/ 10.1184/ 10.12682/ ... 10.7945/\n",
      "[1] \"tib.kmo\"\n",
      "[1] 10.5446/\n",
      "379 Levels: 10.11577/ 10.11586/ 10.11588/ 10.1184/ 10.12682/ ... 10.7945/\n"
     ]
    },
    {
     "name": "stderr",
     "output_type": "stream",
     "text": [
      "Warning message in mutate_impl(.data, dots):\n",
      "“binding character and factor vector, coercing into character vector”"
     ]
    },
    {
     "name": "stdout",
     "output_type": "stream",
     "text": [
      "[1] \"DataCite\"\n",
      "[1] 10.14457/\n",
      "379 Levels: 10.11577/ 10.11586/ 10.11588/ 10.1184/ 10.12682/ ... 10.7945/\n",
      "[1] \"nrct.db1\"\n",
      "[1] 10.14457/\n",
      "379 Levels: 10.11577/ 10.11586/ 10.11588/ 10.1184/ 10.12682/ ... 10.7945/\n"
     ]
    },
    {
     "name": "stderr",
     "output_type": "stream",
     "text": [
      "Warning message in mutate_impl(.data, dots):\n",
      "“binding character and factor vector, coercing into character vector”"
     ]
    },
    {
     "name": "stdout",
     "output_type": "stream",
     "text": [
      "[1] \"DataCite\"\n",
      "[1] 10.18462/\n",
      "379 Levels: 10.11577/ 10.11586/ 10.11588/ 10.1184/ 10.12682/ ... 10.7945/\n",
      "[1] \"inist.iif\"\n",
      "[1] 10.18462/\n",
      "379 Levels: 10.11577/ 10.11586/ 10.11588/ 10.1184/ 10.12682/ ... 10.7945/\n"
     ]
    },
    {
     "name": "stderr",
     "output_type": "stream",
     "text": [
      "Warning message in mutate_impl(.data, dots):\n",
      "“binding character and factor vector, coercing into character vector”"
     ]
    },
    {
     "name": "stdout",
     "output_type": "stream",
     "text": [
      "[1] \"DataCite\"\n",
      "[1] 10.24436/\n",
      "379 Levels: 10.11577/ 10.11586/ 10.11588/ 10.1184/ 10.12682/ ... 10.7945/\n",
      "[1] \"ethz.ubbern\"\n",
      "[1] 10.24436/\n",
      "379 Levels: 10.11577/ 10.11586/ 10.11588/ 10.1184/ 10.12682/ ... 10.7945/\n"
     ]
    },
    {
     "name": "stderr",
     "output_type": "stream",
     "text": [
      "Warning message in mutate_impl(.data, dots):\n",
      "“binding character and factor vector, coercing into character vector”"
     ]
    },
    {
     "name": "stdout",
     "output_type": "stream",
     "text": [
      "[1] \"DataCite\"\n",
      "[1] 10.20368/\n",
      "379 Levels: 10.11577/ 10.11586/ 10.11588/ 10.1184/ 10.12682/ ... 10.7945/\n",
      "[1] \"crui.sie-l\"\n",
      "[1] 10.20368/\n",
      "379 Levels: 10.11577/ 10.11586/ 10.11588/ 10.1184/ 10.12682/ ... 10.7945/\n"
     ]
    },
    {
     "name": "stderr",
     "output_type": "stream",
     "text": [
      "Warning message in mutate_impl(.data, dots):\n",
      "“binding character and factor vector, coercing into character vector”"
     ]
    },
    {
     "name": "stdout",
     "output_type": "stream",
     "text": [
      "[1] \"Crossref\"\n",
      "[1] 10.18432/\n",
      "379 Levels: 10.11577/ 10.11586/ 10.11588/ 10.1184/ 10.12682/ ... 10.7945/\n"
     ]
    },
    {
     "name": "stderr",
     "output_type": "stream",
     "text": [
      "Warning message in mutate_impl(.data, dots):\n",
      "“binding character and factor vector, coercing into character vector”"
     ]
    },
    {
     "name": "stdout",
     "output_type": "stream",
     "text": [
      "[1] \"DataCite\"\n",
      "[1] 10.18143/\n",
      "379 Levels: 10.11577/ 10.11586/ 10.11588/ 10.1184/ 10.12682/ ... 10.7945/\n",
      "[1] \"inist.medsys\"\n",
      "[1] 10.18143/\n",
      "379 Levels: 10.11577/ 10.11586/ 10.11588/ 10.1184/ 10.12682/ ... 10.7945/\n"
     ]
    },
    {
     "name": "stderr",
     "output_type": "stream",
     "text": [
      "Warning message in mutate_impl(.data, dots):\n",
      "“binding character and factor vector, coercing into character vector”"
     ]
    },
    {
     "name": "stdout",
     "output_type": "stream",
     "text": [
      "[1] \"DataCite\"\n",
      "[1] 10.5444/\n",
      "379 Levels: 10.11577/ 10.11586/ 10.11588/ 10.1184/ 10.12682/ ... 10.7945/\n",
      "[1] \"tib.esgar\"\n",
      "[1] 10.5444/\n",
      "379 Levels: 10.11577/ 10.11586/ 10.11588/ 10.1184/ 10.12682/ ... 10.7945/\n"
     ]
    },
    {
     "name": "stderr",
     "output_type": "stream",
     "text": [
      "Warning message in mutate_impl(.data, dots):\n",
      "“binding character and factor vector, coercing into character vector”"
     ]
    },
    {
     "name": "stdout",
     "output_type": "stream",
     "text": [
      "[1] \"DataCite\"\n",
      "[1] 10.21266/\n",
      "379 Levels: 10.11577/ 10.11586/ 10.11588/ 10.1184/ 10.12682/ ... 10.7945/\n",
      "[1] \"rads.main\"\n",
      "[1] 10.21266/\n",
      "379 Levels: 10.11577/ 10.11586/ 10.11588/ 10.1184/ 10.12682/ ... 10.7945/\n"
     ]
    },
    {
     "name": "stderr",
     "output_type": "stream",
     "text": [
      "Warning message in mutate_impl(.data, dots):\n",
      "“binding character and factor vector, coercing into character vector”"
     ]
    },
    {
     "name": "stdout",
     "output_type": "stream",
     "text": [
      "[1] \"DataCite\"\n",
      "[1] 10.21956/\n",
      "379 Levels: 10.11577/ 10.11586/ 10.11588/ 10.1184/ 10.12682/ ... 10.7945/\n",
      "[1] \"bl.f1000r\"\n",
      "[1] 10.21956/\n",
      "379 Levels: 10.11577/ 10.11586/ 10.11588/ 10.1184/ 10.12682/ ... 10.7945/\n"
     ]
    },
    {
     "name": "stderr",
     "output_type": "stream",
     "text": [
      "Warning message in mutate_impl(.data, dots):\n",
      "“binding character and factor vector, coercing into character vector”"
     ]
    },
    {
     "name": "stdout",
     "output_type": "stream",
     "text": [
      "[1] \"DataCite\"\n",
      "[1] 10.17608/\n",
      "379 Levels: 10.11577/ 10.11586/ 10.11588/ 10.1184/ 10.12682/ ... 10.7945/\n",
      "[1] \"cdl.uoa\"\n",
      "[1] 10.17608/\n",
      "379 Levels: 10.11577/ 10.11586/ 10.11588/ 10.1184/ 10.12682/ ... 10.7945/\n"
     ]
    },
    {
     "name": "stderr",
     "output_type": "stream",
     "text": [
      "Warning message in mutate_impl(.data, dots):\n",
      "“binding character and factor vector, coercing into character vector”"
     ]
    },
    {
     "name": "stdout",
     "output_type": "stream",
     "text": [
      "[1] \"DataCite\"\n",
      "[1] 10.15154/\n",
      "379 Levels: 10.11577/ 10.11586/ 10.11588/ 10.1184/ 10.12682/ ... 10.7945/\n",
      "[1] \"osti.nimh\"\n",
      "[1] 10.15154/\n",
      "379 Levels: 10.11577/ 10.11586/ 10.11588/ 10.1184/ 10.12682/ ... 10.7945/\n"
     ]
    },
    {
     "name": "stderr",
     "output_type": "stream",
     "text": [
      "Warning message in mutate_impl(.data, dots):\n",
      "“binding character and factor vector, coercing into character vector”"
     ]
    },
    {
     "name": "stdout",
     "output_type": "stream",
     "text": [
      "[1] \"DataCite\"\n",
      "[1] 10.21238/\n",
      "379 Levels: 10.11577/ 10.11586/ 10.11588/ 10.1184/ 10.12682/ ... 10.7945/\n",
      "[1] \"cdl.ucsd\"\n",
      "[1] 10.21238/\n",
      "379 Levels: 10.11577/ 10.11586/ 10.11588/ 10.1184/ 10.12682/ ... 10.7945/\n"
     ]
    },
    {
     "name": "stderr",
     "output_type": "stream",
     "text": [
      "Warning message in mutate_impl(.data, dots):\n",
      "“binding character and factor vector, coercing into character vector”"
     ]
    },
    {
     "name": "stdout",
     "output_type": "stream",
     "text": [
      "[1] \"DataCite\"\n",
      "[1] 10.18163/\n",
      "379 Levels: 10.11577/ 10.11586/ 10.11588/ 10.1184/ 10.12682/ ... 10.7945/\n",
      "[1] \"cisti.urpp\"\n",
      "[1] 10.18163/\n",
      "379 Levels: 10.11577/ 10.11586/ 10.11588/ 10.1184/ 10.12682/ ... 10.7945/\n"
     ]
    },
    {
     "name": "stderr",
     "output_type": "stream",
     "text": [
      "Warning message in mutate_impl(.data, dots):\n",
      "“binding character and factor vector, coercing into character vector”"
     ]
    },
    {
     "name": "stdout",
     "output_type": "stream",
     "text": [
      "[1] \"DataCite\"\n",
      "[1] 10.17890/\n",
      "379 Levels: 10.11577/ 10.11586/ 10.11588/ 10.1184/ 10.12682/ ... 10.7945/\n",
      "[1] \"gesis.ihi\"\n",
      "[1] 10.17890/\n",
      "379 Levels: 10.11577/ 10.11586/ 10.11588/ 10.1184/ 10.12682/ ... 10.7945/\n"
     ]
    },
    {
     "name": "stderr",
     "output_type": "stream",
     "text": [
      "Warning message in mutate_impl(.data, dots):\n",
      "“binding character and factor vector, coercing into character vector”"
     ]
    },
    {
     "name": "stdout",
     "output_type": "stream",
     "text": [
      "[1] \"DataCite\"\n",
      "[1] 10.5452/\n",
      "379 Levels: 10.11577/ 10.11586/ 10.11588/ 10.1184/ 10.12682/ ... 10.7945/\n",
      "[1] \"ethz.ma\"\n",
      "[1] 10.5452/\n",
      "379 Levels: 10.11577/ 10.11586/ 10.11588/ 10.1184/ 10.12682/ ... 10.7945/\n"
     ]
    },
    {
     "name": "stderr",
     "output_type": "stream",
     "text": [
      "Warning message in mutate_impl(.data, dots):\n",
      "“binding character and factor vector, coercing into character vector”"
     ]
    },
    {
     "name": "stdout",
     "output_type": "stream",
     "text": [
      "[1] \"DataCite\"\n",
      "[1] 10.13094/\n",
      "379 Levels: 10.11577/ 10.11586/ 10.11588/ 10.1184/ 10.12682/ ... 10.7945/\n",
      "[1] \"ethz.smif\"\n",
      "[1] 10.13094/\n",
      "379 Levels: 10.11577/ 10.11586/ 10.11588/ 10.1184/ 10.12682/ ... 10.7945/\n"
     ]
    },
    {
     "name": "stderr",
     "output_type": "stream",
     "text": [
      "Warning message in mutate_impl(.data, dots):\n",
      "“binding character and factor vector, coercing into character vector”"
     ]
    },
    {
     "name": "stdout",
     "output_type": "stream",
     "text": [
      "[1] \"DataCite\"\n",
      "[1] 10.5905/\n",
      "379 Levels: 10.11577/ 10.11586/ 10.11588/ 10.1184/ 10.12682/ ... 10.7945/\n",
      "[1] \"ethz.da-rd\"\n",
      "[1] 10.5905/\n",
      "379 Levels: 10.11577/ 10.11586/ 10.11588/ 10.1184/ 10.12682/ ... 10.7945/\n"
     ]
    },
    {
     "name": "stderr",
     "output_type": "stream",
     "text": [
      "Warning message in mutate_impl(.data, dots):\n",
      "“binding character and factor vector, coercing into character vector”"
     ]
    },
    {
     "name": "stdout",
     "output_type": "stream",
     "text": [
      "[1] \"DataCite\"\n",
      "[1] 10.14753/\n",
      "379 Levels: 10.11577/ 10.11586/ 10.11588/ 10.1184/ 10.12682/ ... 10.7945/\n",
      "[1] \"mtakik.se\"\n",
      "[1] 10.14753/\n",
      "379 Levels: 10.11577/ 10.11586/ 10.11588/ 10.1184/ 10.12682/ ... 10.7945/\n"
     ]
    },
    {
     "name": "stderr",
     "output_type": "stream",
     "text": [
      "Warning message in mutate_impl(.data, dots):\n",
      "“binding character and factor vector, coercing into character vector”"
     ]
    },
    {
     "name": "stdout",
     "output_type": "stream",
     "text": [
      "[1] \"DataCite\"\n",
      "[1] 10.7802/\n",
      "379 Levels: 10.11577/ 10.11586/ 10.11588/ 10.1184/ 10.12682/ ... 10.7945/\n",
      "[1] \"gesis.gesis\"\n",
      "[1] 10.7802/\n",
      "379 Levels: 10.11577/ 10.11586/ 10.11588/ 10.1184/ 10.12682/ ... 10.7945/\n"
     ]
    },
    {
     "name": "stderr",
     "output_type": "stream",
     "text": [
      "Warning message in mutate_impl(.data, dots):\n",
      "“binding character and factor vector, coercing into character vector”"
     ]
    },
    {
     "name": "stdout",
     "output_type": "stream",
     "text": [
      "[1] \"Crossref\"\n",
      "[1] 10.21230/\n",
      "379 Levels: 10.11577/ 10.11586/ 10.11588/ 10.1184/ 10.12682/ ... 10.7945/\n"
     ]
    },
    {
     "name": "stderr",
     "output_type": "stream",
     "text": [
      "Warning message in mutate_impl(.data, dots):\n",
      "“binding character and factor vector, coercing into character vector”"
     ]
    },
    {
     "name": "stdout",
     "output_type": "stream",
     "text": [
      "[1] \"DataCite\"\n",
      "[1] 10.23638/\n",
      "379 Levels: 10.11577/ 10.11586/ 10.11588/ 10.1184/ 10.12682/ ... 10.7945/\n",
      "[1] \"inist.inria\"\n",
      "[1] 10.23638/\n",
      "379 Levels: 10.11577/ 10.11586/ 10.11588/ 10.1184/ 10.12682/ ... 10.7945/\n"
     ]
    },
    {
     "name": "stderr",
     "output_type": "stream",
     "text": [
      "Warning message in mutate_impl(.data, dots):\n",
      "“binding character and factor vector, coercing into character vector”"
     ]
    },
    {
     "name": "stdout",
     "output_type": "stream",
     "text": [
      "[1] \"DataCite\"\n",
      "[1] 10.12766/\n",
      "379 Levels: 10.11577/ 10.11586/ 10.11588/ 10.1184/ 10.12682/ ... 10.7945/\n",
      "[1] \"gesis.jna\"\n",
      "[1] 10.12766/\n",
      "379 Levels: 10.11577/ 10.11586/ 10.11588/ 10.1184/ 10.12682/ ... 10.7945/\n"
     ]
    },
    {
     "name": "stderr",
     "output_type": "stream",
     "text": [
      "Warning message in mutate_impl(.data, dots):\n",
      "“binding character and factor vector, coercing into character vector”"
     ]
    },
    {
     "name": "stdout",
     "output_type": "stream",
     "text": [
      "[1] \"DataCite\"\n",
      "[1] 10.11577/\n",
      "379 Levels: 10.11577/ 10.11586/ 10.11588/ 10.1184/ 10.12682/ ... 10.7945/\n",
      "[1] \"osti.cxidb\"\n",
      "[1] 10.11577/\n",
      "379 Levels: 10.11577/ 10.11586/ 10.11588/ 10.1184/ 10.12682/ ... 10.7945/\n"
     ]
    },
    {
     "name": "stderr",
     "output_type": "stream",
     "text": [
      "Warning message in mutate_impl(.data, dots):\n",
      "“binding character and factor vector, coercing into character vector”"
     ]
    },
    {
     "name": "stdout",
     "output_type": "stream",
     "text": [
      "[1] \"Crossref\"\n",
      "[1] 10.21971/\n",
      "379 Levels: 10.11577/ 10.11586/ 10.11588/ 10.1184/ 10.12682/ ... 10.7945/\n"
     ]
    },
    {
     "name": "stderr",
     "output_type": "stream",
     "text": [
      "Warning message in mutate_impl(.data, dots):\n",
      "“binding character and factor vector, coercing into character vector”"
     ]
    },
    {
     "name": "stdout",
     "output_type": "stream",
     "text": [
      "[1] \"DataCite\"\n",
      "[1] 10.7936/\n",
      "379 Levels: 10.11577/ 10.11586/ 10.11588/ 10.1184/ 10.12682/ ... 10.7945/\n",
      "[1] \"cdl.wustl\"\n",
      "[1] 10.7936/\n",
      "379 Levels: 10.11577/ 10.11586/ 10.11588/ 10.1184/ 10.12682/ ... 10.7945/\n"
     ]
    },
    {
     "name": "stderr",
     "output_type": "stream",
     "text": [
      "Warning message in mutate_impl(.data, dots):\n",
      "“binding character and factor vector, coercing into character vector”"
     ]
    },
    {
     "name": "stdout",
     "output_type": "stream",
     "text": [
      "[1] \"DataCite\"\n",
      "[1] 10.7283/\n",
      "379 Levels: 10.11577/ 10.11586/ 10.11588/ 10.1184/ 10.12682/ ... 10.7945/\n",
      "[1] \"cdl.unavco\"\n",
      "[1] 10.7283/\n",
      "379 Levels: 10.11577/ 10.11586/ 10.11588/ 10.1184/ 10.12682/ ... 10.7945/\n"
     ]
    },
    {
     "name": "stderr",
     "output_type": "stream",
     "text": [
      "Warning message in mutate_impl(.data, dots):\n",
      "“binding character and factor vector, coercing into character vector”"
     ]
    },
    {
     "name": "stdout",
     "output_type": "stream",
     "text": [
      "[1] \"DataCite\"\n",
      "[1] 10.6072/\n",
      "379 Levels: 10.11577/ 10.11586/ 10.11588/ 10.1184/ 10.12682/ ... 10.7945/\n",
      "[1] \"cdl.sdscsg\"\n",
      "[1] 10.6072/\n",
      "379 Levels: 10.11577/ 10.11586/ 10.11588/ 10.1184/ 10.12682/ ... 10.7945/\n"
     ]
    },
    {
     "name": "stderr",
     "output_type": "stream",
     "text": [
      "Warning message in mutate_impl(.data, dots):\n",
      "“binding character and factor vector, coercing into character vector”"
     ]
    },
    {
     "name": "stdout",
     "output_type": "stream",
     "text": [
      "[1] \"DataCite\"\n",
      "[1] 10.21267/\n",
      "379 Levels: 10.11577/ 10.11586/ 10.11588/ 10.1184/ 10.12682/ ... 10.7945/\n",
      "[1] \"rads.main\"\n",
      "[1] 10.21267/\n",
      "379 Levels: 10.11577/ 10.11586/ 10.11588/ 10.1184/ 10.12682/ ... 10.7945/\n"
     ]
    },
    {
     "name": "stderr",
     "output_type": "stream",
     "text": [
      "Warning message in mutate_impl(.data, dots):\n",
      "“binding character and factor vector, coercing into character vector”"
     ]
    },
    {
     "name": "stdout",
     "output_type": "stream",
     "text": [
      "[1] \"DataCite\"\n",
      "[1] 10.23661/\n",
      "379 Levels: 10.11577/ 10.11586/ 10.11588/ 10.1184/ 10.12682/ ... 10.7945/\n",
      "[1] \"gesis.die-gdi\"\n",
      "[1] 10.23661/\n",
      "379 Levels: 10.11577/ 10.11586/ 10.11588/ 10.1184/ 10.12682/ ... 10.7945/\n"
     ]
    },
    {
     "name": "stderr",
     "output_type": "stream",
     "text": [
      "Warning message in mutate_impl(.data, dots):\n",
      "“binding character and factor vector, coercing into character vector”"
     ]
    },
    {
     "name": "stdout",
     "output_type": "stream",
     "text": [
      "[1] \"DataCite\"\n",
      "[1] 10.13097/\n",
      "379 Levels: 10.11577/ 10.11586/ 10.11588/ 10.1184/ 10.12682/ ... 10.7945/\n",
      "[1] \"ethz.unigenf\"\n",
      "[1] 10.13097/\n",
      "379 Levels: 10.11577/ 10.11586/ 10.11588/ 10.1184/ 10.12682/ ... 10.7945/\n"
     ]
    },
    {
     "name": "stderr",
     "output_type": "stream",
     "text": [
      "Warning message in mutate_impl(.data, dots):\n",
      "“binding character and factor vector, coercing into character vector”"
     ]
    },
    {
     "name": "stdout",
     "output_type": "stream",
     "text": [
      "[1] \"DataCite\"\n",
      "[1] 10.21433/\n",
      "379 Levels: 10.11577/ 10.11586/ 10.11588/ 10.1184/ 10.12682/ ... 10.7945/\n",
      "[1] \"cdl.ucb\"\n",
      "[1] 10.21433/\n",
      "379 Levels: 10.11577/ 10.11586/ 10.11588/ 10.1184/ 10.12682/ ... 10.7945/\n"
     ]
    },
    {
     "name": "stderr",
     "output_type": "stream",
     "text": [
      "Warning message in mutate_impl(.data, dots):\n",
      "“binding character and factor vector, coercing into character vector”"
     ]
    },
    {
     "name": "stdout",
     "output_type": "stream",
     "text": [
      "[1] \"DataCite\"\n",
      "[1] 10.13009/\n",
      "379 Levels: 10.11577/ 10.11586/ 10.11588/ 10.1184/ 10.12682/ ... 10.7945/\n",
      "[1] \"inist.onera\"\n",
      "[1] 10.13009/\n",
      "379 Levels: 10.11577/ 10.11586/ 10.11588/ 10.1184/ 10.12682/ ... 10.7945/\n"
     ]
    },
    {
     "name": "stderr",
     "output_type": "stream",
     "text": [
      "Warning message in mutate_impl(.data, dots):\n",
      "“binding character and factor vector, coercing into character vector”"
     ]
    },
    {
     "name": "stdout",
     "output_type": "stream",
     "text": [
      "[1] \"DataCite\"\n",
      "[1] 10.25423/\n",
      "379 Levels: 10.11577/ 10.11586/ 10.11588/ 10.1184/ 10.12682/ ... 10.7945/\n",
      "[1] \"cmcc.opa\"\n",
      "[1] 10.25423/\n",
      "379 Levels: 10.11577/ 10.11586/ 10.11588/ 10.1184/ 10.12682/ ... 10.7945/\n"
     ]
    },
    {
     "name": "stderr",
     "output_type": "stream",
     "text": [
      "Warning message in mutate_impl(.data, dots):\n",
      "“binding character and factor vector, coercing into character vector”"
     ]
    }
   ],
   "source": [
    "dd<-get_listOfPrefix_Names(data_pack)"
   ]
  },
  {
   "cell_type": "code",
   "execution_count": 194,
   "metadata": {},
   "outputs": [],
   "source": [
    "get_listOfPrefix_Names_sub<-function(data){\n",
    "    prefixes<-as.data.frame(unique(data$subj_prefix))\n",
    "    prefixes$value<-prefixes$`unique(data$subj_prefix)`\n",
    "    colnames(prefixes)[2] <- \"subj_prefix\"\n",
    "\n",
    "\n",
    "    prefixes <- prefixes %>% \n",
    "        rowwise() %>% \n",
    "        mutate(\n",
    "            subj_dc = as.factor(get_datacentreName(subj_prefix)) \n",
    "        )\n",
    "    return(prefixes)\n",
    "}\n",
    "# get_listOfPrefix_Names(data_pack)"
   ]
  },
  {
   "cell_type": "code",
   "execution_count": 195,
   "metadata": {},
   "outputs": [
    {
     "name": "stdout",
     "output_type": "stream",
     "text": [
      "[1] \"Crossref\"\n",
      "[1] 10.1109/\n",
      "298 Levels: 10.1002/ 10.1007/ 10.1016/ 10.1017/ 10.1021/ 10.1023/ ... 10.7906/\n",
      "[1] \"Crossref\"\n",
      "[1] 10.1111/\n",
      "298 Levels: 10.1002/ 10.1007/ 10.1016/ 10.1017/ 10.1021/ 10.1023/ ... 10.7906/\n"
     ]
    },
    {
     "name": "stderr",
     "output_type": "stream",
     "text": [
      "Warning message in mutate_impl(.data, dots):\n",
      "“Unequal factor levels: coercing to character”Warning message in mutate_impl(.data, dots):\n",
      "“binding character and factor vector, coercing into character vector”Warning message in mutate_impl(.data, dots):\n",
      "“binding character and factor vector, coercing into character vector”"
     ]
    },
    {
     "name": "stdout",
     "output_type": "stream",
     "text": [
      "[1] \"Crossref\"\n",
      "[1] 10.1007/\n",
      "298 Levels: 10.1002/ 10.1007/ 10.1016/ 10.1017/ 10.1021/ 10.1023/ ... 10.7906/\n"
     ]
    },
    {
     "name": "stderr",
     "output_type": "stream",
     "text": [
      "Warning message in mutate_impl(.data, dots):\n",
      "“binding character and factor vector, coercing into character vector”"
     ]
    },
    {
     "name": "stdout",
     "output_type": "stream",
     "text": [
      "[1] \"Crossref\"\n",
      "[1] 10.1080/\n",
      "298 Levels: 10.1002/ 10.1007/ 10.1016/ 10.1017/ 10.1021/ 10.1023/ ... 10.7906/\n"
     ]
    },
    {
     "name": "stderr",
     "output_type": "stream",
     "text": [
      "Warning message in mutate_impl(.data, dots):\n",
      "“binding character and factor vector, coercing into character vector”"
     ]
    },
    {
     "name": "stdout",
     "output_type": "stream",
     "text": [
      "[1] \"Crossref\"\n",
      "[1] 10.12688/\n",
      "298 Levels: 10.1002/ 10.1007/ 10.1016/ 10.1017/ 10.1021/ 10.1023/ ... 10.7906/\n"
     ]
    },
    {
     "name": "stderr",
     "output_type": "stream",
     "text": [
      "Warning message in mutate_impl(.data, dots):\n",
      "“binding character and factor vector, coercing into character vector”"
     ]
    },
    {
     "name": "stdout",
     "output_type": "stream",
     "text": [
      "[1] \"Crossref\"\n",
      "[1] 10.3109/\n",
      "298 Levels: 10.1002/ 10.1007/ 10.1016/ 10.1017/ 10.1021/ 10.1023/ ... 10.7906/\n"
     ]
    },
    {
     "name": "stderr",
     "output_type": "stream",
     "text": [
      "Warning message in mutate_impl(.data, dots):\n",
      "“binding character and factor vector, coercing into character vector”"
     ]
    },
    {
     "name": "stdout",
     "output_type": "stream",
     "text": [
      "[1] \"Crossref\"\n",
      "[1] 10.17795/\n",
      "298 Levels: 10.1002/ 10.1007/ 10.1016/ 10.1017/ 10.1021/ 10.1023/ ... 10.7906/\n"
     ]
    },
    {
     "name": "stderr",
     "output_type": "stream",
     "text": [
      "Warning message in mutate_impl(.data, dots):\n",
      "“binding character and factor vector, coercing into character vector”"
     ]
    },
    {
     "name": "stdout",
     "output_type": "stream",
     "text": [
      "[1] \"Crossref\"\n",
      "[1] 10.7554/\n",
      "298 Levels: 10.1002/ 10.1007/ 10.1016/ 10.1017/ 10.1021/ 10.1023/ ... 10.7906/\n"
     ]
    },
    {
     "name": "stderr",
     "output_type": "stream",
     "text": [
      "Warning message in mutate_impl(.data, dots):\n",
      "“binding character and factor vector, coercing into character vector”"
     ]
    },
    {
     "name": "stdout",
     "output_type": "stream",
     "text": [
      "[1] \"Crossref\"\n",
      "[1] 10.1177/\n",
      "298 Levels: 10.1002/ 10.1007/ 10.1016/ 10.1017/ 10.1021/ 10.1023/ ... 10.7906/\n"
     ]
    },
    {
     "name": "stderr",
     "output_type": "stream",
     "text": [
      "Warning message in mutate_impl(.data, dots):\n",
      "“binding character and factor vector, coercing into character vector”"
     ]
    },
    {
     "name": "stdout",
     "output_type": "stream",
     "text": [
      "[1] \"Crossref\"\n",
      "[1] 10.1108/\n",
      "298 Levels: 10.1002/ 10.1007/ 10.1016/ 10.1017/ 10.1021/ 10.1023/ ... 10.7906/\n"
     ]
    },
    {
     "name": "stderr",
     "output_type": "stream",
     "text": [
      "Warning message in mutate_impl(.data, dots):\n",
      "“binding character and factor vector, coercing into character vector”"
     ]
    },
    {
     "name": "stdout",
     "output_type": "stream",
     "text": [
      "[1] \"Crossref\"\n",
      "[1] 10.1002/\n",
      "298 Levels: 10.1002/ 10.1007/ 10.1016/ 10.1017/ 10.1021/ 10.1023/ ... 10.7906/\n"
     ]
    },
    {
     "name": "stderr",
     "output_type": "stream",
     "text": [
      "Warning message in mutate_impl(.data, dots):\n",
      "“binding character and factor vector, coercing into character vector”"
     ]
    },
    {
     "name": "stdout",
     "output_type": "stream",
     "text": [
      "[1] \"Crossref\"\n",
      "[1] 10.1155/\n",
      "298 Levels: 10.1002/ 10.1007/ 10.1016/ 10.1017/ 10.1021/ 10.1023/ ... 10.7906/\n"
     ]
    },
    {
     "name": "stderr",
     "output_type": "stream",
     "text": [
      "Warning message in mutate_impl(.data, dots):\n",
      "“binding character and factor vector, coercing into character vector”"
     ]
    },
    {
     "name": "stdout",
     "output_type": "stream",
     "text": [
      "[1] \"Crossref\"\n",
      "[1] 10.1063/\n",
      "298 Levels: 10.1002/ 10.1007/ 10.1016/ 10.1017/ 10.1021/ 10.1023/ ... 10.7906/\n"
     ]
    },
    {
     "name": "stderr",
     "output_type": "stream",
     "text": [
      "Warning message in mutate_impl(.data, dots):\n",
      "“binding character and factor vector, coercing into character vector”"
     ]
    },
    {
     "name": "stdout",
     "output_type": "stream",
     "text": [
      "[1] \"Crossref\"\n",
      "[1] 10.2204/\n",
      "298 Levels: 10.1002/ 10.1007/ 10.1016/ 10.1017/ 10.1021/ 10.1023/ ... 10.7906/\n"
     ]
    },
    {
     "name": "stderr",
     "output_type": "stream",
     "text": [
      "Warning message in mutate_impl(.data, dots):\n",
      "“binding character and factor vector, coercing into character vector”"
     ]
    },
    {
     "name": "stdout",
     "output_type": "stream",
     "text": [
      "[1] \"Crossref\"\n",
      "[1] 10.1016/\n",
      "298 Levels: 10.1002/ 10.1007/ 10.1016/ 10.1017/ 10.1021/ 10.1023/ ... 10.7906/\n"
     ]
    },
    {
     "name": "stderr",
     "output_type": "stream",
     "text": [
      "Warning message in mutate_impl(.data, dots):\n",
      "“binding character and factor vector, coercing into character vector”"
     ]
    },
    {
     "name": "stdout",
     "output_type": "stream",
     "text": [
      "[1] \"Crossref\"\n",
      "[1] 10.1201/\n",
      "298 Levels: 10.1002/ 10.1007/ 10.1016/ 10.1017/ 10.1021/ 10.1023/ ... 10.7906/\n"
     ]
    },
    {
     "name": "stderr",
     "output_type": "stream",
     "text": [
      "Warning message in mutate_impl(.data, dots):\n",
      "“binding character and factor vector, coercing into character vector”"
     ]
    },
    {
     "name": "stdout",
     "output_type": "stream",
     "text": [
      "[1] \"Crossref\"\n",
      "[1] 10.1075/\n",
      "298 Levels: 10.1002/ 10.1007/ 10.1016/ 10.1017/ 10.1021/ 10.1023/ ... 10.7906/\n"
     ]
    },
    {
     "name": "stderr",
     "output_type": "stream",
     "text": [
      "Warning message in mutate_impl(.data, dots):\n",
      "“binding character and factor vector, coercing into character vector”"
     ]
    },
    {
     "name": "stdout",
     "output_type": "stream",
     "text": [
      "[1] \"Crossref\"\n",
      "[1] 10.14379/\n",
      "298 Levels: 10.1002/ 10.1007/ 10.1016/ 10.1017/ 10.1021/ 10.1023/ ... 10.7906/\n"
     ]
    },
    {
     "name": "stderr",
     "output_type": "stream",
     "text": [
      "Warning message in mutate_impl(.data, dots):\n",
      "“binding character and factor vector, coercing into character vector”"
     ]
    },
    {
     "name": "stdout",
     "output_type": "stream",
     "text": [
      "[1] \"Crossref\"\n",
      "[1] 10.1140/\n",
      "298 Levels: 10.1002/ 10.1007/ 10.1016/ 10.1017/ 10.1021/ 10.1023/ ... 10.7906/\n"
     ]
    },
    {
     "name": "stderr",
     "output_type": "stream",
     "text": [
      "Warning message in mutate_impl(.data, dots):\n",
      "“binding character and factor vector, coercing into character vector”"
     ]
    },
    {
     "name": "stdout",
     "output_type": "stream",
     "text": [
      "[1] \"Crossref\"\n",
      "[1] 10.3390/\n",
      "298 Levels: 10.1002/ 10.1007/ 10.1016/ 10.1017/ 10.1021/ 10.1023/ ... 10.7906/\n"
     ]
    },
    {
     "name": "stderr",
     "output_type": "stream",
     "text": [
      "Warning message in mutate_impl(.data, dots):\n",
      "“binding character and factor vector, coercing into character vector”"
     ]
    },
    {
     "name": "stdout",
     "output_type": "stream",
     "text": [
      "[1] \"Crossref\"\n",
      "[1] 10.1093/\n",
      "298 Levels: 10.1002/ 10.1007/ 10.1016/ 10.1017/ 10.1021/ 10.1023/ ... 10.7906/\n"
     ]
    },
    {
     "name": "stderr",
     "output_type": "stream",
     "text": [
      "Warning message in mutate_impl(.data, dots):\n",
      "“binding character and factor vector, coercing into character vector”"
     ]
    },
    {
     "name": "stdout",
     "output_type": "stream",
     "text": [
      "[1] \"Crossref\"\n",
      "[1] 10.1186/\n",
      "298 Levels: 10.1002/ 10.1007/ 10.1016/ 10.1017/ 10.1021/ 10.1023/ ... 10.7906/\n"
     ]
    },
    {
     "name": "stderr",
     "output_type": "stream",
     "text": [
      "Warning message in mutate_impl(.data, dots):\n",
      "“binding character and factor vector, coercing into character vector”"
     ]
    },
    {
     "name": "stdout",
     "output_type": "stream",
     "text": [
      "[1] \"Crossref\"\n",
      "[1] 10.1159/\n",
      "298 Levels: 10.1002/ 10.1007/ 10.1016/ 10.1017/ 10.1021/ 10.1023/ ... 10.7906/\n"
     ]
    },
    {
     "name": "stderr",
     "output_type": "stream",
     "text": [
      "Warning message in mutate_impl(.data, dots):\n",
      "“binding character and factor vector, coercing into character vector”"
     ]
    },
    {
     "name": "stdout",
     "output_type": "stream",
     "text": [
      "[1] \"Crossref\"\n",
      "[1] 10.1099/\n",
      "298 Levels: 10.1002/ 10.1007/ 10.1016/ 10.1017/ 10.1021/ 10.1023/ ... 10.7906/\n"
     ]
    },
    {
     "name": "stderr",
     "output_type": "stream",
     "text": [
      "Warning message in mutate_impl(.data, dots):\n",
      "“binding character and factor vector, coercing into character vector”"
     ]
    },
    {
     "name": "stdout",
     "output_type": "stream",
     "text": [
      "[1] \"Crossref\"\n",
      "[1] 10.1142/\n",
      "298 Levels: 10.1002/ 10.1007/ 10.1016/ 10.1017/ 10.1021/ 10.1023/ ... 10.7906/\n"
     ]
    },
    {
     "name": "stderr",
     "output_type": "stream",
     "text": [
      "Warning message in mutate_impl(.data, dots):\n",
      "“binding character and factor vector, coercing into character vector”"
     ]
    },
    {
     "name": "stdout",
     "output_type": "stream",
     "text": [
      "[1] \"Crossref\"\n",
      "[1] 10.1021/\n",
      "298 Levels: 10.1002/ 10.1007/ 10.1016/ 10.1017/ 10.1021/ 10.1023/ ... 10.7906/\n"
     ]
    },
    {
     "name": "stderr",
     "output_type": "stream",
     "text": [
      "Warning message in mutate_impl(.data, dots):\n",
      "“binding character and factor vector, coercing into character vector”"
     ]
    },
    {
     "name": "stdout",
     "output_type": "stream",
     "text": [
      "[1] \"Crossref\"\n",
      "[1] 10.1088/\n",
      "298 Levels: 10.1002/ 10.1007/ 10.1016/ 10.1017/ 10.1021/ 10.1023/ ... 10.7906/\n"
     ]
    },
    {
     "name": "stderr",
     "output_type": "stream",
     "text": [
      "Warning message in mutate_impl(.data, dots):\n",
      "“binding character and factor vector, coercing into character vector”"
     ]
    },
    {
     "name": "stdout",
     "output_type": "stream",
     "text": [
      "[1] \"Crossref\"\n",
      "[1] 10.1038/\n",
      "298 Levels: 10.1002/ 10.1007/ 10.1016/ 10.1017/ 10.1021/ 10.1023/ ... 10.7906/\n"
     ]
    },
    {
     "name": "stderr",
     "output_type": "stream",
     "text": [
      "Warning message in mutate_impl(.data, dots):\n",
      "“binding character and factor vector, coercing into character vector”"
     ]
    },
    {
     "name": "stdout",
     "output_type": "stream",
     "text": [
      "[1] \"Crossref\"\n",
      "[1] 10.1029/\n",
      "298 Levels: 10.1002/ 10.1007/ 10.1016/ 10.1017/ 10.1021/ 10.1023/ ... 10.7906/\n"
     ]
    },
    {
     "name": "stderr",
     "output_type": "stream",
     "text": [
      "Warning message in mutate_impl(.data, dots):\n",
      "“binding character and factor vector, coercing into character vector”"
     ]
    },
    {
     "name": "stdout",
     "output_type": "stream",
     "text": [
      "[1] \"Crossref\"\n",
      "[1] 10.3402/\n",
      "298 Levels: 10.1002/ 10.1007/ 10.1016/ 10.1017/ 10.1021/ 10.1023/ ... 10.7906/\n"
     ]
    },
    {
     "name": "stderr",
     "output_type": "stream",
     "text": [
      "Warning message in mutate_impl(.data, dots):\n",
      "“binding character and factor vector, coercing into character vector”"
     ]
    },
    {
     "name": "stdout",
     "output_type": "stream",
     "text": [
      "[1] \"Crossref\"\n",
      "[1] 10.1259/\n",
      "298 Levels: 10.1002/ 10.1007/ 10.1016/ 10.1017/ 10.1021/ 10.1023/ ... 10.7906/\n"
     ]
    },
    {
     "name": "stderr",
     "output_type": "stream",
     "text": [
      "Warning message in mutate_impl(.data, dots):\n",
      "“binding character and factor vector, coercing into character vector”"
     ]
    },
    {
     "name": "stdout",
     "output_type": "stream",
     "text": [
      "[1] \"Crossref\"\n",
      "[1] 10.1039/\n",
      "298 Levels: 10.1002/ 10.1007/ 10.1016/ 10.1017/ 10.1021/ 10.1023/ ... 10.7906/\n"
     ]
    },
    {
     "name": "stderr",
     "output_type": "stream",
     "text": [
      "Warning message in mutate_impl(.data, dots):\n",
      "“binding character and factor vector, coercing into character vector”"
     ]
    },
    {
     "name": "stdout",
     "output_type": "stream",
     "text": [
      "[1] \"Crossref\"\n",
      "[1] 10.1122/\n",
      "298 Levels: 10.1002/ 10.1007/ 10.1016/ 10.1017/ 10.1021/ 10.1023/ ... 10.7906/\n"
     ]
    },
    {
     "name": "stderr",
     "output_type": "stream",
     "text": [
      "Warning message in mutate_impl(.data, dots):\n",
      "“binding character and factor vector, coercing into character vector”"
     ]
    },
    {
     "name": "stdout",
     "output_type": "stream",
     "text": [
      "[1] \"Crossref\"\n",
      "[1] 10.1118/\n",
      "298 Levels: 10.1002/ 10.1007/ 10.1016/ 10.1017/ 10.1021/ 10.1023/ ... 10.7906/\n"
     ]
    },
    {
     "name": "stderr",
     "output_type": "stream",
     "text": [
      "Warning message in mutate_impl(.data, dots):\n",
      "“binding character and factor vector, coercing into character vector”"
     ]
    },
    {
     "name": "stdout",
     "output_type": "stream",
     "text": [
      "[1] \"Crossref\"\n",
      "[1] 10.1119/\n",
      "298 Levels: 10.1002/ 10.1007/ 10.1016/ 10.1017/ 10.1021/ 10.1023/ ... 10.7906/\n"
     ]
    },
    {
     "name": "stderr",
     "output_type": "stream",
     "text": [
      "Warning message in mutate_impl(.data, dots):\n",
      "“binding character and factor vector, coercing into character vector”"
     ]
    },
    {
     "name": "stdout",
     "output_type": "stream",
     "text": [
      "[1] \"Crossref\"\n",
      "[1] 10.1121/\n",
      "298 Levels: 10.1002/ 10.1007/ 10.1016/ 10.1017/ 10.1021/ 10.1023/ ... 10.7906/\n"
     ]
    },
    {
     "name": "stderr",
     "output_type": "stream",
     "text": [
      "Warning message in mutate_impl(.data, dots):\n",
      "“binding character and factor vector, coercing into character vector”"
     ]
    },
    {
     "name": "stdout",
     "output_type": "stream",
     "text": [
      "[1] \"Crossref\"\n",
      "[1] 10.1057/\n",
      "298 Levels: 10.1002/ 10.1007/ 10.1016/ 10.1017/ 10.1021/ 10.1023/ ... 10.7906/\n"
     ]
    },
    {
     "name": "stderr",
     "output_type": "stream",
     "text": [
      "Warning message in mutate_impl(.data, dots):\n",
      "“binding character and factor vector, coercing into character vector”"
     ]
    },
    {
     "name": "stdout",
     "output_type": "stream",
     "text": [
      "[1] \"Crossref\"\n",
      "[1] 10.1149/\n",
      "298 Levels: 10.1002/ 10.1007/ 10.1016/ 10.1017/ 10.1021/ 10.1023/ ... 10.7906/\n"
     ]
    },
    {
     "name": "stderr",
     "output_type": "stream",
     "text": [
      "Warning message in mutate_impl(.data, dots):\n",
      "“binding character and factor vector, coercing into character vector”"
     ]
    },
    {
     "name": "stdout",
     "output_type": "stream",
     "text": [
      "[1] \"Crossref\"\n",
      "[1] 10.1070/\n",
      "298 Levels: 10.1002/ 10.1007/ 10.1016/ 10.1017/ 10.1021/ 10.1023/ ... 10.7906/\n"
     ]
    },
    {
     "name": "stderr",
     "output_type": "stream",
     "text": [
      "Warning message in mutate_impl(.data, dots):\n",
      "“binding character and factor vector, coercing into character vector”"
     ]
    },
    {
     "name": "stdout",
     "output_type": "stream",
     "text": [
      "[1] \"Crossref\"\n",
      "[1] 10.1073/\n",
      "298 Levels: 10.1002/ 10.1007/ 10.1016/ 10.1017/ 10.1021/ 10.1023/ ... 10.7906/\n"
     ]
    },
    {
     "name": "stderr",
     "output_type": "stream",
     "text": [
      "Warning message in mutate_impl(.data, dots):\n",
      "“binding character and factor vector, coercing into character vector”"
     ]
    },
    {
     "name": "stdout",
     "output_type": "stream",
     "text": [
      "[1] \"Crossref\"\n",
      "[1] 10.3847/\n",
      "298 Levels: 10.1002/ 10.1007/ 10.1016/ 10.1017/ 10.1021/ 10.1023/ ... 10.7906/\n"
     ]
    },
    {
     "name": "stderr",
     "output_type": "stream",
     "text": [
      "Warning message in mutate_impl(.data, dots):\n",
      "“binding character and factor vector, coercing into character vector”"
     ]
    },
    {
     "name": "stdout",
     "output_type": "stream",
     "text": [
      "[1] \"Crossref\"\n",
      "[1] 10.1097/\n",
      "298 Levels: 10.1002/ 10.1007/ 10.1016/ 10.1017/ 10.1021/ 10.1023/ ... 10.7906/\n"
     ]
    },
    {
     "name": "stderr",
     "output_type": "stream",
     "text": [
      "Warning message in mutate_impl(.data, dots):\n",
      "“binding character and factor vector, coercing into character vector”"
     ]
    },
    {
     "name": "stdout",
     "output_type": "stream",
     "text": [
      "[1] \"Crossref\"\n",
      "[1] 10.1103/\n",
      "298 Levels: 10.1002/ 10.1007/ 10.1016/ 10.1017/ 10.1021/ 10.1023/ ... 10.7906/\n"
     ]
    },
    {
     "name": "stderr",
     "output_type": "stream",
     "text": [
      "Warning message in mutate_impl(.data, dots):\n",
      "“binding character and factor vector, coercing into character vector”"
     ]
    },
    {
     "name": "stdout",
     "output_type": "stream",
     "text": [
      "[1] \"Crossref\"\n",
      "[1] 10.1089/\n",
      "298 Levels: 10.1002/ 10.1007/ 10.1016/ 10.1017/ 10.1021/ 10.1023/ ... 10.7906/\n"
     ]
    },
    {
     "name": "stderr",
     "output_type": "stream",
     "text": [
      "Warning message in mutate_impl(.data, dots):\n",
      "“binding character and factor vector, coercing into character vector”"
     ]
    },
    {
     "name": "stdout",
     "output_type": "stream",
     "text": [
      "[1] \"Crossref\"\n",
      "[1] 10.1116/\n",
      "298 Levels: 10.1002/ 10.1007/ 10.1016/ 10.1017/ 10.1021/ 10.1023/ ... 10.7906/\n"
     ]
    },
    {
     "name": "stderr",
     "output_type": "stream",
     "text": [
      "Warning message in mutate_impl(.data, dots):\n",
      "“binding character and factor vector, coercing into character vector”"
     ]
    },
    {
     "name": "stdout",
     "output_type": "stream",
     "text": [
      "[1] \"Crossref\"\n",
      "[1] 10.7567/\n",
      "298 Levels: 10.1002/ 10.1007/ 10.1016/ 10.1017/ 10.1021/ 10.1023/ ... 10.7906/\n"
     ]
    },
    {
     "name": "stderr",
     "output_type": "stream",
     "text": [
      "Warning message in mutate_impl(.data, dots):\n",
      "“binding character and factor vector, coercing into character vector”"
     ]
    },
    {
     "name": "stdout",
     "output_type": "stream",
     "text": [
      "[1] \"Crossref\"\n",
      "[1] 10.1146/\n",
      "298 Levels: 10.1002/ 10.1007/ 10.1016/ 10.1017/ 10.1021/ 10.1023/ ... 10.7906/\n"
     ]
    },
    {
     "name": "stderr",
     "output_type": "stream",
     "text": [
      "Warning message in mutate_impl(.data, dots):\n",
      "“binding character and factor vector, coercing into character vector”"
     ]
    },
    {
     "name": "stdout",
     "output_type": "stream",
     "text": [
      "[1] \"Crossref\"\n",
      "[1] 10.1139/\n",
      "298 Levels: 10.1002/ 10.1007/ 10.1016/ 10.1017/ 10.1021/ 10.1023/ ... 10.7906/\n"
     ]
    },
    {
     "name": "stderr",
     "output_type": "stream",
     "text": [
      "Warning message in mutate_impl(.data, dots):\n",
      "“binding character and factor vector, coercing into character vector”"
     ]
    },
    {
     "name": "stdout",
     "output_type": "stream",
     "text": [
      "[1] \"Crossref\"\n",
      "[1] 10.7566/\n",
      "298 Levels: 10.1002/ 10.1007/ 10.1016/ 10.1017/ 10.1021/ 10.1023/ ... 10.7906/\n"
     ]
    },
    {
     "name": "stderr",
     "output_type": "stream",
     "text": [
      "Warning message in mutate_impl(.data, dots):\n",
      "“binding character and factor vector, coercing into character vector”"
     ]
    },
    {
     "name": "stdout",
     "output_type": "stream",
     "text": [
      "[1] \"Crossref\"\n",
      "[1] 10.1162/\n",
      "298 Levels: 10.1002/ 10.1007/ 10.1016/ 10.1017/ 10.1021/ 10.1023/ ... 10.7906/\n"
     ]
    },
    {
     "name": "stderr",
     "output_type": "stream",
     "text": [
      "Warning message in mutate_impl(.data, dots):\n",
      "“binding character and factor vector, coercing into character vector”"
     ]
    },
    {
     "name": "stdout",
     "output_type": "stream",
     "text": [
      "[1] \"Crossref\"\n",
      "[1] 10.1190/\n",
      "298 Levels: 10.1002/ 10.1007/ 10.1016/ 10.1017/ 10.1021/ 10.1023/ ... 10.7906/\n"
     ]
    },
    {
     "name": "stderr",
     "output_type": "stream",
     "text": [
      "Warning message in mutate_impl(.data, dots):\n",
      "“binding character and factor vector, coercing into character vector”"
     ]
    },
    {
     "name": "stdout",
     "output_type": "stream",
     "text": [
      "[1] \"Crossref\"\n",
      "[1] 10.1261/\n",
      "298 Levels: 10.1002/ 10.1007/ 10.1016/ 10.1017/ 10.1021/ 10.1023/ ... 10.7906/\n"
     ]
    },
    {
     "name": "stderr",
     "output_type": "stream",
     "text": [
      "Warning message in mutate_impl(.data, dots):\n",
      "“binding character and factor vector, coercing into character vector”"
     ]
    },
    {
     "name": "stdout",
     "output_type": "stream",
     "text": [
      "[1] \"Crossref\"\n",
      "[1] 10.1017/\n",
      "298 Levels: 10.1002/ 10.1007/ 10.1016/ 10.1017/ 10.1021/ 10.1023/ ... 10.7906/\n"
     ]
    },
    {
     "name": "stderr",
     "output_type": "stream",
     "text": [
      "Warning message in mutate_impl(.data, dots):\n",
      "“binding character and factor vector, coercing into character vector”"
     ]
    },
    {
     "name": "stdout",
     "output_type": "stream",
     "text": [
      "[1] \"Crossref\"\n",
      "[1] 10.1182/\n",
      "298 Levels: 10.1002/ 10.1007/ 10.1016/ 10.1017/ 10.1021/ 10.1023/ ... 10.7906/\n"
     ]
    },
    {
     "name": "stderr",
     "output_type": "stream",
     "text": [
      "Warning message in mutate_impl(.data, dots):\n",
      "“binding character and factor vector, coercing into character vector”"
     ]
    },
    {
     "name": "stdout",
     "output_type": "stream",
     "text": [
      "[1] \"Crossref\"\n",
      "[1] 10.1164/\n",
      "298 Levels: 10.1002/ 10.1007/ 10.1016/ 10.1017/ 10.1021/ 10.1023/ ... 10.7906/\n"
     ]
    },
    {
     "name": "stderr",
     "output_type": "stream",
     "text": [
      "Warning message in mutate_impl(.data, dots):\n",
      "“binding character and factor vector, coercing into character vector”"
     ]
    },
    {
     "name": "stdout",
     "output_type": "stream",
     "text": [
      "[1] \"Crossref\"\n",
      "[1] 10.1126/\n",
      "298 Levels: 10.1002/ 10.1007/ 10.1016/ 10.1017/ 10.1021/ 10.1023/ ... 10.7906/\n"
     ]
    },
    {
     "name": "stderr",
     "output_type": "stream",
     "text": [
      "Warning message in mutate_impl(.data, dots):\n",
      "“binding character and factor vector, coercing into character vector”"
     ]
    },
    {
     "name": "stdout",
     "output_type": "stream",
     "text": [
      "[1] \"mEDRA\"\n",
      "[1] 10.3233/\n",
      "298 Levels: 10.1002/ 10.1007/ 10.1016/ 10.1017/ 10.1021/ 10.1023/ ... 10.7906/\n"
     ]
    },
    {
     "name": "stderr",
     "output_type": "stream",
     "text": [
      "Warning message in mutate_impl(.data, dots):\n",
      "“binding character and factor vector, coercing into character vector”"
     ]
    },
    {
     "name": "stdout",
     "output_type": "stream",
     "text": [
      "[1] \"Crossref\"\n",
      "[1] 10.1260/\n",
      "298 Levels: 10.1002/ 10.1007/ 10.1016/ 10.1017/ 10.1021/ 10.1023/ ... 10.7906/\n"
     ]
    },
    {
     "name": "stderr",
     "output_type": "stream",
     "text": [
      "Warning message in mutate_impl(.data, dots):\n",
      "“binding character and factor vector, coercing into character vector”"
     ]
    },
    {
     "name": "stdout",
     "output_type": "stream",
     "text": [
      "[1] \"Crossref\"\n",
      "[1] 10.1113/\n",
      "298 Levels: 10.1002/ 10.1007/ 10.1016/ 10.1017/ 10.1021/ 10.1023/ ... 10.7906/\n"
     ]
    },
    {
     "name": "stderr",
     "output_type": "stream",
     "text": [
      "Warning message in mutate_impl(.data, dots):\n",
      "“binding character and factor vector, coercing into character vector”"
     ]
    },
    {
     "name": "stdout",
     "output_type": "stream",
     "text": [
      "[1] \"Crossref\"\n",
      "[1] 10.1124/\n",
      "298 Levels: 10.1002/ 10.1007/ 10.1016/ 10.1017/ 10.1021/ 10.1023/ ... 10.7906/\n"
     ]
    },
    {
     "name": "stderr",
     "output_type": "stream",
     "text": [
      "Warning message in mutate_impl(.data, dots):\n",
      "“binding character and factor vector, coercing into character vector”"
     ]
    },
    {
     "name": "stdout",
     "output_type": "stream",
     "text": [
      "[1] \"Crossref\"\n",
      "[1] 10.1086/\n",
      "298 Levels: 10.1002/ 10.1007/ 10.1016/ 10.1017/ 10.1021/ 10.1023/ ... 10.7906/\n"
     ]
    },
    {
     "name": "stderr",
     "output_type": "stream",
     "text": [
      "Warning message in mutate_impl(.data, dots):\n",
      "“binding character and factor vector, coercing into character vector”"
     ]
    },
    {
     "name": "stdout",
     "output_type": "stream",
     "text": [
      "[1] \"Crossref\"\n",
      "[1] 10.1378/\n",
      "298 Levels: 10.1002/ 10.1007/ 10.1016/ 10.1017/ 10.1021/ 10.1023/ ... 10.7906/\n"
     ]
    },
    {
     "name": "stderr",
     "output_type": "stream",
     "text": [
      "Warning message in mutate_impl(.data, dots):\n",
      "“binding character and factor vector, coercing into character vector”"
     ]
    },
    {
     "name": "stdout",
     "output_type": "stream",
     "text": [
      "[1] \"Crossref\"\n",
      "[1] 10.1179/\n",
      "298 Levels: 10.1002/ 10.1007/ 10.1016/ 10.1017/ 10.1021/ 10.1023/ ... 10.7906/\n"
     ]
    },
    {
     "name": "stderr",
     "output_type": "stream",
     "text": [
      "Warning message in mutate_impl(.data, dots):\n",
      "“binding character and factor vector, coercing into character vector”"
     ]
    },
    {
     "name": "stdout",
     "output_type": "stream",
     "text": [
      "[1] \"Crossref\"\n",
      "[1] 10.2217/\n",
      "298 Levels: 10.1002/ 10.1007/ 10.1016/ 10.1017/ 10.1021/ 10.1023/ ... 10.7906/\n"
     ]
    },
    {
     "name": "stderr",
     "output_type": "stream",
     "text": [
      "Warning message in mutate_impl(.data, dots):\n",
      "“binding character and factor vector, coercing into character vector”"
     ]
    },
    {
     "name": "stdout",
     "output_type": "stream",
     "text": [
      "[1] \"Crossref\"\n",
      "[1] 10.1209/\n",
      "298 Levels: 10.1002/ 10.1007/ 10.1016/ 10.1017/ 10.1021/ 10.1023/ ... 10.7906/\n"
     ]
    },
    {
     "name": "stderr",
     "output_type": "stream",
     "text": [
      "Warning message in mutate_impl(.data, dots):\n",
      "“binding character and factor vector, coercing into character vector”"
     ]
    },
    {
     "name": "stdout",
     "output_type": "stream",
     "text": [
      "[1] \"Crossref\"\n",
      "[1] 10.1208/\n",
      "298 Levels: 10.1002/ 10.1007/ 10.1016/ 10.1017/ 10.1021/ 10.1023/ ... 10.7906/\n"
     ]
    },
    {
     "name": "stderr",
     "output_type": "stream",
     "text": [
      "Warning message in mutate_impl(.data, dots):\n",
      "“binding character and factor vector, coercing into character vector”"
     ]
    },
    {
     "name": "stdout",
     "output_type": "stream",
     "text": [
      "[1] \"Crossref\"\n",
      "[1] 10.1617/\n",
      "298 Levels: 10.1002/ 10.1007/ 10.1016/ 10.1017/ 10.1021/ 10.1023/ ... 10.7906/\n"
     ]
    },
    {
     "name": "stderr",
     "output_type": "stream",
     "text": [
      "Warning message in mutate_impl(.data, dots):\n",
      "“binding character and factor vector, coercing into character vector”"
     ]
    },
    {
     "name": "stdout",
     "output_type": "stream",
     "text": [
      "[1] \"Crossref\"\n",
      "[1] 10.1098/\n",
      "298 Levels: 10.1002/ 10.1007/ 10.1016/ 10.1017/ 10.1021/ 10.1023/ ... 10.7906/\n"
     ]
    },
    {
     "name": "stderr",
     "output_type": "stream",
     "text": [
      "Warning message in mutate_impl(.data, dots):\n",
      "“binding character and factor vector, coercing into character vector”"
     ]
    },
    {
     "name": "stdout",
     "output_type": "stream",
     "text": [
      "[1] \"Crossref\"\n",
      "[1] 10.1902/\n",
      "298 Levels: 10.1002/ 10.1007/ 10.1016/ 10.1017/ 10.1021/ 10.1023/ ... 10.7906/\n"
     ]
    },
    {
     "name": "stderr",
     "output_type": "stream",
     "text": [
      "Warning message in mutate_impl(.data, dots):\n",
      "“binding character and factor vector, coercing into character vector”"
     ]
    },
    {
     "name": "stdout",
     "output_type": "stream",
     "text": [
      "[1] \"Crossref\"\n",
      "[1] 10.1590/\n",
      "298 Levels: 10.1002/ 10.1007/ 10.1016/ 10.1017/ 10.1021/ 10.1023/ ... 10.7906/\n"
     ]
    },
    {
     "name": "stderr",
     "output_type": "stream",
     "text": [
      "Warning message in mutate_impl(.data, dots):\n",
      "“binding character and factor vector, coercing into character vector”"
     ]
    },
    {
     "name": "stdout",
     "output_type": "stream",
     "text": [
      "[1] \"Crossref\"\n",
      "[1] 10.2196/\n",
      "298 Levels: 10.1002/ 10.1007/ 10.1016/ 10.1017/ 10.1021/ 10.1023/ ... 10.7906/\n"
     ]
    },
    {
     "name": "stderr",
     "output_type": "stream",
     "text": [
      "Warning message in mutate_impl(.data, dots):\n",
      "“binding character and factor vector, coercing into character vector”"
     ]
    },
    {
     "name": "stdout",
     "output_type": "stream",
     "text": [
      "[1] \"Crossref\"\n",
      "[1] 10.3897/\n",
      "298 Levels: 10.1002/ 10.1007/ 10.1016/ 10.1017/ 10.1021/ 10.1023/ ... 10.7906/\n"
     ]
    },
    {
     "name": "stderr",
     "output_type": "stream",
     "text": [
      "Warning message in mutate_impl(.data, dots):\n",
      "“binding character and factor vector, coercing into character vector”"
     ]
    },
    {
     "name": "stdout",
     "output_type": "stream",
     "text": [
      "[1] \"Crossref\"\n",
      "[1] 10.2190/\n",
      "298 Levels: 10.1002/ 10.1007/ 10.1016/ 10.1017/ 10.1021/ 10.1023/ ... 10.7906/\n"
     ]
    },
    {
     "name": "stderr",
     "output_type": "stream",
     "text": [
      "Warning message in mutate_impl(.data, dots):\n",
      "“binding character and factor vector, coercing into character vector”"
     ]
    },
    {
     "name": "stdout",
     "output_type": "stream",
     "text": [
      "[1] \"Crossref\"\n",
      "[1] 10.2140/\n",
      "298 Levels: 10.1002/ 10.1007/ 10.1016/ 10.1017/ 10.1021/ 10.1023/ ... 10.7906/\n"
     ]
    },
    {
     "name": "stderr",
     "output_type": "stream",
     "text": [
      "Warning message in mutate_impl(.data, dots):\n",
      "“binding character and factor vector, coercing into character vector”"
     ]
    },
    {
     "name": "stdout",
     "output_type": "stream",
     "text": [
      "[1] \"Crossref\"\n",
      "[1] 10.2205/\n",
      "298 Levels: 10.1002/ 10.1007/ 10.1016/ 10.1017/ 10.1021/ 10.1023/ ... 10.7906/\n"
     ]
    },
    {
     "name": "stderr",
     "output_type": "stream",
     "text": [
      "Warning message in mutate_impl(.data, dots):\n",
      "“binding character and factor vector, coercing into character vector”"
     ]
    },
    {
     "name": "stdout",
     "output_type": "stream",
     "text": [
      "[1] \"Crossref\"\n",
      "[1] 10.1515/\n",
      "298 Levels: 10.1002/ 10.1007/ 10.1016/ 10.1017/ 10.1021/ 10.1023/ ... 10.7906/\n"
     ]
    },
    {
     "name": "stderr",
     "output_type": "stream",
     "text": [
      "Warning message in mutate_impl(.data, dots):\n",
      "“binding character and factor vector, coercing into character vector”"
     ]
    },
    {
     "name": "stdout",
     "output_type": "stream",
     "text": [
      "[1] \"Crossref\"\n",
      "[1] 10.1188/\n",
      "298 Levels: 10.1002/ 10.1007/ 10.1016/ 10.1017/ 10.1021/ 10.1023/ ... 10.7906/\n"
     ]
    },
    {
     "name": "stderr",
     "output_type": "stream",
     "text": [
      "Warning message in mutate_impl(.data, dots):\n",
      "“binding character and factor vector, coercing into character vector”"
     ]
    },
    {
     "name": "stdout",
     "output_type": "stream",
     "text": [
      "[1] \"Crossref\"\n",
      "[1] 10.1631/\n",
      "298 Levels: 10.1002/ 10.1007/ 10.1016/ 10.1017/ 10.1021/ 10.1023/ ... 10.7906/\n"
     ]
    },
    {
     "name": "stderr",
     "output_type": "stream",
     "text": [
      "Warning message in mutate_impl(.data, dots):\n",
      "“binding character and factor vector, coercing into character vector”"
     ]
    },
    {
     "name": "stdout",
     "output_type": "stream",
     "text": [
      "[1] \"Crossref\"\n",
      "[1] 10.1890/\n",
      "298 Levels: 10.1002/ 10.1007/ 10.1016/ 10.1017/ 10.1021/ 10.1023/ ... 10.7906/\n"
     ]
    },
    {
     "name": "stderr",
     "output_type": "stream",
     "text": [
      "Warning message in mutate_impl(.data, dots):\n",
      "“binding character and factor vector, coercing into character vector”"
     ]
    },
    {
     "name": "stdout",
     "output_type": "stream",
     "text": [
      "[1] \"Crossref\"\n",
      "[1] 10.4007/\n",
      "298 Levels: 10.1002/ 10.1007/ 10.1016/ 10.1017/ 10.1021/ 10.1023/ ... 10.7906/\n"
     ]
    },
    {
     "name": "stderr",
     "output_type": "stream",
     "text": [
      "Warning message in mutate_impl(.data, dots):\n",
      "“binding character and factor vector, coercing into character vector”"
     ]
    },
    {
     "name": "stdout",
     "output_type": "stream",
     "text": [
      "[1] \"Crossref\"\n",
      "[1] 10.2478/\n",
      "298 Levels: 10.1002/ 10.1007/ 10.1016/ 10.1017/ 10.1021/ 10.1023/ ... 10.7906/\n"
     ]
    },
    {
     "name": "stderr",
     "output_type": "stream",
     "text": [
      "Warning message in mutate_impl(.data, dots):\n",
      "“binding character and factor vector, coercing into character vector”"
     ]
    },
    {
     "name": "stdout",
     "output_type": "stream",
     "text": [
      "[1] \"Crossref\"\n",
      "[1] 10.50505/\n",
      "298 Levels: 10.1002/ 10.1007/ 10.1016/ 10.1017/ 10.1021/ 10.1023/ ... 10.7906/\n"
     ]
    },
    {
     "name": "stderr",
     "output_type": "stream",
     "text": [
      "Warning message in mutate_impl(.data, dots):\n",
      "“binding character and factor vector, coercing into character vector”"
     ]
    },
    {
     "name": "stdout",
     "output_type": "stream",
     "text": [
      "[1] \"Crossref\"\n",
      "[1] 10.1257/\n",
      "298 Levels: 10.1002/ 10.1007/ 10.1016/ 10.1017/ 10.1021/ 10.1023/ ... 10.7906/\n"
     ]
    },
    {
     "name": "stderr",
     "output_type": "stream",
     "text": [
      "Warning message in mutate_impl(.data, dots):\n",
      "“binding character and factor vector, coercing into character vector”"
     ]
    },
    {
     "name": "stdout",
     "output_type": "stream",
     "text": [
      "[1] \"Crossref\"\n",
      "[1] 10.2753/\n",
      "298 Levels: 10.1002/ 10.1007/ 10.1016/ 10.1017/ 10.1021/ 10.1023/ ... 10.7906/\n"
     ]
    },
    {
     "name": "stderr",
     "output_type": "stream",
     "text": [
      "Warning message in mutate_impl(.data, dots):\n",
      "“binding character and factor vector, coercing into character vector”"
     ]
    },
    {
     "name": "stdout",
     "output_type": "stream",
     "text": [
      "[1] \"Crossref\"\n",
      "[1] 10.2200/\n",
      "298 Levels: 10.1002/ 10.1007/ 10.1016/ 10.1017/ 10.1021/ 10.1023/ ... 10.7906/\n"
     ]
    },
    {
     "name": "stderr",
     "output_type": "stream",
     "text": [
      "Warning message in mutate_impl(.data, dots):\n",
      "“binding character and factor vector, coercing into character vector”"
     ]
    },
    {
     "name": "stdout",
     "output_type": "stream",
     "text": [
      "[1] \"Crossref\"\n",
      "[1] 10.1653/\n",
      "298 Levels: 10.1002/ 10.1007/ 10.1016/ 10.1017/ 10.1021/ 10.1023/ ... 10.7906/\n"
     ]
    },
    {
     "name": "stderr",
     "output_type": "stream",
     "text": [
      "Warning message in mutate_impl(.data, dots):\n",
      "“binding character and factor vector, coercing into character vector”"
     ]
    },
    {
     "name": "stdout",
     "output_type": "stream",
     "text": [
      "[1] \"Crossref\"\n",
      "[1] 10.2989/\n",
      "298 Levels: 10.1002/ 10.1007/ 10.1016/ 10.1017/ 10.1021/ 10.1023/ ... 10.7906/\n"
     ]
    },
    {
     "name": "stderr",
     "output_type": "stream",
     "text": [
      "Warning message in mutate_impl(.data, dots):\n",
      "“binding character and factor vector, coercing into character vector”"
     ]
    },
    {
     "name": "stdout",
     "output_type": "stream",
     "text": [
      "[1] \"Crossref\"\n",
      "[1] 10.3141/\n",
      "298 Levels: 10.1002/ 10.1007/ 10.1016/ 10.1017/ 10.1021/ 10.1023/ ... 10.7906/\n"
     ]
    },
    {
     "name": "stderr",
     "output_type": "stream",
     "text": [
      "Warning message in mutate_impl(.data, dots):\n",
      "“binding character and factor vector, coercing into character vector”"
     ]
    },
    {
     "name": "stdout",
     "output_type": "stream",
     "text": [
      "[1] \"Crossref\"\n",
      "[1] 10.3354/\n",
      "298 Levels: 10.1002/ 10.1007/ 10.1016/ 10.1017/ 10.1021/ 10.1023/ ... 10.7906/\n"
     ]
    },
    {
     "name": "stderr",
     "output_type": "stream",
     "text": [
      "Warning message in mutate_impl(.data, dots):\n",
      "“binding character and factor vector, coercing into character vector”"
     ]
    },
    {
     "name": "stdout",
     "output_type": "stream",
     "text": [
      "[1] \"Crossref\"\n",
      "[1] 10.3367/\n",
      "298 Levels: 10.1002/ 10.1007/ 10.1016/ 10.1017/ 10.1021/ 10.1023/ ... 10.7906/\n"
     ]
    },
    {
     "name": "stderr",
     "output_type": "stream",
     "text": [
      "Warning message in mutate_impl(.data, dots):\n",
      "“binding character and factor vector, coercing into character vector”"
     ]
    },
    {
     "name": "stdout",
     "output_type": "stream",
     "text": [
      "[1] \"Crossref\"\n",
      "[1] 10.3722/\n",
      "298 Levels: 10.1002/ 10.1007/ 10.1016/ 10.1017/ 10.1021/ 10.1023/ ... 10.7906/\n"
     ]
    },
    {
     "name": "stderr",
     "output_type": "stream",
     "text": [
      "Warning message in mutate_impl(.data, dots):\n",
      "“binding character and factor vector, coercing into character vector”"
     ]
    },
    {
     "name": "stdout",
     "output_type": "stream",
     "text": [
      "[1] \"Crossref\"\n",
      "[1] 10.3389/\n",
      "298 Levels: 10.1002/ 10.1007/ 10.1016/ 10.1017/ 10.1021/ 10.1023/ ... 10.7906/\n"
     ]
    },
    {
     "name": "stderr",
     "output_type": "stream",
     "text": [
      "Warning message in mutate_impl(.data, dots):\n",
      "“binding character and factor vector, coercing into character vector”"
     ]
    },
    {
     "name": "stdout",
     "output_type": "stream",
     "text": [
      "[1] \"KISTI\"\n",
      "[1] 10.3743/\n",
      "298 Levels: 10.1002/ 10.1007/ 10.1016/ 10.1017/ 10.1021/ 10.1023/ ... 10.7906/\n"
     ]
    },
    {
     "name": "stderr",
     "output_type": "stream",
     "text": [
      "Warning message in mutate_impl(.data, dots):\n",
      "“binding character and factor vector, coercing into character vector”"
     ]
    },
    {
     "name": "stdout",
     "output_type": "stream",
     "text": [
      "[1] \"Crossref\"\n",
      "[1] 10.3832/\n",
      "298 Levels: 10.1002/ 10.1007/ 10.1016/ 10.1017/ 10.1021/ 10.1023/ ... 10.7906/\n"
     ]
    },
    {
     "name": "stderr",
     "output_type": "stream",
     "text": [
      "Warning message in mutate_impl(.data, dots):\n",
      "“binding character and factor vector, coercing into character vector”"
     ]
    },
    {
     "name": "stdout",
     "output_type": "stream",
     "text": [
      "[1] \"Crossref\"\n",
      "[1] 10.3846/\n",
      "298 Levels: 10.1002/ 10.1007/ 10.1016/ 10.1017/ 10.1021/ 10.1023/ ... 10.7906/\n"
     ]
    },
    {
     "name": "stderr",
     "output_type": "stream",
     "text": [
      "Warning message in mutate_impl(.data, dots):\n",
      "“binding character and factor vector, coercing into character vector”"
     ]
    },
    {
     "name": "stdout",
     "output_type": "stream",
     "text": [
      "[1] \"Crossref\"\n",
      "[1] 10.3923/\n",
      "298 Levels: 10.1002/ 10.1007/ 10.1016/ 10.1017/ 10.1021/ 10.1023/ ... 10.7906/\n"
     ]
    },
    {
     "name": "stderr",
     "output_type": "stream",
     "text": [
      "Warning message in mutate_impl(.data, dots):\n",
      "“binding character and factor vector, coercing into character vector”"
     ]
    },
    {
     "name": "stdout",
     "output_type": "stream",
     "text": [
      "[1] \"Crossref\"\n",
      "[1] 10.4054/\n",
      "298 Levels: 10.1002/ 10.1007/ 10.1016/ 10.1017/ 10.1021/ 10.1023/ ... 10.7906/\n"
     ]
    },
    {
     "name": "stderr",
     "output_type": "stream",
     "text": [
      "Warning message in mutate_impl(.data, dots):\n",
      "“binding character and factor vector, coercing into character vector”"
     ]
    },
    {
     "name": "stdout",
     "output_type": "stream",
     "text": [
      "[1] \"Crossref\"\n",
      "[1] 10.3928/\n",
      "298 Levels: 10.1002/ 10.1007/ 10.1016/ 10.1017/ 10.1021/ 10.1023/ ... 10.7906/\n"
     ]
    },
    {
     "name": "stderr",
     "output_type": "stream",
     "text": [
      "Warning message in mutate_impl(.data, dots):\n",
      "“binding character and factor vector, coercing into character vector”"
     ]
    },
    {
     "name": "stdout",
     "output_type": "stream",
     "text": [
      "[1] \"Crossref\"\n",
      "[1] 10.3934/\n",
      "298 Levels: 10.1002/ 10.1007/ 10.1016/ 10.1017/ 10.1021/ 10.1023/ ... 10.7906/\n"
     ]
    },
    {
     "name": "stderr",
     "output_type": "stream",
     "text": [
      "Warning message in mutate_impl(.data, dots):\n",
      "“binding character and factor vector, coercing into character vector”"
     ]
    },
    {
     "name": "stdout",
     "output_type": "stream",
     "text": [
      "[1] \"Crossref\"\n",
      "[1] 10.3989/\n",
      "298 Levels: 10.1002/ 10.1007/ 10.1016/ 10.1017/ 10.1021/ 10.1023/ ... 10.7906/\n"
     ]
    },
    {
     "name": "stderr",
     "output_type": "stream",
     "text": [
      "Warning message in mutate_impl(.data, dots):\n",
      "“binding character and factor vector, coercing into character vector”"
     ]
    },
    {
     "name": "stdout",
     "output_type": "stream",
     "text": [
      "[1] \"Crossref\"\n",
      "[1] 10.3758/\n",
      "298 Levels: 10.1002/ 10.1007/ 10.1016/ 10.1017/ 10.1021/ 10.1023/ ... 10.7906/\n"
     ]
    },
    {
     "name": "stderr",
     "output_type": "stream",
     "text": [
      "Warning message in mutate_impl(.data, dots):\n",
      "“binding character and factor vector, coercing into character vector”"
     ]
    },
    {
     "name": "stdout",
     "output_type": "stream",
     "text": [
      "[1] \"Crossref\"\n",
      "[1] 10.3916/\n",
      "298 Levels: 10.1002/ 10.1007/ 10.1016/ 10.1017/ 10.1021/ 10.1023/ ... 10.7906/\n"
     ]
    },
    {
     "name": "stderr",
     "output_type": "stream",
     "text": [
      "Warning message in mutate_impl(.data, dots):\n",
      "“binding character and factor vector, coercing into character vector”"
     ]
    },
    {
     "name": "stdout",
     "output_type": "stream",
     "text": [
      "[1] \"Crossref\"\n",
      "[1] 10.3986/\n",
      "298 Levels: 10.1002/ 10.1007/ 10.1016/ 10.1017/ 10.1021/ 10.1023/ ... 10.7906/\n"
     ]
    },
    {
     "name": "stderr",
     "output_type": "stream",
     "text": [
      "Warning message in mutate_impl(.data, dots):\n",
      "“binding character and factor vector, coercing into character vector”"
     ]
    },
    {
     "name": "stdout",
     "output_type": "stream",
     "text": [
      "[1] \"Crossref\"\n",
      "[1] 10.4000/\n",
      "298 Levels: 10.1002/ 10.1007/ 10.1016/ 10.1017/ 10.1021/ 10.1023/ ... 10.7906/\n"
     ]
    },
    {
     "name": "stderr",
     "output_type": "stream",
     "text": [
      "Warning message in mutate_impl(.data, dots):\n",
      "“binding character and factor vector, coercing into character vector”"
     ]
    },
    {
     "name": "stdout",
     "output_type": "stream",
     "text": [
      "[1] \"Crossref\"\n",
      "[1] 10.3904/\n",
      "298 Levels: 10.1002/ 10.1007/ 10.1016/ 10.1017/ 10.1021/ 10.1023/ ... 10.7906/\n"
     ]
    },
    {
     "name": "stderr",
     "output_type": "stream",
     "text": [
      "Warning message in mutate_impl(.data, dots):\n",
      "“binding character and factor vector, coercing into character vector”"
     ]
    },
    {
     "name": "stdout",
     "output_type": "stream",
     "text": [
      "[1] \"Crossref\"\n",
      "[1] 10.3952/\n",
      "298 Levels: 10.1002/ 10.1007/ 10.1016/ 10.1017/ 10.1021/ 10.1023/ ... 10.7906/\n"
     ]
    },
    {
     "name": "stderr",
     "output_type": "stream",
     "text": [
      "Warning message in mutate_impl(.data, dots):\n",
      "“binding character and factor vector, coercing into character vector”"
     ]
    },
    {
     "name": "stdout",
     "output_type": "stream",
     "text": [
      "[1] \"Crossref\"\n",
      "[1] 10.4173/\n",
      "298 Levels: 10.1002/ 10.1007/ 10.1016/ 10.1017/ 10.1021/ 10.1023/ ... 10.7906/\n"
     ]
    },
    {
     "name": "stderr",
     "output_type": "stream",
     "text": [
      "Warning message in mutate_impl(.data, dots):\n",
      "“binding character and factor vector, coercing into character vector”"
     ]
    },
    {
     "name": "stdout",
     "output_type": "stream",
     "text": [
      "[1] \"Crossref\"\n",
      "[1] 10.3789/\n",
      "298 Levels: 10.1002/ 10.1007/ 10.1016/ 10.1017/ 10.1021/ 10.1023/ ... 10.7906/\n"
     ]
    },
    {
     "name": "stderr",
     "output_type": "stream",
     "text": [
      "Warning message in mutate_impl(.data, dots):\n",
      "“binding character and factor vector, coercing into character vector”"
     ]
    },
    {
     "name": "stdout",
     "output_type": "stream",
     "text": [
      "[1] \"Crossref\"\n",
      "[1] 10.4102/\n",
      "298 Levels: 10.1002/ 10.1007/ 10.1016/ 10.1017/ 10.1021/ 10.1023/ ... 10.7906/\n"
     ]
    },
    {
     "name": "stderr",
     "output_type": "stream",
     "text": [
      "Warning message in mutate_impl(.data, dots):\n",
      "“binding character and factor vector, coercing into character vector”"
     ]
    },
    {
     "name": "stdout",
     "output_type": "stream",
     "text": [
      "[1] \"Crossref\"\n",
      "[1] 10.4158/\n",
      "298 Levels: 10.1002/ 10.1007/ 10.1016/ 10.1017/ 10.1021/ 10.1023/ ... 10.7906/\n"
     ]
    },
    {
     "name": "stderr",
     "output_type": "stream",
     "text": [
      "Warning message in mutate_impl(.data, dots):\n",
      "“binding character and factor vector, coercing into character vector”"
     ]
    },
    {
     "name": "stdout",
     "output_type": "stream",
     "text": [
      "[1] \"Crossref\"\n",
      "[1] 10.17159/\n",
      "298 Levels: 10.1002/ 10.1007/ 10.1016/ 10.1017/ 10.1021/ 10.1023/ ... 10.7906/\n"
     ]
    },
    {
     "name": "stderr",
     "output_type": "stream",
     "text": [
      "Warning message in mutate_impl(.data, dots):\n",
      "“binding character and factor vector, coercing into character vector”"
     ]
    },
    {
     "name": "stdout",
     "output_type": "stream",
     "text": [
      "[1] \"Crossref\"\n",
      "[1] 10.3946/\n",
      "298 Levels: 10.1002/ 10.1007/ 10.1016/ 10.1017/ 10.1021/ 10.1023/ ... 10.7906/\n"
     ]
    },
    {
     "name": "stderr",
     "output_type": "stream",
     "text": [
      "Warning message in mutate_impl(.data, dots):\n",
      "“binding character and factor vector, coercing into character vector”"
     ]
    },
    {
     "name": "stdout",
     "output_type": "stream",
     "text": [
      "[1] \"Crossref\"\n",
      "[1] 10.4204/\n",
      "298 Levels: 10.1002/ 10.1007/ 10.1016/ 10.1017/ 10.1021/ 10.1023/ ... 10.7906/\n"
     ]
    },
    {
     "name": "stderr",
     "output_type": "stream",
     "text": [
      "Warning message in mutate_impl(.data, dots):\n",
      "“binding character and factor vector, coercing into character vector”"
     ]
    },
    {
     "name": "stdout",
     "output_type": "stream",
     "text": [
      "[1] \"Crossref\"\n",
      "[1] 10.4236/\n",
      "298 Levels: 10.1002/ 10.1007/ 10.1016/ 10.1017/ 10.1021/ 10.1023/ ... 10.7906/\n"
     ]
    },
    {
     "name": "stderr",
     "output_type": "stream",
     "text": [
      "Warning message in mutate_impl(.data, dots):\n",
      "“binding character and factor vector, coercing into character vector”"
     ]
    },
    {
     "name": "stdout",
     "output_type": "stream",
     "text": [
      "[1] \"KISTI\"\n",
      "[1] 10.4134/\n",
      "298 Levels: 10.1002/ 10.1007/ 10.1016/ 10.1017/ 10.1021/ 10.1023/ ... 10.7906/\n"
     ]
    },
    {
     "name": "stderr",
     "output_type": "stream",
     "text": [
      "Warning message in mutate_impl(.data, dots):\n",
      "“binding character and factor vector, coercing into character vector”"
     ]
    },
    {
     "name": "stdout",
     "output_type": "stream",
     "text": [
      "[1] \"Crossref\"\n",
      "[1] 10.4338/\n",
      "298 Levels: 10.1002/ 10.1007/ 10.1016/ 10.1017/ 10.1021/ 10.1023/ ... 10.7906/\n"
     ]
    },
    {
     "name": "stderr",
     "output_type": "stream",
     "text": [
      "Warning message in mutate_impl(.data, dots):\n",
      "“binding character and factor vector, coercing into character vector”"
     ]
    },
    {
     "name": "stdout",
     "output_type": "stream",
     "text": [
      "[1] \"Crossref\"\n",
      "[1] 10.4178/\n",
      "298 Levels: 10.1002/ 10.1007/ 10.1016/ 10.1017/ 10.1021/ 10.1023/ ... 10.7906/\n"
     ]
    },
    {
     "name": "stderr",
     "output_type": "stream",
     "text": [
      "Warning message in mutate_impl(.data, dots):\n",
      "“binding character and factor vector, coercing into character vector”"
     ]
    },
    {
     "name": "stdout",
     "output_type": "stream",
     "text": [
      "[1] \"Crossref\"\n",
      "[1] 10.4218/\n",
      "298 Levels: 10.1002/ 10.1007/ 10.1016/ 10.1017/ 10.1021/ 10.1023/ ... 10.7906/\n"
     ]
    },
    {
     "name": "stderr",
     "output_type": "stream",
     "text": [
      "Warning message in mutate_impl(.data, dots):\n",
      "“binding character and factor vector, coercing into character vector”"
     ]
    },
    {
     "name": "stdout",
     "output_type": "stream",
     "text": [
      "[1] \"Crossref\"\n",
      "[1] 10.4155/\n",
      "298 Levels: 10.1002/ 10.1007/ 10.1016/ 10.1017/ 10.1021/ 10.1023/ ... 10.7906/\n"
     ]
    },
    {
     "name": "stderr",
     "output_type": "stream",
     "text": [
      "Warning message in mutate_impl(.data, dots):\n",
      "“binding character and factor vector, coercing into character vector”"
     ]
    },
    {
     "name": "stdout",
     "output_type": "stream",
     "text": [
      "[1] \"Crossref\"\n",
      "[1] 10.4303/\n",
      "298 Levels: 10.1002/ 10.1007/ 10.1016/ 10.1017/ 10.1021/ 10.1023/ ... 10.7906/\n"
     ]
    },
    {
     "name": "stderr",
     "output_type": "stream",
     "text": [
      "Warning message in mutate_impl(.data, dots):\n",
      "“binding character and factor vector, coercing into character vector”"
     ]
    },
    {
     "name": "stdout",
     "output_type": "stream",
     "text": [
      "[1] \"Crossref\"\n",
      "[1] 10.4312/\n",
      "298 Levels: 10.1002/ 10.1007/ 10.1016/ 10.1017/ 10.1021/ 10.1023/ ... 10.7906/\n"
     ]
    },
    {
     "name": "stderr",
     "output_type": "stream",
     "text": [
      "Warning message in mutate_impl(.data, dots):\n",
      "“binding character and factor vector, coercing into character vector”"
     ]
    },
    {
     "name": "stdout",
     "output_type": "stream",
     "text": [
      "[1] \"Crossref\"\n",
      "[1] 10.5194/\n",
      "298 Levels: 10.1002/ 10.1007/ 10.1016/ 10.1017/ 10.1021/ 10.1023/ ... 10.7906/\n"
     ]
    },
    {
     "name": "stderr",
     "output_type": "stream",
     "text": [
      "Warning message in mutate_impl(.data, dots):\n",
      "“binding character and factor vector, coercing into character vector”"
     ]
    },
    {
     "name": "stdout",
     "output_type": "stream",
     "text": [
      "[1] \"Crossref\"\n",
      "[1] 10.4995/\n",
      "298 Levels: 10.1002/ 10.1007/ 10.1016/ 10.1017/ 10.1021/ 10.1023/ ... 10.7906/\n"
     ]
    },
    {
     "name": "stderr",
     "output_type": "stream",
     "text": [
      "Warning message in mutate_impl(.data, dots):\n",
      "“binding character and factor vector, coercing into character vector”"
     ]
    },
    {
     "name": "stdout",
     "output_type": "stream",
     "text": [
      "[1] \"Crossref\"\n",
      "[1] 10.17235/\n",
      "298 Levels: 10.1002/ 10.1007/ 10.1016/ 10.1017/ 10.1021/ 10.1023/ ... 10.7906/\n"
     ]
    },
    {
     "name": "stderr",
     "output_type": "stream",
     "text": [
      "Warning message in mutate_impl(.data, dots):\n",
      "“binding character and factor vector, coercing into character vector”"
     ]
    },
    {
     "name": "stdout",
     "output_type": "stream",
     "text": [
      "[1] \"Crossref\"\n",
      "[1] 10.5304/\n",
      "298 Levels: 10.1002/ 10.1007/ 10.1016/ 10.1017/ 10.1021/ 10.1023/ ... 10.7906/\n"
     ]
    },
    {
     "name": "stderr",
     "output_type": "stream",
     "text": [
      "Warning message in mutate_impl(.data, dots):\n",
      "“binding character and factor vector, coercing into character vector”"
     ]
    },
    {
     "name": "stdout",
     "output_type": "stream",
     "text": [
      "[1] \"Crossref\"\n",
      "[1] 10.3996/\n",
      "298 Levels: 10.1002/ 10.1007/ 10.1016/ 10.1017/ 10.1021/ 10.1023/ ... 10.7906/\n"
     ]
    },
    {
     "name": "stderr",
     "output_type": "stream",
     "text": [
      "Warning message in mutate_impl(.data, dots):\n",
      "“binding character and factor vector, coercing into character vector”"
     ]
    },
    {
     "name": "stdout",
     "output_type": "stream",
     "text": [
      "[1] \"Crossref\"\n",
      "[1] 10.5572/\n",
      "298 Levels: 10.1002/ 10.1007/ 10.1016/ 10.1017/ 10.1021/ 10.1023/ ... 10.7906/\n"
     ]
    },
    {
     "name": "stderr",
     "output_type": "stream",
     "text": [
      "Warning message in mutate_impl(.data, dots):\n",
      "“binding character and factor vector, coercing into character vector”"
     ]
    },
    {
     "name": "stdout",
     "output_type": "stream",
     "text": [
      "[1] \"Crossref\"\n",
      "[1] 10.5507/\n",
      "298 Levels: 10.1002/ 10.1007/ 10.1016/ 10.1017/ 10.1021/ 10.1023/ ... 10.7906/\n"
     ]
    },
    {
     "name": "stderr",
     "output_type": "stream",
     "text": [
      "Warning message in mutate_impl(.data, dots):\n",
      "“binding character and factor vector, coercing into character vector”"
     ]
    },
    {
     "name": "stdout",
     "output_type": "stream",
     "text": [
      "[1] \"Crossref\"\n",
      "[1] 10.5567/\n",
      "298 Levels: 10.1002/ 10.1007/ 10.1016/ 10.1017/ 10.1021/ 10.1023/ ... 10.7906/\n"
     ]
    },
    {
     "name": "stderr",
     "output_type": "stream",
     "text": [
      "Warning message in mutate_impl(.data, dots):\n",
      "“binding character and factor vector, coercing into character vector”"
     ]
    },
    {
     "name": "stdout",
     "output_type": "stream",
     "text": [
      "[1] \"Crossref\"\n",
      "[1] 10.5547/\n",
      "298 Levels: 10.1002/ 10.1007/ 10.1016/ 10.1017/ 10.1021/ 10.1023/ ... 10.7906/\n"
     ]
    },
    {
     "name": "stderr",
     "output_type": "stream",
     "text": [
      "Warning message in mutate_impl(.data, dots):\n",
      "“binding character and factor vector, coercing into character vector”"
     ]
    },
    {
     "name": "stdout",
     "output_type": "stream",
     "text": [
      "[1] \"Crossref\"\n",
      "[1] 10.5812/\n",
      "298 Levels: 10.1002/ 10.1007/ 10.1016/ 10.1017/ 10.1021/ 10.1023/ ... 10.7906/\n"
     ]
    },
    {
     "name": "stderr",
     "output_type": "stream",
     "text": [
      "Warning message in mutate_impl(.data, dots):\n",
      "“binding character and factor vector, coercing into character vector”"
     ]
    },
    {
     "name": "stdout",
     "output_type": "stream",
     "text": [
      "[1] \"Crossref\"\n",
      "[1] 10.5861/\n",
      "298 Levels: 10.1002/ 10.1007/ 10.1016/ 10.1017/ 10.1021/ 10.1023/ ... 10.7906/\n"
     ]
    },
    {
     "name": "stderr",
     "output_type": "stream",
     "text": [
      "Warning message in mutate_impl(.data, dots):\n",
      "“binding character and factor vector, coercing into character vector”"
     ]
    },
    {
     "name": "stdout",
     "output_type": "stream",
     "text": [
      "[1] \"Crossref\"\n",
      "[1] 10.5402/\n",
      "298 Levels: 10.1002/ 10.1007/ 10.1016/ 10.1017/ 10.1021/ 10.1023/ ... 10.7906/\n"
     ]
    },
    {
     "name": "stderr",
     "output_type": "stream",
     "text": [
      "Warning message in mutate_impl(.data, dots):\n",
      "“binding character and factor vector, coercing into character vector”"
     ]
    },
    {
     "name": "stdout",
     "output_type": "stream",
     "text": [
      "[1] \"Crossref\"\n",
      "[1] 10.4028/\n",
      "298 Levels: 10.1002/ 10.1007/ 10.1016/ 10.1017/ 10.1021/ 10.1023/ ... 10.7906/\n"
     ]
    },
    {
     "name": "stderr",
     "output_type": "stream",
     "text": [
      "Warning message in mutate_impl(.data, dots):\n",
      "“binding character and factor vector, coercing into character vector”"
     ]
    },
    {
     "name": "stdout",
     "output_type": "stream",
     "text": [
      "[1] \"Crossref\"\n",
      "[1] 10.3410/\n",
      "298 Levels: 10.1002/ 10.1007/ 10.1016/ 10.1017/ 10.1021/ 10.1023/ ... 10.7906/\n"
     ]
    },
    {
     "name": "stderr",
     "output_type": "stream",
     "text": [
      "Warning message in mutate_impl(.data, dots):\n",
      "“binding character and factor vector, coercing into character vector”"
     ]
    },
    {
     "name": "stdout",
     "output_type": "stream",
     "text": [
      "[1] \"Crossref\"\n",
      "[1] 10.5964/\n",
      "298 Levels: 10.1002/ 10.1007/ 10.1016/ 10.1017/ 10.1021/ 10.1023/ ... 10.7906/\n"
     ]
    },
    {
     "name": "stderr",
     "output_type": "stream",
     "text": [
      "Warning message in mutate_impl(.data, dots):\n",
      "“binding character and factor vector, coercing into character vector”"
     ]
    },
    {
     "name": "stdout",
     "output_type": "stream",
     "text": [
      "[1] \"Crossref\"\n",
      "[1] 10.5772/\n",
      "298 Levels: 10.1002/ 10.1007/ 10.1016/ 10.1017/ 10.1021/ 10.1023/ ... 10.7906/\n"
     ]
    },
    {
     "name": "stderr",
     "output_type": "stream",
     "text": [
      "Warning message in mutate_impl(.data, dots):\n",
      "“binding character and factor vector, coercing into character vector”"
     ]
    },
    {
     "name": "stdout",
     "output_type": "stream",
     "text": [
      "[1] \"Crossref\"\n",
      "[1] 10.5721/\n",
      "298 Levels: 10.1002/ 10.1007/ 10.1016/ 10.1017/ 10.1021/ 10.1023/ ... 10.7906/\n"
     ]
    },
    {
     "name": "stderr",
     "output_type": "stream",
     "text": [
      "Warning message in mutate_impl(.data, dots):\n",
      "“binding character and factor vector, coercing into character vector”"
     ]
    },
    {
     "name": "stdout",
     "output_type": "stream",
     "text": [
      "[1] \"Crossref\"\n",
      "[1] 10.7463/\n",
      "298 Levels: 10.1002/ 10.1007/ 10.1016/ 10.1017/ 10.1021/ 10.1023/ ... 10.7906/\n"
     ]
    },
    {
     "name": "stderr",
     "output_type": "stream",
     "text": [
      "Warning message in mutate_impl(.data, dots):\n",
      "“binding character and factor vector, coercing into character vector”"
     ]
    },
    {
     "name": "stdout",
     "output_type": "stream",
     "text": [
      "[1] \"Crossref\"\n",
      "[1] 10.7574/\n",
      "298 Levels: 10.1002/ 10.1007/ 10.1016/ 10.1017/ 10.1021/ 10.1023/ ... 10.7906/\n"
     ]
    },
    {
     "name": "stderr",
     "output_type": "stream",
     "text": [
      "Warning message in mutate_impl(.data, dots):\n",
      "“binding character and factor vector, coercing into character vector”"
     ]
    },
    {
     "name": "stdout",
     "output_type": "stream",
     "text": [
      "[1] \"Crossref\"\n",
      "[1] 10.7242/\n",
      "298 Levels: 10.1002/ 10.1007/ 10.1016/ 10.1017/ 10.1021/ 10.1023/ ... 10.7906/\n"
     ]
    },
    {
     "name": "stderr",
     "output_type": "stream",
     "text": [
      "Warning message in mutate_impl(.data, dots):\n",
      "“binding character and factor vector, coercing into character vector”"
     ]
    },
    {
     "name": "stdout",
     "output_type": "stream",
     "text": [
      "[1] \"Crossref\"\n",
      "[1] 10.7202/\n",
      "298 Levels: 10.1002/ 10.1007/ 10.1016/ 10.1017/ 10.1021/ 10.1023/ ... 10.7906/\n"
     ]
    },
    {
     "name": "stderr",
     "output_type": "stream",
     "text": [
      "Warning message in mutate_impl(.data, dots):\n",
      "“binding character and factor vector, coercing into character vector”"
     ]
    },
    {
     "name": "stdout",
     "output_type": "stream",
     "text": [
      "[1] \"Crossref\"\n",
      "[1] 10.6002/\n",
      "298 Levels: 10.1002/ 10.1007/ 10.1016/ 10.1017/ 10.1021/ 10.1023/ ... 10.7906/\n"
     ]
    },
    {
     "name": "stderr",
     "output_type": "stream",
     "text": [
      "Warning message in mutate_impl(.data, dots):\n",
      "“binding character and factor vector, coercing into character vector”"
     ]
    },
    {
     "name": "stdout",
     "output_type": "stream",
     "text": [
      "[1] \"Crossref\"\n",
      "[1] 10.12677/\n",
      "298 Levels: 10.1002/ 10.1007/ 10.1016/ 10.1017/ 10.1021/ 10.1023/ ... 10.7906/\n"
     ]
    },
    {
     "name": "stderr",
     "output_type": "stream",
     "text": [
      "Warning message in mutate_impl(.data, dots):\n",
      "“binding character and factor vector, coercing into character vector”"
     ]
    },
    {
     "name": "stdout",
     "output_type": "stream",
     "text": [
      "[1] \"Crossref\"\n",
      "[1] 10.7717/\n",
      "298 Levels: 10.1002/ 10.1007/ 10.1016/ 10.1017/ 10.1021/ 10.1023/ ... 10.7906/\n"
     ]
    },
    {
     "name": "stderr",
     "output_type": "stream",
     "text": [
      "Warning message in mutate_impl(.data, dots):\n",
      "“binding character and factor vector, coercing into character vector”"
     ]
    },
    {
     "name": "stdout",
     "output_type": "stream",
     "text": [
      "[1] \"Crossref\"\n",
      "[1] 10.11141/\n",
      "298 Levels: 10.1002/ 10.1007/ 10.1016/ 10.1017/ 10.1021/ 10.1023/ ... 10.7906/\n"
     ]
    },
    {
     "name": "stderr",
     "output_type": "stream",
     "text": [
      "Warning message in mutate_impl(.data, dots):\n",
      "“binding character and factor vector, coercing into character vector”"
     ]
    },
    {
     "name": "stdout",
     "output_type": "stream",
     "text": [
      "[1] \"Crossref\"\n",
      "[1] 10.1128/\n",
      "298 Levels: 10.1002/ 10.1007/ 10.1016/ 10.1017/ 10.1021/ 10.1023/ ... 10.7906/\n"
     ]
    },
    {
     "name": "stderr",
     "output_type": "stream",
     "text": [
      "Warning message in mutate_impl(.data, dots):\n",
      "“binding character and factor vector, coercing into character vector”"
     ]
    },
    {
     "name": "stdout",
     "output_type": "stream",
     "text": [
      "[1] \"Crossref\"\n",
      "[1] 10.4213/\n",
      "298 Levels: 10.1002/ 10.1007/ 10.1016/ 10.1017/ 10.1021/ 10.1023/ ... 10.7906/\n"
     ]
    },
    {
     "name": "stderr",
     "output_type": "stream",
     "text": [
      "Warning message in mutate_impl(.data, dots):\n",
      "“binding character and factor vector, coercing into character vector”"
     ]
    },
    {
     "name": "stdout",
     "output_type": "stream",
     "text": [
      "[1] \"Crossref\"\n",
      "[1] 10.7821/\n",
      "298 Levels: 10.1002/ 10.1007/ 10.1016/ 10.1017/ 10.1021/ 10.1023/ ... 10.7906/\n"
     ]
    },
    {
     "name": "stderr",
     "output_type": "stream",
     "text": [
      "Warning message in mutate_impl(.data, dots):\n",
      "“binding character and factor vector, coercing into character vector”"
     ]
    },
    {
     "name": "stdout",
     "output_type": "stream",
     "text": [
      "[1] \"Crossref\"\n",
      "[1] 10.7739/\n",
      "298 Levels: 10.1002/ 10.1007/ 10.1016/ 10.1017/ 10.1021/ 10.1023/ ... 10.7906/\n"
     ]
    },
    {
     "name": "stderr",
     "output_type": "stream",
     "text": [
      "Warning message in mutate_impl(.data, dots):\n",
      "“binding character and factor vector, coercing into character vector”"
     ]
    },
    {
     "name": "stdout",
     "output_type": "stream",
     "text": [
      "[1] \"Crossref\"\n",
      "[1] 10.12693/\n",
      "298 Levels: 10.1002/ 10.1007/ 10.1016/ 10.1017/ 10.1021/ 10.1023/ ... 10.7906/\n"
     ]
    },
    {
     "name": "stderr",
     "output_type": "stream",
     "text": [
      "Warning message in mutate_impl(.data, dots):\n",
      "“binding character and factor vector, coercing into character vector”"
     ]
    },
    {
     "name": "stdout",
     "output_type": "stream",
     "text": [
      "[1] \"Crossref\"\n",
      "[1] 10.12659/\n",
      "298 Levels: 10.1002/ 10.1007/ 10.1016/ 10.1017/ 10.1021/ 10.1023/ ... 10.7906/\n"
     ]
    },
    {
     "name": "stderr",
     "output_type": "stream",
     "text": [
      "Warning message in mutate_impl(.data, dots):\n",
      "“binding character and factor vector, coercing into character vector”"
     ]
    },
    {
     "name": "stdout",
     "output_type": "stream",
     "text": [
      "[1] \"Crossref\"\n",
      "[1] 10.7906/\n",
      "298 Levels: 10.1002/ 10.1007/ 10.1016/ 10.1017/ 10.1021/ 10.1023/ ... 10.7906/\n"
     ]
    },
    {
     "name": "stderr",
     "output_type": "stream",
     "text": [
      "Warning message in mutate_impl(.data, dots):\n",
      "“binding character and factor vector, coercing into character vector”"
     ]
    },
    {
     "name": "stdout",
     "output_type": "stream",
     "text": [
      "[1] \"KISTI\"\n",
      "[1] 10.5932/\n",
      "298 Levels: 10.1002/ 10.1007/ 10.1016/ 10.1017/ 10.1021/ 10.1023/ ... 10.7906/\n"
     ]
    },
    {
     "name": "stderr",
     "output_type": "stream",
     "text": [
      "Warning message in mutate_impl(.data, dots):\n",
      "“binding character and factor vector, coercing into character vector”"
     ]
    },
    {
     "name": "stdout",
     "output_type": "stream",
     "text": [
      "[1] \"mEDRA\"\n",
      "[1] 10.3280/\n",
      "298 Levels: 10.1002/ 10.1007/ 10.1016/ 10.1017/ 10.1021/ 10.1023/ ... 10.7906/\n"
     ]
    },
    {
     "name": "stderr",
     "output_type": "stream",
     "text": [
      "Warning message in mutate_impl(.data, dots):\n",
      "“binding character and factor vector, coercing into character vector”"
     ]
    },
    {
     "name": "stdout",
     "output_type": "stream",
     "text": [
      "[1] \"Crossref\"\n",
      "[1] 10.13080/\n",
      "298 Levels: 10.1002/ 10.1007/ 10.1016/ 10.1017/ 10.1021/ 10.1023/ ... 10.7906/\n"
     ]
    },
    {
     "name": "stderr",
     "output_type": "stream",
     "text": [
      "Warning message in mutate_impl(.data, dots):\n",
      "“binding character and factor vector, coercing into character vector”"
     ]
    },
    {
     "name": "stdout",
     "output_type": "stream",
     "text": [
      "[1] \"KISTI\"\n",
      "[1] 10.12989/\n",
      "298 Levels: 10.1002/ 10.1007/ 10.1016/ 10.1017/ 10.1021/ 10.1023/ ... 10.7906/\n"
     ]
    },
    {
     "name": "stderr",
     "output_type": "stream",
     "text": [
      "Warning message in mutate_impl(.data, dots):\n",
      "“binding character and factor vector, coercing into character vector”"
     ]
    },
    {
     "name": "stdout",
     "output_type": "stream",
     "text": [
      "[1] \"KISTI\"\n",
      "[1] 10.14191/\n",
      "298 Levels: 10.1002/ 10.1007/ 10.1016/ 10.1017/ 10.1021/ 10.1023/ ... 10.7906/\n"
     ]
    },
    {
     "name": "stderr",
     "output_type": "stream",
     "text": [
      "Warning message in mutate_impl(.data, dots):\n",
      "“binding character and factor vector, coercing into character vector”"
     ]
    },
    {
     "name": "stdout",
     "output_type": "stream",
     "text": [
      "[1] \"Crossref\"\n",
      "[1] 10.5089/\n",
      "298 Levels: 10.1002/ 10.1007/ 10.1016/ 10.1017/ 10.1021/ 10.1023/ ... 10.7906/\n"
     ]
    },
    {
     "name": "stderr",
     "output_type": "stream",
     "text": [
      "Warning message in mutate_impl(.data, dots):\n",
      "“binding character and factor vector, coercing into character vector”"
     ]
    },
    {
     "name": "stdout",
     "output_type": "stream",
     "text": [
      "[1] \"Crossref\"\n",
      "[1] 10.14498/\n",
      "298 Levels: 10.1002/ 10.1007/ 10.1016/ 10.1017/ 10.1021/ 10.1023/ ... 10.7906/\n"
     ]
    },
    {
     "name": "stderr",
     "output_type": "stream",
     "text": [
      "Warning message in mutate_impl(.data, dots):\n",
      "“binding character and factor vector, coercing into character vector”"
     ]
    },
    {
     "name": "stdout",
     "output_type": "stream",
     "text": [
      "[1] \"Crossref\"\n",
      "[1] 10.13168/\n",
      "298 Levels: 10.1002/ 10.1007/ 10.1016/ 10.1017/ 10.1021/ 10.1023/ ... 10.7906/\n"
     ]
    },
    {
     "name": "stderr",
     "output_type": "stream",
     "text": [
      "Warning message in mutate_impl(.data, dots):\n",
      "“binding character and factor vector, coercing into character vector”"
     ]
    },
    {
     "name": "stdout",
     "output_type": "stream",
     "text": [
      "[1] \"Crossref\"\n",
      "[1] 10.15171/\n",
      "298 Levels: 10.1002/ 10.1007/ 10.1016/ 10.1017/ 10.1021/ 10.1023/ ... 10.7906/\n"
     ]
    },
    {
     "name": "stderr",
     "output_type": "stream",
     "text": [
      "Warning message in mutate_impl(.data, dots):\n",
      "“binding character and factor vector, coercing into character vector”"
     ]
    },
    {
     "name": "stdout",
     "output_type": "stream",
     "text": [
      "[1] \"Crossref\"\n",
      "[1] 10.15195/\n",
      "298 Levels: 10.1002/ 10.1007/ 10.1016/ 10.1017/ 10.1021/ 10.1023/ ... 10.7906/\n"
     ]
    },
    {
     "name": "stderr",
     "output_type": "stream",
     "text": [
      "Warning message in mutate_impl(.data, dots):\n",
      "“binding character and factor vector, coercing into character vector”"
     ]
    },
    {
     "name": "stdout",
     "output_type": "stream",
     "text": [
      "[1] \"Crossref\"\n",
      "[1] 10.1352/\n",
      "298 Levels: 10.1002/ 10.1007/ 10.1016/ 10.1017/ 10.1021/ 10.1023/ ... 10.7906/\n"
     ]
    },
    {
     "name": "stderr",
     "output_type": "stream",
     "text": [
      "Warning message in mutate_impl(.data, dots):\n",
      "“binding character and factor vector, coercing into character vector”"
     ]
    },
    {
     "name": "stdout",
     "output_type": "stream",
     "text": [
      "[1] \"Crossref\"\n",
      "[1] 10.14529/\n",
      "298 Levels: 10.1002/ 10.1007/ 10.1016/ 10.1017/ 10.1021/ 10.1023/ ... 10.7906/\n"
     ]
    },
    {
     "name": "stderr",
     "output_type": "stream",
     "text": [
      "Warning message in mutate_impl(.data, dots):\n",
      "“binding character and factor vector, coercing into character vector”"
     ]
    },
    {
     "name": "stdout",
     "output_type": "stream",
     "text": [
      "[1] \"Crossref\"\n",
      "[1] 10.3139/\n",
      "298 Levels: 10.1002/ 10.1007/ 10.1016/ 10.1017/ 10.1021/ 10.1023/ ... 10.7906/\n"
     ]
    },
    {
     "name": "stderr",
     "output_type": "stream",
     "text": [
      "Warning message in mutate_impl(.data, dots):\n",
      "“binding character and factor vector, coercing into character vector”"
     ]
    },
    {
     "name": "stdout",
     "output_type": "stream",
     "text": [
      "[1] \"Crossref\"\n",
      "[1] 10.15177/\n",
      "298 Levels: 10.1002/ 10.1007/ 10.1016/ 10.1017/ 10.1021/ 10.1023/ ... 10.7906/\n"
     ]
    },
    {
     "name": "stderr",
     "output_type": "stream",
     "text": [
      "Warning message in mutate_impl(.data, dots):\n",
      "“binding character and factor vector, coercing into character vector”"
     ]
    },
    {
     "name": "stdout",
     "output_type": "stream",
     "text": [
      "[1] \"Crossref\"\n",
      "[1] 10.1365/\n",
      "298 Levels: 10.1002/ 10.1007/ 10.1016/ 10.1017/ 10.1021/ 10.1023/ ... 10.7906/\n"
     ]
    },
    {
     "name": "stderr",
     "output_type": "stream",
     "text": [
      "Warning message in mutate_impl(.data, dots):\n",
      "“binding character and factor vector, coercing into character vector”"
     ]
    },
    {
     "name": "stdout",
     "output_type": "stream",
     "text": [
      "[1] \"Crossref\"\n",
      "[1] 10.5626/\n",
      "298 Levels: 10.1002/ 10.1007/ 10.1016/ 10.1017/ 10.1021/ 10.1023/ ... 10.7906/\n"
     ]
    },
    {
     "name": "stderr",
     "output_type": "stream",
     "text": [
      "Warning message in mutate_impl(.data, dots):\n",
      "“binding character and factor vector, coercing into character vector”"
     ]
    },
    {
     "name": "stdout",
     "output_type": "stream",
     "text": [
      "[1] \"Crossref\"\n",
      "[1] 10.15802/\n",
      "298 Levels: 10.1002/ 10.1007/ 10.1016/ 10.1017/ 10.1021/ 10.1023/ ... 10.7906/\n"
     ]
    },
    {
     "name": "stderr",
     "output_type": "stream",
     "text": [
      "Warning message in mutate_impl(.data, dots):\n",
      "“binding character and factor vector, coercing into character vector”"
     ]
    },
    {
     "name": "stdout",
     "output_type": "stream",
     "text": [
      "[1] \"Crossref\"\n",
      "[1] 10.3310/\n",
      "298 Levels: 10.1002/ 10.1007/ 10.1016/ 10.1017/ 10.1021/ 10.1023/ ... 10.7906/\n"
     ]
    },
    {
     "name": "stderr",
     "output_type": "stream",
     "text": [
      "Warning message in mutate_impl(.data, dots):\n",
      "“binding character and factor vector, coercing into character vector”"
     ]
    },
    {
     "name": "stdout",
     "output_type": "stream",
     "text": [
      "[1] \"Crossref\"\n",
      "[1] 10.7243/\n",
      "298 Levels: 10.1002/ 10.1007/ 10.1016/ 10.1017/ 10.1021/ 10.1023/ ... 10.7906/\n"
     ]
    },
    {
     "name": "stderr",
     "output_type": "stream",
     "text": [
      "Warning message in mutate_impl(.data, dots):\n",
      "“binding character and factor vector, coercing into character vector”"
     ]
    },
    {
     "name": "stdout",
     "output_type": "stream",
     "text": [
      "[1] \"Crossref\"\n",
      "[1] 10.15446/\n",
      "298 Levels: 10.1002/ 10.1007/ 10.1016/ 10.1017/ 10.1021/ 10.1023/ ... 10.7906/\n"
     ]
    },
    {
     "name": "stderr",
     "output_type": "stream",
     "text": [
      "Warning message in mutate_impl(.data, dots):\n",
      "“binding character and factor vector, coercing into character vector”"
     ]
    },
    {
     "name": "stdout",
     "output_type": "stream",
     "text": [
      "[1] \"Crossref\"\n",
      "[1] 10.13109/\n",
      "298 Levels: 10.1002/ 10.1007/ 10.1016/ 10.1017/ 10.1021/ 10.1023/ ... 10.7906/\n"
     ]
    },
    {
     "name": "stderr",
     "output_type": "stream",
     "text": [
      "Warning message in mutate_impl(.data, dots):\n",
      "“binding character and factor vector, coercing into character vector”"
     ]
    },
    {
     "name": "stdout",
     "output_type": "stream",
     "text": [
      "[1] \"Crossref\"\n",
      "[1] 10.15257/\n",
      "298 Levels: 10.1002/ 10.1007/ 10.1016/ 10.1017/ 10.1021/ 10.1023/ ... 10.7906/\n"
     ]
    },
    {
     "name": "stderr",
     "output_type": "stream",
     "text": [
      "Warning message in mutate_impl(.data, dots):\n",
      "“binding character and factor vector, coercing into character vector”"
     ]
    },
    {
     "name": "stdout",
     "output_type": "stream",
     "text": [
      "[1] \"Crossref\"\n",
      "[1] 10.15591/\n",
      "298 Levels: 10.1002/ 10.1007/ 10.1016/ 10.1017/ 10.1021/ 10.1023/ ... 10.7906/\n"
     ]
    },
    {
     "name": "stderr",
     "output_type": "stream",
     "text": [
      "Warning message in mutate_impl(.data, dots):\n",
      "“binding character and factor vector, coercing into character vector”"
     ]
    },
    {
     "name": "stdout",
     "output_type": "stream",
     "text": [
      "[1] \"Crossref\"\n",
      "[1] 10.15296/\n",
      "298 Levels: 10.1002/ 10.1007/ 10.1016/ 10.1017/ 10.1021/ 10.1023/ ... 10.7906/\n"
     ]
    },
    {
     "name": "stderr",
     "output_type": "stream",
     "text": [
      "Warning message in mutate_impl(.data, dots):\n",
      "“binding character and factor vector, coercing into character vector”"
     ]
    },
    {
     "name": "stdout",
     "output_type": "stream",
     "text": [
      "[1] \"Crossref\"\n",
      "[1] 10.15407/\n",
      "298 Levels: 10.1002/ 10.1007/ 10.1016/ 10.1017/ 10.1021/ 10.1023/ ... 10.7906/\n"
     ]
    },
    {
     "name": "stderr",
     "output_type": "stream",
     "text": [
      "Warning message in mutate_impl(.data, dots):\n",
      "“binding character and factor vector, coercing into character vector”"
     ]
    },
    {
     "name": "stdout",
     "output_type": "stream",
     "text": [
      "[1] \"Crossref\"\n",
      "[1] 10.18060/\n",
      "298 Levels: 10.1002/ 10.1007/ 10.1016/ 10.1017/ 10.1021/ 10.1023/ ... 10.7906/\n"
     ]
    },
    {
     "name": "stderr",
     "output_type": "stream",
     "text": [
      "Warning message in mutate_impl(.data, dots):\n",
      "“binding character and factor vector, coercing into character vector”"
     ]
    },
    {
     "name": "stdout",
     "output_type": "stream",
     "text": [
      "[1] \"Crossref\"\n",
      "[1] 10.15291/\n",
      "298 Levels: 10.1002/ 10.1007/ 10.1016/ 10.1017/ 10.1021/ 10.1023/ ... 10.7906/\n"
     ]
    },
    {
     "name": "stderr",
     "output_type": "stream",
     "text": [
      "Warning message in mutate_impl(.data, dots):\n",
      "“binding character and factor vector, coercing into character vector”"
     ]
    },
    {
     "name": "stdout",
     "output_type": "stream",
     "text": [
      "[1] \"Crossref\"\n",
      "[1] 10.17533/\n",
      "298 Levels: 10.1002/ 10.1007/ 10.1016/ 10.1017/ 10.1021/ 10.1023/ ... 10.7906/\n"
     ]
    },
    {
     "name": "stderr",
     "output_type": "stream",
     "text": [
      "Warning message in mutate_impl(.data, dots):\n",
      "“binding character and factor vector, coercing into character vector”"
     ]
    },
    {
     "name": "stdout",
     "output_type": "stream",
     "text": [
      "[1] \"Crossref\"\n",
      "[1] 10.18854/\n",
      "298 Levels: 10.1002/ 10.1007/ 10.1016/ 10.1017/ 10.1021/ 10.1023/ ... 10.7906/\n"
     ]
    },
    {
     "name": "stderr",
     "output_type": "stream",
     "text": [
      "Warning message in mutate_impl(.data, dots):\n",
      "“binding character and factor vector, coercing into character vector”"
     ]
    },
    {
     "name": "stdout",
     "output_type": "stream",
     "text": [
      "[1] \"Crossref\"\n",
      "[1] 10.17230/\n",
      "298 Levels: 10.1002/ 10.1007/ 10.1016/ 10.1017/ 10.1021/ 10.1023/ ... 10.7906/\n"
     ]
    },
    {
     "name": "stderr",
     "output_type": "stream",
     "text": [
      "Warning message in mutate_impl(.data, dots):\n",
      "“binding character and factor vector, coercing into character vector”"
     ]
    },
    {
     "name": "stdout",
     "output_type": "stream",
     "text": [
      "[1] \"Crossref\"\n",
      "[1] 10.17684/\n",
      "298 Levels: 10.1002/ 10.1007/ 10.1016/ 10.1017/ 10.1021/ 10.1023/ ... 10.7906/\n"
     ]
    },
    {
     "name": "stderr",
     "output_type": "stream",
     "text": [
      "Warning message in mutate_impl(.data, dots):\n",
      "“binding character and factor vector, coercing into character vector”"
     ]
    },
    {
     "name": "stdout",
     "output_type": "stream",
     "text": [
      "[1] \"Crossref\"\n",
      "[1] 10.7764/\n",
      "298 Levels: 10.1002/ 10.1007/ 10.1016/ 10.1017/ 10.1021/ 10.1023/ ... 10.7906/\n"
     ]
    },
    {
     "name": "stderr",
     "output_type": "stream",
     "text": [
      "Warning message in mutate_impl(.data, dots):\n",
      "“binding character and factor vector, coercing into character vector”"
     ]
    },
    {
     "name": "stdout",
     "output_type": "stream",
     "text": [
      "[1] \"Crossref\"\n",
      "[1] 10.17116/\n",
      "298 Levels: 10.1002/ 10.1007/ 10.1016/ 10.1017/ 10.1021/ 10.1023/ ... 10.7906/\n"
     ]
    },
    {
     "name": "stderr",
     "output_type": "stream",
     "text": [
      "Warning message in mutate_impl(.data, dots):\n",
      "“binding character and factor vector, coercing into character vector”"
     ]
    },
    {
     "name": "stdout",
     "output_type": "stream",
     "text": [
      "[1] \"Crossref\"\n",
      "[1] 10.17358/\n",
      "298 Levels: 10.1002/ 10.1007/ 10.1016/ 10.1017/ 10.1021/ 10.1023/ ... 10.7906/\n"
     ]
    },
    {
     "name": "stderr",
     "output_type": "stream",
     "text": [
      "Warning message in mutate_impl(.data, dots):\n",
      "“binding character and factor vector, coercing into character vector”"
     ]
    },
    {
     "name": "stdout",
     "output_type": "stream",
     "text": [
      "[1] \"Crossref\"\n",
      "[1] 10.21105/\n",
      "298 Levels: 10.1002/ 10.1007/ 10.1016/ 10.1017/ 10.1021/ 10.1023/ ... 10.7906/\n"
     ]
    },
    {
     "name": "stderr",
     "output_type": "stream",
     "text": [
      "Warning message in mutate_impl(.data, dots):\n",
      "“binding character and factor vector, coercing into character vector”"
     ]
    },
    {
     "name": "stdout",
     "output_type": "stream",
     "text": [
      "[1] \"Crossref\"\n",
      "[1] 10.14201/\n",
      "298 Levels: 10.1002/ 10.1007/ 10.1016/ 10.1017/ 10.1021/ 10.1023/ ... 10.7906/\n"
     ]
    },
    {
     "name": "stderr",
     "output_type": "stream",
     "text": [
      "Warning message in mutate_impl(.data, dots):\n",
      "“binding character and factor vector, coercing into character vector”"
     ]
    },
    {
     "name": "stdout",
     "output_type": "stream",
     "text": [
      "[1] \"Crossref\"\n",
      "[1] 10.22237/\n",
      "298 Levels: 10.1002/ 10.1007/ 10.1016/ 10.1017/ 10.1021/ 10.1023/ ... 10.7906/\n"
     ]
    },
    {
     "name": "stderr",
     "output_type": "stream",
     "text": [
      "Warning message in mutate_impl(.data, dots):\n",
      "“binding character and factor vector, coercing into character vector”"
     ]
    },
    {
     "name": "stdout",
     "output_type": "stream",
     "text": [
      "[1] \"OP\"\n",
      "[1] 10.2903/\n",
      "298 Levels: 10.1002/ 10.1007/ 10.1016/ 10.1017/ 10.1021/ 10.1023/ ... 10.7906/\n"
     ]
    },
    {
     "name": "stderr",
     "output_type": "stream",
     "text": [
      "Warning message in mutate_impl(.data, dots):\n",
      "“binding character and factor vector, coercing into character vector”"
     ]
    },
    {
     "name": "stdout",
     "output_type": "stream",
     "text": [
      "[1] \"Crossref\"\n",
      "[1] 10.20867/\n",
      "298 Levels: 10.1002/ 10.1007/ 10.1016/ 10.1017/ 10.1021/ 10.1023/ ... 10.7906/\n"
     ]
    },
    {
     "name": "stderr",
     "output_type": "stream",
     "text": [
      "Warning message in mutate_impl(.data, dots):\n",
      "“binding character and factor vector, coercing into character vector”"
     ]
    },
    {
     "name": "stdout",
     "output_type": "stream",
     "text": [
      "[1] \"Crossref\"\n",
      "[1] 10.17660/\n",
      "298 Levels: 10.1002/ 10.1007/ 10.1016/ 10.1017/ 10.1021/ 10.1023/ ... 10.7906/\n"
     ]
    },
    {
     "name": "stderr",
     "output_type": "stream",
     "text": [
      "Warning message in mutate_impl(.data, dots):\n",
      "“binding character and factor vector, coercing into character vector”"
     ]
    },
    {
     "name": "stdout",
     "output_type": "stream",
     "text": [
      "[1] \"Crossref\"\n",
      "[1] 10.21859/\n",
      "298 Levels: 10.1002/ 10.1007/ 10.1016/ 10.1017/ 10.1021/ 10.1023/ ... 10.7906/\n"
     ]
    },
    {
     "name": "stderr",
     "output_type": "stream",
     "text": [
      "Warning message in mutate_impl(.data, dots):\n",
      "“binding character and factor vector, coercing into character vector”"
     ]
    },
    {
     "name": "stdout",
     "output_type": "stream",
     "text": [
      "[1] \"Crossref\"\n",
      "[1] 10.20286/\n",
      "298 Levels: 10.1002/ 10.1007/ 10.1016/ 10.1017/ 10.1021/ 10.1023/ ... 10.7906/\n"
     ]
    },
    {
     "name": "stderr",
     "output_type": "stream",
     "text": [
      "Warning message in mutate_impl(.data, dots):\n",
      "“binding character and factor vector, coercing into character vector”"
     ]
    },
    {
     "name": "stdout",
     "output_type": "stream",
     "text": [
      "[1] \"mEDRA\"\n",
      "[1] 10.19261/\n",
      "298 Levels: 10.1002/ 10.1007/ 10.1016/ 10.1017/ 10.1021/ 10.1023/ ... 10.7906/\n"
     ]
    },
    {
     "name": "stderr",
     "output_type": "stream",
     "text": [
      "Warning message in mutate_impl(.data, dots):\n",
      "“binding character and factor vector, coercing into character vector”"
     ]
    },
    {
     "name": "stdout",
     "output_type": "stream",
     "text": [
      "[1] \"Crossref\"\n",
      "[1] 10.22331/\n",
      "298 Levels: 10.1002/ 10.1007/ 10.1016/ 10.1017/ 10.1021/ 10.1023/ ... 10.7906/\n"
     ]
    },
    {
     "name": "stderr",
     "output_type": "stream",
     "text": [
      "Warning message in mutate_impl(.data, dots):\n",
      "“binding character and factor vector, coercing into character vector”"
     ]
    },
    {
     "name": "stdout",
     "output_type": "stream",
     "text": [
      "[1] \"Crossref\"\n",
      "[1] 10.3733/\n",
      "298 Levels: 10.1002/ 10.1007/ 10.1016/ 10.1017/ 10.1021/ 10.1023/ ... 10.7906/\n"
     ]
    },
    {
     "name": "stderr",
     "output_type": "stream",
     "text": [
      "Warning message in mutate_impl(.data, dots):\n",
      "“binding character and factor vector, coercing into character vector”"
     ]
    },
    {
     "name": "stdout",
     "output_type": "stream",
     "text": [
      "[1] \"Crossref\"\n",
      "[1] 10.16981/\n",
      "298 Levels: 10.1002/ 10.1007/ 10.1016/ 10.1017/ 10.1021/ 10.1023/ ... 10.7906/\n"
     ]
    },
    {
     "name": "stderr",
     "output_type": "stream",
     "text": [
      "Warning message in mutate_impl(.data, dots):\n",
      "“binding character and factor vector, coercing into character vector”"
     ]
    },
    {
     "name": "stdout",
     "output_type": "stream",
     "text": [
      "[1] \"Crossref\"\n",
      "[1] 10.1525/\n",
      "298 Levels: 10.1002/ 10.1007/ 10.1016/ 10.1017/ 10.1021/ 10.1023/ ... 10.7906/\n"
     ]
    },
    {
     "name": "stderr",
     "output_type": "stream",
     "text": [
      "Warning message in mutate_impl(.data, dots):\n",
      "“binding character and factor vector, coercing into character vector”"
     ]
    },
    {
     "name": "stdout",
     "output_type": "stream",
     "text": [
      "[1] \"Crossref\"\n",
      "[1] 10.23919/\n",
      "298 Levels: 10.1002/ 10.1007/ 10.1016/ 10.1017/ 10.1021/ 10.1023/ ... 10.7906/\n"
     ]
    },
    {
     "name": "stderr",
     "output_type": "stream",
     "text": [
      "Warning message in mutate_impl(.data, dots):\n",
      "“binding character and factor vector, coercing into character vector”"
     ]
    },
    {
     "name": "stdout",
     "output_type": "stream",
     "text": [
      "[1] \"Crossref\"\n",
      "[1] 10.1145/\n",
      "298 Levels: 10.1002/ 10.1007/ 10.1016/ 10.1017/ 10.1021/ 10.1023/ ... 10.7906/\n"
     ]
    },
    {
     "name": "stderr",
     "output_type": "stream",
     "text": [
      "Warning message in mutate_impl(.data, dots):\n",
      "“binding character and factor vector, coercing into character vector”"
     ]
    },
    {
     "name": "stdout",
     "output_type": "stream",
     "text": [
      "[1] \"Crossref\"\n",
      "[1] 10.20334/\n",
      "298 Levels: 10.1002/ 10.1007/ 10.1016/ 10.1017/ 10.1021/ 10.1023/ ... 10.7906/\n"
     ]
    },
    {
     "name": "stderr",
     "output_type": "stream",
     "text": [
      "Warning message in mutate_impl(.data, dots):\n",
      "“binding character and factor vector, coercing into character vector”"
     ]
    },
    {
     "name": "stdout",
     "output_type": "stream",
     "text": [
      "[1] \"Crossref\"\n",
      "[1] 10.1046/\n",
      "298 Levels: 10.1002/ 10.1007/ 10.1016/ 10.1017/ 10.1021/ 10.1023/ ... 10.7906/\n"
     ]
    },
    {
     "name": "stderr",
     "output_type": "stream",
     "text": [
      "Warning message in mutate_impl(.data, dots):\n",
      "“binding character and factor vector, coercing into character vector”"
     ]
    },
    {
     "name": "stdout",
     "output_type": "stream",
     "text": [
      "[1] \"Crossref\"\n",
      "[1] 10.1023/\n",
      "298 Levels: 10.1002/ 10.1007/ 10.1016/ 10.1017/ 10.1021/ 10.1023/ ... 10.7906/\n"
     ]
    },
    {
     "name": "stderr",
     "output_type": "stream",
     "text": [
      "Warning message in mutate_impl(.data, dots):\n",
      "“binding character and factor vector, coercing into character vector”"
     ]
    },
    {
     "name": "stdout",
     "output_type": "stream",
     "text": [
      "[1] \"Crossref\"\n",
      "[1] 10.3727/\n",
      "298 Levels: 10.1002/ 10.1007/ 10.1016/ 10.1017/ 10.1021/ 10.1023/ ... 10.7906/\n"
     ]
    },
    {
     "name": "stderr",
     "output_type": "stream",
     "text": [
      "Warning message in mutate_impl(.data, dots):\n",
      "“binding character and factor vector, coercing into character vector”"
     ]
    },
    {
     "name": "stdout",
     "output_type": "stream",
     "text": [
      "[1] \"Crossref\"\n",
      "[1] 10.1061/\n",
      "298 Levels: 10.1002/ 10.1007/ 10.1016/ 10.1017/ 10.1021/ 10.1023/ ... 10.7906/\n"
     ]
    },
    {
     "name": "stderr",
     "output_type": "stream",
     "text": [
      "Warning message in mutate_impl(.data, dots):\n",
      "“binding character and factor vector, coercing into character vector”"
     ]
    },
    {
     "name": "stdout",
     "output_type": "stream",
     "text": [
      "[1] \"Crossref\"\n",
      "[1] 10.1117/\n",
      "298 Levels: 10.1002/ 10.1007/ 10.1016/ 10.1017/ 10.1021/ 10.1023/ ... 10.7906/\n"
     ]
    },
    {
     "name": "stderr",
     "output_type": "stream",
     "text": [
      "Warning message in mutate_impl(.data, dots):\n",
      "“binding character and factor vector, coercing into character vector”"
     ]
    },
    {
     "name": "stdout",
     "output_type": "stream",
     "text": [
      "[1] \"Crossref\"\n",
      "[1] 10.1068/\n",
      "298 Levels: 10.1002/ 10.1007/ 10.1016/ 10.1017/ 10.1021/ 10.1023/ ... 10.7906/\n"
     ]
    },
    {
     "name": "stderr",
     "output_type": "stream",
     "text": [
      "Warning message in mutate_impl(.data, dots):\n",
      "“binding character and factor vector, coercing into character vector”"
     ]
    },
    {
     "name": "stdout",
     "output_type": "stream",
     "text": [
      "[1] \"Crossref\"\n",
      "[1] 10.1049/\n",
      "298 Levels: 10.1002/ 10.1007/ 10.1016/ 10.1017/ 10.1021/ 10.1023/ ... 10.7906/\n"
     ]
    },
    {
     "name": "stderr",
     "output_type": "stream",
     "text": [
      "Warning message in mutate_impl(.data, dots):\n",
      "“binding character and factor vector, coercing into character vector”"
     ]
    },
    {
     "name": "stdout",
     "output_type": "stream",
     "text": [
      "[1] \"Crossref\"\n",
      "[1] 10.1054/\n",
      "298 Levels: 10.1002/ 10.1007/ 10.1016/ 10.1017/ 10.1021/ 10.1023/ ... 10.7906/\n"
     ]
    },
    {
     "name": "stderr",
     "output_type": "stream",
     "text": [
      "Warning message in mutate_impl(.data, dots):\n",
      "“binding character and factor vector, coercing into character vector”"
     ]
    },
    {
     "name": "stdout",
     "output_type": "stream",
     "text": [
      "[1] \"Crossref\"\n",
      "[1] 10.1053/\n",
      "298 Levels: 10.1002/ 10.1007/ 10.1016/ 10.1017/ 10.1021/ 10.1023/ ... 10.7906/\n"
     ]
    },
    {
     "name": "stderr",
     "output_type": "stream",
     "text": [
      "Warning message in mutate_impl(.data, dots):\n",
      "“binding character and factor vector, coercing into character vector”"
     ]
    },
    {
     "name": "stdout",
     "output_type": "stream",
     "text": [
      "[1] \"Crossref\"\n",
      "[1] 10.1074/\n",
      "298 Levels: 10.1002/ 10.1007/ 10.1016/ 10.1017/ 10.1021/ 10.1023/ ... 10.7906/\n"
     ]
    },
    {
     "name": "stderr",
     "output_type": "stream",
     "text": [
      "Warning message in mutate_impl(.data, dots):\n",
      "“binding character and factor vector, coercing into character vector”"
     ]
    },
    {
     "name": "stdout",
     "output_type": "stream",
     "text": [
      "[1] \"Crossref\"\n",
      "[1] 10.1596/\n",
      "298 Levels: 10.1002/ 10.1007/ 10.1016/ 10.1017/ 10.1021/ 10.1023/ ... 10.7906/\n"
     ]
    },
    {
     "name": "stderr",
     "output_type": "stream",
     "text": [
      "Warning message in mutate_impl(.data, dots):\n",
      "“binding character and factor vector, coercing into character vector”"
     ]
    },
    {
     "name": "stdout",
     "output_type": "stream",
     "text": [
      "[1] \"Crossref\"\n",
      "[1] 10.1056/\n",
      "298 Levels: 10.1002/ 10.1007/ 10.1016/ 10.1017/ 10.1021/ 10.1023/ ... 10.7906/\n"
     ]
    },
    {
     "name": "stderr",
     "output_type": "stream",
     "text": [
      "Warning message in mutate_impl(.data, dots):\n",
      "“binding character and factor vector, coercing into character vector”"
     ]
    },
    {
     "name": "stdout",
     "output_type": "stream",
     "text": [
      "[1] \"Crossref\"\n",
      "[1] 10.1163/\n",
      "298 Levels: 10.1002/ 10.1007/ 10.1016/ 10.1017/ 10.1021/ 10.1023/ ... 10.7906/\n"
     ]
    },
    {
     "name": "stderr",
     "output_type": "stream",
     "text": [
      "Warning message in mutate_impl(.data, dots):\n",
      "“binding character and factor vector, coercing into character vector”"
     ]
    },
    {
     "name": "stdout",
     "output_type": "stream",
     "text": [
      "[1] \"Crossref\"\n",
      "[1] 10.1242/\n",
      "298 Levels: 10.1002/ 10.1007/ 10.1016/ 10.1017/ 10.1021/ 10.1023/ ... 10.7906/\n"
     ]
    },
    {
     "name": "stderr",
     "output_type": "stream",
     "text": [
      "Warning message in mutate_impl(.data, dots):\n",
      "“binding character and factor vector, coercing into character vector”"
     ]
    },
    {
     "name": "stdout",
     "output_type": "stream",
     "text": [
      "[1] \"Crossref\"\n",
      "[1] 10.1258/\n",
      "298 Levels: 10.1002/ 10.1007/ 10.1016/ 10.1017/ 10.1021/ 10.1023/ ... 10.7906/\n"
     ]
    },
    {
     "name": "stderr",
     "output_type": "stream",
     "text": [
      "Warning message in mutate_impl(.data, dots):\n",
      "“binding character and factor vector, coercing into character vector”"
     ]
    },
    {
     "name": "stdout",
     "output_type": "stream",
     "text": [
      "[1] \"Crossref\"\n",
      "[1] 10.1518/\n",
      "298 Levels: 10.1002/ 10.1007/ 10.1016/ 10.1017/ 10.1021/ 10.1023/ ... 10.7906/\n"
     ]
    },
    {
     "name": "stderr",
     "output_type": "stream",
     "text": [
      "Warning message in mutate_impl(.data, dots):\n",
      "“binding character and factor vector, coercing into character vector”"
     ]
    },
    {
     "name": "stdout",
     "output_type": "stream",
     "text": [
      "[1] \"Crossref\"\n",
      "[1] 10.1137/\n",
      "298 Levels: 10.1002/ 10.1007/ 10.1016/ 10.1017/ 10.1021/ 10.1023/ ... 10.7906/\n"
     ]
    },
    {
     "name": "stderr",
     "output_type": "stream",
     "text": [
      "Warning message in mutate_impl(.data, dots):\n",
      "“binding character and factor vector, coercing into character vector”"
     ]
    },
    {
     "name": "stdout",
     "output_type": "stream",
     "text": [
      "[1] \"Crossref\"\n",
      "[1] 10.2304/\n",
      "298 Levels: 10.1002/ 10.1007/ 10.1016/ 10.1017/ 10.1021/ 10.1023/ ... 10.7906/\n"
     ]
    },
    {
     "name": "stderr",
     "output_type": "stream",
     "text": [
      "Warning message in mutate_impl(.data, dots):\n",
      "“binding character and factor vector, coercing into character vector”"
     ]
    },
    {
     "name": "stdout",
     "output_type": "stream",
     "text": [
      "[1] \"Crossref\"\n",
      "[1] 10.1300/\n",
      "298 Levels: 10.1002/ 10.1007/ 10.1016/ 10.1017/ 10.1021/ 10.1023/ ... 10.7906/\n"
     ]
    },
    {
     "name": "stderr",
     "output_type": "stream",
     "text": [
      "Warning message in mutate_impl(.data, dots):\n",
      "“binding character and factor vector, coercing into character vector”"
     ]
    },
    {
     "name": "stdout",
     "output_type": "stream",
     "text": [
      "[1] \"Crossref\"\n",
      "[1] 10.2307/\n",
      "298 Levels: 10.1002/ 10.1007/ 10.1016/ 10.1017/ 10.1021/ 10.1023/ ... 10.7906/\n"
     ]
    },
    {
     "name": "stderr",
     "output_type": "stream",
     "text": [
      "Warning message in mutate_impl(.data, dots):\n",
      "“binding character and factor vector, coercing into character vector”"
     ]
    },
    {
     "name": "stdout",
     "output_type": "stream",
     "text": [
      "[1] \"Crossref\"\n",
      "[1] 10.2471/\n",
      "298 Levels: 10.1002/ 10.1007/ 10.1016/ 10.1017/ 10.1021/ 10.1023/ ... 10.7906/\n"
     ]
    },
    {
     "name": "stderr",
     "output_type": "stream",
     "text": [
      "Warning message in mutate_impl(.data, dots):\n",
      "“binding character and factor vector, coercing into character vector”"
     ]
    },
    {
     "name": "stdout",
     "output_type": "stream",
     "text": [
      "[1] \"Crossref\"\n",
      "[1] 10.2112/\n",
      "298 Levels: 10.1002/ 10.1007/ 10.1016/ 10.1017/ 10.1021/ 10.1023/ ... 10.7906/\n"
     ]
    },
    {
     "name": "stderr",
     "output_type": "stream",
     "text": [
      "Warning message in mutate_impl(.data, dots):\n",
      "“binding character and factor vector, coercing into character vector”"
     ]
    },
    {
     "name": "stdout",
     "output_type": "stream",
     "text": [
      "[1] \"Crossref\"\n",
      "[1] 10.2466/\n",
      "298 Levels: 10.1002/ 10.1007/ 10.1016/ 10.1017/ 10.1021/ 10.1023/ ... 10.7906/\n"
     ]
    },
    {
     "name": "stderr",
     "output_type": "stream",
     "text": [
      "Warning message in mutate_impl(.data, dots):\n",
      "“binding character and factor vector, coercing into character vector”"
     ]
    },
    {
     "name": "stdout",
     "output_type": "stream",
     "text": [
      "[1] \"Crossref\"\n",
      "[1] 10.1364/\n",
      "298 Levels: 10.1002/ 10.1007/ 10.1016/ 10.1017/ 10.1021/ 10.1023/ ... 10.7906/\n"
     ]
    },
    {
     "name": "stderr",
     "output_type": "stream",
     "text": [
      "Warning message in mutate_impl(.data, dots):\n",
      "“binding character and factor vector, coercing into character vector”"
     ]
    },
    {
     "name": "stdout",
     "output_type": "stream",
     "text": [
      "[1] \"Crossref\"\n",
      "[1] 10.1371/\n",
      "298 Levels: 10.1002/ 10.1007/ 10.1016/ 10.1017/ 10.1021/ 10.1023/ ... 10.7906/\n"
     ]
    },
    {
     "name": "stderr",
     "output_type": "stream",
     "text": [
      "Warning message in mutate_impl(.data, dots):\n",
      "“binding character and factor vector, coercing into character vector”"
     ]
    },
    {
     "name": "stdout",
     "output_type": "stream",
     "text": [
      "[1] \"Crossref\"\n",
      "[1] 10.3158/\n",
      "298 Levels: 10.1002/ 10.1007/ 10.1016/ 10.1017/ 10.1021/ 10.1023/ ... 10.7906/\n"
     ]
    },
    {
     "name": "stderr",
     "output_type": "stream",
     "text": [
      "Warning message in mutate_impl(.data, dots):\n",
      "“binding character and factor vector, coercing into character vector”"
     ]
    },
    {
     "name": "stdout",
     "output_type": "stream",
     "text": [
      "[1] \"Crossref\"\n",
      "[1] 10.2514/\n",
      "298 Levels: 10.1002/ 10.1007/ 10.1016/ 10.1017/ 10.1021/ 10.1023/ ... 10.7906/\n"
     ]
    },
    {
     "name": "stderr",
     "output_type": "stream",
     "text": [
      "Warning message in mutate_impl(.data, dots):\n",
      "“binding character and factor vector, coercing into character vector”"
     ]
    },
    {
     "name": "stdout",
     "output_type": "stream",
     "text": [
      "[1] \"Crossref\"\n",
      "[1] 10.1243/\n",
      "298 Levels: 10.1002/ 10.1007/ 10.1016/ 10.1017/ 10.1021/ 10.1023/ ... 10.7906/\n"
     ]
    },
    {
     "name": "stderr",
     "output_type": "stream",
     "text": [
      "Warning message in mutate_impl(.data, dots):\n",
      "“binding character and factor vector, coercing into character vector”"
     ]
    },
    {
     "name": "stdout",
     "output_type": "stream",
     "text": [
      "[1] \"Crossref\"\n",
      "[1] 10.3384/\n",
      "298 Levels: 10.1002/ 10.1007/ 10.1016/ 10.1017/ 10.1021/ 10.1023/ ... 10.7906/\n"
     ]
    },
    {
     "name": "stderr",
     "output_type": "stream",
     "text": [
      "Warning message in mutate_impl(.data, dots):\n",
      "“binding character and factor vector, coercing into character vector”"
     ]
    },
    {
     "name": "stdout",
     "output_type": "stream",
     "text": [
      "[1] \"Crossref\"\n",
      "[1] 10.4240/\n",
      "298 Levels: 10.1002/ 10.1007/ 10.1016/ 10.1017/ 10.1021/ 10.1023/ ... 10.7906/\n"
     ]
    },
    {
     "name": "stderr",
     "output_type": "stream",
     "text": [
      "Warning message in mutate_impl(.data, dots):\n",
      "“binding character and factor vector, coercing into character vector”"
     ]
    },
    {
     "name": "stdout",
     "output_type": "stream",
     "text": [
      "[1] \"Crossref\"\n",
      "[1] 10.4329/\n",
      "298 Levels: 10.1002/ 10.1007/ 10.1016/ 10.1017/ 10.1021/ 10.1023/ ... 10.7906/\n"
     ]
    },
    {
     "name": "stderr",
     "output_type": "stream",
     "text": [
      "Warning message in mutate_impl(.data, dots):\n",
      "“binding character and factor vector, coercing into character vector”"
     ]
    },
    {
     "name": "stdout",
     "output_type": "stream",
     "text": [
      "[1] \"Crossref\"\n",
      "[1] 10.3103/\n",
      "298 Levels: 10.1002/ 10.1007/ 10.1016/ 10.1017/ 10.1021/ 10.1023/ ... 10.7906/\n"
     ]
    },
    {
     "name": "stderr",
     "output_type": "stream",
     "text": [
      "Warning message in mutate_impl(.data, dots):\n",
      "“binding character and factor vector, coercing into character vector”"
     ]
    },
    {
     "name": "stdout",
     "output_type": "stream",
     "text": [
      "[1] \"Crossref\"\n",
      "[1] 10.1134/\n",
      "298 Levels: 10.1002/ 10.1007/ 10.1016/ 10.1017/ 10.1021/ 10.1023/ ... 10.7906/\n"
     ]
    },
    {
     "name": "stderr",
     "output_type": "stream",
     "text": [
      "Warning message in mutate_impl(.data, dots):\n",
      "“binding character and factor vector, coercing into character vector”"
     ]
    },
    {
     "name": "stdout",
     "output_type": "stream",
     "text": [
      "[1] \"Crossref\"\n",
      "[1] 10.4252/\n",
      "298 Levels: 10.1002/ 10.1007/ 10.1016/ 10.1017/ 10.1021/ 10.1023/ ... 10.7906/\n"
     ]
    },
    {
     "name": "stderr",
     "output_type": "stream",
     "text": [
      "Warning message in mutate_impl(.data, dots):\n",
      "“binding character and factor vector, coercing into character vector”"
     ]
    },
    {
     "name": "stdout",
     "output_type": "stream",
     "text": [
      "[1] \"Crossref\"\n",
      "[1] 10.2752/\n",
      "298 Levels: 10.1002/ 10.1007/ 10.1016/ 10.1017/ 10.1021/ 10.1023/ ... 10.7906/\n"
     ]
    },
    {
     "name": "stderr",
     "output_type": "stream",
     "text": [
      "Warning message in mutate_impl(.data, dots):\n",
      "“binding character and factor vector, coercing into character vector”"
     ]
    },
    {
     "name": "stdout",
     "output_type": "stream",
     "text": [
      "[1] \"Crossref\"\n",
      "[1] 10.2988/\n",
      "298 Levels: 10.1002/ 10.1007/ 10.1016/ 10.1017/ 10.1021/ 10.1023/ ... 10.7906/\n"
     ]
    },
    {
     "name": "stderr",
     "output_type": "stream",
     "text": [
      "Warning message in mutate_impl(.data, dots):\n",
      "“binding character and factor vector, coercing into character vector”"
     ]
    },
    {
     "name": "stdout",
     "output_type": "stream",
     "text": [
      "[1] \"Crossref\"\n",
      "[1] 10.4254/\n",
      "298 Levels: 10.1002/ 10.1007/ 10.1016/ 10.1017/ 10.1021/ 10.1023/ ... 10.7906/\n"
     ]
    },
    {
     "name": "stderr",
     "output_type": "stream",
     "text": [
      "Warning message in mutate_impl(.data, dots):\n",
      "“binding character and factor vector, coercing into character vector”"
     ]
    },
    {
     "name": "stdout",
     "output_type": "stream",
     "text": [
      "[1] \"Crossref\"\n",
      "[1] 10.4253/\n",
      "298 Levels: 10.1002/ 10.1007/ 10.1016/ 10.1017/ 10.1021/ 10.1023/ ... 10.7906/\n"
     ]
    },
    {
     "name": "stderr",
     "output_type": "stream",
     "text": [
      "Warning message in mutate_impl(.data, dots):\n",
      "“binding character and factor vector, coercing into character vector”"
     ]
    },
    {
     "name": "stdout",
     "output_type": "stream",
     "text": [
      "[1] \"Crossref\"\n",
      "[1] 10.3157/\n",
      "298 Levels: 10.1002/ 10.1007/ 10.1016/ 10.1017/ 10.1021/ 10.1023/ ... 10.7906/\n"
     ]
    },
    {
     "name": "stderr",
     "output_type": "stream",
     "text": [
      "Warning message in mutate_impl(.data, dots):\n",
      "“binding character and factor vector, coercing into character vector”"
     ]
    },
    {
     "name": "stdout",
     "output_type": "stream",
     "text": [
      "[1] \"Crossref\"\n",
      "[1] 10.3102/\n",
      "298 Levels: 10.1002/ 10.1007/ 10.1016/ 10.1017/ 10.1021/ 10.1023/ ... 10.7906/\n"
     ]
    },
    {
     "name": "stderr",
     "output_type": "stream",
     "text": [
      "Warning message in mutate_impl(.data, dots):\n",
      "“binding character and factor vector, coercing into character vector”"
     ]
    },
    {
     "name": "stdout",
     "output_type": "stream",
     "text": [
      "[1] \"Crossref\"\n",
      "[1] 10.1680/\n",
      "298 Levels: 10.1002/ 10.1007/ 10.1016/ 10.1017/ 10.1021/ 10.1023/ ... 10.7906/\n"
     ]
    },
    {
     "name": "stderr",
     "output_type": "stream",
     "text": [
      "Warning message in mutate_impl(.data, dots):\n",
      "“binding character and factor vector, coercing into character vector”"
     ]
    },
    {
     "name": "stdout",
     "output_type": "stream",
     "text": [
      "[1] \"Crossref\"\n",
      "[1] 10.1051/\n",
      "298 Levels: 10.1002/ 10.1007/ 10.1016/ 10.1017/ 10.1021/ 10.1023/ ... 10.7906/\n"
     ]
    },
    {
     "name": "stderr",
     "output_type": "stream",
     "text": [
      "Warning message in mutate_impl(.data, dots):\n",
      "“binding character and factor vector, coercing into character vector”"
     ]
    },
    {
     "name": "stdout",
     "output_type": "stream",
     "text": [
      "[1] \"Crossref\"\n",
      "[1] 10.4251/\n",
      "298 Levels: 10.1002/ 10.1007/ 10.1016/ 10.1017/ 10.1021/ 10.1023/ ... 10.7906/\n"
     ]
    },
    {
     "name": "stderr",
     "output_type": "stream",
     "text": [
      "Warning message in mutate_impl(.data, dots):\n",
      "“binding character and factor vector, coercing into character vector”"
     ]
    },
    {
     "name": "stdout",
     "output_type": "stream",
     "text": [
      "[1] \"Crossref\"\n",
      "[1] 10.5623/\n",
      "298 Levels: 10.1002/ 10.1007/ 10.1016/ 10.1017/ 10.1021/ 10.1023/ ... 10.7906/\n"
     ]
    },
    {
     "name": "stderr",
     "output_type": "stream",
     "text": [
      "Warning message in mutate_impl(.data, dots):\n",
      "“binding character and factor vector, coercing into character vector”"
     ]
    },
    {
     "name": "stdout",
     "output_type": "stream",
     "text": [
      "[1] \"Crossref\"\n",
      "[1] 10.5596/\n",
      "298 Levels: 10.1002/ 10.1007/ 10.1016/ 10.1017/ 10.1021/ 10.1023/ ... 10.7906/\n"
     ]
    },
    {
     "name": "stderr",
     "output_type": "stream",
     "text": [
      "Warning message in mutate_impl(.data, dots):\n",
      "“binding character and factor vector, coercing into character vector”"
     ]
    },
    {
     "name": "stdout",
     "output_type": "stream",
     "text": [
      "[1] \"Crossref\"\n",
      "[1] 10.3155/\n",
      "298 Levels: 10.1002/ 10.1007/ 10.1016/ 10.1017/ 10.1021/ 10.1023/ ... 10.7906/\n"
     ]
    },
    {
     "name": "stderr",
     "output_type": "stream",
     "text": [
      "Warning message in mutate_impl(.data, dots):\n",
      "“binding character and factor vector, coercing into character vector”"
     ]
    },
    {
     "name": "stdout",
     "output_type": "stream",
     "text": [
      "[1] \"Crossref\"\n",
      "[1] 10.4291/\n",
      "298 Levels: 10.1002/ 10.1007/ 10.1016/ 10.1017/ 10.1021/ 10.1023/ ... 10.7906/\n"
     ]
    },
    {
     "name": "stderr",
     "output_type": "stream",
     "text": [
      "Warning message in mutate_impl(.data, dots):\n",
      "“binding character and factor vector, coercing into character vector”"
     ]
    },
    {
     "name": "stdout",
     "output_type": "stream",
     "text": [
      "[1] \"Crossref\"\n",
      "[1] 10.4331/\n",
      "298 Levels: 10.1002/ 10.1007/ 10.1016/ 10.1017/ 10.1021/ 10.1023/ ... 10.7906/\n"
     ]
    },
    {
     "name": "stderr",
     "output_type": "stream",
     "text": [
      "Warning message in mutate_impl(.data, dots):\n",
      "“binding character and factor vector, coercing into character vector”"
     ]
    },
    {
     "name": "stdout",
     "output_type": "stream",
     "text": [
      "[1] \"Crossref\"\n",
      "[1] 10.11647/\n",
      "298 Levels: 10.1002/ 10.1007/ 10.1016/ 10.1017/ 10.1021/ 10.1023/ ... 10.7906/\n"
     ]
    },
    {
     "name": "stderr",
     "output_type": "stream",
     "text": [
      "Warning message in mutate_impl(.data, dots):\n",
      "“binding character and factor vector, coercing into character vector”"
     ]
    },
    {
     "name": "stdout",
     "output_type": "stream",
     "text": [
      "[1] \"Crossref\"\n",
      "[1] 10.5367/\n",
      "298 Levels: 10.1002/ 10.1007/ 10.1016/ 10.1017/ 10.1021/ 10.1023/ ... 10.7906/\n"
     ]
    },
    {
     "name": "stderr",
     "output_type": "stream",
     "text": [
      "Warning message in mutate_impl(.data, dots):\n",
      "“binding character and factor vector, coercing into character vector”"
     ]
    },
    {
     "name": "stdout",
     "output_type": "stream",
     "text": [
      "[1] \"Crossref\"\n",
      "[1] 10.4137/\n",
      "298 Levels: 10.1002/ 10.1007/ 10.1016/ 10.1017/ 10.1021/ 10.1023/ ... 10.7906/\n"
     ]
    },
    {
     "name": "stderr",
     "output_type": "stream",
     "text": [
      "Warning message in mutate_impl(.data, dots):\n",
      "“binding character and factor vector, coercing into character vector”"
     ]
    },
    {
     "name": "stdout",
     "output_type": "stream",
     "text": [
      "[1] \"Crossref\"\n",
      "[1] 10.4018/\n",
      "298 Levels: 10.1002/ 10.1007/ 10.1016/ 10.1017/ 10.1021/ 10.1023/ ... 10.7906/\n"
     ]
    },
    {
     "name": "stderr",
     "output_type": "stream",
     "text": [
      "Warning message in mutate_impl(.data, dots):\n",
      "“binding character and factor vector, coercing into character vector”"
     ]
    },
    {
     "name": "stdout",
     "output_type": "stream",
     "text": [
      "[1] \"Crossref\"\n",
      "[1] 10.5409/\n",
      "298 Levels: 10.1002/ 10.1007/ 10.1016/ 10.1017/ 10.1021/ 10.1023/ ... 10.7906/\n"
     ]
    },
    {
     "name": "stderr",
     "output_type": "stream",
     "text": [
      "Warning message in mutate_impl(.data, dots):\n",
      "“binding character and factor vector, coercing into character vector”"
     ]
    },
    {
     "name": "stdout",
     "output_type": "stream",
     "text": [
      "[1] \"Crossref\"\n",
      "[1] 10.4278/\n",
      "298 Levels: 10.1002/ 10.1007/ 10.1016/ 10.1017/ 10.1021/ 10.1023/ ... 10.7906/\n"
     ]
    },
    {
     "name": "stderr",
     "output_type": "stream",
     "text": [
      "Warning message in mutate_impl(.data, dots):\n",
      "“binding character and factor vector, coercing into character vector”"
     ]
    },
    {
     "name": "stdout",
     "output_type": "stream",
     "text": [
      "[1] \"Crossref\"\n",
      "[1] 10.14705/\n",
      "298 Levels: 10.1002/ 10.1007/ 10.1016/ 10.1017/ 10.1021/ 10.1023/ ... 10.7906/\n"
     ]
    },
    {
     "name": "stderr",
     "output_type": "stream",
     "text": [
      "Warning message in mutate_impl(.data, dots):\n",
      "“binding character and factor vector, coercing into character vector”"
     ]
    },
    {
     "name": "stdout",
     "output_type": "stream",
     "text": [
      "[1] \"Crossref\"\n",
      "[1] 10.5688/\n",
      "298 Levels: 10.1002/ 10.1007/ 10.1016/ 10.1017/ 10.1021/ 10.1023/ ... 10.7906/\n"
     ]
    },
    {
     "name": "stderr",
     "output_type": "stream",
     "text": [
      "Warning message in mutate_impl(.data, dots):\n",
      "“binding character and factor vector, coercing into character vector”"
     ]
    },
    {
     "name": "stdout",
     "output_type": "stream",
     "text": [
      "[1] \"Crossref\"\n",
      "[1] 10.11610/\n",
      "298 Levels: 10.1002/ 10.1007/ 10.1016/ 10.1017/ 10.1021/ 10.1023/ ... 10.7906/\n"
     ]
    },
    {
     "name": "stderr",
     "output_type": "stream",
     "text": [
      "Warning message in mutate_impl(.data, dots):\n",
      "“binding character and factor vector, coercing into character vector”"
     ]
    },
    {
     "name": "stdout",
     "output_type": "stream",
     "text": [
      "[1] \"Crossref\"\n",
      "[1] 10.7870/\n",
      "298 Levels: 10.1002/ 10.1007/ 10.1016/ 10.1017/ 10.1021/ 10.1023/ ... 10.7906/\n"
     ]
    },
    {
     "name": "stderr",
     "output_type": "stream",
     "text": [
      "Warning message in mutate_impl(.data, dots):\n",
      "“binding character and factor vector, coercing into character vector”"
     ]
    },
    {
     "name": "stdout",
     "output_type": "stream",
     "text": [
      "[1] \"Crossref\"\n",
      "[1] 10.4103/\n",
      "298 Levels: 10.1002/ 10.1007/ 10.1016/ 10.1017/ 10.1021/ 10.1023/ ... 10.7906/\n"
     ]
    },
    {
     "name": "stderr",
     "output_type": "stream",
     "text": [
      "Warning message in mutate_impl(.data, dots):\n",
      "“binding character and factor vector, coercing into character vector”"
     ]
    },
    {
     "name": "stdout",
     "output_type": "stream",
     "text": [
      "[1] \"Crossref\"\n",
      "[1] 10.7861/\n",
      "298 Levels: 10.1002/ 10.1007/ 10.1016/ 10.1017/ 10.1021/ 10.1023/ ... 10.7906/\n"
     ]
    },
    {
     "name": "stderr",
     "output_type": "stream",
     "text": [
      "Warning message in mutate_impl(.data, dots):\n",
      "“binding character and factor vector, coercing into character vector”"
     ]
    },
    {
     "name": "stdout",
     "output_type": "stream",
     "text": [
      "[1] \"Crossref\"\n",
      "[1] 10.15857/\n",
      "298 Levels: 10.1002/ 10.1007/ 10.1016/ 10.1017/ 10.1021/ 10.1023/ ... 10.7906/\n"
     ]
    },
    {
     "name": "stderr",
     "output_type": "stream",
     "text": [
      "Warning message in mutate_impl(.data, dots):\n",
      "“binding character and factor vector, coercing into character vector”"
     ]
    },
    {
     "name": "stdout",
     "output_type": "stream",
     "text": [
      "[1] \"Crossref\"\n",
      "[1] 10.12998/\n",
      "298 Levels: 10.1002/ 10.1007/ 10.1016/ 10.1017/ 10.1021/ 10.1023/ ... 10.7906/\n"
     ]
    },
    {
     "name": "stderr",
     "output_type": "stream",
     "text": [
      "Warning message in mutate_impl(.data, dots):\n",
      "“binding character and factor vector, coercing into character vector”"
     ]
    },
    {
     "name": "stdout",
     "output_type": "stream",
     "text": [
      "[1] \"Crossref\"\n",
      "[1] 10.14712/\n",
      "298 Levels: 10.1002/ 10.1007/ 10.1016/ 10.1017/ 10.1021/ 10.1023/ ... 10.7906/\n"
     ]
    },
    {
     "name": "stderr",
     "output_type": "stream",
     "text": [
      "Warning message in mutate_impl(.data, dots):\n",
      "“binding character and factor vector, coercing into character vector”"
     ]
    },
    {
     "name": "stdout",
     "output_type": "stream",
     "text": [
      "[1] \"Crossref\"\n",
      "[1] 10.1101/\n",
      "298 Levels: 10.1002/ 10.1007/ 10.1016/ 10.1017/ 10.1021/ 10.1023/ ... 10.7906/\n"
     ]
    },
    {
     "name": "stderr",
     "output_type": "stream",
     "text": [
      "Warning message in mutate_impl(.data, dots):\n",
      "“binding character and factor vector, coercing into character vector”"
     ]
    },
    {
     "name": "stdout",
     "output_type": "stream",
     "text": [
      "[1] \"Crossref\"\n",
      "[1] 10.1123/\n",
      "298 Levels: 10.1002/ 10.1007/ 10.1016/ 10.1017/ 10.1021/ 10.1023/ ... 10.7906/\n"
     ]
    },
    {
     "name": "stderr",
     "output_type": "stream",
     "text": [
      "Warning message in mutate_impl(.data, dots):\n",
      "“binding character and factor vector, coercing into character vector”"
     ]
    },
    {
     "name": "stdout",
     "output_type": "stream",
     "text": [
      "[1] \"Crossref\"\n",
      "[1] 10.14324/\n",
      "298 Levels: 10.1002/ 10.1007/ 10.1016/ 10.1017/ 10.1021/ 10.1023/ ... 10.7906/\n"
     ]
    },
    {
     "name": "stderr",
     "output_type": "stream",
     "text": [
      "Warning message in mutate_impl(.data, dots):\n",
      "“binding character and factor vector, coercing into character vector”"
     ]
    },
    {
     "name": "stdout",
     "output_type": "stream",
     "text": [
      "[1] \"Crossref\"\n",
      "[1] 10.22261/\n",
      "298 Levels: 10.1002/ 10.1007/ 10.1016/ 10.1017/ 10.1021/ 10.1023/ ... 10.7906/\n"
     ]
    },
    {
     "name": "stderr",
     "output_type": "stream",
     "text": [
      "Warning message in mutate_impl(.data, dots):\n",
      "“binding character and factor vector, coercing into character vector”"
     ]
    },
    {
     "name": "stdout",
     "output_type": "stream",
     "text": [
      "[1] \"Crossref\"\n",
      "[1] 10.23865/\n",
      "298 Levels: 10.1002/ 10.1007/ 10.1016/ 10.1017/ 10.1021/ 10.1023/ ... 10.7906/\n"
     ]
    },
    {
     "name": "stderr",
     "output_type": "stream",
     "text": [
      "Warning message in mutate_impl(.data, dots):\n",
      "“binding character and factor vector, coercing into character vector”"
     ]
    },
    {
     "name": "stdout",
     "output_type": "stream",
     "text": [
      "[1] \"Crossref\"\n",
      "[1] 10.26634/\n",
      "298 Levels: 10.1002/ 10.1007/ 10.1016/ 10.1017/ 10.1021/ 10.1023/ ... 10.7906/\n"
     ]
    },
    {
     "name": "stderr",
     "output_type": "stream",
     "text": [
      "Warning message in mutate_impl(.data, dots):\n",
      "“binding character and factor vector, coercing into character vector”"
     ]
    },
    {
     "name": "stdout",
     "output_type": "stream",
     "text": [
      "[1] \"Crossref\"\n",
      "[1] 10.1081/\n",
      "298 Levels: 10.1002/ 10.1007/ 10.1016/ 10.1017/ 10.1021/ 10.1023/ ... 10.7906/\n"
     ]
    },
    {
     "name": "stderr",
     "output_type": "stream",
     "text": [
      "Warning message in mutate_impl(.data, dots):\n",
      "“binding character and factor vector, coercing into character vector”"
     ]
    },
    {
     "name": "stdout",
     "output_type": "stream",
     "text": [
      "[1] \"Crossref\"\n",
      "[1] 10.1084/\n",
      "298 Levels: 10.1002/ 10.1007/ 10.1016/ 10.1017/ 10.1021/ 10.1023/ ... 10.7906/\n"
     ]
    },
    {
     "name": "stderr",
     "output_type": "stream",
     "text": [
      "Warning message in mutate_impl(.data, dots):\n",
      "“binding character and factor vector, coercing into character vector”"
     ]
    },
    {
     "name": "stdout",
     "output_type": "stream",
     "text": [
      "[1] \"Crossref\"\n",
      "[1] 10.20320/\n",
      "298 Levels: 10.1002/ 10.1007/ 10.1016/ 10.1017/ 10.1021/ 10.1023/ ... 10.7906/\n"
     ]
    },
    {
     "name": "stderr",
     "output_type": "stream",
     "text": [
      "Warning message in mutate_impl(.data, dots):\n",
      "“binding character and factor vector, coercing into character vector”"
     ]
    },
    {
     "name": "stdout",
     "output_type": "stream",
     "text": [
      "[1] \"Crossref\"\n",
      "[1] 10.1115/\n",
      "298 Levels: 10.1002/ 10.1007/ 10.1016/ 10.1017/ 10.1021/ 10.1023/ ... 10.7906/\n"
     ]
    },
    {
     "name": "stderr",
     "output_type": "stream",
     "text": [
      "Warning message in mutate_impl(.data, dots):\n",
      "“binding character and factor vector, coercing into character vector”"
     ]
    },
    {
     "name": "stdout",
     "output_type": "stream",
     "text": [
      "[1] \"Crossref\"\n",
      "[1] 10.1106/\n",
      "298 Levels: 10.1002/ 10.1007/ 10.1016/ 10.1017/ 10.1021/ 10.1023/ ... 10.7906/\n"
     ]
    },
    {
     "name": "stderr",
     "output_type": "stream",
     "text": [
      "Warning message in mutate_impl(.data, dots):\n",
      "“binding character and factor vector, coercing into character vector”"
     ]
    },
    {
     "name": "stdout",
     "output_type": "stream",
     "text": [
      "[1] \"Crossref\"\n",
      "[1] 10.7559/\n",
      "298 Levels: 10.1002/ 10.1007/ 10.1016/ 10.1017/ 10.1021/ 10.1023/ ... 10.7906/\n"
     ]
    },
    {
     "name": "stderr",
     "output_type": "stream",
     "text": [
      "Warning message in mutate_impl(.data, dots):\n",
      "“binding character and factor vector, coercing into character vector”"
     ]
    },
    {
     "name": "stdout",
     "output_type": "stream",
     "text": [
      "[1] \"Crossref\"\n",
      "[1] 10.5306/\n",
      "298 Levels: 10.1002/ 10.1007/ 10.1016/ 10.1017/ 10.1021/ 10.1023/ ... 10.7906/\n"
     ]
    },
    {
     "name": "stderr",
     "output_type": "stream",
     "text": [
      "Warning message in mutate_impl(.data, dots):\n",
      "“binding character and factor vector, coercing into character vector”"
     ]
    },
    {
     "name": "stdout",
     "output_type": "stream",
     "text": [
      "[1] \"Crossref\"\n",
      "[1] 10.5312/\n",
      "298 Levels: 10.1002/ 10.1007/ 10.1016/ 10.1017/ 10.1021/ 10.1023/ ... 10.7906/\n"
     ]
    },
    {
     "name": "stderr",
     "output_type": "stream",
     "text": [
      "Warning message in mutate_impl(.data, dots):\n",
      "“binding character and factor vector, coercing into character vector”"
     ]
    },
    {
     "name": "stdout",
     "output_type": "stream",
     "text": [
      "[1] \"Crossref\"\n",
      "[1] 10.25222/\n",
      "298 Levels: 10.1002/ 10.1007/ 10.1016/ 10.1017/ 10.1021/ 10.1023/ ... 10.7906/\n"
     ]
    },
    {
     "name": "stderr",
     "output_type": "stream",
     "text": [
      "Warning message in mutate_impl(.data, dots):\n",
      "“binding character and factor vector, coercing into character vector”"
     ]
    },
    {
     "name": "stdout",
     "output_type": "stream",
     "text": [
      "[1] \"Crossref\"\n",
      "[1] 10.5321/\n",
      "298 Levels: 10.1002/ 10.1007/ 10.1016/ 10.1017/ 10.1021/ 10.1023/ ... 10.7906/\n"
     ]
    },
    {
     "name": "stderr",
     "output_type": "stream",
     "text": [
      "Warning message in mutate_impl(.data, dots):\n",
      "“binding character and factor vector, coercing into character vector”"
     ]
    },
    {
     "name": "stdout",
     "output_type": "stream",
     "text": [
      "[1] \"Crossref\"\n",
      "[1] 10.15366/\n",
      "298 Levels: 10.1002/ 10.1007/ 10.1016/ 10.1017/ 10.1021/ 10.1023/ ... 10.7906/\n"
     ]
    },
    {
     "name": "stderr",
     "output_type": "stream",
     "text": [
      "Warning message in mutate_impl(.data, dots):\n",
      "“binding character and factor vector, coercing into character vector”"
     ]
    },
    {
     "name": "stdout",
     "output_type": "stream",
     "text": [
      "[1] \"Crossref\"\n",
      "[1] 10.1175/\n",
      "298 Levels: 10.1002/ 10.1007/ 10.1016/ 10.1017/ 10.1021/ 10.1023/ ... 10.7906/\n"
     ]
    },
    {
     "name": "stderr",
     "output_type": "stream",
     "text": [
      "Warning message in mutate_impl(.data, dots):\n",
      "“binding character and factor vector, coercing into character vector”"
     ]
    },
    {
     "name": "stdout",
     "output_type": "stream",
     "text": [
      "[1] \"Crossref\"\n",
      "[1] 10.5492/\n",
      "298 Levels: 10.1002/ 10.1007/ 10.1016/ 10.1017/ 10.1021/ 10.1023/ ... 10.7906/\n"
     ]
    },
    {
     "name": "stderr",
     "output_type": "stream",
     "text": [
      "Warning message in mutate_impl(.data, dots):\n",
      "“binding character and factor vector, coercing into character vector”"
     ]
    },
    {
     "name": "stdout",
     "output_type": "stream",
     "text": [
      "[1] \"Crossref\"\n",
      "[1] 10.5897/\n",
      "298 Levels: 10.1002/ 10.1007/ 10.1016/ 10.1017/ 10.1021/ 10.1023/ ... 10.7906/\n"
     ]
    },
    {
     "name": "stderr",
     "output_type": "stream",
     "text": [
      "Warning message in mutate_impl(.data, dots):\n",
      "“binding character and factor vector, coercing into character vector”"
     ]
    },
    {
     "name": "stdout",
     "output_type": "stream",
     "text": [
      "[1] \"Crossref\"\n",
      "[1] 10.1366/\n",
      "298 Levels: 10.1002/ 10.1007/ 10.1016/ 10.1017/ 10.1021/ 10.1023/ ... 10.7906/\n"
     ]
    },
    {
     "name": "stderr",
     "output_type": "stream",
     "text": [
      "Warning message in mutate_impl(.data, dots):\n",
      "“binding character and factor vector, coercing into character vector”"
     ]
    },
    {
     "name": "stdout",
     "output_type": "stream",
     "text": [
      "[1] \"Crossref\"\n",
      "[1] 10.1655/\n",
      "298 Levels: 10.1002/ 10.1007/ 10.1016/ 10.1017/ 10.1021/ 10.1023/ ... 10.7906/\n"
     ]
    },
    {
     "name": "stderr",
     "output_type": "stream",
     "text": [
      "Warning message in mutate_impl(.data, dots):\n",
      "“binding character and factor vector, coercing into character vector”"
     ]
    },
    {
     "name": "stdout",
     "output_type": "stream",
     "text": [
      "[1] \"Crossref\"\n",
      "[1] 10.5594/\n",
      "298 Levels: 10.1002/ 10.1007/ 10.1016/ 10.1017/ 10.1021/ 10.1023/ ... 10.7906/\n"
     ]
    },
    {
     "name": "stderr",
     "output_type": "stream",
     "text": [
      "Warning message in mutate_impl(.data, dots):\n",
      "“binding character and factor vector, coercing into character vector”"
     ]
    },
    {
     "name": "stdout",
     "output_type": "stream",
     "text": [
      "[1] \"Crossref\"\n",
      "[1] 10.11118/\n",
      "298 Levels: 10.1002/ 10.1007/ 10.1016/ 10.1017/ 10.1021/ 10.1023/ ... 10.7906/\n"
     ]
    },
    {
     "name": "stderr",
     "output_type": "stream",
     "text": [
      "Warning message in mutate_impl(.data, dots):\n",
      "“binding character and factor vector, coercing into character vector”"
     ]
    },
    {
     "name": "stdout",
     "output_type": "stream",
     "text": [
      "[1] \"Crossref\"\n",
      "[1] 10.5498/\n",
      "298 Levels: 10.1002/ 10.1007/ 10.1016/ 10.1017/ 10.1021/ 10.1023/ ... 10.7906/\n"
     ]
    },
    {
     "name": "stderr",
     "output_type": "stream",
     "text": [
      "Warning message in mutate_impl(.data, dots):\n",
      "“binding character and factor vector, coercing into character vector”"
     ]
    },
    {
     "name": "stdout",
     "output_type": "stream",
     "text": [
      "[1] \"Crossref\"\n",
      "[1] 10.12968/\n",
      "298 Levels: 10.1002/ 10.1007/ 10.1016/ 10.1017/ 10.1021/ 10.1023/ ... 10.7906/\n"
     ]
    },
    {
     "name": "stderr",
     "output_type": "stream",
     "text": [
      "Warning message in mutate_impl(.data, dots):\n",
      "“binding character and factor vector, coercing into character vector”"
     ]
    },
    {
     "name": "stdout",
     "output_type": "stream",
     "text": [
      "[1] \"Crossref\"\n",
      "[1] 10.1152/\n",
      "298 Levels: 10.1002/ 10.1007/ 10.1016/ 10.1017/ 10.1021/ 10.1023/ ... 10.7906/\n"
     ]
    },
    {
     "name": "stderr",
     "output_type": "stream",
     "text": [
      "Warning message in mutate_impl(.data, dots):\n",
      "“binding character and factor vector, coercing into character vector”"
     ]
    },
    {
     "name": "stdout",
     "output_type": "stream",
     "text": [
      "[1] \"Crossref\"\n",
      "[1] 10.5155/\n",
      "298 Levels: 10.1002/ 10.1007/ 10.1016/ 10.1017/ 10.1021/ 10.1023/ ... 10.7906/\n"
     ]
    },
    {
     "name": "stderr",
     "output_type": "stream",
     "text": [
      "Warning message in mutate_impl(.data, dots):\n",
      "“binding character and factor vector, coercing into character vector”"
     ]
    },
    {
     "name": "stdout",
     "output_type": "stream",
     "text": [
      "[1] \"Crossref\"\n",
      "[1] 10.1026/\n",
      "298 Levels: 10.1002/ 10.1007/ 10.1016/ 10.1017/ 10.1021/ 10.1023/ ... 10.7906/\n"
     ]
    },
    {
     "name": "stderr",
     "output_type": "stream",
     "text": [
      "Warning message in mutate_impl(.data, dots):\n",
      "“binding character and factor vector, coercing into character vector”"
     ]
    },
    {
     "name": "stdout",
     "output_type": "stream",
     "text": [
      "[1] \"Crossref\"\n",
      "[1] 10.1248/\n",
      "298 Levels: 10.1002/ 10.1007/ 10.1016/ 10.1017/ 10.1021/ 10.1023/ ... 10.7906/\n"
     ]
    },
    {
     "name": "stderr",
     "output_type": "stream",
     "text": [
      "Warning message in mutate_impl(.data, dots):\n",
      "“binding character and factor vector, coercing into character vector”"
     ]
    },
    {
     "name": "stdout",
     "output_type": "stream",
     "text": [
      "[1] \"Crossref\"\n",
      "[1] 10.3892/\n",
      "298 Levels: 10.1002/ 10.1007/ 10.1016/ 10.1017/ 10.1021/ 10.1023/ ... 10.7906/\n"
     ]
    },
    {
     "name": "stderr",
     "output_type": "stream",
     "text": [
      "Warning message in mutate_impl(.data, dots):\n",
      "“binding character and factor vector, coercing into character vector”"
     ]
    },
    {
     "name": "stdout",
     "output_type": "stream",
     "text": [
      "[1] \"Crossref\"\n",
      "[1] 10.1207/\n",
      "298 Levels: 10.1002/ 10.1007/ 10.1016/ 10.1017/ 10.1021/ 10.1023/ ... 10.7906/\n"
     ]
    },
    {
     "name": "stderr",
     "output_type": "stream",
     "text": [
      "Warning message in mutate_impl(.data, dots):\n",
      "“binding character and factor vector, coercing into character vector”"
     ]
    }
   ],
   "source": [
    "dd2<-get_listOfPrefix_Names_sub(data_pack)"
   ]
  },
  {
   "cell_type": "code",
   "execution_count": 199,
   "metadata": {},
   "outputs": [
    {
     "name": "stderr",
     "output_type": "stream",
     "text": [
      "Joining, by = \"subj_prefix\"\n",
      "Warning message:\n",
      "“Column `subj_prefix` joining character vector and factor, coercing into character vector”Joining, by = \"obj_prefix\"\n",
      "Warning message:\n",
      "“Column `obj_prefix` joining character vector and factor, coercing into character vector”"
     ]
    },
    {
     "name": "stdout",
     "output_type": "stream",
     "text": [
      "[1] 22000\n"
     ]
    }
   ],
   "source": [
    "add_datacenters_labes<-function(data, dc_labels,xr_labels){\n",
    "    data <- data %>% \n",
    "        rowwise() %>% \n",
    "        left_join(xr_labels)\n",
    "    data <- data %>% \n",
    "        rowwise() %>% \n",
    "        left_join(dc_labels)\n",
    "    print(nrow(data))\n",
    "    return(data)\n",
    "}\n",
    "proce_data_file<-add_datacenters_labes(data_pack,dd,dd2)"
   ]
  },
  {
   "cell_type": "code",
   "execution_count": 200,
   "metadata": {},
   "outputs": [],
   "source": [
    "save(proce_data_file,file=\"../data/11032018_Mugging_Crossref_Datacite_links_out_with_labels.Rda\")"
   ]
  }
 ],
 "metadata": {
  "kernelspec": {
   "display_name": "R",
   "language": "R",
   "name": "ir"
  },
  "language_info": {
   "codemirror_mode": "r",
   "file_extension": ".r",
   "mimetype": "text/x-r-source",
   "name": "R",
   "pygments_lexer": "r",
   "version": "3.3.2"
  }
 },
 "nbformat": 4,
 "nbformat_minor": 2
}
