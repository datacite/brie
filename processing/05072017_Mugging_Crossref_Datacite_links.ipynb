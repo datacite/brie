{
 "cells": [
  {
   "cell_type": "code",
   "execution_count": 21,
   "metadata": {},
   "outputs": [],
   "source": [
    "library(jsonlite)\n",
    "library(dplyr)\n",
    "library(stringr)"
   ]
  },
  {
   "cell_type": "code",
   "execution_count": 20,
   "metadata": {},
   "outputs": [],
   "source": [
    "rows<-10000\n",
    "\n",
    "# http://query.eventdata.crossref.org/events?rows=10000&cursor=17399fd9-319d-4b28-9727-887264a632b1\n",
    "jsondf<-fromJSON(paste0('http://query.eventdata.crossref.org/events?rows=',rows,'&filter=source:crossref'))"
   ]
  },
  {
   "cell_type": "code",
   "execution_count": 14,
   "metadata": {},
   "outputs": [
    {
     "data": {
      "text/html": [
       "10000"
      ],
      "text/latex": [
       "10000"
      ],
      "text/markdown": [
       "10000"
      ],
      "text/plain": [
       "[1] 10000"
      ]
     },
     "metadata": {},
     "output_type": "display_data"
    }
   ],
   "source": [
    "data<-jsondf$message$events\n",
    "nrow(data)"
   ]
  },
  {
   "cell_type": "code",
   "execution_count": 15,
   "metadata": {
    "collapsed": true
   },
   "outputs": [],
   "source": [
    "data <- data %>% \n",
    "    mutate(occurred_at = as.Date(occurred_at),\n",
    "           timestamp = as.Date(timestamp),\n",
    "           relation_type_id = as.factor(relation_type_id),\n",
    "           message_action = as.factor(message_action),\n",
    "           obj_prefix = str_extract(obj_id,'(10\\\\.\\\\d{4,5})'),\n",
    "           subj_prefix = str_extract(subj_id,'(10\\\\.\\\\d{4,5})'),\n",
    "           message_action = as.factor(message_action),\n",
    "           source_id = as.factor(source_id)) "
   ]
  },
  {
   "cell_type": "code",
   "execution_count": 16,
   "metadata": {},
   "outputs": [
    {
     "data": {
      "text/html": [
       "10000"
      ],
      "text/latex": [
       "10000"
      ],
      "text/markdown": [
       "10000"
      ],
      "text/plain": [
       "[1] 10000"
      ]
     },
     "metadata": {},
     "output_type": "display_data"
    }
   ],
   "source": [
    "nrow(data)"
   ]
  },
  {
   "cell_type": "code",
   "execution_count": 17,
   "metadata": {
    "collapsed": true
   },
   "outputs": [],
   "source": [
    "save(data,file=\"../data/05072017_Mugging_Crossref_Datacite_links_out.Rda\")"
   ]
  },
  {
   "cell_type": "code",
   "execution_count": 93,
   "metadata": {},
   "outputs": [
    {
     "data": {
      "text/html": [
       "'10.5061'"
      ],
      "text/latex": [
       "'10.5061'"
      ],
      "text/markdown": [
       "'10.5061'"
      ],
      "text/plain": [
       "[1] \"10.5061\""
      ]
     },
     "metadata": {},
     "output_type": "display_data"
    }
   ],
   "source": []
  },
  {
   "cell_type": "markdown",
   "metadata": {
    "collapsed": true
   },
   "source": []
  },
  {
   "cell_type": "code",
   "execution_count": 24,
   "metadata": {
    "collapsed": true
   },
   "outputs": [],
   "source": []
  },
  {
   "cell_type": "code",
   "execution_count": 24,
   "metadata": {
    "collapsed": true
   },
   "outputs": [],
   "source": []
  },
  {
   "cell_type": "code",
   "execution_count": 25,
   "metadata": {},
   "outputs": [
    {
     "data": {
      "text/html": [
       "<dl>\n",
       "\t<dt>$data</dt>\n",
       "\t\t<dd><ol>\n",
       "</ol>\n",
       "</dd>\n",
       "\t<dt>$meta</dt>\n",
       "\t\t<dd><dl>\n",
       "\t<dt>$`resource-types`</dt>\n",
       "\t\t<dd><table>\n",
       "<thead><tr><th scope=col>id</th><th scope=col>title</th><th scope=col>count</th></tr></thead>\n",
       "<tbody>\n",
       "\t<tr><td>dataset   </td><td>Dataset   </td><td>79256     </td></tr>\n",
       "\t<tr><td>text      </td><td>Text      </td><td>   30     </td></tr>\n",
       "\t<tr><td>collection</td><td>Collection</td><td>    9     </td></tr>\n",
       "\t<tr><td>software  </td><td>Software  </td><td>    4     </td></tr>\n",
       "</tbody>\n",
       "</table>\n",
       "</dd>\n",
       "\t<dt>$years</dt>\n",
       "\t\t<dd><table>\n",
       "<thead><tr><th scope=col>id</th><th scope=col>title</th><th scope=col>count</th></tr></thead>\n",
       "<tbody>\n",
       "\t<tr><td>9999 </td><td>9999 </td><td>   90</td></tr>\n",
       "\t<tr><td>2017 </td><td>2017 </td><td>10988</td></tr>\n",
       "\t<tr><td>2016 </td><td>2016 </td><td>18930</td></tr>\n",
       "\t<tr><td>2015 </td><td>2015 </td><td>18285</td></tr>\n",
       "\t<tr><td>2014 </td><td>2014 </td><td>12011</td></tr>\n",
       "\t<tr><td>2013 </td><td>2013 </td><td> 8877</td></tr>\n",
       "\t<tr><td>2012 </td><td>2012 </td><td> 5037</td></tr>\n",
       "\t<tr><td>2011 </td><td>2011 </td><td> 2708</td></tr>\n",
       "\t<tr><td>2010 </td><td>2010 </td><td>  719</td></tr>\n",
       "\t<tr><td>2009 </td><td>2009 </td><td>  485</td></tr>\n",
       "\t<tr><td>2008 </td><td>2008 </td><td>  191</td></tr>\n",
       "\t<tr><td>2007 </td><td>2007 </td><td>    7</td></tr>\n",
       "\t<tr><td>0000 </td><td>0000 </td><td> 1113</td></tr>\n",
       "</tbody>\n",
       "</table>\n",
       "</dd>\n",
       "\t<dt>$`data-centers`</dt>\n",
       "\t\t<dd><table>\n",
       "<thead><tr><th scope=col>id</th><th scope=col>title</th><th scope=col>count</th></tr></thead>\n",
       "<tbody>\n",
       "\t<tr><td>cdl.dryad                                                    </td><td>Dryad                                                        </td><td>79379                                                        </td></tr>\n",
       "\t<tr><td>figshare.ars                                                 </td><td>figshare Academic Research System                            </td><td>   53                                                        </td></tr>\n",
       "\t<tr><td>cern.zenodo                                                  </td><td>ZENODO - Research. Shared.                                   </td><td>    5                                                        </td></tr>\n",
       "\t<tr><td>cdl.nceas                                                    </td><td>National Center for Ecological Analysis and Synthesis (NCEAS)</td><td>    2                                                        </td></tr>\n",
       "\t<tr><td>cdl.peerj                                                    </td><td>PeerJ                                                        </td><td>    2                                                        </td></tr>\n",
       "</tbody>\n",
       "</table>\n",
       "</dd>\n",
       "\t<dt>$`schema-versions`</dt>\n",
       "\t\t<dd><table>\n",
       "<thead><tr><th scope=col>id</th><th scope=col>title</th><th scope=col>count</th></tr></thead>\n",
       "<tbody>\n",
       "\t<tr><td>4         </td><td>Schema 4  </td><td>23025     </td></tr>\n",
       "\t<tr><td>3         </td><td>Schema 3  </td><td>53289     </td></tr>\n",
       "\t<tr><td>2.2       </td><td>Schema 2.2</td><td> 3127     </td></tr>\n",
       "</tbody>\n",
       "</table>\n",
       "</dd>\n",
       "\t<dt>$total</dt>\n",
       "\t\t<dd>79441</dd>\n",
       "</dl>\n",
       "</dd>\n",
       "</dl>\n"
      ],
      "text/latex": [
       "\\begin{description}\n",
       "\\item[\\$data] \\begin{enumerate}\n",
       "\\end{enumerate}\n",
       "\n",
       "\\item[\\$meta] \\begin{description}\n",
       "\\item[\\$`resource-types`] \\begin{tabular}{r|lll}\n",
       " id & title & count\\\\\n",
       "\\hline\n",
       "\t dataset    & Dataset    & 79256     \\\\\n",
       "\t text       & Text       &    30     \\\\\n",
       "\t collection & Collection &     9     \\\\\n",
       "\t software   & Software   &     4     \\\\\n",
       "\\end{tabular}\n",
       "\n",
       "\\item[\\$years] \\begin{tabular}{r|lll}\n",
       " id & title & count\\\\\n",
       "\\hline\n",
       "\t 9999  & 9999  &    90\\\\\n",
       "\t 2017  & 2017  & 10988\\\\\n",
       "\t 2016  & 2016  & 18930\\\\\n",
       "\t 2015  & 2015  & 18285\\\\\n",
       "\t 2014  & 2014  & 12011\\\\\n",
       "\t 2013  & 2013  &  8877\\\\\n",
       "\t 2012  & 2012  &  5037\\\\\n",
       "\t 2011  & 2011  &  2708\\\\\n",
       "\t 2010  & 2010  &   719\\\\\n",
       "\t 2009  & 2009  &   485\\\\\n",
       "\t 2008  & 2008  &   191\\\\\n",
       "\t 2007  & 2007  &     7\\\\\n",
       "\t 0000  & 0000  &  1113\\\\\n",
       "\\end{tabular}\n",
       "\n",
       "\\item[\\$`data-centers`] \\begin{tabular}{r|lll}\n",
       " id & title & count\\\\\n",
       "\\hline\n",
       "\t cdl.dryad                                                     & Dryad                                                         & 79379                                                        \\\\\n",
       "\t figshare.ars                                                  & figshare Academic Research System                             &    53                                                        \\\\\n",
       "\t cern.zenodo                                                   & ZENODO - Research. Shared.                                    &     5                                                        \\\\\n",
       "\t cdl.nceas                                                     & National Center for Ecological Analysis and Synthesis (NCEAS) &     2                                                        \\\\\n",
       "\t cdl.peerj                                                     & PeerJ                                                         &     2                                                        \\\\\n",
       "\\end{tabular}\n",
       "\n",
       "\\item[\\$`schema-versions`] \\begin{tabular}{r|lll}\n",
       " id & title & count\\\\\n",
       "\\hline\n",
       "\t 4          & Schema 4   & 23025     \\\\\n",
       "\t 3          & Schema 3   & 53289     \\\\\n",
       "\t 2.2        & Schema 2.2 &  3127     \\\\\n",
       "\\end{tabular}\n",
       "\n",
       "\\item[\\$total] 79441\n",
       "\\end{description}\n",
       "\n",
       "\\end{description}\n"
      ],
      "text/markdown": [
       "$data\n",
       ":   \n",
       "\n",
       "\n",
       "$meta\n",
       ":   $`resource-types`\n",
       ":   \n",
       "id | title | count | \n",
       "|---|---|---|---|\n",
       "| dataset    | Dataset    | 79256      | \n",
       "| text       | Text       |    30      | \n",
       "| collection | Collection |     9      | \n",
       "| software   | Software   |     4      | \n",
       "\n",
       "\n",
       "\n",
       "$years\n",
       ":   \n",
       "id | title | count | \n",
       "|---|---|---|---|---|---|---|---|---|---|---|---|---|\n",
       "| 9999  | 9999  |    90 | \n",
       "| 2017  | 2017  | 10988 | \n",
       "| 2016  | 2016  | 18930 | \n",
       "| 2015  | 2015  | 18285 | \n",
       "| 2014  | 2014  | 12011 | \n",
       "| 2013  | 2013  |  8877 | \n",
       "| 2012  | 2012  |  5037 | \n",
       "| 2011  | 2011  |  2708 | \n",
       "| 2010  | 2010  |   719 | \n",
       "| 2009  | 2009  |   485 | \n",
       "| 2008  | 2008  |   191 | \n",
       "| 2007  | 2007  |     7 | \n",
       "| 0000  | 0000  |  1113 | \n",
       "\n",
       "\n",
       "\n",
       "$`data-centers`\n",
       ":   \n",
       "id | title | count | \n",
       "|---|---|---|---|---|\n",
       "| cdl.dryad                                                     | Dryad                                                         | 79379                                                         | \n",
       "| figshare.ars                                                  | figshare Academic Research System                             |    53                                                         | \n",
       "| cern.zenodo                                                   | ZENODO - Research. Shared.                                    |     5                                                         | \n",
       "| cdl.nceas                                                     | National Center for Ecological Analysis and Synthesis (NCEAS) |     2                                                         | \n",
       "| cdl.peerj                                                     | PeerJ                                                         |     2                                                         | \n",
       "\n",
       "\n",
       "\n",
       "$`schema-versions`\n",
       ":   \n",
       "id | title | count | \n",
       "|---|---|---|\n",
       "| 4          | Schema 4   | 23025      | \n",
       "| 3          | Schema 3   | 53289      | \n",
       "| 2.2        | Schema 2.2 |  3127      | \n",
       "\n",
       "\n",
       "\n",
       "$total\n",
       ":   79441\n",
       "\n",
       "\n",
       "\n",
       "\n",
       "\n"
      ],
      "text/plain": [
       "$data\n",
       "list()\n",
       "\n",
       "$meta\n",
       "$meta$`resource-types`\n",
       "          id      title count\n",
       "1    dataset    Dataset 79256\n",
       "2       text       Text    30\n",
       "3 collection Collection     9\n",
       "4   software   Software     4\n",
       "\n",
       "$meta$years\n",
       "     id title count\n",
       "1  9999  9999    90\n",
       "2  2017  2017 10988\n",
       "3  2016  2016 18930\n",
       "4  2015  2015 18285\n",
       "5  2014  2014 12011\n",
       "6  2013  2013  8877\n",
       "7  2012  2012  5037\n",
       "8  2011  2011  2708\n",
       "9  2010  2010   719\n",
       "10 2009  2009   485\n",
       "11 2008  2008   191\n",
       "12 2007  2007     7\n",
       "13 0000  0000  1113\n",
       "\n",
       "$meta$`data-centers`\n",
       "            id                                                         title\n",
       "1    cdl.dryad                                                         Dryad\n",
       "2 figshare.ars                             figshare Academic Research System\n",
       "3  cern.zenodo                                    ZENODO - Research. Shared.\n",
       "4    cdl.nceas National Center for Ecological Analysis and Synthesis (NCEAS)\n",
       "5    cdl.peerj                                                         PeerJ\n",
       "  count\n",
       "1 79379\n",
       "2    53\n",
       "3     5\n",
       "4     2\n",
       "5     2\n",
       "\n",
       "$meta$`schema-versions`\n",
       "   id      title count\n",
       "1   4   Schema 4 23025\n",
       "2   3   Schema 3 53289\n",
       "3 2.2 Schema 2.2  3127\n",
       "\n",
       "$meta$total\n",
       "[1] 79441\n",
       "\n"
      ]
     },
     "metadata": {},
     "output_type": "display_data"
    }
   ],
   "source": []
  },
  {
   "cell_type": "code",
   "execution_count": null,
   "metadata": {
    "collapsed": true
   },
   "outputs": [],
   "source": []
  }
 ],
 "metadata": {
  "kernelspec": {
   "display_name": "R",
   "language": "R",
   "name": "ir"
  },
  "language_info": {
   "codemirror_mode": "r",
   "file_extension": ".r",
   "mimetype": "text/x-r-source",
   "name": "R",
   "pygments_lexer": "r",
   "version": "3.3.2"
  }
 },
 "nbformat": 4,
 "nbformat_minor": 2
}
