{
 "cells": [
  {
   "cell_type": "code",
   "execution_count": 2,
   "metadata": {},
   "outputs": [
    {
     "name": "stderr",
     "output_type": "stream",
     "text": [
      "Updating HTML index of packages in '.Library'\n",
      "Making 'packages.html' ... done\n",
      "Updating HTML index of packages in '.Library'\n",
      "Making 'packages.html' ... done\n",
      "Updating HTML index of packages in '.Library'\n",
      "Making 'packages.html' ... done\n"
     ]
    }
   ],
   "source": [
    "install.packages(\"rdatacite\")\n",
    "install.packages(\"httr\")\n",
    "install.packages(\"purrrlyr\")"
   ]
  },
  {
   "cell_type": "code",
   "execution_count": 3,
   "metadata": {},
   "outputs": [
    {
     "name": "stderr",
     "output_type": "stream",
     "text": [
      "\n",
      "Attaching package: ‘dplyr’\n",
      "\n",
      "The following objects are masked from ‘package:stats’:\n",
      "\n",
      "    filter, lag\n",
      "\n",
      "The following objects are masked from ‘package:base’:\n",
      "\n",
      "    intersect, setdiff, setequal, union\n",
      "\n",
      "\n",
      "Attaching package: ‘memoise’\n",
      "\n",
      "The following object is masked from ‘package:httr’:\n",
      "\n",
      "    timeout\n",
      "\n"
     ]
    }
   ],
   "source": [
    "library(jsonlite)\n",
    "library(dplyr)\n",
    "library(stringr)\n",
    "library(httr)\n",
    "library(\"memoise\")\n",
    "library(purrrlyr)\n"
   ]
  },
  {
   "cell_type": "code",
   "execution_count": null,
   "metadata": {},
   "outputs": [],
   "source": []
  },
  {
   "cell_type": "code",
   "execution_count": 9,
   "metadata": {},
   "outputs": [
    {
     "data": {
      "text/html": [
       "<table>\n",
       "<thead><tr><th scope=col>license</th><th scope=col>obj_id</th><th scope=col>source_token</th><th scope=col>occurred_at</th><th scope=col>subj_id</th><th scope=col>id</th><th scope=col>terms</th><th scope=col>message_action</th><th scope=col>source_id</th><th scope=col>timestamp</th><th scope=col>relation_type_id</th><th scope=col>obj_prefix</th><th scope=col>subj_prefix</th><th scope=col>unique(data$subj_prefix)</th><th scope=col>subj_dc</th><th scope=col>unique(data$obj_prefix)</th><th scope=col>obj_dc</th><th scope=col>doi</th><th scope=col>type</th></tr></thead>\n",
       "<tbody>\n",
       "\t<tr><td>https://doi.org/10.13003/CED-terms-of-use               </td><td>10.13140/RG.2.1.1350.3122                               </td><td>8676e950-8ac5-4074-8ac3-c0a18ada7e99                    </td><td>2017-04-01                                              </td><td>https://doi.org/10.1109/LRA.2017.2651945                </td><td>26eb9df3-c841-48c2-b3f8-239c0bf91506                    </td><td>https://doi.org/10.13003/CED-terms-of-use               </td><td>create                                                  </td><td>crossref                                                </td><td>2017-05-19                                              </td><td>references                                              </td><td>10.13140/                                               </td><td>10.1109/                                                </td><td>10.1109/                                                </td><td>Institute of Electrical and Electronics Engineers (IEEE)</td><td>10.13140/                                               </td><td>ResearchGate                                            </td><td>10.13140/RG.2.1.1350.3122                               </td><td>                                                        </td></tr>\n",
       "</tbody>\n",
       "</table>\n"
      ],
      "text/latex": [
       "\\begin{tabular}{r|lllllllllllllllllll}\n",
       " license & obj\\_id & source\\_token & occurred\\_at & subj\\_id & id & terms & message\\_action & source\\_id & timestamp & relation\\_type\\_id & obj\\_prefix & subj\\_prefix & unique(data\\$subj\\_prefix) & subj\\_dc & unique(data\\$obj\\_prefix) & obj\\_dc & doi & type\\\\\n",
       "\\hline\n",
       "\t https://doi.org/10.13003/CED-terms-of-use                & 10.13140/RG.2.1.1350.3122                                & 8676e950-8ac5-4074-8ac3-c0a18ada7e99                     & 2017-04-01                                               & https://doi.org/10.1109/LRA.2017.2651945                 & 26eb9df3-c841-48c2-b3f8-239c0bf91506                     & https://doi.org/10.13003/CED-terms-of-use                & create                                                   & crossref                                                 & 2017-05-19                                               & references                                               & 10.13140/                                                & 10.1109/                                                 & 10.1109/                                                 & Institute of Electrical and Electronics Engineers (IEEE) & 10.13140/                                                & ResearchGate                                             & 10.13140/RG.2.1.1350.3122                                &                                                         \\\\\n",
       "\\end{tabular}\n"
      ],
      "text/markdown": [
       "\n",
       "license | obj_id | source_token | occurred_at | subj_id | id | terms | message_action | source_id | timestamp | relation_type_id | obj_prefix | subj_prefix | unique(data$subj_prefix) | subj_dc | unique(data$obj_prefix) | obj_dc | doi | type | \n",
       "|---|\n",
       "| https://doi.org/10.13003/CED-terms-of-use                | 10.13140/RG.2.1.1350.3122                                | 8676e950-8ac5-4074-8ac3-c0a18ada7e99                     | 2017-04-01                                               | https://doi.org/10.1109/LRA.2017.2651945                 | 26eb9df3-c841-48c2-b3f8-239c0bf91506                     | https://doi.org/10.13003/CED-terms-of-use                | create                                                   | crossref                                                 | 2017-05-19                                               | references                                               | 10.13140/                                                | 10.1109/                                                 | 10.1109/                                                 | Institute of Electrical and Electronics Engineers (IEEE) | 10.13140/                                                | ResearchGate                                             | 10.13140/RG.2.1.1350.3122                                |                                                          | \n",
       "\n",
       "\n"
      ],
      "text/plain": [
       "  license                                   obj_id                   \n",
       "1 https://doi.org/10.13003/CED-terms-of-use 10.13140/RG.2.1.1350.3122\n",
       "  source_token                         occurred_at\n",
       "1 8676e950-8ac5-4074-8ac3-c0a18ada7e99 2017-04-01 \n",
       "  subj_id                                  id                                  \n",
       "1 https://doi.org/10.1109/LRA.2017.2651945 26eb9df3-c841-48c2-b3f8-239c0bf91506\n",
       "  terms                                     message_action source_id timestamp \n",
       "1 https://doi.org/10.13003/CED-terms-of-use create         crossref  2017-05-19\n",
       "  relation_type_id obj_prefix subj_prefix unique(data$subj_prefix)\n",
       "1 references       10.13140/  10.1109/    10.1109/                \n",
       "  subj_dc                                                 \n",
       "1 Institute of Electrical and Electronics Engineers (IEEE)\n",
       "  unique(data$obj_prefix) obj_dc       doi                       type\n",
       "1 10.13140/               ResearchGate 10.13140/RG.2.1.1350.3122     "
      ]
     },
     "metadata": {},
     "output_type": "display_data"
    }
   ],
   "source": [
    "load(\"../data/datalinks_type.Rda\")\n",
    "data<-data_pack_w_type\n",
    "head(data,1)"
   ]
  },
  {
   "cell_type": "code",
   "execution_count": 98,
   "metadata": {},
   "outputs": [
    {
     "name": "stdout",
     "output_type": "stream",
     "text": [
      "# A tibble: 1 x 19\n",
      "  license  obj_id  source_token  occurred_at subj_id id    terms message_action\n",
      "  <chr>    <chr>   <chr>         <date>      <chr>   <chr> <chr> <fct>         \n",
      "1 https:/… 10.131… 8676e950-8ac… 2017-04-01  https:… 26eb… http… create        \n",
      "# ... with 11 more variables: source_id <fct>, timestamp <date>,\n",
      "#   relation_type_id <fct>, obj_prefix <chr>, subj_prefix <chr>,\n",
      "#   `unique(data$subj_prefix)` <fct>, subj_dc <chr>,\n",
      "#   `unique(data$obj_prefix)` <fct>, obj_dc <chr>, doi <chr>, type <chr>\n"
     ]
    },
    {
     "data": {
      "text/html": [
       "<table>\n",
       "<thead><tr><th scope=col>xref_doi</th><th scope=col>publisher</th><th scope=col>type</th><th scope=col>subject</th><th scope=col>dc_doi</th></tr></thead>\n",
       "<tbody>\n",
       "\t<tr><td>10.1109/LRA.2017.2651945                                </td><td>Institute of Electrical and Electronics Engineers (IEEE)</td><td>journal-article                                         </td><td>Artificial Intelligence                                 </td><td>10.13140/RG.2.1.1350.3122                               </td></tr>\n",
       "</tbody>\n",
       "</table>\n"
      ],
      "text/latex": [
       "\\begin{tabular}{r|lllll}\n",
       " xref\\_doi & publisher & type & subject & dc\\_doi\\\\\n",
       "\\hline\n",
       "\t 10.1109/LRA.2017.2651945                                 & Institute of Electrical and Electronics Engineers (IEEE) & journal-article                                          & Artificial Intelligence                                  & 10.13140/RG.2.1.1350.3122                               \\\\\n",
       "\\end{tabular}\n"
      ],
      "text/markdown": [
       "\n",
       "xref_doi | publisher | type | subject | dc_doi | \n",
       "|---|\n",
       "| 10.1109/LRA.2017.2651945                                 | Institute of Electrical and Electronics Engineers (IEEE) | journal-article                                          | Artificial Intelligence                                  | 10.13140/RG.2.1.1350.3122                                | \n",
       "\n",
       "\n"
      ],
      "text/plain": [
       "  xref_doi                \n",
       "1 10.1109/LRA.2017.2651945\n",
       "  publisher                                                type           \n",
       "1 Institute of Electrical and Electronics Engineers (IEEE) journal-article\n",
       "  subject                 dc_doi                   \n",
       "1 Artificial Intelligence 10.13140/RG.2.1.1350.3122"
      ]
     },
     "metadata": {},
     "output_type": "display_data"
    }
   ],
   "source": [
    "get_doi_data<-function(link) {\n",
    "    doi<-(str_extract(link$subj_id,'(10\\\\.\\\\d{4,5}\\\\/.+)\\\\z'))\n",
    "#     print(doi)\n",
    "    start <- GET(paste0('https://api.crossref.org/works/',doi))\n",
    "    parsed <- content(start, \"parsed\")\n",
    "    item <-parsed$message\n",
    "    if(is.null(item$subject)){\n",
    "        item$subject<-\"\"\n",
    "    }\n",
    "    line <- data.frame(doi,item$publisher,item$type, head(item$subject,1),link$obj_id)\n",
    "    colnames(line)=c(\"xref_doi\",\"publisher\",\"type\",\"subject\",\"dc_doi\")\n",
    "    return(line)\n",
    "}\n",
    "get_doi_data(head(data,1))"
   ]
  },
  {
   "cell_type": "code",
   "execution_count": 103,
   "metadata": {},
   "outputs": [
    {
     "data": {
      "text/html": [
       "<table>\n",
       "<thead><tr><th scope=col>xref_doi</th><th scope=col>publisher</th><th scope=col>type</th><th scope=col>subject</th><th scope=col>dc_doi</th></tr></thead>\n",
       "<tbody>\n",
       "\t<tr><td>10.1109/LRA.2017.2651945                                </td><td>Institute of Electrical and Electronics Engineers (IEEE)</td><td>journal-article                                         </td><td>Artificial Intelligence                                 </td><td>10.13140/RG.2.1.1350.3122                               </td></tr>\n",
       "\t<tr><td>10.1111/pala.12283                                      </td><td>Wiley-Blackwell                                         </td><td>journal-article                                         </td><td>Palaeontology                                           </td><td>10.5061/dryad.dk385                                     </td></tr>\n",
       "\t<tr><td>10.1007/s10669-017-9631-z                               </td><td>Springer Nature                                         </td><td>journal-article                                         </td><td>General Environmental Science                           </td><td>10.7930/J0H12ZXG                                        </td></tr>\n",
       "</tbody>\n",
       "</table>\n"
      ],
      "text/latex": [
       "\\begin{tabular}{r|lllll}\n",
       " xref\\_doi & publisher & type & subject & dc\\_doi\\\\\n",
       "\\hline\n",
       "\t 10.1109/LRA.2017.2651945                                 & Institute of Electrical and Electronics Engineers (IEEE) & journal-article                                          & Artificial Intelligence                                  & 10.13140/RG.2.1.1350.3122                               \\\\\n",
       "\t 10.1111/pala.12283                                       & Wiley-Blackwell                                          & journal-article                                          & Palaeontology                                            & 10.5061/dryad.dk385                                     \\\\\n",
       "\t 10.1007/s10669-017-9631-z                                & Springer Nature                                          & journal-article                                          & General Environmental Science                            & 10.7930/J0H12ZXG                                        \\\\\n",
       "\\end{tabular}\n"
      ],
      "text/markdown": [
       "\n",
       "xref_doi | publisher | type | subject | dc_doi | \n",
       "|---|---|---|\n",
       "| 10.1109/LRA.2017.2651945                                 | Institute of Electrical and Electronics Engineers (IEEE) | journal-article                                          | Artificial Intelligence                                  | 10.13140/RG.2.1.1350.3122                                | \n",
       "| 10.1111/pala.12283                                       | Wiley-Blackwell                                          | journal-article                                          | Palaeontology                                            | 10.5061/dryad.dk385                                      | \n",
       "| 10.1007/s10669-017-9631-z                                | Springer Nature                                          | journal-article                                          | General Environmental Science                            | 10.7930/J0H12ZXG                                         | \n",
       "\n",
       "\n"
      ],
      "text/plain": [
       "  xref_doi                 \n",
       "1 10.1109/LRA.2017.2651945 \n",
       "2 10.1111/pala.12283       \n",
       "3 10.1007/s10669-017-9631-z\n",
       "  publisher                                                type           \n",
       "1 Institute of Electrical and Electronics Engineers (IEEE) journal-article\n",
       "2 Wiley-Blackwell                                          journal-article\n",
       "3 Springer Nature                                          journal-article\n",
       "  subject                       dc_doi                   \n",
       "1 Artificial Intelligence       10.13140/RG.2.1.1350.3122\n",
       "2 Palaeontology                 10.5061/dryad.dk385      \n",
       "3 General Environmental Science 10.7930/J0H12ZXG         "
      ]
     },
     "metadata": {},
     "output_type": "display_data"
    }
   ],
   "source": [
    "get_xref_info<-function(data){\n",
    "    x<-purrrlyr::by_row(data, get_doi_data)$.out\n",
    "    r<-do.call(\"rbind\", lapply(x, as.data.frame))\n",
    "    return(r)\n",
    "}\n",
    "get_xref_info(head(data,3))"
   ]
  },
  {
   "cell_type": "code",
   "execution_count": 105,
   "metadata": {},
   "outputs": [
    {
     "data": {
      "text/html": [
       "<table>\n",
       "<thead><tr><th scope=col>xref_doi</th><th scope=col>publisher</th><th scope=col>type</th><th scope=col>subject</th><th scope=col>dc_doi</th></tr></thead>\n",
       "<tbody>\n",
       "\t<tr><td>10.1109/LRA.2017.2651945                                </td><td>Institute of Electrical and Electronics Engineers (IEEE)</td><td>journal-article                                         </td><td>Artificial Intelligence                                 </td><td>10.13140/RG.2.1.1350.3122                               </td></tr>\n",
       "\t<tr><td>10.1111/pala.12283                                      </td><td>Wiley-Blackwell                                         </td><td>journal-article                                         </td><td>Palaeontology                                           </td><td>10.5061/dryad.dk385                                     </td></tr>\n",
       "\t<tr><td>10.1007/s10669-017-9631-z                               </td><td>Springer Nature                                         </td><td>journal-article                                         </td><td>General Environmental Science                           </td><td>10.7930/J0H12ZXG                                        </td></tr>\n",
       "\t<tr><td>10.1080/14702436.2016.1256209                           </td><td>Informa UK Limited                                      </td><td>journal-article                                         </td><td>Political Science and International Relations           </td><td>10.5195/errs.2012.125                                   </td></tr>\n",
       "\t<tr><td>10.12688/f1000research.10763.1                          </td><td>F1000 Research, Ltd.                                    </td><td>journal-article                                         </td><td>                                                        </td><td>10.5256/f1000research.10763.d151064                     </td></tr>\n",
       "\t<tr><td>10.12688/f1000research.10426.1                          </td><td>F1000 Research, Ltd.                                    </td><td>journal-article                                         </td><td>                                                        </td><td>10.5281/zenodo.193080                                   </td></tr>\n",
       "\t<tr><td>10.3109/1547691X.2016.1149528                           </td><td>Informa UK Limited                                      </td><td>journal-article                                         </td><td>Toxicology                                              </td><td>10.18433/J3559N                                         </td></tr>\n",
       "\t<tr><td>10.17795/ccn-8886                                       </td><td>Kowsar Medical Institute                                </td><td>journal-article                                         </td><td>                                                        </td><td>10.5681/jcs.2012.033                                    </td></tr>\n",
       "\t<tr><td>10.1080/15504263.2016.1277816                           </td><td>Informa UK Limited                                      </td><td>journal-article                                         </td><td>Psychiatry and Mental health                            </td><td>10.3886/ICPSR24461.v4                                   </td></tr>\n",
       "\t<tr><td>10.1080/13803395.2015.1125453                           </td><td>Informa UK Limited                                      </td><td>journal-article                                         </td><td>Clinical Psychology                                     </td><td>10.3886/ICPSR04248.v3                                   </td></tr>\n",
       "\t<tr><td>10.12688/f1000research.10632.1                          </td><td>F1000 Research, Ltd.                                    </td><td>journal-article                                         </td><td>                                                        </td><td>10.5256/f1000research.10632.d150960                     </td></tr>\n",
       "\t<tr><td>10.12688/f1000research.9259.1                           </td><td>F1000 Research, Ltd.                                    </td><td>journal-article                                         </td><td>                                                        </td><td>10.5281/zenodo.153937                                   </td></tr>\n",
       "\t<tr><td>10.1080/15504263.2016.1277816                           </td><td>Informa UK Limited                                      </td><td>journal-article                                         </td><td>Psychiatry and Mental health                            </td><td>10.3886/ICPSR30122.v5                                   </td></tr>\n",
       "\t<tr><td>10.7554/eLife.20975                                     </td><td>eLife Sciences Organisation, Ltd.                       </td><td>journal-article                                         </td><td>General Biochemistry, Genetics and Molecular Biology    </td><td>10.5061/dryad.bn1gf                                     </td></tr>\n",
       "\t<tr><td>10.1111/pala.12281                                      </td><td>Wiley-Blackwell                                         </td><td>journal-article                                         </td><td>Palaeontology                                           </td><td>10.5061/dryad.320h5                                     </td></tr>\n",
       "\t<tr><td>10.12688/f1000research.9434.1                           </td><td>F1000 Research, Ltd.                                    </td><td>journal-article                                         </td><td>                                                        </td><td>10.5281/zenodo.167143                                   </td></tr>\n",
       "\t<tr><td>10.12688/f1000research.9667.2                           </td><td>F1000 Research, Ltd.                                    </td><td>journal-article                                         </td><td>                                                        </td><td>10.5256/f1000research.9667.d136816                      </td></tr>\n",
       "\t<tr><td>10.1111/jeb.13002                                       </td><td>Wiley-Blackwell                                         </td><td>journal-article                                         </td><td>Ecology, Evolution, Behavior and Systematics            </td><td>10.5281/zenodo.54705                                    </td></tr>\n",
       "\t<tr><td>10.1080/13803395.2016.1167174                           </td><td>Informa UK Limited                                      </td><td>journal-article                                         </td><td>Clinical Psychology                                     </td><td>10.3205/000098                                          </td></tr>\n",
       "\t<tr><td>10.12688/f1000research.9740.1                           </td><td>F1000 Research, Ltd.                                    </td><td>journal-article                                         </td><td>                                                        </td><td>10.5256/f1000research.9740.d139661                      </td></tr>\n",
       "\t<tr><td>10.12688/f1000research.9740.1                           </td><td>F1000 Research, Ltd.                                    </td><td>journal-article                                         </td><td>                                                        </td><td>10.5256/f1000research.9740.d139660                      </td></tr>\n",
       "\t<tr><td>10.1177/1754073916670022                                </td><td>SAGE Publications                                       </td><td>journal-article                                         </td><td>Experimental and Cognitive Psychology                   </td><td>10.3205/psm000094                                       </td></tr>\n",
       "\t<tr><td>10.12688/f1000research.10426.1                          </td><td>F1000 Research, Ltd.                                    </td><td>journal-article                                         </td><td>                                                        </td><td>10.7490/f1000research.1112509.1                         </td></tr>\n",
       "\t<tr><td>10.12688/f1000research.10422.1                          </td><td>F1000 Research, Ltd.                                    </td><td>journal-article                                         </td><td>                                                        </td><td>10.13140/RG.2.1.4929.1363                               </td></tr>\n",
       "\t<tr><td>10.12688/f1000research.10335.1                          </td><td>F1000 Research, Ltd.                                    </td><td>journal-article                                         </td><td>                                                        </td><td>10.5281/zenodo.57900                                    </td></tr>\n",
       "\t<tr><td>10.12688/f1000research.9667.2                           </td><td>F1000 Research, Ltd.                                    </td><td>journal-article                                         </td><td>                                                        </td><td>10.5524/100076                                          </td></tr>\n",
       "\t<tr><td>10.12688/f1000research.10335.1                          </td><td>F1000 Research, Ltd.                                    </td><td>journal-article                                         </td><td>                                                        </td><td>10.6084/m9.figshare.1254958                             </td></tr>\n",
       "\t<tr><td>10.12688/f1000research.10559.1                          </td><td>F1000 Research, Ltd.                                    </td><td>journal-article                                         </td><td>                                                        </td><td>10.5256/f1000research.10559.d148698                     </td></tr>\n",
       "\t<tr><td>10.1108/S0163-786X20160000040006                        </td><td>Emerald Group Publishing Limited                        </td><td>book-chapter                                            </td><td>                                                        </td><td>10.4119/UNIBI/jsse-v12-i1-1217                          </td></tr>\n",
       "\t<tr><td>10.1002/jclp.22358                                      </td><td>Wiley-Blackwell                                         </td><td>journal-article                                         </td><td>Arts and Humanities (miscellaneous)                     </td><td>10.17863/CAM.195                                        </td></tr>\n",
       "\t<tr><td>10.1108/S0190-1281(2011)0000031003                      </td><td>Emerald Group Publishing Limited                        </td><td>other                                                   </td><td>                                                        </td><td>10.5195/jwsr.1999.145                                   </td></tr>\n",
       "\t<tr><td>10.1108/S0733-558X20150000043017                        </td><td>Emerald Group Publishing Limited                        </td><td>book-chapter                                            </td><td>                                                        </td><td>10.5195/jwsr.2005.383                                   </td></tr>\n",
       "\t<tr><td>10.1002/aoc.3820                                        </td><td>Wiley-Blackwell                                         </td><td>journal-article                                         </td><td>Inorganic Chemistry                                     </td><td>10.18433/J3D30Q                                         </td></tr>\n",
       "\t<tr><td>10.1108/S1479-368720150000025021                        </td><td>Emerald Group Publishing Limited                        </td><td>book-chapter                                            </td><td>                                                        </td><td>10.18162/ritpu.2006.120                                 </td></tr>\n",
       "\t<tr><td>10.1108/S0198-8719(2012)0000023010                      </td><td>Emerald Group Publishing Limited                        </td><td>book-chapter                                            </td><td>                                                        </td><td>10.5195/jwsr.2010.463                                   </td></tr>\n",
       "\t<tr><td>10.1108/S1529-2126(2011)0000015009                      </td><td>Emerald Group Publishing Limited                        </td><td>book-chapter                                            </td><td>                                                        </td><td>10.5195/jwsr.2001.182                                   </td></tr>\n",
       "\t<tr><td>10.1007/978-3-319-56160-8_1                             </td><td>Springer International Publishing                       </td><td>book-chapter                                            </td><td>                                                        </td><td>10.5195/ERRS.2011.69                                    </td></tr>\n",
       "\t<tr><td>10.1002/hyp.11146                                       </td><td>Wiley-Blackwell                                         </td><td>journal-article                                         </td><td>Water Science and Technology                            </td><td>10.5678/LCRS/PAK823-825.DAT.1400                        </td></tr>\n",
       "\t<tr><td>10.1108/S0732-067120160000036007                        </td><td>Emerald Group Publishing Limited                        </td><td>book-chapter                                            </td><td>                                                        </td><td>10.18438/B8VS6Q                                         </td></tr>\n",
       "\t<tr><td>10.1108/S0278-120420150000034007                        </td><td>Emerald Group Publishing Limited                        </td><td>book-chapter                                            </td><td>                                                        </td><td>10.5195/jwsr.2009.318                                   </td></tr>\n",
       "\t<tr><td>10.1108/S0732-067120160000036010                        </td><td>Emerald Group Publishing Limited                        </td><td>book-chapter                                            </td><td>                                                        </td><td>10.18438/B8761C                                         </td></tr>\n",
       "\t<tr><td>10.1002/hyp.10975                                       </td><td>Wiley-Blackwell                                         </td><td>journal-article                                         </td><td>Water Science and Technology                            </td><td>10.13140/2.1.4187.3608                                  </td></tr>\n",
       "\t<tr><td>10.1108/S0732-067120160000036013                        </td><td>Emerald Group Publishing Limited                        </td><td>book-chapter                                            </td><td>                                                        </td><td>10.18438/B8761C                                         </td></tr>\n",
       "\t<tr><td>10.1002/erv.2419                                        </td><td>Wiley-Blackwell                                         </td><td>journal-article                                         </td><td>Clinical Psychology                                     </td><td>10.3205/psm000066                                       </td></tr>\n",
       "\t<tr><td>10.1108/S0278-1204(2010)0000027009                      </td><td>Emerald Group Publishing Limited                        </td><td>book-chapter                                            </td><td>                                                        </td><td>10.5195/jwsr.2007.360                                   </td></tr>\n",
       "\t<tr><td>10.1108/S0733-558X20150000043018                        </td><td>Emerald Group Publishing Limited                        </td><td>book-chapter                                            </td><td>                                                        </td><td>10.5195/jwsr.2005.383                                   </td></tr>\n",
       "\t<tr><td>10.1002/hbm.23471                                       </td><td>Wiley-Blackwell                                         </td><td>journal-article                                         </td><td>Anatomy                                                 </td><td>10.5061/dryad.8m2g3                                     </td></tr>\n",
       "\t<tr><td>10.1108/S1529-21262014000018B015                        </td><td>Emerald Group Publishing Limited                        </td><td>book-chapter                                            </td><td>                                                        </td><td>10.5195/errs.2011.51                                    </td></tr>\n",
       "\t<tr><td>10.1108/S0732-067120160000036011                        </td><td>Emerald Group Publishing Limited                        </td><td>book-chapter                                            </td><td>                                                        </td><td>10.18438/B8761C                                         </td></tr>\n",
       "\t<tr><td>10.1108/S0733-558X20170000051005                        </td><td>Emerald Publishing Limited                              </td><td>book-chapter                                            </td><td>                                                        </td><td>10.5195/TLP.2014.158                                    </td></tr>\n",
       "</tbody>\n",
       "</table>\n"
      ],
      "text/latex": [
       "\\begin{tabular}{r|lllll}\n",
       " xref\\_doi & publisher & type & subject & dc\\_doi\\\\\n",
       "\\hline\n",
       "\t 10.1109/LRA.2017.2651945                                 & Institute of Electrical and Electronics Engineers (IEEE) & journal-article                                          & Artificial Intelligence                                  & 10.13140/RG.2.1.1350.3122                               \\\\\n",
       "\t 10.1111/pala.12283                                       & Wiley-Blackwell                                          & journal-article                                          & Palaeontology                                            & 10.5061/dryad.dk385                                     \\\\\n",
       "\t 10.1007/s10669-017-9631-z                                & Springer Nature                                          & journal-article                                          & General Environmental Science                            & 10.7930/J0H12ZXG                                        \\\\\n",
       "\t 10.1080/14702436.2016.1256209                            & Informa UK Limited                                       & journal-article                                          & Political Science and International Relations            & 10.5195/errs.2012.125                                   \\\\\n",
       "\t 10.12688/f1000research.10763.1                           & F1000 Research, Ltd.                                     & journal-article                                          &                                                          & 10.5256/f1000research.10763.d151064                     \\\\\n",
       "\t 10.12688/f1000research.10426.1                           & F1000 Research, Ltd.                                     & journal-article                                          &                                                          & 10.5281/zenodo.193080                                   \\\\\n",
       "\t 10.3109/1547691X.2016.1149528                            & Informa UK Limited                                       & journal-article                                          & Toxicology                                               & 10.18433/J3559N                                         \\\\\n",
       "\t 10.17795/ccn-8886                                        & Kowsar Medical Institute                                 & journal-article                                          &                                                          & 10.5681/jcs.2012.033                                    \\\\\n",
       "\t 10.1080/15504263.2016.1277816                            & Informa UK Limited                                       & journal-article                                          & Psychiatry and Mental health                             & 10.3886/ICPSR24461.v4                                   \\\\\n",
       "\t 10.1080/13803395.2015.1125453                            & Informa UK Limited                                       & journal-article                                          & Clinical Psychology                                      & 10.3886/ICPSR04248.v3                                   \\\\\n",
       "\t 10.12688/f1000research.10632.1                           & F1000 Research, Ltd.                                     & journal-article                                          &                                                          & 10.5256/f1000research.10632.d150960                     \\\\\n",
       "\t 10.12688/f1000research.9259.1                            & F1000 Research, Ltd.                                     & journal-article                                          &                                                          & 10.5281/zenodo.153937                                   \\\\\n",
       "\t 10.1080/15504263.2016.1277816                            & Informa UK Limited                                       & journal-article                                          & Psychiatry and Mental health                             & 10.3886/ICPSR30122.v5                                   \\\\\n",
       "\t 10.7554/eLife.20975                                      & eLife Sciences Organisation, Ltd.                        & journal-article                                          & General Biochemistry, Genetics and Molecular Biology     & 10.5061/dryad.bn1gf                                     \\\\\n",
       "\t 10.1111/pala.12281                                       & Wiley-Blackwell                                          & journal-article                                          & Palaeontology                                            & 10.5061/dryad.320h5                                     \\\\\n",
       "\t 10.12688/f1000research.9434.1                            & F1000 Research, Ltd.                                     & journal-article                                          &                                                          & 10.5281/zenodo.167143                                   \\\\\n",
       "\t 10.12688/f1000research.9667.2                            & F1000 Research, Ltd.                                     & journal-article                                          &                                                          & 10.5256/f1000research.9667.d136816                      \\\\\n",
       "\t 10.1111/jeb.13002                                        & Wiley-Blackwell                                          & journal-article                                          & Ecology, Evolution, Behavior and Systematics             & 10.5281/zenodo.54705                                    \\\\\n",
       "\t 10.1080/13803395.2016.1167174                            & Informa UK Limited                                       & journal-article                                          & Clinical Psychology                                      & 10.3205/000098                                          \\\\\n",
       "\t 10.12688/f1000research.9740.1                            & F1000 Research, Ltd.                                     & journal-article                                          &                                                          & 10.5256/f1000research.9740.d139661                      \\\\\n",
       "\t 10.12688/f1000research.9740.1                            & F1000 Research, Ltd.                                     & journal-article                                          &                                                          & 10.5256/f1000research.9740.d139660                      \\\\\n",
       "\t 10.1177/1754073916670022                                 & SAGE Publications                                        & journal-article                                          & Experimental and Cognitive Psychology                    & 10.3205/psm000094                                       \\\\\n",
       "\t 10.12688/f1000research.10426.1                           & F1000 Research, Ltd.                                     & journal-article                                          &                                                          & 10.7490/f1000research.1112509.1                         \\\\\n",
       "\t 10.12688/f1000research.10422.1                           & F1000 Research, Ltd.                                     & journal-article                                          &                                                          & 10.13140/RG.2.1.4929.1363                               \\\\\n",
       "\t 10.12688/f1000research.10335.1                           & F1000 Research, Ltd.                                     & journal-article                                          &                                                          & 10.5281/zenodo.57900                                    \\\\\n",
       "\t 10.12688/f1000research.9667.2                            & F1000 Research, Ltd.                                     & journal-article                                          &                                                          & 10.5524/100076                                          \\\\\n",
       "\t 10.12688/f1000research.10335.1                           & F1000 Research, Ltd.                                     & journal-article                                          &                                                          & 10.6084/m9.figshare.1254958                             \\\\\n",
       "\t 10.12688/f1000research.10559.1                           & F1000 Research, Ltd.                                     & journal-article                                          &                                                          & 10.5256/f1000research.10559.d148698                     \\\\\n",
       "\t 10.1108/S0163-786X20160000040006                         & Emerald Group Publishing Limited                         & book-chapter                                             &                                                          & 10.4119/UNIBI/jsse-v12-i1-1217                          \\\\\n",
       "\t 10.1002/jclp.22358                                       & Wiley-Blackwell                                          & journal-article                                          & Arts and Humanities (miscellaneous)                      & 10.17863/CAM.195                                        \\\\\n",
       "\t 10.1108/S0190-1281(2011)0000031003                       & Emerald Group Publishing Limited                         & other                                                    &                                                          & 10.5195/jwsr.1999.145                                   \\\\\n",
       "\t 10.1108/S0733-558X20150000043017                         & Emerald Group Publishing Limited                         & book-chapter                                             &                                                          & 10.5195/jwsr.2005.383                                   \\\\\n",
       "\t 10.1002/aoc.3820                                         & Wiley-Blackwell                                          & journal-article                                          & Inorganic Chemistry                                      & 10.18433/J3D30Q                                         \\\\\n",
       "\t 10.1108/S1479-368720150000025021                         & Emerald Group Publishing Limited                         & book-chapter                                             &                                                          & 10.18162/ritpu.2006.120                                 \\\\\n",
       "\t 10.1108/S0198-8719(2012)0000023010                       & Emerald Group Publishing Limited                         & book-chapter                                             &                                                          & 10.5195/jwsr.2010.463                                   \\\\\n",
       "\t 10.1108/S1529-2126(2011)0000015009                       & Emerald Group Publishing Limited                         & book-chapter                                             &                                                          & 10.5195/jwsr.2001.182                                   \\\\\n",
       "\t 10.1007/978-3-319-56160-8\\_1                            & Springer International Publishing                        & book-chapter                                             &                                                          & 10.5195/ERRS.2011.69                                    \\\\\n",
       "\t 10.1002/hyp.11146                                        & Wiley-Blackwell                                          & journal-article                                          & Water Science and Technology                             & 10.5678/LCRS/PAK823-825.DAT.1400                        \\\\\n",
       "\t 10.1108/S0732-067120160000036007                         & Emerald Group Publishing Limited                         & book-chapter                                             &                                                          & 10.18438/B8VS6Q                                         \\\\\n",
       "\t 10.1108/S0278-120420150000034007                         & Emerald Group Publishing Limited                         & book-chapter                                             &                                                          & 10.5195/jwsr.2009.318                                   \\\\\n",
       "\t 10.1108/S0732-067120160000036010                         & Emerald Group Publishing Limited                         & book-chapter                                             &                                                          & 10.18438/B8761C                                         \\\\\n",
       "\t 10.1002/hyp.10975                                        & Wiley-Blackwell                                          & journal-article                                          & Water Science and Technology                             & 10.13140/2.1.4187.3608                                  \\\\\n",
       "\t 10.1108/S0732-067120160000036013                         & Emerald Group Publishing Limited                         & book-chapter                                             &                                                          & 10.18438/B8761C                                         \\\\\n",
       "\t 10.1002/erv.2419                                         & Wiley-Blackwell                                          & journal-article                                          & Clinical Psychology                                      & 10.3205/psm000066                                       \\\\\n",
       "\t 10.1108/S0278-1204(2010)0000027009                       & Emerald Group Publishing Limited                         & book-chapter                                             &                                                          & 10.5195/jwsr.2007.360                                   \\\\\n",
       "\t 10.1108/S0733-558X20150000043018                         & Emerald Group Publishing Limited                         & book-chapter                                             &                                                          & 10.5195/jwsr.2005.383                                   \\\\\n",
       "\t 10.1002/hbm.23471                                        & Wiley-Blackwell                                          & journal-article                                          & Anatomy                                                  & 10.5061/dryad.8m2g3                                     \\\\\n",
       "\t 10.1108/S1529-21262014000018B015                         & Emerald Group Publishing Limited                         & book-chapter                                             &                                                          & 10.5195/errs.2011.51                                    \\\\\n",
       "\t 10.1108/S0732-067120160000036011                         & Emerald Group Publishing Limited                         & book-chapter                                             &                                                          & 10.18438/B8761C                                         \\\\\n",
       "\t 10.1108/S0733-558X20170000051005                         & Emerald Publishing Limited                               & book-chapter                                             &                                                          & 10.5195/TLP.2014.158                                    \\\\\n",
       "\\end{tabular}\n"
      ],
      "text/markdown": [
       "\n",
       "xref_doi | publisher | type | subject | dc_doi | \n",
       "|---|---|---|---|---|---|---|---|---|---|---|---|---|---|---|---|---|---|---|---|---|---|---|---|---|---|---|---|---|---|---|---|---|---|---|---|---|---|---|---|---|---|---|---|---|---|---|---|---|---|\n",
       "| 10.1109/LRA.2017.2651945                                 | Institute of Electrical and Electronics Engineers (IEEE) | journal-article                                          | Artificial Intelligence                                  | 10.13140/RG.2.1.1350.3122                                | \n",
       "| 10.1111/pala.12283                                       | Wiley-Blackwell                                          | journal-article                                          | Palaeontology                                            | 10.5061/dryad.dk385                                      | \n",
       "| 10.1007/s10669-017-9631-z                                | Springer Nature                                          | journal-article                                          | General Environmental Science                            | 10.7930/J0H12ZXG                                         | \n",
       "| 10.1080/14702436.2016.1256209                            | Informa UK Limited                                       | journal-article                                          | Political Science and International Relations            | 10.5195/errs.2012.125                                    | \n",
       "| 10.12688/f1000research.10763.1                           | F1000 Research, Ltd.                                     | journal-article                                          |                                                          | 10.5256/f1000research.10763.d151064                      | \n",
       "| 10.12688/f1000research.10426.1                           | F1000 Research, Ltd.                                     | journal-article                                          |                                                          | 10.5281/zenodo.193080                                    | \n",
       "| 10.3109/1547691X.2016.1149528                            | Informa UK Limited                                       | journal-article                                          | Toxicology                                               | 10.18433/J3559N                                          | \n",
       "| 10.17795/ccn-8886                                        | Kowsar Medical Institute                                 | journal-article                                          |                                                          | 10.5681/jcs.2012.033                                     | \n",
       "| 10.1080/15504263.2016.1277816                            | Informa UK Limited                                       | journal-article                                          | Psychiatry and Mental health                             | 10.3886/ICPSR24461.v4                                    | \n",
       "| 10.1080/13803395.2015.1125453                            | Informa UK Limited                                       | journal-article                                          | Clinical Psychology                                      | 10.3886/ICPSR04248.v3                                    | \n",
       "| 10.12688/f1000research.10632.1                           | F1000 Research, Ltd.                                     | journal-article                                          |                                                          | 10.5256/f1000research.10632.d150960                      | \n",
       "| 10.12688/f1000research.9259.1                            | F1000 Research, Ltd.                                     | journal-article                                          |                                                          | 10.5281/zenodo.153937                                    | \n",
       "| 10.1080/15504263.2016.1277816                            | Informa UK Limited                                       | journal-article                                          | Psychiatry and Mental health                             | 10.3886/ICPSR30122.v5                                    | \n",
       "| 10.7554/eLife.20975                                      | eLife Sciences Organisation, Ltd.                        | journal-article                                          | General Biochemistry, Genetics and Molecular Biology     | 10.5061/dryad.bn1gf                                      | \n",
       "| 10.1111/pala.12281                                       | Wiley-Blackwell                                          | journal-article                                          | Palaeontology                                            | 10.5061/dryad.320h5                                      | \n",
       "| 10.12688/f1000research.9434.1                            | F1000 Research, Ltd.                                     | journal-article                                          |                                                          | 10.5281/zenodo.167143                                    | \n",
       "| 10.12688/f1000research.9667.2                            | F1000 Research, Ltd.                                     | journal-article                                          |                                                          | 10.5256/f1000research.9667.d136816                       | \n",
       "| 10.1111/jeb.13002                                        | Wiley-Blackwell                                          | journal-article                                          | Ecology, Evolution, Behavior and Systematics             | 10.5281/zenodo.54705                                     | \n",
       "| 10.1080/13803395.2016.1167174                            | Informa UK Limited                                       | journal-article                                          | Clinical Psychology                                      | 10.3205/000098                                           | \n",
       "| 10.12688/f1000research.9740.1                            | F1000 Research, Ltd.                                     | journal-article                                          |                                                          | 10.5256/f1000research.9740.d139661                       | \n",
       "| 10.12688/f1000research.9740.1                            | F1000 Research, Ltd.                                     | journal-article                                          |                                                          | 10.5256/f1000research.9740.d139660                       | \n",
       "| 10.1177/1754073916670022                                 | SAGE Publications                                        | journal-article                                          | Experimental and Cognitive Psychology                    | 10.3205/psm000094                                        | \n",
       "| 10.12688/f1000research.10426.1                           | F1000 Research, Ltd.                                     | journal-article                                          |                                                          | 10.7490/f1000research.1112509.1                          | \n",
       "| 10.12688/f1000research.10422.1                           | F1000 Research, Ltd.                                     | journal-article                                          |                                                          | 10.13140/RG.2.1.4929.1363                                | \n",
       "| 10.12688/f1000research.10335.1                           | F1000 Research, Ltd.                                     | journal-article                                          |                                                          | 10.5281/zenodo.57900                                     | \n",
       "| 10.12688/f1000research.9667.2                            | F1000 Research, Ltd.                                     | journal-article                                          |                                                          | 10.5524/100076                                           | \n",
       "| 10.12688/f1000research.10335.1                           | F1000 Research, Ltd.                                     | journal-article                                          |                                                          | 10.6084/m9.figshare.1254958                              | \n",
       "| 10.12688/f1000research.10559.1                           | F1000 Research, Ltd.                                     | journal-article                                          |                                                          | 10.5256/f1000research.10559.d148698                      | \n",
       "| 10.1108/S0163-786X20160000040006                         | Emerald Group Publishing Limited                         | book-chapter                                             |                                                          | 10.4119/UNIBI/jsse-v12-i1-1217                           | \n",
       "| 10.1002/jclp.22358                                       | Wiley-Blackwell                                          | journal-article                                          | Arts and Humanities (miscellaneous)                      | 10.17863/CAM.195                                         | \n",
       "| 10.1108/S0190-1281(2011)0000031003                       | Emerald Group Publishing Limited                         | other                                                    |                                                          | 10.5195/jwsr.1999.145                                    | \n",
       "| 10.1108/S0733-558X20150000043017                         | Emerald Group Publishing Limited                         | book-chapter                                             |                                                          | 10.5195/jwsr.2005.383                                    | \n",
       "| 10.1002/aoc.3820                                         | Wiley-Blackwell                                          | journal-article                                          | Inorganic Chemistry                                      | 10.18433/J3D30Q                                          | \n",
       "| 10.1108/S1479-368720150000025021                         | Emerald Group Publishing Limited                         | book-chapter                                             |                                                          | 10.18162/ritpu.2006.120                                  | \n",
       "| 10.1108/S0198-8719(2012)0000023010                       | Emerald Group Publishing Limited                         | book-chapter                                             |                                                          | 10.5195/jwsr.2010.463                                    | \n",
       "| 10.1108/S1529-2126(2011)0000015009                       | Emerald Group Publishing Limited                         | book-chapter                                             |                                                          | 10.5195/jwsr.2001.182                                    | \n",
       "| 10.1007/978-3-319-56160-8_1                              | Springer International Publishing                        | book-chapter                                             |                                                          | 10.5195/ERRS.2011.69                                     | \n",
       "| 10.1002/hyp.11146                                        | Wiley-Blackwell                                          | journal-article                                          | Water Science and Technology                             | 10.5678/LCRS/PAK823-825.DAT.1400                         | \n",
       "| 10.1108/S0732-067120160000036007                         | Emerald Group Publishing Limited                         | book-chapter                                             |                                                          | 10.18438/B8VS6Q                                          | \n",
       "| 10.1108/S0278-120420150000034007                         | Emerald Group Publishing Limited                         | book-chapter                                             |                                                          | 10.5195/jwsr.2009.318                                    | \n",
       "| 10.1108/S0732-067120160000036010                         | Emerald Group Publishing Limited                         | book-chapter                                             |                                                          | 10.18438/B8761C                                          | \n",
       "| 10.1002/hyp.10975                                        | Wiley-Blackwell                                          | journal-article                                          | Water Science and Technology                             | 10.13140/2.1.4187.3608                                   | \n",
       "| 10.1108/S0732-067120160000036013                         | Emerald Group Publishing Limited                         | book-chapter                                             |                                                          | 10.18438/B8761C                                          | \n",
       "| 10.1002/erv.2419                                         | Wiley-Blackwell                                          | journal-article                                          | Clinical Psychology                                      | 10.3205/psm000066                                        | \n",
       "| 10.1108/S0278-1204(2010)0000027009                       | Emerald Group Publishing Limited                         | book-chapter                                             |                                                          | 10.5195/jwsr.2007.360                                    | \n",
       "| 10.1108/S0733-558X20150000043018                         | Emerald Group Publishing Limited                         | book-chapter                                             |                                                          | 10.5195/jwsr.2005.383                                    | \n",
       "| 10.1002/hbm.23471                                        | Wiley-Blackwell                                          | journal-article                                          | Anatomy                                                  | 10.5061/dryad.8m2g3                                      | \n",
       "| 10.1108/S1529-21262014000018B015                         | Emerald Group Publishing Limited                         | book-chapter                                             |                                                          | 10.5195/errs.2011.51                                     | \n",
       "| 10.1108/S0732-067120160000036011                         | Emerald Group Publishing Limited                         | book-chapter                                             |                                                          | 10.18438/B8761C                                          | \n",
       "| 10.1108/S0733-558X20170000051005                         | Emerald Publishing Limited                               | book-chapter                                             |                                                          | 10.5195/TLP.2014.158                                     | \n",
       "\n",
       "\n"
      ],
      "text/plain": [
       "   xref_doi                          \n",
       "1  10.1109/LRA.2017.2651945          \n",
       "2  10.1111/pala.12283                \n",
       "3  10.1007/s10669-017-9631-z         \n",
       "4  10.1080/14702436.2016.1256209     \n",
       "5  10.12688/f1000research.10763.1    \n",
       "6  10.12688/f1000research.10426.1    \n",
       "7  10.3109/1547691X.2016.1149528     \n",
       "8  10.17795/ccn-8886                 \n",
       "9  10.1080/15504263.2016.1277816     \n",
       "10 10.1080/13803395.2015.1125453     \n",
       "11 10.12688/f1000research.10632.1    \n",
       "12 10.12688/f1000research.9259.1     \n",
       "13 10.1080/15504263.2016.1277816     \n",
       "14 10.7554/eLife.20975               \n",
       "15 10.1111/pala.12281                \n",
       "16 10.12688/f1000research.9434.1     \n",
       "17 10.12688/f1000research.9667.2     \n",
       "18 10.1111/jeb.13002                 \n",
       "19 10.1080/13803395.2016.1167174     \n",
       "20 10.12688/f1000research.9740.1     \n",
       "21 10.12688/f1000research.9740.1     \n",
       "22 10.1177/1754073916670022          \n",
       "23 10.12688/f1000research.10426.1    \n",
       "24 10.12688/f1000research.10422.1    \n",
       "25 10.12688/f1000research.10335.1    \n",
       "26 10.12688/f1000research.9667.2     \n",
       "27 10.12688/f1000research.10335.1    \n",
       "28 10.12688/f1000research.10559.1    \n",
       "29 10.1108/S0163-786X20160000040006  \n",
       "30 10.1002/jclp.22358                \n",
       "31 10.1108/S0190-1281(2011)0000031003\n",
       "32 10.1108/S0733-558X20150000043017  \n",
       "33 10.1002/aoc.3820                  \n",
       "34 10.1108/S1479-368720150000025021  \n",
       "35 10.1108/S0198-8719(2012)0000023010\n",
       "36 10.1108/S1529-2126(2011)0000015009\n",
       "37 10.1007/978-3-319-56160-8_1       \n",
       "38 10.1002/hyp.11146                 \n",
       "39 10.1108/S0732-067120160000036007  \n",
       "40 10.1108/S0278-120420150000034007  \n",
       "41 10.1108/S0732-067120160000036010  \n",
       "42 10.1002/hyp.10975                 \n",
       "43 10.1108/S0732-067120160000036013  \n",
       "44 10.1002/erv.2419                  \n",
       "45 10.1108/S0278-1204(2010)0000027009\n",
       "46 10.1108/S0733-558X20150000043018  \n",
       "47 10.1002/hbm.23471                 \n",
       "48 10.1108/S1529-21262014000018B015  \n",
       "49 10.1108/S0732-067120160000036011  \n",
       "50 10.1108/S0733-558X20170000051005  \n",
       "   publisher                                                type           \n",
       "1  Institute of Electrical and Electronics Engineers (IEEE) journal-article\n",
       "2  Wiley-Blackwell                                          journal-article\n",
       "3  Springer Nature                                          journal-article\n",
       "4  Informa UK Limited                                       journal-article\n",
       "5  F1000 Research, Ltd.                                     journal-article\n",
       "6  F1000 Research, Ltd.                                     journal-article\n",
       "7  Informa UK Limited                                       journal-article\n",
       "8  Kowsar Medical Institute                                 journal-article\n",
       "9  Informa UK Limited                                       journal-article\n",
       "10 Informa UK Limited                                       journal-article\n",
       "11 F1000 Research, Ltd.                                     journal-article\n",
       "12 F1000 Research, Ltd.                                     journal-article\n",
       "13 Informa UK Limited                                       journal-article\n",
       "14 eLife Sciences Organisation, Ltd.                        journal-article\n",
       "15 Wiley-Blackwell                                          journal-article\n",
       "16 F1000 Research, Ltd.                                     journal-article\n",
       "17 F1000 Research, Ltd.                                     journal-article\n",
       "18 Wiley-Blackwell                                          journal-article\n",
       "19 Informa UK Limited                                       journal-article\n",
       "20 F1000 Research, Ltd.                                     journal-article\n",
       "21 F1000 Research, Ltd.                                     journal-article\n",
       "22 SAGE Publications                                        journal-article\n",
       "23 F1000 Research, Ltd.                                     journal-article\n",
       "24 F1000 Research, Ltd.                                     journal-article\n",
       "25 F1000 Research, Ltd.                                     journal-article\n",
       "26 F1000 Research, Ltd.                                     journal-article\n",
       "27 F1000 Research, Ltd.                                     journal-article\n",
       "28 F1000 Research, Ltd.                                     journal-article\n",
       "29 Emerald Group Publishing Limited                         book-chapter   \n",
       "30 Wiley-Blackwell                                          journal-article\n",
       "31 Emerald Group Publishing Limited                         other          \n",
       "32 Emerald Group Publishing Limited                         book-chapter   \n",
       "33 Wiley-Blackwell                                          journal-article\n",
       "34 Emerald Group Publishing Limited                         book-chapter   \n",
       "35 Emerald Group Publishing Limited                         book-chapter   \n",
       "36 Emerald Group Publishing Limited                         book-chapter   \n",
       "37 Springer International Publishing                        book-chapter   \n",
       "38 Wiley-Blackwell                                          journal-article\n",
       "39 Emerald Group Publishing Limited                         book-chapter   \n",
       "40 Emerald Group Publishing Limited                         book-chapter   \n",
       "41 Emerald Group Publishing Limited                         book-chapter   \n",
       "42 Wiley-Blackwell                                          journal-article\n",
       "43 Emerald Group Publishing Limited                         book-chapter   \n",
       "44 Wiley-Blackwell                                          journal-article\n",
       "45 Emerald Group Publishing Limited                         book-chapter   \n",
       "46 Emerald Group Publishing Limited                         book-chapter   \n",
       "47 Wiley-Blackwell                                          journal-article\n",
       "48 Emerald Group Publishing Limited                         book-chapter   \n",
       "49 Emerald Group Publishing Limited                         book-chapter   \n",
       "50 Emerald Publishing Limited                               book-chapter   \n",
       "   subject                                             \n",
       "1  Artificial Intelligence                             \n",
       "2  Palaeontology                                       \n",
       "3  General Environmental Science                       \n",
       "4  Political Science and International Relations       \n",
       "5                                                      \n",
       "6                                                      \n",
       "7  Toxicology                                          \n",
       "8                                                      \n",
       "9  Psychiatry and Mental health                        \n",
       "10 Clinical Psychology                                 \n",
       "11                                                     \n",
       "12                                                     \n",
       "13 Psychiatry and Mental health                        \n",
       "14 General Biochemistry, Genetics and Molecular Biology\n",
       "15 Palaeontology                                       \n",
       "16                                                     \n",
       "17                                                     \n",
       "18 Ecology, Evolution, Behavior and Systematics        \n",
       "19 Clinical Psychology                                 \n",
       "20                                                     \n",
       "21                                                     \n",
       "22 Experimental and Cognitive Psychology               \n",
       "23                                                     \n",
       "24                                                     \n",
       "25                                                     \n",
       "26                                                     \n",
       "27                                                     \n",
       "28                                                     \n",
       "29                                                     \n",
       "30 Arts and Humanities (miscellaneous)                 \n",
       "31                                                     \n",
       "32                                                     \n",
       "33 Inorganic Chemistry                                 \n",
       "34                                                     \n",
       "35                                                     \n",
       "36                                                     \n",
       "37                                                     \n",
       "38 Water Science and Technology                        \n",
       "39                                                     \n",
       "40                                                     \n",
       "41                                                     \n",
       "42 Water Science and Technology                        \n",
       "43                                                     \n",
       "44 Clinical Psychology                                 \n",
       "45                                                     \n",
       "46                                                     \n",
       "47 Anatomy                                             \n",
       "48                                                     \n",
       "49                                                     \n",
       "50                                                     \n",
       "   dc_doi                             \n",
       "1  10.13140/RG.2.1.1350.3122          \n",
       "2  10.5061/dryad.dk385                \n",
       "3  10.7930/J0H12ZXG                   \n",
       "4  10.5195/errs.2012.125              \n",
       "5  10.5256/f1000research.10763.d151064\n",
       "6  10.5281/zenodo.193080              \n",
       "7  10.18433/J3559N                    \n",
       "8  10.5681/jcs.2012.033               \n",
       "9  10.3886/ICPSR24461.v4              \n",
       "10 10.3886/ICPSR04248.v3              \n",
       "11 10.5256/f1000research.10632.d150960\n",
       "12 10.5281/zenodo.153937              \n",
       "13 10.3886/ICPSR30122.v5              \n",
       "14 10.5061/dryad.bn1gf                \n",
       "15 10.5061/dryad.320h5                \n",
       "16 10.5281/zenodo.167143              \n",
       "17 10.5256/f1000research.9667.d136816 \n",
       "18 10.5281/zenodo.54705               \n",
       "19 10.3205/000098                     \n",
       "20 10.5256/f1000research.9740.d139661 \n",
       "21 10.5256/f1000research.9740.d139660 \n",
       "22 10.3205/psm000094                  \n",
       "23 10.7490/f1000research.1112509.1    \n",
       "24 10.13140/RG.2.1.4929.1363          \n",
       "25 10.5281/zenodo.57900               \n",
       "26 10.5524/100076                     \n",
       "27 10.6084/m9.figshare.1254958        \n",
       "28 10.5256/f1000research.10559.d148698\n",
       "29 10.4119/UNIBI/jsse-v12-i1-1217     \n",
       "30 10.17863/CAM.195                   \n",
       "31 10.5195/jwsr.1999.145              \n",
       "32 10.5195/jwsr.2005.383              \n",
       "33 10.18433/J3D30Q                    \n",
       "34 10.18162/ritpu.2006.120            \n",
       "35 10.5195/jwsr.2010.463              \n",
       "36 10.5195/jwsr.2001.182              \n",
       "37 10.5195/ERRS.2011.69               \n",
       "38 10.5678/LCRS/PAK823-825.DAT.1400   \n",
       "39 10.18438/B8VS6Q                    \n",
       "40 10.5195/jwsr.2009.318              \n",
       "41 10.18438/B8761C                    \n",
       "42 10.13140/2.1.4187.3608             \n",
       "43 10.18438/B8761C                    \n",
       "44 10.3205/psm000066                  \n",
       "45 10.5195/jwsr.2007.360              \n",
       "46 10.5195/jwsr.2005.383              \n",
       "47 10.5061/dryad.8m2g3                \n",
       "48 10.5195/errs.2011.51               \n",
       "49 10.18438/B8761C                    \n",
       "50 10.5195/TLP.2014.158               "
      ]
     },
     "metadata": {},
     "output_type": "display_data"
    }
   ],
   "source": [
    "get_xref_info(head(data,50))"
   ]
  },
  {
   "cell_type": "code",
   "execution_count": 101,
   "metadata": {},
   "outputs": [
    {
     "data": {
      "text/html": [
       "<table>\n",
       "<thead><tr><th scope=col>xref_doi</th><th scope=col>publisher</th><th scope=col>type</th><th scope=col>subject</th><th scope=col>dc_doi</th></tr></thead>\n",
       "<tbody>\n",
       "\t<tr><td>10.1109/LRA.2017.2651945                                </td><td>Institute of Electrical and Electronics Engineers (IEEE)</td><td>journal-article                                         </td><td>Artificial Intelligence                                 </td><td>10.13140/RG.2.1.1350.3122                               </td></tr>\n",
       "\t<tr><td>10.1111/pala.12283                                      </td><td>Wiley-Blackwell                                         </td><td>journal-article                                         </td><td>Palaeontology                                           </td><td>10.5061/dryad.dk385                                     </td></tr>\n",
       "\t<tr><td>10.1007/s10669-017-9631-z                               </td><td>Springer Nature                                         </td><td>journal-article                                         </td><td>General Environmental Science                           </td><td>10.7930/J0H12ZXG                                        </td></tr>\n",
       "\t<tr><td>10.1080/14702436.2016.1256209                           </td><td>Informa UK Limited                                      </td><td>journal-article                                         </td><td>Political Science and International Relations           </td><td>10.5195/errs.2012.125                                   </td></tr>\n",
       "\t<tr><td>10.12688/f1000research.10763.1                          </td><td>F1000 Research, Ltd.                                    </td><td>journal-article                                         </td><td>                                                        </td><td>10.5256/f1000research.10763.d151064                     </td></tr>\n",
       "\t<tr><td>10.12688/f1000research.10426.1                          </td><td>F1000 Research, Ltd.                                    </td><td>journal-article                                         </td><td>                                                        </td><td>10.5281/zenodo.193080                                   </td></tr>\n",
       "\t<tr><td>10.3109/1547691X.2016.1149528                           </td><td>Informa UK Limited                                      </td><td>journal-article                                         </td><td>Toxicology                                              </td><td>10.18433/J3559N                                         </td></tr>\n",
       "\t<tr><td>10.17795/ccn-8886                                       </td><td>Kowsar Medical Institute                                </td><td>journal-article                                         </td><td>                                                        </td><td>10.5681/jcs.2012.033                                    </td></tr>\n",
       "\t<tr><td>10.1080/15504263.2016.1277816                           </td><td>Informa UK Limited                                      </td><td>journal-article                                         </td><td>Psychiatry and Mental health                            </td><td>10.3886/ICPSR24461.v4                                   </td></tr>\n",
       "\t<tr><td>10.1080/13803395.2015.1125453                           </td><td>Informa UK Limited                                      </td><td>journal-article                                         </td><td>Clinical Psychology                                     </td><td>10.3886/ICPSR04248.v3                                   </td></tr>\n",
       "</tbody>\n",
       "</table>\n"
      ],
      "text/latex": [
       "\\begin{tabular}{r|lllll}\n",
       " xref\\_doi & publisher & type & subject & dc\\_doi\\\\\n",
       "\\hline\n",
       "\t 10.1109/LRA.2017.2651945                                 & Institute of Electrical and Electronics Engineers (IEEE) & journal-article                                          & Artificial Intelligence                                  & 10.13140/RG.2.1.1350.3122                               \\\\\n",
       "\t 10.1111/pala.12283                                       & Wiley-Blackwell                                          & journal-article                                          & Palaeontology                                            & 10.5061/dryad.dk385                                     \\\\\n",
       "\t 10.1007/s10669-017-9631-z                                & Springer Nature                                          & journal-article                                          & General Environmental Science                            & 10.7930/J0H12ZXG                                        \\\\\n",
       "\t 10.1080/14702436.2016.1256209                            & Informa UK Limited                                       & journal-article                                          & Political Science and International Relations            & 10.5195/errs.2012.125                                   \\\\\n",
       "\t 10.12688/f1000research.10763.1                           & F1000 Research, Ltd.                                     & journal-article                                          &                                                          & 10.5256/f1000research.10763.d151064                     \\\\\n",
       "\t 10.12688/f1000research.10426.1                           & F1000 Research, Ltd.                                     & journal-article                                          &                                                          & 10.5281/zenodo.193080                                   \\\\\n",
       "\t 10.3109/1547691X.2016.1149528                            & Informa UK Limited                                       & journal-article                                          & Toxicology                                               & 10.18433/J3559N                                         \\\\\n",
       "\t 10.17795/ccn-8886                                        & Kowsar Medical Institute                                 & journal-article                                          &                                                          & 10.5681/jcs.2012.033                                    \\\\\n",
       "\t 10.1080/15504263.2016.1277816                            & Informa UK Limited                                       & journal-article                                          & Psychiatry and Mental health                             & 10.3886/ICPSR24461.v4                                   \\\\\n",
       "\t 10.1080/13803395.2015.1125453                            & Informa UK Limited                                       & journal-article                                          & Clinical Psychology                                      & 10.3886/ICPSR04248.v3                                   \\\\\n",
       "\\end{tabular}\n"
      ],
      "text/markdown": [
       "\n",
       "xref_doi | publisher | type | subject | dc_doi | \n",
       "|---|---|---|---|---|---|---|---|---|---|\n",
       "| 10.1109/LRA.2017.2651945                                 | Institute of Electrical and Electronics Engineers (IEEE) | journal-article                                          | Artificial Intelligence                                  | 10.13140/RG.2.1.1350.3122                                | \n",
       "| 10.1111/pala.12283                                       | Wiley-Blackwell                                          | journal-article                                          | Palaeontology                                            | 10.5061/dryad.dk385                                      | \n",
       "| 10.1007/s10669-017-9631-z                                | Springer Nature                                          | journal-article                                          | General Environmental Science                            | 10.7930/J0H12ZXG                                         | \n",
       "| 10.1080/14702436.2016.1256209                            | Informa UK Limited                                       | journal-article                                          | Political Science and International Relations            | 10.5195/errs.2012.125                                    | \n",
       "| 10.12688/f1000research.10763.1                           | F1000 Research, Ltd.                                     | journal-article                                          |                                                          | 10.5256/f1000research.10763.d151064                      | \n",
       "| 10.12688/f1000research.10426.1                           | F1000 Research, Ltd.                                     | journal-article                                          |                                                          | 10.5281/zenodo.193080                                    | \n",
       "| 10.3109/1547691X.2016.1149528                            | Informa UK Limited                                       | journal-article                                          | Toxicology                                               | 10.18433/J3559N                                          | \n",
       "| 10.17795/ccn-8886                                        | Kowsar Medical Institute                                 | journal-article                                          |                                                          | 10.5681/jcs.2012.033                                     | \n",
       "| 10.1080/15504263.2016.1277816                            | Informa UK Limited                                       | journal-article                                          | Psychiatry and Mental health                             | 10.3886/ICPSR24461.v4                                    | \n",
       "| 10.1080/13803395.2015.1125453                            | Informa UK Limited                                       | journal-article                                          | Clinical Psychology                                      | 10.3886/ICPSR04248.v3                                    | \n",
       "\n",
       "\n"
      ],
      "text/plain": [
       "   xref_doi                      \n",
       "1  10.1109/LRA.2017.2651945      \n",
       "2  10.1111/pala.12283            \n",
       "3  10.1007/s10669-017-9631-z     \n",
       "4  10.1080/14702436.2016.1256209 \n",
       "5  10.12688/f1000research.10763.1\n",
       "6  10.12688/f1000research.10426.1\n",
       "7  10.3109/1547691X.2016.1149528 \n",
       "8  10.17795/ccn-8886             \n",
       "9  10.1080/15504263.2016.1277816 \n",
       "10 10.1080/13803395.2015.1125453 \n",
       "   publisher                                                type           \n",
       "1  Institute of Electrical and Electronics Engineers (IEEE) journal-article\n",
       "2  Wiley-Blackwell                                          journal-article\n",
       "3  Springer Nature                                          journal-article\n",
       "4  Informa UK Limited                                       journal-article\n",
       "5  F1000 Research, Ltd.                                     journal-article\n",
       "6  F1000 Research, Ltd.                                     journal-article\n",
       "7  Informa UK Limited                                       journal-article\n",
       "8  Kowsar Medical Institute                                 journal-article\n",
       "9  Informa UK Limited                                       journal-article\n",
       "10 Informa UK Limited                                       journal-article\n",
       "   subject                                      \n",
       "1  Artificial Intelligence                      \n",
       "2  Palaeontology                                \n",
       "3  General Environmental Science                \n",
       "4  Political Science and International Relations\n",
       "5                                               \n",
       "6                                               \n",
       "7  Toxicology                                   \n",
       "8                                               \n",
       "9  Psychiatry and Mental health                 \n",
       "10 Clinical Psychology                          \n",
       "   dc_doi                             \n",
       "1  10.13140/RG.2.1.1350.3122          \n",
       "2  10.5061/dryad.dk385                \n",
       "3  10.7930/J0H12ZXG                   \n",
       "4  10.5195/errs.2012.125              \n",
       "5  10.5256/f1000research.10763.d151064\n",
       "6  10.5281/zenodo.193080              \n",
       "7  10.18433/J3559N                    \n",
       "8  10.5681/jcs.2012.033               \n",
       "9  10.3886/ICPSR24461.v4              \n",
       "10 10.3886/ICPSR04248.v3              "
      ]
     },
     "metadata": {},
     "output_type": "display_data"
    }
   ],
   "source": [
    "get_dc_doi_data<-function(link) {\n",
    "    doi<-(str_extract(link$obj_id,'(10\\\\.\\\\d{4,5}\\\\/.+)\\\\z'))\n",
    "#     print(doi)\n",
    "    start <- GET(paste0('https://api.datacite/works/',doi))\n",
    "    parsed <- content(start, \"parsed\")\n",
    "    item <-parsed$data\n",
    "    if(is.null(item$`resource_type_id`)){\n",
    "        item$`resource_type_id`<-\"\"\n",
    "    }\n",
    "    line <- data.frame(doi,item$member_id,item$data_center_id,item$`resource_type_id`, item$published,link$subj_id)\n",
    "    colnames(line)=c(\"dc_doi\",\"member\",\"client\",\"type\",\"published\",\"xref_doi\")\n",
    "    return(line)\n",
    "}\n",
    "get_doi_data(head(data,1))"
   ]
  },
  {
   "cell_type": "code",
   "execution_count": 102,
   "metadata": {},
   "outputs": [],
   "source": [
    "get_dc_info<-function(data){\n",
    "    x<-purrrlyr::by_row(data, get_dc_doi_data)$.out\n",
    "    r<-do.call(\"rbind\", lapply(x, as.data.frame))\n",
    "    return(r)\n",
    "}\n",
    "get_xref_info(head(data,3))"
   ]
  },
  {
   "cell_type": "code",
   "execution_count": 159,
   "metadata": {},
   "outputs": [],
   "source": [
    "get_ra<-function(prefix){\n",
    "    ra<-fromJSON(paste0(\"https://api.datacite.org/prefixes/\",prefix))\n",
    "    return((ra$data$attributes$`registration-agency`))\n",
    "}"
   ]
  },
  {
   "cell_type": "code",
   "execution_count": 160,
   "metadata": {},
   "outputs": [
    {
     "data": {
      "text/html": [
       "'ResearchGate'"
      ],
      "text/latex": [
       "'ResearchGate'"
      ],
      "text/markdown": [
       "'ResearchGate'"
      ],
      "text/plain": [
       "[1] \"ResearchGate\""
      ]
     },
     "metadata": {},
     "output_type": "display_data"
    }
   ],
   "source": [
    "\n",
    "get_dcdatacentre(\"https://doi.org/10.13140/rg.2.1.1350.3122\",get_ra('10.13140'))\n",
    "\n",
    "\n",
    "\n"
   ]
  },
  {
   "cell_type": "code",
   "execution_count": 161,
   "metadata": {},
   "outputs": [
    {
     "name": "stdout",
     "output_type": "stream",
     "text": [
      "[1] 22000\n"
     ]
    }
   ],
   "source": [
    "create_data_pack<- function(data){\n",
    "    data <- data %>% \n",
    "        mutate(occurred_at = as.Date(occurred_at),\n",
    "               timestamp = as.Date(timestamp),\n",
    "               relation_type_id = as.factor(relation_type_id),\n",
    "               message_action = as.factor(message_action),\n",
    "               obj_prefix = paste0(str_extract(obj_id,'(10\\\\.\\\\d{4,5})'),\"/\"),\n",
    "               subj_prefix = paste0(str_extract(subj_id,'(10\\\\.\\\\d{4,5})'),\"/\"),\n",
    "#                obj_ra = as.character(get_ra(obj_prefix)),\n",
    "#                obj_dc = get_dcdatacentre(obj_id, obj_ra),\n",
    "               message_action = as.factor(message_action),\n",
    "               source_id = as.factor(source_id))\n",
    "    print(nrow(data))\n",
    "    return(data)\n",
    "}\n",
    "data_pack<-create_data_pack(data)"
   ]
  },
  {
   "cell_type": "code",
   "execution_count": 162,
   "metadata": {},
   "outputs": [
    {
     "data": {
      "text/html": [
       "<table>\n",
       "<thead><tr><th scope=col>license</th><th scope=col>obj_id</th><th scope=col>source_token</th><th scope=col>occurred_at</th><th scope=col>subj_id</th><th scope=col>id</th><th scope=col>terms</th><th scope=col>message_action</th><th scope=col>source_id</th><th scope=col>timestamp</th><th scope=col>relation_type_id</th><th scope=col>obj_prefix</th><th scope=col>subj_prefix</th></tr></thead>\n",
       "<tbody>\n",
       "\t<tr><td>https://doi.org/10.13003/CED-terms-of-use          </td><td>https://doi.org/10.13140/RG.2.1.1350.3122          </td><td>8676e950-8ac5-4074-8ac3-c0a18ada7e99               </td><td>2017-04-01                                         </td><td>https://doi.org/10.1109/LRA.2017.2651945           </td><td>26eb9df3-c841-48c2-b3f8-239c0bf91506               </td><td>https://doi.org/10.13003/CED-terms-of-use          </td><td>create                                             </td><td>crossref                                           </td><td>2017-05-19                                         </td><td>references                                         </td><td>10.13140/                                          </td><td>10.1109/                                           </td></tr>\n",
       "\t<tr><td>https://doi.org/10.13003/CED-terms-of-use          </td><td>https://doi.org/10.5061/dryad.dk385                </td><td>8676e950-8ac5-4074-8ac3-c0a18ada7e99               </td><td>2017-02-13                                         </td><td>https://doi.org/10.1111/pala.12283                 </td><td>d53dd280-221e-48f9-bbf8-d48aba12d818               </td><td>https://doi.org/10.13003/CED-terms-of-use          </td><td>create                                             </td><td>crossref                                           </td><td>2017-05-19                                         </td><td>references                                         </td><td>10.5061/                                           </td><td>10.1111/                                           </td></tr>\n",
       "\t<tr><td>https://doi.org/10.13003/CED-terms-of-use          </td><td>https://doi.org/10.7930/J0H12ZXG                   </td><td>8676e950-8ac5-4074-8ac3-c0a18ada7e99               </td><td>2017-02-13                                         </td><td>https://doi.org/10.1007/s10669-017-9631-z          </td><td>a750e5b8-3bc6-4054-a321-949c7ad330c5               </td><td>https://doi.org/10.13003/CED-terms-of-use          </td><td>create                                             </td><td>crossref                                           </td><td>2017-05-19                                         </td><td>references                                         </td><td>10.7930/                                           </td><td>10.1007/                                           </td></tr>\n",
       "\t<tr><td>https://doi.org/10.13003/CED-terms-of-use          </td><td>https://doi.org/10.5195/errs.2012.125              </td><td>8676e950-8ac5-4074-8ac3-c0a18ada7e99               </td><td>2016-11-21                                         </td><td>https://doi.org/10.1080/14702436.2016.1256209      </td><td>f007f43b-7649-4b43-9224-3729b2536f65               </td><td>https://doi.org/10.13003/CED-terms-of-use          </td><td>create                                             </td><td>crossref                                           </td><td>2017-05-19                                         </td><td>references                                         </td><td>10.5195/                                           </td><td>10.1080/                                           </td></tr>\n",
       "\t<tr><td>https://doi.org/10.13003/CED-terms-of-use          </td><td>https://doi.org/10.5256/f1000research.10763.d151064</td><td>8676e950-8ac5-4074-8ac3-c0a18ada7e99               </td><td>2017-02-10                                         </td><td>https://doi.org/10.12688/f1000research.10763.1     </td><td>46f3df4f-74c0-42f2-a76d-b108f86d768b               </td><td>https://doi.org/10.13003/CED-terms-of-use          </td><td>create                                             </td><td>crossref                                           </td><td>2017-05-19                                         </td><td>references                                         </td><td>10.5256/                                           </td><td>10.12688/                                          </td></tr>\n",
       "\t<tr><td>https://doi.org/10.13003/CED-terms-of-use          </td><td>https://doi.org/10.5281/zenodo.193080              </td><td>8676e950-8ac5-4074-8ac3-c0a18ada7e99               </td><td>2016-12-20                                         </td><td>https://doi.org/10.12688/f1000research.10426.1     </td><td>d871bfce-69ce-4437-be74-b8584ef3b0ec               </td><td>https://doi.org/10.13003/CED-terms-of-use          </td><td>create                                             </td><td>crossref                                           </td><td>2017-05-19                                         </td><td>references                                         </td><td>10.5281/                                           </td><td>10.12688/                                          </td></tr>\n",
       "</tbody>\n",
       "</table>\n"
      ],
      "text/latex": [
       "\\begin{tabular}{r|lllllllllllll}\n",
       " license & obj\\_id & source\\_token & occurred\\_at & subj\\_id & id & terms & message\\_action & source\\_id & timestamp & relation\\_type\\_id & obj\\_prefix & subj\\_prefix\\\\\n",
       "\\hline\n",
       "\t https://doi.org/10.13003/CED-terms-of-use           & https://doi.org/10.13140/RG.2.1.1350.3122           & 8676e950-8ac5-4074-8ac3-c0a18ada7e99                & 2017-04-01                                          & https://doi.org/10.1109/LRA.2017.2651945            & 26eb9df3-c841-48c2-b3f8-239c0bf91506                & https://doi.org/10.13003/CED-terms-of-use           & create                                              & crossref                                            & 2017-05-19                                          & references                                          & 10.13140/                                           & 10.1109/                                           \\\\\n",
       "\t https://doi.org/10.13003/CED-terms-of-use           & https://doi.org/10.5061/dryad.dk385                 & 8676e950-8ac5-4074-8ac3-c0a18ada7e99                & 2017-02-13                                          & https://doi.org/10.1111/pala.12283                  & d53dd280-221e-48f9-bbf8-d48aba12d818                & https://doi.org/10.13003/CED-terms-of-use           & create                                              & crossref                                            & 2017-05-19                                          & references                                          & 10.5061/                                            & 10.1111/                                           \\\\\n",
       "\t https://doi.org/10.13003/CED-terms-of-use           & https://doi.org/10.7930/J0H12ZXG                    & 8676e950-8ac5-4074-8ac3-c0a18ada7e99                & 2017-02-13                                          & https://doi.org/10.1007/s10669-017-9631-z           & a750e5b8-3bc6-4054-a321-949c7ad330c5                & https://doi.org/10.13003/CED-terms-of-use           & create                                              & crossref                                            & 2017-05-19                                          & references                                          & 10.7930/                                            & 10.1007/                                           \\\\\n",
       "\t https://doi.org/10.13003/CED-terms-of-use           & https://doi.org/10.5195/errs.2012.125               & 8676e950-8ac5-4074-8ac3-c0a18ada7e99                & 2016-11-21                                          & https://doi.org/10.1080/14702436.2016.1256209       & f007f43b-7649-4b43-9224-3729b2536f65                & https://doi.org/10.13003/CED-terms-of-use           & create                                              & crossref                                            & 2017-05-19                                          & references                                          & 10.5195/                                            & 10.1080/                                           \\\\\n",
       "\t https://doi.org/10.13003/CED-terms-of-use           & https://doi.org/10.5256/f1000research.10763.d151064 & 8676e950-8ac5-4074-8ac3-c0a18ada7e99                & 2017-02-10                                          & https://doi.org/10.12688/f1000research.10763.1      & 46f3df4f-74c0-42f2-a76d-b108f86d768b                & https://doi.org/10.13003/CED-terms-of-use           & create                                              & crossref                                            & 2017-05-19                                          & references                                          & 10.5256/                                            & 10.12688/                                          \\\\\n",
       "\t https://doi.org/10.13003/CED-terms-of-use           & https://doi.org/10.5281/zenodo.193080               & 8676e950-8ac5-4074-8ac3-c0a18ada7e99                & 2016-12-20                                          & https://doi.org/10.12688/f1000research.10426.1      & d871bfce-69ce-4437-be74-b8584ef3b0ec                & https://doi.org/10.13003/CED-terms-of-use           & create                                              & crossref                                            & 2017-05-19                                          & references                                          & 10.5281/                                            & 10.12688/                                          \\\\\n",
       "\\end{tabular}\n"
      ],
      "text/markdown": [
       "\n",
       "license | obj_id | source_token | occurred_at | subj_id | id | terms | message_action | source_id | timestamp | relation_type_id | obj_prefix | subj_prefix | \n",
       "|---|---|---|---|---|---|\n",
       "| https://doi.org/10.13003/CED-terms-of-use           | https://doi.org/10.13140/RG.2.1.1350.3122           | 8676e950-8ac5-4074-8ac3-c0a18ada7e99                | 2017-04-01                                          | https://doi.org/10.1109/LRA.2017.2651945            | 26eb9df3-c841-48c2-b3f8-239c0bf91506                | https://doi.org/10.13003/CED-terms-of-use           | create                                              | crossref                                            | 2017-05-19                                          | references                                          | 10.13140/                                           | 10.1109/                                            | \n",
       "| https://doi.org/10.13003/CED-terms-of-use           | https://doi.org/10.5061/dryad.dk385                 | 8676e950-8ac5-4074-8ac3-c0a18ada7e99                | 2017-02-13                                          | https://doi.org/10.1111/pala.12283                  | d53dd280-221e-48f9-bbf8-d48aba12d818                | https://doi.org/10.13003/CED-terms-of-use           | create                                              | crossref                                            | 2017-05-19                                          | references                                          | 10.5061/                                            | 10.1111/                                            | \n",
       "| https://doi.org/10.13003/CED-terms-of-use           | https://doi.org/10.7930/J0H12ZXG                    | 8676e950-8ac5-4074-8ac3-c0a18ada7e99                | 2017-02-13                                          | https://doi.org/10.1007/s10669-017-9631-z           | a750e5b8-3bc6-4054-a321-949c7ad330c5                | https://doi.org/10.13003/CED-terms-of-use           | create                                              | crossref                                            | 2017-05-19                                          | references                                          | 10.7930/                                            | 10.1007/                                            | \n",
       "| https://doi.org/10.13003/CED-terms-of-use           | https://doi.org/10.5195/errs.2012.125               | 8676e950-8ac5-4074-8ac3-c0a18ada7e99                | 2016-11-21                                          | https://doi.org/10.1080/14702436.2016.1256209       | f007f43b-7649-4b43-9224-3729b2536f65                | https://doi.org/10.13003/CED-terms-of-use           | create                                              | crossref                                            | 2017-05-19                                          | references                                          | 10.5195/                                            | 10.1080/                                            | \n",
       "| https://doi.org/10.13003/CED-terms-of-use           | https://doi.org/10.5256/f1000research.10763.d151064 | 8676e950-8ac5-4074-8ac3-c0a18ada7e99                | 2017-02-10                                          | https://doi.org/10.12688/f1000research.10763.1      | 46f3df4f-74c0-42f2-a76d-b108f86d768b                | https://doi.org/10.13003/CED-terms-of-use           | create                                              | crossref                                            | 2017-05-19                                          | references                                          | 10.5256/                                            | 10.12688/                                           | \n",
       "| https://doi.org/10.13003/CED-terms-of-use           | https://doi.org/10.5281/zenodo.193080               | 8676e950-8ac5-4074-8ac3-c0a18ada7e99                | 2016-12-20                                          | https://doi.org/10.12688/f1000research.10426.1      | d871bfce-69ce-4437-be74-b8584ef3b0ec                | https://doi.org/10.13003/CED-terms-of-use           | create                                              | crossref                                            | 2017-05-19                                          | references                                          | 10.5281/                                            | 10.12688/                                           | \n",
       "\n",
       "\n"
      ],
      "text/plain": [
       "  license                                  \n",
       "1 https://doi.org/10.13003/CED-terms-of-use\n",
       "2 https://doi.org/10.13003/CED-terms-of-use\n",
       "3 https://doi.org/10.13003/CED-terms-of-use\n",
       "4 https://doi.org/10.13003/CED-terms-of-use\n",
       "5 https://doi.org/10.13003/CED-terms-of-use\n",
       "6 https://doi.org/10.13003/CED-terms-of-use\n",
       "  obj_id                                             \n",
       "1 https://doi.org/10.13140/RG.2.1.1350.3122          \n",
       "2 https://doi.org/10.5061/dryad.dk385                \n",
       "3 https://doi.org/10.7930/J0H12ZXG                   \n",
       "4 https://doi.org/10.5195/errs.2012.125              \n",
       "5 https://doi.org/10.5256/f1000research.10763.d151064\n",
       "6 https://doi.org/10.5281/zenodo.193080              \n",
       "  source_token                         occurred_at\n",
       "1 8676e950-8ac5-4074-8ac3-c0a18ada7e99 2017-04-01 \n",
       "2 8676e950-8ac5-4074-8ac3-c0a18ada7e99 2017-02-13 \n",
       "3 8676e950-8ac5-4074-8ac3-c0a18ada7e99 2017-02-13 \n",
       "4 8676e950-8ac5-4074-8ac3-c0a18ada7e99 2016-11-21 \n",
       "5 8676e950-8ac5-4074-8ac3-c0a18ada7e99 2017-02-10 \n",
       "6 8676e950-8ac5-4074-8ac3-c0a18ada7e99 2016-12-20 \n",
       "  subj_id                                       \n",
       "1 https://doi.org/10.1109/LRA.2017.2651945      \n",
       "2 https://doi.org/10.1111/pala.12283            \n",
       "3 https://doi.org/10.1007/s10669-017-9631-z     \n",
       "4 https://doi.org/10.1080/14702436.2016.1256209 \n",
       "5 https://doi.org/10.12688/f1000research.10763.1\n",
       "6 https://doi.org/10.12688/f1000research.10426.1\n",
       "  id                                  \n",
       "1 26eb9df3-c841-48c2-b3f8-239c0bf91506\n",
       "2 d53dd280-221e-48f9-bbf8-d48aba12d818\n",
       "3 a750e5b8-3bc6-4054-a321-949c7ad330c5\n",
       "4 f007f43b-7649-4b43-9224-3729b2536f65\n",
       "5 46f3df4f-74c0-42f2-a76d-b108f86d768b\n",
       "6 d871bfce-69ce-4437-be74-b8584ef3b0ec\n",
       "  terms                                     message_action source_id timestamp \n",
       "1 https://doi.org/10.13003/CED-terms-of-use create         crossref  2017-05-19\n",
       "2 https://doi.org/10.13003/CED-terms-of-use create         crossref  2017-05-19\n",
       "3 https://doi.org/10.13003/CED-terms-of-use create         crossref  2017-05-19\n",
       "4 https://doi.org/10.13003/CED-terms-of-use create         crossref  2017-05-19\n",
       "5 https://doi.org/10.13003/CED-terms-of-use create         crossref  2017-05-19\n",
       "6 https://doi.org/10.13003/CED-terms-of-use create         crossref  2017-05-19\n",
       "  relation_type_id obj_prefix subj_prefix\n",
       "1 references       10.13140/  10.1109/   \n",
       "2 references       10.5061/   10.1111/   \n",
       "3 references       10.7930/   10.1007/   \n",
       "4 references       10.5195/   10.1080/   \n",
       "5 references       10.5256/   10.12688/  \n",
       "6 references       10.5281/   10.12688/  "
      ]
     },
     "metadata": {},
     "output_type": "display_data"
    }
   ],
   "source": [
    "head(data_pack)"
   ]
  },
  {
   "cell_type": "code",
   "execution_count": 154,
   "metadata": {},
   "outputs": [],
   "source": [
    "save(data_pack,file=\"../data/11032018_Mugging_Crossref_Datacite_links_out.Rda\")"
   ]
  },
  {
   "cell_type": "markdown",
   "metadata": {
    "collapsed": true
   },
   "source": [
    "## Processing Adding Datcentre\n",
    "\n",
    "https://api.datacite.org/works?query=prefix:10.5256&rows=1"
   ]
  },
  {
   "cell_type": "code",
   "execution_count": 2,
   "metadata": {
    "collapsed": true
   },
   "outputs": [],
   "source": [
    "load('../data/05072017_Mugging_Crossref_Datacite_links_out.Rda')"
   ]
  },
  {
   "cell_type": "code",
   "execution_count": 12,
   "metadata": {},
   "outputs": [],
   "source": [
    "# data\n"
   ]
  },
  {
   "cell_type": "code",
   "execution_count": 13,
   "metadata": {},
   "outputs": [],
   "source": [
    "# data <- data %>% \n",
    "#     rowwise() %>% \n",
    "#     mutate(obj_dc = get_dcdatacentre(obj_id)) \n",
    "# nrow(data)"
   ]
  },
  {
   "cell_type": "code",
   "execution_count": 14,
   "metadata": {},
   "outputs": [],
   "source": [
    "# data$obj_id[1]"
   ]
  },
  {
   "cell_type": "code",
   "execution_count": 182,
   "metadata": {},
   "outputs": [],
   "source": [
    "get_dcdatacentrebyprefix<- function(obj_prefix){\n",
    "    prefix <- obj_prefix\n",
    "    url <- sprintf(\"https://api.datacite.org/prefixes/%s/\", prefix)\n",
    "    \n",
    "    dc_info<-fromJSON(url)\n",
    "#     return(head(dc_info$meta$`data-centers`,1)$title)\n",
    "    id <- head(dc_info$data$relationships$clients$data,1)$id\n",
    "    if(!is.null(id)){\n",
    "        print(id)\n",
    "        client<-fromJSON(paste0('https://api.datacite.org/clients/',id))\n",
    "        clientinfo<-client$data$attributes$name\n",
    "    }else{\n",
    "        clientinfo<-\"No client\"\n",
    "    }\n",
    "\n",
    "    return(clientinfo)\n",
    "}\n",
    "\n",
    "# get_dcdatacentrebyprefix(\"10.13140/\")"
   ]
  },
  {
   "cell_type": "code",
   "execution_count": null,
   "metadata": {},
   "outputs": [],
   "source": []
  },
  {
   "cell_type": "code",
   "execution_count": 183,
   "metadata": {},
   "outputs": [],
   "source": [
    "get_xrdatacentrebyprefix<- function(subj_prefix){\n",
    "    dc_info<-fromJSON(paste0('https://api.crossref.org/prefixes/',(subj_prefix)))\n",
    "    return(head(dc_info$message$name,1))\n",
    "}\n",
    "\n",
    "\n"
   ]
  },
  {
   "cell_type": "code",
   "execution_count": 184,
   "metadata": {},
   "outputs": [],
   "source": [
    "get_datacentreName <- function(prefix){\n",
    "    ra<- get_ra(prefix)\n",
    "    print(ra)\n",
    "    print(prefix)\n",
    "    if(ra == \"DataCite\"){\n",
    "        r<-get_dcdatacentrebyprefix(prefix)\n",
    "        print(prefix)\n",
    "    }\n",
    "    else{\n",
    "        r<-get_xrdatacentrebyprefix(prefix)\n",
    "    }\n",
    "    return(r)\n",
    "}\n",
    "\n"
   ]
  },
  {
   "cell_type": "code",
   "execution_count": 185,
   "metadata": {},
   "outputs": [],
   "source": [
    "get_listOfPrefix_Names<-function(data){\n",
    "    prefixes<-as.data.frame(unique(data$obj_prefix))\n",
    "    prefixes$value<-prefixes$`unique(data$obj_prefix)`\n",
    "    colnames(prefixes)[2] <- \"obj_prefix\"\n",
    "\n",
    "\n",
    "    prefixes <- prefixes %>% \n",
    "        rowwise() %>% \n",
    "        mutate(\n",
    "            obj_dc = as.factor(get_datacentreName(obj_prefix)) \n",
    "        )\n",
    "    return(prefixes)\n",
    "}\n",
    "# get_listOfPrefix_Names(data_pack)"
   ]
  },
  {
   "cell_type": "code",
   "execution_count": 191,
   "metadata": {},
   "outputs": [
    {
     "name": "stdout",
     "output_type": "stream",
     "text": [
      "[1] \"DataCite\"\n",
      "[1] 10.13140/\n",
      "379 Levels: 10.11577/ 10.11586/ 10.11588/ 10.1184/ 10.12682/ ... 10.7945/\n",
      "[1] \"rg.rg\"\n",
      "[1] 10.13140/\n",
      "379 Levels: 10.11577/ 10.11586/ 10.11588/ 10.1184/ 10.12682/ ... 10.7945/\n",
      "[1] \"DataCite\"\n",
      "[1] 10.5061/\n",
      "379 Levels: 10.11577/ 10.11586/ 10.11588/ 10.1184/ 10.12682/ ... 10.7945/\n",
      "[1] \"cdl.dryad\"\n",
      "[1] 10.5061/\n",
      "379 Levels: 10.11577/ 10.11586/ 10.11588/ 10.1184/ 10.12682/ ... 10.7945/\n"
     ]
    },
    {
     "name": "stderr",
     "output_type": "stream",
     "text": [
      "Warning message in mutate_impl(.data, dots):\n",
      "“Unequal factor levels: coercing to character”Warning message in mutate_impl(.data, dots):\n",
      "“binding character and factor vector, coercing into character vector”Warning message in mutate_impl(.data, dots):\n",
      "“binding character and factor vector, coercing into character vector”"
     ]
    },
    {
     "name": "stdout",
     "output_type": "stream",
     "text": [
      "[1] \"DataCite\"\n",
      "[1] 10.7930/\n",
      "379 Levels: 10.11577/ 10.11586/ 10.11588/ 10.1184/ 10.12682/ ... 10.7945/\n",
      "[1] \"cdl.usgcrp\"\n",
      "[1] 10.7930/\n",
      "379 Levels: 10.11577/ 10.11586/ 10.11588/ 10.1184/ 10.12682/ ... 10.7945/\n"
     ]
    },
    {
     "name": "stderr",
     "output_type": "stream",
     "text": [
      "Warning message in mutate_impl(.data, dots):\n",
      "“binding character and factor vector, coercing into character vector”"
     ]
    },
    {
     "name": "stdout",
     "output_type": "stream",
     "text": [
      "[1] \"DataCite\"\n",
      "[1] 10.5195/\n",
      "379 Levels: 10.11577/ 10.11586/ 10.11588/ 10.1184/ 10.12682/ ... 10.7945/\n",
      "[1] \"cdl.pitt\"\n",
      "[1] 10.5195/\n",
      "379 Levels: 10.11577/ 10.11586/ 10.11588/ 10.1184/ 10.12682/ ... 10.7945/\n"
     ]
    },
    {
     "name": "stderr",
     "output_type": "stream",
     "text": [
      "Warning message in mutate_impl(.data, dots):\n",
      "“binding character and factor vector, coercing into character vector”"
     ]
    },
    {
     "name": "stdout",
     "output_type": "stream",
     "text": [
      "[1] \"DataCite\"\n",
      "[1] 10.5256/\n",
      "379 Levels: 10.11577/ 10.11586/ 10.11588/ 10.1184/ 10.12682/ ... 10.7945/\n",
      "[1] \"bl.f1000r\"\n",
      "[1] 10.5256/\n",
      "379 Levels: 10.11577/ 10.11586/ 10.11588/ 10.1184/ 10.12682/ ... 10.7945/\n"
     ]
    },
    {
     "name": "stderr",
     "output_type": "stream",
     "text": [
      "Warning message in mutate_impl(.data, dots):\n",
      "“binding character and factor vector, coercing into character vector”"
     ]
    },
    {
     "name": "stdout",
     "output_type": "stream",
     "text": [
      "[1] \"DataCite\"\n",
      "[1] 10.5281/\n",
      "379 Levels: 10.11577/ 10.11586/ 10.11588/ 10.1184/ 10.12682/ ... 10.7945/\n",
      "[1] \"cern.zenodo\"\n",
      "[1] 10.5281/\n",
      "379 Levels: 10.11577/ 10.11586/ 10.11588/ 10.1184/ 10.12682/ ... 10.7945/\n"
     ]
    },
    {
     "name": "stderr",
     "output_type": "stream",
     "text": [
      "Warning message in mutate_impl(.data, dots):\n",
      "“binding character and factor vector, coercing into character vector”"
     ]
    },
    {
     "name": "stdout",
     "output_type": "stream",
     "text": [
      "[1] \"Crossref\"\n",
      "[1] 10.18433/\n",
      "379 Levels: 10.11577/ 10.11586/ 10.11588/ 10.1184/ 10.12682/ ... 10.7945/\n"
     ]
    },
    {
     "name": "stderr",
     "output_type": "stream",
     "text": [
      "Warning message in mutate_impl(.data, dots):\n",
      "“binding character and factor vector, coercing into character vector”"
     ]
    },
    {
     "name": "stdout",
     "output_type": "stream",
     "text": [
      "[1] \"DataCite\"\n",
      "[1] 10.5681/\n",
      "379 Levels: 10.11577/ 10.11586/ 10.11588/ 10.1184/ 10.12682/ ... 10.7945/\n",
      "[1] \"zbmed.tabriz\"\n",
      "[1] 10.5681/\n",
      "379 Levels: 10.11577/ 10.11586/ 10.11588/ 10.1184/ 10.12682/ ... 10.7945/\n"
     ]
    },
    {
     "name": "stderr",
     "output_type": "stream",
     "text": [
      "Warning message in mutate_impl(.data, dots):\n",
      "“binding character and factor vector, coercing into character vector”"
     ]
    },
    {
     "name": "stdout",
     "output_type": "stream",
     "text": [
      "[1] \"DataCite\"\n",
      "[1] 10.3886/\n",
      "379 Levels: 10.11577/ 10.11586/ 10.11588/ 10.1184/ 10.12682/ ... 10.7945/\n",
      "[1] \"gesis.icpsr\"\n",
      "[1] 10.3886/\n",
      "379 Levels: 10.11577/ 10.11586/ 10.11588/ 10.1184/ 10.12682/ ... 10.7945/\n"
     ]
    },
    {
     "name": "stderr",
     "output_type": "stream",
     "text": [
      "Warning message in mutate_impl(.data, dots):\n",
      "“binding character and factor vector, coercing into character vector”"
     ]
    },
    {
     "name": "stdout",
     "output_type": "stream",
     "text": [
      "[1] \"DataCite\"\n",
      "[1] 10.3205/\n",
      "379 Levels: 10.11577/ 10.11586/ 10.11588/ 10.1184/ 10.12682/ ... 10.7945/\n",
      "[1] \"zbmed.gms\"\n",
      "[1] 10.3205/\n",
      "379 Levels: 10.11577/ 10.11586/ 10.11588/ 10.1184/ 10.12682/ ... 10.7945/\n"
     ]
    },
    {
     "name": "stderr",
     "output_type": "stream",
     "text": [
      "Warning message in mutate_impl(.data, dots):\n",
      "“binding character and factor vector, coercing into character vector”"
     ]
    },
    {
     "name": "stdout",
     "output_type": "stream",
     "text": [
      "[1] \"DataCite\"\n",
      "[1] 10.7490/\n",
      "379 Levels: 10.11577/ 10.11586/ 10.11588/ 10.1184/ 10.12682/ ... 10.7945/\n",
      "[1] \"bl.f1000r\"\n",
      "[1] 10.7490/\n",
      "379 Levels: 10.11577/ 10.11586/ 10.11588/ 10.1184/ 10.12682/ ... 10.7945/\n"
     ]
    },
    {
     "name": "stderr",
     "output_type": "stream",
     "text": [
      "Warning message in mutate_impl(.data, dots):\n",
      "“binding character and factor vector, coercing into character vector”"
     ]
    },
    {
     "name": "stdout",
     "output_type": "stream",
     "text": [
      "[1] \"DataCite\"\n",
      "[1] 10.5524/\n",
      "379 Levels: 10.11577/ 10.11586/ 10.11588/ 10.1184/ 10.12682/ ... 10.7945/\n",
      "[1] \"bl.bgi\"\n",
      "[1] 10.5524/\n",
      "379 Levels: 10.11577/ 10.11586/ 10.11588/ 10.1184/ 10.12682/ ... 10.7945/\n"
     ]
    },
    {
     "name": "stderr",
     "output_type": "stream",
     "text": [
      "Warning message in mutate_impl(.data, dots):\n",
      "“binding character and factor vector, coercing into character vector”"
     ]
    },
    {
     "name": "stdout",
     "output_type": "stream",
     "text": [
      "[1] \"DataCite\"\n",
      "[1] 10.6084/\n",
      "379 Levels: 10.11577/ 10.11586/ 10.11588/ 10.1184/ 10.12682/ ... 10.7945/\n",
      "[1] \"figshare.ars\"\n",
      "[1] 10.6084/\n",
      "379 Levels: 10.11577/ 10.11586/ 10.11588/ 10.1184/ 10.12682/ ... 10.7945/\n"
     ]
    },
    {
     "name": "stderr",
     "output_type": "stream",
     "text": [
      "Warning message in mutate_impl(.data, dots):\n",
      "“binding character and factor vector, coercing into character vector”"
     ]
    },
    {
     "name": "stdout",
     "output_type": "stream",
     "text": [
      "[1] \"DataCite\"\n",
      "[1] 10.4119/\n",
      "379 Levels: 10.11577/ 10.11586/ 10.11588/ 10.1184/ 10.12682/ ... 10.7945/\n",
      "[1] \"tib.unibi\"\n",
      "[1] 10.4119/\n",
      "379 Levels: 10.11577/ 10.11586/ 10.11588/ 10.1184/ 10.12682/ ... 10.7945/\n"
     ]
    },
    {
     "name": "stderr",
     "output_type": "stream",
     "text": [
      "Warning message in mutate_impl(.data, dots):\n",
      "“binding character and factor vector, coercing into character vector”"
     ]
    },
    {
     "name": "stdout",
     "output_type": "stream",
     "text": [
      "[1] \"DataCite\"\n",
      "[1] 10.17863/\n",
      "379 Levels: 10.11577/ 10.11586/ 10.11588/ 10.1184/ 10.12682/ ... 10.7945/\n",
      "[1] \"bl.cam\"\n",
      "[1] 10.17863/\n",
      "379 Levels: 10.11577/ 10.11586/ 10.11588/ 10.1184/ 10.12682/ ... 10.7945/\n"
     ]
    },
    {
     "name": "stderr",
     "output_type": "stream",
     "text": [
      "Warning message in mutate_impl(.data, dots):\n",
      "“binding character and factor vector, coercing into character vector”"
     ]
    },
    {
     "name": "stdout",
     "output_type": "stream",
     "text": [
      "[1] \"DataCite\"\n",
      "[1] 10.18162/\n",
      "379 Levels: 10.11577/ 10.11586/ 10.11588/ 10.1184/ 10.12682/ ... 10.7945/\n",
      "[1] \"cisti.crifpe\"\n",
      "[1] 10.18162/\n",
      "379 Levels: 10.11577/ 10.11586/ 10.11588/ 10.1184/ 10.12682/ ... 10.7945/\n"
     ]
    },
    {
     "name": "stderr",
     "output_type": "stream",
     "text": [
      "Warning message in mutate_impl(.data, dots):\n",
      "“binding character and factor vector, coercing into character vector”"
     ]
    },
    {
     "name": "stdout",
     "output_type": "stream",
     "text": [
      "[1] \"DataCite\"\n",
      "[1] 10.5678/\n",
      "379 Levels: 10.11577/ 10.11586/ 10.11588/ 10.1184/ 10.12682/ ... 10.7945/\n",
      "[1] \"tib.for816\"\n",
      "[1] 10.5678/\n",
      "379 Levels: 10.11577/ 10.11586/ 10.11588/ 10.1184/ 10.12682/ ... 10.7945/\n"
     ]
    },
    {
     "name": "stderr",
     "output_type": "stream",
     "text": [
      "Warning message in mutate_impl(.data, dots):\n",
      "“binding character and factor vector, coercing into character vector”"
     ]
    },
    {
     "name": "stdout",
     "output_type": "stream",
     "text": [
      "[1] \"Crossref\"\n",
      "[1] 10.18438/\n",
      "379 Levels: 10.11577/ 10.11586/ 10.11588/ 10.1184/ 10.12682/ ... 10.7945/\n"
     ]
    },
    {
     "name": "stderr",
     "output_type": "stream",
     "text": [
      "Warning message in mutate_impl(.data, dots):\n",
      "“binding character and factor vector, coercing into character vector”"
     ]
    },
    {
     "name": "stdout",
     "output_type": "stream",
     "text": [
      "[1] \"DataCite\"\n",
      "[1] 10.5078/\n",
      "379 Levels: 10.11577/ 10.11586/ 10.11588/ 10.1184/ 10.12682/ ... 10.7945/\n",
      "[1] \"ethz.corssa\"\n",
      "[1] 10.5078/\n",
      "379 Levels: 10.11577/ 10.11586/ 10.11588/ 10.1184/ 10.12682/ ... 10.7945/\n"
     ]
    },
    {
     "name": "stderr",
     "output_type": "stream",
     "text": [
      "Warning message in mutate_impl(.data, dots):\n",
      "“binding character and factor vector, coercing into character vector”"
     ]
    },
    {
     "name": "stdout",
     "output_type": "stream",
     "text": [
      "[1] \"DataCite\"\n",
      "[1] 10.5255/\n",
      "379 Levels: 10.11577/ 10.11586/ 10.11588/ 10.1184/ 10.12682/ ... 10.7945/\n",
      "[1] \"bl.ukda\"\n",
      "[1] 10.5255/\n",
      "379 Levels: 10.11577/ 10.11586/ 10.11588/ 10.1184/ 10.12682/ ... 10.7945/\n"
     ]
    },
    {
     "name": "stderr",
     "output_type": "stream",
     "text": [
      "Warning message in mutate_impl(.data, dots):\n",
      "“binding character and factor vector, coercing into character vector”"
     ]
    },
    {
     "name": "stdout",
     "output_type": "stream",
     "text": [
      "[1] \"DataCite\"\n",
      "[1] 10.5070/\n",
      "379 Levels: 10.11577/ 10.11586/ 10.11588/ 10.1184/ 10.12682/ ... 10.7945/\n",
      "[1] \"cdl.eschol\"\n",
      "[1] 10.5070/\n",
      "379 Levels: 10.11577/ 10.11586/ 10.11588/ 10.1184/ 10.12682/ ... 10.7945/\n"
     ]
    },
    {
     "name": "stderr",
     "output_type": "stream",
     "text": [
      "Warning message in mutate_impl(.data, dots):\n",
      "“binding character and factor vector, coercing into character vector”"
     ]
    },
    {
     "name": "stdout",
     "output_type": "stream",
     "text": [
      "[1] \"DataCite\"\n",
      "[1] 10.1594/\n",
      "379 Levels: 10.11577/ 10.11586/ 10.11588/ 10.1184/ 10.12682/ ... 10.7945/\n",
      "[1] \"tib.wdcc\"\n",
      "[1] 10.1594/\n",
      "379 Levels: 10.11577/ 10.11586/ 10.11588/ 10.1184/ 10.12682/ ... 10.7945/\n"
     ]
    },
    {
     "name": "stderr",
     "output_type": "stream",
     "text": [
      "Warning message in mutate_impl(.data, dots):\n",
      "“binding character and factor vector, coercing into character vector”"
     ]
    },
    {
     "name": "stdout",
     "output_type": "stream",
     "text": [
      "[1] \"DataCite\"\n",
      "[1] 10.5067/\n",
      "379 Levels: 10.11577/ 10.11586/ 10.11588/ 10.1184/ 10.12682/ ... 10.7945/\n",
      "[1] \"cdl.nasagsfc\"\n",
      "[1] 10.5067/\n",
      "379 Levels: 10.11577/ 10.11586/ 10.11588/ 10.1184/ 10.12682/ ... 10.7945/\n"
     ]
    },
    {
     "name": "stderr",
     "output_type": "stream",
     "text": [
      "Warning message in mutate_impl(.data, dots):\n",
      "“binding character and factor vector, coercing into character vector”"
     ]
    },
    {
     "name": "stdout",
     "output_type": "stream",
     "text": [
      "[1] \"DataCite\"\n",
      "[1] 10.7289/\n",
      "379 Levels: 10.11577/ 10.11586/ 10.11588/ 10.1184/ 10.12682/ ... 10.7945/\n",
      "[1] \"cdl.noaa\"\n",
      "[1] 10.7289/\n",
      "379 Levels: 10.11577/ 10.11586/ 10.11588/ 10.1184/ 10.12682/ ... 10.7945/\n"
     ]
    },
    {
     "name": "stderr",
     "output_type": "stream",
     "text": [
      "Warning message in mutate_impl(.data, dots):\n",
      "“binding character and factor vector, coercing into character vector”"
     ]
    },
    {
     "name": "stdout",
     "output_type": "stream",
     "text": [
      "[1] \"DataCite\"\n",
      "[1] 10.5062/\n",
      "379 Levels: 10.11577/ 10.11586/ 10.11588/ 10.1184/ 10.12682/ ... 10.7945/\n",
      "[1] \"cdl.ucsb\"\n",
      "[1] 10.5062/\n",
      "379 Levels: 10.11577/ 10.11586/ 10.11588/ 10.1184/ 10.12682/ ... 10.7945/\n"
     ]
    },
    {
     "name": "stderr",
     "output_type": "stream",
     "text": [
      "Warning message in mutate_impl(.data, dots):\n",
      "“binding character and factor vector, coercing into character vector”"
     ]
    },
    {
     "name": "stdout",
     "output_type": "stream",
     "text": [
      "[1] \"DataCite\"\n",
      "[1] 10.7489/\n",
      "379 Levels: 10.11577/ 10.11586/ 10.11588/ 10.1184/ 10.12682/ ... 10.7945/\n",
      "[1] \"bl.marinesc\"\n",
      "[1] 10.7489/\n",
      "379 Levels: 10.11577/ 10.11586/ 10.11588/ 10.1184/ 10.12682/ ... 10.7945/\n"
     ]
    },
    {
     "name": "stderr",
     "output_type": "stream",
     "text": [
      "Warning message in mutate_impl(.data, dots):\n",
      "“binding character and factor vector, coercing into character vector”"
     ]
    },
    {
     "name": "stdout",
     "output_type": "stream",
     "text": [
      "[1] \"DataCite\"\n",
      "[1] 10.5440/\n",
      "379 Levels: 10.11577/ 10.11586/ 10.11588/ 10.1184/ 10.12682/ ... 10.7945/\n",
      "[1] \"osti.ornlngee\"\n",
      "[1] 10.5440/\n",
      "379 Levels: 10.11577/ 10.11586/ 10.11588/ 10.1184/ 10.12682/ ... 10.7945/\n"
     ]
    },
    {
     "name": "stderr",
     "output_type": "stream",
     "text": [
      "Warning message in mutate_impl(.data, dots):\n",
      "“binding character and factor vector, coercing into character vector”"
     ]
    },
    {
     "name": "stdout",
     "output_type": "stream",
     "text": [
      "[1] \"DataCite\"\n",
      "[1] 10.7265/\n",
      "379 Levels: 10.11577/ 10.11586/ 10.11588/ 10.1184/ 10.12682/ ... 10.7945/\n",
      "[1] \"cdl.nsidc\"\n",
      "[1] 10.7265/\n",
      "379 Levels: 10.11577/ 10.11586/ 10.11588/ 10.1184/ 10.12682/ ... 10.7945/\n"
     ]
    },
    {
     "name": "stderr",
     "output_type": "stream",
     "text": [
      "Warning message in mutate_impl(.data, dots):\n",
      "“binding character and factor vector, coercing into character vector”"
     ]
    },
    {
     "name": "stdout",
     "output_type": "stream",
     "text": [
      "[1] \"DataCite\"\n",
      "[1] 10.3204/\n",
      "379 Levels: 10.11577/ 10.11586/ 10.11588/ 10.1184/ 10.12682/ ... 10.7945/\n",
      "[1] \"tib.desy\"\n",
      "[1] 10.3204/\n",
      "379 Levels: 10.11577/ 10.11586/ 10.11588/ 10.1184/ 10.12682/ ... 10.7945/\n"
     ]
    },
    {
     "name": "stderr",
     "output_type": "stream",
     "text": [
      "Warning message in mutate_impl(.data, dots):\n",
      "“binding character and factor vector, coercing into character vector”"
     ]
    },
    {
     "name": "stdout",
     "output_type": "stream",
     "text": [
      "[1] \"DataCite\"\n",
      "[1] 10.6092/\n",
      "379 Levels: 10.11577/ 10.11586/ 10.11588/ 10.1184/ 10.12682/ ... 10.7945/\n",
      "[1] \"crui.imtlucca\"\n",
      "[1] 10.6092/\n",
      "379 Levels: 10.11577/ 10.11586/ 10.11588/ 10.1184/ 10.12682/ ... 10.7945/\n"
     ]
    },
    {
     "name": "stderr",
     "output_type": "stream",
     "text": [
      "Warning message in mutate_impl(.data, dots):\n",
      "“binding character and factor vector, coercing into character vector”"
     ]
    },
    {
     "name": "stdout",
     "output_type": "stream",
     "text": [
      "[1] \"DataCite\"\n",
      "[1] 10.5167/\n",
      "379 Levels: 10.11577/ 10.11586/ 10.11588/ 10.1184/ 10.12682/ ... 10.7945/\n",
      "[1] \"ethz.zora\"\n",
      "[1] 10.5167/\n",
      "379 Levels: 10.11577/ 10.11586/ 10.11588/ 10.1184/ 10.12682/ ... 10.7945/\n"
     ]
    },
    {
     "name": "stderr",
     "output_type": "stream",
     "text": [
      "Warning message in mutate_impl(.data, dots):\n",
      "“binding character and factor vector, coercing into character vector”"
     ]
    },
    {
     "name": "stdout",
     "output_type": "stream",
     "text": [
      "[1] \"DataCite\"\n",
      "[1] 10.4231/\n",
      "379 Levels: 10.11577/ 10.11586/ 10.11588/ 10.1184/ 10.12682/ ... 10.7945/\n",
      "[1] \"purdue.ezid\"\n",
      "[1] 10.4231/\n",
      "379 Levels: 10.11577/ 10.11586/ 10.11588/ 10.1184/ 10.12682/ ... 10.7945/\n"
     ]
    },
    {
     "name": "stderr",
     "output_type": "stream",
     "text": [
      "Warning message in mutate_impl(.data, dots):\n",
      "“binding character and factor vector, coercing into character vector”"
     ]
    },
    {
     "name": "stdout",
     "output_type": "stream",
     "text": [
      "[1] \"DataCite\"\n",
      "[1] 10.18148/\n",
      "379 Levels: 10.11577/ 10.11586/ 10.11588/ 10.1184/ 10.12682/ ... 10.7945/\n",
      "[1] \"tib.ukon\"\n",
      "[1] 10.18148/\n",
      "379 Levels: 10.11577/ 10.11586/ 10.11588/ 10.1184/ 10.12682/ ... 10.7945/\n"
     ]
    },
    {
     "name": "stderr",
     "output_type": "stream",
     "text": [
      "Warning message in mutate_impl(.data, dots):\n",
      "“binding character and factor vector, coercing into character vector”"
     ]
    },
    {
     "name": "stdout",
     "output_type": "stream",
     "text": [
      "[1] \"DataCite\"\n",
      "[1] 10.2312/\n",
      "379 Levels: 10.11577/ 10.11586/ 10.11588/ 10.1184/ 10.12682/ ... 10.7945/\n",
      "[1] \"tib.wdcc\"\n",
      "[1] 10.2312/\n",
      "379 Levels: 10.11577/ 10.11586/ 10.11588/ 10.1184/ 10.12682/ ... 10.7945/\n"
     ]
    },
    {
     "name": "stderr",
     "output_type": "stream",
     "text": [
      "Warning message in mutate_impl(.data, dots):\n",
      "“binding character and factor vector, coercing into character vector”"
     ]
    },
    {
     "name": "stdout",
     "output_type": "stream",
     "text": [
      "[1] \"DataCite\"\n",
      "[1] 10.5169/\n",
      "379 Levels: 10.11577/ 10.11586/ 10.11588/ 10.1184/ 10.12682/ ... 10.7945/\n",
      "[1] \"ethz.seals\"\n",
      "[1] 10.5169/\n",
      "379 Levels: 10.11577/ 10.11586/ 10.11588/ 10.1184/ 10.12682/ ... 10.7945/\n"
     ]
    },
    {
     "name": "stderr",
     "output_type": "stream",
     "text": [
      "Warning message in mutate_impl(.data, dots):\n",
      "“binding character and factor vector, coercing into character vector”"
     ]
    },
    {
     "name": "stdout",
     "output_type": "stream",
     "text": [
      "[1] \"DataCite\"\n",
      "[1] 10.14465/\n",
      "379 Levels: 10.11577/ 10.11586/ 10.11588/ 10.1184/ 10.12682/ ... 10.7945/\n",
      "[1] \"bl.cefas\"\n",
      "[1] 10.14465/\n",
      "379 Levels: 10.11577/ 10.11586/ 10.11588/ 10.1184/ 10.12682/ ... 10.7945/\n"
     ]
    },
    {
     "name": "stderr",
     "output_type": "stream",
     "text": [
      "Warning message in mutate_impl(.data, dots):\n",
      "“binding character and factor vector, coercing into character vector”"
     ]
    },
    {
     "name": "stdout",
     "output_type": "stream",
     "text": [
      "[1] \"DataCite\"\n",
      "[1] 10.3334/\n",
      "379 Levels: 10.11577/ 10.11586/ 10.11588/ 10.1184/ 10.12682/ ... 10.7945/\n",
      "[1] \"cdl.ornl\"\n",
      "[1] 10.3334/\n",
      "379 Levels: 10.11577/ 10.11586/ 10.11588/ 10.1184/ 10.12682/ ... 10.7945/\n"
     ]
    },
    {
     "name": "stderr",
     "output_type": "stream",
     "text": [
      "Warning message in mutate_impl(.data, dots):\n",
      "“binding character and factor vector, coercing into character vector”"
     ]
    },
    {
     "name": "stdout",
     "output_type": "stream",
     "text": [
      "[1] \"DataCite\"\n",
      "[1] 10.15783/\n",
      "379 Levels: 10.11577/ 10.11586/ 10.11588/ 10.1184/ 10.12682/ ... 10.7945/\n",
      "[1] \"cdl.crawdad\"\n",
      "[1] 10.15783/\n",
      "379 Levels: 10.11577/ 10.11586/ 10.11588/ 10.1184/ 10.12682/ ... 10.7945/\n"
     ]
    },
    {
     "name": "stderr",
     "output_type": "stream",
     "text": [
      "Warning message in mutate_impl(.data, dots):\n",
      "“binding character and factor vector, coercing into character vector”"
     ]
    },
    {
     "name": "stdout",
     "output_type": "stream",
     "text": [
      "[1] \"DataCite\"\n",
      "[1] 10.6101/\n",
      "379 Levels: 10.11577/ 10.11586/ 10.11588/ 10.1184/ 10.12682/ ... 10.7945/\n",
      "[1] \"zbmed.aezq\"\n",
      "[1] 10.6101/\n",
      "379 Levels: 10.11577/ 10.11586/ 10.11588/ 10.1184/ 10.12682/ ... 10.7945/\n"
     ]
    },
    {
     "name": "stderr",
     "output_type": "stream",
     "text": [
      "Warning message in mutate_impl(.data, dots):\n",
      "“binding character and factor vector, coercing into character vector”"
     ]
    },
    {
     "name": "stdout",
     "output_type": "stream",
     "text": [
      "[1] \"DataCite\"\n",
      "[1] 10.5075/\n",
      "379 Levels: 10.11577/ 10.11586/ 10.11588/ 10.1184/ 10.12682/ ... 10.7945/\n",
      "[1] \"ethz.epfl\"\n",
      "[1] 10.5075/\n",
      "379 Levels: 10.11577/ 10.11586/ 10.11588/ 10.1184/ 10.12682/ ... 10.7945/\n"
     ]
    },
    {
     "name": "stderr",
     "output_type": "stream",
     "text": [
      "Warning message in mutate_impl(.data, dots):\n",
      "“binding character and factor vector, coercing into character vector”"
     ]
    },
    {
     "name": "stdout",
     "output_type": "stream",
     "text": [
      "[1] \"DataCite\"\n",
      "[1] 10.5285/\n",
      "379 Levels: 10.11577/ 10.11586/ 10.11588/ 10.1184/ 10.12682/ ... 10.7945/\n",
      "[1] \"bl.nerc\"\n",
      "[1] 10.5285/\n",
      "379 Levels: 10.11577/ 10.11586/ 10.11588/ 10.1184/ 10.12682/ ... 10.7945/\n"
     ]
    },
    {
     "name": "stderr",
     "output_type": "stream",
     "text": [
      "Warning message in mutate_impl(.data, dots):\n",
      "“binding character and factor vector, coercing into character vector”"
     ]
    },
    {
     "name": "stdout",
     "output_type": "stream",
     "text": [
      "[1] \"DataCite\"\n",
      "[1] 10.7892/\n",
      "379 Levels: 10.11577/ 10.11586/ 10.11588/ 10.1184/ 10.12682/ ... 10.7945/\n",
      "[1] \"ethz.boris\"\n",
      "[1] 10.7892/\n",
      "379 Levels: 10.11577/ 10.11586/ 10.11588/ 10.1184/ 10.12682/ ... 10.7945/\n"
     ]
    },
    {
     "name": "stderr",
     "output_type": "stream",
     "text": [
      "Warning message in mutate_impl(.data, dots):\n",
      "“binding character and factor vector, coercing into character vector”"
     ]
    },
    {
     "name": "stdout",
     "output_type": "stream",
     "text": [
      "[1] \"DataCite\"\n",
      "[1] 10.2314/\n",
      "379 Levels: 10.11577/ 10.11586/ 10.11588/ 10.1184/ 10.12682/ ... 10.7945/\n",
      "[1] \"tib.tib\"\n",
      "[1] 10.2314/\n",
      "379 Levels: 10.11577/ 10.11586/ 10.11588/ 10.1184/ 10.12682/ ... 10.7945/\n"
     ]
    },
    {
     "name": "stderr",
     "output_type": "stream",
     "text": [
      "Warning message in mutate_impl(.data, dots):\n",
      "“binding character and factor vector, coercing into character vector”"
     ]
    },
    {
     "name": "stdout",
     "output_type": "stream",
     "text": [
      "[1] \"DataCite\"\n",
      "[1] 10.4230/\n",
      "379 Levels: 10.11577/ 10.11586/ 10.11588/ 10.1184/ 10.12682/ ... 10.7945/\n",
      "[1] \"tib.dagst\"\n",
      "[1] 10.4230/\n",
      "379 Levels: 10.11577/ 10.11586/ 10.11588/ 10.1184/ 10.12682/ ... 10.7945/\n"
     ]
    },
    {
     "name": "stderr",
     "output_type": "stream",
     "text": [
      "Warning message in mutate_impl(.data, dots):\n",
      "“binding character and factor vector, coercing into character vector”"
     ]
    },
    {
     "name": "stdout",
     "output_type": "stream",
     "text": [
      "[1] \"DataCite\"\n",
      "[1] 10.5170/\n",
      "379 Levels: 10.11577/ 10.11586/ 10.11588/ 10.1184/ 10.12682/ ... 10.7945/\n",
      "[1] \"cern.yellow\"\n",
      "[1] 10.5170/\n",
      "379 Levels: 10.11577/ 10.11586/ 10.11588/ 10.1184/ 10.12682/ ... 10.7945/\n"
     ]
    },
    {
     "name": "stderr",
     "output_type": "stream",
     "text": [
      "Warning message in mutate_impl(.data, dots):\n",
      "“binding character and factor vector, coercing into character vector”"
     ]
    },
    {
     "name": "stdout",
     "output_type": "stream",
     "text": [
      "[1] \"DataCite\"\n",
      "[1] 10.5162/\n",
      "379 Levels: 10.11577/ 10.11586/ 10.11588/ 10.1184/ 10.12682/ ... 10.7945/\n",
      "[1] \"tib.ama\"\n",
      "[1] 10.5162/\n",
      "379 Levels: 10.11577/ 10.11586/ 10.11588/ 10.1184/ 10.12682/ ... 10.7945/\n"
     ]
    },
    {
     "name": "stderr",
     "output_type": "stream",
     "text": [
      "Warning message in mutate_impl(.data, dots):\n",
      "“binding character and factor vector, coercing into character vector”"
     ]
    },
    {
     "name": "stdout",
     "output_type": "stream",
     "text": [
      "[1] \"DataCite\"\n",
      "[1] 10.3929/\n",
      "379 Levels: 10.11577/ 10.11586/ 10.11588/ 10.1184/ 10.12682/ ... 10.7945/\n",
      "[1] \"ethz.e-coll\"\n",
      "[1] 10.3929/\n",
      "379 Levels: 10.11577/ 10.11586/ 10.11588/ 10.1184/ 10.12682/ ... 10.7945/\n"
     ]
    },
    {
     "name": "stderr",
     "output_type": "stream",
     "text": [
      "Warning message in mutate_impl(.data, dots):\n",
      "“binding character and factor vector, coercing into character vector”"
     ]
    },
    {
     "name": "stdout",
     "output_type": "stream",
     "text": [
      "[1] \"DataCite\"\n",
      "[1] 10.2390/\n",
      "379 Levels: 10.11577/ 10.11586/ 10.11588/ 10.1184/ 10.12682/ ... 10.7945/\n",
      "[1] \"tib.unibi\"\n",
      "[1] 10.2390/\n",
      "379 Levels: 10.11577/ 10.11586/ 10.11588/ 10.1184/ 10.12682/ ... 10.7945/\n"
     ]
    },
    {
     "name": "stderr",
     "output_type": "stream",
     "text": [
      "Warning message in mutate_impl(.data, dots):\n",
      "“binding character and factor vector, coercing into character vector”"
     ]
    },
    {
     "name": "stdout",
     "output_type": "stream",
     "text": [
      "[1] \"DataCite\"\n",
      "[1] 10.6078/\n",
      "379 Levels: 10.11577/ 10.11586/ 10.11588/ 10.1184/ 10.12682/ ... 10.7945/\n",
      "[1] \"cdl.ocontext\"\n",
      "[1] 10.6078/\n",
      "379 Levels: 10.11577/ 10.11586/ 10.11588/ 10.1184/ 10.12682/ ... 10.7945/\n"
     ]
    },
    {
     "name": "stderr",
     "output_type": "stream",
     "text": [
      "Warning message in mutate_impl(.data, dots):\n",
      "“binding character and factor vector, coercing into character vector”"
     ]
    },
    {
     "name": "stdout",
     "output_type": "stream",
     "text": [
      "[1] \"DataCite\"\n",
      "[1] 10.5904/\n",
      "379 Levels: 10.11577/ 10.11586/ 10.11588/ 10.1184/ 10.12682/ ... 10.7945/\n",
      "[1] \"ethz.wgms\"\n",
      "[1] 10.5904/\n",
      "379 Levels: 10.11577/ 10.11586/ 10.11588/ 10.1184/ 10.12682/ ... 10.7945/\n"
     ]
    },
    {
     "name": "stderr",
     "output_type": "stream",
     "text": [
      "Warning message in mutate_impl(.data, dots):\n",
      "“binding character and factor vector, coercing into character vector”"
     ]
    },
    {
     "name": "stdout",
     "output_type": "stream",
     "text": [
      "[1] \"DataCite\"\n",
      "[1] 10.5676/\n",
      "379 Levels: 10.11577/ 10.11586/ 10.11588/ 10.1184/ 10.12682/ ... 10.7945/\n",
      "[1] \"tib.dwd\"\n",
      "[1] 10.5676/\n",
      "379 Levels: 10.11577/ 10.11586/ 10.11588/ 10.1184/ 10.12682/ ... 10.7945/\n"
     ]
    },
    {
     "name": "stderr",
     "output_type": "stream",
     "text": [
      "Warning message in mutate_impl(.data, dots):\n",
      "“binding character and factor vector, coercing into character vector”"
     ]
    },
    {
     "name": "stdout",
     "output_type": "stream",
     "text": [
      "[1] \"DataCite\"\n",
      "[1] 10.5521/\n",
      "379 Levels: 10.11577/ 10.11586/ 10.11588/ 10.1184/ 10.12682/ ... 10.7945/\n",
      "[1] \"bl.leeds\"\n",
      "[1] 10.5521/\n",
      "379 Levels: 10.11577/ 10.11586/ 10.11588/ 10.1184/ 10.12682/ ... 10.7945/\n"
     ]
    },
    {
     "name": "stderr",
     "output_type": "stream",
     "text": [
      "Warning message in mutate_impl(.data, dots):\n",
      "“binding character and factor vector, coercing into character vector”"
     ]
    },
    {
     "name": "stdout",
     "output_type": "stream",
     "text": [
      "[1] \"DataCite\"\n",
      "[1] 10.4229/\n",
      "379 Levels: 10.11577/ 10.11586/ 10.11588/ 10.1184/ 10.12682/ ... 10.7945/\n",
      "[1] \"tib.wip\"\n",
      "[1] 10.4229/\n",
      "379 Levels: 10.11577/ 10.11586/ 10.11588/ 10.1184/ 10.12682/ ... 10.7945/\n"
     ]
    },
    {
     "name": "stderr",
     "output_type": "stream",
     "text": [
      "Warning message in mutate_impl(.data, dots):\n",
      "“binding character and factor vector, coercing into character vector”"
     ]
    },
    {
     "name": "stdout",
     "output_type": "stream",
     "text": [
      "[1] \"DataCite\"\n",
      "[1] 10.13152/\n",
      "379 Levels: 10.11577/ 10.11586/ 10.11588/ 10.1184/ 10.12682/ ... 10.7945/\n",
      "[1] \"gesis.ijrvet\"\n",
      "[1] 10.13152/\n",
      "379 Levels: 10.11577/ 10.11586/ 10.11588/ 10.1184/ 10.12682/ ... 10.7945/\n"
     ]
    },
    {
     "name": "stderr",
     "output_type": "stream",
     "text": [
      "Warning message in mutate_impl(.data, dots):\n",
      "“binding character and factor vector, coercing into character vector”"
     ]
    },
    {
     "name": "stdout",
     "output_type": "stream",
     "text": [
      "[1] \"DataCite\"\n",
      "[1] 10.6100/\n",
      "379 Levels: 10.11577/ 10.11586/ 10.11588/ 10.1184/ 10.12682/ ... 10.7945/\n",
      "[1] \"delft.tue\"\n",
      "[1] 10.6100/\n",
      "379 Levels: 10.11577/ 10.11586/ 10.11588/ 10.1184/ 10.12682/ ... 10.7945/\n"
     ]
    },
    {
     "name": "stderr",
     "output_type": "stream",
     "text": [
      "Warning message in mutate_impl(.data, dots):\n",
      "“binding character and factor vector, coercing into character vector”"
     ]
    },
    {
     "name": "stdout",
     "output_type": "stream",
     "text": [
      "[1] \"DataCite\"\n",
      "[1] 10.12684/\n",
      "379 Levels: 10.11577/ 10.11586/ 10.11588/ 10.1184/ 10.12682/ ... 10.7945/\n",
      "[1] \"ethz.bopalt\"\n",
      "[1] 10.12684/\n",
      "379 Levels: 10.11577/ 10.11586/ 10.11588/ 10.1184/ 10.12682/ ... 10.7945/\n"
     ]
    },
    {
     "name": "stderr",
     "output_type": "stream",
     "text": [
      "Warning message in mutate_impl(.data, dots):\n",
      "“binding character and factor vector, coercing into character vector”"
     ]
    },
    {
     "name": "stdout",
     "output_type": "stream",
     "text": [
      "[1] \"DataCite\"\n",
      "[1] 10.13128/\n",
      "379 Levels: 10.11577/ 10.11586/ 10.11588/ 10.1184/ 10.12682/ ... 10.7945/\n",
      "[1] \"crui.unifi\"\n",
      "[1] 10.13128/\n",
      "379 Levels: 10.11577/ 10.11586/ 10.11588/ 10.1184/ 10.12682/ ... 10.7945/\n"
     ]
    },
    {
     "name": "stderr",
     "output_type": "stream",
     "text": [
      "Warning message in mutate_impl(.data, dots):\n",
      "“binding character and factor vector, coercing into character vector”"
     ]
    },
    {
     "name": "stdout",
     "output_type": "stream",
     "text": [
      "[1] \"DataCite\"\n",
      "[1] 10.4232/\n",
      "379 Levels: 10.11577/ 10.11586/ 10.11588/ 10.1184/ 10.12682/ ... 10.7945/\n",
      "[1] \"gesis.gesis\"\n",
      "[1] 10.4232/\n",
      "379 Levels: 10.11577/ 10.11586/ 10.11588/ 10.1184/ 10.12682/ ... 10.7945/\n"
     ]
    },
    {
     "name": "stderr",
     "output_type": "stream",
     "text": [
      "Warning message in mutate_impl(.data, dots):\n",
      "“binding character and factor vector, coercing into character vector”"
     ]
    },
    {
     "name": "stdout",
     "output_type": "stream",
     "text": [
      "[1] \"DataCite\"\n",
      "[1] 10.7916/\n",
      "379 Levels: 10.11577/ 10.11586/ 10.11588/ 10.1184/ 10.12682/ ... 10.7945/\n",
      "[1] \"cdl.culis\"\n",
      "[1] 10.7916/\n",
      "379 Levels: 10.11577/ 10.11586/ 10.11588/ 10.1184/ 10.12682/ ... 10.7945/\n"
     ]
    },
    {
     "name": "stderr",
     "output_type": "stream",
     "text": [
      "Warning message in mutate_impl(.data, dots):\n",
      "“binding character and factor vector, coercing into character vector”"
     ]
    },
    {
     "name": "stdout",
     "output_type": "stream",
     "text": [
      "[1] \"DataCite\"\n",
      "[1] 10.5880/\n",
      "379 Levels: 10.11577/ 10.11586/ 10.11588/ 10.1184/ 10.12682/ ... 10.7945/\n",
      "[1] \"tib.gfz\"\n",
      "[1] 10.5880/\n",
      "379 Levels: 10.11577/ 10.11586/ 10.11588/ 10.1184/ 10.12682/ ... 10.7945/\n"
     ]
    },
    {
     "name": "stderr",
     "output_type": "stream",
     "text": [
      "Warning message in mutate_impl(.data, dots):\n",
      "“binding character and factor vector, coercing into character vector”"
     ]
    },
    {
     "name": "stdout",
     "output_type": "stream",
     "text": [
      "[1] \"DataCite\"\n",
      "[1] 10.5065/\n",
      "379 Levels: 10.11577/ 10.11586/ 10.11588/ 10.1184/ 10.12682/ ... 10.7945/\n",
      "[1] \"cdl.ncar\"\n",
      "[1] 10.5065/\n",
      "379 Levels: 10.11577/ 10.11586/ 10.11588/ 10.1184/ 10.12682/ ... 10.7945/\n"
     ]
    },
    {
     "name": "stderr",
     "output_type": "stream",
     "text": [
      "Warning message in mutate_impl(.data, dots):\n",
      "“binding character and factor vector, coercing into character vector”"
     ]
    },
    {
     "name": "stdout",
     "output_type": "stream",
     "text": [
      "[1] \"Crossref\"\n",
      "[1] 10.7287/\n",
      "379 Levels: 10.11577/ 10.11586/ 10.11588/ 10.1184/ 10.12682/ ... 10.7945/\n"
     ]
    },
    {
     "name": "stderr",
     "output_type": "stream",
     "text": [
      "Warning message in mutate_impl(.data, dots):\n",
      "“binding character and factor vector, coercing into character vector”"
     ]
    },
    {
     "name": "stdout",
     "output_type": "stream",
     "text": [
      "[1] \"DataCite\"\n",
      "[1] 10.5675/\n",
      "379 Levels: 10.11577/ 10.11586/ 10.11588/ 10.1184/ 10.12682/ ... 10.7945/\n",
      "[1] \"tib.bafg\"\n",
      "[1] 10.5675/\n",
      "379 Levels: 10.11577/ 10.11586/ 10.11588/ 10.1184/ 10.12682/ ... 10.7945/\n"
     ]
    },
    {
     "name": "stderr",
     "output_type": "stream",
     "text": [
      "Warning message in mutate_impl(.data, dots):\n",
      "“binding character and factor vector, coercing into character vector”"
     ]
    },
    {
     "name": "stdout",
     "output_type": "stream",
     "text": [
      "[1] \"DataCite\"\n",
      "[1] 10.5071/\n",
      "379 Levels: 10.11577/ 10.11586/ 10.11588/ 10.1184/ 10.12682/ ... 10.7945/\n",
      "[1] \"tib.eta\"\n",
      "[1] 10.5071/\n",
      "379 Levels: 10.11577/ 10.11586/ 10.11588/ 10.1184/ 10.12682/ ... 10.7945/\n"
     ]
    },
    {
     "name": "stderr",
     "output_type": "stream",
     "text": [
      "Warning message in mutate_impl(.data, dots):\n",
      "“binding character and factor vector, coercing into character vector”"
     ]
    },
    {
     "name": "stdout",
     "output_type": "stream",
     "text": [
      "[1] \"DataCite\"\n",
      "[1] 10.5277/\n",
      "379 Levels: 10.11577/ 10.11586/ 10.11588/ 10.1184/ 10.12682/ ... 10.7945/\n",
      "[1] \"tib.owpwr\"\n",
      "[1] 10.5277/\n",
      "379 Levels: 10.11577/ 10.11586/ 10.11588/ 10.1184/ 10.12682/ ... 10.7945/\n"
     ]
    },
    {
     "name": "stderr",
     "output_type": "stream",
     "text": [
      "Warning message in mutate_impl(.data, dots):\n",
      "“binding character and factor vector, coercing into character vector”"
     ]
    },
    {
     "name": "stdout",
     "output_type": "stream",
     "text": [
      "[1] \"DataCite\"\n",
      "[1] 10.17886/\n",
      "379 Levels: 10.11577/ 10.11586/ 10.11588/ 10.1184/ 10.12682/ ... 10.7945/\n",
      "[1] \"gesis.rki\"\n",
      "[1] 10.17886/\n",
      "379 Levels: 10.11577/ 10.11586/ 10.11588/ 10.1184/ 10.12682/ ... 10.7945/\n"
     ]
    },
    {
     "name": "stderr",
     "output_type": "stream",
     "text": [
      "Warning message in mutate_impl(.data, dots):\n",
      "“binding character and factor vector, coercing into character vector”"
     ]
    },
    {
     "name": "stdout",
     "output_type": "stream",
     "text": [
      "[1] \"DataCite\"\n",
      "[1] 10.15150/\n",
      "379 Levels: 10.11577/ 10.11586/ 10.11588/ 10.1184/ 10.12682/ ... 10.7945/\n",
      "[1] \"zbmed.ktbl\"\n",
      "[1] 10.15150/\n",
      "379 Levels: 10.11577/ 10.11586/ 10.11588/ 10.1184/ 10.12682/ ... 10.7945/\n"
     ]
    },
    {
     "name": "stderr",
     "output_type": "stream",
     "text": [
      "Warning message in mutate_impl(.data, dots):\n",
      "“binding character and factor vector, coercing into character vector”"
     ]
    },
    {
     "name": "stdout",
     "output_type": "stream",
     "text": [
      "[1] \"DataCite\"\n",
      "[1] 10.17169/\n",
      "379 Levels: 10.11577/ 10.11586/ 10.11588/ 10.1184/ 10.12682/ ... 10.7945/\n",
      "[1] \"tib.fuub\"\n",
      "[1] 10.17169/\n",
      "379 Levels: 10.11577/ 10.11586/ 10.11588/ 10.1184/ 10.12682/ ... 10.7945/\n"
     ]
    },
    {
     "name": "stderr",
     "output_type": "stream",
     "text": [
      "Warning message in mutate_impl(.data, dots):\n",
      "“binding character and factor vector, coercing into character vector”"
     ]
    },
    {
     "name": "stdout",
     "output_type": "stream",
     "text": [
      "[1] \"Crossref\"\n",
      "[1] 10.20360/\n",
      "379 Levels: 10.11577/ 10.11586/ 10.11588/ 10.1184/ 10.12682/ ... 10.7945/\n"
     ]
    },
    {
     "name": "stderr",
     "output_type": "stream",
     "text": [
      "Warning message in mutate_impl(.data, dots):\n",
      "“binding character and factor vector, coercing into character vector”"
     ]
    },
    {
     "name": "stdout",
     "output_type": "stream",
     "text": [
      "[1] \"DataCite\"\n",
      "[1] 10.5439/\n",
      "379 Levels: 10.11577/ 10.11586/ 10.11588/ 10.1184/ 10.12682/ ... 10.7945/\n",
      "[1] \"osti.ornlarm\"\n",
      "[1] 10.5439/\n",
      "379 Levels: 10.11577/ 10.11586/ 10.11588/ 10.1184/ 10.12682/ ... 10.7945/\n"
     ]
    },
    {
     "name": "stderr",
     "output_type": "stream",
     "text": [
      "Warning message in mutate_impl(.data, dots):\n",
      "“binding character and factor vector, coercing into character vector”"
     ]
    },
    {
     "name": "stdout",
     "output_type": "stream",
     "text": [
      "[1] \"DataCite\"\n",
      "[1] 10.3933/\n",
      "379 Levels: 10.11577/ 10.11586/ 10.11588/ 10.1184/ 10.12682/ ... 10.7945/\n",
      "[1] \"ethz.ar\"\n",
      "[1] 10.3933/\n",
      "379 Levels: 10.11577/ 10.11586/ 10.11588/ 10.1184/ 10.12682/ ... 10.7945/\n"
     ]
    },
    {
     "name": "stderr",
     "output_type": "stream",
     "text": [
      "Warning message in mutate_impl(.data, dots):\n",
      "“binding character and factor vector, coercing into character vector”"
     ]
    },
    {
     "name": "stdout",
     "output_type": "stream",
     "text": [
      "[1] \"DataCite\"\n",
      "[1] 10.13016/\n",
      "379 Levels: 10.11577/ 10.11586/ 10.11588/ 10.1184/ 10.12682/ ... 10.7945/\n",
      "[1] \"purdue.umd\"\n",
      "[1] 10.13016/\n",
      "379 Levels: 10.11577/ 10.11586/ 10.11588/ 10.1184/ 10.12682/ ... 10.7945/\n"
     ]
    },
    {
     "name": "stderr",
     "output_type": "stream",
     "text": [
      "Warning message in mutate_impl(.data, dots):\n",
      "“binding character and factor vector, coercing into character vector”"
     ]
    },
    {
     "name": "stdout",
     "output_type": "stream",
     "text": [
      "[1] \"DataCite\"\n",
      "[1] 10.5282/\n",
      "379 Levels: 10.11577/ 10.11586/ 10.11588/ 10.1184/ 10.12682/ ... 10.7945/\n",
      "[1] \"tib.ublmu\"\n",
      "[1] 10.5282/\n",
      "379 Levels: 10.11577/ 10.11586/ 10.11588/ 10.1184/ 10.12682/ ... 10.7945/\n"
     ]
    },
    {
     "name": "stderr",
     "output_type": "stream",
     "text": [
      "Warning message in mutate_impl(.data, dots):\n",
      "“binding character and factor vector, coercing into character vector”"
     ]
    },
    {
     "name": "stdout",
     "output_type": "stream",
     "text": [
      "[1] \"DataCite\"\n",
      "[1] 10.7914/\n",
      "379 Levels: 10.11577/ 10.11586/ 10.11588/ 10.1184/ 10.12682/ ... 10.7945/\n",
      "[1] \"cdl.fdsn\"\n",
      "[1] 10.7914/\n",
      "379 Levels: 10.11577/ 10.11586/ 10.11588/ 10.1184/ 10.12682/ ... 10.7945/\n"
     ]
    },
    {
     "name": "stderr",
     "output_type": "stream",
     "text": [
      "Warning message in mutate_impl(.data, dots):\n",
      "“binding character and factor vector, coercing into character vector”"
     ]
    },
    {
     "name": "stdout",
     "output_type": "stream",
     "text": [
      "[1] \"DataCite\"\n",
      "[1] 10.4121/\n",
      "379 Levels: 10.11577/ 10.11586/ 10.11588/ 10.1184/ 10.12682/ ... 10.7945/\n",
      "[1] \"delft.data4tu\"\n",
      "[1] 10.4121/\n",
      "379 Levels: 10.11577/ 10.11586/ 10.11588/ 10.1184/ 10.12682/ ... 10.7945/\n"
     ]
    },
    {
     "name": "stderr",
     "output_type": "stream",
     "text": [
      "Warning message in mutate_impl(.data, dots):\n",
      "“binding character and factor vector, coercing into character vector”"
     ]
    },
    {
     "name": "stdout",
     "output_type": "stream",
     "text": [
      "[1] \"DataCite\"\n",
      "[1] 10.5284/\n",
      "379 Levels: 10.11577/ 10.11586/ 10.11588/ 10.1184/ 10.12682/ ... 10.7945/\n",
      "[1] \"bl.ads\"\n",
      "[1] 10.5284/\n",
      "379 Levels: 10.11577/ 10.11586/ 10.11588/ 10.1184/ 10.12682/ ... 10.7945/\n"
     ]
    },
    {
     "name": "stderr",
     "output_type": "stream",
     "text": [
      "Warning message in mutate_impl(.data, dots):\n",
      "“binding character and factor vector, coercing into character vector”"
     ]
    },
    {
     "name": "stdout",
     "output_type": "stream",
     "text": [
      "[1] \"DataCite\"\n",
      "[1] 10.7480/\n",
      "379 Levels: 10.11577/ 10.11586/ 10.11588/ 10.1184/ 10.12682/ ... 10.7945/\n",
      "[1] \"delft.tudarch\"\n",
      "[1] 10.7480/\n",
      "379 Levels: 10.11577/ 10.11586/ 10.11588/ 10.1184/ 10.12682/ ... 10.7945/\n"
     ]
    },
    {
     "name": "stderr",
     "output_type": "stream",
     "text": [
      "Warning message in mutate_impl(.data, dots):\n",
      "“binding character and factor vector, coercing into character vector”"
     ]
    },
    {
     "name": "stdout",
     "output_type": "stream",
     "text": [
      "[1] \"Crossref\"\n",
      "[1] 10.20355/\n",
      "379 Levels: 10.11577/ 10.11586/ 10.11588/ 10.1184/ 10.12682/ ... 10.7945/\n"
     ]
    },
    {
     "name": "stderr",
     "output_type": "stream",
     "text": [
      "Warning message in mutate_impl(.data, dots):\n",
      "“binding character and factor vector, coercing into character vector”"
     ]
    },
    {
     "name": "stdout",
     "output_type": "stream",
     "text": [
      "[1] \"DataCite\"\n",
      "[1] 10.1285/\n",
      "379 Levels: 10.11577/ 10.11586/ 10.11588/ 10.1184/ 10.12682/ ... 10.7945/\n",
      "[1] \"crui.unile\"\n",
      "[1] 10.1285/\n",
      "379 Levels: 10.11577/ 10.11586/ 10.11588/ 10.1184/ 10.12682/ ... 10.7945/\n"
     ]
    },
    {
     "name": "stderr",
     "output_type": "stream",
     "text": [
      "Warning message in mutate_impl(.data, dots):\n",
      "“binding character and factor vector, coercing into character vector”"
     ]
    },
    {
     "name": "stdout",
     "output_type": "stream",
     "text": [
      "[1] \"DataCite\"\n",
      "[1] 10.20385/\n",
      "379 Levels: 10.11577/ 10.11586/ 10.11588/ 10.1184/ 10.12682/ ... 10.7945/\n",
      "[1] \"tib.hsd\"\n",
      "[1] 10.20385/\n",
      "379 Levels: 10.11577/ 10.11586/ 10.11588/ 10.1184/ 10.12682/ ... 10.7945/\n"
     ]
    },
    {
     "name": "stderr",
     "output_type": "stream",
     "text": [
      "Warning message in mutate_impl(.data, dots):\n",
      "“binding character and factor vector, coercing into character vector”"
     ]
    },
    {
     "name": "stdout",
     "output_type": "stream",
     "text": [
      "[1] \"DataCite\"\n",
      "[1] 10.17179/\n",
      "379 Levels: 10.11577/ 10.11586/ 10.11588/ 10.1184/ 10.12682/ ... 10.7945/\n",
      "[1] \"zbmed.ifado\"\n",
      "[1] 10.17179/\n",
      "379 Levels: 10.11577/ 10.11586/ 10.11588/ 10.1184/ 10.12682/ ... 10.7945/\n"
     ]
    },
    {
     "name": "stderr",
     "output_type": "stream",
     "text": [
      "Warning message in mutate_impl(.data, dots):\n",
      "“binding character and factor vector, coercing into character vector”"
     ]
    },
    {
     "name": "stdout",
     "output_type": "stream",
     "text": [
      "[1] \"DataCite\"\n",
      "[1] 10.17026/\n",
      "379 Levels: 10.11577/ 10.11586/ 10.11588/ 10.1184/ 10.12682/ ... 10.7945/\n",
      "[1] \"delft.easy\"\n",
      "[1] 10.17026/\n",
      "379 Levels: 10.11577/ 10.11586/ 10.11588/ 10.1184/ 10.12682/ ... 10.7945/\n"
     ]
    },
    {
     "name": "stderr",
     "output_type": "stream",
     "text": [
      "Warning message in mutate_impl(.data, dots):\n",
      "“binding character and factor vector, coercing into character vector”"
     ]
    },
    {
     "name": "stdout",
     "output_type": "stream",
     "text": [
      "[1] \"DataCite\"\n",
      "[1] 10.15502/\n",
      "379 Levels: 10.11577/ 10.11586/ 10.11588/ 10.1184/ 10.12682/ ... 10.7945/\n",
      "[1] \"gesis.mind\"\n",
      "[1] 10.15502/\n",
      "379 Levels: 10.11577/ 10.11586/ 10.11588/ 10.1184/ 10.12682/ ... 10.7945/\n"
     ]
    },
    {
     "name": "stderr",
     "output_type": "stream",
     "text": [
      "Warning message in mutate_impl(.data, dots):\n",
      "“binding character and factor vector, coercing into character vector”"
     ]
    },
    {
     "name": "stdout",
     "output_type": "stream",
     "text": [
      "[1] \"DataCite\"\n",
      "[1] 10.7484/\n",
      "379 Levels: 10.11577/ 10.11586/ 10.11588/ 10.1184/ 10.12682/ ... 10.7945/\n",
      "[1] \"cern.inspire\"\n",
      "[1] 10.7484/\n",
      "379 Levels: 10.11577/ 10.11586/ 10.11588/ 10.1184/ 10.12682/ ... 10.7945/\n"
     ]
    },
    {
     "name": "stderr",
     "output_type": "stream",
     "text": [
      "Warning message in mutate_impl(.data, dots):\n",
      "“binding character and factor vector, coercing into character vector”"
     ]
    },
    {
     "name": "stdout",
     "output_type": "stream",
     "text": [
      "[1] \"DataCite\"\n",
      "[1] 10.7910/\n",
      "379 Levels: 10.11577/ 10.11586/ 10.11588/ 10.1184/ 10.12682/ ... 10.7945/\n",
      "[1] \"cdl.datavers\"\n",
      "[1] 10.7910/\n",
      "379 Levels: 10.11577/ 10.11586/ 10.11588/ 10.1184/ 10.12682/ ... 10.7945/\n"
     ]
    },
    {
     "name": "stderr",
     "output_type": "stream",
     "text": [
      "Warning message in mutate_impl(.data, dots):\n",
      "“binding character and factor vector, coercing into character vector”"
     ]
    },
    {
     "name": "stdout",
     "output_type": "stream",
     "text": [
      "[1] \"DataCite\"\n",
      "[1] 10.4233/\n",
      "379 Levels: 10.11577/ 10.11586/ 10.11588/ 10.1184/ 10.12682/ ... 10.7945/\n",
      "[1] \"delft.tudelft\"\n",
      "[1] 10.4233/\n",
      "379 Levels: 10.11577/ 10.11586/ 10.11588/ 10.1184/ 10.12682/ ... 10.7945/\n"
     ]
    },
    {
     "name": "stderr",
     "output_type": "stream",
     "text": [
      "Warning message in mutate_impl(.data, dots):\n",
      "“binding character and factor vector, coercing into character vector”"
     ]
    },
    {
     "name": "stdout",
     "output_type": "stream",
     "text": [
      "[1] \"DataCite\"\n",
      "[1] 10.7275/\n",
      "379 Levels: 10.11577/ 10.11586/ 10.11588/ 10.1184/ 10.12682/ ... 10.7945/\n",
      "[1] \"cdl.uma\"\n",
      "[1] 10.7275/\n",
      "379 Levels: 10.11577/ 10.11586/ 10.11588/ 10.1184/ 10.12682/ ... 10.7945/\n"
     ]
    },
    {
     "name": "stderr",
     "output_type": "stream",
     "text": [
      "Warning message in mutate_impl(.data, dots):\n",
      "“binding character and factor vector, coercing into character vector”"
     ]
    },
    {
     "name": "stdout",
     "output_type": "stream",
     "text": [
      "[1] \"DataCite\"\n",
      "[1] 10.11588/\n",
      "379 Levels: 10.11577/ 10.11586/ 10.11588/ 10.1184/ 10.12682/ ... 10.7945/\n",
      "[1] \"gesis.ubhd\"\n",
      "[1] 10.11588/\n",
      "379 Levels: 10.11577/ 10.11586/ 10.11588/ 10.1184/ 10.12682/ ... 10.7945/\n"
     ]
    },
    {
     "name": "stderr",
     "output_type": "stream",
     "text": [
      "Warning message in mutate_impl(.data, dots):\n",
      "“binding character and factor vector, coercing into character vector”"
     ]
    },
    {
     "name": "stdout",
     "output_type": "stream",
     "text": [
      "[1] \"Crossref\"\n",
      "[1] 10.18733/\n",
      "379 Levels: 10.11577/ 10.11586/ 10.11588/ 10.1184/ 10.12682/ ... 10.7945/\n"
     ]
    },
    {
     "name": "stderr",
     "output_type": "stream",
     "text": [
      "Warning message in mutate_impl(.data, dots):\n",
      "“binding character and factor vector, coercing into character vector”"
     ]
    },
    {
     "name": "stdout",
     "output_type": "stream",
     "text": [
      "[1] \"Crossref\"\n",
      "[1] 10.21432/\n",
      "379 Levels: 10.11577/ 10.11586/ 10.11588/ 10.1184/ 10.12682/ ... 10.7945/\n"
     ]
    },
    {
     "name": "stderr",
     "output_type": "stream",
     "text": [
      "Warning message in mutate_impl(.data, dots):\n",
      "“binding character and factor vector, coercing into character vector”"
     ]
    },
    {
     "name": "stdout",
     "output_type": "stream",
     "text": [
      "[1] \"DataCite\"\n",
      "[1] 10.5157/\n",
      "379 Levels: 10.11577/ 10.11586/ 10.11588/ 10.1184/ 10.12682/ ... 10.7945/\n",
      "[1] \"gesis.neps\"\n",
      "[1] 10.5157/\n",
      "379 Levels: 10.11577/ 10.11586/ 10.11588/ 10.1184/ 10.12682/ ... 10.7945/\n"
     ]
    },
    {
     "name": "stderr",
     "output_type": "stream",
     "text": [
      "Warning message in mutate_impl(.data, dots):\n",
      "“binding character and factor vector, coercing into character vector”"
     ]
    },
    {
     "name": "stdout",
     "output_type": "stream",
     "text": [
      "[1] \"DataCite\"\n",
      "[1] 10.14279/\n",
      "379 Levels: 10.11577/ 10.11586/ 10.11588/ 10.1184/ 10.12682/ ... 10.7945/\n",
      "[1] \"tib.tub\"\n",
      "[1] 10.14279/\n",
      "379 Levels: 10.11577/ 10.11586/ 10.11588/ 10.1184/ 10.12682/ ... 10.7945/\n"
     ]
    },
    {
     "name": "stderr",
     "output_type": "stream",
     "text": [
      "Warning message in mutate_impl(.data, dots):\n",
      "“binding character and factor vector, coercing into character vector”"
     ]
    },
    {
     "name": "stdout",
     "output_type": "stream",
     "text": [
      "[1] \"DataCite\"\n",
      "[1] 10.16910/\n",
      "379 Levels: 10.11577/ 10.11586/ 10.11588/ 10.1184/ 10.12682/ ... 10.7945/\n",
      "[1] \"ethz.bopjemr\"\n",
      "[1] 10.16910/\n",
      "379 Levels: 10.11577/ 10.11586/ 10.11588/ 10.1184/ 10.12682/ ... 10.7945/\n"
     ]
    },
    {
     "name": "stderr",
     "output_type": "stream",
     "text": [
      "Warning message in mutate_impl(.data, dots):\n",
      "“binding character and factor vector, coercing into character vector”"
     ]
    },
    {
     "name": "stdout",
     "output_type": "stream",
     "text": [
      "[1] \"DataCite\"\n",
      "[1] 10.6067/\n",
      "379 Levels: 10.11577/ 10.11586/ 10.11588/ 10.1184/ 10.12682/ ... 10.7945/\n",
      "[1] \"cdl.digant\"\n",
      "[1] 10.6067/\n",
      "379 Levels: 10.11577/ 10.11586/ 10.11588/ 10.1184/ 10.12682/ ... 10.7945/\n"
     ]
    },
    {
     "name": "stderr",
     "output_type": "stream",
     "text": [
      "Warning message in mutate_impl(.data, dots):\n",
      "“binding character and factor vector, coercing into character vector”"
     ]
    },
    {
     "name": "stdout",
     "output_type": "stream",
     "text": [
      "[1] \"DataCite\"\n",
      "[1] 10.5259/\n",
      "379 Levels: 10.11577/ 10.11586/ 10.11588/ 10.1184/ 10.12682/ ... 10.7945/\n",
      "[1] \"bl.wap\"\n",
      "[1] 10.5259/\n",
      "379 Levels: 10.11577/ 10.11586/ 10.11588/ 10.1184/ 10.12682/ ... 10.7945/\n"
     ]
    },
    {
     "name": "stderr",
     "output_type": "stream",
     "text": [
      "Warning message in mutate_impl(.data, dots):\n",
      "“binding character and factor vector, coercing into character vector”"
     ]
    },
    {
     "name": "stdout",
     "output_type": "stream",
     "text": [
      "[1] \"DataCite\"\n",
      "[1] 10.17185/\n",
      "379 Levels: 10.11577/ 10.11586/ 10.11588/ 10.1184/ 10.12682/ ... 10.7945/\n",
      "[1] \"tib.ubde\"\n",
      "[1] 10.17185/\n",
      "379 Levels: 10.11577/ 10.11586/ 10.11588/ 10.1184/ 10.12682/ ... 10.7945/\n"
     ]
    },
    {
     "name": "stderr",
     "output_type": "stream",
     "text": [
      "Warning message in mutate_impl(.data, dots):\n",
      "“binding character and factor vector, coercing into character vector”"
     ]
    },
    {
     "name": "stdout",
     "output_type": "stream",
     "text": [
      "[1] \"DataCite\"\n",
      "[1] 10.12758/\n",
      "379 Levels: 10.11577/ 10.11586/ 10.11588/ 10.1184/ 10.12682/ ... 10.7945/\n",
      "[1] \"gesis.gesis\"\n",
      "[1] 10.12758/\n",
      "379 Levels: 10.11577/ 10.11586/ 10.11588/ 10.1184/ 10.12682/ ... 10.7945/\n"
     ]
    },
    {
     "name": "stderr",
     "output_type": "stream",
     "text": [
      "Warning message in mutate_impl(.data, dots):\n",
      "“binding character and factor vector, coercing into character vector”"
     ]
    },
    {
     "name": "stdout",
     "output_type": "stream",
     "text": [
      "[1] \"DataCite\"\n",
      "[1] 10.4122/\n",
      "379 Levels: 10.11577/ 10.11586/ 10.11588/ 10.1184/ 10.12682/ ... 10.7945/\n",
      "[1] \"dk.dtic\"\n",
      "[1] 10.4122/\n",
      "379 Levels: 10.11577/ 10.11586/ 10.11588/ 10.1184/ 10.12682/ ... 10.7945/\n"
     ]
    },
    {
     "name": "stderr",
     "output_type": "stream",
     "text": [
      "Warning message in mutate_impl(.data, dots):\n",
      "“binding character and factor vector, coercing into character vector”"
     ]
    },
    {
     "name": "stdout",
     "output_type": "stream",
     "text": [
      "[1] \"DataCite\"\n",
      "[1] 10.5278/\n",
      "379 Levels: 10.11577/ 10.11586/ 10.11588/ 10.1184/ 10.12682/ ... 10.7945/\n",
      "[1] \"dk.aau\"\n",
      "[1] 10.5278/\n",
      "379 Levels: 10.11577/ 10.11586/ 10.11588/ 10.1184/ 10.12682/ ... 10.7945/\n"
     ]
    },
    {
     "name": "stderr",
     "output_type": "stream",
     "text": [
      "Warning message in mutate_impl(.data, dots):\n",
      "“binding character and factor vector, coercing into character vector”"
     ]
    },
    {
     "name": "stdout",
     "output_type": "stream",
     "text": [
      "[1] \"DataCite\"\n",
      "[1] 10.5885/\n",
      "379 Levels: 10.11577/ 10.11586/ 10.11588/ 10.1184/ 10.12682/ ... 10.7945/\n",
      "[1] \"cisti.cen\"\n",
      "[1] 10.5885/\n",
      "379 Levels: 10.11577/ 10.11586/ 10.11588/ 10.1184/ 10.12682/ ... 10.7945/\n"
     ]
    },
    {
     "name": "stderr",
     "output_type": "stream",
     "text": [
      "Warning message in mutate_impl(.data, dots):\n",
      "“binding character and factor vector, coercing into character vector”"
     ]
    },
    {
     "name": "stdout",
     "output_type": "stream",
     "text": [
      "[1] \"DataCite\"\n",
      "[1] 10.17600/\n",
      "379 Levels: 10.11577/ 10.11586/ 10.11588/ 10.1184/ 10.12682/ ... 10.7945/\n",
      "[1] \"inist.ifremer\"\n",
      "[1] 10.17600/\n",
      "379 Levels: 10.11577/ 10.11586/ 10.11588/ 10.1184/ 10.12682/ ... 10.7945/\n"
     ]
    },
    {
     "name": "stderr",
     "output_type": "stream",
     "text": [
      "Warning message in mutate_impl(.data, dots):\n",
      "“binding character and factor vector, coercing into character vector”"
     ]
    },
    {
     "name": "stdout",
     "output_type": "stream",
     "text": [
      "[1] \"DataCite\"\n",
      "[1] 10.15135/\n",
      "379 Levels: 10.11577/ 10.11586/ 10.11588/ 10.1184/ 10.12682/ ... 10.7945/\n",
      "[1] \"zbmed.sfuwien\"\n",
      "[1] 10.15135/\n",
      "379 Levels: 10.11577/ 10.11586/ 10.11588/ 10.1184/ 10.12682/ ... 10.7945/\n"
     ]
    },
    {
     "name": "stderr",
     "output_type": "stream",
     "text": [
      "Warning message in mutate_impl(.data, dots):\n",
      "“binding character and factor vector, coercing into character vector”"
     ]
    },
    {
     "name": "stdout",
     "output_type": "stream",
     "text": [
      "[1] \"DataCite\"\n",
      "[1] 10.6096/\n",
      "379 Levels: 10.11577/ 10.11586/ 10.11588/ 10.1184/ 10.12682/ ... 10.7945/\n",
      "[1] \"inist.omp\"\n",
      "[1] 10.6096/\n",
      "379 Levels: 10.11577/ 10.11586/ 10.11588/ 10.1184/ 10.12682/ ... 10.7945/\n"
     ]
    },
    {
     "name": "stderr",
     "output_type": "stream",
     "text": [
      "Warning message in mutate_impl(.data, dots):\n",
      "“binding character and factor vector, coercing into character vector”"
     ]
    },
    {
     "name": "stdout",
     "output_type": "stream",
     "text": [
      "[1] \"DataCite\"\n",
      "[1] 10.6073/\n",
      "379 Levels: 10.11577/ 10.11586/ 10.11588/ 10.1184/ 10.12682/ ... 10.7945/\n",
      "[1] \"edi.edi\"\n",
      "[1] 10.6073/\n",
      "379 Levels: 10.11577/ 10.11586/ 10.11588/ 10.1184/ 10.12682/ ... 10.7945/\n"
     ]
    },
    {
     "name": "stderr",
     "output_type": "stream",
     "text": [
      "Warning message in mutate_impl(.data, dots):\n",
      "“binding character and factor vector, coercing into character vector”"
     ]
    },
    {
     "name": "stdout",
     "output_type": "stream",
     "text": [
      "[1] \"DataCite\"\n",
      "[1] 10.12770/\n",
      "379 Levels: 10.11577/ 10.11586/ 10.11588/ 10.1184/ 10.12682/ ... 10.7945/\n",
      "[1] \"inist.ifremer\"\n",
      "[1] 10.12770/\n",
      "379 Levels: 10.11577/ 10.11586/ 10.11588/ 10.1184/ 10.12682/ ... 10.7945/\n"
     ]
    },
    {
     "name": "stderr",
     "output_type": "stream",
     "text": [
      "Warning message in mutate_impl(.data, dots):\n",
      "“binding character and factor vector, coercing into character vector”"
     ]
    },
    {
     "name": "stdout",
     "output_type": "stream",
     "text": [
      "[1] \"DataCite\"\n",
      "[1] 10.3289/\n",
      "379 Levels: 10.11577/ 10.11586/ 10.11588/ 10.1184/ 10.12682/ ... 10.7945/\n",
      "[1] \"tib.geomar\"\n",
      "[1] 10.3289/\n",
      "379 Levels: 10.11577/ 10.11586/ 10.11588/ 10.1184/ 10.12682/ ... 10.7945/\n"
     ]
    },
    {
     "name": "stderr",
     "output_type": "stream",
     "text": [
      "Warning message in mutate_impl(.data, dots):\n",
      "“binding character and factor vector, coercing into character vector”"
     ]
    },
    {
     "name": "stdout",
     "output_type": "stream",
     "text": [
      "[1] \"DataCite\"\n",
      "[1] 10.5066/\n",
      "379 Levels: 10.11577/ 10.11586/ 10.11588/ 10.1184/ 10.12682/ ... 10.7945/\n",
      "[1] \"cdl.usgs\"\n",
      "[1] 10.5066/\n",
      "379 Levels: 10.11577/ 10.11586/ 10.11588/ 10.1184/ 10.12682/ ... 10.7945/\n"
     ]
    },
    {
     "name": "stderr",
     "output_type": "stream",
     "text": [
      "Warning message in mutate_impl(.data, dots):\n",
      "“binding character and factor vector, coercing into character vector”"
     ]
    },
    {
     "name": "stdout",
     "output_type": "stream",
     "text": [
      "[1] \"DataCite\"\n",
      "[1] 10.7282/\n",
      "379 Levels: 10.11577/ 10.11586/ 10.11588/ 10.1184/ 10.12682/ ... 10.7945/\n",
      "[1] \"cdl.rutgers\"\n",
      "[1] 10.7282/\n",
      "379 Levels: 10.11577/ 10.11586/ 10.11588/ 10.1184/ 10.12682/ ... 10.7945/\n"
     ]
    },
    {
     "name": "stderr",
     "output_type": "stream",
     "text": [
      "Warning message in mutate_impl(.data, dots):\n",
      "“binding character and factor vector, coercing into character vector”"
     ]
    },
    {
     "name": "stdout",
     "output_type": "stream",
     "text": [
      "[1] \"DataCite\"\n",
      "[1] 10.13130/\n",
      "379 Levels: 10.11577/ 10.11586/ 10.11588/ 10.1184/ 10.12682/ ... 10.7945/\n",
      "[1] \"crui.unimi\"\n",
      "[1] 10.13130/\n",
      "379 Levels: 10.11577/ 10.11586/ 10.11588/ 10.1184/ 10.12682/ ... 10.7945/\n"
     ]
    },
    {
     "name": "stderr",
     "output_type": "stream",
     "text": [
      "Warning message in mutate_impl(.data, dots):\n",
      "“binding character and factor vector, coercing into character vector”"
     ]
    },
    {
     "name": "stdout",
     "output_type": "stream",
     "text": [
      "[1] \"DataCite\"\n",
      "[1] 10.7927/\n",
      "379 Levels: 10.11577/ 10.11586/ 10.11588/ 10.1184/ 10.12682/ ... 10.7945/\n",
      "[1] \"cdl.ciesin\"\n",
      "[1] 10.7927/\n",
      "379 Levels: 10.11577/ 10.11586/ 10.11588/ 10.1184/ 10.12682/ ... 10.7945/\n"
     ]
    },
    {
     "name": "stderr",
     "output_type": "stream",
     "text": [
      "Warning message in mutate_impl(.data, dots):\n",
      "“binding character and factor vector, coercing into character vector”"
     ]
    },
    {
     "name": "stdout",
     "output_type": "stream",
     "text": [
      "[1] \"DataCite\"\n",
      "[1] 10.5073/\n",
      "379 Levels: 10.11577/ 10.11586/ 10.11588/ 10.1184/ 10.12682/ ... 10.7945/\n",
      "[1] \"tib.jki\"\n",
      "[1] 10.5073/\n",
      "379 Levels: 10.11577/ 10.11586/ 10.11588/ 10.1184/ 10.12682/ ... 10.7945/\n"
     ]
    },
    {
     "name": "stderr",
     "output_type": "stream",
     "text": [
      "Warning message in mutate_impl(.data, dots):\n",
      "“binding character and factor vector, coercing into character vector”"
     ]
    },
    {
     "name": "stdout",
     "output_type": "stream",
     "text": [
      "[1] \"DataCite\"\n",
      "[1] 10.14283/\n",
      "379 Levels: 10.11577/ 10.11586/ 10.11588/ 10.1184/ 10.12682/ ... 10.7945/\n",
      "[1] \"inist.serdi\"\n",
      "[1] 10.14283/\n",
      "379 Levels: 10.11577/ 10.11586/ 10.11588/ 10.1184/ 10.12682/ ... 10.7945/\n"
     ]
    },
    {
     "name": "stderr",
     "output_type": "stream",
     "text": [
      "Warning message in mutate_impl(.data, dots):\n",
      "“binding character and factor vector, coercing into character vector”"
     ]
    },
    {
     "name": "stdout",
     "output_type": "stream",
     "text": [
      "[1] \"DataCite\"\n",
      "[1] 10.17190/\n",
      "379 Levels: 10.11577/ 10.11586/ 10.11588/ 10.1184/ 10.12682/ ... 10.7945/\n",
      "[1] \"osti.amerflux\"\n",
      "[1] 10.17190/\n",
      "379 Levels: 10.11577/ 10.11586/ 10.11588/ 10.1184/ 10.12682/ ... 10.7945/\n"
     ]
    },
    {
     "name": "stderr",
     "output_type": "stream",
     "text": [
      "Warning message in mutate_impl(.data, dots):\n",
      "“binding character and factor vector, coercing into character vector”"
     ]
    },
    {
     "name": "stdout",
     "output_type": "stream",
     "text": [
      "[1] \"DataCite\"\n",
      "[1] 10.7269/\n",
      "379 Levels: 10.11577/ 10.11586/ 10.11588/ 10.1184/ 10.12682/ ... 10.7945/\n",
      "[1] 10.7269/\n",
      "379 Levels: 10.11577/ 10.11586/ 10.11588/ 10.1184/ 10.12682/ ... 10.7945/\n"
     ]
    },
    {
     "name": "stderr",
     "output_type": "stream",
     "text": [
      "Warning message in mutate_impl(.data, dots):\n",
      "“binding character and factor vector, coercing into character vector”"
     ]
    },
    {
     "name": "stdout",
     "output_type": "stream",
     "text": [
      "[1] \"DataCite\"\n",
      "[1] 10.13099/\n",
      "379 Levels: 10.11577/ 10.11586/ 10.11588/ 10.1184/ 10.12682/ ... 10.7945/\n",
      "[1] \"ethz.itis\"\n",
      "[1] 10.13099/\n",
      "379 Levels: 10.11577/ 10.11586/ 10.11588/ 10.1184/ 10.12682/ ... 10.7945/\n"
     ]
    },
    {
     "name": "stderr",
     "output_type": "stream",
     "text": [
      "Warning message in mutate_impl(.data, dots):\n",
      "“binding character and factor vector, coercing into character vector”"
     ]
    },
    {
     "name": "stdout",
     "output_type": "stream",
     "text": [
      "[1] \"DataCite\"\n",
      "[1] 10.5684/\n",
      "379 Levels: 10.11577/ 10.11586/ 10.11588/ 10.1184/ 10.12682/ ... 10.7945/\n",
      "[1] \"gesis.soep\"\n",
      "[1] 10.5684/\n",
      "379 Levels: 10.11577/ 10.11586/ 10.11588/ 10.1184/ 10.12682/ ... 10.7945/\n"
     ]
    },
    {
     "name": "stderr",
     "output_type": "stream",
     "text": [
      "Warning message in mutate_impl(.data, dots):\n",
      "“binding character and factor vector, coercing into character vector”"
     ]
    },
    {
     "name": "stdout",
     "output_type": "stream",
     "text": [
      "[1] \"DataCite\"\n",
      "[1] 10.5445/\n",
      "379 Levels: 10.11577/ 10.11586/ 10.11588/ 10.1184/ 10.12682/ ... 10.7945/\n",
      "[1] \"tib.kit\"\n",
      "[1] 10.5445/\n",
      "379 Levels: 10.11577/ 10.11586/ 10.11588/ 10.1184/ 10.12682/ ... 10.7945/\n"
     ]
    },
    {
     "name": "stderr",
     "output_type": "stream",
     "text": [
      "Warning message in mutate_impl(.data, dots):\n",
      "“binding character and factor vector, coercing into character vector”"
     ]
    },
    {
     "name": "stdout",
     "output_type": "stream",
     "text": [
      "[1] \"DataCite\"\n",
      "[1] 10.14469/\n",
      "379 Levels: 10.11577/ 10.11586/ 10.11588/ 10.1184/ 10.12682/ ... 10.7945/\n",
      "[1] \"bl.imperial\"\n",
      "[1] 10.14469/\n",
      "379 Levels: 10.11577/ 10.11586/ 10.11588/ 10.1184/ 10.12682/ ... 10.7945/\n"
     ]
    },
    {
     "name": "stderr",
     "output_type": "stream",
     "text": [
      "Warning message in mutate_impl(.data, dots):\n",
      "“binding character and factor vector, coercing into character vector”"
     ]
    },
    {
     "name": "stdout",
     "output_type": "stream",
     "text": [
      "[1] \"DataCite\"\n",
      "[1] 10.7907/\n",
      "379 Levels: 10.11577/ 10.11586/ 10.11588/ 10.1184/ 10.12682/ ... 10.7945/\n",
      "[1] \"cdl.caltech\"\n",
      "[1] 10.7907/\n",
      "379 Levels: 10.11577/ 10.11586/ 10.11588/ 10.1184/ 10.12682/ ... 10.7945/\n"
     ]
    },
    {
     "name": "stderr",
     "output_type": "stream",
     "text": [
      "Warning message in mutate_impl(.data, dots):\n",
      "“binding character and factor vector, coercing into character vector”"
     ]
    },
    {
     "name": "stdout",
     "output_type": "stream",
     "text": [
      "[1] \"DataCite\"\n",
      "[1] 10.21420/\n",
      "379 Levels: 10.11577/ 10.11586/ 10.11588/ 10.1184/ 10.12682/ ... 10.7945/\n",
      "[1] \"cdl.gns\"\n",
      "[1] 10.21420/\n",
      "379 Levels: 10.11577/ 10.11586/ 10.11588/ 10.1184/ 10.12682/ ... 10.7945/\n"
     ]
    },
    {
     "name": "stderr",
     "output_type": "stream",
     "text": [
      "Warning message in mutate_impl(.data, dots):\n",
      "“binding character and factor vector, coercing into character vector”"
     ]
    },
    {
     "name": "stdout",
     "output_type": "stream",
     "text": [
      "[1] \"DataCite\"\n",
      "[1] 10.7274/\n",
      "379 Levels: 10.11577/ 10.11586/ 10.11588/ 10.1184/ 10.12682/ ... 10.7945/\n",
      "[1] \"purdue.und\"\n",
      "[1] 10.7274/\n",
      "379 Levels: 10.11577/ 10.11586/ 10.11588/ 10.1184/ 10.12682/ ... 10.7945/\n"
     ]
    },
    {
     "name": "stderr",
     "output_type": "stream",
     "text": [
      "Warning message in mutate_impl(.data, dots):\n",
      "“binding character and factor vector, coercing into character vector”"
     ]
    },
    {
     "name": "stdout",
     "output_type": "stream",
     "text": [
      "[1] \"DataCite\"\n",
      "[1] 10.7932/\n",
      "379 Levels: 10.11577/ 10.11586/ 10.11588/ 10.1184/ 10.12682/ ... 10.7945/\n",
      "[1] \"cdl.bsl\"\n",
      "[1] 10.7932/\n",
      "379 Levels: 10.11577/ 10.11586/ 10.11588/ 10.1184/ 10.12682/ ... 10.7945/\n"
     ]
    },
    {
     "name": "stderr",
     "output_type": "stream",
     "text": [
      "Warning message in mutate_impl(.data, dots):\n",
      "“binding character and factor vector, coercing into character vector”"
     ]
    },
    {
     "name": "stdout",
     "output_type": "stream",
     "text": [
      "[1] \"DataCite\"\n",
      "[1] 10.18429/\n",
      "379 Levels: 10.11577/ 10.11586/ 10.11588/ 10.1184/ 10.12682/ ... 10.7945/\n",
      "[1] \"cern.jacow\"\n",
      "[1] 10.18429/\n",
      "379 Levels: 10.11577/ 10.11586/ 10.11588/ 10.1184/ 10.12682/ ... 10.7945/\n"
     ]
    },
    {
     "name": "stderr",
     "output_type": "stream",
     "text": [
      "Warning message in mutate_impl(.data, dots):\n",
      "“binding character and factor vector, coercing into character vector”"
     ]
    },
    {
     "name": "stdout",
     "output_type": "stream",
     "text": [
      "[1] \"DataCite\"\n",
      "[1] 10.5441/\n",
      "379 Levels: 10.11577/ 10.11586/ 10.11588/ 10.1184/ 10.12682/ ... 10.7945/\n",
      "[1] \"tib.ukon\"\n",
      "[1] 10.5441/\n",
      "379 Levels: 10.11577/ 10.11586/ 10.11588/ 10.1184/ 10.12682/ ... 10.7945/\n"
     ]
    },
    {
     "name": "stderr",
     "output_type": "stream",
     "text": [
      "Warning message in mutate_impl(.data, dots):\n",
      "“binding character and factor vector, coercing into character vector”"
     ]
    },
    {
     "name": "stdout",
     "output_type": "stream",
     "text": [
      "[1] \"DataCite\"\n",
      "[1] 10.15482/\n",
      "379 Levels: 10.11577/ 10.11586/ 10.11588/ 10.1184/ 10.12682/ ... 10.7945/\n",
      "[1] \"osti.usdaadc\"\n",
      "[1] 10.15482/\n",
      "379 Levels: 10.11577/ 10.11586/ 10.11588/ 10.1184/ 10.12682/ ... 10.7945/\n"
     ]
    },
    {
     "name": "stderr",
     "output_type": "stream",
     "text": [
      "Warning message in mutate_impl(.data, dots):\n",
      "“binding character and factor vector, coercing into character vector”"
     ]
    },
    {
     "name": "stdout",
     "output_type": "stream",
     "text": [
      "[1] \"DataCite\"\n",
      "[1] 10.7909/\n",
      "379 Levels: 10.11577/ 10.11586/ 10.11588/ 10.1184/ 10.12682/ ... 10.7945/\n",
      "[1] \"cdl.seismola\"\n",
      "[1] 10.7909/\n",
      "379 Levels: 10.11577/ 10.11586/ 10.11588/ 10.1184/ 10.12682/ ... 10.7945/\n"
     ]
    },
    {
     "name": "stderr",
     "output_type": "stream",
     "text": [
      "Warning message in mutate_impl(.data, dots):\n",
      "“binding character and factor vector, coercing into character vector”"
     ]
    },
    {
     "name": "stdout",
     "output_type": "stream",
     "text": [
      "[1] \"DataCite\"\n",
      "[1] 10.7945/\n",
      "379 Levels: 10.11577/ 10.11586/ 10.11588/ 10.1184/ 10.12682/ ... 10.7945/\n",
      "[1] \"cdl.cin\"\n",
      "[1] 10.7945/\n",
      "379 Levels: 10.11577/ 10.11586/ 10.11588/ 10.1184/ 10.12682/ ... 10.7945/\n"
     ]
    },
    {
     "name": "stderr",
     "output_type": "stream",
     "text": [
      "Warning message in mutate_impl(.data, dots):\n",
      "“binding character and factor vector, coercing into character vector”"
     ]
    },
    {
     "name": "stdout",
     "output_type": "stream",
     "text": [
      "[1] \"DataCite\"\n",
      "[1] 10.18419/\n",
      "379 Levels: 10.11577/ 10.11586/ 10.11588/ 10.1184/ 10.12682/ ... 10.7945/\n",
      "[1] \"tib.ubs\"\n",
      "[1] 10.18419/\n",
      "379 Levels: 10.11577/ 10.11586/ 10.11588/ 10.1184/ 10.12682/ ... 10.7945/\n"
     ]
    },
    {
     "name": "stderr",
     "output_type": "stream",
     "text": [
      "Warning message in mutate_impl(.data, dots):\n",
      "“binding character and factor vector, coercing into character vector”"
     ]
    },
    {
     "name": "stdout",
     "output_type": "stream",
     "text": [
      "[1] \"DataCite\"\n",
      "[1] 10.5525/\n",
      "379 Levels: 10.11577/ 10.11586/ 10.11588/ 10.1184/ 10.12682/ ... 10.7945/\n",
      "[1] \"bl.glasgow\"\n",
      "[1] 10.5525/\n",
      "379 Levels: 10.11577/ 10.11586/ 10.11588/ 10.1184/ 10.12682/ ... 10.7945/\n"
     ]
    },
    {
     "name": "stderr",
     "output_type": "stream",
     "text": [
      "Warning message in mutate_impl(.data, dots):\n",
      "“binding character and factor vector, coercing into character vector”"
     ]
    },
    {
     "name": "stdout",
     "output_type": "stream",
     "text": [
      "[1] \"DataCite\"\n",
      "[1] 10.13137/\n",
      "379 Levels: 10.11577/ 10.11586/ 10.11588/ 10.1184/ 10.12682/ ... 10.7945/\n",
      "[1] \"crui.units\"\n",
      "[1] 10.13137/\n",
      "379 Levels: 10.11577/ 10.11586/ 10.11588/ 10.1184/ 10.12682/ ... 10.7945/\n"
     ]
    },
    {
     "name": "stderr",
     "output_type": "stream",
     "text": [
      "Warning message in mutate_impl(.data, dots):\n",
      "“binding character and factor vector, coercing into character vector”"
     ]
    },
    {
     "name": "stdout",
     "output_type": "stream",
     "text": [
      "[1] \"DataCite\"\n",
      "[1] 10.21426/\n",
      "379 Levels: 10.11577/ 10.11586/ 10.11588/ 10.1184/ 10.12682/ ... 10.7945/\n",
      "[1] \"cdl.ucm\"\n",
      "[1] 10.21426/\n",
      "379 Levels: 10.11577/ 10.11586/ 10.11588/ 10.1184/ 10.12682/ ... 10.7945/\n"
     ]
    },
    {
     "name": "stderr",
     "output_type": "stream",
     "text": [
      "Warning message in mutate_impl(.data, dots):\n",
      "“binding character and factor vector, coercing into character vector”"
     ]
    },
    {
     "name": "stdout",
     "output_type": "stream",
     "text": [
      "[1] \"DataCite\"\n",
      "[1] 10.5517/\n",
      "379 Levels: 10.11577/ 10.11586/ 10.11588/ 10.1184/ 10.12682/ ... 10.7945/\n",
      "[1] \"bl.ccdc\"\n",
      "[1] 10.5517/\n",
      "379 Levels: 10.11577/ 10.11586/ 10.11588/ 10.1184/ 10.12682/ ... 10.7945/\n"
     ]
    },
    {
     "name": "stderr",
     "output_type": "stream",
     "text": [
      "Warning message in mutate_impl(.data, dots):\n",
      "“binding character and factor vector, coercing into character vector”"
     ]
    },
    {
     "name": "stdout",
     "output_type": "stream",
     "text": [
      "[1] \"DataCite\"\n",
      "[1] 10.18435/\n",
      "379 Levels: 10.11577/ 10.11586/ 10.11588/ 10.1184/ 10.12682/ ... 10.7945/\n",
      "[1] 10.18435/\n",
      "379 Levels: 10.11577/ 10.11586/ 10.11588/ 10.1184/ 10.12682/ ... 10.7945/\n"
     ]
    },
    {
     "name": "stderr",
     "output_type": "stream",
     "text": [
      "Warning message in mutate_impl(.data, dots):\n",
      "“binding character and factor vector, coercing into character vector”"
     ]
    },
    {
     "name": "stdout",
     "output_type": "stream",
     "text": [
      "[1] \"DataCite\"\n",
      "[1] 10.17628/\n",
      "379 Levels: 10.11577/ 10.11586/ 10.11588/ 10.1184/ 10.12682/ ... 10.7945/\n",
      "[1] \"mtakik.ecb\"\n",
      "[1] 10.17628/\n",
      "379 Levels: 10.11577/ 10.11586/ 10.11588/ 10.1184/ 10.12682/ ... 10.7945/\n"
     ]
    },
    {
     "name": "stderr",
     "output_type": "stream",
     "text": [
      "Warning message in mutate_impl(.data, dots):\n",
      "“binding character and factor vector, coercing into character vector”"
     ]
    },
    {
     "name": "stdout",
     "output_type": "stream",
     "text": [
      "[1] \"DataCite\"\n",
      "[1] 10.13127/\n",
      "379 Levels: 10.11577/ 10.11586/ 10.11588/ 10.1184/ 10.12682/ ... 10.7945/\n",
      "[1] \"crui.ingv\"\n",
      "[1] 10.13127/\n",
      "379 Levels: 10.11577/ 10.11586/ 10.11588/ 10.1184/ 10.12682/ ... 10.7945/\n"
     ]
    },
    {
     "name": "stderr",
     "output_type": "stream",
     "text": [
      "Warning message in mutate_impl(.data, dots):\n",
      "“binding character and factor vector, coercing into character vector”"
     ]
    },
    {
     "name": "stdout",
     "output_type": "stream",
     "text": [
      "[1] \"DataCite\"\n",
      "[1] 10.5523/\n",
      "379 Levels: 10.11577/ 10.11586/ 10.11588/ 10.1184/ 10.12682/ ... 10.7945/\n",
      "[1] \"bl.bristol\"\n",
      "[1] 10.5523/\n",
      "379 Levels: 10.11577/ 10.11586/ 10.11588/ 10.1184/ 10.12682/ ... 10.7945/\n"
     ]
    },
    {
     "name": "stderr",
     "output_type": "stream",
     "text": [
      "Warning message in mutate_impl(.data, dots):\n",
      "“binding character and factor vector, coercing into character vector”"
     ]
    },
    {
     "name": "stdout",
     "output_type": "stream",
     "text": [
      "[1] \"DataCite\"\n",
      "[1] 10.14456/\n",
      "379 Levels: 10.11577/ 10.11586/ 10.11588/ 10.1184/ 10.12682/ ... 10.7945/\n",
      "[1] \"nrct.db1\"\n",
      "[1] 10.14456/\n",
      "379 Levels: 10.11577/ 10.11586/ 10.11588/ 10.1184/ 10.12682/ ... 10.7945/\n"
     ]
    },
    {
     "name": "stderr",
     "output_type": "stream",
     "text": [
      "Warning message in mutate_impl(.data, dots):\n",
      "“binding character and factor vector, coercing into character vector”"
     ]
    },
    {
     "name": "stdout",
     "output_type": "stream",
     "text": [
      "[1] \"DataCite\"\n",
      "[1] 10.5291/\n",
      "379 Levels: 10.11577/ 10.11586/ 10.11588/ 10.1184/ 10.12682/ ... 10.7945/\n",
      "[1] \"inist.ill\"\n",
      "[1] 10.5291/\n",
      "379 Levels: 10.11577/ 10.11586/ 10.11588/ 10.1184/ 10.12682/ ... 10.7945/\n"
     ]
    },
    {
     "name": "stderr",
     "output_type": "stream",
     "text": [
      "Warning message in mutate_impl(.data, dots):\n",
      "“binding character and factor vector, coercing into character vector”"
     ]
    },
    {
     "name": "stdout",
     "output_type": "stream",
     "text": [
      "[1] \"DataCite\"\n",
      "[1] 10.13117/\n",
      "379 Levels: 10.11577/ 10.11586/ 10.11588/ 10.1184/ 10.12682/ ... 10.7945/\n",
      "[1] \"crui.gem\"\n",
      "[1] 10.13117/\n",
      "379 Levels: 10.11577/ 10.11586/ 10.11588/ 10.1184/ 10.12682/ ... 10.7945/\n"
     ]
    },
    {
     "name": "stderr",
     "output_type": "stream",
     "text": [
      "Warning message in mutate_impl(.data, dots):\n",
      "“binding character and factor vector, coercing into character vector”"
     ]
    },
    {
     "name": "stdout",
     "output_type": "stream",
     "text": [
      "[1] \"DataCite\"\n",
      "[1] 10.18118/\n",
      "379 Levels: 10.11577/ 10.11586/ 10.11588/ 10.1184/ 10.12682/ ... 10.7945/\n",
      "[1] \"cdl.geer\"\n",
      "[1] 10.18118/\n",
      "379 Levels: 10.11577/ 10.11586/ 10.11588/ 10.1184/ 10.12682/ ... 10.7945/\n"
     ]
    },
    {
     "name": "stderr",
     "output_type": "stream",
     "text": [
      "Warning message in mutate_impl(.data, dots):\n",
      "“binding character and factor vector, coercing into character vector”"
     ]
    },
    {
     "name": "stdout",
     "output_type": "stream",
     "text": [
      "[1] \"DataCite\"\n",
      "[1] 10.4225/\n",
      "379 Levels: 10.11577/ 10.11586/ 10.11588/ 10.1184/ 10.12682/ ... 10.7945/\n",
      "[1] \"ands.centre57\"\n",
      "[1] 10.4225/\n",
      "379 Levels: 10.11577/ 10.11586/ 10.11588/ 10.1184/ 10.12682/ ... 10.7945/\n"
     ]
    },
    {
     "name": "stderr",
     "output_type": "stream",
     "text": [
      "Warning message in mutate_impl(.data, dots):\n",
      "“binding character and factor vector, coercing into character vector”"
     ]
    },
    {
     "name": "stdout",
     "output_type": "stream",
     "text": [
      "[1] \"DataCite\"\n",
      "[1] 10.5518/\n",
      "379 Levels: 10.11577/ 10.11586/ 10.11588/ 10.1184/ 10.12682/ ... 10.7945/\n",
      "[1] \"bl.leeds\"\n",
      "[1] 10.5518/\n",
      "379 Levels: 10.11577/ 10.11586/ 10.11588/ 10.1184/ 10.12682/ ... 10.7945/\n"
     ]
    },
    {
     "name": "stderr",
     "output_type": "stream",
     "text": [
      "Warning message in mutate_impl(.data, dots):\n",
      "“binding character and factor vector, coercing into character vector”"
     ]
    },
    {
     "name": "stdout",
     "output_type": "stream",
     "text": [
      "[1] \"DataCite\"\n",
      "[1] 10.15468/\n",
      "379 Levels: 10.11577/ 10.11586/ 10.11588/ 10.1184/ 10.12682/ ... 10.7945/\n",
      "[1] \"dk.gbif\"\n",
      "[1] 10.15468/\n",
      "379 Levels: 10.11577/ 10.11586/ 10.11588/ 10.1184/ 10.12682/ ... 10.7945/\n"
     ]
    },
    {
     "name": "stderr",
     "output_type": "stream",
     "text": [
      "Warning message in mutate_impl(.data, dots):\n",
      "“binding character and factor vector, coercing into character vector”"
     ]
    },
    {
     "name": "stdout",
     "output_type": "stream",
     "text": [
      "[1] \"DataCite\"\n",
      "[1] 10.7294/\n",
      "379 Levels: 10.11577/ 10.11586/ 10.11588/ 10.1184/ 10.12682/ ... 10.7945/\n",
      "[1] \"cdl.vtlib\"\n",
      "[1] 10.7294/\n",
      "379 Levels: 10.11577/ 10.11586/ 10.11588/ 10.1184/ 10.12682/ ... 10.7945/\n"
     ]
    },
    {
     "name": "stderr",
     "output_type": "stream",
     "text": [
      "Warning message in mutate_impl(.data, dots):\n",
      "“binding character and factor vector, coercing into character vector”"
     ]
    },
    {
     "name": "stdout",
     "output_type": "stream",
     "text": [
      "[1] \"DataCite\"\n",
      "[1] 10.13026/\n",
      "379 Levels: 10.11577/ 10.11586/ 10.11588/ 10.1184/ 10.12682/ ... 10.7945/\n",
      "[1] \"cdl.mitlcp\"\n",
      "[1] 10.13026/\n",
      "379 Levels: 10.11577/ 10.11586/ 10.11588/ 10.1184/ 10.12682/ ... 10.7945/\n"
     ]
    },
    {
     "name": "stderr",
     "output_type": "stream",
     "text": [
      "Warning message in mutate_impl(.data, dots):\n",
      "“binding character and factor vector, coercing into character vector”"
     ]
    },
    {
     "name": "stdout",
     "output_type": "stream",
     "text": [
      "[1] \"DataCite\"\n",
      "[1] 10.18461/\n",
      "379 Levels: 10.11577/ 10.11586/ 10.11588/ 10.1184/ 10.12682/ ... 10.7945/\n",
      "[1] \"zbmed.ijsfd\"\n",
      "[1] 10.18461/\n",
      "379 Levels: 10.11577/ 10.11586/ 10.11588/ 10.1184/ 10.12682/ ... 10.7945/\n"
     ]
    },
    {
     "name": "stderr",
     "output_type": "stream",
     "text": [
      "Warning message in mutate_impl(.data, dots):\n",
      "“binding character and factor vector, coercing into character vector”"
     ]
    },
    {
     "name": "stdout",
     "output_type": "stream",
     "text": [
      "[1] \"DataCite\"\n",
      "[1] 10.15779/\n",
      "379 Levels: 10.11577/ 10.11586/ 10.11588/ 10.1184/ 10.12682/ ... 10.7945/\n",
      "[1] \"cdl.ucblawlb\"\n",
      "[1] 10.15779/\n",
      "379 Levels: 10.11577/ 10.11586/ 10.11588/ 10.1184/ 10.12682/ ... 10.7945/\n"
     ]
    },
    {
     "name": "stderr",
     "output_type": "stream",
     "text": [
      "Warning message in mutate_impl(.data, dots):\n",
      "“binding character and factor vector, coercing into character vector”"
     ]
    },
    {
     "name": "stdout",
     "output_type": "stream",
     "text": [
      "[1] \"DataCite\"\n",
      "[1] 10.7937/\n",
      "379 Levels: 10.11577/ 10.11586/ 10.11588/ 10.1184/ 10.12682/ ... 10.7945/\n",
      "[1] \"cdl.tcia\"\n",
      "[1] 10.7937/\n",
      "379 Levels: 10.11577/ 10.11586/ 10.11588/ 10.1184/ 10.12682/ ... 10.7945/\n"
     ]
    },
    {
     "name": "stderr",
     "output_type": "stream",
     "text": [
      "Warning message in mutate_impl(.data, dots):\n",
      "“binding character and factor vector, coercing into character vector”"
     ]
    },
    {
     "name": "stdout",
     "output_type": "stream",
     "text": [
      "[1] \"DataCite\"\n",
      "[1] 10.1184/\n",
      "379 Levels: 10.11577/ 10.11586/ 10.11588/ 10.1184/ 10.12682/ ... 10.7945/\n",
      "[1] \"cdl.cmu\"\n",
      "[1] 10.1184/\n",
      "379 Levels: 10.11577/ 10.11586/ 10.11588/ 10.1184/ 10.12682/ ... 10.7945/\n"
     ]
    },
    {
     "name": "stderr",
     "output_type": "stream",
     "text": [
      "Warning message in mutate_impl(.data, dots):\n",
      "“binding character and factor vector, coercing into character vector”"
     ]
    },
    {
     "name": "stdout",
     "output_type": "stream",
     "text": [
      "[1] \"DataCite\"\n",
      "[1] 10.15781/\n",
      "379 Levels: 10.11577/ 10.11586/ 10.11588/ 10.1184/ 10.12682/ ... 10.7945/\n",
      "[1] \"cdl.utaustin\"\n",
      "[1] 10.15781/\n",
      "379 Levels: 10.11577/ 10.11586/ 10.11588/ 10.1184/ 10.12682/ ... 10.7945/\n"
     ]
    },
    {
     "name": "stderr",
     "output_type": "stream",
     "text": [
      "Warning message in mutate_impl(.data, dots):\n",
      "“binding character and factor vector, coercing into character vector”"
     ]
    },
    {
     "name": "stdout",
     "output_type": "stream",
     "text": [
      "[1] \"DataCite\"\n",
      "[1] 10.3931/\n",
      "379 Levels: 10.11577/ 10.11586/ 10.11588/ 10.1184/ 10.12682/ ... 10.7945/\n",
      "[1] \"ethz.e-rara\"\n",
      "[1] 10.3931/\n",
      "379 Levels: 10.11577/ 10.11586/ 10.11588/ 10.1184/ 10.12682/ ... 10.7945/\n"
     ]
    },
    {
     "name": "stderr",
     "output_type": "stream",
     "text": [
      "Warning message in mutate_impl(.data, dots):\n",
      "“binding character and factor vector, coercing into character vector”"
     ]
    },
    {
     "name": "stdout",
     "output_type": "stream",
     "text": [
      "[1] \"DataCite\"\n",
      "[1] 10.12686/\n",
      "379 Levels: 10.11577/ 10.11586/ 10.11588/ 10.1184/ 10.12682/ ... 10.7945/\n",
      "[1] \"ethz.sed\"\n",
      "[1] 10.12686/\n",
      "379 Levels: 10.11577/ 10.11586/ 10.11588/ 10.1184/ 10.12682/ ... 10.7945/\n"
     ]
    },
    {
     "name": "stderr",
     "output_type": "stream",
     "text": [
      "Warning message in mutate_impl(.data, dots):\n",
      "“binding character and factor vector, coercing into character vector”"
     ]
    },
    {
     "name": "stdout",
     "output_type": "stream",
     "text": [
      "[1] \"DataCite\"\n",
      "[1] 10.5438/\n",
      "379 Levels: 10.11577/ 10.11586/ 10.11588/ 10.1184/ 10.12682/ ... 10.7945/\n",
      "[1] \"datacite.datacite\"\n",
      "[1] 10.5438/\n",
      "379 Levels: 10.11577/ 10.11586/ 10.11588/ 10.1184/ 10.12682/ ... 10.7945/\n"
     ]
    },
    {
     "name": "stderr",
     "output_type": "stream",
     "text": [
      "Warning message in mutate_impl(.data, dots):\n",
      "“binding character and factor vector, coercing into character vector”"
     ]
    },
    {
     "name": "stdout",
     "output_type": "stream",
     "text": [
      "[1] \"DataCite\"\n",
      "[1] 10.17612/\n",
      "379 Levels: 10.11577/ 10.11586/ 10.11588/ 10.1184/ 10.12682/ ... 10.7945/\n",
      "[1] \"cdl.pgerr\"\n",
      "[1] 10.17612/\n",
      "379 Levels: 10.11577/ 10.11586/ 10.11588/ 10.1184/ 10.12682/ ... 10.7945/\n"
     ]
    },
    {
     "name": "stderr",
     "output_type": "stream",
     "text": [
      "Warning message in mutate_impl(.data, dots):\n",
      "“binding character and factor vector, coercing into character vector”"
     ]
    },
    {
     "name": "stdout",
     "output_type": "stream",
     "text": [
      "[1] \"DataCite\"\n",
      "[1] 10.5283/\n",
      "379 Levels: 10.11577/ 10.11586/ 10.11588/ 10.1184/ 10.12682/ ... 10.7945/\n",
      "[1] \"zbmed.pf\"\n",
      "[1] 10.5283/\n",
      "379 Levels: 10.11577/ 10.11586/ 10.11588/ 10.1184/ 10.12682/ ... 10.7945/\n"
     ]
    },
    {
     "name": "stderr",
     "output_type": "stream",
     "text": [
      "Warning message in mutate_impl(.data, dots):\n",
      "“binding character and factor vector, coercing into character vector”"
     ]
    },
    {
     "name": "stdout",
     "output_type": "stream",
     "text": [
      "[1] \"DataCite\"\n",
      "[1] 10.6080/\n",
      "379 Levels: 10.11577/ 10.11586/ 10.11588/ 10.1184/ 10.12682/ ... 10.7945/\n",
      "[1] \"cdl.ucbcrcns\"\n",
      "[1] 10.6080/\n",
      "379 Levels: 10.11577/ 10.11586/ 10.11588/ 10.1184/ 10.12682/ ... 10.7945/\n"
     ]
    },
    {
     "name": "stderr",
     "output_type": "stream",
     "text": [
      "Warning message in mutate_impl(.data, dots):\n",
      "“binding character and factor vector, coercing into character vector”"
     ]
    },
    {
     "name": "stdout",
     "output_type": "stream",
     "text": [
      "[1] \"DataCite\"\n",
      "[1] 10.14466/\n",
      "379 Levels: 10.11577/ 10.11586/ 10.11588/ 10.1184/ 10.12682/ ... 10.7945/\n",
      "[1] \"bl.cefas\"\n",
      "[1] 10.14466/\n",
      "379 Levels: 10.11577/ 10.11586/ 10.11588/ 10.1184/ 10.12682/ ... 10.7945/\n"
     ]
    },
    {
     "name": "stderr",
     "output_type": "stream",
     "text": [
      "Warning message in mutate_impl(.data, dots):\n",
      "“binding character and factor vector, coercing into character vector”"
     ]
    },
    {
     "name": "stdout",
     "output_type": "stream",
     "text": [
      "[1] \"DataCite\"\n",
      "[1] 10.7264/\n",
      "379 Levels: 10.11577/ 10.11586/ 10.11588/ 10.1184/ 10.12682/ ... 10.7945/\n",
      "[1] \"cdl.uoregon\"\n",
      "[1] 10.7264/\n",
      "379 Levels: 10.11577/ 10.11586/ 10.11588/ 10.1184/ 10.12682/ ... 10.7945/\n"
     ]
    },
    {
     "name": "stderr",
     "output_type": "stream",
     "text": [
      "Warning message in mutate_impl(.data, dots):\n",
      "“binding character and factor vector, coercing into character vector”"
     ]
    },
    {
     "name": "stdout",
     "output_type": "stream",
     "text": [
      "[1] \"DataCite\"\n",
      "[1] 10.15120/\n",
      "379 Levels: 10.11577/ 10.11586/ 10.11588/ 10.1184/ 10.12682/ ... 10.7945/\n",
      "[1] \"tib.gsi\"\n",
      "[1] 10.15120/\n",
      "379 Levels: 10.11577/ 10.11586/ 10.11588/ 10.1184/ 10.12682/ ... 10.7945/\n"
     ]
    },
    {
     "name": "stderr",
     "output_type": "stream",
     "text": [
      "Warning message in mutate_impl(.data, dots):\n",
      "“binding character and factor vector, coercing into character vector”"
     ]
    },
    {
     "name": "stdout",
     "output_type": "stream",
     "text": [
      "[1] \"DataCite\"\n",
      "[1] 10.18725/\n",
      "379 Levels: 10.11577/ 10.11586/ 10.11588/ 10.1184/ 10.12682/ ... 10.7945/\n",
      "[1] \"tib.oparu\"\n",
      "[1] 10.18725/\n",
      "379 Levels: 10.11577/ 10.11586/ 10.11588/ 10.1184/ 10.12682/ ... 10.7945/\n"
     ]
    },
    {
     "name": "stderr",
     "output_type": "stream",
     "text": [
      "Warning message in mutate_impl(.data, dots):\n",
      "“binding character and factor vector, coercing into character vector”"
     ]
    },
    {
     "name": "stdout",
     "output_type": "stream",
     "text": [
      "[1] \"DataCite\"\n",
      "[1] 10.14470/\n",
      "379 Levels: 10.11577/ 10.11586/ 10.11588/ 10.1184/ 10.12682/ ... 10.7945/\n",
      "[1] \"tib.gfz\"\n",
      "[1] 10.14470/\n",
      "379 Levels: 10.11577/ 10.11586/ 10.11588/ 10.1184/ 10.12682/ ... 10.7945/\n"
     ]
    },
    {
     "name": "stderr",
     "output_type": "stream",
     "text": [
      "Warning message in mutate_impl(.data, dots):\n",
      "“binding character and factor vector, coercing into character vector”"
     ]
    },
    {
     "name": "stdout",
     "output_type": "stream",
     "text": [
      "[1] \"DataCite\"\n",
      "[1] 10.15126/\n",
      "379 Levels: 10.11577/ 10.11586/ 10.11588/ 10.1184/ 10.12682/ ... 10.7945/\n",
      "[1] \"bl.surrey\"\n",
      "[1] 10.15126/\n",
      "379 Levels: 10.11577/ 10.11586/ 10.11588/ 10.1184/ 10.12682/ ... 10.7945/\n"
     ]
    },
    {
     "name": "stderr",
     "output_type": "stream",
     "text": [
      "Warning message in mutate_impl(.data, dots):\n",
      "“binding character and factor vector, coercing into character vector”"
     ]
    },
    {
     "name": "stdout",
     "output_type": "stream",
     "text": [
      "[1] \"DataCite\"\n",
      "[1] 10.18157/\n",
      "379 Levels: 10.11577/ 10.11586/ 10.11588/ 10.1184/ 10.12682/ ... 10.7945/\n",
      "[1] \"snd.qog\"\n",
      "[1] 10.18157/\n",
      "379 Levels: 10.11577/ 10.11586/ 10.11588/ 10.1184/ 10.12682/ ... 10.7945/\n"
     ]
    },
    {
     "name": "stderr",
     "output_type": "stream",
     "text": [
      "Warning message in mutate_impl(.data, dots):\n",
      "“binding character and factor vector, coercing into character vector”"
     ]
    },
    {
     "name": "stdout",
     "output_type": "stream",
     "text": [
      "[1] \"DataCite\"\n",
      "[1] 10.14471/\n",
      "379 Levels: 10.11577/ 10.11586/ 10.11588/ 10.1184/ 10.12682/ ... 10.7945/\n",
      "[1] \"zbmed.florsoz\"\n",
      "[1] 10.14471/\n",
      "379 Levels: 10.11577/ 10.11586/ 10.11588/ 10.1184/ 10.12682/ ... 10.7945/\n"
     ]
    },
    {
     "name": "stderr",
     "output_type": "stream",
     "text": [
      "Warning message in mutate_impl(.data, dots):\n",
      "“binding character and factor vector, coercing into character vector”"
     ]
    },
    {
     "name": "stdout",
     "output_type": "stream",
     "text": [
      "[1] \"DataCite\"\n",
      "[1] 10.15167/\n",
      "379 Levels: 10.11577/ 10.11586/ 10.11588/ 10.1184/ 10.12682/ ... 10.7945/\n",
      "[1] \"crui.unige\"\n",
      "[1] 10.15167/\n",
      "379 Levels: 10.11577/ 10.11586/ 10.11588/ 10.1184/ 10.12682/ ... 10.7945/\n"
     ]
    },
    {
     "name": "stderr",
     "output_type": "stream",
     "text": [
      "Warning message in mutate_impl(.data, dots):\n",
      "“binding character and factor vector, coercing into character vector”"
     ]
    },
    {
     "name": "stdout",
     "output_type": "stream",
     "text": [
      "[1] \"DataCite\"\n",
      "[1] 10.7482/\n",
      "379 Levels: 10.11577/ 10.11586/ 10.11588/ 10.1184/ 10.12682/ ... 10.7945/\n",
      "[1] \"zbmed.fbn\"\n",
      "[1] 10.7482/\n",
      "379 Levels: 10.11577/ 10.11586/ 10.11588/ 10.1184/ 10.12682/ ... 10.7945/\n"
     ]
    },
    {
     "name": "stderr",
     "output_type": "stream",
     "text": [
      "Warning message in mutate_impl(.data, dots):\n",
      "“binding character and factor vector, coercing into character vector”"
     ]
    },
    {
     "name": "stdout",
     "output_type": "stream",
     "text": [
      "[1] \"DataCite\"\n",
      "[1] 10.15480/\n",
      "379 Levels: 10.11577/ 10.11586/ 10.11588/ 10.1184/ 10.12682/ ... 10.7945/\n",
      "[1] \"tib.tuhh\"\n",
      "[1] 10.15480/\n",
      "379 Levels: 10.11577/ 10.11586/ 10.11588/ 10.1184/ 10.12682/ ... 10.7945/\n"
     ]
    },
    {
     "name": "stderr",
     "output_type": "stream",
     "text": [
      "Warning message in mutate_impl(.data, dots):\n",
      "“binding character and factor vector, coercing into character vector”"
     ]
    },
    {
     "name": "stdout",
     "output_type": "stream",
     "text": [
      "[1] \"DataCite\"\n",
      "[1] 10.6103/\n",
      "379 Levels: 10.11577/ 10.11586/ 10.11588/ 10.1184/ 10.12682/ ... 10.7945/\n",
      "[1] \"gesis.share\"\n",
      "[1] 10.6103/\n",
      "379 Levels: 10.11577/ 10.11586/ 10.11588/ 10.1184/ 10.12682/ ... 10.7945/\n"
     ]
    },
    {
     "name": "stderr",
     "output_type": "stream",
     "text": [
      "Warning message in mutate_impl(.data, dots):\n",
      "“binding character and factor vector, coercing into character vector”"
     ]
    },
    {
     "name": "stdout",
     "output_type": "stream",
     "text": [
      "[1] \"DataCite\"\n",
      "[1] 10.12767/\n",
      "379 Levels: 10.11577/ 10.11586/ 10.11588/ 10.1184/ 10.12682/ ... 10.7945/\n",
      "[1] \"zbmed.ble\"\n",
      "[1] 10.12767/\n",
      "379 Levels: 10.11577/ 10.11586/ 10.11588/ 10.1184/ 10.12682/ ... 10.7945/\n"
     ]
    },
    {
     "name": "stderr",
     "output_type": "stream",
     "text": [
      "Warning message in mutate_impl(.data, dots):\n",
      "“binding character and factor vector, coercing into character vector”"
     ]
    },
    {
     "name": "stdout",
     "output_type": "stream",
     "text": [
      "[1] \"DataCite\"\n",
      "[1] 10.17882/\n",
      "379 Levels: 10.11577/ 10.11586/ 10.11588/ 10.1184/ 10.12682/ ... 10.7945/\n",
      "[1] \"inist.ifremer\"\n",
      "[1] 10.17882/\n",
      "379 Levels: 10.11577/ 10.11586/ 10.11588/ 10.1184/ 10.12682/ ... 10.7945/\n"
     ]
    },
    {
     "name": "stderr",
     "output_type": "stream",
     "text": [
      "Warning message in mutate_impl(.data, dots):\n",
      "“binding character and factor vector, coercing into character vector”"
     ]
    },
    {
     "name": "stdout",
     "output_type": "stream",
     "text": [
      "[1] \"DataCite\"\n",
      "[1] 10.3285/\n",
      "379 Levels: 10.11577/ 10.11586/ 10.11588/ 10.1184/ 10.12682/ ... 10.7945/\n",
      "[1] \"tib.geozon\"\n",
      "[1] 10.3285/\n",
      "379 Levels: 10.11577/ 10.11586/ 10.11588/ 10.1184/ 10.12682/ ... 10.7945/\n"
     ]
    },
    {
     "name": "stderr",
     "output_type": "stream",
     "text": [
      "Warning message in mutate_impl(.data, dots):\n",
      "“binding character and factor vector, coercing into character vector”"
     ]
    },
    {
     "name": "stdout",
     "output_type": "stream",
     "text": [
      "[1] \"DataCite\"\n",
      "[1] 10.17611/\n",
      "379 Levels: 10.11577/ 10.11586/ 10.11588/ 10.1184/ 10.12682/ ... 10.7945/\n",
      "[1] \"cdl.iris\"\n",
      "[1] 10.17611/\n",
      "379 Levels: 10.11577/ 10.11586/ 10.11588/ 10.1184/ 10.12682/ ... 10.7945/\n"
     ]
    },
    {
     "name": "stderr",
     "output_type": "stream",
     "text": [
      "Warning message in mutate_impl(.data, dots):\n",
      "“binding character and factor vector, coercing into character vector”"
     ]
    },
    {
     "name": "stdout",
     "output_type": "stream",
     "text": [
      "[1] \"DataCite\"\n",
      "[1] 10.13019/\n",
      "379 Levels: 10.11577/ 10.11586/ 10.11588/ 10.1184/ 10.12682/ ... 10.7945/\n",
      "[1] \"purdue.mygeohub\"\n",
      "[1] 10.13019/\n",
      "379 Levels: 10.11577/ 10.11586/ 10.11588/ 10.1184/ 10.12682/ ... 10.7945/\n"
     ]
    },
    {
     "name": "stderr",
     "output_type": "stream",
     "text": [
      "Warning message in mutate_impl(.data, dots):\n",
      "“binding character and factor vector, coercing into character vector”"
     ]
    },
    {
     "name": "stdout",
     "output_type": "stream",
     "text": [
      "[1] \"DataCite\"\n",
      "[1] 10.13155/\n",
      "379 Levels: 10.11577/ 10.11586/ 10.11588/ 10.1184/ 10.12682/ ... 10.7945/\n",
      "[1] \"inist.ifremer\"\n",
      "[1] 10.13155/\n",
      "379 Levels: 10.11577/ 10.11586/ 10.11588/ 10.1184/ 10.12682/ ... 10.7945/\n"
     ]
    },
    {
     "name": "stderr",
     "output_type": "stream",
     "text": [
      "Warning message in mutate_impl(.data, dots):\n",
      "“binding character and factor vector, coercing into character vector”"
     ]
    },
    {
     "name": "stdout",
     "output_type": "stream",
     "text": [
      "[1] \"DataCite\"\n",
      "[1] 10.7281/\n",
      "379 Levels: 10.11577/ 10.11586/ 10.11588/ 10.1184/ 10.12682/ ... 10.7945/\n",
      "[1] \"cdl.jhu\"\n",
      "[1] 10.7281/\n",
      "379 Levels: 10.11577/ 10.11586/ 10.11588/ 10.1184/ 10.12682/ ... 10.7945/\n"
     ]
    },
    {
     "name": "stderr",
     "output_type": "stream",
     "text": [
      "Warning message in mutate_impl(.data, dots):\n",
      "“binding character and factor vector, coercing into character vector”"
     ]
    },
    {
     "name": "stdout",
     "output_type": "stream",
     "text": [
      "[1] \"DataCite\"\n",
      "[1] 10.6069/\n",
      "379 Levels: 10.11577/ 10.11586/ 10.11588/ 10.1184/ 10.12682/ ... 10.7945/\n",
      "[1] \"cdl.uwl\"\n",
      "[1] 10.6069/\n",
      "379 Levels: 10.11577/ 10.11586/ 10.11588/ 10.1184/ 10.12682/ ... 10.7945/\n"
     ]
    },
    {
     "name": "stderr",
     "output_type": "stream",
     "text": [
      "Warning message in mutate_impl(.data, dots):\n",
      "“binding character and factor vector, coercing into character vector”"
     ]
    },
    {
     "name": "stdout",
     "output_type": "stream",
     "text": [
      "[1] \"DataCite\"\n",
      "[1] 10.16904/\n",
      "379 Levels: 10.11577/ 10.11586/ 10.11588/ 10.1184/ 10.12682/ ... 10.7945/\n",
      "[1] \"ethz.wsl\"\n",
      "[1] 10.16904/\n",
      "379 Levels: 10.11577/ 10.11586/ 10.11588/ 10.1184/ 10.12682/ ... 10.7945/\n"
     ]
    },
    {
     "name": "stderr",
     "output_type": "stream",
     "text": [
      "Warning message in mutate_impl(.data, dots):\n",
      "“binding character and factor vector, coercing into character vector”"
     ]
    },
    {
     "name": "stdout",
     "output_type": "stream",
     "text": [
      "[1] \"DataCite\"\n",
      "[1] 10.14284/\n",
      "379 Levels: 10.11577/ 10.11586/ 10.11588/ 10.1184/ 10.12682/ ... 10.7945/\n",
      "[1] \"delft.vliz\"\n",
      "[1] 10.14284/\n",
      "379 Levels: 10.11577/ 10.11586/ 10.11588/ 10.1184/ 10.12682/ ... 10.7945/\n"
     ]
    },
    {
     "name": "stderr",
     "output_type": "stream",
     "text": [
      "Warning message in mutate_impl(.data, dots):\n",
      "“binding character and factor vector, coercing into character vector”"
     ]
    },
    {
     "name": "stdout",
     "output_type": "stream",
     "text": [
      "[1] \"DataCite\"\n",
      "[1] 10.18434/\n",
      "379 Levels: 10.11577/ 10.11586/ 10.11588/ 10.1184/ 10.12682/ ... 10.7945/\n",
      "[1] \"osti.nist\"\n",
      "[1] 10.18434/\n",
      "379 Levels: 10.11577/ 10.11586/ 10.11588/ 10.1184/ 10.12682/ ... 10.7945/\n"
     ]
    },
    {
     "name": "stderr",
     "output_type": "stream",
     "text": [
      "Warning message in mutate_impl(.data, dots):\n",
      "“binding character and factor vector, coercing into character vector”"
     ]
    },
    {
     "name": "stdout",
     "output_type": "stream",
     "text": [
      "[1] \"DataCite\"\n",
      "[1] 10.5063/\n",
      "379 Levels: 10.11577/ 10.11586/ 10.11588/ 10.1184/ 10.12682/ ... 10.7945/\n",
      "[1] \"cdl.nceas\"\n",
      "[1] 10.5063/\n",
      "379 Levels: 10.11577/ 10.11586/ 10.11588/ 10.1184/ 10.12682/ ... 10.7945/\n"
     ]
    },
    {
     "name": "stderr",
     "output_type": "stream",
     "text": [
      "Warning message in mutate_impl(.data, dots):\n",
      "“binding character and factor vector, coercing into character vector”"
     ]
    },
    {
     "name": "stdout",
     "output_type": "stream",
     "text": [
      "[1] \"DataCite\"\n",
      "[1] 10.5887/\n",
      "379 Levels: 10.11577/ 10.11586/ 10.11588/ 10.1184/ 10.12682/ ... 10.7945/\n",
      "[1] \"cisti.ugardr\"\n",
      "[1] 10.5887/\n",
      "379 Levels: 10.11577/ 10.11586/ 10.11588/ 10.1184/ 10.12682/ ... 10.7945/\n"
     ]
    },
    {
     "name": "stderr",
     "output_type": "stream",
     "text": [
      "Warning message in mutate_impl(.data, dots):\n",
      "“binding character and factor vector, coercing into character vector”"
     ]
    },
    {
     "name": "stdout",
     "output_type": "stream",
     "text": [
      "[1] \"DataCite\"\n",
      "[1] 10.7931/\n",
      "379 Levels: 10.11577/ 10.11586/ 10.11588/ 10.1184/ 10.12682/ ... 10.7945/\n",
      "[1] \"cdl.lcrnz\"\n",
      "[1] 10.7931/\n",
      "379 Levels: 10.11577/ 10.11586/ 10.11588/ 10.1184/ 10.12682/ ... 10.7945/\n"
     ]
    },
    {
     "name": "stderr",
     "output_type": "stream",
     "text": [
      "Warning message in mutate_impl(.data, dots):\n",
      "“binding character and factor vector, coercing into character vector”"
     ]
    },
    {
     "name": "stdout",
     "output_type": "stream",
     "text": [
      "[1] \"DataCite\"\n",
      "[1] 10.15124/\n",
      "379 Levels: 10.11577/ 10.11586/ 10.11588/ 10.1184/ 10.12682/ ... 10.7945/\n",
      "[1] \"bl.york\"\n",
      "[1] 10.15124/\n",
      "379 Levels: 10.11577/ 10.11586/ 10.11588/ 10.1184/ 10.12682/ ... 10.7945/\n"
     ]
    },
    {
     "name": "stderr",
     "output_type": "stream",
     "text": [
      "Warning message in mutate_impl(.data, dots):\n",
      "“binding character and factor vector, coercing into character vector”"
     ]
    },
    {
     "name": "stdout",
     "output_type": "stream",
     "text": [
      "[1] \"DataCite\"\n",
      "[1] 10.6075/\n",
      "379 Levels: 10.11577/ 10.11586/ 10.11588/ 10.1184/ 10.12682/ ... 10.7945/\n",
      "[1] \"cdl.rcidc\"\n",
      "[1] 10.6075/\n",
      "379 Levels: 10.11577/ 10.11586/ 10.11588/ 10.1184/ 10.12682/ ... 10.7945/\n"
     ]
    },
    {
     "name": "stderr",
     "output_type": "stream",
     "text": [
      "Warning message in mutate_impl(.data, dots):\n",
      "“binding character and factor vector, coercing into character vector”"
     ]
    },
    {
     "name": "stdout",
     "output_type": "stream",
     "text": [
      "[1] \"DataCite\"\n",
      "[1] 10.5166/\n",
      "379 Levels: 10.11577/ 10.11586/ 10.11588/ 10.1184/ 10.12682/ ... 10.7945/\n",
      "[1] \"ethz.jroi\"\n",
      "[1] 10.5166/\n",
      "379 Levels: 10.11577/ 10.11586/ 10.11588/ 10.1184/ 10.12682/ ... 10.7945/\n"
     ]
    },
    {
     "name": "stderr",
     "output_type": "stream",
     "text": [
      "Warning message in mutate_impl(.data, dots):\n",
      "“binding character and factor vector, coercing into character vector”"
     ]
    },
    {
     "name": "stdout",
     "output_type": "stream",
     "text": [
      "[1] \"DataCite\"\n",
      "[1] 10.12760/\n",
      "379 Levels: 10.11577/ 10.11586/ 10.11588/ 10.1184/ 10.12682/ ... 10.7945/\n",
      "[1] \"tib.earsel\"\n",
      "[1] 10.12760/\n",
      "379 Levels: 10.11577/ 10.11586/ 10.11588/ 10.1184/ 10.12682/ ... 10.7945/\n"
     ]
    },
    {
     "name": "stderr",
     "output_type": "stream",
     "text": [
      "Warning message in mutate_impl(.data, dots):\n",
      "“binding character and factor vector, coercing into character vector”"
     ]
    },
    {
     "name": "stdout",
     "output_type": "stream",
     "text": [
      "[1] \"DataCite\"\n",
      "[1] 10.18154/\n",
      "379 Levels: 10.11577/ 10.11586/ 10.11588/ 10.1184/ 10.12682/ ... 10.7945/\n",
      "[1] \"tib.rwth\"\n",
      "[1] 10.18154/\n",
      "379 Levels: 10.11577/ 10.11586/ 10.11588/ 10.1184/ 10.12682/ ... 10.7945/\n"
     ]
    },
    {
     "name": "stderr",
     "output_type": "stream",
     "text": [
      "Warning message in mutate_impl(.data, dots):\n",
      "“binding character and factor vector, coercing into character vector”"
     ]
    },
    {
     "name": "stdout",
     "output_type": "stream",
     "text": [
      "[1] \"DataCite\"\n",
      "[1] 10.18138/\n",
      "379 Levels: 10.11577/ 10.11586/ 10.11588/ 10.1184/ 10.12682/ ... 10.7945/\n",
      "[1] \"osti.pegasus\"\n",
      "[1] 10.18138/\n",
      "379 Levels: 10.11577/ 10.11586/ 10.11588/ 10.1184/ 10.12682/ ... 10.7945/\n"
     ]
    },
    {
     "name": "stderr",
     "output_type": "stream",
     "text": [
      "Warning message in mutate_impl(.data, dots):\n",
      "“binding character and factor vector, coercing into character vector”"
     ]
    },
    {
     "name": "stdout",
     "output_type": "stream",
     "text": [
      "[1] \"DataCite\"\n",
      "[1] 10.12759/\n",
      "379 Levels: 10.11577/ 10.11586/ 10.11588/ 10.1184/ 10.12682/ ... 10.7945/\n",
      "[1] \"gesis.gesis\"\n",
      "[1] 10.12759/\n",
      "379 Levels: 10.11577/ 10.11586/ 10.11588/ 10.1184/ 10.12682/ ... 10.7945/\n"
     ]
    },
    {
     "name": "stderr",
     "output_type": "stream",
     "text": [
      "Warning message in mutate_impl(.data, dots):\n",
      "“binding character and factor vector, coercing into character vector”"
     ]
    },
    {
     "name": "stdout",
     "output_type": "stream",
     "text": [
      "[1] \"DataCite\"\n",
      "[1] 10.18454/\n",
      "379 Levels: 10.11577/ 10.11586/ 10.11588/ 10.1184/ 10.12682/ ... 10.7945/\n",
      "[1] \"rads.main\"\n",
      "[1] 10.18454/\n",
      "379 Levels: 10.11577/ 10.11586/ 10.11588/ 10.1184/ 10.12682/ ... 10.7945/\n"
     ]
    },
    {
     "name": "stderr",
     "output_type": "stream",
     "text": [
      "Warning message in mutate_impl(.data, dots):\n",
      "“binding character and factor vector, coercing into character vector”"
     ]
    },
    {
     "name": "stdout",
     "output_type": "stream",
     "text": [
      "[1] \"DataCite\"\n",
      "[1] 10.15133/\n",
      "379 Levels: 10.11577/ 10.11586/ 10.11588/ 10.1184/ 10.12682/ ... 10.7945/\n",
      "[1] \"delft.eur\"\n",
      "[1] 10.15133/\n",
      "379 Levels: 10.11577/ 10.11586/ 10.11588/ 10.1184/ 10.12682/ ... 10.7945/\n"
     ]
    },
    {
     "name": "stderr",
     "output_type": "stream",
     "text": [
      "Warning message in mutate_impl(.data, dots):\n",
      "“binding character and factor vector, coercing into character vector”"
     ]
    },
    {
     "name": "stdout",
     "output_type": "stream",
     "text": [
      "[1] \"DataCite\"\n",
      "[1] 10.21415/\n",
      "379 Levels: 10.11577/ 10.11586/ 10.11588/ 10.1184/ 10.12682/ ... 10.7945/\n",
      "[1] \"cdl.talkbank\"\n",
      "[1] 10.21415/\n",
      "379 Levels: 10.11577/ 10.11586/ 10.11588/ 10.1184/ 10.12682/ ... 10.7945/\n"
     ]
    },
    {
     "name": "stderr",
     "output_type": "stream",
     "text": [
      "Warning message in mutate_impl(.data, dots):\n",
      "“binding character and factor vector, coercing into character vector”"
     ]
    },
    {
     "name": "stdout",
     "output_type": "stream",
     "text": [
      "[1] \"DataCite\"\n",
      "[1] 10.13021/\n",
      "379 Levels: 10.11577/ 10.11586/ 10.11588/ 10.1184/ 10.12682/ ... 10.7945/\n",
      "[1] \"cdl.gmu\"\n",
      "[1] 10.13021/\n",
      "379 Levels: 10.11577/ 10.11586/ 10.11588/ 10.1184/ 10.12682/ ... 10.7945/\n"
     ]
    },
    {
     "name": "stderr",
     "output_type": "stream",
     "text": [
      "Warning message in mutate_impl(.data, dots):\n",
      "“binding character and factor vector, coercing into character vector”"
     ]
    },
    {
     "name": "stdout",
     "output_type": "stream",
     "text": [
      "[1] \"DataCite\"\n",
      "[1] 10.14288/\n",
      "379 Levels: 10.11577/ 10.11586/ 10.11588/ 10.1184/ 10.12682/ ... 10.7945/\n",
      "[1] \"cisti.ubc\"\n",
      "[1] 10.14288/\n",
      "379 Levels: 10.11577/ 10.11586/ 10.11588/ 10.1184/ 10.12682/ ... 10.7945/\n"
     ]
    },
    {
     "name": "stderr",
     "output_type": "stream",
     "text": [
      "Warning message in mutate_impl(.data, dots):\n",
      "“binding character and factor vector, coercing into character vector”"
     ]
    },
    {
     "name": "stdout",
     "output_type": "stream",
     "text": [
      "[1] \"Crossref\"\n",
      "[1] 10.21225/\n",
      "379 Levels: 10.11577/ 10.11586/ 10.11588/ 10.1184/ 10.12682/ ... 10.7945/\n"
     ]
    },
    {
     "name": "stderr",
     "output_type": "stream",
     "text": [
      "Warning message in mutate_impl(.data, dots):\n",
      "“binding character and factor vector, coercing into character vector”"
     ]
    },
    {
     "name": "stdout",
     "output_type": "stream",
     "text": [
      "[1] \"DataCite\"\n",
      "[1] 10.7485/\n",
      "379 Levels: 10.11577/ 10.11586/ 10.11588/ 10.1184/ 10.12682/ ... 10.7945/\n",
      "[1] \"tib.hog\"\n",
      "[1] 10.7485/\n",
      "379 Levels: 10.11577/ 10.11586/ 10.11588/ 10.1184/ 10.12682/ ... 10.7945/\n"
     ]
    },
    {
     "name": "stderr",
     "output_type": "stream",
     "text": [
      "Warning message in mutate_impl(.data, dots):\n",
      "“binding character and factor vector, coercing into character vector”"
     ]
    },
    {
     "name": "stdout",
     "output_type": "stream",
     "text": [
      "[1] \"DataCite\"\n",
      "[1] 10.13023/\n",
      "379 Levels: 10.11577/ 10.11586/ 10.11588/ 10.1184/ 10.12682/ ... 10.7945/\n",
      "[1] \"cdl.uky\"\n",
      "[1] 10.13023/\n",
      "379 Levels: 10.11577/ 10.11586/ 10.11588/ 10.1184/ 10.12682/ ... 10.7945/\n"
     ]
    },
    {
     "name": "stderr",
     "output_type": "stream",
     "text": [
      "Warning message in mutate_impl(.data, dots):\n",
      "“binding character and factor vector, coercing into character vector”"
     ]
    },
    {
     "name": "stdout",
     "output_type": "stream",
     "text": [
      "[1] \"DataCite\"\n",
      "[1] 10.22021/\n",
      "379 Levels: 10.11577/ 10.11586/ 10.11588/ 10.1184/ 10.12682/ ... 10.7945/\n",
      "[1] \"bl.metadata\"\n",
      "[1] 10.22021/\n",
      "379 Levels: 10.11577/ 10.11586/ 10.11588/ 10.1184/ 10.12682/ ... 10.7945/\n"
     ]
    },
    {
     "name": "stderr",
     "output_type": "stream",
     "text": [
      "Warning message in mutate_impl(.data, dots):\n",
      "“binding character and factor vector, coercing into character vector”"
     ]
    },
    {
     "name": "stdout",
     "output_type": "stream",
     "text": [
      "[1] \"DataCite\"\n",
      "[1] 10.15141/\n",
      "379 Levels: 10.11577/ 10.11586/ 10.11588/ 10.1184/ 10.12682/ ... 10.7945/\n",
      "[1] \"cdl.ucd-ssds\"\n",
      "[1] 10.15141/\n",
      "379 Levels: 10.11577/ 10.11586/ 10.11588/ 10.1184/ 10.12682/ ... 10.7945/\n"
     ]
    },
    {
     "name": "stderr",
     "output_type": "stream",
     "text": [
      "Warning message in mutate_impl(.data, dots):\n",
      "“binding character and factor vector, coercing into character vector”"
     ]
    },
    {
     "name": "stdout",
     "output_type": "stream",
     "text": [
      "[1] \"DataCite\"\n",
      "[1] 10.18416/\n",
      "379 Levels: 10.11577/ 10.11586/ 10.11588/ 10.1184/ 10.12682/ ... 10.7945/\n",
      "[1] \"tib.insci\"\n",
      "[1] 10.18416/\n",
      "379 Levels: 10.11577/ 10.11586/ 10.11588/ 10.1184/ 10.12682/ ... 10.7945/\n"
     ]
    },
    {
     "name": "stderr",
     "output_type": "stream",
     "text": [
      "Warning message in mutate_impl(.data, dots):\n",
      "“binding character and factor vector, coercing into character vector”"
     ]
    },
    {
     "name": "stdout",
     "output_type": "stream",
     "text": [
      "[1] \"DataCite\"\n",
      "[1] 10.7795/\n",
      "379 Levels: 10.11577/ 10.11586/ 10.11588/ 10.1184/ 10.12682/ ... 10.7945/\n",
      "[1] \"tib.ptb\"\n",
      "[1] 10.7795/\n",
      "379 Levels: 10.11577/ 10.11586/ 10.11588/ 10.1184/ 10.12682/ ... 10.7945/\n"
     ]
    },
    {
     "name": "stderr",
     "output_type": "stream",
     "text": [
      "Warning message in mutate_impl(.data, dots):\n",
      "“binding character and factor vector, coercing into character vector”"
     ]
    },
    {
     "name": "stdout",
     "output_type": "stream",
     "text": [
      "[1] \"DataCite\"\n",
      "[1] 10.17634/\n",
      "379 Levels: 10.11577/ 10.11586/ 10.11588/ 10.1184/ 10.12682/ ... 10.7945/\n",
      "[1] \"bl.ncl\"\n",
      "[1] 10.17634/\n",
      "379 Levels: 10.11577/ 10.11586/ 10.11588/ 10.1184/ 10.12682/ ... 10.7945/\n"
     ]
    },
    {
     "name": "stderr",
     "output_type": "stream",
     "text": [
      "Warning message in mutate_impl(.data, dots):\n",
      "“binding character and factor vector, coercing into character vector”"
     ]
    },
    {
     "name": "stdout",
     "output_type": "stream",
     "text": [
      "[1] \"DataCite\"\n",
      "[1] 10.12762/\n",
      "379 Levels: 10.11577/ 10.11586/ 10.11588/ 10.1184/ 10.12682/ ... 10.7945/\n",
      "[1] \"inist.onera\"\n",
      "[1] 10.12762/\n",
      "379 Levels: 10.11577/ 10.11586/ 10.11588/ 10.1184/ 10.12682/ ... 10.7945/\n"
     ]
    },
    {
     "name": "stderr",
     "output_type": "stream",
     "text": [
      "Warning message in mutate_impl(.data, dots):\n",
      "“binding character and factor vector, coercing into character vector”"
     ]
    },
    {
     "name": "stdout",
     "output_type": "stream",
     "text": [
      "[1] \"DataCite\"\n",
      "[1] 10.17188/\n",
      "379 Levels: 10.11577/ 10.11586/ 10.11588/ 10.1184/ 10.12682/ ... 10.7945/\n",
      "[1] \"osti.lbnlmp\"\n",
      "[1] 10.17188/\n",
      "379 Levels: 10.11577/ 10.11586/ 10.11588/ 10.1184/ 10.12682/ ... 10.7945/\n"
     ]
    },
    {
     "name": "stderr",
     "output_type": "stream",
     "text": [
      "Warning message in mutate_impl(.data, dots):\n",
      "“binding character and factor vector, coercing into character vector”"
     ]
    },
    {
     "name": "stdout",
     "output_type": "stream",
     "text": [
      "[1] \"DataCite\"\n",
      "[1] 10.17630/\n",
      "379 Levels: 10.11577/ 10.11586/ 10.11588/ 10.1184/ 10.12682/ ... 10.7945/\n",
      "[1] \"bl.standrew\"\n",
      "[1] 10.17630/\n",
      "379 Levels: 10.11577/ 10.11586/ 10.11588/ 10.1184/ 10.12682/ ... 10.7945/\n"
     ]
    },
    {
     "name": "stderr",
     "output_type": "stream",
     "text": [
      "Warning message in mutate_impl(.data, dots):\n",
      "“binding character and factor vector, coercing into character vector”"
     ]
    },
    {
     "name": "stdout",
     "output_type": "stream",
     "text": [
      "[1] \"DataCite\"\n",
      "[1] 10.17861/\n",
      "379 Levels: 10.11577/ 10.11586/ 10.11588/ 10.1184/ 10.12682/ ... 10.7945/\n",
      "[1] \"bl.hwu\"\n",
      "[1] 10.17861/\n",
      "379 Levels: 10.11577/ 10.11586/ 10.11588/ 10.1184/ 10.12682/ ... 10.7945/\n"
     ]
    },
    {
     "name": "stderr",
     "output_type": "stream",
     "text": [
      "Warning message in mutate_impl(.data, dots):\n",
      "“binding character and factor vector, coercing into character vector”"
     ]
    },
    {
     "name": "stdout",
     "output_type": "stream",
     "text": [
      "[1] \"DataCite\"\n",
      "[1] 10.15128/\n",
      "379 Levels: 10.11577/ 10.11586/ 10.11588/ 10.1184/ 10.12682/ ... 10.7945/\n",
      "[1] \"bl.durham\"\n",
      "[1] 10.15128/\n",
      "379 Levels: 10.11577/ 10.11586/ 10.11588/ 10.1184/ 10.12682/ ... 10.7945/\n"
     ]
    },
    {
     "name": "stderr",
     "output_type": "stream",
     "text": [
      "Warning message in mutate_impl(.data, dots):\n",
      "“binding character and factor vector, coercing into character vector”"
     ]
    },
    {
     "name": "stdout",
     "output_type": "stream",
     "text": [
      "[1] \"DataCite\"\n",
      "[1] 10.17638/\n",
      "379 Levels: 10.11577/ 10.11586/ 10.11588/ 10.1184/ 10.12682/ ... 10.7945/\n",
      "[1] \"bl.lpool\"\n",
      "[1] 10.17638/\n",
      "379 Levels: 10.11577/ 10.11586/ 10.11588/ 10.1184/ 10.12682/ ... 10.7945/\n"
     ]
    },
    {
     "name": "stderr",
     "output_type": "stream",
     "text": [
      "Warning message in mutate_impl(.data, dots):\n",
      "“binding character and factor vector, coercing into character vector”"
     ]
    },
    {
     "name": "stdout",
     "output_type": "stream",
     "text": [
      "[1] \"DataCite\"\n",
      "[1] 10.2313/\n",
      "379 Levels: 10.11577/ 10.11586/ 10.11588/ 10.1184/ 10.12682/ ... 10.7945/\n",
      "[1] \"tib.tum\"\n",
      "[1] 10.2313/\n",
      "379 Levels: 10.11577/ 10.11586/ 10.11588/ 10.1184/ 10.12682/ ... 10.7945/\n"
     ]
    },
    {
     "name": "stderr",
     "output_type": "stream",
     "text": [
      "Warning message in mutate_impl(.data, dots):\n",
      "“binding character and factor vector, coercing into character vector”"
     ]
    },
    {
     "name": "stdout",
     "output_type": "stream",
     "text": [
      "[1] \"DataCite\"\n",
      "[1] 10.15161/\n",
      "379 Levels: 10.11577/ 10.11586/ 10.11588/ 10.1184/ 10.12682/ ... 10.7945/\n",
      "[1] \"crui.infncnaf\"\n",
      "[1] 10.15161/\n",
      "379 Levels: 10.11577/ 10.11586/ 10.11588/ 10.1184/ 10.12682/ ... 10.7945/\n"
     ]
    },
    {
     "name": "stderr",
     "output_type": "stream",
     "text": [
      "Warning message in mutate_impl(.data, dots):\n",
      "“binding character and factor vector, coercing into character vector”"
     ]
    },
    {
     "name": "stdout",
     "output_type": "stream",
     "text": [
      "[1] \"DataCite\"\n",
      "[1] 10.4224/\n",
      "379 Levels: 10.11577/ 10.11586/ 10.11588/ 10.1184/ 10.12682/ ... 10.7945/\n",
      "[1] \"cisti.nrc\"\n",
      "[1] 10.4224/\n",
      "379 Levels: 10.11577/ 10.11586/ 10.11588/ 10.1184/ 10.12682/ ... 10.7945/\n"
     ]
    },
    {
     "name": "stderr",
     "output_type": "stream",
     "text": [
      "Warning message in mutate_impl(.data, dots):\n",
      "“binding character and factor vector, coercing into character vector”"
     ]
    },
    {
     "name": "stdout",
     "output_type": "stream",
     "text": [
      "[1] \"DataCite\"\n",
      "[1] 10.7908/\n",
      "379 Levels: 10.11577/ 10.11586/ 10.11588/ 10.1184/ 10.12682/ ... 10.7945/\n",
      "[1] \"cdl.broad\"\n",
      "[1] 10.7908/\n",
      "379 Levels: 10.11577/ 10.11586/ 10.11588/ 10.1184/ 10.12682/ ... 10.7945/\n"
     ]
    },
    {
     "name": "stderr",
     "output_type": "stream",
     "text": [
      "Warning message in mutate_impl(.data, dots):\n",
      "“binding character and factor vector, coercing into character vector”"
     ]
    },
    {
     "name": "stdout",
     "output_type": "stream",
     "text": [
      "[1] \"DataCite\"\n",
      "[1] 10.5287/\n",
      "379 Levels: 10.11577/ 10.11586/ 10.11588/ 10.1184/ 10.12682/ ... 10.7945/\n",
      "[1] \"bl.oxdb\"\n",
      "[1] 10.5287/\n",
      "379 Levels: 10.11577/ 10.11586/ 10.11588/ 10.1184/ 10.12682/ ... 10.7945/\n"
     ]
    },
    {
     "name": "stderr",
     "output_type": "stream",
     "text": [
      "Warning message in mutate_impl(.data, dots):\n",
      "“binding character and factor vector, coercing into character vector”"
     ]
    },
    {
     "name": "stdout",
     "output_type": "stream",
     "text": [
      "[1] \"DataCite\"\n",
      "[1] 10.7797/\n",
      "379 Levels: 10.11577/ 10.11586/ 10.11588/ 10.1184/ 10.12682/ ... 10.7945/\n",
      "[1] \"gesis.rki\"\n",
      "[1] 10.7797/\n",
      "379 Levels: 10.11577/ 10.11586/ 10.11588/ 10.1184/ 10.12682/ ... 10.7945/\n"
     ]
    },
    {
     "name": "stderr",
     "output_type": "stream",
     "text": [
      "Warning message in mutate_impl(.data, dots):\n",
      "“binding character and factor vector, coercing into character vector”"
     ]
    },
    {
     "name": "stdout",
     "output_type": "stream",
     "text": [
      "[1] \"DataCite\"\n",
      "[1] 10.17037/\n",
      "379 Levels: 10.11577/ 10.11586/ 10.11588/ 10.1184/ 10.12682/ ... 10.7945/\n",
      "[1] \"bl.lshtm\"\n",
      "[1] 10.17037/\n",
      "379 Levels: 10.11577/ 10.11586/ 10.11588/ 10.1184/ 10.12682/ ... 10.7945/\n"
     ]
    },
    {
     "name": "stderr",
     "output_type": "stream",
     "text": [
      "Warning message in mutate_impl(.data, dots):\n",
      "“binding character and factor vector, coercing into character vector”"
     ]
    },
    {
     "name": "stdout",
     "output_type": "stream",
     "text": [
      "[1] \"DataCite\"\n",
      "[1] 10.15156/\n",
      "379 Levels: 10.11577/ 10.11586/ 10.11588/ 10.1184/ 10.12682/ ... 10.7945/\n",
      "[1] \"estdoi.bio\"\n",
      "[1] 10.15156/\n",
      "379 Levels: 10.11577/ 10.11586/ 10.11588/ 10.1184/ 10.12682/ ... 10.7945/\n"
     ]
    },
    {
     "name": "stderr",
     "output_type": "stream",
     "text": [
      "Warning message in mutate_impl(.data, dots):\n",
      "“binding character and factor vector, coercing into character vector”"
     ]
    },
    {
     "name": "stdout",
     "output_type": "stream",
     "text": [
      "[1] \"DataCite\"\n",
      "[1] 10.12751/\n",
      "379 Levels: 10.11577/ 10.11586/ 10.11588/ 10.1184/ 10.12682/ ... 10.7945/\n",
      "[1] \"tib.g-node\"\n",
      "[1] 10.12751/\n",
      "379 Levels: 10.11577/ 10.11586/ 10.11588/ 10.1184/ 10.12682/ ... 10.7945/\n"
     ]
    },
    {
     "name": "stderr",
     "output_type": "stream",
     "text": [
      "Warning message in mutate_impl(.data, dots):\n",
      "“binding character and factor vector, coercing into character vector”"
     ]
    },
    {
     "name": "stdout",
     "output_type": "stream",
     "text": [
      "[1] \"DataCite\"\n",
      "[1] 10.6083/\n",
      "379 Levels: 10.11577/ 10.11586/ 10.11588/ 10.1184/ 10.12682/ ... 10.7945/\n",
      "[1] \"cdl.ohsu\"\n",
      "[1] 10.6083/\n",
      "379 Levels: 10.11577/ 10.11586/ 10.11588/ 10.1184/ 10.12682/ ... 10.7945/\n"
     ]
    },
    {
     "name": "stderr",
     "output_type": "stream",
     "text": [
      "Warning message in mutate_impl(.data, dots):\n",
      "“binding character and factor vector, coercing into character vector”"
     ]
    },
    {
     "name": "stdout",
     "output_type": "stream",
     "text": [
      "[1] \"DataCite\"\n",
      "[1] 10.17626/\n",
      "379 Levels: 10.11577/ 10.11586/ 10.11588/ 10.1184/ 10.12682/ ... 10.7945/\n",
      "[1] \"mtakik.szie-uti\"\n",
      "[1] 10.17626/\n",
      "379 Levels: 10.11577/ 10.11586/ 10.11588/ 10.1184/ 10.12682/ ... 10.7945/\n"
     ]
    },
    {
     "name": "stderr",
     "output_type": "stream",
     "text": [
      "Warning message in mutate_impl(.data, dots):\n",
      "“binding character and factor vector, coercing into character vector”"
     ]
    },
    {
     "name": "stdout",
     "output_type": "stream",
     "text": [
      "[1] \"DataCite\"\n",
      "[1] 10.5258/\n",
      "379 Levels: 10.11577/ 10.11586/ 10.11588/ 10.1184/ 10.12682/ ... 10.7945/\n",
      "[1] \"bl.soton\"\n",
      "[1] 10.5258/\n",
      "379 Levels: 10.11577/ 10.11586/ 10.11588/ 10.1184/ 10.12682/ ... 10.7945/\n"
     ]
    },
    {
     "name": "stderr",
     "output_type": "stream",
     "text": [
      "Warning message in mutate_impl(.data, dots):\n",
      "“binding character and factor vector, coercing into character vector”"
     ]
    },
    {
     "name": "stdout",
     "output_type": "stream",
     "text": [
      "[1] \"DataCite\"\n",
      "[1] 10.6091/\n",
      "379 Levels: 10.11577/ 10.11586/ 10.11588/ 10.1184/ 10.12682/ ... 10.7945/\n",
      "[1] \"zbmed.ibj\"\n",
      "[1] 10.6091/\n",
      "379 Levels: 10.11577/ 10.11586/ 10.11588/ 10.1184/ 10.12682/ ... 10.7945/\n"
     ]
    },
    {
     "name": "stderr",
     "output_type": "stream",
     "text": [
      "Warning message in mutate_impl(.data, dots):\n",
      "“binding character and factor vector, coercing into character vector”"
     ]
    },
    {
     "name": "stdout",
     "output_type": "stream",
     "text": [
      "[1] \"DataCite\"\n",
      "[1] 10.5156/\n",
      "379 Levels: 10.11577/ 10.11586/ 10.11588/ 10.1184/ 10.12682/ ... 10.7945/\n",
      "[1] \"gesis.deas\"\n",
      "[1] 10.5156/\n",
      "379 Levels: 10.11577/ 10.11586/ 10.11588/ 10.1184/ 10.12682/ ... 10.7945/\n"
     ]
    },
    {
     "name": "stderr",
     "output_type": "stream",
     "text": [
      "Warning message in mutate_impl(.data, dots):\n",
      "“binding character and factor vector, coercing into character vector”"
     ]
    },
    {
     "name": "stdout",
     "output_type": "stream",
     "text": [
      "[1] \"DataCite\"\n",
      "[1] 10.7935/\n",
      "379 Levels: 10.11577/ 10.11586/ 10.11588/ 10.1184/ 10.12682/ ... 10.7945/\n",
      "[1] \"cdl.ligo\"\n",
      "[1] 10.7935/\n",
      "379 Levels: 10.11577/ 10.11586/ 10.11588/ 10.1184/ 10.12682/ ... 10.7945/\n"
     ]
    },
    {
     "name": "stderr",
     "output_type": "stream",
     "text": [
      "Warning message in mutate_impl(.data, dots):\n",
      "“binding character and factor vector, coercing into character vector”"
     ]
    },
    {
     "name": "stdout",
     "output_type": "stream",
     "text": [
      "[1] \"DataCite\"\n",
      "[1] 10.6102/\n",
      "379 Levels: 10.11577/ 10.11586/ 10.11588/ 10.1184/ 10.12682/ ... 10.7945/\n",
      "[1] \"gesis.gesis\"\n",
      "[1] 10.6102/\n",
      "379 Levels: 10.11577/ 10.11586/ 10.11588/ 10.1184/ 10.12682/ ... 10.7945/\n"
     ]
    },
    {
     "name": "stderr",
     "output_type": "stream",
     "text": [
      "Warning message in mutate_impl(.data, dots):\n",
      "“binding character and factor vector, coercing into character vector”"
     ]
    },
    {
     "name": "stdout",
     "output_type": "stream",
     "text": [
      "[1] \"DataCite\"\n",
      "[1] 10.3249/\n",
      "379 Levels: 10.11577/ 10.11586/ 10.11588/ 10.1184/ 10.12682/ ... 10.7945/\n",
      "[1] \"subgoe.dariah\"\n",
      "[1] 10.3249/\n",
      "379 Levels: 10.11577/ 10.11586/ 10.11588/ 10.1184/ 10.12682/ ... 10.7945/\n"
     ]
    },
    {
     "name": "stderr",
     "output_type": "stream",
     "text": [
      "Warning message in mutate_impl(.data, dots):\n",
      "“binding character and factor vector, coercing into character vector”"
     ]
    },
    {
     "name": "stdout",
     "output_type": "stream",
     "text": [
      "[1] \"DataCite\"\n",
      "[1] 10.14763/\n",
      "379 Levels: 10.11577/ 10.11586/ 10.11588/ 10.1184/ 10.12682/ ... 10.7945/\n",
      "[1] \"gesis.hiig\"\n",
      "[1] 10.14763/\n",
      "379 Levels: 10.11577/ 10.11586/ 10.11588/ 10.1184/ 10.12682/ ... 10.7945/\n"
     ]
    },
    {
     "name": "stderr",
     "output_type": "stream",
     "text": [
      "Warning message in mutate_impl(.data, dots):\n",
      "“binding character and factor vector, coercing into character vector”"
     ]
    },
    {
     "name": "stdout",
     "output_type": "stream",
     "text": [
      "[1] \"DataCite\"\n",
      "[1] 10.5161/\n",
      "379 Levels: 10.11577/ 10.11586/ 10.11588/ 10.1184/ 10.12682/ ... 10.7945/\n",
      "[1] \"tib.grips\"\n",
      "[1] 10.5161/\n",
      "379 Levels: 10.11577/ 10.11586/ 10.11588/ 10.1184/ 10.12682/ ... 10.7945/\n"
     ]
    },
    {
     "name": "stderr",
     "output_type": "stream",
     "text": [
      "Warning message in mutate_impl(.data, dots):\n",
      "“binding character and factor vector, coercing into character vector”"
     ]
    },
    {
     "name": "stdout",
     "output_type": "stream",
     "text": [
      "[1] \"DataCite\"\n",
      "[1] 10.15503/\n",
      "379 Levels: 10.11577/ 10.11586/ 10.11588/ 10.1184/ 10.12682/ ... 10.7945/\n",
      "[1] \"tib.fpsc\"\n",
      "[1] 10.15503/\n",
      "379 Levels: 10.11577/ 10.11586/ 10.11588/ 10.1184/ 10.12682/ ... 10.7945/\n"
     ]
    },
    {
     "name": "stderr",
     "output_type": "stream",
     "text": [
      "Warning message in mutate_impl(.data, dots):\n",
      "“binding character and factor vector, coercing into character vector”"
     ]
    },
    {
     "name": "stdout",
     "output_type": "stream",
     "text": [
      "[1] \"DataCite\"\n",
      "[1] 10.18128/\n",
      "379 Levels: 10.11577/ 10.11586/ 10.11588/ 10.1184/ 10.12682/ ... 10.7945/\n",
      "[1] \"purdue.ipums\"\n",
      "[1] 10.18128/\n",
      "379 Levels: 10.11577/ 10.11586/ 10.11588/ 10.1184/ 10.12682/ ... 10.7945/\n"
     ]
    },
    {
     "name": "stderr",
     "output_type": "stream",
     "text": [
      "Warning message in mutate_impl(.data, dots):\n",
      "“binding character and factor vector, coercing into character vector”"
     ]
    },
    {
     "name": "stdout",
     "output_type": "stream",
     "text": [
      "[1] \"DataCite\"\n",
      "[1] 10.15788/\n",
      "379 Levels: 10.11577/ 10.11586/ 10.11588/ 10.1184/ 10.12682/ ... 10.7945/\n",
      "[1] \"cdl.msu\"\n",
      "[1] 10.15788/\n",
      "379 Levels: 10.11577/ 10.11586/ 10.11588/ 10.1184/ 10.12682/ ... 10.7945/\n"
     ]
    },
    {
     "name": "stderr",
     "output_type": "stream",
     "text": [
      "Warning message in mutate_impl(.data, dots):\n",
      "“binding character and factor vector, coercing into character vector”"
     ]
    },
    {
     "name": "stdout",
     "output_type": "stream",
     "text": [
      "[1] \"DataCite\"\n",
      "[1] 10.5682/\n",
      "379 Levels: 10.11577/ 10.11586/ 10.11588/ 10.1184/ 10.12682/ ... 10.7945/\n",
      "[1] \"tib.editura\"\n",
      "[1] 10.5682/\n",
      "379 Levels: 10.11577/ 10.11586/ 10.11588/ 10.1184/ 10.12682/ ... 10.7945/\n"
     ]
    },
    {
     "name": "stderr",
     "output_type": "stream",
     "text": [
      "Warning message in mutate_impl(.data, dots):\n",
      "“binding character and factor vector, coercing into character vector”"
     ]
    },
    {
     "name": "stdout",
     "output_type": "stream",
     "text": [
      "[1] \"DataCite\"\n",
      "[1] 10.15778/\n",
      "379 Levels: 10.11577/ 10.11586/ 10.11588/ 10.1184/ 10.12682/ ... 10.7945/\n",
      "[1] \"inist.resif\"\n",
      "[1] 10.15778/\n",
      "379 Levels: 10.11577/ 10.11586/ 10.11588/ 10.1184/ 10.12682/ ... 10.7945/\n"
     ]
    },
    {
     "name": "stderr",
     "output_type": "stream",
     "text": [
      "Warning message in mutate_impl(.data, dots):\n",
      "“binding character and factor vector, coercing into character vector”"
     ]
    },
    {
     "name": "stdout",
     "output_type": "stream",
     "text": [
      "[1] \"DataCite\"\n",
      "[1] 10.18421/\n",
      "379 Levels: 10.11577/ 10.11586/ 10.11588/ 10.1184/ 10.12682/ ... 10.7945/\n",
      "[1] \"tib.tem\"\n",
      "[1] 10.18421/\n",
      "379 Levels: 10.11577/ 10.11586/ 10.11588/ 10.1184/ 10.12682/ ... 10.7945/\n"
     ]
    },
    {
     "name": "stderr",
     "output_type": "stream",
     "text": [
      "Warning message in mutate_impl(.data, dots):\n",
      "“binding character and factor vector, coercing into character vector”"
     ]
    },
    {
     "name": "stdout",
     "output_type": "stream",
     "text": [
      "[1] \"DataCite\"\n",
      "[1] 10.17877/\n",
      "379 Levels: 10.11577/ 10.11586/ 10.11588/ 10.1184/ 10.12682/ ... 10.7945/\n",
      "[1] \"tib.tudo\"\n",
      "[1] 10.17877/\n",
      "379 Levels: 10.11577/ 10.11586/ 10.11588/ 10.1184/ 10.12682/ ... 10.7945/\n"
     ]
    },
    {
     "name": "stderr",
     "output_type": "stream",
     "text": [
      "Warning message in mutate_impl(.data, dots):\n",
      "“binding character and factor vector, coercing into character vector”"
     ]
    },
    {
     "name": "stdout",
     "output_type": "stream",
     "text": [
      "[1] \"DataCite\"\n",
      "[1] 10.6079/\n",
      "379 Levels: 10.11577/ 10.11586/ 10.11588/ 10.1184/ 10.12682/ ... 10.7945/\n",
      "[1] \"cdl.uclaeeb\"\n",
      "[1] 10.6079/\n",
      "379 Levels: 10.11577/ 10.11586/ 10.11588/ 10.1184/ 10.12682/ ... 10.7945/\n"
     ]
    },
    {
     "name": "stderr",
     "output_type": "stream",
     "text": [
      "Warning message in mutate_impl(.data, dots):\n",
      "“binding character and factor vector, coercing into character vector”"
     ]
    },
    {
     "name": "stdout",
     "output_type": "stream",
     "text": [
      "[1] \"DataCite\"\n",
      "[1] 10.7934/\n",
      "379 Levels: 10.11577/ 10.11586/ 10.11588/ 10.1184/ 10.12682/ ... 10.7945/\n",
      "[1] \"cdl.morphoba\"\n",
      "[1] 10.7934/\n",
      "379 Levels: 10.11577/ 10.11586/ 10.11588/ 10.1184/ 10.12682/ ... 10.7945/\n"
     ]
    },
    {
     "name": "stderr",
     "output_type": "stream",
     "text": [
      "Warning message in mutate_impl(.data, dots):\n",
      "“binding character and factor vector, coercing into character vector”"
     ]
    },
    {
     "name": "stdout",
     "output_type": "stream",
     "text": [
      "[1] \"DataCite\"\n",
      "[1] 10.7303/\n",
      "379 Levels: 10.11577/ 10.11586/ 10.11588/ 10.1184/ 10.12682/ ... 10.7945/\n",
      "[1] \"cdl.sagebio\"\n",
      "[1] 10.7303/\n",
      "379 Levels: 10.11577/ 10.11586/ 10.11588/ 10.1184/ 10.12682/ ... 10.7945/\n"
     ]
    },
    {
     "name": "stderr",
     "output_type": "stream",
     "text": [
      "Warning message in mutate_impl(.data, dots):\n",
      "“binding character and factor vector, coercing into character vector”"
     ]
    },
    {
     "name": "stdout",
     "output_type": "stream",
     "text": [
      "[1] \"DataCite\"\n",
      "[1] 10.2195/\n",
      "379 Levels: 10.11577/ 10.11586/ 10.11588/ 10.1184/ 10.12682/ ... 10.7945/\n",
      "[1] \"tib.lj-red\"\n",
      "[1] 10.2195/\n",
      "379 Levels: 10.11577/ 10.11586/ 10.11588/ 10.1184/ 10.12682/ ... 10.7945/\n"
     ]
    },
    {
     "name": "stderr",
     "output_type": "stream",
     "text": [
      "Warning message in mutate_impl(.data, dots):\n",
      "“binding character and factor vector, coercing into character vector”"
     ]
    },
    {
     "name": "stdout",
     "output_type": "stream",
     "text": [
      "[1] \"DataCite\"\n",
      "[1] 10.13141/\n",
      "379 Levels: 10.11577/ 10.11586/ 10.11588/ 10.1184/ 10.12682/ ... 10.7945/\n",
      "[1] \"tib.slubdd\"\n",
      "[1] 10.13141/\n",
      "379 Levels: 10.11577/ 10.11586/ 10.11588/ 10.1184/ 10.12682/ ... 10.7945/\n"
     ]
    },
    {
     "name": "stderr",
     "output_type": "stream",
     "text": [
      "Warning message in mutate_impl(.data, dots):\n",
      "“binding character and factor vector, coercing into character vector”"
     ]
    },
    {
     "name": "stdout",
     "output_type": "stream",
     "text": [
      "[1] \"DataCite\"\n",
      "[1] 10.14750/\n",
      "379 Levels: 10.11577/ 10.11586/ 10.11588/ 10.1184/ 10.12682/ ... 10.7945/\n",
      "[1] \"mtakik.me\"\n",
      "[1] 10.14750/\n",
      "379 Levels: 10.11577/ 10.11586/ 10.11588/ 10.1184/ 10.12682/ ... 10.7945/\n"
     ]
    },
    {
     "name": "stderr",
     "output_type": "stream",
     "text": [
      "Warning message in mutate_impl(.data, dots):\n",
      "“binding character and factor vector, coercing into character vector”"
     ]
    },
    {
     "name": "stdout",
     "output_type": "stream",
     "text": [
      "[1] \"DataCite\"\n",
      "[1] 10.12682/\n",
      "379 Levels: 10.11577/ 10.11586/ 10.11588/ 10.1184/ 10.12682/ ... 10.7945/\n",
      "[1] \"ethz.lives\"\n",
      "[1] 10.12682/\n",
      "379 Levels: 10.11577/ 10.11586/ 10.11588/ 10.1184/ 10.12682/ ... 10.7945/\n"
     ]
    },
    {
     "name": "stderr",
     "output_type": "stream",
     "text": [
      "Warning message in mutate_impl(.data, dots):\n",
      "“binding character and factor vector, coercing into character vector”"
     ]
    },
    {
     "name": "stdout",
     "output_type": "stream",
     "text": [
      "[1] \"DataCite\"\n",
      "[1] 10.13012/\n",
      "379 Levels: 10.11577/ 10.11586/ 10.11588/ 10.1184/ 10.12682/ ... 10.7945/\n",
      "[1] \"purdue.uiuclib\"\n",
      "[1] 10.13012/\n",
      "379 Levels: 10.11577/ 10.11586/ 10.11588/ 10.1184/ 10.12682/ ... 10.7945/\n"
     ]
    },
    {
     "name": "stderr",
     "output_type": "stream",
     "text": [
      "Warning message in mutate_impl(.data, dots):\n",
      "“binding character and factor vector, coercing into character vector”"
     ]
    },
    {
     "name": "stdout",
     "output_type": "stream",
     "text": [
      "[1] \"DataCite\"\n",
      "[1] 10.21220/\n",
      "379 Levels: 10.11577/ 10.11586/ 10.11588/ 10.1184/ 10.12682/ ... 10.7945/\n",
      "[1] \"cdl.wmlib\"\n",
      "[1] 10.21220/\n",
      "379 Levels: 10.11577/ 10.11586/ 10.11588/ 10.1184/ 10.12682/ ... 10.7945/\n"
     ]
    },
    {
     "name": "stderr",
     "output_type": "stream",
     "text": [
      "Warning message in mutate_impl(.data, dots):\n",
      "“binding character and factor vector, coercing into character vector”"
     ]
    },
    {
     "name": "stdout",
     "output_type": "stream",
     "text": [
      "[1] \"DataCite\"\n",
      "[1] 10.7483/\n",
      "379 Levels: 10.11577/ 10.11586/ 10.11588/ 10.1184/ 10.12682/ ... 10.7945/\n",
      "[1] \"cern.opendata\"\n",
      "[1] 10.7483/\n",
      "379 Levels: 10.11577/ 10.11586/ 10.11588/ 10.1184/ 10.12682/ ... 10.7945/\n"
     ]
    },
    {
     "name": "stderr",
     "output_type": "stream",
     "text": [
      "Warning message in mutate_impl(.data, dots):\n",
      "“binding character and factor vector, coercing into character vector”"
     ]
    },
    {
     "name": "stdout",
     "output_type": "stream",
     "text": [
      "[1] \"DataCite\"\n",
      "[1] 10.5286/\n",
      "379 Levels: 10.11577/ 10.11586/ 10.11588/ 10.1184/ 10.12682/ ... 10.7945/\n",
      "[1] \"bl.stfc\"\n",
      "[1] 10.5286/\n",
      "379 Levels: 10.11577/ 10.11586/ 10.11588/ 10.1184/ 10.12682/ ... 10.7945/\n"
     ]
    },
    {
     "name": "stderr",
     "output_type": "stream",
     "text": [
      "Warning message in mutate_impl(.data, dots):\n",
      "“binding character and factor vector, coercing into character vector”"
     ]
    },
    {
     "name": "stdout",
     "output_type": "stream",
     "text": [
      "[1] \"DataCite\"\n",
      "[1] 10.17605/\n",
      "379 Levels: 10.11577/ 10.11586/ 10.11588/ 10.1184/ 10.12682/ ... 10.7945/\n",
      "[1] \"cdl.cos\"\n",
      "[1] 10.17605/\n",
      "379 Levels: 10.11577/ 10.11586/ 10.11588/ 10.1184/ 10.12682/ ... 10.7945/\n"
     ]
    },
    {
     "name": "stderr",
     "output_type": "stream",
     "text": [
      "Warning message in mutate_impl(.data, dots):\n",
      "“binding character and factor vector, coercing into character vector”"
     ]
    },
    {
     "name": "stdout",
     "output_type": "stream",
     "text": [
      "[1] \"DataCite\"\n",
      "[1] 10.20364/\n",
      "379 Levels: 10.11577/ 10.11586/ 10.11588/ 10.1184/ 10.12682/ ... 10.7945/\n",
      "[1] \"zbmed.zi\"\n",
      "[1] 10.20364/\n",
      "379 Levels: 10.11577/ 10.11586/ 10.11588/ 10.1184/ 10.12682/ ... 10.7945/\n"
     ]
    },
    {
     "name": "stderr",
     "output_type": "stream",
     "text": [
      "Warning message in mutate_impl(.data, dots):\n",
      "“binding character and factor vector, coercing into character vector”"
     ]
    },
    {
     "name": "stdout",
     "output_type": "stream",
     "text": [
      "[1] \"DataCite\"\n",
      "[1] 10.7280/\n",
      "379 Levels: 10.11577/ 10.11586/ 10.11588/ 10.1184/ 10.12682/ ... 10.7945/\n",
      "[1] \"cdl.uci\"\n",
      "[1] 10.7280/\n",
      "379 Levels: 10.11577/ 10.11586/ 10.11588/ 10.1184/ 10.12682/ ... 10.7945/\n"
     ]
    },
    {
     "name": "stderr",
     "output_type": "stream",
     "text": [
      "Warning message in mutate_impl(.data, dots):\n",
      "“binding character and factor vector, coercing into character vector”"
     ]
    },
    {
     "name": "stdout",
     "output_type": "stream",
     "text": [
      "[1] \"DataCite\"\n",
      "[1] 10.13136/\n",
      "379 Levels: 10.11577/ 10.11586/ 10.11588/ 10.1184/ 10.12682/ ... 10.7945/\n",
      "[1] \"crui.univr\"\n",
      "[1] 10.13136/\n",
      "379 Levels: 10.11577/ 10.11586/ 10.11588/ 10.1184/ 10.12682/ ... 10.7945/\n"
     ]
    },
    {
     "name": "stderr",
     "output_type": "stream",
     "text": [
      "Warning message in mutate_impl(.data, dots):\n",
      "“binding character and factor vector, coercing into character vector”"
     ]
    },
    {
     "name": "stdout",
     "output_type": "stream",
     "text": [
      "[1] \"DataCite\"\n",
      "[1] 10.17632/\n",
      "379 Levels: 10.11577/ 10.11586/ 10.11588/ 10.1184/ 10.12682/ ... 10.7945/\n",
      "[1] \"bl.mendeley\"\n",
      "[1] 10.17632/\n",
      "379 Levels: 10.11577/ 10.11586/ 10.11588/ 10.1184/ 10.12682/ ... 10.7945/\n"
     ]
    },
    {
     "name": "stderr",
     "output_type": "stream",
     "text": [
      "Warning message in mutate_impl(.data, dots):\n",
      "“binding character and factor vector, coercing into character vector”"
     ]
    },
    {
     "name": "stdout",
     "output_type": "stream",
     "text": [
      "[1] \"DataCite\"\n",
      "[1] 10.18131/\n",
      "379 Levels: 10.11577/ 10.11586/ 10.11588/ 10.1184/ 10.12682/ ... 10.7945/\n",
      "[1] \"purdue.ghsl\"\n",
      "[1] 10.18131/\n",
      "379 Levels: 10.11577/ 10.11586/ 10.11588/ 10.1184/ 10.12682/ ... 10.7945/\n"
     ]
    },
    {
     "name": "stderr",
     "output_type": "stream",
     "text": [
      "Warning message in mutate_impl(.data, dots):\n",
      "“binding character and factor vector, coercing into character vector”"
     ]
    },
    {
     "name": "stdout",
     "output_type": "stream",
     "text": [
      "[1] \"DataCite\"\n",
      "[1] 10.15454/\n",
      "379 Levels: 10.11577/ 10.11586/ 10.11588/ 10.1184/ 10.12682/ ... 10.7945/\n",
      "[1] \"inist.inra\"\n",
      "[1] 10.15454/\n",
      "379 Levels: 10.11577/ 10.11586/ 10.11588/ 10.1184/ 10.12682/ ... 10.7945/\n"
     ]
    },
    {
     "name": "stderr",
     "output_type": "stream",
     "text": [
      "Warning message in mutate_impl(.data, dots):\n",
      "“binding character and factor vector, coercing into character vector”"
     ]
    },
    {
     "name": "stdout",
     "output_type": "stream",
     "text": [
      "[1] \"DataCite\"\n",
      "[1] 10.5447/\n",
      "379 Levels: 10.11577/ 10.11586/ 10.11588/ 10.1184/ 10.12682/ ... 10.7945/\n",
      "[1] \"tib.ipk\"\n",
      "[1] 10.5447/\n",
      "379 Levels: 10.11577/ 10.11586/ 10.11588/ 10.1184/ 10.12682/ ... 10.7945/\n"
     ]
    },
    {
     "name": "stderr",
     "output_type": "stream",
     "text": [
      "Warning message in mutate_impl(.data, dots):\n",
      "“binding character and factor vector, coercing into character vector”"
     ]
    },
    {
     "name": "stdout",
     "output_type": "stream",
     "text": [
      "[1] \"DataCite\"\n",
      "[1] 10.12765/\n",
      "379 Levels: 10.11577/ 10.11586/ 10.11588/ 10.1184/ 10.12682/ ... 10.7945/\n",
      "[1] \"gesis.bib\"\n",
      "[1] 10.12765/\n",
      "379 Levels: 10.11577/ 10.11586/ 10.11588/ 10.1184/ 10.12682/ ... 10.7945/\n"
     ]
    },
    {
     "name": "stderr",
     "output_type": "stream",
     "text": [
      "Warning message in mutate_impl(.data, dots):\n",
      "“binding character and factor vector, coercing into character vector”"
     ]
    },
    {
     "name": "stdout",
     "output_type": "stream",
     "text": [
      "[1] \"DataCite\"\n",
      "[1] 10.20382/\n",
      "379 Levels: 10.11577/ 10.11586/ 10.11588/ 10.1184/ 10.12682/ ... 10.7945/\n",
      "[1] \"cisti.cglab\"\n",
      "[1] 10.20382/\n",
      "379 Levels: 10.11577/ 10.11586/ 10.11588/ 10.1184/ 10.12682/ ... 10.7945/\n"
     ]
    },
    {
     "name": "stderr",
     "output_type": "stream",
     "text": [
      "Warning message in mutate_impl(.data, dots):\n",
      "“binding character and factor vector, coercing into character vector”"
     ]
    },
    {
     "name": "stdout",
     "output_type": "stream",
     "text": [
      "[1] \"DataCite\"\n",
      "[1] 10.21953/\n",
      "379 Levels: 10.11577/ 10.11586/ 10.11588/ 10.1184/ 10.12682/ ... 10.7945/\n",
      "[1] \"bl.lse\"\n",
      "[1] 10.21953/\n",
      "379 Levels: 10.11577/ 10.11586/ 10.11588/ 10.1184/ 10.12682/ ... 10.7945/\n"
     ]
    },
    {
     "name": "stderr",
     "output_type": "stream",
     "text": [
      "Warning message in mutate_impl(.data, dots):\n",
      "“binding character and factor vector, coercing into character vector”"
     ]
    },
    {
     "name": "stdout",
     "output_type": "stream",
     "text": [
      "[1] \"DataCite\"\n",
      "[1] 10.17635/\n",
      "379 Levels: 10.11577/ 10.11586/ 10.11588/ 10.1184/ 10.12682/ ... 10.7945/\n",
      "[1] \"bl.lancs\"\n",
      "[1] 10.17635/\n",
      "379 Levels: 10.11577/ 10.11586/ 10.11588/ 10.1184/ 10.12682/ ... 10.7945/\n"
     ]
    },
    {
     "name": "stderr",
     "output_type": "stream",
     "text": [
      "Warning message in mutate_impl(.data, dots):\n",
      "“binding character and factor vector, coercing into character vector”"
     ]
    },
    {
     "name": "stdout",
     "output_type": "stream",
     "text": [
      "[1] \"DataCite\"\n",
      "[1] 10.13135/\n",
      "379 Levels: 10.11577/ 10.11586/ 10.11588/ 10.1184/ 10.12682/ ... 10.7945/\n",
      "[1] \"crui.unito\"\n",
      "[1] 10.13135/\n",
      "379 Levels: 10.11577/ 10.11586/ 10.11588/ 10.1184/ 10.12682/ ... 10.7945/\n"
     ]
    },
    {
     "name": "stderr",
     "output_type": "stream",
     "text": [
      "Warning message in mutate_impl(.data, dots):\n",
      "“binding character and factor vector, coercing into character vector”"
     ]
    },
    {
     "name": "stdout",
     "output_type": "stream",
     "text": [
      "[1] \"DataCite\"\n",
      "[1] 10.17175/\n",
      "379 Levels: 10.11577/ 10.11586/ 10.11588/ 10.1184/ 10.12682/ ... 10.7945/\n",
      "[1] \"gesis.hab\"\n",
      "[1] 10.17175/\n",
      "379 Levels: 10.11577/ 10.11586/ 10.11588/ 10.1184/ 10.12682/ ... 10.7945/\n"
     ]
    },
    {
     "name": "stderr",
     "output_type": "stream",
     "text": [
      "Warning message in mutate_impl(.data, dots):\n",
      "“binding character and factor vector, coercing into character vector”"
     ]
    },
    {
     "name": "stdout",
     "output_type": "stream",
     "text": [
      "[1] \"DataCite\"\n",
      "[1] 10.15162/\n",
      "379 Levels: 10.11577/ 10.11586/ 10.11588/ 10.1184/ 10.12682/ ... 10.7945/\n",
      "[1] \"crui.uniba\"\n",
      "[1] 10.15162/\n",
      "379 Levels: 10.11577/ 10.11586/ 10.11588/ 10.1184/ 10.12682/ ... 10.7945/\n"
     ]
    },
    {
     "name": "stderr",
     "output_type": "stream",
     "text": [
      "Warning message in mutate_impl(.data, dots):\n",
      "“binding character and factor vector, coercing into character vector”"
     ]
    },
    {
     "name": "stdout",
     "output_type": "stream",
     "text": [
      "[1] \"DataCite\"\n",
      "[1] 10.13092/\n",
      "379 Levels: 10.11577/ 10.11586/ 10.11588/ 10.1184/ 10.12682/ ... 10.7945/\n",
      "[1] \"ethz.lo\"\n",
      "[1] 10.13092/\n",
      "379 Levels: 10.11577/ 10.11586/ 10.11588/ 10.1184/ 10.12682/ ... 10.7945/\n"
     ]
    },
    {
     "name": "stderr",
     "output_type": "stream",
     "text": [
      "Warning message in mutate_impl(.data, dots):\n",
      "“binding character and factor vector, coercing into character vector”"
     ]
    },
    {
     "name": "stdout",
     "output_type": "stream",
     "text": [
      "[1] \"DataCite\"\n",
      "[1] 10.7290/\n",
      "379 Levels: 10.11577/ 10.11586/ 10.11588/ 10.1184/ 10.12682/ ... 10.7945/\n",
      "[1] \"cdl.utenn\"\n",
      "[1] 10.7290/\n",
      "379 Levels: 10.11577/ 10.11586/ 10.11588/ 10.1184/ 10.12682/ ... 10.7945/\n"
     ]
    },
    {
     "name": "stderr",
     "output_type": "stream",
     "text": [
      "Warning message in mutate_impl(.data, dots):\n",
      "“binding character and factor vector, coercing into character vector”"
     ]
    },
    {
     "name": "stdout",
     "output_type": "stream",
     "text": [
      "[1] \"DataCite\"\n",
      "[1] 10.17892/\n",
      "379 Levels: 10.11577/ 10.11586/ 10.11588/ 10.1184/ 10.12682/ ... 10.7945/\n",
      "[1] \"gesis.apparat\"\n",
      "[1] 10.17892/\n",
      "379 Levels: 10.11577/ 10.11586/ 10.11588/ 10.1184/ 10.12682/ ... 10.7945/\n"
     ]
    },
    {
     "name": "stderr",
     "output_type": "stream",
     "text": [
      "Warning message in mutate_impl(.data, dots):\n",
      "“binding character and factor vector, coercing into character vector”"
     ]
    },
    {
     "name": "stdout",
     "output_type": "stream",
     "text": [
      "[1] \"DataCite\"\n",
      "[1] 10.6094/\n",
      "379 Levels: 10.11577/ 10.11586/ 10.11588/ 10.1184/ 10.12682/ ... 10.7945/\n",
      "[1] \"tib.ubfr\"\n",
      "[1] 10.6094/\n",
      "379 Levels: 10.11577/ 10.11586/ 10.11588/ 10.1184/ 10.12682/ ... 10.7945/\n"
     ]
    },
    {
     "name": "stderr",
     "output_type": "stream",
     "text": [
      "Warning message in mutate_impl(.data, dots):\n",
      "“binding character and factor vector, coercing into character vector”"
     ]
    },
    {
     "name": "stdout",
     "output_type": "stream",
     "text": [
      "[1] \"DataCite\"\n",
      "[1] 10.7939/\n",
      "379 Levels: 10.11577/ 10.11586/ 10.11588/ 10.1184/ 10.12682/ ... 10.7945/\n",
      "[1] \"cdl.ual\"\n",
      "[1] 10.7939/\n",
      "379 Levels: 10.11577/ 10.11586/ 10.11588/ 10.1184/ 10.12682/ ... 10.7945/\n"
     ]
    },
    {
     "name": "stderr",
     "output_type": "stream",
     "text": [
      "Warning message in mutate_impl(.data, dots):\n",
      "“binding character and factor vector, coercing into character vector”"
     ]
    },
    {
     "name": "stdout",
     "output_type": "stream",
     "text": [
      "[1] \"DataCite\"\n",
      "[1] 10.7891/\n",
      "379 Levels: 10.11577/ 10.11586/ 10.11588/ 10.1184/ 10.12682/ ... 10.7945/\n",
      "[1] \"ethz.e-manus\"\n",
      "[1] 10.7891/\n",
      "379 Levels: 10.11577/ 10.11586/ 10.11588/ 10.1184/ 10.12682/ ... 10.7945/\n"
     ]
    },
    {
     "name": "stderr",
     "output_type": "stream",
     "text": [
      "Warning message in mutate_impl(.data, dots):\n",
      "“binding character and factor vector, coercing into character vector”"
     ]
    },
    {
     "name": "stdout",
     "output_type": "stream",
     "text": [
      "[1] \"DataCite\"\n",
      "[1] 10.17196/\n",
      "379 Levels: 10.11577/ 10.11586/ 10.11588/ 10.1184/ 10.12682/ ... 10.7945/\n",
      "[1] \"snd.chalmers\"\n",
      "[1] 10.17196/\n",
      "379 Levels: 10.11577/ 10.11586/ 10.11588/ 10.1184/ 10.12682/ ... 10.7945/\n"
     ]
    },
    {
     "name": "stderr",
     "output_type": "stream",
     "text": [
      "Warning message in mutate_impl(.data, dots):\n",
      "“binding character and factor vector, coercing into character vector”"
     ]
    },
    {
     "name": "stdout",
     "output_type": "stream",
     "text": [
      "[1] \"DataCite\"\n",
      "[1] 10.20388/\n",
      "379 Levels: 10.11577/ 10.11586/ 10.11588/ 10.1184/ 10.12682/ ... 10.7945/\n",
      "[1] \"rads.main\"\n",
      "[1] 10.20388/\n",
      "379 Levels: 10.11577/ 10.11586/ 10.11588/ 10.1184/ 10.12682/ ... 10.7945/\n"
     ]
    },
    {
     "name": "stderr",
     "output_type": "stream",
     "text": [
      "Warning message in mutate_impl(.data, dots):\n",
      "“binding character and factor vector, coercing into character vector”"
     ]
    },
    {
     "name": "stdout",
     "output_type": "stream",
     "text": [
      "[1] \"DataCite\"\n",
      "[1] 10.5257/\n",
      "379 Levels: 10.11577/ 10.11586/ 10.11588/ 10.1184/ 10.12682/ ... 10.7945/\n",
      "[1] \"bl.esds-i\"\n",
      "[1] 10.5257/\n",
      "379 Levels: 10.11577/ 10.11586/ 10.11588/ 10.1184/ 10.12682/ ... 10.7945/\n"
     ]
    },
    {
     "name": "stderr",
     "output_type": "stream",
     "text": [
      "Warning message in mutate_impl(.data, dots):\n",
      "“binding character and factor vector, coercing into character vector”"
     ]
    },
    {
     "name": "stdout",
     "output_type": "stream",
     "text": [
      "[1] \"DataCite\"\n",
      "[1] 10.20380/\n",
      "379 Levels: 10.11577/ 10.11586/ 10.11588/ 10.1184/ 10.12682/ ... 10.7945/\n",
      "[1] \"cisti.chccs\"\n",
      "[1] 10.20380/\n",
      "379 Levels: 10.11577/ 10.11586/ 10.11588/ 10.1184/ 10.12682/ ... 10.7945/\n"
     ]
    },
    {
     "name": "stderr",
     "output_type": "stream",
     "text": [
      "Warning message in mutate_impl(.data, dots):\n",
      "“binding character and factor vector, coercing into character vector”"
     ]
    },
    {
     "name": "stdout",
     "output_type": "stream",
     "text": [
      "[1] \"DataCite\"\n",
      "[1] 10.5886/\n",
      "379 Levels: 10.11577/ 10.11586/ 10.11588/ 10.1184/ 10.12682/ ... 10.7945/\n",
      "[1] \"cisti.udembc\"\n",
      "[1] 10.5886/\n",
      "379 Levels: 10.11577/ 10.11586/ 10.11588/ 10.1184/ 10.12682/ ... 10.7945/\n"
     ]
    },
    {
     "name": "stderr",
     "output_type": "stream",
     "text": [
      "Warning message in mutate_impl(.data, dots):\n",
      "“binding character and factor vector, coercing into character vector”"
     ]
    },
    {
     "name": "stdout",
     "output_type": "stream",
     "text": [
      "[1] \"DataCite\"\n",
      "[1] 10.5519/\n",
      "379 Levels: 10.11577/ 10.11586/ 10.11588/ 10.1184/ 10.12682/ ... 10.7945/\n",
      "[1] \"bl.nhm\"\n",
      "[1] 10.5519/\n",
      "379 Levels: 10.11577/ 10.11586/ 10.11588/ 10.1184/ 10.12682/ ... 10.7945/\n"
     ]
    },
    {
     "name": "stderr",
     "output_type": "stream",
     "text": [
      "Warning message in mutate_impl(.data, dots):\n",
      "“binding character and factor vector, coercing into character vector”"
     ]
    },
    {
     "name": "stdout",
     "output_type": "stream",
     "text": [
      "[1] \"Crossref\"\n",
      "[1] 10.18740/\n",
      "379 Levels: 10.11577/ 10.11586/ 10.11588/ 10.1184/ 10.12682/ ... 10.7945/\n"
     ]
    },
    {
     "name": "stderr",
     "output_type": "stream",
     "text": [
      "Warning message in mutate_impl(.data, dots):\n",
      "“binding character and factor vector, coercing into character vector”"
     ]
    },
    {
     "name": "stdout",
     "output_type": "stream",
     "text": [
      "[1] \"DataCite\"\n",
      "[1] 10.3932/\n",
      "379 Levels: 10.11577/ 10.11586/ 10.11588/ 10.1184/ 10.12682/ ... 10.7945/\n",
      "[1] \"ethz.epics-ba\"\n",
      "[1] 10.3932/\n",
      "379 Levels: 10.11577/ 10.11586/ 10.11588/ 10.1184/ 10.12682/ ... 10.7945/\n"
     ]
    },
    {
     "name": "stderr",
     "output_type": "stream",
     "text": [
      "Warning message in mutate_impl(.data, dots):\n",
      "“binding character and factor vector, coercing into character vector”"
     ]
    },
    {
     "name": "stdout",
     "output_type": "stream",
     "text": [
      "[1] \"DataCite\"\n",
      "[1] 10.14291/\n",
      "379 Levels: 10.11577/ 10.11586/ 10.11588/ 10.1184/ 10.12682/ ... 10.7945/\n",
      "[1] \"cdl.caltech\"\n",
      "[1] 10.14291/\n",
      "379 Levels: 10.11577/ 10.11586/ 10.11588/ 10.1184/ 10.12682/ ... 10.7945/\n"
     ]
    },
    {
     "name": "stderr",
     "output_type": "stream",
     "text": [
      "Warning message in mutate_impl(.data, dots):\n",
      "“binding character and factor vector, coercing into character vector”"
     ]
    },
    {
     "name": "stdout",
     "output_type": "stream",
     "text": [
      "[1] \"DataCite\"\n",
      "[1] 10.21427/\n",
      "379 Levels: 10.11577/ 10.11586/ 10.11588/ 10.1184/ 10.12682/ ... 10.7945/\n",
      "[1] \"cdl.dit\"\n",
      "[1] 10.21427/\n",
      "379 Levels: 10.11577/ 10.11586/ 10.11588/ 10.1184/ 10.12682/ ... 10.7945/\n"
     ]
    },
    {
     "name": "stderr",
     "output_type": "stream",
     "text": [
      "Warning message in mutate_impl(.data, dots):\n",
      "“binding character and factor vector, coercing into character vector”"
     ]
    },
    {
     "name": "stdout",
     "output_type": "stream",
     "text": [
      "[1] \"DataCite\"\n",
      "[1] 10.17616/\n",
      "379 Levels: 10.11577/ 10.11586/ 10.11588/ 10.1184/ 10.12682/ ... 10.7945/\n",
      "[1] \"purdue.re3data\"\n",
      "[1] 10.17616/\n",
      "379 Levels: 10.11577/ 10.11586/ 10.11588/ 10.1184/ 10.12682/ ... 10.7945/\n"
     ]
    },
    {
     "name": "stderr",
     "output_type": "stream",
     "text": [
      "Warning message in mutate_impl(.data, dots):\n",
      "“binding character and factor vector, coercing into character vector”"
     ]
    },
    {
     "name": "stdout",
     "output_type": "stream",
     "text": [
      "[1] \"DataCite\"\n",
      "[1] 10.15497/\n",
      "379 Levels: 10.11577/ 10.11586/ 10.11588/ 10.1184/ 10.12682/ ... 10.7945/\n",
      "[1] \"datacite.rda\"\n",
      "[1] 10.15497/\n",
      "379 Levels: 10.11577/ 10.11586/ 10.11588/ 10.1184/ 10.12682/ ... 10.7945/\n"
     ]
    },
    {
     "name": "stderr",
     "output_type": "stream",
     "text": [
      "Warning message in mutate_impl(.data, dots):\n",
      "“binding character and factor vector, coercing into character vector”"
     ]
    },
    {
     "name": "stdout",
     "output_type": "stream",
     "text": [
      "[1] \"DataCite\"\n",
      "[1] 10.17192/\n",
      "379 Levels: 10.11577/ 10.11586/ 10.11588/ 10.1184/ 10.12682/ ... 10.7945/\n",
      "[1] \"tib.ubmr\"\n",
      "[1] 10.17192/\n",
      "379 Levels: 10.11577/ 10.11586/ 10.11588/ 10.1184/ 10.12682/ ... 10.7945/\n"
     ]
    },
    {
     "name": "stderr",
     "output_type": "stream",
     "text": [
      "Warning message in mutate_impl(.data, dots):\n",
      "“binding character and factor vector, coercing into character vector”"
     ]
    },
    {
     "name": "stdout",
     "output_type": "stream",
     "text": [
      "[1] \"DataCite\"\n",
      "[1] 10.17888/\n",
      "379 Levels: 10.11577/ 10.11586/ 10.11588/ 10.1184/ 10.12682/ ... 10.7945/\n",
      "[1] \"gesis.bifie\"\n",
      "[1] 10.17888/\n",
      "379 Levels: 10.11577/ 10.11586/ 10.11588/ 10.1184/ 10.12682/ ... 10.7945/\n"
     ]
    },
    {
     "name": "stderr",
     "output_type": "stream",
     "text": [
      "Warning message in mutate_impl(.data, dots):\n",
      "“binding character and factor vector, coercing into character vector”"
     ]
    },
    {
     "name": "stdout",
     "output_type": "stream",
     "text": [
      "[1] \"DataCite\"\n",
      "[1] 10.5159/\n",
      "379 Levels: 10.11577/ 10.11586/ 10.11588/ 10.1184/ 10.12682/ ... 10.7945/\n",
      "[1] \"gesis.iqb\"\n",
      "[1] 10.5159/\n",
      "379 Levels: 10.11577/ 10.11586/ 10.11588/ 10.1184/ 10.12682/ ... 10.7945/\n"
     ]
    },
    {
     "name": "stderr",
     "output_type": "stream",
     "text": [
      "Warning message in mutate_impl(.data, dots):\n",
      "“binding character and factor vector, coercing into character vector”"
     ]
    },
    {
     "name": "stdout",
     "output_type": "stream",
     "text": [
      "[1] \"DataCite\"\n",
      "[1] 10.5203/\n",
      "379 Levels: 10.11577/ 10.11586/ 10.11588/ 10.1184/ 10.12682/ ... 10.7945/\n",
      "[1] \"cisti.umanlib\"\n",
      "[1] 10.5203/\n",
      "379 Levels: 10.11577/ 10.11586/ 10.11588/ 10.1184/ 10.12682/ ... 10.7945/\n"
     ]
    },
    {
     "name": "stderr",
     "output_type": "stream",
     "text": [
      "Warning message in mutate_impl(.data, dots):\n",
      "“binding character and factor vector, coercing into character vector”"
     ]
    },
    {
     "name": "stdout",
     "output_type": "stream",
     "text": [
      "[1] \"DataCite\"\n",
      "[1] 10.5879/\n",
      "379 Levels: 10.11577/ 10.11586/ 10.11588/ 10.1184/ 10.12682/ ... 10.7945/\n",
      "[1] \"snd.chalmers\"\n",
      "[1] 10.5879/\n",
      "379 Levels: 10.11577/ 10.11586/ 10.11588/ 10.1184/ 10.12682/ ... 10.7945/\n"
     ]
    },
    {
     "name": "stderr",
     "output_type": "stream",
     "text": [
      "Warning message in mutate_impl(.data, dots):\n",
      "“binding character and factor vector, coercing into character vector”"
     ]
    },
    {
     "name": "stdout",
     "output_type": "stream",
     "text": [
      "[1] \"DataCite\"\n",
      "[1] 10.12754/\n",
      "379 Levels: 10.11577/ 10.11586/ 10.11588/ 10.1184/ 10.12682/ ... 10.7945/\n",
      "[1] \"tib.iow\"\n",
      "[1] 10.12754/\n",
      "379 Levels: 10.11577/ 10.11586/ 10.11588/ 10.1184/ 10.12682/ ... 10.7945/\n"
     ]
    },
    {
     "name": "stderr",
     "output_type": "stream",
     "text": [
      "Warning message in mutate_impl(.data, dots):\n",
      "“binding character and factor vector, coercing into character vector”"
     ]
    },
    {
     "name": "stdout",
     "output_type": "stream",
     "text": [
      "[1] \"DataCite\"\n",
      "[1] 10.17035/\n",
      "379 Levels: 10.11577/ 10.11586/ 10.11588/ 10.1184/ 10.12682/ ... 10.7945/\n",
      "[1] \"bl.cardiff\"\n",
      "[1] 10.17035/\n",
      "379 Levels: 10.11577/ 10.11586/ 10.11588/ 10.1184/ 10.12682/ ... 10.7945/\n"
     ]
    },
    {
     "name": "stderr",
     "output_type": "stream",
     "text": [
      "Warning message in mutate_impl(.data, dots):\n",
      "“binding character and factor vector, coercing into character vector”"
     ]
    },
    {
     "name": "stdout",
     "output_type": "stream",
     "text": [
      "[1] \"DataCite\"\n",
      "[1] 10.21425/\n",
      "379 Levels: 10.11577/ 10.11586/ 10.11588/ 10.1184/ 10.12682/ ... 10.7945/\n",
      "[1] \"cdl.ucm\"\n",
      "[1] 10.21425/\n",
      "379 Levels: 10.11577/ 10.11586/ 10.11588/ 10.1184/ 10.12682/ ... 10.7945/\n"
     ]
    },
    {
     "name": "stderr",
     "output_type": "stream",
     "text": [
      "Warning message in mutate_impl(.data, dots):\n",
      "“binding character and factor vector, coercing into character vector”"
     ]
    },
    {
     "name": "stdout",
     "output_type": "stream",
     "text": [
      "[1] \"DataCite\"\n",
      "[1] 10.21237/\n",
      "379 Levels: 10.11577/ 10.11586/ 10.11588/ 10.1184/ 10.12682/ ... 10.7945/\n",
      "[1] \"cdl.ucr\"\n",
      "[1] 10.21237/\n",
      "379 Levels: 10.11577/ 10.11586/ 10.11588/ 10.1184/ 10.12682/ ... 10.7945/\n"
     ]
    },
    {
     "name": "stderr",
     "output_type": "stream",
     "text": [
      "Warning message in mutate_impl(.data, dots):\n",
      "“binding character and factor vector, coercing into character vector”"
     ]
    },
    {
     "name": "stdout",
     "output_type": "stream",
     "text": [
      "[1] \"DataCite\"\n",
      "[1] 10.7298/\n",
      "379 Levels: 10.11577/ 10.11586/ 10.11588/ 10.1184/ 10.12682/ ... 10.7945/\n",
      "[1] \"cdl.cul\"\n",
      "[1] 10.7298/\n",
      "379 Levels: 10.11577/ 10.11586/ 10.11588/ 10.1184/ 10.12682/ ... 10.7945/\n"
     ]
    },
    {
     "name": "stderr",
     "output_type": "stream",
     "text": [
      "Warning message in mutate_impl(.data, dots):\n",
      "“binding character and factor vector, coercing into character vector”"
     ]
    },
    {
     "name": "stdout",
     "output_type": "stream",
     "text": [
      "[1] \"DataCite\"\n",
      "[1] 10.18116/\n",
      "379 Levels: 10.11577/ 10.11586/ 10.11588/ 10.1184/ 10.12682/ ... 10.7945/\n",
      "[1] \"cdl.ummscand\"\n",
      "[1] 10.18116/\n",
      "379 Levels: 10.11577/ 10.11586/ 10.11588/ 10.1184/ 10.12682/ ... 10.7945/\n"
     ]
    },
    {
     "name": "stderr",
     "output_type": "stream",
     "text": [
      "Warning message in mutate_impl(.data, dots):\n",
      "“binding character and factor vector, coercing into character vector”"
     ]
    },
    {
     "name": "stdout",
     "output_type": "stream",
     "text": [
      "[1] \"DataCite\"\n",
      "[1] 10.15142/\n",
      "379 Levels: 10.11577/ 10.11586/ 10.11588/ 10.1184/ 10.12682/ ... 10.7945/\n",
      "[1] \"cdl.usu\"\n",
      "[1] 10.15142/\n",
      "379 Levels: 10.11577/ 10.11586/ 10.11588/ 10.1184/ 10.12682/ ... 10.7945/\n"
     ]
    },
    {
     "name": "stderr",
     "output_type": "stream",
     "text": [
      "Warning message in mutate_impl(.data, dots):\n",
      "“binding character and factor vector, coercing into character vector”"
     ]
    },
    {
     "name": "stdout",
     "output_type": "stream",
     "text": [
      "[1] \"DataCite\"\n",
      "[1] 10.7267/\n",
      "379 Levels: 10.11577/ 10.11586/ 10.11588/ 10.1184/ 10.12682/ ... 10.7945/\n",
      "[1] \"cdl.osu\"\n",
      "[1] 10.7267/\n",
      "379 Levels: 10.11577/ 10.11586/ 10.11588/ 10.1184/ 10.12682/ ... 10.7945/\n"
     ]
    },
    {
     "name": "stderr",
     "output_type": "stream",
     "text": [
      "Warning message in mutate_impl(.data, dots):\n",
      "“binding character and factor vector, coercing into character vector”"
     ]
    },
    {
     "name": "stdout",
     "output_type": "stream",
     "text": [
      "[1] \"DataCite\"\n",
      "[1] 10.5069/\n",
      "379 Levels: 10.11577/ 10.11586/ 10.11588/ 10.1184/ 10.12682/ ... 10.7945/\n",
      "[1] \"cdl.sdscot\"\n",
      "[1] 10.5069/\n",
      "379 Levels: 10.11577/ 10.11586/ 10.11588/ 10.1184/ 10.12682/ ... 10.7945/\n"
     ]
    },
    {
     "name": "stderr",
     "output_type": "stream",
     "text": [
      "Warning message in mutate_impl(.data, dots):\n",
      "“binding character and factor vector, coercing into character vector”"
     ]
    },
    {
     "name": "stdout",
     "output_type": "stream",
     "text": [
      "[1] \"DataCite\"\n",
      "[1] 10.5288/\n",
      "379 Levels: 10.11577/ 10.11586/ 10.11588/ 10.1184/ 10.12682/ ... 10.7945/\n",
      "[1] \"tib.dgg\"\n",
      "[1] 10.5288/\n",
      "379 Levels: 10.11577/ 10.11586/ 10.11588/ 10.1184/ 10.12682/ ... 10.7945/\n"
     ]
    },
    {
     "name": "stderr",
     "output_type": "stream",
     "text": [
      "Warning message in mutate_impl(.data, dots):\n",
      "“binding character and factor vector, coercing into character vector”"
     ]
    },
    {
     "name": "stdout",
     "output_type": "stream",
     "text": [
      "[1] \"DataCite\"\n",
      "[1] 10.17617/\n",
      "379 Levels: 10.11577/ 10.11586/ 10.11588/ 10.1184/ 10.12682/ ... 10.7945/\n",
      "[1] \"tib.mpdl\"\n",
      "[1] 10.17617/\n",
      "379 Levels: 10.11577/ 10.11586/ 10.11588/ 10.1184/ 10.12682/ ... 10.7945/\n"
     ]
    },
    {
     "name": "stderr",
     "output_type": "stream",
     "text": [
      "Warning message in mutate_impl(.data, dots):\n",
      "“binding character and factor vector, coercing into character vector”"
     ]
    },
    {
     "name": "stdout",
     "output_type": "stream",
     "text": [
      "[1] \"DataCite\"\n",
      "[1] 10.17613/\n",
      "379 Levels: 10.11577/ 10.11586/ 10.11588/ 10.1184/ 10.12682/ ... 10.7945/\n",
      "[1] \"cdl.mla\"\n",
      "[1] 10.17613/\n",
      "379 Levels: 10.11577/ 10.11586/ 10.11588/ 10.1184/ 10.12682/ ... 10.7945/\n"
     ]
    },
    {
     "name": "stderr",
     "output_type": "stream",
     "text": [
      "Warning message in mutate_impl(.data, dots):\n",
      "“binding character and factor vector, coercing into character vector”"
     ]
    },
    {
     "name": "stdout",
     "output_type": "stream",
     "text": [
      "[1] \"DataCite\"\n",
      "[1] 10.15463/\n",
      "379 Levels: 10.11577/ 10.11586/ 10.11588/ 10.1184/ 10.12682/ ... 10.7945/\n",
      "[1] \"gesis.bsb\"\n",
      "[1] 10.15463/\n",
      "379 Levels: 10.11577/ 10.11586/ 10.11588/ 10.1184/ 10.12682/ ... 10.7945/\n"
     ]
    },
    {
     "name": "stderr",
     "output_type": "stream",
     "text": [
      "Warning message in mutate_impl(.data, dots):\n",
      "“binding character and factor vector, coercing into character vector”"
     ]
    },
    {
     "name": "stdout",
     "output_type": "stream",
     "text": [
      "[1] \"DataCite\"\n",
      "[1] 10.5451/\n",
      "379 Levels: 10.11577/ 10.11586/ 10.11588/ 10.1184/ 10.12682/ ... 10.7945/\n",
      "[1] \"ethz.unibas\"\n",
      "[1] 10.5451/\n",
      "379 Levels: 10.11577/ 10.11586/ 10.11588/ 10.1184/ 10.12682/ ... 10.7945/\n"
     ]
    },
    {
     "name": "stderr",
     "output_type": "stream",
     "text": [
      "Warning message in mutate_impl(.data, dots):\n",
      "“binding character and factor vector, coercing into character vector”"
     ]
    },
    {
     "name": "stdout",
     "output_type": "stream",
     "text": [
      "[1] \"DataCite\"\n",
      "[1] 10.15478/\n",
      "379 Levels: 10.11577/ 10.11586/ 10.11588/ 10.1184/ 10.12682/ ... 10.7945/\n",
      "[1] \"delft.iea\"\n",
      "[1] 10.15478/\n",
      "379 Levels: 10.11577/ 10.11586/ 10.11588/ 10.1184/ 10.12682/ ... 10.7945/\n"
     ]
    },
    {
     "name": "stderr",
     "output_type": "stream",
     "text": [
      "Warning message in mutate_impl(.data, dots):\n",
      "“binding character and factor vector, coercing into character vector”"
     ]
    },
    {
     "name": "stdout",
     "output_type": "stream",
     "text": [
      "[1] \"DataCite\"\n",
      "[1] 10.13133/\n",
      "379 Levels: 10.11577/ 10.11586/ 10.11588/ 10.1184/ 10.12682/ ... 10.7945/\n",
      "[1] \"crui.uniroma1\"\n",
      "[1] 10.13133/\n",
      "379 Levels: 10.11577/ 10.11586/ 10.11588/ 10.1184/ 10.12682/ ... 10.7945/\n"
     ]
    },
    {
     "name": "stderr",
     "output_type": "stream",
     "text": [
      "Warning message in mutate_impl(.data, dots):\n",
      "“binding character and factor vector, coercing into character vector”"
     ]
    },
    {
     "name": "stdout",
     "output_type": "stream",
     "text": [
      "[1] \"DataCite\"\n",
      "[1] 10.21334/\n",
      "379 Levels: 10.11577/ 10.11586/ 10.11588/ 10.1184/ 10.12682/ ... 10.7945/\n",
      "[1] \"bibsys.npolar\"\n",
      "[1] 10.21334/\n",
      "379 Levels: 10.11577/ 10.11586/ 10.11588/ 10.1184/ 10.12682/ ... 10.7945/\n"
     ]
    },
    {
     "name": "stderr",
     "output_type": "stream",
     "text": [
      "Warning message in mutate_impl(.data, dots):\n",
      "“binding character and factor vector, coercing into character vector”"
     ]
    },
    {
     "name": "stdout",
     "output_type": "stream",
     "text": [
      "[1] \"DataCite\"\n",
      "[1] 10.15474/\n",
      "379 Levels: 10.11577/ 10.11586/ 10.11588/ 10.1184/ 10.12682/ ... 10.7945/\n",
      "[1] \"inist.cebc\"\n",
      "[1] 10.15474/\n",
      "379 Levels: 10.11577/ 10.11586/ 10.11588/ 10.1184/ 10.12682/ ... 10.7945/\n"
     ]
    },
    {
     "name": "stderr",
     "output_type": "stream",
     "text": [
      "Warning message in mutate_impl(.data, dots):\n",
      "“binding character and factor vector, coercing into character vector”"
     ]
    },
    {
     "name": "stdout",
     "output_type": "stream",
     "text": [
      "[1] \"DataCite\"\n",
      "[1] 10.15129/\n",
      "379 Levels: 10.11577/ 10.11586/ 10.11588/ 10.1184/ 10.12682/ ... 10.7945/\n",
      "[1] \"bl.strath\"\n",
      "[1] 10.15129/\n",
      "379 Levels: 10.11577/ 10.11586/ 10.11588/ 10.1184/ 10.12682/ ... 10.7945/\n"
     ]
    },
    {
     "name": "stderr",
     "output_type": "stream",
     "text": [
      "Warning message in mutate_impl(.data, dots):\n",
      "“binding character and factor vector, coercing into character vector”"
     ]
    },
    {
     "name": "stdout",
     "output_type": "stream",
     "text": [
      "[1] \"Crossref\"\n",
      "[1] 10.18741/\n",
      "379 Levels: 10.11577/ 10.11586/ 10.11588/ 10.1184/ 10.12682/ ... 10.7945/\n"
     ]
    },
    {
     "name": "stderr",
     "output_type": "stream",
     "text": [
      "Warning message in mutate_impl(.data, dots):\n",
      "“binding character and factor vector, coercing into character vector”"
     ]
    },
    {
     "name": "stdout",
     "output_type": "stream",
     "text": [
      "[1] \"Crossref\"\n",
      "[1] 10.21226/\n",
      "379 Levels: 10.11577/ 10.11586/ 10.11588/ 10.1184/ 10.12682/ ... 10.7945/\n"
     ]
    },
    {
     "name": "stderr",
     "output_type": "stream",
     "text": [
      "Warning message in mutate_impl(.data, dots):\n",
      "“binding character and factor vector, coercing into character vector”"
     ]
    },
    {
     "name": "stdout",
     "output_type": "stream",
     "text": [
      "[1] \"DataCite\"\n",
      "[1] 10.15496/\n",
      "379 Levels: 10.11577/ 10.11586/ 10.11588/ 10.1184/ 10.12682/ ... 10.7945/\n",
      "[1] \"tib.ubtdois\"\n",
      "[1] 10.15496/\n",
      "379 Levels: 10.11577/ 10.11586/ 10.11588/ 10.1184/ 10.12682/ ... 10.7945/\n"
     ]
    },
    {
     "name": "stderr",
     "output_type": "stream",
     "text": [
      "Warning message in mutate_impl(.data, dots):\n",
      "“binding character and factor vector, coercing into character vector”"
     ]
    },
    {
     "name": "stdout",
     "output_type": "stream",
     "text": [
      "[1] \"DataCite\"\n",
      "[1] 10.15169/\n",
      "379 Levels: 10.11577/ 10.11586/ 10.11588/ 10.1184/ 10.12682/ ... 10.7945/\n",
      "[1] \"crui.unict\"\n",
      "[1] 10.15169/\n",
      "379 Levels: 10.11577/ 10.11586/ 10.11588/ 10.1184/ 10.12682/ ... 10.7945/\n"
     ]
    },
    {
     "name": "stderr",
     "output_type": "stream",
     "text": [
      "Warning message in mutate_impl(.data, dots):\n",
      "“binding character and factor vector, coercing into character vector”"
     ]
    },
    {
     "name": "stdout",
     "output_type": "stream",
     "text": [
      "[1] \"DataCite\"\n",
      "[1] 10.15131/\n",
      "379 Levels: 10.11577/ 10.11586/ 10.11588/ 10.1184/ 10.12682/ ... 10.7945/\n",
      "[1] \"bl.shef\"\n",
      "[1] 10.15131/\n",
      "379 Levels: 10.11577/ 10.11586/ 10.11588/ 10.1184/ 10.12682/ ... 10.7945/\n"
     ]
    },
    {
     "name": "stderr",
     "output_type": "stream",
     "text": [
      "Warning message in mutate_impl(.data, dots):\n",
      "“binding character and factor vector, coercing into character vector”"
     ]
    },
    {
     "name": "stdout",
     "output_type": "stream",
     "text": [
      "[1] \"DataCite\"\n",
      "[1] 10.18156/\n",
      "379 Levels: 10.11577/ 10.11586/ 10.11588/ 10.1184/ 10.12682/ ... 10.7945/\n",
      "[1] \"tib.ubtdois\"\n",
      "[1] 10.18156/\n",
      "379 Levels: 10.11577/ 10.11586/ 10.11588/ 10.1184/ 10.12682/ ... 10.7945/\n"
     ]
    },
    {
     "name": "stderr",
     "output_type": "stream",
     "text": [
      "Warning message in mutate_impl(.data, dots):\n",
      "“binding character and factor vector, coercing into character vector”"
     ]
    },
    {
     "name": "stdout",
     "output_type": "stream",
     "text": [
      "[1] \"DataCite\"\n",
      "[1] 10.21265/\n",
      "379 Levels: 10.11577/ 10.11586/ 10.11588/ 10.1184/ 10.12682/ ... 10.7945/\n",
      "[1] \"rads.main\"\n",
      "[1] 10.21265/\n",
      "379 Levels: 10.11577/ 10.11586/ 10.11588/ 10.1184/ 10.12682/ ... 10.7945/\n"
     ]
    },
    {
     "name": "stderr",
     "output_type": "stream",
     "text": [
      "Warning message in mutate_impl(.data, dots):\n",
      "“binding character and factor vector, coercing into character vector”"
     ]
    },
    {
     "name": "stdout",
     "output_type": "stream",
     "text": [
      "[1] \"DataCite\"\n",
      "[1] 10.21934/\n",
      "379 Levels: 10.11577/ 10.11586/ 10.11588/ 10.1184/ 10.12682/ ... 10.7945/\n",
      "[1] \"tib.baua-doi\"\n",
      "[1] 10.21934/\n",
      "379 Levels: 10.11577/ 10.11586/ 10.11588/ 10.1184/ 10.12682/ ... 10.7945/\n"
     ]
    },
    {
     "name": "stderr",
     "output_type": "stream",
     "text": [
      "Warning message in mutate_impl(.data, dots):\n",
      "“binding character and factor vector, coercing into character vector”"
     ]
    },
    {
     "name": "stdout",
     "output_type": "stream",
     "text": [
      "[1] \"DataCite\"\n",
      "[1] 10.7805/\n",
      "379 Levels: 10.11577/ 10.11586/ 10.11588/ 10.1184/ 10.12682/ ... 10.7945/\n",
      "[1] \"zbw.ifo\"\n",
      "[1] 10.7805/\n",
      "379 Levels: 10.11577/ 10.11586/ 10.11588/ 10.1184/ 10.12682/ ... 10.7945/\n"
     ]
    },
    {
     "name": "stderr",
     "output_type": "stream",
     "text": [
      "Warning message in mutate_impl(.data, dots):\n",
      "“binding character and factor vector, coercing into character vector”"
     ]
    },
    {
     "name": "stdout",
     "output_type": "stream",
     "text": [
      "[1] \"DataCite\"\n",
      "[1] 10.17028/\n",
      "379 Levels: 10.11577/ 10.11586/ 10.11588/ 10.1184/ 10.12682/ ... 10.7945/\n",
      "[1] \"bl.lboro\"\n",
      "[1] 10.17028/\n",
      "379 Levels: 10.11577/ 10.11586/ 10.11588/ 10.1184/ 10.12682/ ... 10.7945/\n"
     ]
    },
    {
     "name": "stderr",
     "output_type": "stream",
     "text": [
      "Warning message in mutate_impl(.data, dots):\n",
      "“binding character and factor vector, coercing into character vector”"
     ]
    },
    {
     "name": "stdout",
     "output_type": "stream",
     "text": [
      "[1] \"DataCite\"\n",
      "[1] 10.21236/\n",
      "379 Levels: 10.11577/ 10.11586/ 10.11588/ 10.1184/ 10.12682/ ... 10.7945/\n",
      "[1] \"cdl.dtic\"\n",
      "[1] 10.21236/\n",
      "379 Levels: 10.11577/ 10.11586/ 10.11588/ 10.1184/ 10.12682/ ... 10.7945/\n"
     ]
    },
    {
     "name": "stderr",
     "output_type": "stream",
     "text": [
      "Warning message in mutate_impl(.data, dots):\n",
      "“binding character and factor vector, coercing into character vector”"
     ]
    },
    {
     "name": "stdout",
     "output_type": "stream",
     "text": [
      "[1] \"Crossref\"\n",
      "[1] 10.25336/\n",
      "379 Levels: 10.11577/ 10.11586/ 10.11588/ 10.1184/ 10.12682/ ... 10.7945/\n"
     ]
    },
    {
     "name": "stderr",
     "output_type": "stream",
     "text": [
      "Warning message in mutate_impl(.data, dots):\n",
      "“binding character and factor vector, coercing into character vector”"
     ]
    },
    {
     "name": "stdout",
     "output_type": "stream",
     "text": [
      "[1] \"DataCite\"\n",
      "[1] 10.18130/\n",
      "379 Levels: 10.11577/ 10.11586/ 10.11588/ 10.1184/ 10.12682/ ... 10.7945/\n",
      "[1] \"cdl.uva\"\n",
      "[1] 10.18130/\n",
      "379 Levels: 10.11577/ 10.11586/ 10.11588/ 10.1184/ 10.12682/ ... 10.7945/\n"
     ]
    },
    {
     "name": "stderr",
     "output_type": "stream",
     "text": [
      "Warning message in mutate_impl(.data, dots):\n",
      "“binding character and factor vector, coercing into character vector”"
     ]
    },
    {
     "name": "stdout",
     "output_type": "stream",
     "text": [
      "[1] \"DataCite\"\n",
      "[1] 10.23731/\n",
      "379 Levels: 10.11577/ 10.11586/ 10.11588/ 10.1184/ 10.12682/ ... 10.7945/\n",
      "[1] \"cern.yrmono\"\n",
      "[1] 10.23731/\n",
      "379 Levels: 10.11577/ 10.11586/ 10.11588/ 10.1184/ 10.12682/ ... 10.7945/\n"
     ]
    },
    {
     "name": "stderr",
     "output_type": "stream",
     "text": [
      "Warning message in mutate_impl(.data, dots):\n",
      "“binding character and factor vector, coercing into character vector”"
     ]
    },
    {
     "name": "stdout",
     "output_type": "stream",
     "text": [
      "[1] \"DataCite\"\n",
      "[1] 10.17918/\n",
      "379 Levels: 10.11577/ 10.11586/ 10.11588/ 10.1184/ 10.12682/ ... 10.7945/\n",
      "[1] \"cdl.drxldata\"\n",
      "[1] 10.17918/\n",
      "379 Levels: 10.11577/ 10.11586/ 10.11588/ 10.1184/ 10.12682/ ... 10.7945/\n"
     ]
    },
    {
     "name": "stderr",
     "output_type": "stream",
     "text": [
      "Warning message in mutate_impl(.data, dots):\n",
      "“binding character and factor vector, coercing into character vector”"
     ]
    },
    {
     "name": "stdout",
     "output_type": "stream",
     "text": [
      "[1] \"DataCite\"\n",
      "[1] 10.15122/\n",
      "379 Levels: 10.11577/ 10.11586/ 10.11588/ 10.1184/ 10.12682/ ... 10.7945/\n",
      "[1] \"inist.garnier\"\n",
      "[1] 10.15122/\n",
      "379 Levels: 10.11577/ 10.11586/ 10.11588/ 10.1184/ 10.12682/ ... 10.7945/\n"
     ]
    },
    {
     "name": "stderr",
     "output_type": "stream",
     "text": [
      "Warning message in mutate_impl(.data, dots):\n",
      "“binding character and factor vector, coercing into character vector”"
     ]
    },
    {
     "name": "stdout",
     "output_type": "stream",
     "text": [
      "[1] \"DataCite\"\n",
      "[1] 10.14287/\n",
      "379 Levels: 10.11577/ 10.11586/ 10.11588/ 10.1184/ 10.12682/ ... 10.7945/\n",
      "[1] \"cisti.woudc\"\n",
      "[1] 10.14287/\n",
      "379 Levels: 10.11577/ 10.11586/ 10.11588/ 10.1184/ 10.12682/ ... 10.7945/\n"
     ]
    },
    {
     "name": "stderr",
     "output_type": "stream",
     "text": [
      "Warning message in mutate_impl(.data, dots):\n",
      "“binding character and factor vector, coercing into character vector”"
     ]
    },
    {
     "name": "stdout",
     "output_type": "stream",
     "text": [
      "[1] \"DataCite\"\n",
      "[1] 10.21224/\n",
      "379 Levels: 10.11577/ 10.11586/ 10.11588/ 10.1184/ 10.12682/ ... 10.7945/\n",
      "[1] \"cdl.ucsd\"\n",
      "[1] 10.21224/\n",
      "379 Levels: 10.11577/ 10.11586/ 10.11588/ 10.1184/ 10.12682/ ... 10.7945/\n"
     ]
    },
    {
     "name": "stderr",
     "output_type": "stream",
     "text": [
      "Warning message in mutate_impl(.data, dots):\n",
      "“binding character and factor vector, coercing into character vector”"
     ]
    },
    {
     "name": "stdout",
     "output_type": "stream",
     "text": [
      "[1] \"DataCite\"\n",
      "[1] 10.6104/\n",
      "379 Levels: 10.11577/ 10.11586/ 10.11588/ 10.1184/ 10.12682/ ... 10.7945/\n",
      "[1] \"gesis.ude\"\n",
      "[1] 10.6104/\n",
      "379 Levels: 10.11577/ 10.11586/ 10.11588/ 10.1184/ 10.12682/ ... 10.7945/\n"
     ]
    },
    {
     "name": "stderr",
     "output_type": "stream",
     "text": [
      "Warning message in mutate_impl(.data, dots):\n",
      "“binding character and factor vector, coercing into character vector”"
     ]
    },
    {
     "name": "stdout",
     "output_type": "stream",
     "text": [
      "[1] \"DataCite\"\n",
      "[1] 10.17174/\n",
      "379 Levels: 10.11577/ 10.11586/ 10.11588/ 10.1184/ 10.12682/ ... 10.7945/\n",
      "[1] \"gesis.ifpuk\"\n",
      "[1] 10.17174/\n",
      "379 Levels: 10.11577/ 10.11586/ 10.11588/ 10.1184/ 10.12682/ ... 10.7945/\n"
     ]
    },
    {
     "name": "stderr",
     "output_type": "stream",
     "text": [
      "Warning message in mutate_impl(.data, dots):\n",
      "“binding character and factor vector, coercing into character vector”"
     ]
    },
    {
     "name": "stdout",
     "output_type": "stream",
     "text": [
      "[1] \"DataCite\"\n",
      "[1] 10.18129/\n",
      "379 Levels: 10.11577/ 10.11586/ 10.11588/ 10.1184/ 10.12682/ ... 10.7945/\n",
      "[1] \"purdue.ncib\"\n",
      "[1] 10.18129/\n",
      "379 Levels: 10.11577/ 10.11586/ 10.11588/ 10.1184/ 10.12682/ ... 10.7945/\n"
     ]
    },
    {
     "name": "stderr",
     "output_type": "stream",
     "text": [
      "Warning message in mutate_impl(.data, dots):\n",
      "“binding character and factor vector, coercing into character vector”"
     ]
    },
    {
     "name": "stdout",
     "output_type": "stream",
     "text": [
      "[1] \"DataCite\"\n",
      "[1] 10.17864/\n",
      "379 Levels: 10.11577/ 10.11586/ 10.11588/ 10.1184/ 10.12682/ ... 10.7945/\n",
      "[1] \"bl.reading\"\n",
      "[1] 10.17864/\n",
      "379 Levels: 10.11577/ 10.11586/ 10.11588/ 10.1184/ 10.12682/ ... 10.7945/\n"
     ]
    },
    {
     "name": "stderr",
     "output_type": "stream",
     "text": [
      "Warning message in mutate_impl(.data, dots):\n",
      "“binding character and factor vector, coercing into character vector”"
     ]
    },
    {
     "name": "stdout",
     "output_type": "stream",
     "text": [
      "[1] \"DataCite\"\n",
      "[1] 10.4226/\n",
      "379 Levels: 10.11577/ 10.11586/ 10.11588/ 10.1184/ 10.12682/ ... 10.7945/\n",
      "[1] \"ands.centre95\"\n",
      "[1] 10.4226/\n",
      "379 Levels: 10.11577/ 10.11586/ 10.11588/ 10.1184/ 10.12682/ ... 10.7945/\n"
     ]
    },
    {
     "name": "stderr",
     "output_type": "stream",
     "text": [
      "Warning message in mutate_impl(.data, dots):\n",
      "“binding character and factor vector, coercing into character vector”"
     ]
    },
    {
     "name": "stdout",
     "output_type": "stream",
     "text": [
      "[1] \"DataCite\"\n",
      "[1] 10.17879/\n",
      "379 Levels: 10.11577/ 10.11586/ 10.11588/ 10.1184/ 10.12682/ ... 10.7945/\n",
      "[1] \"tib.ulbms\"\n",
      "[1] 10.17879/\n",
      "379 Levels: 10.11577/ 10.11586/ 10.11588/ 10.1184/ 10.12682/ ... 10.7945/\n"
     ]
    },
    {
     "name": "stderr",
     "output_type": "stream",
     "text": [
      "Warning message in mutate_impl(.data, dots):\n",
      "“binding character and factor vector, coercing into character vector”"
     ]
    },
    {
     "name": "stdout",
     "output_type": "stream",
     "text": [
      "[1] \"DataCite\"\n",
      "[1] 10.14455/\n",
      "379 Levels: 10.11577/ 10.11586/ 10.11588/ 10.1184/ 10.12682/ ... 10.7945/\n",
      "[1] \"nrct.db1\"\n",
      "[1] 10.14455/\n",
      "379 Levels: 10.11577/ 10.11586/ 10.11588/ 10.1184/ 10.12682/ ... 10.7945/\n"
     ]
    },
    {
     "name": "stderr",
     "output_type": "stream",
     "text": [
      "Warning message in mutate_impl(.data, dots):\n",
      "“binding character and factor vector, coercing into character vector”"
     ]
    },
    {
     "name": "stdout",
     "output_type": "stream",
     "text": [
      "[1] \"DataCite\"\n",
      "[1] 10.17182/\n",
      "379 Levels: 10.11577/ 10.11586/ 10.11588/ 10.1184/ 10.12682/ ... 10.7945/\n",
      "[1] \"cern.hepdata\"\n",
      "[1] 10.17182/\n",
      "379 Levels: 10.11577/ 10.11586/ 10.11588/ 10.1184/ 10.12682/ ... 10.7945/\n"
     ]
    },
    {
     "name": "stderr",
     "output_type": "stream",
     "text": [
      "Warning message in mutate_impl(.data, dots):\n",
      "“binding character and factor vector, coercing into character vector”"
     ]
    },
    {
     "name": "stdout",
     "output_type": "stream",
     "text": [
      "[1] \"DataCite\"\n",
      "[1] 10.11586/\n",
      "379 Levels: 10.11577/ 10.11586/ 10.11588/ 10.1184/ 10.12682/ ... 10.7945/\n",
      "[1] \"gesis.bstift\"\n",
      "[1] 10.11586/\n",
      "379 Levels: 10.11577/ 10.11586/ 10.11588/ 10.1184/ 10.12682/ ... 10.7945/\n"
     ]
    },
    {
     "name": "stderr",
     "output_type": "stream",
     "text": [
      "Warning message in mutate_impl(.data, dots):\n",
      "“binding character and factor vector, coercing into character vector”"
     ]
    },
    {
     "name": "stdout",
     "output_type": "stream",
     "text": [
      "[1] \"DataCite\"\n",
      "[1] 10.18444/\n",
      "379 Levels: 10.11577/ 10.11586/ 10.11588/ 10.1184/ 10.12682/ ... 10.7945/\n",
      "[1] \"gesis.rki\"\n",
      "[1] 10.18444/\n",
      "379 Levels: 10.11577/ 10.11586/ 10.11588/ 10.1184/ 10.12682/ ... 10.7945/\n"
     ]
    },
    {
     "name": "stderr",
     "output_type": "stream",
     "text": [
      "Warning message in mutate_impl(.data, dots):\n",
      "“binding character and factor vector, coercing into character vector”"
     ]
    },
    {
     "name": "stdout",
     "output_type": "stream",
     "text": [
      "[1] \"DataCite\"\n",
      "[1] 10.13020/\n",
      "379 Levels: 10.11577/ 10.11586/ 10.11588/ 10.1184/ 10.12682/ ... 10.7945/\n",
      "[1] \"purdue.drum\"\n",
      "[1] 10.13020/\n",
      "379 Levels: 10.11577/ 10.11586/ 10.11588/ 10.1184/ 10.12682/ ... 10.7945/\n"
     ]
    },
    {
     "name": "stderr",
     "output_type": "stream",
     "text": [
      "Warning message in mutate_impl(.data, dots):\n",
      "“binding character and factor vector, coercing into character vector”"
     ]
    },
    {
     "name": "stdout",
     "output_type": "stream",
     "text": [
      "[1] \"DataCite\"\n",
      "[1] 10.17633/\n",
      "379 Levels: 10.11577/ 10.11586/ 10.11588/ 10.1184/ 10.12682/ ... 10.7945/\n",
      "[1] \"bl.brunel\"\n",
      "[1] 10.17633/\n",
      "379 Levels: 10.11577/ 10.11586/ 10.11588/ 10.1184/ 10.12682/ ... 10.7945/\n"
     ]
    },
    {
     "name": "stderr",
     "output_type": "stream",
     "text": [
      "Warning message in mutate_impl(.data, dots):\n",
      "“binding character and factor vector, coercing into character vector”"
     ]
    },
    {
     "name": "stdout",
     "output_type": "stream",
     "text": [
      "[1] \"DataCite\"\n",
      "[1] 10.21248/\n",
      "379 Levels: 10.11577/ 10.11586/ 10.11588/ 10.1184/ 10.12682/ ... 10.7945/\n",
      "[1] \"gesis.ubjcs\"\n",
      "[1] 10.21248/\n",
      "379 Levels: 10.11577/ 10.11586/ 10.11588/ 10.1184/ 10.12682/ ... 10.7945/\n"
     ]
    },
    {
     "name": "stderr",
     "output_type": "stream",
     "text": [
      "Warning message in mutate_impl(.data, dots):\n",
      "“binding character and factor vector, coercing into character vector”"
     ]
    },
    {
     "name": "stdout",
     "output_type": "stream",
     "text": [
      "[1] \"DataCite\"\n",
      "[1] 10.18452/\n",
      "379 Levels: 10.11577/ 10.11586/ 10.11588/ 10.1184/ 10.12682/ ... 10.7945/\n",
      "[1] \"tib.hu-edoc\"\n",
      "[1] 10.18452/\n",
      "379 Levels: 10.11577/ 10.11586/ 10.11588/ 10.1184/ 10.12682/ ... 10.7945/\n"
     ]
    },
    {
     "name": "stderr",
     "output_type": "stream",
     "text": [
      "Warning message in mutate_impl(.data, dots):\n",
      "“binding character and factor vector, coercing into character vector”"
     ]
    },
    {
     "name": "stdout",
     "output_type": "stream",
     "text": [
      "[1] \"DataCite\"\n",
      "[1] 10.12753/\n",
      "379 Levels: 10.11577/ 10.11586/ 10.11588/ 10.1184/ 10.12682/ ... 10.7945/\n",
      "[1] \"tib.adlnet\"\n",
      "[1] 10.12753/\n",
      "379 Levels: 10.11577/ 10.11586/ 10.11588/ 10.1184/ 10.12682/ ... 10.7945/\n"
     ]
    },
    {
     "name": "stderr",
     "output_type": "stream",
     "text": [
      "Warning message in mutate_impl(.data, dots):\n",
      "“binding character and factor vector, coercing into character vector”"
     ]
    },
    {
     "name": "stdout",
     "output_type": "stream",
     "text": [
      "[1] \"DataCite\"\n",
      "[1] 10.20381/\n",
      "379 Levels: 10.11577/ 10.11586/ 10.11588/ 10.1184/ 10.12682/ ... 10.7945/\n",
      "[1] \"cisti.uottawa\"\n",
      "[1] 10.20381/\n",
      "379 Levels: 10.11577/ 10.11586/ 10.11588/ 10.1184/ 10.12682/ ... 10.7945/\n"
     ]
    },
    {
     "name": "stderr",
     "output_type": "stream",
     "text": [
      "Warning message in mutate_impl(.data, dots):\n",
      "“binding character and factor vector, coercing into character vector”"
     ]
    },
    {
     "name": "stdout",
     "output_type": "stream",
     "text": [
      "[1] \"DataCite\"\n",
      "[1] 10.7804/\n",
      "379 Levels: 10.11577/ 10.11586/ 10.11588/ 10.1184/ 10.12682/ ... 10.7945/\n",
      "[1] \"gesis.gesis\"\n",
      "[1] 10.7804/\n",
      "379 Levels: 10.11577/ 10.11586/ 10.11588/ 10.1184/ 10.12682/ ... 10.7945/\n"
     ]
    },
    {
     "name": "stderr",
     "output_type": "stream",
     "text": [
      "Warning message in mutate_impl(.data, dots):\n",
      "“binding character and factor vector, coercing into character vector”"
     ]
    },
    {
     "name": "stdout",
     "output_type": "stream",
     "text": [
      "[1] \"DataCite\"\n",
      "[1] 10.13154/\n",
      "379 Levels: 10.11577/ 10.11586/ 10.11588/ 10.1184/ 10.12682/ ... 10.7945/\n",
      "[1] \"tib.rubhb\"\n",
      "[1] 10.13154/\n",
      "379 Levels: 10.11577/ 10.11586/ 10.11588/ 10.1184/ 10.12682/ ... 10.7945/\n"
     ]
    },
    {
     "name": "stderr",
     "output_type": "stream",
     "text": [
      "Warning message in mutate_impl(.data, dots):\n",
      "“binding character and factor vector, coercing into character vector”"
     ]
    },
    {
     "name": "stdout",
     "output_type": "stream",
     "text": [
      "[1] \"DataCite\"\n",
      "[1] 10.21982/\n",
      "379 Levels: 10.11577/ 10.11586/ 10.11588/ 10.1184/ 10.12682/ ... 10.7945/\n",
      "[1] \"purdue.umgrss\"\n",
      "[1] 10.21982/\n",
      "379 Levels: 10.11577/ 10.11586/ 10.11588/ 10.1184/ 10.12682/ ... 10.7945/\n"
     ]
    },
    {
     "name": "stderr",
     "output_type": "stream",
     "text": [
      "Warning message in mutate_impl(.data, dots):\n",
      "“binding character and factor vector, coercing into character vector”"
     ]
    },
    {
     "name": "stdout",
     "output_type": "stream",
     "text": [
      "[1] \"Crossref\"\n",
      "[1] 10.21992/\n",
      "379 Levels: 10.11577/ 10.11586/ 10.11588/ 10.1184/ 10.12682/ ... 10.7945/\n"
     ]
    },
    {
     "name": "stderr",
     "output_type": "stream",
     "text": [
      "Warning message in mutate_impl(.data, dots):\n",
      "“binding character and factor vector, coercing into character vector”"
     ]
    },
    {
     "name": "stdout",
     "output_type": "stream",
     "text": [
      "[1] \"DataCite\"\n",
      "[1] 10.15465/\n",
      "379 Levels: 10.11577/ 10.11586/ 10.11588/ 10.1184/ 10.12682/ ... 10.7945/\n",
      "[1] \"gesis.gesis\"\n",
      "[1] 10.15465/\n",
      "379 Levels: 10.11577/ 10.11586/ 10.11588/ 10.1184/ 10.12682/ ... 10.7945/\n"
     ]
    },
    {
     "name": "stderr",
     "output_type": "stream",
     "text": [
      "Warning message in mutate_impl(.data, dots):\n",
      "“binding character and factor vector, coercing into character vector”"
     ]
    },
    {
     "name": "stdout",
     "output_type": "stream",
     "text": [
      "[1] \"DataCite\"\n",
      "[1] 10.14473/\n",
      "379 Levels: 10.11577/ 10.11586/ 10.11588/ 10.1184/ 10.12682/ ... 10.7945/\n",
      "[1] \"gesis.csda\"\n",
      "[1] 10.14473/\n",
      "379 Levels: 10.11577/ 10.11586/ 10.11588/ 10.1184/ 10.12682/ ... 10.7945/\n"
     ]
    },
    {
     "name": "stderr",
     "output_type": "stream",
     "text": [
      "Warning message in mutate_impl(.data, dots):\n",
      "“binding character and factor vector, coercing into character vector”"
     ]
    },
    {
     "name": "stdout",
     "output_type": "stream",
     "text": [
      "[1] \"DataCite\"\n",
      "[1] 10.13125/\n",
      "379 Levels: 10.11577/ 10.11586/ 10.11588/ 10.1184/ 10.12682/ ... 10.7945/\n",
      "[1] \"crui.unica\"\n",
      "[1] 10.13125/\n",
      "379 Levels: 10.11577/ 10.11586/ 10.11588/ 10.1184/ 10.12682/ ... 10.7945/\n"
     ]
    },
    {
     "name": "stderr",
     "output_type": "stream",
     "text": [
      "Warning message in mutate_impl(.data, dots):\n",
      "“binding character and factor vector, coercing into character vector”"
     ]
    },
    {
     "name": "stdout",
     "output_type": "stream",
     "text": [
      "[1] \"DataCite\"\n",
      "[1] 10.15462/\n",
      "379 Levels: 10.11577/ 10.11586/ 10.11588/ 10.1184/ 10.12682/ ... 10.7945/\n",
      "[1] \"gesis.ijll\"\n",
      "[1] 10.15462/\n",
      "379 Levels: 10.11577/ 10.11586/ 10.11588/ 10.1184/ 10.12682/ ... 10.7945/\n"
     ]
    },
    {
     "name": "stderr",
     "output_type": "stream",
     "text": [
      "Warning message in mutate_impl(.data, dots):\n",
      "“binding character and factor vector, coercing into character vector”"
     ]
    },
    {
     "name": "stdout",
     "output_type": "stream",
     "text": [
      "[1] \"DataCite\"\n",
      "[1] 10.17197/\n",
      "379 Levels: 10.11577/ 10.11586/ 10.11588/ 10.1184/ 10.12682/ ... 10.7945/\n",
      "[1] \"snd.ddb\"\n",
      "[1] 10.17197/\n",
      "379 Levels: 10.11577/ 10.11586/ 10.11588/ 10.1184/ 10.12682/ ... 10.7945/\n"
     ]
    },
    {
     "name": "stderr",
     "output_type": "stream",
     "text": [
      "Warning message in mutate_impl(.data, dots):\n",
      "“binding character and factor vector, coercing into character vector”"
     ]
    },
    {
     "name": "stdout",
     "output_type": "stream",
     "text": [
      "[1] \"DataCite\"\n",
      "[1] 10.5446/\n",
      "379 Levels: 10.11577/ 10.11586/ 10.11588/ 10.1184/ 10.12682/ ... 10.7945/\n",
      "[1] \"tib.kmo\"\n",
      "[1] 10.5446/\n",
      "379 Levels: 10.11577/ 10.11586/ 10.11588/ 10.1184/ 10.12682/ ... 10.7945/\n"
     ]
    },
    {
     "name": "stderr",
     "output_type": "stream",
     "text": [
      "Warning message in mutate_impl(.data, dots):\n",
      "“binding character and factor vector, coercing into character vector”"
     ]
    },
    {
     "name": "stdout",
     "output_type": "stream",
     "text": [
      "[1] \"DataCite\"\n",
      "[1] 10.14457/\n",
      "379 Levels: 10.11577/ 10.11586/ 10.11588/ 10.1184/ 10.12682/ ... 10.7945/\n",
      "[1] \"nrct.db1\"\n",
      "[1] 10.14457/\n",
      "379 Levels: 10.11577/ 10.11586/ 10.11588/ 10.1184/ 10.12682/ ... 10.7945/\n"
     ]
    },
    {
     "name": "stderr",
     "output_type": "stream",
     "text": [
      "Warning message in mutate_impl(.data, dots):\n",
      "“binding character and factor vector, coercing into character vector”"
     ]
    },
    {
     "name": "stdout",
     "output_type": "stream",
     "text": [
      "[1] \"DataCite\"\n",
      "[1] 10.18462/\n",
      "379 Levels: 10.11577/ 10.11586/ 10.11588/ 10.1184/ 10.12682/ ... 10.7945/\n",
      "[1] \"inist.iif\"\n",
      "[1] 10.18462/\n",
      "379 Levels: 10.11577/ 10.11586/ 10.11588/ 10.1184/ 10.12682/ ... 10.7945/\n"
     ]
    },
    {
     "name": "stderr",
     "output_type": "stream",
     "text": [
      "Warning message in mutate_impl(.data, dots):\n",
      "“binding character and factor vector, coercing into character vector”"
     ]
    },
    {
     "name": "stdout",
     "output_type": "stream",
     "text": [
      "[1] \"DataCite\"\n",
      "[1] 10.24436/\n",
      "379 Levels: 10.11577/ 10.11586/ 10.11588/ 10.1184/ 10.12682/ ... 10.7945/\n",
      "[1] \"ethz.ubbern\"\n",
      "[1] 10.24436/\n",
      "379 Levels: 10.11577/ 10.11586/ 10.11588/ 10.1184/ 10.12682/ ... 10.7945/\n"
     ]
    },
    {
     "name": "stderr",
     "output_type": "stream",
     "text": [
      "Warning message in mutate_impl(.data, dots):\n",
      "“binding character and factor vector, coercing into character vector”"
     ]
    },
    {
     "name": "stdout",
     "output_type": "stream",
     "text": [
      "[1] \"DataCite\"\n",
      "[1] 10.20368/\n",
      "379 Levels: 10.11577/ 10.11586/ 10.11588/ 10.1184/ 10.12682/ ... 10.7945/\n",
      "[1] \"crui.sie-l\"\n",
      "[1] 10.20368/\n",
      "379 Levels: 10.11577/ 10.11586/ 10.11588/ 10.1184/ 10.12682/ ... 10.7945/\n"
     ]
    },
    {
     "name": "stderr",
     "output_type": "stream",
     "text": [
      "Warning message in mutate_impl(.data, dots):\n",
      "“binding character and factor vector, coercing into character vector”"
     ]
    },
    {
     "name": "stdout",
     "output_type": "stream",
     "text": [
      "[1] \"Crossref\"\n",
      "[1] 10.18432/\n",
      "379 Levels: 10.11577/ 10.11586/ 10.11588/ 10.1184/ 10.12682/ ... 10.7945/\n"
     ]
    },
    {
     "name": "stderr",
     "output_type": "stream",
     "text": [
      "Warning message in mutate_impl(.data, dots):\n",
      "“binding character and factor vector, coercing into character vector”"
     ]
    },
    {
     "name": "stdout",
     "output_type": "stream",
     "text": [
      "[1] \"DataCite\"\n",
      "[1] 10.18143/\n",
      "379 Levels: 10.11577/ 10.11586/ 10.11588/ 10.1184/ 10.12682/ ... 10.7945/\n",
      "[1] \"inist.medsys\"\n",
      "[1] 10.18143/\n",
      "379 Levels: 10.11577/ 10.11586/ 10.11588/ 10.1184/ 10.12682/ ... 10.7945/\n"
     ]
    },
    {
     "name": "stderr",
     "output_type": "stream",
     "text": [
      "Warning message in mutate_impl(.data, dots):\n",
      "“binding character and factor vector, coercing into character vector”"
     ]
    },
    {
     "name": "stdout",
     "output_type": "stream",
     "text": [
      "[1] \"DataCite\"\n",
      "[1] 10.5444/\n",
      "379 Levels: 10.11577/ 10.11586/ 10.11588/ 10.1184/ 10.12682/ ... 10.7945/\n",
      "[1] \"tib.esgar\"\n",
      "[1] 10.5444/\n",
      "379 Levels: 10.11577/ 10.11586/ 10.11588/ 10.1184/ 10.12682/ ... 10.7945/\n"
     ]
    },
    {
     "name": "stderr",
     "output_type": "stream",
     "text": [
      "Warning message in mutate_impl(.data, dots):\n",
      "“binding character and factor vector, coercing into character vector”"
     ]
    },
    {
     "name": "stdout",
     "output_type": "stream",
     "text": [
      "[1] \"DataCite\"\n",
      "[1] 10.21266/\n",
      "379 Levels: 10.11577/ 10.11586/ 10.11588/ 10.1184/ 10.12682/ ... 10.7945/\n",
      "[1] \"rads.main\"\n",
      "[1] 10.21266/\n",
      "379 Levels: 10.11577/ 10.11586/ 10.11588/ 10.1184/ 10.12682/ ... 10.7945/\n"
     ]
    },
    {
     "name": "stderr",
     "output_type": "stream",
     "text": [
      "Warning message in mutate_impl(.data, dots):\n",
      "“binding character and factor vector, coercing into character vector”"
     ]
    },
    {
     "name": "stdout",
     "output_type": "stream",
     "text": [
      "[1] \"DataCite\"\n",
      "[1] 10.21956/\n",
      "379 Levels: 10.11577/ 10.11586/ 10.11588/ 10.1184/ 10.12682/ ... 10.7945/\n",
      "[1] \"bl.f1000r\"\n",
      "[1] 10.21956/\n",
      "379 Levels: 10.11577/ 10.11586/ 10.11588/ 10.1184/ 10.12682/ ... 10.7945/\n"
     ]
    },
    {
     "name": "stderr",
     "output_type": "stream",
     "text": [
      "Warning message in mutate_impl(.data, dots):\n",
      "“binding character and factor vector, coercing into character vector”"
     ]
    },
    {
     "name": "stdout",
     "output_type": "stream",
     "text": [
      "[1] \"DataCite\"\n",
      "[1] 10.17608/\n",
      "379 Levels: 10.11577/ 10.11586/ 10.11588/ 10.1184/ 10.12682/ ... 10.7945/\n",
      "[1] \"cdl.uoa\"\n",
      "[1] 10.17608/\n",
      "379 Levels: 10.11577/ 10.11586/ 10.11588/ 10.1184/ 10.12682/ ... 10.7945/\n"
     ]
    },
    {
     "name": "stderr",
     "output_type": "stream",
     "text": [
      "Warning message in mutate_impl(.data, dots):\n",
      "“binding character and factor vector, coercing into character vector”"
     ]
    },
    {
     "name": "stdout",
     "output_type": "stream",
     "text": [
      "[1] \"DataCite\"\n",
      "[1] 10.15154/\n",
      "379 Levels: 10.11577/ 10.11586/ 10.11588/ 10.1184/ 10.12682/ ... 10.7945/\n",
      "[1] \"osti.nimh\"\n",
      "[1] 10.15154/\n",
      "379 Levels: 10.11577/ 10.11586/ 10.11588/ 10.1184/ 10.12682/ ... 10.7945/\n"
     ]
    },
    {
     "name": "stderr",
     "output_type": "stream",
     "text": [
      "Warning message in mutate_impl(.data, dots):\n",
      "“binding character and factor vector, coercing into character vector”"
     ]
    },
    {
     "name": "stdout",
     "output_type": "stream",
     "text": [
      "[1] \"DataCite\"\n",
      "[1] 10.21238/\n",
      "379 Levels: 10.11577/ 10.11586/ 10.11588/ 10.1184/ 10.12682/ ... 10.7945/\n",
      "[1] \"cdl.ucsd\"\n",
      "[1] 10.21238/\n",
      "379 Levels: 10.11577/ 10.11586/ 10.11588/ 10.1184/ 10.12682/ ... 10.7945/\n"
     ]
    },
    {
     "name": "stderr",
     "output_type": "stream",
     "text": [
      "Warning message in mutate_impl(.data, dots):\n",
      "“binding character and factor vector, coercing into character vector”"
     ]
    },
    {
     "name": "stdout",
     "output_type": "stream",
     "text": [
      "[1] \"DataCite\"\n",
      "[1] 10.18163/\n",
      "379 Levels: 10.11577/ 10.11586/ 10.11588/ 10.1184/ 10.12682/ ... 10.7945/\n",
      "[1] \"cisti.urpp\"\n",
      "[1] 10.18163/\n",
      "379 Levels: 10.11577/ 10.11586/ 10.11588/ 10.1184/ 10.12682/ ... 10.7945/\n"
     ]
    },
    {
     "name": "stderr",
     "output_type": "stream",
     "text": [
      "Warning message in mutate_impl(.data, dots):\n",
      "“binding character and factor vector, coercing into character vector”"
     ]
    },
    {
     "name": "stdout",
     "output_type": "stream",
     "text": [
      "[1] \"DataCite\"\n",
      "[1] 10.17890/\n",
      "379 Levels: 10.11577/ 10.11586/ 10.11588/ 10.1184/ 10.12682/ ... 10.7945/\n",
      "[1] \"gesis.ihi\"\n",
      "[1] 10.17890/\n",
      "379 Levels: 10.11577/ 10.11586/ 10.11588/ 10.1184/ 10.12682/ ... 10.7945/\n"
     ]
    },
    {
     "name": "stderr",
     "output_type": "stream",
     "text": [
      "Warning message in mutate_impl(.data, dots):\n",
      "“binding character and factor vector, coercing into character vector”"
     ]
    },
    {
     "name": "stdout",
     "output_type": "stream",
     "text": [
      "[1] \"DataCite\"\n",
      "[1] 10.5452/\n",
      "379 Levels: 10.11577/ 10.11586/ 10.11588/ 10.1184/ 10.12682/ ... 10.7945/\n",
      "[1] \"ethz.ma\"\n",
      "[1] 10.5452/\n",
      "379 Levels: 10.11577/ 10.11586/ 10.11588/ 10.1184/ 10.12682/ ... 10.7945/\n"
     ]
    },
    {
     "name": "stderr",
     "output_type": "stream",
     "text": [
      "Warning message in mutate_impl(.data, dots):\n",
      "“binding character and factor vector, coercing into character vector”"
     ]
    },
    {
     "name": "stdout",
     "output_type": "stream",
     "text": [
      "[1] \"DataCite\"\n",
      "[1] 10.13094/\n",
      "379 Levels: 10.11577/ 10.11586/ 10.11588/ 10.1184/ 10.12682/ ... 10.7945/\n",
      "[1] \"ethz.smif\"\n",
      "[1] 10.13094/\n",
      "379 Levels: 10.11577/ 10.11586/ 10.11588/ 10.1184/ 10.12682/ ... 10.7945/\n"
     ]
    },
    {
     "name": "stderr",
     "output_type": "stream",
     "text": [
      "Warning message in mutate_impl(.data, dots):\n",
      "“binding character and factor vector, coercing into character vector”"
     ]
    },
    {
     "name": "stdout",
     "output_type": "stream",
     "text": [
      "[1] \"DataCite\"\n",
      "[1] 10.5905/\n",
      "379 Levels: 10.11577/ 10.11586/ 10.11588/ 10.1184/ 10.12682/ ... 10.7945/\n",
      "[1] \"ethz.da-rd\"\n",
      "[1] 10.5905/\n",
      "379 Levels: 10.11577/ 10.11586/ 10.11588/ 10.1184/ 10.12682/ ... 10.7945/\n"
     ]
    },
    {
     "name": "stderr",
     "output_type": "stream",
     "text": [
      "Warning message in mutate_impl(.data, dots):\n",
      "“binding character and factor vector, coercing into character vector”"
     ]
    },
    {
     "name": "stdout",
     "output_type": "stream",
     "text": [
      "[1] \"DataCite\"\n",
      "[1] 10.14753/\n",
      "379 Levels: 10.11577/ 10.11586/ 10.11588/ 10.1184/ 10.12682/ ... 10.7945/\n",
      "[1] \"mtakik.se\"\n",
      "[1] 10.14753/\n",
      "379 Levels: 10.11577/ 10.11586/ 10.11588/ 10.1184/ 10.12682/ ... 10.7945/\n"
     ]
    },
    {
     "name": "stderr",
     "output_type": "stream",
     "text": [
      "Warning message in mutate_impl(.data, dots):\n",
      "“binding character and factor vector, coercing into character vector”"
     ]
    },
    {
     "name": "stdout",
     "output_type": "stream",
     "text": [
      "[1] \"DataCite\"\n",
      "[1] 10.7802/\n",
      "379 Levels: 10.11577/ 10.11586/ 10.11588/ 10.1184/ 10.12682/ ... 10.7945/\n",
      "[1] \"gesis.gesis\"\n",
      "[1] 10.7802/\n",
      "379 Levels: 10.11577/ 10.11586/ 10.11588/ 10.1184/ 10.12682/ ... 10.7945/\n"
     ]
    },
    {
     "name": "stderr",
     "output_type": "stream",
     "text": [
      "Warning message in mutate_impl(.data, dots):\n",
      "“binding character and factor vector, coercing into character vector”"
     ]
    },
    {
     "name": "stdout",
     "output_type": "stream",
     "text": [
      "[1] \"Crossref\"\n",
      "[1] 10.21230/\n",
      "379 Levels: 10.11577/ 10.11586/ 10.11588/ 10.1184/ 10.12682/ ... 10.7945/\n"
     ]
    },
    {
     "name": "stderr",
     "output_type": "stream",
     "text": [
      "Warning message in mutate_impl(.data, dots):\n",
      "“binding character and factor vector, coercing into character vector”"
     ]
    },
    {
     "name": "stdout",
     "output_type": "stream",
     "text": [
      "[1] \"DataCite\"\n",
      "[1] 10.23638/\n",
      "379 Levels: 10.11577/ 10.11586/ 10.11588/ 10.1184/ 10.12682/ ... 10.7945/\n",
      "[1] \"inist.inria\"\n",
      "[1] 10.23638/\n",
      "379 Levels: 10.11577/ 10.11586/ 10.11588/ 10.1184/ 10.12682/ ... 10.7945/\n"
     ]
    },
    {
     "name": "stderr",
     "output_type": "stream",
     "text": [
      "Warning message in mutate_impl(.data, dots):\n",
      "“binding character and factor vector, coercing into character vector”"
     ]
    },
    {
     "name": "stdout",
     "output_type": "stream",
     "text": [
      "[1] \"DataCite\"\n",
      "[1] 10.12766/\n",
      "379 Levels: 10.11577/ 10.11586/ 10.11588/ 10.1184/ 10.12682/ ... 10.7945/\n",
      "[1] \"gesis.jna\"\n",
      "[1] 10.12766/\n",
      "379 Levels: 10.11577/ 10.11586/ 10.11588/ 10.1184/ 10.12682/ ... 10.7945/\n"
     ]
    },
    {
     "name": "stderr",
     "output_type": "stream",
     "text": [
      "Warning message in mutate_impl(.data, dots):\n",
      "“binding character and factor vector, coercing into character vector”"
     ]
    },
    {
     "name": "stdout",
     "output_type": "stream",
     "text": [
      "[1] \"DataCite\"\n",
      "[1] 10.11577/\n",
      "379 Levels: 10.11577/ 10.11586/ 10.11588/ 10.1184/ 10.12682/ ... 10.7945/\n",
      "[1] \"osti.cxidb\"\n",
      "[1] 10.11577/\n",
      "379 Levels: 10.11577/ 10.11586/ 10.11588/ 10.1184/ 10.12682/ ... 10.7945/\n"
     ]
    },
    {
     "name": "stderr",
     "output_type": "stream",
     "text": [
      "Warning message in mutate_impl(.data, dots):\n",
      "“binding character and factor vector, coercing into character vector”"
     ]
    },
    {
     "name": "stdout",
     "output_type": "stream",
     "text": [
      "[1] \"Crossref\"\n",
      "[1] 10.21971/\n",
      "379 Levels: 10.11577/ 10.11586/ 10.11588/ 10.1184/ 10.12682/ ... 10.7945/\n"
     ]
    },
    {
     "name": "stderr",
     "output_type": "stream",
     "text": [
      "Warning message in mutate_impl(.data, dots):\n",
      "“binding character and factor vector, coercing into character vector”"
     ]
    },
    {
     "name": "stdout",
     "output_type": "stream",
     "text": [
      "[1] \"DataCite\"\n",
      "[1] 10.7936/\n",
      "379 Levels: 10.11577/ 10.11586/ 10.11588/ 10.1184/ 10.12682/ ... 10.7945/\n",
      "[1] \"cdl.wustl\"\n",
      "[1] 10.7936/\n",
      "379 Levels: 10.11577/ 10.11586/ 10.11588/ 10.1184/ 10.12682/ ... 10.7945/\n"
     ]
    },
    {
     "name": "stderr",
     "output_type": "stream",
     "text": [
      "Warning message in mutate_impl(.data, dots):\n",
      "“binding character and factor vector, coercing into character vector”"
     ]
    },
    {
     "name": "stdout",
     "output_type": "stream",
     "text": [
      "[1] \"DataCite\"\n",
      "[1] 10.7283/\n",
      "379 Levels: 10.11577/ 10.11586/ 10.11588/ 10.1184/ 10.12682/ ... 10.7945/\n",
      "[1] \"cdl.unavco\"\n",
      "[1] 10.7283/\n",
      "379 Levels: 10.11577/ 10.11586/ 10.11588/ 10.1184/ 10.12682/ ... 10.7945/\n"
     ]
    },
    {
     "name": "stderr",
     "output_type": "stream",
     "text": [
      "Warning message in mutate_impl(.data, dots):\n",
      "“binding character and factor vector, coercing into character vector”"
     ]
    },
    {
     "name": "stdout",
     "output_type": "stream",
     "text": [
      "[1] \"DataCite\"\n",
      "[1] 10.6072/\n",
      "379 Levels: 10.11577/ 10.11586/ 10.11588/ 10.1184/ 10.12682/ ... 10.7945/\n",
      "[1] \"cdl.sdscsg\"\n",
      "[1] 10.6072/\n",
      "379 Levels: 10.11577/ 10.11586/ 10.11588/ 10.1184/ 10.12682/ ... 10.7945/\n"
     ]
    },
    {
     "name": "stderr",
     "output_type": "stream",
     "text": [
      "Warning message in mutate_impl(.data, dots):\n",
      "“binding character and factor vector, coercing into character vector”"
     ]
    },
    {
     "name": "stdout",
     "output_type": "stream",
     "text": [
      "[1] \"DataCite\"\n",
      "[1] 10.21267/\n",
      "379 Levels: 10.11577/ 10.11586/ 10.11588/ 10.1184/ 10.12682/ ... 10.7945/\n",
      "[1] \"rads.main\"\n",
      "[1] 10.21267/\n",
      "379 Levels: 10.11577/ 10.11586/ 10.11588/ 10.1184/ 10.12682/ ... 10.7945/\n"
     ]
    },
    {
     "name": "stderr",
     "output_type": "stream",
     "text": [
      "Warning message in mutate_impl(.data, dots):\n",
      "“binding character and factor vector, coercing into character vector”"
     ]
    },
    {
     "name": "stdout",
     "output_type": "stream",
     "text": [
      "[1] \"DataCite\"\n",
      "[1] 10.23661/\n",
      "379 Levels: 10.11577/ 10.11586/ 10.11588/ 10.1184/ 10.12682/ ... 10.7945/\n",
      "[1] \"gesis.die-gdi\"\n",
      "[1] 10.23661/\n",
      "379 Levels: 10.11577/ 10.11586/ 10.11588/ 10.1184/ 10.12682/ ... 10.7945/\n"
     ]
    },
    {
     "name": "stderr",
     "output_type": "stream",
     "text": [
      "Warning message in mutate_impl(.data, dots):\n",
      "“binding character and factor vector, coercing into character vector”"
     ]
    },
    {
     "name": "stdout",
     "output_type": "stream",
     "text": [
      "[1] \"DataCite\"\n",
      "[1] 10.13097/\n",
      "379 Levels: 10.11577/ 10.11586/ 10.11588/ 10.1184/ 10.12682/ ... 10.7945/\n",
      "[1] \"ethz.unigenf\"\n",
      "[1] 10.13097/\n",
      "379 Levels: 10.11577/ 10.11586/ 10.11588/ 10.1184/ 10.12682/ ... 10.7945/\n"
     ]
    },
    {
     "name": "stderr",
     "output_type": "stream",
     "text": [
      "Warning message in mutate_impl(.data, dots):\n",
      "“binding character and factor vector, coercing into character vector”"
     ]
    },
    {
     "name": "stdout",
     "output_type": "stream",
     "text": [
      "[1] \"DataCite\"\n",
      "[1] 10.21433/\n",
      "379 Levels: 10.11577/ 10.11586/ 10.11588/ 10.1184/ 10.12682/ ... 10.7945/\n",
      "[1] \"cdl.ucb\"\n",
      "[1] 10.21433/\n",
      "379 Levels: 10.11577/ 10.11586/ 10.11588/ 10.1184/ 10.12682/ ... 10.7945/\n"
     ]
    },
    {
     "name": "stderr",
     "output_type": "stream",
     "text": [
      "Warning message in mutate_impl(.data, dots):\n",
      "“binding character and factor vector, coercing into character vector”"
     ]
    },
    {
     "name": "stdout",
     "output_type": "stream",
     "text": [
      "[1] \"DataCite\"\n",
      "[1] 10.13009/\n",
      "379 Levels: 10.11577/ 10.11586/ 10.11588/ 10.1184/ 10.12682/ ... 10.7945/\n",
      "[1] \"inist.onera\"\n",
      "[1] 10.13009/\n",
      "379 Levels: 10.11577/ 10.11586/ 10.11588/ 10.1184/ 10.12682/ ... 10.7945/\n"
     ]
    },
    {
     "name": "stderr",
     "output_type": "stream",
     "text": [
      "Warning message in mutate_impl(.data, dots):\n",
      "“binding character and factor vector, coercing into character vector”"
     ]
    },
    {
     "name": "stdout",
     "output_type": "stream",
     "text": [
      "[1] \"DataCite\"\n",
      "[1] 10.25423/\n",
      "379 Levels: 10.11577/ 10.11586/ 10.11588/ 10.1184/ 10.12682/ ... 10.7945/\n",
      "[1] \"cmcc.opa\"\n",
      "[1] 10.25423/\n",
      "379 Levels: 10.11577/ 10.11586/ 10.11588/ 10.1184/ 10.12682/ ... 10.7945/\n"
     ]
    },
    {
     "name": "stderr",
     "output_type": "stream",
     "text": [
      "Warning message in mutate_impl(.data, dots):\n",
      "“binding character and factor vector, coercing into character vector”"
     ]
    }
   ],
   "source": [
    "dd<-get_listOfPrefix_Names(data_pack)"
   ]
  },
  {
   "cell_type": "code",
   "execution_count": 194,
   "metadata": {},
   "outputs": [],
   "source": [
    "get_listOfPrefix_Names_sub<-function(data){\n",
    "    prefixes<-as.data.frame(unique(data$subj_prefix))\n",
    "    prefixes$value<-prefixes$`unique(data$subj_prefix)`\n",
    "    colnames(prefixes)[2] <- \"subj_prefix\"\n",
    "\n",
    "\n",
    "    prefixes <- prefixes %>% \n",
    "        rowwise() %>% \n",
    "        mutate(\n",
    "            subj_dc = as.factor(get_datacentreName(subj_prefix)) \n",
    "        )\n",
    "    return(prefixes)\n",
    "}\n",
    "# get_listOfPrefix_Names(data_pack)"
   ]
  },
  {
   "cell_type": "code",
   "execution_count": 195,
   "metadata": {},
   "outputs": [
    {
     "name": "stdout",
     "output_type": "stream",
     "text": [
      "[1] \"Crossref\"\n",
      "[1] 10.1109/\n",
      "298 Levels: 10.1002/ 10.1007/ 10.1016/ 10.1017/ 10.1021/ 10.1023/ ... 10.7906/\n",
      "[1] \"Crossref\"\n",
      "[1] 10.1111/\n",
      "298 Levels: 10.1002/ 10.1007/ 10.1016/ 10.1017/ 10.1021/ 10.1023/ ... 10.7906/\n"
     ]
    },
    {
     "name": "stderr",
     "output_type": "stream",
     "text": [
      "Warning message in mutate_impl(.data, dots):\n",
      "“Unequal factor levels: coercing to character”Warning message in mutate_impl(.data, dots):\n",
      "“binding character and factor vector, coercing into character vector”Warning message in mutate_impl(.data, dots):\n",
      "“binding character and factor vector, coercing into character vector”"
     ]
    },
    {
     "name": "stdout",
     "output_type": "stream",
     "text": [
      "[1] \"Crossref\"\n",
      "[1] 10.1007/\n",
      "298 Levels: 10.1002/ 10.1007/ 10.1016/ 10.1017/ 10.1021/ 10.1023/ ... 10.7906/\n"
     ]
    },
    {
     "name": "stderr",
     "output_type": "stream",
     "text": [
      "Warning message in mutate_impl(.data, dots):\n",
      "“binding character and factor vector, coercing into character vector”"
     ]
    },
    {
     "name": "stdout",
     "output_type": "stream",
     "text": [
      "[1] \"Crossref\"\n",
      "[1] 10.1080/\n",
      "298 Levels: 10.1002/ 10.1007/ 10.1016/ 10.1017/ 10.1021/ 10.1023/ ... 10.7906/\n"
     ]
    },
    {
     "name": "stderr",
     "output_type": "stream",
     "text": [
      "Warning message in mutate_impl(.data, dots):\n",
      "“binding character and factor vector, coercing into character vector”"
     ]
    },
    {
     "name": "stdout",
     "output_type": "stream",
     "text": [
      "[1] \"Crossref\"\n",
      "[1] 10.12688/\n",
      "298 Levels: 10.1002/ 10.1007/ 10.1016/ 10.1017/ 10.1021/ 10.1023/ ... 10.7906/\n"
     ]
    },
    {
     "name": "stderr",
     "output_type": "stream",
     "text": [
      "Warning message in mutate_impl(.data, dots):\n",
      "“binding character and factor vector, coercing into character vector”"
     ]
    },
    {
     "name": "stdout",
     "output_type": "stream",
     "text": [
      "[1] \"Crossref\"\n",
      "[1] 10.3109/\n",
      "298 Levels: 10.1002/ 10.1007/ 10.1016/ 10.1017/ 10.1021/ 10.1023/ ... 10.7906/\n"
     ]
    },
    {
     "name": "stderr",
     "output_type": "stream",
     "text": [
      "Warning message in mutate_impl(.data, dots):\n",
      "“binding character and factor vector, coercing into character vector”"
     ]
    },
    {
     "name": "stdout",
     "output_type": "stream",
     "text": [
      "[1] \"Crossref\"\n",
      "[1] 10.17795/\n",
      "298 Levels: 10.1002/ 10.1007/ 10.1016/ 10.1017/ 10.1021/ 10.1023/ ... 10.7906/\n"
     ]
    },
    {
     "name": "stderr",
     "output_type": "stream",
     "text": [
      "Warning message in mutate_impl(.data, dots):\n",
      "“binding character and factor vector, coercing into character vector”"
     ]
    },
    {
     "name": "stdout",
     "output_type": "stream",
     "text": [
      "[1] \"Crossref\"\n",
      "[1] 10.7554/\n",
      "298 Levels: 10.1002/ 10.1007/ 10.1016/ 10.1017/ 10.1021/ 10.1023/ ... 10.7906/\n"
     ]
    },
    {
     "name": "stderr",
     "output_type": "stream",
     "text": [
      "Warning message in mutate_impl(.data, dots):\n",
      "“binding character and factor vector, coercing into character vector”"
     ]
    },
    {
     "name": "stdout",
     "output_type": "stream",
     "text": [
      "[1] \"Crossref\"\n",
      "[1] 10.1177/\n",
      "298 Levels: 10.1002/ 10.1007/ 10.1016/ 10.1017/ 10.1021/ 10.1023/ ... 10.7906/\n"
     ]
    },
    {
     "name": "stderr",
     "output_type": "stream",
     "text": [
      "Warning message in mutate_impl(.data, dots):\n",
      "“binding character and factor vector, coercing into character vector”"
     ]
    },
    {
     "name": "stdout",
     "output_type": "stream",
     "text": [
      "[1] \"Crossref\"\n",
      "[1] 10.1108/\n",
      "298 Levels: 10.1002/ 10.1007/ 10.1016/ 10.1017/ 10.1021/ 10.1023/ ... 10.7906/\n"
     ]
    },
    {
     "name": "stderr",
     "output_type": "stream",
     "text": [
      "Warning message in mutate_impl(.data, dots):\n",
      "“binding character and factor vector, coercing into character vector”"
     ]
    },
    {
     "name": "stdout",
     "output_type": "stream",
     "text": [
      "[1] \"Crossref\"\n",
      "[1] 10.1002/\n",
      "298 Levels: 10.1002/ 10.1007/ 10.1016/ 10.1017/ 10.1021/ 10.1023/ ... 10.7906/\n"
     ]
    },
    {
     "name": "stderr",
     "output_type": "stream",
     "text": [
      "Warning message in mutate_impl(.data, dots):\n",
      "“binding character and factor vector, coercing into character vector”"
     ]
    },
    {
     "name": "stdout",
     "output_type": "stream",
     "text": [
      "[1] \"Crossref\"\n",
      "[1] 10.1155/\n",
      "298 Levels: 10.1002/ 10.1007/ 10.1016/ 10.1017/ 10.1021/ 10.1023/ ... 10.7906/\n"
     ]
    },
    {
     "name": "stderr",
     "output_type": "stream",
     "text": [
      "Warning message in mutate_impl(.data, dots):\n",
      "“binding character and factor vector, coercing into character vector”"
     ]
    },
    {
     "name": "stdout",
     "output_type": "stream",
     "text": [
      "[1] \"Crossref\"\n",
      "[1] 10.1063/\n",
      "298 Levels: 10.1002/ 10.1007/ 10.1016/ 10.1017/ 10.1021/ 10.1023/ ... 10.7906/\n"
     ]
    },
    {
     "name": "stderr",
     "output_type": "stream",
     "text": [
      "Warning message in mutate_impl(.data, dots):\n",
      "“binding character and factor vector, coercing into character vector”"
     ]
    },
    {
     "name": "stdout",
     "output_type": "stream",
     "text": [
      "[1] \"Crossref\"\n",
      "[1] 10.2204/\n",
      "298 Levels: 10.1002/ 10.1007/ 10.1016/ 10.1017/ 10.1021/ 10.1023/ ... 10.7906/\n"
     ]
    },
    {
     "name": "stderr",
     "output_type": "stream",
     "text": [
      "Warning message in mutate_impl(.data, dots):\n",
      "“binding character and factor vector, coercing into character vector”"
     ]
    },
    {
     "name": "stdout",
     "output_type": "stream",
     "text": [
      "[1] \"Crossref\"\n",
      "[1] 10.1016/\n",
      "298 Levels: 10.1002/ 10.1007/ 10.1016/ 10.1017/ 10.1021/ 10.1023/ ... 10.7906/\n"
     ]
    },
    {
     "name": "stderr",
     "output_type": "stream",
     "text": [
      "Warning message in mutate_impl(.data, dots):\n",
      "“binding character and factor vector, coercing into character vector”"
     ]
    },
    {
     "name": "stdout",
     "output_type": "stream",
     "text": [
      "[1] \"Crossref\"\n",
      "[1] 10.1201/\n",
      "298 Levels: 10.1002/ 10.1007/ 10.1016/ 10.1017/ 10.1021/ 10.1023/ ... 10.7906/\n"
     ]
    },
    {
     "name": "stderr",
     "output_type": "stream",
     "text": [
      "Warning message in mutate_impl(.data, dots):\n",
      "“binding character and factor vector, coercing into character vector”"
     ]
    },
    {
     "name": "stdout",
     "output_type": "stream",
     "text": [
      "[1] \"Crossref\"\n",
      "[1] 10.1075/\n",
      "298 Levels: 10.1002/ 10.1007/ 10.1016/ 10.1017/ 10.1021/ 10.1023/ ... 10.7906/\n"
     ]
    },
    {
     "name": "stderr",
     "output_type": "stream",
     "text": [
      "Warning message in mutate_impl(.data, dots):\n",
      "“binding character and factor vector, coercing into character vector”"
     ]
    },
    {
     "name": "stdout",
     "output_type": "stream",
     "text": [
      "[1] \"Crossref\"\n",
      "[1] 10.14379/\n",
      "298 Levels: 10.1002/ 10.1007/ 10.1016/ 10.1017/ 10.1021/ 10.1023/ ... 10.7906/\n"
     ]
    },
    {
     "name": "stderr",
     "output_type": "stream",
     "text": [
      "Warning message in mutate_impl(.data, dots):\n",
      "“binding character and factor vector, coercing into character vector”"
     ]
    },
    {
     "name": "stdout",
     "output_type": "stream",
     "text": [
      "[1] \"Crossref\"\n",
      "[1] 10.1140/\n",
      "298 Levels: 10.1002/ 10.1007/ 10.1016/ 10.1017/ 10.1021/ 10.1023/ ... 10.7906/\n"
     ]
    },
    {
     "name": "stderr",
     "output_type": "stream",
     "text": [
      "Warning message in mutate_impl(.data, dots):\n",
      "“binding character and factor vector, coercing into character vector”"
     ]
    },
    {
     "name": "stdout",
     "output_type": "stream",
     "text": [
      "[1] \"Crossref\"\n",
      "[1] 10.3390/\n",
      "298 Levels: 10.1002/ 10.1007/ 10.1016/ 10.1017/ 10.1021/ 10.1023/ ... 10.7906/\n"
     ]
    },
    {
     "name": "stderr",
     "output_type": "stream",
     "text": [
      "Warning message in mutate_impl(.data, dots):\n",
      "“binding character and factor vector, coercing into character vector”"
     ]
    },
    {
     "name": "stdout",
     "output_type": "stream",
     "text": [
      "[1] \"Crossref\"\n",
      "[1] 10.1093/\n",
      "298 Levels: 10.1002/ 10.1007/ 10.1016/ 10.1017/ 10.1021/ 10.1023/ ... 10.7906/\n"
     ]
    },
    {
     "name": "stderr",
     "output_type": "stream",
     "text": [
      "Warning message in mutate_impl(.data, dots):\n",
      "“binding character and factor vector, coercing into character vector”"
     ]
    },
    {
     "name": "stdout",
     "output_type": "stream",
     "text": [
      "[1] \"Crossref\"\n",
      "[1] 10.1186/\n",
      "298 Levels: 10.1002/ 10.1007/ 10.1016/ 10.1017/ 10.1021/ 10.1023/ ... 10.7906/\n"
     ]
    },
    {
     "name": "stderr",
     "output_type": "stream",
     "text": [
      "Warning message in mutate_impl(.data, dots):\n",
      "“binding character and factor vector, coercing into character vector”"
     ]
    },
    {
     "name": "stdout",
     "output_type": "stream",
     "text": [
      "[1] \"Crossref\"\n",
      "[1] 10.1159/\n",
      "298 Levels: 10.1002/ 10.1007/ 10.1016/ 10.1017/ 10.1021/ 10.1023/ ... 10.7906/\n"
     ]
    },
    {
     "name": "stderr",
     "output_type": "stream",
     "text": [
      "Warning message in mutate_impl(.data, dots):\n",
      "“binding character and factor vector, coercing into character vector”"
     ]
    },
    {
     "name": "stdout",
     "output_type": "stream",
     "text": [
      "[1] \"Crossref\"\n",
      "[1] 10.1099/\n",
      "298 Levels: 10.1002/ 10.1007/ 10.1016/ 10.1017/ 10.1021/ 10.1023/ ... 10.7906/\n"
     ]
    },
    {
     "name": "stderr",
     "output_type": "stream",
     "text": [
      "Warning message in mutate_impl(.data, dots):\n",
      "“binding character and factor vector, coercing into character vector”"
     ]
    },
    {
     "name": "stdout",
     "output_type": "stream",
     "text": [
      "[1] \"Crossref\"\n",
      "[1] 10.1142/\n",
      "298 Levels: 10.1002/ 10.1007/ 10.1016/ 10.1017/ 10.1021/ 10.1023/ ... 10.7906/\n"
     ]
    },
    {
     "name": "stderr",
     "output_type": "stream",
     "text": [
      "Warning message in mutate_impl(.data, dots):\n",
      "“binding character and factor vector, coercing into character vector”"
     ]
    },
    {
     "name": "stdout",
     "output_type": "stream",
     "text": [
      "[1] \"Crossref\"\n",
      "[1] 10.1021/\n",
      "298 Levels: 10.1002/ 10.1007/ 10.1016/ 10.1017/ 10.1021/ 10.1023/ ... 10.7906/\n"
     ]
    },
    {
     "name": "stderr",
     "output_type": "stream",
     "text": [
      "Warning message in mutate_impl(.data, dots):\n",
      "“binding character and factor vector, coercing into character vector”"
     ]
    },
    {
     "name": "stdout",
     "output_type": "stream",
     "text": [
      "[1] \"Crossref\"\n",
      "[1] 10.1088/\n",
      "298 Levels: 10.1002/ 10.1007/ 10.1016/ 10.1017/ 10.1021/ 10.1023/ ... 10.7906/\n"
     ]
    },
    {
     "name": "stderr",
     "output_type": "stream",
     "text": [
      "Warning message in mutate_impl(.data, dots):\n",
      "“binding character and factor vector, coercing into character vector”"
     ]
    },
    {
     "name": "stdout",
     "output_type": "stream",
     "text": [
      "[1] \"Crossref\"\n",
      "[1] 10.1038/\n",
      "298 Levels: 10.1002/ 10.1007/ 10.1016/ 10.1017/ 10.1021/ 10.1023/ ... 10.7906/\n"
     ]
    },
    {
     "name": "stderr",
     "output_type": "stream",
     "text": [
      "Warning message in mutate_impl(.data, dots):\n",
      "“binding character and factor vector, coercing into character vector”"
     ]
    },
    {
     "name": "stdout",
     "output_type": "stream",
     "text": [
      "[1] \"Crossref\"\n",
      "[1] 10.1029/\n",
      "298 Levels: 10.1002/ 10.1007/ 10.1016/ 10.1017/ 10.1021/ 10.1023/ ... 10.7906/\n"
     ]
    },
    {
     "name": "stderr",
     "output_type": "stream",
     "text": [
      "Warning message in mutate_impl(.data, dots):\n",
      "“binding character and factor vector, coercing into character vector”"
     ]
    },
    {
     "name": "stdout",
     "output_type": "stream",
     "text": [
      "[1] \"Crossref\"\n",
      "[1] 10.3402/\n",
      "298 Levels: 10.1002/ 10.1007/ 10.1016/ 10.1017/ 10.1021/ 10.1023/ ... 10.7906/\n"
     ]
    },
    {
     "name": "stderr",
     "output_type": "stream",
     "text": [
      "Warning message in mutate_impl(.data, dots):\n",
      "“binding character and factor vector, coercing into character vector”"
     ]
    },
    {
     "name": "stdout",
     "output_type": "stream",
     "text": [
      "[1] \"Crossref\"\n",
      "[1] 10.1259/\n",
      "298 Levels: 10.1002/ 10.1007/ 10.1016/ 10.1017/ 10.1021/ 10.1023/ ... 10.7906/\n"
     ]
    },
    {
     "name": "stderr",
     "output_type": "stream",
     "text": [
      "Warning message in mutate_impl(.data, dots):\n",
      "“binding character and factor vector, coercing into character vector”"
     ]
    },
    {
     "name": "stdout",
     "output_type": "stream",
     "text": [
      "[1] \"Crossref\"\n",
      "[1] 10.1039/\n",
      "298 Levels: 10.1002/ 10.1007/ 10.1016/ 10.1017/ 10.1021/ 10.1023/ ... 10.7906/\n"
     ]
    },
    {
     "name": "stderr",
     "output_type": "stream",
     "text": [
      "Warning message in mutate_impl(.data, dots):\n",
      "“binding character and factor vector, coercing into character vector”"
     ]
    },
    {
     "name": "stdout",
     "output_type": "stream",
     "text": [
      "[1] \"Crossref\"\n",
      "[1] 10.1122/\n",
      "298 Levels: 10.1002/ 10.1007/ 10.1016/ 10.1017/ 10.1021/ 10.1023/ ... 10.7906/\n"
     ]
    },
    {
     "name": "stderr",
     "output_type": "stream",
     "text": [
      "Warning message in mutate_impl(.data, dots):\n",
      "“binding character and factor vector, coercing into character vector”"
     ]
    },
    {
     "name": "stdout",
     "output_type": "stream",
     "text": [
      "[1] \"Crossref\"\n",
      "[1] 10.1118/\n",
      "298 Levels: 10.1002/ 10.1007/ 10.1016/ 10.1017/ 10.1021/ 10.1023/ ... 10.7906/\n"
     ]
    },
    {
     "name": "stderr",
     "output_type": "stream",
     "text": [
      "Warning message in mutate_impl(.data, dots):\n",
      "“binding character and factor vector, coercing into character vector”"
     ]
    },
    {
     "name": "stdout",
     "output_type": "stream",
     "text": [
      "[1] \"Crossref\"\n",
      "[1] 10.1119/\n",
      "298 Levels: 10.1002/ 10.1007/ 10.1016/ 10.1017/ 10.1021/ 10.1023/ ... 10.7906/\n"
     ]
    },
    {
     "name": "stderr",
     "output_type": "stream",
     "text": [
      "Warning message in mutate_impl(.data, dots):\n",
      "“binding character and factor vector, coercing into character vector”"
     ]
    },
    {
     "name": "stdout",
     "output_type": "stream",
     "text": [
      "[1] \"Crossref\"\n",
      "[1] 10.1121/\n",
      "298 Levels: 10.1002/ 10.1007/ 10.1016/ 10.1017/ 10.1021/ 10.1023/ ... 10.7906/\n"
     ]
    },
    {
     "name": "stderr",
     "output_type": "stream",
     "text": [
      "Warning message in mutate_impl(.data, dots):\n",
      "“binding character and factor vector, coercing into character vector”"
     ]
    },
    {
     "name": "stdout",
     "output_type": "stream",
     "text": [
      "[1] \"Crossref\"\n",
      "[1] 10.1057/\n",
      "298 Levels: 10.1002/ 10.1007/ 10.1016/ 10.1017/ 10.1021/ 10.1023/ ... 10.7906/\n"
     ]
    },
    {
     "name": "stderr",
     "output_type": "stream",
     "text": [
      "Warning message in mutate_impl(.data, dots):\n",
      "“binding character and factor vector, coercing into character vector”"
     ]
    },
    {
     "name": "stdout",
     "output_type": "stream",
     "text": [
      "[1] \"Crossref\"\n",
      "[1] 10.1149/\n",
      "298 Levels: 10.1002/ 10.1007/ 10.1016/ 10.1017/ 10.1021/ 10.1023/ ... 10.7906/\n"
     ]
    },
    {
     "name": "stderr",
     "output_type": "stream",
     "text": [
      "Warning message in mutate_impl(.data, dots):\n",
      "“binding character and factor vector, coercing into character vector”"
     ]
    },
    {
     "name": "stdout",
     "output_type": "stream",
     "text": [
      "[1] \"Crossref\"\n",
      "[1] 10.1070/\n",
      "298 Levels: 10.1002/ 10.1007/ 10.1016/ 10.1017/ 10.1021/ 10.1023/ ... 10.7906/\n"
     ]
    },
    {
     "name": "stderr",
     "output_type": "stream",
     "text": [
      "Warning message in mutate_impl(.data, dots):\n",
      "“binding character and factor vector, coercing into character vector”"
     ]
    },
    {
     "name": "stdout",
     "output_type": "stream",
     "text": [
      "[1] \"Crossref\"\n",
      "[1] 10.1073/\n",
      "298 Levels: 10.1002/ 10.1007/ 10.1016/ 10.1017/ 10.1021/ 10.1023/ ... 10.7906/\n"
     ]
    },
    {
     "name": "stderr",
     "output_type": "stream",
     "text": [
      "Warning message in mutate_impl(.data, dots):\n",
      "“binding character and factor vector, coercing into character vector”"
     ]
    },
    {
     "name": "stdout",
     "output_type": "stream",
     "text": [
      "[1] \"Crossref\"\n",
      "[1] 10.3847/\n",
      "298 Levels: 10.1002/ 10.1007/ 10.1016/ 10.1017/ 10.1021/ 10.1023/ ... 10.7906/\n"
     ]
    },
    {
     "name": "stderr",
     "output_type": "stream",
     "text": [
      "Warning message in mutate_impl(.data, dots):\n",
      "“binding character and factor vector, coercing into character vector”"
     ]
    },
    {
     "name": "stdout",
     "output_type": "stream",
     "text": [
      "[1] \"Crossref\"\n",
      "[1] 10.1097/\n",
      "298 Levels: 10.1002/ 10.1007/ 10.1016/ 10.1017/ 10.1021/ 10.1023/ ... 10.7906/\n"
     ]
    },
    {
     "name": "stderr",
     "output_type": "stream",
     "text": [
      "Warning message in mutate_impl(.data, dots):\n",
      "“binding character and factor vector, coercing into character vector”"
     ]
    },
    {
     "name": "stdout",
     "output_type": "stream",
     "text": [
      "[1] \"Crossref\"\n",
      "[1] 10.1103/\n",
      "298 Levels: 10.1002/ 10.1007/ 10.1016/ 10.1017/ 10.1021/ 10.1023/ ... 10.7906/\n"
     ]
    },
    {
     "name": "stderr",
     "output_type": "stream",
     "text": [
      "Warning message in mutate_impl(.data, dots):\n",
      "“binding character and factor vector, coercing into character vector”"
     ]
    },
    {
     "name": "stdout",
     "output_type": "stream",
     "text": [
      "[1] \"Crossref\"\n",
      "[1] 10.1089/\n",
      "298 Levels: 10.1002/ 10.1007/ 10.1016/ 10.1017/ 10.1021/ 10.1023/ ... 10.7906/\n"
     ]
    },
    {
     "name": "stderr",
     "output_type": "stream",
     "text": [
      "Warning message in mutate_impl(.data, dots):\n",
      "“binding character and factor vector, coercing into character vector”"
     ]
    },
    {
     "name": "stdout",
     "output_type": "stream",
     "text": [
      "[1] \"Crossref\"\n",
      "[1] 10.1116/\n",
      "298 Levels: 10.1002/ 10.1007/ 10.1016/ 10.1017/ 10.1021/ 10.1023/ ... 10.7906/\n"
     ]
    },
    {
     "name": "stderr",
     "output_type": "stream",
     "text": [
      "Warning message in mutate_impl(.data, dots):\n",
      "“binding character and factor vector, coercing into character vector”"
     ]
    },
    {
     "name": "stdout",
     "output_type": "stream",
     "text": [
      "[1] \"Crossref\"\n",
      "[1] 10.7567/\n",
      "298 Levels: 10.1002/ 10.1007/ 10.1016/ 10.1017/ 10.1021/ 10.1023/ ... 10.7906/\n"
     ]
    },
    {
     "name": "stderr",
     "output_type": "stream",
     "text": [
      "Warning message in mutate_impl(.data, dots):\n",
      "“binding character and factor vector, coercing into character vector”"
     ]
    },
    {
     "name": "stdout",
     "output_type": "stream",
     "text": [
      "[1] \"Crossref\"\n",
      "[1] 10.1146/\n",
      "298 Levels: 10.1002/ 10.1007/ 10.1016/ 10.1017/ 10.1021/ 10.1023/ ... 10.7906/\n"
     ]
    },
    {
     "name": "stderr",
     "output_type": "stream",
     "text": [
      "Warning message in mutate_impl(.data, dots):\n",
      "“binding character and factor vector, coercing into character vector”"
     ]
    },
    {
     "name": "stdout",
     "output_type": "stream",
     "text": [
      "[1] \"Crossref\"\n",
      "[1] 10.1139/\n",
      "298 Levels: 10.1002/ 10.1007/ 10.1016/ 10.1017/ 10.1021/ 10.1023/ ... 10.7906/\n"
     ]
    },
    {
     "name": "stderr",
     "output_type": "stream",
     "text": [
      "Warning message in mutate_impl(.data, dots):\n",
      "“binding character and factor vector, coercing into character vector”"
     ]
    },
    {
     "name": "stdout",
     "output_type": "stream",
     "text": [
      "[1] \"Crossref\"\n",
      "[1] 10.7566/\n",
      "298 Levels: 10.1002/ 10.1007/ 10.1016/ 10.1017/ 10.1021/ 10.1023/ ... 10.7906/\n"
     ]
    },
    {
     "name": "stderr",
     "output_type": "stream",
     "text": [
      "Warning message in mutate_impl(.data, dots):\n",
      "“binding character and factor vector, coercing into character vector”"
     ]
    },
    {
     "name": "stdout",
     "output_type": "stream",
     "text": [
      "[1] \"Crossref\"\n",
      "[1] 10.1162/\n",
      "298 Levels: 10.1002/ 10.1007/ 10.1016/ 10.1017/ 10.1021/ 10.1023/ ... 10.7906/\n"
     ]
    },
    {
     "name": "stderr",
     "output_type": "stream",
     "text": [
      "Warning message in mutate_impl(.data, dots):\n",
      "“binding character and factor vector, coercing into character vector”"
     ]
    },
    {
     "name": "stdout",
     "output_type": "stream",
     "text": [
      "[1] \"Crossref\"\n",
      "[1] 10.1190/\n",
      "298 Levels: 10.1002/ 10.1007/ 10.1016/ 10.1017/ 10.1021/ 10.1023/ ... 10.7906/\n"
     ]
    },
    {
     "name": "stderr",
     "output_type": "stream",
     "text": [
      "Warning message in mutate_impl(.data, dots):\n",
      "“binding character and factor vector, coercing into character vector”"
     ]
    },
    {
     "name": "stdout",
     "output_type": "stream",
     "text": [
      "[1] \"Crossref\"\n",
      "[1] 10.1261/\n",
      "298 Levels: 10.1002/ 10.1007/ 10.1016/ 10.1017/ 10.1021/ 10.1023/ ... 10.7906/\n"
     ]
    },
    {
     "name": "stderr",
     "output_type": "stream",
     "text": [
      "Warning message in mutate_impl(.data, dots):\n",
      "“binding character and factor vector, coercing into character vector”"
     ]
    },
    {
     "name": "stdout",
     "output_type": "stream",
     "text": [
      "[1] \"Crossref\"\n",
      "[1] 10.1017/\n",
      "298 Levels: 10.1002/ 10.1007/ 10.1016/ 10.1017/ 10.1021/ 10.1023/ ... 10.7906/\n"
     ]
    },
    {
     "name": "stderr",
     "output_type": "stream",
     "text": [
      "Warning message in mutate_impl(.data, dots):\n",
      "“binding character and factor vector, coercing into character vector”"
     ]
    },
    {
     "name": "stdout",
     "output_type": "stream",
     "text": [
      "[1] \"Crossref\"\n",
      "[1] 10.1182/\n",
      "298 Levels: 10.1002/ 10.1007/ 10.1016/ 10.1017/ 10.1021/ 10.1023/ ... 10.7906/\n"
     ]
    },
    {
     "name": "stderr",
     "output_type": "stream",
     "text": [
      "Warning message in mutate_impl(.data, dots):\n",
      "“binding character and factor vector, coercing into character vector”"
     ]
    },
    {
     "name": "stdout",
     "output_type": "stream",
     "text": [
      "[1] \"Crossref\"\n",
      "[1] 10.1164/\n",
      "298 Levels: 10.1002/ 10.1007/ 10.1016/ 10.1017/ 10.1021/ 10.1023/ ... 10.7906/\n"
     ]
    },
    {
     "name": "stderr",
     "output_type": "stream",
     "text": [
      "Warning message in mutate_impl(.data, dots):\n",
      "“binding character and factor vector, coercing into character vector”"
     ]
    },
    {
     "name": "stdout",
     "output_type": "stream",
     "text": [
      "[1] \"Crossref\"\n",
      "[1] 10.1126/\n",
      "298 Levels: 10.1002/ 10.1007/ 10.1016/ 10.1017/ 10.1021/ 10.1023/ ... 10.7906/\n"
     ]
    },
    {
     "name": "stderr",
     "output_type": "stream",
     "text": [
      "Warning message in mutate_impl(.data, dots):\n",
      "“binding character and factor vector, coercing into character vector”"
     ]
    },
    {
     "name": "stdout",
     "output_type": "stream",
     "text": [
      "[1] \"mEDRA\"\n",
      "[1] 10.3233/\n",
      "298 Levels: 10.1002/ 10.1007/ 10.1016/ 10.1017/ 10.1021/ 10.1023/ ... 10.7906/\n"
     ]
    },
    {
     "name": "stderr",
     "output_type": "stream",
     "text": [
      "Warning message in mutate_impl(.data, dots):\n",
      "“binding character and factor vector, coercing into character vector”"
     ]
    },
    {
     "name": "stdout",
     "output_type": "stream",
     "text": [
      "[1] \"Crossref\"\n",
      "[1] 10.1260/\n",
      "298 Levels: 10.1002/ 10.1007/ 10.1016/ 10.1017/ 10.1021/ 10.1023/ ... 10.7906/\n"
     ]
    },
    {
     "name": "stderr",
     "output_type": "stream",
     "text": [
      "Warning message in mutate_impl(.data, dots):\n",
      "“binding character and factor vector, coercing into character vector”"
     ]
    },
    {
     "name": "stdout",
     "output_type": "stream",
     "text": [
      "[1] \"Crossref\"\n",
      "[1] 10.1113/\n",
      "298 Levels: 10.1002/ 10.1007/ 10.1016/ 10.1017/ 10.1021/ 10.1023/ ... 10.7906/\n"
     ]
    },
    {
     "name": "stderr",
     "output_type": "stream",
     "text": [
      "Warning message in mutate_impl(.data, dots):\n",
      "“binding character and factor vector, coercing into character vector”"
     ]
    },
    {
     "name": "stdout",
     "output_type": "stream",
     "text": [
      "[1] \"Crossref\"\n",
      "[1] 10.1124/\n",
      "298 Levels: 10.1002/ 10.1007/ 10.1016/ 10.1017/ 10.1021/ 10.1023/ ... 10.7906/\n"
     ]
    },
    {
     "name": "stderr",
     "output_type": "stream",
     "text": [
      "Warning message in mutate_impl(.data, dots):\n",
      "“binding character and factor vector, coercing into character vector”"
     ]
    },
    {
     "name": "stdout",
     "output_type": "stream",
     "text": [
      "[1] \"Crossref\"\n",
      "[1] 10.1086/\n",
      "298 Levels: 10.1002/ 10.1007/ 10.1016/ 10.1017/ 10.1021/ 10.1023/ ... 10.7906/\n"
     ]
    },
    {
     "name": "stderr",
     "output_type": "stream",
     "text": [
      "Warning message in mutate_impl(.data, dots):\n",
      "“binding character and factor vector, coercing into character vector”"
     ]
    },
    {
     "name": "stdout",
     "output_type": "stream",
     "text": [
      "[1] \"Crossref\"\n",
      "[1] 10.1378/\n",
      "298 Levels: 10.1002/ 10.1007/ 10.1016/ 10.1017/ 10.1021/ 10.1023/ ... 10.7906/\n"
     ]
    },
    {
     "name": "stderr",
     "output_type": "stream",
     "text": [
      "Warning message in mutate_impl(.data, dots):\n",
      "“binding character and factor vector, coercing into character vector”"
     ]
    },
    {
     "name": "stdout",
     "output_type": "stream",
     "text": [
      "[1] \"Crossref\"\n",
      "[1] 10.1179/\n",
      "298 Levels: 10.1002/ 10.1007/ 10.1016/ 10.1017/ 10.1021/ 10.1023/ ... 10.7906/\n"
     ]
    },
    {
     "name": "stderr",
     "output_type": "stream",
     "text": [
      "Warning message in mutate_impl(.data, dots):\n",
      "“binding character and factor vector, coercing into character vector”"
     ]
    },
    {
     "name": "stdout",
     "output_type": "stream",
     "text": [
      "[1] \"Crossref\"\n",
      "[1] 10.2217/\n",
      "298 Levels: 10.1002/ 10.1007/ 10.1016/ 10.1017/ 10.1021/ 10.1023/ ... 10.7906/\n"
     ]
    },
    {
     "name": "stderr",
     "output_type": "stream",
     "text": [
      "Warning message in mutate_impl(.data, dots):\n",
      "“binding character and factor vector, coercing into character vector”"
     ]
    },
    {
     "name": "stdout",
     "output_type": "stream",
     "text": [
      "[1] \"Crossref\"\n",
      "[1] 10.1209/\n",
      "298 Levels: 10.1002/ 10.1007/ 10.1016/ 10.1017/ 10.1021/ 10.1023/ ... 10.7906/\n"
     ]
    },
    {
     "name": "stderr",
     "output_type": "stream",
     "text": [
      "Warning message in mutate_impl(.data, dots):\n",
      "“binding character and factor vector, coercing into character vector”"
     ]
    },
    {
     "name": "stdout",
     "output_type": "stream",
     "text": [
      "[1] \"Crossref\"\n",
      "[1] 10.1208/\n",
      "298 Levels: 10.1002/ 10.1007/ 10.1016/ 10.1017/ 10.1021/ 10.1023/ ... 10.7906/\n"
     ]
    },
    {
     "name": "stderr",
     "output_type": "stream",
     "text": [
      "Warning message in mutate_impl(.data, dots):\n",
      "“binding character and factor vector, coercing into character vector”"
     ]
    },
    {
     "name": "stdout",
     "output_type": "stream",
     "text": [
      "[1] \"Crossref\"\n",
      "[1] 10.1617/\n",
      "298 Levels: 10.1002/ 10.1007/ 10.1016/ 10.1017/ 10.1021/ 10.1023/ ... 10.7906/\n"
     ]
    },
    {
     "name": "stderr",
     "output_type": "stream",
     "text": [
      "Warning message in mutate_impl(.data, dots):\n",
      "“binding character and factor vector, coercing into character vector”"
     ]
    },
    {
     "name": "stdout",
     "output_type": "stream",
     "text": [
      "[1] \"Crossref\"\n",
      "[1] 10.1098/\n",
      "298 Levels: 10.1002/ 10.1007/ 10.1016/ 10.1017/ 10.1021/ 10.1023/ ... 10.7906/\n"
     ]
    },
    {
     "name": "stderr",
     "output_type": "stream",
     "text": [
      "Warning message in mutate_impl(.data, dots):\n",
      "“binding character and factor vector, coercing into character vector”"
     ]
    },
    {
     "name": "stdout",
     "output_type": "stream",
     "text": [
      "[1] \"Crossref\"\n",
      "[1] 10.1902/\n",
      "298 Levels: 10.1002/ 10.1007/ 10.1016/ 10.1017/ 10.1021/ 10.1023/ ... 10.7906/\n"
     ]
    },
    {
     "name": "stderr",
     "output_type": "stream",
     "text": [
      "Warning message in mutate_impl(.data, dots):\n",
      "“binding character and factor vector, coercing into character vector”"
     ]
    },
    {
     "name": "stdout",
     "output_type": "stream",
     "text": [
      "[1] \"Crossref\"\n",
      "[1] 10.1590/\n",
      "298 Levels: 10.1002/ 10.1007/ 10.1016/ 10.1017/ 10.1021/ 10.1023/ ... 10.7906/\n"
     ]
    },
    {
     "name": "stderr",
     "output_type": "stream",
     "text": [
      "Warning message in mutate_impl(.data, dots):\n",
      "“binding character and factor vector, coercing into character vector”"
     ]
    },
    {
     "name": "stdout",
     "output_type": "stream",
     "text": [
      "[1] \"Crossref\"\n",
      "[1] 10.2196/\n",
      "298 Levels: 10.1002/ 10.1007/ 10.1016/ 10.1017/ 10.1021/ 10.1023/ ... 10.7906/\n"
     ]
    },
    {
     "name": "stderr",
     "output_type": "stream",
     "text": [
      "Warning message in mutate_impl(.data, dots):\n",
      "“binding character and factor vector, coercing into character vector”"
     ]
    },
    {
     "name": "stdout",
     "output_type": "stream",
     "text": [
      "[1] \"Crossref\"\n",
      "[1] 10.3897/\n",
      "298 Levels: 10.1002/ 10.1007/ 10.1016/ 10.1017/ 10.1021/ 10.1023/ ... 10.7906/\n"
     ]
    },
    {
     "name": "stderr",
     "output_type": "stream",
     "text": [
      "Warning message in mutate_impl(.data, dots):\n",
      "“binding character and factor vector, coercing into character vector”"
     ]
    },
    {
     "name": "stdout",
     "output_type": "stream",
     "text": [
      "[1] \"Crossref\"\n",
      "[1] 10.2190/\n",
      "298 Levels: 10.1002/ 10.1007/ 10.1016/ 10.1017/ 10.1021/ 10.1023/ ... 10.7906/\n"
     ]
    },
    {
     "name": "stderr",
     "output_type": "stream",
     "text": [
      "Warning message in mutate_impl(.data, dots):\n",
      "“binding character and factor vector, coercing into character vector”"
     ]
    },
    {
     "name": "stdout",
     "output_type": "stream",
     "text": [
      "[1] \"Crossref\"\n",
      "[1] 10.2140/\n",
      "298 Levels: 10.1002/ 10.1007/ 10.1016/ 10.1017/ 10.1021/ 10.1023/ ... 10.7906/\n"
     ]
    },
    {
     "name": "stderr",
     "output_type": "stream",
     "text": [
      "Warning message in mutate_impl(.data, dots):\n",
      "“binding character and factor vector, coercing into character vector”"
     ]
    },
    {
     "name": "stdout",
     "output_type": "stream",
     "text": [
      "[1] \"Crossref\"\n",
      "[1] 10.2205/\n",
      "298 Levels: 10.1002/ 10.1007/ 10.1016/ 10.1017/ 10.1021/ 10.1023/ ... 10.7906/\n"
     ]
    },
    {
     "name": "stderr",
     "output_type": "stream",
     "text": [
      "Warning message in mutate_impl(.data, dots):\n",
      "“binding character and factor vector, coercing into character vector”"
     ]
    },
    {
     "name": "stdout",
     "output_type": "stream",
     "text": [
      "[1] \"Crossref\"\n",
      "[1] 10.1515/\n",
      "298 Levels: 10.1002/ 10.1007/ 10.1016/ 10.1017/ 10.1021/ 10.1023/ ... 10.7906/\n"
     ]
    },
    {
     "name": "stderr",
     "output_type": "stream",
     "text": [
      "Warning message in mutate_impl(.data, dots):\n",
      "“binding character and factor vector, coercing into character vector”"
     ]
    },
    {
     "name": "stdout",
     "output_type": "stream",
     "text": [
      "[1] \"Crossref\"\n",
      "[1] 10.1188/\n",
      "298 Levels: 10.1002/ 10.1007/ 10.1016/ 10.1017/ 10.1021/ 10.1023/ ... 10.7906/\n"
     ]
    },
    {
     "name": "stderr",
     "output_type": "stream",
     "text": [
      "Warning message in mutate_impl(.data, dots):\n",
      "“binding character and factor vector, coercing into character vector”"
     ]
    },
    {
     "name": "stdout",
     "output_type": "stream",
     "text": [
      "[1] \"Crossref\"\n",
      "[1] 10.1631/\n",
      "298 Levels: 10.1002/ 10.1007/ 10.1016/ 10.1017/ 10.1021/ 10.1023/ ... 10.7906/\n"
     ]
    },
    {
     "name": "stderr",
     "output_type": "stream",
     "text": [
      "Warning message in mutate_impl(.data, dots):\n",
      "“binding character and factor vector, coercing into character vector”"
     ]
    },
    {
     "name": "stdout",
     "output_type": "stream",
     "text": [
      "[1] \"Crossref\"\n",
      "[1] 10.1890/\n",
      "298 Levels: 10.1002/ 10.1007/ 10.1016/ 10.1017/ 10.1021/ 10.1023/ ... 10.7906/\n"
     ]
    },
    {
     "name": "stderr",
     "output_type": "stream",
     "text": [
      "Warning message in mutate_impl(.data, dots):\n",
      "“binding character and factor vector, coercing into character vector”"
     ]
    },
    {
     "name": "stdout",
     "output_type": "stream",
     "text": [
      "[1] \"Crossref\"\n",
      "[1] 10.4007/\n",
      "298 Levels: 10.1002/ 10.1007/ 10.1016/ 10.1017/ 10.1021/ 10.1023/ ... 10.7906/\n"
     ]
    },
    {
     "name": "stderr",
     "output_type": "stream",
     "text": [
      "Warning message in mutate_impl(.data, dots):\n",
      "“binding character and factor vector, coercing into character vector”"
     ]
    },
    {
     "name": "stdout",
     "output_type": "stream",
     "text": [
      "[1] \"Crossref\"\n",
      "[1] 10.2478/\n",
      "298 Levels: 10.1002/ 10.1007/ 10.1016/ 10.1017/ 10.1021/ 10.1023/ ... 10.7906/\n"
     ]
    },
    {
     "name": "stderr",
     "output_type": "stream",
     "text": [
      "Warning message in mutate_impl(.data, dots):\n",
      "“binding character and factor vector, coercing into character vector”"
     ]
    },
    {
     "name": "stdout",
     "output_type": "stream",
     "text": [
      "[1] \"Crossref\"\n",
      "[1] 10.50505/\n",
      "298 Levels: 10.1002/ 10.1007/ 10.1016/ 10.1017/ 10.1021/ 10.1023/ ... 10.7906/\n"
     ]
    },
    {
     "name": "stderr",
     "output_type": "stream",
     "text": [
      "Warning message in mutate_impl(.data, dots):\n",
      "“binding character and factor vector, coercing into character vector”"
     ]
    },
    {
     "name": "stdout",
     "output_type": "stream",
     "text": [
      "[1] \"Crossref\"\n",
      "[1] 10.1257/\n",
      "298 Levels: 10.1002/ 10.1007/ 10.1016/ 10.1017/ 10.1021/ 10.1023/ ... 10.7906/\n"
     ]
    },
    {
     "name": "stderr",
     "output_type": "stream",
     "text": [
      "Warning message in mutate_impl(.data, dots):\n",
      "“binding character and factor vector, coercing into character vector”"
     ]
    },
    {
     "name": "stdout",
     "output_type": "stream",
     "text": [
      "[1] \"Crossref\"\n",
      "[1] 10.2753/\n",
      "298 Levels: 10.1002/ 10.1007/ 10.1016/ 10.1017/ 10.1021/ 10.1023/ ... 10.7906/\n"
     ]
    },
    {
     "name": "stderr",
     "output_type": "stream",
     "text": [
      "Warning message in mutate_impl(.data, dots):\n",
      "“binding character and factor vector, coercing into character vector”"
     ]
    },
    {
     "name": "stdout",
     "output_type": "stream",
     "text": [
      "[1] \"Crossref\"\n",
      "[1] 10.2200/\n",
      "298 Levels: 10.1002/ 10.1007/ 10.1016/ 10.1017/ 10.1021/ 10.1023/ ... 10.7906/\n"
     ]
    },
    {
     "name": "stderr",
     "output_type": "stream",
     "text": [
      "Warning message in mutate_impl(.data, dots):\n",
      "“binding character and factor vector, coercing into character vector”"
     ]
    },
    {
     "name": "stdout",
     "output_type": "stream",
     "text": [
      "[1] \"Crossref\"\n",
      "[1] 10.1653/\n",
      "298 Levels: 10.1002/ 10.1007/ 10.1016/ 10.1017/ 10.1021/ 10.1023/ ... 10.7906/\n"
     ]
    },
    {
     "name": "stderr",
     "output_type": "stream",
     "text": [
      "Warning message in mutate_impl(.data, dots):\n",
      "“binding character and factor vector, coercing into character vector”"
     ]
    },
    {
     "name": "stdout",
     "output_type": "stream",
     "text": [
      "[1] \"Crossref\"\n",
      "[1] 10.2989/\n",
      "298 Levels: 10.1002/ 10.1007/ 10.1016/ 10.1017/ 10.1021/ 10.1023/ ... 10.7906/\n"
     ]
    },
    {
     "name": "stderr",
     "output_type": "stream",
     "text": [
      "Warning message in mutate_impl(.data, dots):\n",
      "“binding character and factor vector, coercing into character vector”"
     ]
    },
    {
     "name": "stdout",
     "output_type": "stream",
     "text": [
      "[1] \"Crossref\"\n",
      "[1] 10.3141/\n",
      "298 Levels: 10.1002/ 10.1007/ 10.1016/ 10.1017/ 10.1021/ 10.1023/ ... 10.7906/\n"
     ]
    },
    {
     "name": "stderr",
     "output_type": "stream",
     "text": [
      "Warning message in mutate_impl(.data, dots):\n",
      "“binding character and factor vector, coercing into character vector”"
     ]
    },
    {
     "name": "stdout",
     "output_type": "stream",
     "text": [
      "[1] \"Crossref\"\n",
      "[1] 10.3354/\n",
      "298 Levels: 10.1002/ 10.1007/ 10.1016/ 10.1017/ 10.1021/ 10.1023/ ... 10.7906/\n"
     ]
    },
    {
     "name": "stderr",
     "output_type": "stream",
     "text": [
      "Warning message in mutate_impl(.data, dots):\n",
      "“binding character and factor vector, coercing into character vector”"
     ]
    },
    {
     "name": "stdout",
     "output_type": "stream",
     "text": [
      "[1] \"Crossref\"\n",
      "[1] 10.3367/\n",
      "298 Levels: 10.1002/ 10.1007/ 10.1016/ 10.1017/ 10.1021/ 10.1023/ ... 10.7906/\n"
     ]
    },
    {
     "name": "stderr",
     "output_type": "stream",
     "text": [
      "Warning message in mutate_impl(.data, dots):\n",
      "“binding character and factor vector, coercing into character vector”"
     ]
    },
    {
     "name": "stdout",
     "output_type": "stream",
     "text": [
      "[1] \"Crossref\"\n",
      "[1] 10.3722/\n",
      "298 Levels: 10.1002/ 10.1007/ 10.1016/ 10.1017/ 10.1021/ 10.1023/ ... 10.7906/\n"
     ]
    },
    {
     "name": "stderr",
     "output_type": "stream",
     "text": [
      "Warning message in mutate_impl(.data, dots):\n",
      "“binding character and factor vector, coercing into character vector”"
     ]
    },
    {
     "name": "stdout",
     "output_type": "stream",
     "text": [
      "[1] \"Crossref\"\n",
      "[1] 10.3389/\n",
      "298 Levels: 10.1002/ 10.1007/ 10.1016/ 10.1017/ 10.1021/ 10.1023/ ... 10.7906/\n"
     ]
    },
    {
     "name": "stderr",
     "output_type": "stream",
     "text": [
      "Warning message in mutate_impl(.data, dots):\n",
      "“binding character and factor vector, coercing into character vector”"
     ]
    },
    {
     "name": "stdout",
     "output_type": "stream",
     "text": [
      "[1] \"KISTI\"\n",
      "[1] 10.3743/\n",
      "298 Levels: 10.1002/ 10.1007/ 10.1016/ 10.1017/ 10.1021/ 10.1023/ ... 10.7906/\n"
     ]
    },
    {
     "name": "stderr",
     "output_type": "stream",
     "text": [
      "Warning message in mutate_impl(.data, dots):\n",
      "“binding character and factor vector, coercing into character vector”"
     ]
    },
    {
     "name": "stdout",
     "output_type": "stream",
     "text": [
      "[1] \"Crossref\"\n",
      "[1] 10.3832/\n",
      "298 Levels: 10.1002/ 10.1007/ 10.1016/ 10.1017/ 10.1021/ 10.1023/ ... 10.7906/\n"
     ]
    },
    {
     "name": "stderr",
     "output_type": "stream",
     "text": [
      "Warning message in mutate_impl(.data, dots):\n",
      "“binding character and factor vector, coercing into character vector”"
     ]
    },
    {
     "name": "stdout",
     "output_type": "stream",
     "text": [
      "[1] \"Crossref\"\n",
      "[1] 10.3846/\n",
      "298 Levels: 10.1002/ 10.1007/ 10.1016/ 10.1017/ 10.1021/ 10.1023/ ... 10.7906/\n"
     ]
    },
    {
     "name": "stderr",
     "output_type": "stream",
     "text": [
      "Warning message in mutate_impl(.data, dots):\n",
      "“binding character and factor vector, coercing into character vector”"
     ]
    },
    {
     "name": "stdout",
     "output_type": "stream",
     "text": [
      "[1] \"Crossref\"\n",
      "[1] 10.3923/\n",
      "298 Levels: 10.1002/ 10.1007/ 10.1016/ 10.1017/ 10.1021/ 10.1023/ ... 10.7906/\n"
     ]
    },
    {
     "name": "stderr",
     "output_type": "stream",
     "text": [
      "Warning message in mutate_impl(.data, dots):\n",
      "“binding character and factor vector, coercing into character vector”"
     ]
    },
    {
     "name": "stdout",
     "output_type": "stream",
     "text": [
      "[1] \"Crossref\"\n",
      "[1] 10.4054/\n",
      "298 Levels: 10.1002/ 10.1007/ 10.1016/ 10.1017/ 10.1021/ 10.1023/ ... 10.7906/\n"
     ]
    },
    {
     "name": "stderr",
     "output_type": "stream",
     "text": [
      "Warning message in mutate_impl(.data, dots):\n",
      "“binding character and factor vector, coercing into character vector”"
     ]
    },
    {
     "name": "stdout",
     "output_type": "stream",
     "text": [
      "[1] \"Crossref\"\n",
      "[1] 10.3928/\n",
      "298 Levels: 10.1002/ 10.1007/ 10.1016/ 10.1017/ 10.1021/ 10.1023/ ... 10.7906/\n"
     ]
    },
    {
     "name": "stderr",
     "output_type": "stream",
     "text": [
      "Warning message in mutate_impl(.data, dots):\n",
      "“binding character and factor vector, coercing into character vector”"
     ]
    },
    {
     "name": "stdout",
     "output_type": "stream",
     "text": [
      "[1] \"Crossref\"\n",
      "[1] 10.3934/\n",
      "298 Levels: 10.1002/ 10.1007/ 10.1016/ 10.1017/ 10.1021/ 10.1023/ ... 10.7906/\n"
     ]
    },
    {
     "name": "stderr",
     "output_type": "stream",
     "text": [
      "Warning message in mutate_impl(.data, dots):\n",
      "“binding character and factor vector, coercing into character vector”"
     ]
    },
    {
     "name": "stdout",
     "output_type": "stream",
     "text": [
      "[1] \"Crossref\"\n",
      "[1] 10.3989/\n",
      "298 Levels: 10.1002/ 10.1007/ 10.1016/ 10.1017/ 10.1021/ 10.1023/ ... 10.7906/\n"
     ]
    },
    {
     "name": "stderr",
     "output_type": "stream",
     "text": [
      "Warning message in mutate_impl(.data, dots):\n",
      "“binding character and factor vector, coercing into character vector”"
     ]
    },
    {
     "name": "stdout",
     "output_type": "stream",
     "text": [
      "[1] \"Crossref\"\n",
      "[1] 10.3758/\n",
      "298 Levels: 10.1002/ 10.1007/ 10.1016/ 10.1017/ 10.1021/ 10.1023/ ... 10.7906/\n"
     ]
    },
    {
     "name": "stderr",
     "output_type": "stream",
     "text": [
      "Warning message in mutate_impl(.data, dots):\n",
      "“binding character and factor vector, coercing into character vector”"
     ]
    },
    {
     "name": "stdout",
     "output_type": "stream",
     "text": [
      "[1] \"Crossref\"\n",
      "[1] 10.3916/\n",
      "298 Levels: 10.1002/ 10.1007/ 10.1016/ 10.1017/ 10.1021/ 10.1023/ ... 10.7906/\n"
     ]
    },
    {
     "name": "stderr",
     "output_type": "stream",
     "text": [
      "Warning message in mutate_impl(.data, dots):\n",
      "“binding character and factor vector, coercing into character vector”"
     ]
    },
    {
     "name": "stdout",
     "output_type": "stream",
     "text": [
      "[1] \"Crossref\"\n",
      "[1] 10.3986/\n",
      "298 Levels: 10.1002/ 10.1007/ 10.1016/ 10.1017/ 10.1021/ 10.1023/ ... 10.7906/\n"
     ]
    },
    {
     "name": "stderr",
     "output_type": "stream",
     "text": [
      "Warning message in mutate_impl(.data, dots):\n",
      "“binding character and factor vector, coercing into character vector”"
     ]
    },
    {
     "name": "stdout",
     "output_type": "stream",
     "text": [
      "[1] \"Crossref\"\n",
      "[1] 10.4000/\n",
      "298 Levels: 10.1002/ 10.1007/ 10.1016/ 10.1017/ 10.1021/ 10.1023/ ... 10.7906/\n"
     ]
    },
    {
     "name": "stderr",
     "output_type": "stream",
     "text": [
      "Warning message in mutate_impl(.data, dots):\n",
      "“binding character and factor vector, coercing into character vector”"
     ]
    },
    {
     "name": "stdout",
     "output_type": "stream",
     "text": [
      "[1] \"Crossref\"\n",
      "[1] 10.3904/\n",
      "298 Levels: 10.1002/ 10.1007/ 10.1016/ 10.1017/ 10.1021/ 10.1023/ ... 10.7906/\n"
     ]
    },
    {
     "name": "stderr",
     "output_type": "stream",
     "text": [
      "Warning message in mutate_impl(.data, dots):\n",
      "“binding character and factor vector, coercing into character vector”"
     ]
    },
    {
     "name": "stdout",
     "output_type": "stream",
     "text": [
      "[1] \"Crossref\"\n",
      "[1] 10.3952/\n",
      "298 Levels: 10.1002/ 10.1007/ 10.1016/ 10.1017/ 10.1021/ 10.1023/ ... 10.7906/\n"
     ]
    },
    {
     "name": "stderr",
     "output_type": "stream",
     "text": [
      "Warning message in mutate_impl(.data, dots):\n",
      "“binding character and factor vector, coercing into character vector”"
     ]
    },
    {
     "name": "stdout",
     "output_type": "stream",
     "text": [
      "[1] \"Crossref\"\n",
      "[1] 10.4173/\n",
      "298 Levels: 10.1002/ 10.1007/ 10.1016/ 10.1017/ 10.1021/ 10.1023/ ... 10.7906/\n"
     ]
    },
    {
     "name": "stderr",
     "output_type": "stream",
     "text": [
      "Warning message in mutate_impl(.data, dots):\n",
      "“binding character and factor vector, coercing into character vector”"
     ]
    },
    {
     "name": "stdout",
     "output_type": "stream",
     "text": [
      "[1] \"Crossref\"\n",
      "[1] 10.3789/\n",
      "298 Levels: 10.1002/ 10.1007/ 10.1016/ 10.1017/ 10.1021/ 10.1023/ ... 10.7906/\n"
     ]
    },
    {
     "name": "stderr",
     "output_type": "stream",
     "text": [
      "Warning message in mutate_impl(.data, dots):\n",
      "“binding character and factor vector, coercing into character vector”"
     ]
    },
    {
     "name": "stdout",
     "output_type": "stream",
     "text": [
      "[1] \"Crossref\"\n",
      "[1] 10.4102/\n",
      "298 Levels: 10.1002/ 10.1007/ 10.1016/ 10.1017/ 10.1021/ 10.1023/ ... 10.7906/\n"
     ]
    },
    {
     "name": "stderr",
     "output_type": "stream",
     "text": [
      "Warning message in mutate_impl(.data, dots):\n",
      "“binding character and factor vector, coercing into character vector”"
     ]
    },
    {
     "name": "stdout",
     "output_type": "stream",
     "text": [
      "[1] \"Crossref\"\n",
      "[1] 10.4158/\n",
      "298 Levels: 10.1002/ 10.1007/ 10.1016/ 10.1017/ 10.1021/ 10.1023/ ... 10.7906/\n"
     ]
    },
    {
     "name": "stderr",
     "output_type": "stream",
     "text": [
      "Warning message in mutate_impl(.data, dots):\n",
      "“binding character and factor vector, coercing into character vector”"
     ]
    },
    {
     "name": "stdout",
     "output_type": "stream",
     "text": [
      "[1] \"Crossref\"\n",
      "[1] 10.17159/\n",
      "298 Levels: 10.1002/ 10.1007/ 10.1016/ 10.1017/ 10.1021/ 10.1023/ ... 10.7906/\n"
     ]
    },
    {
     "name": "stderr",
     "output_type": "stream",
     "text": [
      "Warning message in mutate_impl(.data, dots):\n",
      "“binding character and factor vector, coercing into character vector”"
     ]
    },
    {
     "name": "stdout",
     "output_type": "stream",
     "text": [
      "[1] \"Crossref\"\n",
      "[1] 10.3946/\n",
      "298 Levels: 10.1002/ 10.1007/ 10.1016/ 10.1017/ 10.1021/ 10.1023/ ... 10.7906/\n"
     ]
    },
    {
     "name": "stderr",
     "output_type": "stream",
     "text": [
      "Warning message in mutate_impl(.data, dots):\n",
      "“binding character and factor vector, coercing into character vector”"
     ]
    },
    {
     "name": "stdout",
     "output_type": "stream",
     "text": [
      "[1] \"Crossref\"\n",
      "[1] 10.4204/\n",
      "298 Levels: 10.1002/ 10.1007/ 10.1016/ 10.1017/ 10.1021/ 10.1023/ ... 10.7906/\n"
     ]
    },
    {
     "name": "stderr",
     "output_type": "stream",
     "text": [
      "Warning message in mutate_impl(.data, dots):\n",
      "“binding character and factor vector, coercing into character vector”"
     ]
    },
    {
     "name": "stdout",
     "output_type": "stream",
     "text": [
      "[1] \"Crossref\"\n",
      "[1] 10.4236/\n",
      "298 Levels: 10.1002/ 10.1007/ 10.1016/ 10.1017/ 10.1021/ 10.1023/ ... 10.7906/\n"
     ]
    },
    {
     "name": "stderr",
     "output_type": "stream",
     "text": [
      "Warning message in mutate_impl(.data, dots):\n",
      "“binding character and factor vector, coercing into character vector”"
     ]
    },
    {
     "name": "stdout",
     "output_type": "stream",
     "text": [
      "[1] \"KISTI\"\n",
      "[1] 10.4134/\n",
      "298 Levels: 10.1002/ 10.1007/ 10.1016/ 10.1017/ 10.1021/ 10.1023/ ... 10.7906/\n"
     ]
    },
    {
     "name": "stderr",
     "output_type": "stream",
     "text": [
      "Warning message in mutate_impl(.data, dots):\n",
      "“binding character and factor vector, coercing into character vector”"
     ]
    },
    {
     "name": "stdout",
     "output_type": "stream",
     "text": [
      "[1] \"Crossref\"\n",
      "[1] 10.4338/\n",
      "298 Levels: 10.1002/ 10.1007/ 10.1016/ 10.1017/ 10.1021/ 10.1023/ ... 10.7906/\n"
     ]
    },
    {
     "name": "stderr",
     "output_type": "stream",
     "text": [
      "Warning message in mutate_impl(.data, dots):\n",
      "“binding character and factor vector, coercing into character vector”"
     ]
    },
    {
     "name": "stdout",
     "output_type": "stream",
     "text": [
      "[1] \"Crossref\"\n",
      "[1] 10.4178/\n",
      "298 Levels: 10.1002/ 10.1007/ 10.1016/ 10.1017/ 10.1021/ 10.1023/ ... 10.7906/\n"
     ]
    },
    {
     "name": "stderr",
     "output_type": "stream",
     "text": [
      "Warning message in mutate_impl(.data, dots):\n",
      "“binding character and factor vector, coercing into character vector”"
     ]
    },
    {
     "name": "stdout",
     "output_type": "stream",
     "text": [
      "[1] \"Crossref\"\n",
      "[1] 10.4218/\n",
      "298 Levels: 10.1002/ 10.1007/ 10.1016/ 10.1017/ 10.1021/ 10.1023/ ... 10.7906/\n"
     ]
    },
    {
     "name": "stderr",
     "output_type": "stream",
     "text": [
      "Warning message in mutate_impl(.data, dots):\n",
      "“binding character and factor vector, coercing into character vector”"
     ]
    },
    {
     "name": "stdout",
     "output_type": "stream",
     "text": [
      "[1] \"Crossref\"\n",
      "[1] 10.4155/\n",
      "298 Levels: 10.1002/ 10.1007/ 10.1016/ 10.1017/ 10.1021/ 10.1023/ ... 10.7906/\n"
     ]
    },
    {
     "name": "stderr",
     "output_type": "stream",
     "text": [
      "Warning message in mutate_impl(.data, dots):\n",
      "“binding character and factor vector, coercing into character vector”"
     ]
    },
    {
     "name": "stdout",
     "output_type": "stream",
     "text": [
      "[1] \"Crossref\"\n",
      "[1] 10.4303/\n",
      "298 Levels: 10.1002/ 10.1007/ 10.1016/ 10.1017/ 10.1021/ 10.1023/ ... 10.7906/\n"
     ]
    },
    {
     "name": "stderr",
     "output_type": "stream",
     "text": [
      "Warning message in mutate_impl(.data, dots):\n",
      "“binding character and factor vector, coercing into character vector”"
     ]
    },
    {
     "name": "stdout",
     "output_type": "stream",
     "text": [
      "[1] \"Crossref\"\n",
      "[1] 10.4312/\n",
      "298 Levels: 10.1002/ 10.1007/ 10.1016/ 10.1017/ 10.1021/ 10.1023/ ... 10.7906/\n"
     ]
    },
    {
     "name": "stderr",
     "output_type": "stream",
     "text": [
      "Warning message in mutate_impl(.data, dots):\n",
      "“binding character and factor vector, coercing into character vector”"
     ]
    },
    {
     "name": "stdout",
     "output_type": "stream",
     "text": [
      "[1] \"Crossref\"\n",
      "[1] 10.5194/\n",
      "298 Levels: 10.1002/ 10.1007/ 10.1016/ 10.1017/ 10.1021/ 10.1023/ ... 10.7906/\n"
     ]
    },
    {
     "name": "stderr",
     "output_type": "stream",
     "text": [
      "Warning message in mutate_impl(.data, dots):\n",
      "“binding character and factor vector, coercing into character vector”"
     ]
    },
    {
     "name": "stdout",
     "output_type": "stream",
     "text": [
      "[1] \"Crossref\"\n",
      "[1] 10.4995/\n",
      "298 Levels: 10.1002/ 10.1007/ 10.1016/ 10.1017/ 10.1021/ 10.1023/ ... 10.7906/\n"
     ]
    },
    {
     "name": "stderr",
     "output_type": "stream",
     "text": [
      "Warning message in mutate_impl(.data, dots):\n",
      "“binding character and factor vector, coercing into character vector”"
     ]
    },
    {
     "name": "stdout",
     "output_type": "stream",
     "text": [
      "[1] \"Crossref\"\n",
      "[1] 10.17235/\n",
      "298 Levels: 10.1002/ 10.1007/ 10.1016/ 10.1017/ 10.1021/ 10.1023/ ... 10.7906/\n"
     ]
    },
    {
     "name": "stderr",
     "output_type": "stream",
     "text": [
      "Warning message in mutate_impl(.data, dots):\n",
      "“binding character and factor vector, coercing into character vector”"
     ]
    },
    {
     "name": "stdout",
     "output_type": "stream",
     "text": [
      "[1] \"Crossref\"\n",
      "[1] 10.5304/\n",
      "298 Levels: 10.1002/ 10.1007/ 10.1016/ 10.1017/ 10.1021/ 10.1023/ ... 10.7906/\n"
     ]
    },
    {
     "name": "stderr",
     "output_type": "stream",
     "text": [
      "Warning message in mutate_impl(.data, dots):\n",
      "“binding character and factor vector, coercing into character vector”"
     ]
    },
    {
     "name": "stdout",
     "output_type": "stream",
     "text": [
      "[1] \"Crossref\"\n",
      "[1] 10.3996/\n",
      "298 Levels: 10.1002/ 10.1007/ 10.1016/ 10.1017/ 10.1021/ 10.1023/ ... 10.7906/\n"
     ]
    },
    {
     "name": "stderr",
     "output_type": "stream",
     "text": [
      "Warning message in mutate_impl(.data, dots):\n",
      "“binding character and factor vector, coercing into character vector”"
     ]
    },
    {
     "name": "stdout",
     "output_type": "stream",
     "text": [
      "[1] \"Crossref\"\n",
      "[1] 10.5572/\n",
      "298 Levels: 10.1002/ 10.1007/ 10.1016/ 10.1017/ 10.1021/ 10.1023/ ... 10.7906/\n"
     ]
    },
    {
     "name": "stderr",
     "output_type": "stream",
     "text": [
      "Warning message in mutate_impl(.data, dots):\n",
      "“binding character and factor vector, coercing into character vector”"
     ]
    },
    {
     "name": "stdout",
     "output_type": "stream",
     "text": [
      "[1] \"Crossref\"\n",
      "[1] 10.5507/\n",
      "298 Levels: 10.1002/ 10.1007/ 10.1016/ 10.1017/ 10.1021/ 10.1023/ ... 10.7906/\n"
     ]
    },
    {
     "name": "stderr",
     "output_type": "stream",
     "text": [
      "Warning message in mutate_impl(.data, dots):\n",
      "“binding character and factor vector, coercing into character vector”"
     ]
    },
    {
     "name": "stdout",
     "output_type": "stream",
     "text": [
      "[1] \"Crossref\"\n",
      "[1] 10.5567/\n",
      "298 Levels: 10.1002/ 10.1007/ 10.1016/ 10.1017/ 10.1021/ 10.1023/ ... 10.7906/\n"
     ]
    },
    {
     "name": "stderr",
     "output_type": "stream",
     "text": [
      "Warning message in mutate_impl(.data, dots):\n",
      "“binding character and factor vector, coercing into character vector”"
     ]
    },
    {
     "name": "stdout",
     "output_type": "stream",
     "text": [
      "[1] \"Crossref\"\n",
      "[1] 10.5547/\n",
      "298 Levels: 10.1002/ 10.1007/ 10.1016/ 10.1017/ 10.1021/ 10.1023/ ... 10.7906/\n"
     ]
    },
    {
     "name": "stderr",
     "output_type": "stream",
     "text": [
      "Warning message in mutate_impl(.data, dots):\n",
      "“binding character and factor vector, coercing into character vector”"
     ]
    },
    {
     "name": "stdout",
     "output_type": "stream",
     "text": [
      "[1] \"Crossref\"\n",
      "[1] 10.5812/\n",
      "298 Levels: 10.1002/ 10.1007/ 10.1016/ 10.1017/ 10.1021/ 10.1023/ ... 10.7906/\n"
     ]
    },
    {
     "name": "stderr",
     "output_type": "stream",
     "text": [
      "Warning message in mutate_impl(.data, dots):\n",
      "“binding character and factor vector, coercing into character vector”"
     ]
    },
    {
     "name": "stdout",
     "output_type": "stream",
     "text": [
      "[1] \"Crossref\"\n",
      "[1] 10.5861/\n",
      "298 Levels: 10.1002/ 10.1007/ 10.1016/ 10.1017/ 10.1021/ 10.1023/ ... 10.7906/\n"
     ]
    },
    {
     "name": "stderr",
     "output_type": "stream",
     "text": [
      "Warning message in mutate_impl(.data, dots):\n",
      "“binding character and factor vector, coercing into character vector”"
     ]
    },
    {
     "name": "stdout",
     "output_type": "stream",
     "text": [
      "[1] \"Crossref\"\n",
      "[1] 10.5402/\n",
      "298 Levels: 10.1002/ 10.1007/ 10.1016/ 10.1017/ 10.1021/ 10.1023/ ... 10.7906/\n"
     ]
    },
    {
     "name": "stderr",
     "output_type": "stream",
     "text": [
      "Warning message in mutate_impl(.data, dots):\n",
      "“binding character and factor vector, coercing into character vector”"
     ]
    },
    {
     "name": "stdout",
     "output_type": "stream",
     "text": [
      "[1] \"Crossref\"\n",
      "[1] 10.4028/\n",
      "298 Levels: 10.1002/ 10.1007/ 10.1016/ 10.1017/ 10.1021/ 10.1023/ ... 10.7906/\n"
     ]
    },
    {
     "name": "stderr",
     "output_type": "stream",
     "text": [
      "Warning message in mutate_impl(.data, dots):\n",
      "“binding character and factor vector, coercing into character vector”"
     ]
    },
    {
     "name": "stdout",
     "output_type": "stream",
     "text": [
      "[1] \"Crossref\"\n",
      "[1] 10.3410/\n",
      "298 Levels: 10.1002/ 10.1007/ 10.1016/ 10.1017/ 10.1021/ 10.1023/ ... 10.7906/\n"
     ]
    },
    {
     "name": "stderr",
     "output_type": "stream",
     "text": [
      "Warning message in mutate_impl(.data, dots):\n",
      "“binding character and factor vector, coercing into character vector”"
     ]
    },
    {
     "name": "stdout",
     "output_type": "stream",
     "text": [
      "[1] \"Crossref\"\n",
      "[1] 10.5964/\n",
      "298 Levels: 10.1002/ 10.1007/ 10.1016/ 10.1017/ 10.1021/ 10.1023/ ... 10.7906/\n"
     ]
    },
    {
     "name": "stderr",
     "output_type": "stream",
     "text": [
      "Warning message in mutate_impl(.data, dots):\n",
      "“binding character and factor vector, coercing into character vector”"
     ]
    },
    {
     "name": "stdout",
     "output_type": "stream",
     "text": [
      "[1] \"Crossref\"\n",
      "[1] 10.5772/\n",
      "298 Levels: 10.1002/ 10.1007/ 10.1016/ 10.1017/ 10.1021/ 10.1023/ ... 10.7906/\n"
     ]
    },
    {
     "name": "stderr",
     "output_type": "stream",
     "text": [
      "Warning message in mutate_impl(.data, dots):\n",
      "“binding character and factor vector, coercing into character vector”"
     ]
    },
    {
     "name": "stdout",
     "output_type": "stream",
     "text": [
      "[1] \"Crossref\"\n",
      "[1] 10.5721/\n",
      "298 Levels: 10.1002/ 10.1007/ 10.1016/ 10.1017/ 10.1021/ 10.1023/ ... 10.7906/\n"
     ]
    },
    {
     "name": "stderr",
     "output_type": "stream",
     "text": [
      "Warning message in mutate_impl(.data, dots):\n",
      "“binding character and factor vector, coercing into character vector”"
     ]
    },
    {
     "name": "stdout",
     "output_type": "stream",
     "text": [
      "[1] \"Crossref\"\n",
      "[1] 10.7463/\n",
      "298 Levels: 10.1002/ 10.1007/ 10.1016/ 10.1017/ 10.1021/ 10.1023/ ... 10.7906/\n"
     ]
    },
    {
     "name": "stderr",
     "output_type": "stream",
     "text": [
      "Warning message in mutate_impl(.data, dots):\n",
      "“binding character and factor vector, coercing into character vector”"
     ]
    },
    {
     "name": "stdout",
     "output_type": "stream",
     "text": [
      "[1] \"Crossref\"\n",
      "[1] 10.7574/\n",
      "298 Levels: 10.1002/ 10.1007/ 10.1016/ 10.1017/ 10.1021/ 10.1023/ ... 10.7906/\n"
     ]
    },
    {
     "name": "stderr",
     "output_type": "stream",
     "text": [
      "Warning message in mutate_impl(.data, dots):\n",
      "“binding character and factor vector, coercing into character vector”"
     ]
    },
    {
     "name": "stdout",
     "output_type": "stream",
     "text": [
      "[1] \"Crossref\"\n",
      "[1] 10.7242/\n",
      "298 Levels: 10.1002/ 10.1007/ 10.1016/ 10.1017/ 10.1021/ 10.1023/ ... 10.7906/\n"
     ]
    },
    {
     "name": "stderr",
     "output_type": "stream",
     "text": [
      "Warning message in mutate_impl(.data, dots):\n",
      "“binding character and factor vector, coercing into character vector”"
     ]
    },
    {
     "name": "stdout",
     "output_type": "stream",
     "text": [
      "[1] \"Crossref\"\n",
      "[1] 10.7202/\n",
      "298 Levels: 10.1002/ 10.1007/ 10.1016/ 10.1017/ 10.1021/ 10.1023/ ... 10.7906/\n"
     ]
    },
    {
     "name": "stderr",
     "output_type": "stream",
     "text": [
      "Warning message in mutate_impl(.data, dots):\n",
      "“binding character and factor vector, coercing into character vector”"
     ]
    },
    {
     "name": "stdout",
     "output_type": "stream",
     "text": [
      "[1] \"Crossref\"\n",
      "[1] 10.6002/\n",
      "298 Levels: 10.1002/ 10.1007/ 10.1016/ 10.1017/ 10.1021/ 10.1023/ ... 10.7906/\n"
     ]
    },
    {
     "name": "stderr",
     "output_type": "stream",
     "text": [
      "Warning message in mutate_impl(.data, dots):\n",
      "“binding character and factor vector, coercing into character vector”"
     ]
    },
    {
     "name": "stdout",
     "output_type": "stream",
     "text": [
      "[1] \"Crossref\"\n",
      "[1] 10.12677/\n",
      "298 Levels: 10.1002/ 10.1007/ 10.1016/ 10.1017/ 10.1021/ 10.1023/ ... 10.7906/\n"
     ]
    },
    {
     "name": "stderr",
     "output_type": "stream",
     "text": [
      "Warning message in mutate_impl(.data, dots):\n",
      "“binding character and factor vector, coercing into character vector”"
     ]
    },
    {
     "name": "stdout",
     "output_type": "stream",
     "text": [
      "[1] \"Crossref\"\n",
      "[1] 10.7717/\n",
      "298 Levels: 10.1002/ 10.1007/ 10.1016/ 10.1017/ 10.1021/ 10.1023/ ... 10.7906/\n"
     ]
    },
    {
     "name": "stderr",
     "output_type": "stream",
     "text": [
      "Warning message in mutate_impl(.data, dots):\n",
      "“binding character and factor vector, coercing into character vector”"
     ]
    },
    {
     "name": "stdout",
     "output_type": "stream",
     "text": [
      "[1] \"Crossref\"\n",
      "[1] 10.11141/\n",
      "298 Levels: 10.1002/ 10.1007/ 10.1016/ 10.1017/ 10.1021/ 10.1023/ ... 10.7906/\n"
     ]
    },
    {
     "name": "stderr",
     "output_type": "stream",
     "text": [
      "Warning message in mutate_impl(.data, dots):\n",
      "“binding character and factor vector, coercing into character vector”"
     ]
    },
    {
     "name": "stdout",
     "output_type": "stream",
     "text": [
      "[1] \"Crossref\"\n",
      "[1] 10.1128/\n",
      "298 Levels: 10.1002/ 10.1007/ 10.1016/ 10.1017/ 10.1021/ 10.1023/ ... 10.7906/\n"
     ]
    },
    {
     "name": "stderr",
     "output_type": "stream",
     "text": [
      "Warning message in mutate_impl(.data, dots):\n",
      "“binding character and factor vector, coercing into character vector”"
     ]
    },
    {
     "name": "stdout",
     "output_type": "stream",
     "text": [
      "[1] \"Crossref\"\n",
      "[1] 10.4213/\n",
      "298 Levels: 10.1002/ 10.1007/ 10.1016/ 10.1017/ 10.1021/ 10.1023/ ... 10.7906/\n"
     ]
    },
    {
     "name": "stderr",
     "output_type": "stream",
     "text": [
      "Warning message in mutate_impl(.data, dots):\n",
      "“binding character and factor vector, coercing into character vector”"
     ]
    },
    {
     "name": "stdout",
     "output_type": "stream",
     "text": [
      "[1] \"Crossref\"\n",
      "[1] 10.7821/\n",
      "298 Levels: 10.1002/ 10.1007/ 10.1016/ 10.1017/ 10.1021/ 10.1023/ ... 10.7906/\n"
     ]
    },
    {
     "name": "stderr",
     "output_type": "stream",
     "text": [
      "Warning message in mutate_impl(.data, dots):\n",
      "“binding character and factor vector, coercing into character vector”"
     ]
    },
    {
     "name": "stdout",
     "output_type": "stream",
     "text": [
      "[1] \"Crossref\"\n",
      "[1] 10.7739/\n",
      "298 Levels: 10.1002/ 10.1007/ 10.1016/ 10.1017/ 10.1021/ 10.1023/ ... 10.7906/\n"
     ]
    },
    {
     "name": "stderr",
     "output_type": "stream",
     "text": [
      "Warning message in mutate_impl(.data, dots):\n",
      "“binding character and factor vector, coercing into character vector”"
     ]
    },
    {
     "name": "stdout",
     "output_type": "stream",
     "text": [
      "[1] \"Crossref\"\n",
      "[1] 10.12693/\n",
      "298 Levels: 10.1002/ 10.1007/ 10.1016/ 10.1017/ 10.1021/ 10.1023/ ... 10.7906/\n"
     ]
    },
    {
     "name": "stderr",
     "output_type": "stream",
     "text": [
      "Warning message in mutate_impl(.data, dots):\n",
      "“binding character and factor vector, coercing into character vector”"
     ]
    },
    {
     "name": "stdout",
     "output_type": "stream",
     "text": [
      "[1] \"Crossref\"\n",
      "[1] 10.12659/\n",
      "298 Levels: 10.1002/ 10.1007/ 10.1016/ 10.1017/ 10.1021/ 10.1023/ ... 10.7906/\n"
     ]
    },
    {
     "name": "stderr",
     "output_type": "stream",
     "text": [
      "Warning message in mutate_impl(.data, dots):\n",
      "“binding character and factor vector, coercing into character vector”"
     ]
    },
    {
     "name": "stdout",
     "output_type": "stream",
     "text": [
      "[1] \"Crossref\"\n",
      "[1] 10.7906/\n",
      "298 Levels: 10.1002/ 10.1007/ 10.1016/ 10.1017/ 10.1021/ 10.1023/ ... 10.7906/\n"
     ]
    },
    {
     "name": "stderr",
     "output_type": "stream",
     "text": [
      "Warning message in mutate_impl(.data, dots):\n",
      "“binding character and factor vector, coercing into character vector”"
     ]
    },
    {
     "name": "stdout",
     "output_type": "stream",
     "text": [
      "[1] \"KISTI\"\n",
      "[1] 10.5932/\n",
      "298 Levels: 10.1002/ 10.1007/ 10.1016/ 10.1017/ 10.1021/ 10.1023/ ... 10.7906/\n"
     ]
    },
    {
     "name": "stderr",
     "output_type": "stream",
     "text": [
      "Warning message in mutate_impl(.data, dots):\n",
      "“binding character and factor vector, coercing into character vector”"
     ]
    },
    {
     "name": "stdout",
     "output_type": "stream",
     "text": [
      "[1] \"mEDRA\"\n",
      "[1] 10.3280/\n",
      "298 Levels: 10.1002/ 10.1007/ 10.1016/ 10.1017/ 10.1021/ 10.1023/ ... 10.7906/\n"
     ]
    },
    {
     "name": "stderr",
     "output_type": "stream",
     "text": [
      "Warning message in mutate_impl(.data, dots):\n",
      "“binding character and factor vector, coercing into character vector”"
     ]
    },
    {
     "name": "stdout",
     "output_type": "stream",
     "text": [
      "[1] \"Crossref\"\n",
      "[1] 10.13080/\n",
      "298 Levels: 10.1002/ 10.1007/ 10.1016/ 10.1017/ 10.1021/ 10.1023/ ... 10.7906/\n"
     ]
    },
    {
     "name": "stderr",
     "output_type": "stream",
     "text": [
      "Warning message in mutate_impl(.data, dots):\n",
      "“binding character and factor vector, coercing into character vector”"
     ]
    },
    {
     "name": "stdout",
     "output_type": "stream",
     "text": [
      "[1] \"KISTI\"\n",
      "[1] 10.12989/\n",
      "298 Levels: 10.1002/ 10.1007/ 10.1016/ 10.1017/ 10.1021/ 10.1023/ ... 10.7906/\n"
     ]
    },
    {
     "name": "stderr",
     "output_type": "stream",
     "text": [
      "Warning message in mutate_impl(.data, dots):\n",
      "“binding character and factor vector, coercing into character vector”"
     ]
    },
    {
     "name": "stdout",
     "output_type": "stream",
     "text": [
      "[1] \"KISTI\"\n",
      "[1] 10.14191/\n",
      "298 Levels: 10.1002/ 10.1007/ 10.1016/ 10.1017/ 10.1021/ 10.1023/ ... 10.7906/\n"
     ]
    },
    {
     "name": "stderr",
     "output_type": "stream",
     "text": [
      "Warning message in mutate_impl(.data, dots):\n",
      "“binding character and factor vector, coercing into character vector”"
     ]
    },
    {
     "name": "stdout",
     "output_type": "stream",
     "text": [
      "[1] \"Crossref\"\n",
      "[1] 10.5089/\n",
      "298 Levels: 10.1002/ 10.1007/ 10.1016/ 10.1017/ 10.1021/ 10.1023/ ... 10.7906/\n"
     ]
    },
    {
     "name": "stderr",
     "output_type": "stream",
     "text": [
      "Warning message in mutate_impl(.data, dots):\n",
      "“binding character and factor vector, coercing into character vector”"
     ]
    },
    {
     "name": "stdout",
     "output_type": "stream",
     "text": [
      "[1] \"Crossref\"\n",
      "[1] 10.14498/\n",
      "298 Levels: 10.1002/ 10.1007/ 10.1016/ 10.1017/ 10.1021/ 10.1023/ ... 10.7906/\n"
     ]
    },
    {
     "name": "stderr",
     "output_type": "stream",
     "text": [
      "Warning message in mutate_impl(.data, dots):\n",
      "“binding character and factor vector, coercing into character vector”"
     ]
    },
    {
     "name": "stdout",
     "output_type": "stream",
     "text": [
      "[1] \"Crossref\"\n",
      "[1] 10.13168/\n",
      "298 Levels: 10.1002/ 10.1007/ 10.1016/ 10.1017/ 10.1021/ 10.1023/ ... 10.7906/\n"
     ]
    },
    {
     "name": "stderr",
     "output_type": "stream",
     "text": [
      "Warning message in mutate_impl(.data, dots):\n",
      "“binding character and factor vector, coercing into character vector”"
     ]
    },
    {
     "name": "stdout",
     "output_type": "stream",
     "text": [
      "[1] \"Crossref\"\n",
      "[1] 10.15171/\n",
      "298 Levels: 10.1002/ 10.1007/ 10.1016/ 10.1017/ 10.1021/ 10.1023/ ... 10.7906/\n"
     ]
    },
    {
     "name": "stderr",
     "output_type": "stream",
     "text": [
      "Warning message in mutate_impl(.data, dots):\n",
      "“binding character and factor vector, coercing into character vector”"
     ]
    },
    {
     "name": "stdout",
     "output_type": "stream",
     "text": [
      "[1] \"Crossref\"\n",
      "[1] 10.15195/\n",
      "298 Levels: 10.1002/ 10.1007/ 10.1016/ 10.1017/ 10.1021/ 10.1023/ ... 10.7906/\n"
     ]
    },
    {
     "name": "stderr",
     "output_type": "stream",
     "text": [
      "Warning message in mutate_impl(.data, dots):\n",
      "“binding character and factor vector, coercing into character vector”"
     ]
    },
    {
     "name": "stdout",
     "output_type": "stream",
     "text": [
      "[1] \"Crossref\"\n",
      "[1] 10.1352/\n",
      "298 Levels: 10.1002/ 10.1007/ 10.1016/ 10.1017/ 10.1021/ 10.1023/ ... 10.7906/\n"
     ]
    },
    {
     "name": "stderr",
     "output_type": "stream",
     "text": [
      "Warning message in mutate_impl(.data, dots):\n",
      "“binding character and factor vector, coercing into character vector”"
     ]
    },
    {
     "name": "stdout",
     "output_type": "stream",
     "text": [
      "[1] \"Crossref\"\n",
      "[1] 10.14529/\n",
      "298 Levels: 10.1002/ 10.1007/ 10.1016/ 10.1017/ 10.1021/ 10.1023/ ... 10.7906/\n"
     ]
    },
    {
     "name": "stderr",
     "output_type": "stream",
     "text": [
      "Warning message in mutate_impl(.data, dots):\n",
      "“binding character and factor vector, coercing into character vector”"
     ]
    },
    {
     "name": "stdout",
     "output_type": "stream",
     "text": [
      "[1] \"Crossref\"\n",
      "[1] 10.3139/\n",
      "298 Levels: 10.1002/ 10.1007/ 10.1016/ 10.1017/ 10.1021/ 10.1023/ ... 10.7906/\n"
     ]
    },
    {
     "name": "stderr",
     "output_type": "stream",
     "text": [
      "Warning message in mutate_impl(.data, dots):\n",
      "“binding character and factor vector, coercing into character vector”"
     ]
    },
    {
     "name": "stdout",
     "output_type": "stream",
     "text": [
      "[1] \"Crossref\"\n",
      "[1] 10.15177/\n",
      "298 Levels: 10.1002/ 10.1007/ 10.1016/ 10.1017/ 10.1021/ 10.1023/ ... 10.7906/\n"
     ]
    },
    {
     "name": "stderr",
     "output_type": "stream",
     "text": [
      "Warning message in mutate_impl(.data, dots):\n",
      "“binding character and factor vector, coercing into character vector”"
     ]
    },
    {
     "name": "stdout",
     "output_type": "stream",
     "text": [
      "[1] \"Crossref\"\n",
      "[1] 10.1365/\n",
      "298 Levels: 10.1002/ 10.1007/ 10.1016/ 10.1017/ 10.1021/ 10.1023/ ... 10.7906/\n"
     ]
    },
    {
     "name": "stderr",
     "output_type": "stream",
     "text": [
      "Warning message in mutate_impl(.data, dots):\n",
      "“binding character and factor vector, coercing into character vector”"
     ]
    },
    {
     "name": "stdout",
     "output_type": "stream",
     "text": [
      "[1] \"Crossref\"\n",
      "[1] 10.5626/\n",
      "298 Levels: 10.1002/ 10.1007/ 10.1016/ 10.1017/ 10.1021/ 10.1023/ ... 10.7906/\n"
     ]
    },
    {
     "name": "stderr",
     "output_type": "stream",
     "text": [
      "Warning message in mutate_impl(.data, dots):\n",
      "“binding character and factor vector, coercing into character vector”"
     ]
    },
    {
     "name": "stdout",
     "output_type": "stream",
     "text": [
      "[1] \"Crossref\"\n",
      "[1] 10.15802/\n",
      "298 Levels: 10.1002/ 10.1007/ 10.1016/ 10.1017/ 10.1021/ 10.1023/ ... 10.7906/\n"
     ]
    },
    {
     "name": "stderr",
     "output_type": "stream",
     "text": [
      "Warning message in mutate_impl(.data, dots):\n",
      "“binding character and factor vector, coercing into character vector”"
     ]
    },
    {
     "name": "stdout",
     "output_type": "stream",
     "text": [
      "[1] \"Crossref\"\n",
      "[1] 10.3310/\n",
      "298 Levels: 10.1002/ 10.1007/ 10.1016/ 10.1017/ 10.1021/ 10.1023/ ... 10.7906/\n"
     ]
    },
    {
     "name": "stderr",
     "output_type": "stream",
     "text": [
      "Warning message in mutate_impl(.data, dots):\n",
      "“binding character and factor vector, coercing into character vector”"
     ]
    },
    {
     "name": "stdout",
     "output_type": "stream",
     "text": [
      "[1] \"Crossref\"\n",
      "[1] 10.7243/\n",
      "298 Levels: 10.1002/ 10.1007/ 10.1016/ 10.1017/ 10.1021/ 10.1023/ ... 10.7906/\n"
     ]
    },
    {
     "name": "stderr",
     "output_type": "stream",
     "text": [
      "Warning message in mutate_impl(.data, dots):\n",
      "“binding character and factor vector, coercing into character vector”"
     ]
    },
    {
     "name": "stdout",
     "output_type": "stream",
     "text": [
      "[1] \"Crossref\"\n",
      "[1] 10.15446/\n",
      "298 Levels: 10.1002/ 10.1007/ 10.1016/ 10.1017/ 10.1021/ 10.1023/ ... 10.7906/\n"
     ]
    },
    {
     "name": "stderr",
     "output_type": "stream",
     "text": [
      "Warning message in mutate_impl(.data, dots):\n",
      "“binding character and factor vector, coercing into character vector”"
     ]
    },
    {
     "name": "stdout",
     "output_type": "stream",
     "text": [
      "[1] \"Crossref\"\n",
      "[1] 10.13109/\n",
      "298 Levels: 10.1002/ 10.1007/ 10.1016/ 10.1017/ 10.1021/ 10.1023/ ... 10.7906/\n"
     ]
    },
    {
     "name": "stderr",
     "output_type": "stream",
     "text": [
      "Warning message in mutate_impl(.data, dots):\n",
      "“binding character and factor vector, coercing into character vector”"
     ]
    },
    {
     "name": "stdout",
     "output_type": "stream",
     "text": [
      "[1] \"Crossref\"\n",
      "[1] 10.15257/\n",
      "298 Levels: 10.1002/ 10.1007/ 10.1016/ 10.1017/ 10.1021/ 10.1023/ ... 10.7906/\n"
     ]
    },
    {
     "name": "stderr",
     "output_type": "stream",
     "text": [
      "Warning message in mutate_impl(.data, dots):\n",
      "“binding character and factor vector, coercing into character vector”"
     ]
    },
    {
     "name": "stdout",
     "output_type": "stream",
     "text": [
      "[1] \"Crossref\"\n",
      "[1] 10.15591/\n",
      "298 Levels: 10.1002/ 10.1007/ 10.1016/ 10.1017/ 10.1021/ 10.1023/ ... 10.7906/\n"
     ]
    },
    {
     "name": "stderr",
     "output_type": "stream",
     "text": [
      "Warning message in mutate_impl(.data, dots):\n",
      "“binding character and factor vector, coercing into character vector”"
     ]
    },
    {
     "name": "stdout",
     "output_type": "stream",
     "text": [
      "[1] \"Crossref\"\n",
      "[1] 10.15296/\n",
      "298 Levels: 10.1002/ 10.1007/ 10.1016/ 10.1017/ 10.1021/ 10.1023/ ... 10.7906/\n"
     ]
    },
    {
     "name": "stderr",
     "output_type": "stream",
     "text": [
      "Warning message in mutate_impl(.data, dots):\n",
      "“binding character and factor vector, coercing into character vector”"
     ]
    },
    {
     "name": "stdout",
     "output_type": "stream",
     "text": [
      "[1] \"Crossref\"\n",
      "[1] 10.15407/\n",
      "298 Levels: 10.1002/ 10.1007/ 10.1016/ 10.1017/ 10.1021/ 10.1023/ ... 10.7906/\n"
     ]
    },
    {
     "name": "stderr",
     "output_type": "stream",
     "text": [
      "Warning message in mutate_impl(.data, dots):\n",
      "“binding character and factor vector, coercing into character vector”"
     ]
    },
    {
     "name": "stdout",
     "output_type": "stream",
     "text": [
      "[1] \"Crossref\"\n",
      "[1] 10.18060/\n",
      "298 Levels: 10.1002/ 10.1007/ 10.1016/ 10.1017/ 10.1021/ 10.1023/ ... 10.7906/\n"
     ]
    },
    {
     "name": "stderr",
     "output_type": "stream",
     "text": [
      "Warning message in mutate_impl(.data, dots):\n",
      "“binding character and factor vector, coercing into character vector”"
     ]
    },
    {
     "name": "stdout",
     "output_type": "stream",
     "text": [
      "[1] \"Crossref\"\n",
      "[1] 10.15291/\n",
      "298 Levels: 10.1002/ 10.1007/ 10.1016/ 10.1017/ 10.1021/ 10.1023/ ... 10.7906/\n"
     ]
    },
    {
     "name": "stderr",
     "output_type": "stream",
     "text": [
      "Warning message in mutate_impl(.data, dots):\n",
      "“binding character and factor vector, coercing into character vector”"
     ]
    },
    {
     "name": "stdout",
     "output_type": "stream",
     "text": [
      "[1] \"Crossref\"\n",
      "[1] 10.17533/\n",
      "298 Levels: 10.1002/ 10.1007/ 10.1016/ 10.1017/ 10.1021/ 10.1023/ ... 10.7906/\n"
     ]
    },
    {
     "name": "stderr",
     "output_type": "stream",
     "text": [
      "Warning message in mutate_impl(.data, dots):\n",
      "“binding character and factor vector, coercing into character vector”"
     ]
    },
    {
     "name": "stdout",
     "output_type": "stream",
     "text": [
      "[1] \"Crossref\"\n",
      "[1] 10.18854/\n",
      "298 Levels: 10.1002/ 10.1007/ 10.1016/ 10.1017/ 10.1021/ 10.1023/ ... 10.7906/\n"
     ]
    },
    {
     "name": "stderr",
     "output_type": "stream",
     "text": [
      "Warning message in mutate_impl(.data, dots):\n",
      "“binding character and factor vector, coercing into character vector”"
     ]
    },
    {
     "name": "stdout",
     "output_type": "stream",
     "text": [
      "[1] \"Crossref\"\n",
      "[1] 10.17230/\n",
      "298 Levels: 10.1002/ 10.1007/ 10.1016/ 10.1017/ 10.1021/ 10.1023/ ... 10.7906/\n"
     ]
    },
    {
     "name": "stderr",
     "output_type": "stream",
     "text": [
      "Warning message in mutate_impl(.data, dots):\n",
      "“binding character and factor vector, coercing into character vector”"
     ]
    },
    {
     "name": "stdout",
     "output_type": "stream",
     "text": [
      "[1] \"Crossref\"\n",
      "[1] 10.17684/\n",
      "298 Levels: 10.1002/ 10.1007/ 10.1016/ 10.1017/ 10.1021/ 10.1023/ ... 10.7906/\n"
     ]
    },
    {
     "name": "stderr",
     "output_type": "stream",
     "text": [
      "Warning message in mutate_impl(.data, dots):\n",
      "“binding character and factor vector, coercing into character vector”"
     ]
    },
    {
     "name": "stdout",
     "output_type": "stream",
     "text": [
      "[1] \"Crossref\"\n",
      "[1] 10.7764/\n",
      "298 Levels: 10.1002/ 10.1007/ 10.1016/ 10.1017/ 10.1021/ 10.1023/ ... 10.7906/\n"
     ]
    },
    {
     "name": "stderr",
     "output_type": "stream",
     "text": [
      "Warning message in mutate_impl(.data, dots):\n",
      "“binding character and factor vector, coercing into character vector”"
     ]
    },
    {
     "name": "stdout",
     "output_type": "stream",
     "text": [
      "[1] \"Crossref\"\n",
      "[1] 10.17116/\n",
      "298 Levels: 10.1002/ 10.1007/ 10.1016/ 10.1017/ 10.1021/ 10.1023/ ... 10.7906/\n"
     ]
    },
    {
     "name": "stderr",
     "output_type": "stream",
     "text": [
      "Warning message in mutate_impl(.data, dots):\n",
      "“binding character and factor vector, coercing into character vector”"
     ]
    },
    {
     "name": "stdout",
     "output_type": "stream",
     "text": [
      "[1] \"Crossref\"\n",
      "[1] 10.17358/\n",
      "298 Levels: 10.1002/ 10.1007/ 10.1016/ 10.1017/ 10.1021/ 10.1023/ ... 10.7906/\n"
     ]
    },
    {
     "name": "stderr",
     "output_type": "stream",
     "text": [
      "Warning message in mutate_impl(.data, dots):\n",
      "“binding character and factor vector, coercing into character vector”"
     ]
    },
    {
     "name": "stdout",
     "output_type": "stream",
     "text": [
      "[1] \"Crossref\"\n",
      "[1] 10.21105/\n",
      "298 Levels: 10.1002/ 10.1007/ 10.1016/ 10.1017/ 10.1021/ 10.1023/ ... 10.7906/\n"
     ]
    },
    {
     "name": "stderr",
     "output_type": "stream",
     "text": [
      "Warning message in mutate_impl(.data, dots):\n",
      "“binding character and factor vector, coercing into character vector”"
     ]
    },
    {
     "name": "stdout",
     "output_type": "stream",
     "text": [
      "[1] \"Crossref\"\n",
      "[1] 10.14201/\n",
      "298 Levels: 10.1002/ 10.1007/ 10.1016/ 10.1017/ 10.1021/ 10.1023/ ... 10.7906/\n"
     ]
    },
    {
     "name": "stderr",
     "output_type": "stream",
     "text": [
      "Warning message in mutate_impl(.data, dots):\n",
      "“binding character and factor vector, coercing into character vector”"
     ]
    },
    {
     "name": "stdout",
     "output_type": "stream",
     "text": [
      "[1] \"Crossref\"\n",
      "[1] 10.22237/\n",
      "298 Levels: 10.1002/ 10.1007/ 10.1016/ 10.1017/ 10.1021/ 10.1023/ ... 10.7906/\n"
     ]
    },
    {
     "name": "stderr",
     "output_type": "stream",
     "text": [
      "Warning message in mutate_impl(.data, dots):\n",
      "“binding character and factor vector, coercing into character vector”"
     ]
    },
    {
     "name": "stdout",
     "output_type": "stream",
     "text": [
      "[1] \"OP\"\n",
      "[1] 10.2903/\n",
      "298 Levels: 10.1002/ 10.1007/ 10.1016/ 10.1017/ 10.1021/ 10.1023/ ... 10.7906/\n"
     ]
    },
    {
     "name": "stderr",
     "output_type": "stream",
     "text": [
      "Warning message in mutate_impl(.data, dots):\n",
      "“binding character and factor vector, coercing into character vector”"
     ]
    },
    {
     "name": "stdout",
     "output_type": "stream",
     "text": [
      "[1] \"Crossref\"\n",
      "[1] 10.20867/\n",
      "298 Levels: 10.1002/ 10.1007/ 10.1016/ 10.1017/ 10.1021/ 10.1023/ ... 10.7906/\n"
     ]
    },
    {
     "name": "stderr",
     "output_type": "stream",
     "text": [
      "Warning message in mutate_impl(.data, dots):\n",
      "“binding character and factor vector, coercing into character vector”"
     ]
    },
    {
     "name": "stdout",
     "output_type": "stream",
     "text": [
      "[1] \"Crossref\"\n",
      "[1] 10.17660/\n",
      "298 Levels: 10.1002/ 10.1007/ 10.1016/ 10.1017/ 10.1021/ 10.1023/ ... 10.7906/\n"
     ]
    },
    {
     "name": "stderr",
     "output_type": "stream",
     "text": [
      "Warning message in mutate_impl(.data, dots):\n",
      "“binding character and factor vector, coercing into character vector”"
     ]
    },
    {
     "name": "stdout",
     "output_type": "stream",
     "text": [
      "[1] \"Crossref\"\n",
      "[1] 10.21859/\n",
      "298 Levels: 10.1002/ 10.1007/ 10.1016/ 10.1017/ 10.1021/ 10.1023/ ... 10.7906/\n"
     ]
    },
    {
     "name": "stderr",
     "output_type": "stream",
     "text": [
      "Warning message in mutate_impl(.data, dots):\n",
      "“binding character and factor vector, coercing into character vector”"
     ]
    },
    {
     "name": "stdout",
     "output_type": "stream",
     "text": [
      "[1] \"Crossref\"\n",
      "[1] 10.20286/\n",
      "298 Levels: 10.1002/ 10.1007/ 10.1016/ 10.1017/ 10.1021/ 10.1023/ ... 10.7906/\n"
     ]
    },
    {
     "name": "stderr",
     "output_type": "stream",
     "text": [
      "Warning message in mutate_impl(.data, dots):\n",
      "“binding character and factor vector, coercing into character vector”"
     ]
    },
    {
     "name": "stdout",
     "output_type": "stream",
     "text": [
      "[1] \"mEDRA\"\n",
      "[1] 10.19261/\n",
      "298 Levels: 10.1002/ 10.1007/ 10.1016/ 10.1017/ 10.1021/ 10.1023/ ... 10.7906/\n"
     ]
    },
    {
     "name": "stderr",
     "output_type": "stream",
     "text": [
      "Warning message in mutate_impl(.data, dots):\n",
      "“binding character and factor vector, coercing into character vector”"
     ]
    },
    {
     "name": "stdout",
     "output_type": "stream",
     "text": [
      "[1] \"Crossref\"\n",
      "[1] 10.22331/\n",
      "298 Levels: 10.1002/ 10.1007/ 10.1016/ 10.1017/ 10.1021/ 10.1023/ ... 10.7906/\n"
     ]
    },
    {
     "name": "stderr",
     "output_type": "stream",
     "text": [
      "Warning message in mutate_impl(.data, dots):\n",
      "“binding character and factor vector, coercing into character vector”"
     ]
    },
    {
     "name": "stdout",
     "output_type": "stream",
     "text": [
      "[1] \"Crossref\"\n",
      "[1] 10.3733/\n",
      "298 Levels: 10.1002/ 10.1007/ 10.1016/ 10.1017/ 10.1021/ 10.1023/ ... 10.7906/\n"
     ]
    },
    {
     "name": "stderr",
     "output_type": "stream",
     "text": [
      "Warning message in mutate_impl(.data, dots):\n",
      "“binding character and factor vector, coercing into character vector”"
     ]
    },
    {
     "name": "stdout",
     "output_type": "stream",
     "text": [
      "[1] \"Crossref\"\n",
      "[1] 10.16981/\n",
      "298 Levels: 10.1002/ 10.1007/ 10.1016/ 10.1017/ 10.1021/ 10.1023/ ... 10.7906/\n"
     ]
    },
    {
     "name": "stderr",
     "output_type": "stream",
     "text": [
      "Warning message in mutate_impl(.data, dots):\n",
      "“binding character and factor vector, coercing into character vector”"
     ]
    },
    {
     "name": "stdout",
     "output_type": "stream",
     "text": [
      "[1] \"Crossref\"\n",
      "[1] 10.1525/\n",
      "298 Levels: 10.1002/ 10.1007/ 10.1016/ 10.1017/ 10.1021/ 10.1023/ ... 10.7906/\n"
     ]
    },
    {
     "name": "stderr",
     "output_type": "stream",
     "text": [
      "Warning message in mutate_impl(.data, dots):\n",
      "“binding character and factor vector, coercing into character vector”"
     ]
    },
    {
     "name": "stdout",
     "output_type": "stream",
     "text": [
      "[1] \"Crossref\"\n",
      "[1] 10.23919/\n",
      "298 Levels: 10.1002/ 10.1007/ 10.1016/ 10.1017/ 10.1021/ 10.1023/ ... 10.7906/\n"
     ]
    },
    {
     "name": "stderr",
     "output_type": "stream",
     "text": [
      "Warning message in mutate_impl(.data, dots):\n",
      "“binding character and factor vector, coercing into character vector”"
     ]
    },
    {
     "name": "stdout",
     "output_type": "stream",
     "text": [
      "[1] \"Crossref\"\n",
      "[1] 10.1145/\n",
      "298 Levels: 10.1002/ 10.1007/ 10.1016/ 10.1017/ 10.1021/ 10.1023/ ... 10.7906/\n"
     ]
    },
    {
     "name": "stderr",
     "output_type": "stream",
     "text": [
      "Warning message in mutate_impl(.data, dots):\n",
      "“binding character and factor vector, coercing into character vector”"
     ]
    },
    {
     "name": "stdout",
     "output_type": "stream",
     "text": [
      "[1] \"Crossref\"\n",
      "[1] 10.20334/\n",
      "298 Levels: 10.1002/ 10.1007/ 10.1016/ 10.1017/ 10.1021/ 10.1023/ ... 10.7906/\n"
     ]
    },
    {
     "name": "stderr",
     "output_type": "stream",
     "text": [
      "Warning message in mutate_impl(.data, dots):\n",
      "“binding character and factor vector, coercing into character vector”"
     ]
    },
    {
     "name": "stdout",
     "output_type": "stream",
     "text": [
      "[1] \"Crossref\"\n",
      "[1] 10.1046/\n",
      "298 Levels: 10.1002/ 10.1007/ 10.1016/ 10.1017/ 10.1021/ 10.1023/ ... 10.7906/\n"
     ]
    },
    {
     "name": "stderr",
     "output_type": "stream",
     "text": [
      "Warning message in mutate_impl(.data, dots):\n",
      "“binding character and factor vector, coercing into character vector”"
     ]
    },
    {
     "name": "stdout",
     "output_type": "stream",
     "text": [
      "[1] \"Crossref\"\n",
      "[1] 10.1023/\n",
      "298 Levels: 10.1002/ 10.1007/ 10.1016/ 10.1017/ 10.1021/ 10.1023/ ... 10.7906/\n"
     ]
    },
    {
     "name": "stderr",
     "output_type": "stream",
     "text": [
      "Warning message in mutate_impl(.data, dots):\n",
      "“binding character and factor vector, coercing into character vector”"
     ]
    },
    {
     "name": "stdout",
     "output_type": "stream",
     "text": [
      "[1] \"Crossref\"\n",
      "[1] 10.3727/\n",
      "298 Levels: 10.1002/ 10.1007/ 10.1016/ 10.1017/ 10.1021/ 10.1023/ ... 10.7906/\n"
     ]
    },
    {
     "name": "stderr",
     "output_type": "stream",
     "text": [
      "Warning message in mutate_impl(.data, dots):\n",
      "“binding character and factor vector, coercing into character vector”"
     ]
    },
    {
     "name": "stdout",
     "output_type": "stream",
     "text": [
      "[1] \"Crossref\"\n",
      "[1] 10.1061/\n",
      "298 Levels: 10.1002/ 10.1007/ 10.1016/ 10.1017/ 10.1021/ 10.1023/ ... 10.7906/\n"
     ]
    },
    {
     "name": "stderr",
     "output_type": "stream",
     "text": [
      "Warning message in mutate_impl(.data, dots):\n",
      "“binding character and factor vector, coercing into character vector”"
     ]
    },
    {
     "name": "stdout",
     "output_type": "stream",
     "text": [
      "[1] \"Crossref\"\n",
      "[1] 10.1117/\n",
      "298 Levels: 10.1002/ 10.1007/ 10.1016/ 10.1017/ 10.1021/ 10.1023/ ... 10.7906/\n"
     ]
    },
    {
     "name": "stderr",
     "output_type": "stream",
     "text": [
      "Warning message in mutate_impl(.data, dots):\n",
      "“binding character and factor vector, coercing into character vector”"
     ]
    },
    {
     "name": "stdout",
     "output_type": "stream",
     "text": [
      "[1] \"Crossref\"\n",
      "[1] 10.1068/\n",
      "298 Levels: 10.1002/ 10.1007/ 10.1016/ 10.1017/ 10.1021/ 10.1023/ ... 10.7906/\n"
     ]
    },
    {
     "name": "stderr",
     "output_type": "stream",
     "text": [
      "Warning message in mutate_impl(.data, dots):\n",
      "“binding character and factor vector, coercing into character vector”"
     ]
    },
    {
     "name": "stdout",
     "output_type": "stream",
     "text": [
      "[1] \"Crossref\"\n",
      "[1] 10.1049/\n",
      "298 Levels: 10.1002/ 10.1007/ 10.1016/ 10.1017/ 10.1021/ 10.1023/ ... 10.7906/\n"
     ]
    },
    {
     "name": "stderr",
     "output_type": "stream",
     "text": [
      "Warning message in mutate_impl(.data, dots):\n",
      "“binding character and factor vector, coercing into character vector”"
     ]
    },
    {
     "name": "stdout",
     "output_type": "stream",
     "text": [
      "[1] \"Crossref\"\n",
      "[1] 10.1054/\n",
      "298 Levels: 10.1002/ 10.1007/ 10.1016/ 10.1017/ 10.1021/ 10.1023/ ... 10.7906/\n"
     ]
    },
    {
     "name": "stderr",
     "output_type": "stream",
     "text": [
      "Warning message in mutate_impl(.data, dots):\n",
      "“binding character and factor vector, coercing into character vector”"
     ]
    },
    {
     "name": "stdout",
     "output_type": "stream",
     "text": [
      "[1] \"Crossref\"\n",
      "[1] 10.1053/\n",
      "298 Levels: 10.1002/ 10.1007/ 10.1016/ 10.1017/ 10.1021/ 10.1023/ ... 10.7906/\n"
     ]
    },
    {
     "name": "stderr",
     "output_type": "stream",
     "text": [
      "Warning message in mutate_impl(.data, dots):\n",
      "“binding character and factor vector, coercing into character vector”"
     ]
    },
    {
     "name": "stdout",
     "output_type": "stream",
     "text": [
      "[1] \"Crossref\"\n",
      "[1] 10.1074/\n",
      "298 Levels: 10.1002/ 10.1007/ 10.1016/ 10.1017/ 10.1021/ 10.1023/ ... 10.7906/\n"
     ]
    },
    {
     "name": "stderr",
     "output_type": "stream",
     "text": [
      "Warning message in mutate_impl(.data, dots):\n",
      "“binding character and factor vector, coercing into character vector”"
     ]
    },
    {
     "name": "stdout",
     "output_type": "stream",
     "text": [
      "[1] \"Crossref\"\n",
      "[1] 10.1596/\n",
      "298 Levels: 10.1002/ 10.1007/ 10.1016/ 10.1017/ 10.1021/ 10.1023/ ... 10.7906/\n"
     ]
    },
    {
     "name": "stderr",
     "output_type": "stream",
     "text": [
      "Warning message in mutate_impl(.data, dots):\n",
      "“binding character and factor vector, coercing into character vector”"
     ]
    },
    {
     "name": "stdout",
     "output_type": "stream",
     "text": [
      "[1] \"Crossref\"\n",
      "[1] 10.1056/\n",
      "298 Levels: 10.1002/ 10.1007/ 10.1016/ 10.1017/ 10.1021/ 10.1023/ ... 10.7906/\n"
     ]
    },
    {
     "name": "stderr",
     "output_type": "stream",
     "text": [
      "Warning message in mutate_impl(.data, dots):\n",
      "“binding character and factor vector, coercing into character vector”"
     ]
    },
    {
     "name": "stdout",
     "output_type": "stream",
     "text": [
      "[1] \"Crossref\"\n",
      "[1] 10.1163/\n",
      "298 Levels: 10.1002/ 10.1007/ 10.1016/ 10.1017/ 10.1021/ 10.1023/ ... 10.7906/\n"
     ]
    },
    {
     "name": "stderr",
     "output_type": "stream",
     "text": [
      "Warning message in mutate_impl(.data, dots):\n",
      "“binding character and factor vector, coercing into character vector”"
     ]
    },
    {
     "name": "stdout",
     "output_type": "stream",
     "text": [
      "[1] \"Crossref\"\n",
      "[1] 10.1242/\n",
      "298 Levels: 10.1002/ 10.1007/ 10.1016/ 10.1017/ 10.1021/ 10.1023/ ... 10.7906/\n"
     ]
    },
    {
     "name": "stderr",
     "output_type": "stream",
     "text": [
      "Warning message in mutate_impl(.data, dots):\n",
      "“binding character and factor vector, coercing into character vector”"
     ]
    },
    {
     "name": "stdout",
     "output_type": "stream",
     "text": [
      "[1] \"Crossref\"\n",
      "[1] 10.1258/\n",
      "298 Levels: 10.1002/ 10.1007/ 10.1016/ 10.1017/ 10.1021/ 10.1023/ ... 10.7906/\n"
     ]
    },
    {
     "name": "stderr",
     "output_type": "stream",
     "text": [
      "Warning message in mutate_impl(.data, dots):\n",
      "“binding character and factor vector, coercing into character vector”"
     ]
    },
    {
     "name": "stdout",
     "output_type": "stream",
     "text": [
      "[1] \"Crossref\"\n",
      "[1] 10.1518/\n",
      "298 Levels: 10.1002/ 10.1007/ 10.1016/ 10.1017/ 10.1021/ 10.1023/ ... 10.7906/\n"
     ]
    },
    {
     "name": "stderr",
     "output_type": "stream",
     "text": [
      "Warning message in mutate_impl(.data, dots):\n",
      "“binding character and factor vector, coercing into character vector”"
     ]
    },
    {
     "name": "stdout",
     "output_type": "stream",
     "text": [
      "[1] \"Crossref\"\n",
      "[1] 10.1137/\n",
      "298 Levels: 10.1002/ 10.1007/ 10.1016/ 10.1017/ 10.1021/ 10.1023/ ... 10.7906/\n"
     ]
    },
    {
     "name": "stderr",
     "output_type": "stream",
     "text": [
      "Warning message in mutate_impl(.data, dots):\n",
      "“binding character and factor vector, coercing into character vector”"
     ]
    },
    {
     "name": "stdout",
     "output_type": "stream",
     "text": [
      "[1] \"Crossref\"\n",
      "[1] 10.2304/\n",
      "298 Levels: 10.1002/ 10.1007/ 10.1016/ 10.1017/ 10.1021/ 10.1023/ ... 10.7906/\n"
     ]
    },
    {
     "name": "stderr",
     "output_type": "stream",
     "text": [
      "Warning message in mutate_impl(.data, dots):\n",
      "“binding character and factor vector, coercing into character vector”"
     ]
    },
    {
     "name": "stdout",
     "output_type": "stream",
     "text": [
      "[1] \"Crossref\"\n",
      "[1] 10.1300/\n",
      "298 Levels: 10.1002/ 10.1007/ 10.1016/ 10.1017/ 10.1021/ 10.1023/ ... 10.7906/\n"
     ]
    },
    {
     "name": "stderr",
     "output_type": "stream",
     "text": [
      "Warning message in mutate_impl(.data, dots):\n",
      "“binding character and factor vector, coercing into character vector”"
     ]
    },
    {
     "name": "stdout",
     "output_type": "stream",
     "text": [
      "[1] \"Crossref\"\n",
      "[1] 10.2307/\n",
      "298 Levels: 10.1002/ 10.1007/ 10.1016/ 10.1017/ 10.1021/ 10.1023/ ... 10.7906/\n"
     ]
    },
    {
     "name": "stderr",
     "output_type": "stream",
     "text": [
      "Warning message in mutate_impl(.data, dots):\n",
      "“binding character and factor vector, coercing into character vector”"
     ]
    },
    {
     "name": "stdout",
     "output_type": "stream",
     "text": [
      "[1] \"Crossref\"\n",
      "[1] 10.2471/\n",
      "298 Levels: 10.1002/ 10.1007/ 10.1016/ 10.1017/ 10.1021/ 10.1023/ ... 10.7906/\n"
     ]
    },
    {
     "name": "stderr",
     "output_type": "stream",
     "text": [
      "Warning message in mutate_impl(.data, dots):\n",
      "“binding character and factor vector, coercing into character vector”"
     ]
    },
    {
     "name": "stdout",
     "output_type": "stream",
     "text": [
      "[1] \"Crossref\"\n",
      "[1] 10.2112/\n",
      "298 Levels: 10.1002/ 10.1007/ 10.1016/ 10.1017/ 10.1021/ 10.1023/ ... 10.7906/\n"
     ]
    },
    {
     "name": "stderr",
     "output_type": "stream",
     "text": [
      "Warning message in mutate_impl(.data, dots):\n",
      "“binding character and factor vector, coercing into character vector”"
     ]
    },
    {
     "name": "stdout",
     "output_type": "stream",
     "text": [
      "[1] \"Crossref\"\n",
      "[1] 10.2466/\n",
      "298 Levels: 10.1002/ 10.1007/ 10.1016/ 10.1017/ 10.1021/ 10.1023/ ... 10.7906/\n"
     ]
    },
    {
     "name": "stderr",
     "output_type": "stream",
     "text": [
      "Warning message in mutate_impl(.data, dots):\n",
      "“binding character and factor vector, coercing into character vector”"
     ]
    },
    {
     "name": "stdout",
     "output_type": "stream",
     "text": [
      "[1] \"Crossref\"\n",
      "[1] 10.1364/\n",
      "298 Levels: 10.1002/ 10.1007/ 10.1016/ 10.1017/ 10.1021/ 10.1023/ ... 10.7906/\n"
     ]
    },
    {
     "name": "stderr",
     "output_type": "stream",
     "text": [
      "Warning message in mutate_impl(.data, dots):\n",
      "“binding character and factor vector, coercing into character vector”"
     ]
    },
    {
     "name": "stdout",
     "output_type": "stream",
     "text": [
      "[1] \"Crossref\"\n",
      "[1] 10.1371/\n",
      "298 Levels: 10.1002/ 10.1007/ 10.1016/ 10.1017/ 10.1021/ 10.1023/ ... 10.7906/\n"
     ]
    },
    {
     "name": "stderr",
     "output_type": "stream",
     "text": [
      "Warning message in mutate_impl(.data, dots):\n",
      "“binding character and factor vector, coercing into character vector”"
     ]
    },
    {
     "name": "stdout",
     "output_type": "stream",
     "text": [
      "[1] \"Crossref\"\n",
      "[1] 10.3158/\n",
      "298 Levels: 10.1002/ 10.1007/ 10.1016/ 10.1017/ 10.1021/ 10.1023/ ... 10.7906/\n"
     ]
    },
    {
     "name": "stderr",
     "output_type": "stream",
     "text": [
      "Warning message in mutate_impl(.data, dots):\n",
      "“binding character and factor vector, coercing into character vector”"
     ]
    },
    {
     "name": "stdout",
     "output_type": "stream",
     "text": [
      "[1] \"Crossref\"\n",
      "[1] 10.2514/\n",
      "298 Levels: 10.1002/ 10.1007/ 10.1016/ 10.1017/ 10.1021/ 10.1023/ ... 10.7906/\n"
     ]
    },
    {
     "name": "stderr",
     "output_type": "stream",
     "text": [
      "Warning message in mutate_impl(.data, dots):\n",
      "“binding character and factor vector, coercing into character vector”"
     ]
    },
    {
     "name": "stdout",
     "output_type": "stream",
     "text": [
      "[1] \"Crossref\"\n",
      "[1] 10.1243/\n",
      "298 Levels: 10.1002/ 10.1007/ 10.1016/ 10.1017/ 10.1021/ 10.1023/ ... 10.7906/\n"
     ]
    },
    {
     "name": "stderr",
     "output_type": "stream",
     "text": [
      "Warning message in mutate_impl(.data, dots):\n",
      "“binding character and factor vector, coercing into character vector”"
     ]
    },
    {
     "name": "stdout",
     "output_type": "stream",
     "text": [
      "[1] \"Crossref\"\n",
      "[1] 10.3384/\n",
      "298 Levels: 10.1002/ 10.1007/ 10.1016/ 10.1017/ 10.1021/ 10.1023/ ... 10.7906/\n"
     ]
    },
    {
     "name": "stderr",
     "output_type": "stream",
     "text": [
      "Warning message in mutate_impl(.data, dots):\n",
      "“binding character and factor vector, coercing into character vector”"
     ]
    },
    {
     "name": "stdout",
     "output_type": "stream",
     "text": [
      "[1] \"Crossref\"\n",
      "[1] 10.4240/\n",
      "298 Levels: 10.1002/ 10.1007/ 10.1016/ 10.1017/ 10.1021/ 10.1023/ ... 10.7906/\n"
     ]
    },
    {
     "name": "stderr",
     "output_type": "stream",
     "text": [
      "Warning message in mutate_impl(.data, dots):\n",
      "“binding character and factor vector, coercing into character vector”"
     ]
    },
    {
     "name": "stdout",
     "output_type": "stream",
     "text": [
      "[1] \"Crossref\"\n",
      "[1] 10.4329/\n",
      "298 Levels: 10.1002/ 10.1007/ 10.1016/ 10.1017/ 10.1021/ 10.1023/ ... 10.7906/\n"
     ]
    },
    {
     "name": "stderr",
     "output_type": "stream",
     "text": [
      "Warning message in mutate_impl(.data, dots):\n",
      "“binding character and factor vector, coercing into character vector”"
     ]
    },
    {
     "name": "stdout",
     "output_type": "stream",
     "text": [
      "[1] \"Crossref\"\n",
      "[1] 10.3103/\n",
      "298 Levels: 10.1002/ 10.1007/ 10.1016/ 10.1017/ 10.1021/ 10.1023/ ... 10.7906/\n"
     ]
    },
    {
     "name": "stderr",
     "output_type": "stream",
     "text": [
      "Warning message in mutate_impl(.data, dots):\n",
      "“binding character and factor vector, coercing into character vector”"
     ]
    },
    {
     "name": "stdout",
     "output_type": "stream",
     "text": [
      "[1] \"Crossref\"\n",
      "[1] 10.1134/\n",
      "298 Levels: 10.1002/ 10.1007/ 10.1016/ 10.1017/ 10.1021/ 10.1023/ ... 10.7906/\n"
     ]
    },
    {
     "name": "stderr",
     "output_type": "stream",
     "text": [
      "Warning message in mutate_impl(.data, dots):\n",
      "“binding character and factor vector, coercing into character vector”"
     ]
    },
    {
     "name": "stdout",
     "output_type": "stream",
     "text": [
      "[1] \"Crossref\"\n",
      "[1] 10.4252/\n",
      "298 Levels: 10.1002/ 10.1007/ 10.1016/ 10.1017/ 10.1021/ 10.1023/ ... 10.7906/\n"
     ]
    },
    {
     "name": "stderr",
     "output_type": "stream",
     "text": [
      "Warning message in mutate_impl(.data, dots):\n",
      "“binding character and factor vector, coercing into character vector”"
     ]
    },
    {
     "name": "stdout",
     "output_type": "stream",
     "text": [
      "[1] \"Crossref\"\n",
      "[1] 10.2752/\n",
      "298 Levels: 10.1002/ 10.1007/ 10.1016/ 10.1017/ 10.1021/ 10.1023/ ... 10.7906/\n"
     ]
    },
    {
     "name": "stderr",
     "output_type": "stream",
     "text": [
      "Warning message in mutate_impl(.data, dots):\n",
      "“binding character and factor vector, coercing into character vector”"
     ]
    },
    {
     "name": "stdout",
     "output_type": "stream",
     "text": [
      "[1] \"Crossref\"\n",
      "[1] 10.2988/\n",
      "298 Levels: 10.1002/ 10.1007/ 10.1016/ 10.1017/ 10.1021/ 10.1023/ ... 10.7906/\n"
     ]
    },
    {
     "name": "stderr",
     "output_type": "stream",
     "text": [
      "Warning message in mutate_impl(.data, dots):\n",
      "“binding character and factor vector, coercing into character vector”"
     ]
    },
    {
     "name": "stdout",
     "output_type": "stream",
     "text": [
      "[1] \"Crossref\"\n",
      "[1] 10.4254/\n",
      "298 Levels: 10.1002/ 10.1007/ 10.1016/ 10.1017/ 10.1021/ 10.1023/ ... 10.7906/\n"
     ]
    },
    {
     "name": "stderr",
     "output_type": "stream",
     "text": [
      "Warning message in mutate_impl(.data, dots):\n",
      "“binding character and factor vector, coercing into character vector”"
     ]
    },
    {
     "name": "stdout",
     "output_type": "stream",
     "text": [
      "[1] \"Crossref\"\n",
      "[1] 10.4253/\n",
      "298 Levels: 10.1002/ 10.1007/ 10.1016/ 10.1017/ 10.1021/ 10.1023/ ... 10.7906/\n"
     ]
    },
    {
     "name": "stderr",
     "output_type": "stream",
     "text": [
      "Warning message in mutate_impl(.data, dots):\n",
      "“binding character and factor vector, coercing into character vector”"
     ]
    },
    {
     "name": "stdout",
     "output_type": "stream",
     "text": [
      "[1] \"Crossref\"\n",
      "[1] 10.3157/\n",
      "298 Levels: 10.1002/ 10.1007/ 10.1016/ 10.1017/ 10.1021/ 10.1023/ ... 10.7906/\n"
     ]
    },
    {
     "name": "stderr",
     "output_type": "stream",
     "text": [
      "Warning message in mutate_impl(.data, dots):\n",
      "“binding character and factor vector, coercing into character vector”"
     ]
    },
    {
     "name": "stdout",
     "output_type": "stream",
     "text": [
      "[1] \"Crossref\"\n",
      "[1] 10.3102/\n",
      "298 Levels: 10.1002/ 10.1007/ 10.1016/ 10.1017/ 10.1021/ 10.1023/ ... 10.7906/\n"
     ]
    },
    {
     "name": "stderr",
     "output_type": "stream",
     "text": [
      "Warning message in mutate_impl(.data, dots):\n",
      "“binding character and factor vector, coercing into character vector”"
     ]
    },
    {
     "name": "stdout",
     "output_type": "stream",
     "text": [
      "[1] \"Crossref\"\n",
      "[1] 10.1680/\n",
      "298 Levels: 10.1002/ 10.1007/ 10.1016/ 10.1017/ 10.1021/ 10.1023/ ... 10.7906/\n"
     ]
    },
    {
     "name": "stderr",
     "output_type": "stream",
     "text": [
      "Warning message in mutate_impl(.data, dots):\n",
      "“binding character and factor vector, coercing into character vector”"
     ]
    },
    {
     "name": "stdout",
     "output_type": "stream",
     "text": [
      "[1] \"Crossref\"\n",
      "[1] 10.1051/\n",
      "298 Levels: 10.1002/ 10.1007/ 10.1016/ 10.1017/ 10.1021/ 10.1023/ ... 10.7906/\n"
     ]
    },
    {
     "name": "stderr",
     "output_type": "stream",
     "text": [
      "Warning message in mutate_impl(.data, dots):\n",
      "“binding character and factor vector, coercing into character vector”"
     ]
    },
    {
     "name": "stdout",
     "output_type": "stream",
     "text": [
      "[1] \"Crossref\"\n",
      "[1] 10.4251/\n",
      "298 Levels: 10.1002/ 10.1007/ 10.1016/ 10.1017/ 10.1021/ 10.1023/ ... 10.7906/\n"
     ]
    },
    {
     "name": "stderr",
     "output_type": "stream",
     "text": [
      "Warning message in mutate_impl(.data, dots):\n",
      "“binding character and factor vector, coercing into character vector”"
     ]
    },
    {
     "name": "stdout",
     "output_type": "stream",
     "text": [
      "[1] \"Crossref\"\n",
      "[1] 10.5623/\n",
      "298 Levels: 10.1002/ 10.1007/ 10.1016/ 10.1017/ 10.1021/ 10.1023/ ... 10.7906/\n"
     ]
    },
    {
     "name": "stderr",
     "output_type": "stream",
     "text": [
      "Warning message in mutate_impl(.data, dots):\n",
      "“binding character and factor vector, coercing into character vector”"
     ]
    },
    {
     "name": "stdout",
     "output_type": "stream",
     "text": [
      "[1] \"Crossref\"\n",
      "[1] 10.5596/\n",
      "298 Levels: 10.1002/ 10.1007/ 10.1016/ 10.1017/ 10.1021/ 10.1023/ ... 10.7906/\n"
     ]
    },
    {
     "name": "stderr",
     "output_type": "stream",
     "text": [
      "Warning message in mutate_impl(.data, dots):\n",
      "“binding character and factor vector, coercing into character vector”"
     ]
    },
    {
     "name": "stdout",
     "output_type": "stream",
     "text": [
      "[1] \"Crossref\"\n",
      "[1] 10.3155/\n",
      "298 Levels: 10.1002/ 10.1007/ 10.1016/ 10.1017/ 10.1021/ 10.1023/ ... 10.7906/\n"
     ]
    },
    {
     "name": "stderr",
     "output_type": "stream",
     "text": [
      "Warning message in mutate_impl(.data, dots):\n",
      "“binding character and factor vector, coercing into character vector”"
     ]
    },
    {
     "name": "stdout",
     "output_type": "stream",
     "text": [
      "[1] \"Crossref\"\n",
      "[1] 10.4291/\n",
      "298 Levels: 10.1002/ 10.1007/ 10.1016/ 10.1017/ 10.1021/ 10.1023/ ... 10.7906/\n"
     ]
    },
    {
     "name": "stderr",
     "output_type": "stream",
     "text": [
      "Warning message in mutate_impl(.data, dots):\n",
      "“binding character and factor vector, coercing into character vector”"
     ]
    },
    {
     "name": "stdout",
     "output_type": "stream",
     "text": [
      "[1] \"Crossref\"\n",
      "[1] 10.4331/\n",
      "298 Levels: 10.1002/ 10.1007/ 10.1016/ 10.1017/ 10.1021/ 10.1023/ ... 10.7906/\n"
     ]
    },
    {
     "name": "stderr",
     "output_type": "stream",
     "text": [
      "Warning message in mutate_impl(.data, dots):\n",
      "“binding character and factor vector, coercing into character vector”"
     ]
    },
    {
     "name": "stdout",
     "output_type": "stream",
     "text": [
      "[1] \"Crossref\"\n",
      "[1] 10.11647/\n",
      "298 Levels: 10.1002/ 10.1007/ 10.1016/ 10.1017/ 10.1021/ 10.1023/ ... 10.7906/\n"
     ]
    },
    {
     "name": "stderr",
     "output_type": "stream",
     "text": [
      "Warning message in mutate_impl(.data, dots):\n",
      "“binding character and factor vector, coercing into character vector”"
     ]
    },
    {
     "name": "stdout",
     "output_type": "stream",
     "text": [
      "[1] \"Crossref\"\n",
      "[1] 10.5367/\n",
      "298 Levels: 10.1002/ 10.1007/ 10.1016/ 10.1017/ 10.1021/ 10.1023/ ... 10.7906/\n"
     ]
    },
    {
     "name": "stderr",
     "output_type": "stream",
     "text": [
      "Warning message in mutate_impl(.data, dots):\n",
      "“binding character and factor vector, coercing into character vector”"
     ]
    },
    {
     "name": "stdout",
     "output_type": "stream",
     "text": [
      "[1] \"Crossref\"\n",
      "[1] 10.4137/\n",
      "298 Levels: 10.1002/ 10.1007/ 10.1016/ 10.1017/ 10.1021/ 10.1023/ ... 10.7906/\n"
     ]
    },
    {
     "name": "stderr",
     "output_type": "stream",
     "text": [
      "Warning message in mutate_impl(.data, dots):\n",
      "“binding character and factor vector, coercing into character vector”"
     ]
    },
    {
     "name": "stdout",
     "output_type": "stream",
     "text": [
      "[1] \"Crossref\"\n",
      "[1] 10.4018/\n",
      "298 Levels: 10.1002/ 10.1007/ 10.1016/ 10.1017/ 10.1021/ 10.1023/ ... 10.7906/\n"
     ]
    },
    {
     "name": "stderr",
     "output_type": "stream",
     "text": [
      "Warning message in mutate_impl(.data, dots):\n",
      "“binding character and factor vector, coercing into character vector”"
     ]
    },
    {
     "name": "stdout",
     "output_type": "stream",
     "text": [
      "[1] \"Crossref\"\n",
      "[1] 10.5409/\n",
      "298 Levels: 10.1002/ 10.1007/ 10.1016/ 10.1017/ 10.1021/ 10.1023/ ... 10.7906/\n"
     ]
    },
    {
     "name": "stderr",
     "output_type": "stream",
     "text": [
      "Warning message in mutate_impl(.data, dots):\n",
      "“binding character and factor vector, coercing into character vector”"
     ]
    },
    {
     "name": "stdout",
     "output_type": "stream",
     "text": [
      "[1] \"Crossref\"\n",
      "[1] 10.4278/\n",
      "298 Levels: 10.1002/ 10.1007/ 10.1016/ 10.1017/ 10.1021/ 10.1023/ ... 10.7906/\n"
     ]
    },
    {
     "name": "stderr",
     "output_type": "stream",
     "text": [
      "Warning message in mutate_impl(.data, dots):\n",
      "“binding character and factor vector, coercing into character vector”"
     ]
    },
    {
     "name": "stdout",
     "output_type": "stream",
     "text": [
      "[1] \"Crossref\"\n",
      "[1] 10.14705/\n",
      "298 Levels: 10.1002/ 10.1007/ 10.1016/ 10.1017/ 10.1021/ 10.1023/ ... 10.7906/\n"
     ]
    },
    {
     "name": "stderr",
     "output_type": "stream",
     "text": [
      "Warning message in mutate_impl(.data, dots):\n",
      "“binding character and factor vector, coercing into character vector”"
     ]
    },
    {
     "name": "stdout",
     "output_type": "stream",
     "text": [
      "[1] \"Crossref\"\n",
      "[1] 10.5688/\n",
      "298 Levels: 10.1002/ 10.1007/ 10.1016/ 10.1017/ 10.1021/ 10.1023/ ... 10.7906/\n"
     ]
    },
    {
     "name": "stderr",
     "output_type": "stream",
     "text": [
      "Warning message in mutate_impl(.data, dots):\n",
      "“binding character and factor vector, coercing into character vector”"
     ]
    },
    {
     "name": "stdout",
     "output_type": "stream",
     "text": [
      "[1] \"Crossref\"\n",
      "[1] 10.11610/\n",
      "298 Levels: 10.1002/ 10.1007/ 10.1016/ 10.1017/ 10.1021/ 10.1023/ ... 10.7906/\n"
     ]
    },
    {
     "name": "stderr",
     "output_type": "stream",
     "text": [
      "Warning message in mutate_impl(.data, dots):\n",
      "“binding character and factor vector, coercing into character vector”"
     ]
    },
    {
     "name": "stdout",
     "output_type": "stream",
     "text": [
      "[1] \"Crossref\"\n",
      "[1] 10.7870/\n",
      "298 Levels: 10.1002/ 10.1007/ 10.1016/ 10.1017/ 10.1021/ 10.1023/ ... 10.7906/\n"
     ]
    },
    {
     "name": "stderr",
     "output_type": "stream",
     "text": [
      "Warning message in mutate_impl(.data, dots):\n",
      "“binding character and factor vector, coercing into character vector”"
     ]
    },
    {
     "name": "stdout",
     "output_type": "stream",
     "text": [
      "[1] \"Crossref\"\n",
      "[1] 10.4103/\n",
      "298 Levels: 10.1002/ 10.1007/ 10.1016/ 10.1017/ 10.1021/ 10.1023/ ... 10.7906/\n"
     ]
    },
    {
     "name": "stderr",
     "output_type": "stream",
     "text": [
      "Warning message in mutate_impl(.data, dots):\n",
      "“binding character and factor vector, coercing into character vector”"
     ]
    },
    {
     "name": "stdout",
     "output_type": "stream",
     "text": [
      "[1] \"Crossref\"\n",
      "[1] 10.7861/\n",
      "298 Levels: 10.1002/ 10.1007/ 10.1016/ 10.1017/ 10.1021/ 10.1023/ ... 10.7906/\n"
     ]
    },
    {
     "name": "stderr",
     "output_type": "stream",
     "text": [
      "Warning message in mutate_impl(.data, dots):\n",
      "“binding character and factor vector, coercing into character vector”"
     ]
    },
    {
     "name": "stdout",
     "output_type": "stream",
     "text": [
      "[1] \"Crossref\"\n",
      "[1] 10.15857/\n",
      "298 Levels: 10.1002/ 10.1007/ 10.1016/ 10.1017/ 10.1021/ 10.1023/ ... 10.7906/\n"
     ]
    },
    {
     "name": "stderr",
     "output_type": "stream",
     "text": [
      "Warning message in mutate_impl(.data, dots):\n",
      "“binding character and factor vector, coercing into character vector”"
     ]
    },
    {
     "name": "stdout",
     "output_type": "stream",
     "text": [
      "[1] \"Crossref\"\n",
      "[1] 10.12998/\n",
      "298 Levels: 10.1002/ 10.1007/ 10.1016/ 10.1017/ 10.1021/ 10.1023/ ... 10.7906/\n"
     ]
    },
    {
     "name": "stderr",
     "output_type": "stream",
     "text": [
      "Warning message in mutate_impl(.data, dots):\n",
      "“binding character and factor vector, coercing into character vector”"
     ]
    },
    {
     "name": "stdout",
     "output_type": "stream",
     "text": [
      "[1] \"Crossref\"\n",
      "[1] 10.14712/\n",
      "298 Levels: 10.1002/ 10.1007/ 10.1016/ 10.1017/ 10.1021/ 10.1023/ ... 10.7906/\n"
     ]
    },
    {
     "name": "stderr",
     "output_type": "stream",
     "text": [
      "Warning message in mutate_impl(.data, dots):\n",
      "“binding character and factor vector, coercing into character vector”"
     ]
    },
    {
     "name": "stdout",
     "output_type": "stream",
     "text": [
      "[1] \"Crossref\"\n",
      "[1] 10.1101/\n",
      "298 Levels: 10.1002/ 10.1007/ 10.1016/ 10.1017/ 10.1021/ 10.1023/ ... 10.7906/\n"
     ]
    },
    {
     "name": "stderr",
     "output_type": "stream",
     "text": [
      "Warning message in mutate_impl(.data, dots):\n",
      "“binding character and factor vector, coercing into character vector”"
     ]
    },
    {
     "name": "stdout",
     "output_type": "stream",
     "text": [
      "[1] \"Crossref\"\n",
      "[1] 10.1123/\n",
      "298 Levels: 10.1002/ 10.1007/ 10.1016/ 10.1017/ 10.1021/ 10.1023/ ... 10.7906/\n"
     ]
    },
    {
     "name": "stderr",
     "output_type": "stream",
     "text": [
      "Warning message in mutate_impl(.data, dots):\n",
      "“binding character and factor vector, coercing into character vector”"
     ]
    },
    {
     "name": "stdout",
     "output_type": "stream",
     "text": [
      "[1] \"Crossref\"\n",
      "[1] 10.14324/\n",
      "298 Levels: 10.1002/ 10.1007/ 10.1016/ 10.1017/ 10.1021/ 10.1023/ ... 10.7906/\n"
     ]
    },
    {
     "name": "stderr",
     "output_type": "stream",
     "text": [
      "Warning message in mutate_impl(.data, dots):\n",
      "“binding character and factor vector, coercing into character vector”"
     ]
    },
    {
     "name": "stdout",
     "output_type": "stream",
     "text": [
      "[1] \"Crossref\"\n",
      "[1] 10.22261/\n",
      "298 Levels: 10.1002/ 10.1007/ 10.1016/ 10.1017/ 10.1021/ 10.1023/ ... 10.7906/\n"
     ]
    },
    {
     "name": "stderr",
     "output_type": "stream",
     "text": [
      "Warning message in mutate_impl(.data, dots):\n",
      "“binding character and factor vector, coercing into character vector”"
     ]
    },
    {
     "name": "stdout",
     "output_type": "stream",
     "text": [
      "[1] \"Crossref\"\n",
      "[1] 10.23865/\n",
      "298 Levels: 10.1002/ 10.1007/ 10.1016/ 10.1017/ 10.1021/ 10.1023/ ... 10.7906/\n"
     ]
    },
    {
     "name": "stderr",
     "output_type": "stream",
     "text": [
      "Warning message in mutate_impl(.data, dots):\n",
      "“binding character and factor vector, coercing into character vector”"
     ]
    },
    {
     "name": "stdout",
     "output_type": "stream",
     "text": [
      "[1] \"Crossref\"\n",
      "[1] 10.26634/\n",
      "298 Levels: 10.1002/ 10.1007/ 10.1016/ 10.1017/ 10.1021/ 10.1023/ ... 10.7906/\n"
     ]
    },
    {
     "name": "stderr",
     "output_type": "stream",
     "text": [
      "Warning message in mutate_impl(.data, dots):\n",
      "“binding character and factor vector, coercing into character vector”"
     ]
    },
    {
     "name": "stdout",
     "output_type": "stream",
     "text": [
      "[1] \"Crossref\"\n",
      "[1] 10.1081/\n",
      "298 Levels: 10.1002/ 10.1007/ 10.1016/ 10.1017/ 10.1021/ 10.1023/ ... 10.7906/\n"
     ]
    },
    {
     "name": "stderr",
     "output_type": "stream",
     "text": [
      "Warning message in mutate_impl(.data, dots):\n",
      "“binding character and factor vector, coercing into character vector”"
     ]
    },
    {
     "name": "stdout",
     "output_type": "stream",
     "text": [
      "[1] \"Crossref\"\n",
      "[1] 10.1084/\n",
      "298 Levels: 10.1002/ 10.1007/ 10.1016/ 10.1017/ 10.1021/ 10.1023/ ... 10.7906/\n"
     ]
    },
    {
     "name": "stderr",
     "output_type": "stream",
     "text": [
      "Warning message in mutate_impl(.data, dots):\n",
      "“binding character and factor vector, coercing into character vector”"
     ]
    },
    {
     "name": "stdout",
     "output_type": "stream",
     "text": [
      "[1] \"Crossref\"\n",
      "[1] 10.20320/\n",
      "298 Levels: 10.1002/ 10.1007/ 10.1016/ 10.1017/ 10.1021/ 10.1023/ ... 10.7906/\n"
     ]
    },
    {
     "name": "stderr",
     "output_type": "stream",
     "text": [
      "Warning message in mutate_impl(.data, dots):\n",
      "“binding character and factor vector, coercing into character vector”"
     ]
    },
    {
     "name": "stdout",
     "output_type": "stream",
     "text": [
      "[1] \"Crossref\"\n",
      "[1] 10.1115/\n",
      "298 Levels: 10.1002/ 10.1007/ 10.1016/ 10.1017/ 10.1021/ 10.1023/ ... 10.7906/\n"
     ]
    },
    {
     "name": "stderr",
     "output_type": "stream",
     "text": [
      "Warning message in mutate_impl(.data, dots):\n",
      "“binding character and factor vector, coercing into character vector”"
     ]
    },
    {
     "name": "stdout",
     "output_type": "stream",
     "text": [
      "[1] \"Crossref\"\n",
      "[1] 10.1106/\n",
      "298 Levels: 10.1002/ 10.1007/ 10.1016/ 10.1017/ 10.1021/ 10.1023/ ... 10.7906/\n"
     ]
    },
    {
     "name": "stderr",
     "output_type": "stream",
     "text": [
      "Warning message in mutate_impl(.data, dots):\n",
      "“binding character and factor vector, coercing into character vector”"
     ]
    },
    {
     "name": "stdout",
     "output_type": "stream",
     "text": [
      "[1] \"Crossref\"\n",
      "[1] 10.7559/\n",
      "298 Levels: 10.1002/ 10.1007/ 10.1016/ 10.1017/ 10.1021/ 10.1023/ ... 10.7906/\n"
     ]
    },
    {
     "name": "stderr",
     "output_type": "stream",
     "text": [
      "Warning message in mutate_impl(.data, dots):\n",
      "“binding character and factor vector, coercing into character vector”"
     ]
    },
    {
     "name": "stdout",
     "output_type": "stream",
     "text": [
      "[1] \"Crossref\"\n",
      "[1] 10.5306/\n",
      "298 Levels: 10.1002/ 10.1007/ 10.1016/ 10.1017/ 10.1021/ 10.1023/ ... 10.7906/\n"
     ]
    },
    {
     "name": "stderr",
     "output_type": "stream",
     "text": [
      "Warning message in mutate_impl(.data, dots):\n",
      "“binding character and factor vector, coercing into character vector”"
     ]
    },
    {
     "name": "stdout",
     "output_type": "stream",
     "text": [
      "[1] \"Crossref\"\n",
      "[1] 10.5312/\n",
      "298 Levels: 10.1002/ 10.1007/ 10.1016/ 10.1017/ 10.1021/ 10.1023/ ... 10.7906/\n"
     ]
    },
    {
     "name": "stderr",
     "output_type": "stream",
     "text": [
      "Warning message in mutate_impl(.data, dots):\n",
      "“binding character and factor vector, coercing into character vector”"
     ]
    },
    {
     "name": "stdout",
     "output_type": "stream",
     "text": [
      "[1] \"Crossref\"\n",
      "[1] 10.25222/\n",
      "298 Levels: 10.1002/ 10.1007/ 10.1016/ 10.1017/ 10.1021/ 10.1023/ ... 10.7906/\n"
     ]
    },
    {
     "name": "stderr",
     "output_type": "stream",
     "text": [
      "Warning message in mutate_impl(.data, dots):\n",
      "“binding character and factor vector, coercing into character vector”"
     ]
    },
    {
     "name": "stdout",
     "output_type": "stream",
     "text": [
      "[1] \"Crossref\"\n",
      "[1] 10.5321/\n",
      "298 Levels: 10.1002/ 10.1007/ 10.1016/ 10.1017/ 10.1021/ 10.1023/ ... 10.7906/\n"
     ]
    },
    {
     "name": "stderr",
     "output_type": "stream",
     "text": [
      "Warning message in mutate_impl(.data, dots):\n",
      "“binding character and factor vector, coercing into character vector”"
     ]
    },
    {
     "name": "stdout",
     "output_type": "stream",
     "text": [
      "[1] \"Crossref\"\n",
      "[1] 10.15366/\n",
      "298 Levels: 10.1002/ 10.1007/ 10.1016/ 10.1017/ 10.1021/ 10.1023/ ... 10.7906/\n"
     ]
    },
    {
     "name": "stderr",
     "output_type": "stream",
     "text": [
      "Warning message in mutate_impl(.data, dots):\n",
      "“binding character and factor vector, coercing into character vector”"
     ]
    },
    {
     "name": "stdout",
     "output_type": "stream",
     "text": [
      "[1] \"Crossref\"\n",
      "[1] 10.1175/\n",
      "298 Levels: 10.1002/ 10.1007/ 10.1016/ 10.1017/ 10.1021/ 10.1023/ ... 10.7906/\n"
     ]
    },
    {
     "name": "stderr",
     "output_type": "stream",
     "text": [
      "Warning message in mutate_impl(.data, dots):\n",
      "“binding character and factor vector, coercing into character vector”"
     ]
    },
    {
     "name": "stdout",
     "output_type": "stream",
     "text": [
      "[1] \"Crossref\"\n",
      "[1] 10.5492/\n",
      "298 Levels: 10.1002/ 10.1007/ 10.1016/ 10.1017/ 10.1021/ 10.1023/ ... 10.7906/\n"
     ]
    },
    {
     "name": "stderr",
     "output_type": "stream",
     "text": [
      "Warning message in mutate_impl(.data, dots):\n",
      "“binding character and factor vector, coercing into character vector”"
     ]
    },
    {
     "name": "stdout",
     "output_type": "stream",
     "text": [
      "[1] \"Crossref\"\n",
      "[1] 10.5897/\n",
      "298 Levels: 10.1002/ 10.1007/ 10.1016/ 10.1017/ 10.1021/ 10.1023/ ... 10.7906/\n"
     ]
    },
    {
     "name": "stderr",
     "output_type": "stream",
     "text": [
      "Warning message in mutate_impl(.data, dots):\n",
      "“binding character and factor vector, coercing into character vector”"
     ]
    },
    {
     "name": "stdout",
     "output_type": "stream",
     "text": [
      "[1] \"Crossref\"\n",
      "[1] 10.1366/\n",
      "298 Levels: 10.1002/ 10.1007/ 10.1016/ 10.1017/ 10.1021/ 10.1023/ ... 10.7906/\n"
     ]
    },
    {
     "name": "stderr",
     "output_type": "stream",
     "text": [
      "Warning message in mutate_impl(.data, dots):\n",
      "“binding character and factor vector, coercing into character vector”"
     ]
    },
    {
     "name": "stdout",
     "output_type": "stream",
     "text": [
      "[1] \"Crossref\"\n",
      "[1] 10.1655/\n",
      "298 Levels: 10.1002/ 10.1007/ 10.1016/ 10.1017/ 10.1021/ 10.1023/ ... 10.7906/\n"
     ]
    },
    {
     "name": "stderr",
     "output_type": "stream",
     "text": [
      "Warning message in mutate_impl(.data, dots):\n",
      "“binding character and factor vector, coercing into character vector”"
     ]
    },
    {
     "name": "stdout",
     "output_type": "stream",
     "text": [
      "[1] \"Crossref\"\n",
      "[1] 10.5594/\n",
      "298 Levels: 10.1002/ 10.1007/ 10.1016/ 10.1017/ 10.1021/ 10.1023/ ... 10.7906/\n"
     ]
    },
    {
     "name": "stderr",
     "output_type": "stream",
     "text": [
      "Warning message in mutate_impl(.data, dots):\n",
      "“binding character and factor vector, coercing into character vector”"
     ]
    },
    {
     "name": "stdout",
     "output_type": "stream",
     "text": [
      "[1] \"Crossref\"\n",
      "[1] 10.11118/\n",
      "298 Levels: 10.1002/ 10.1007/ 10.1016/ 10.1017/ 10.1021/ 10.1023/ ... 10.7906/\n"
     ]
    },
    {
     "name": "stderr",
     "output_type": "stream",
     "text": [
      "Warning message in mutate_impl(.data, dots):\n",
      "“binding character and factor vector, coercing into character vector”"
     ]
    },
    {
     "name": "stdout",
     "output_type": "stream",
     "text": [
      "[1] \"Crossref\"\n",
      "[1] 10.5498/\n",
      "298 Levels: 10.1002/ 10.1007/ 10.1016/ 10.1017/ 10.1021/ 10.1023/ ... 10.7906/\n"
     ]
    },
    {
     "name": "stderr",
     "output_type": "stream",
     "text": [
      "Warning message in mutate_impl(.data, dots):\n",
      "“binding character and factor vector, coercing into character vector”"
     ]
    },
    {
     "name": "stdout",
     "output_type": "stream",
     "text": [
      "[1] \"Crossref\"\n",
      "[1] 10.12968/\n",
      "298 Levels: 10.1002/ 10.1007/ 10.1016/ 10.1017/ 10.1021/ 10.1023/ ... 10.7906/\n"
     ]
    },
    {
     "name": "stderr",
     "output_type": "stream",
     "text": [
      "Warning message in mutate_impl(.data, dots):\n",
      "“binding character and factor vector, coercing into character vector”"
     ]
    },
    {
     "name": "stdout",
     "output_type": "stream",
     "text": [
      "[1] \"Crossref\"\n",
      "[1] 10.1152/\n",
      "298 Levels: 10.1002/ 10.1007/ 10.1016/ 10.1017/ 10.1021/ 10.1023/ ... 10.7906/\n"
     ]
    },
    {
     "name": "stderr",
     "output_type": "stream",
     "text": [
      "Warning message in mutate_impl(.data, dots):\n",
      "“binding character and factor vector, coercing into character vector”"
     ]
    },
    {
     "name": "stdout",
     "output_type": "stream",
     "text": [
      "[1] \"Crossref\"\n",
      "[1] 10.5155/\n",
      "298 Levels: 10.1002/ 10.1007/ 10.1016/ 10.1017/ 10.1021/ 10.1023/ ... 10.7906/\n"
     ]
    },
    {
     "name": "stderr",
     "output_type": "stream",
     "text": [
      "Warning message in mutate_impl(.data, dots):\n",
      "“binding character and factor vector, coercing into character vector”"
     ]
    },
    {
     "name": "stdout",
     "output_type": "stream",
     "text": [
      "[1] \"Crossref\"\n",
      "[1] 10.1026/\n",
      "298 Levels: 10.1002/ 10.1007/ 10.1016/ 10.1017/ 10.1021/ 10.1023/ ... 10.7906/\n"
     ]
    },
    {
     "name": "stderr",
     "output_type": "stream",
     "text": [
      "Warning message in mutate_impl(.data, dots):\n",
      "“binding character and factor vector, coercing into character vector”"
     ]
    },
    {
     "name": "stdout",
     "output_type": "stream",
     "text": [
      "[1] \"Crossref\"\n",
      "[1] 10.1248/\n",
      "298 Levels: 10.1002/ 10.1007/ 10.1016/ 10.1017/ 10.1021/ 10.1023/ ... 10.7906/\n"
     ]
    },
    {
     "name": "stderr",
     "output_type": "stream",
     "text": [
      "Warning message in mutate_impl(.data, dots):\n",
      "“binding character and factor vector, coercing into character vector”"
     ]
    },
    {
     "name": "stdout",
     "output_type": "stream",
     "text": [
      "[1] \"Crossref\"\n",
      "[1] 10.3892/\n",
      "298 Levels: 10.1002/ 10.1007/ 10.1016/ 10.1017/ 10.1021/ 10.1023/ ... 10.7906/\n"
     ]
    },
    {
     "name": "stderr",
     "output_type": "stream",
     "text": [
      "Warning message in mutate_impl(.data, dots):\n",
      "“binding character and factor vector, coercing into character vector”"
     ]
    },
    {
     "name": "stdout",
     "output_type": "stream",
     "text": [
      "[1] \"Crossref\"\n",
      "[1] 10.1207/\n",
      "298 Levels: 10.1002/ 10.1007/ 10.1016/ 10.1017/ 10.1021/ 10.1023/ ... 10.7906/\n"
     ]
    },
    {
     "name": "stderr",
     "output_type": "stream",
     "text": [
      "Warning message in mutate_impl(.data, dots):\n",
      "“binding character and factor vector, coercing into character vector”"
     ]
    }
   ],
   "source": [
    "dd2<-get_listOfPrefix_Names_sub(data_pack)"
   ]
  },
  {
   "cell_type": "code",
   "execution_count": 199,
   "metadata": {},
   "outputs": [
    {
     "name": "stderr",
     "output_type": "stream",
     "text": [
      "Joining, by = \"subj_prefix\"\n",
      "Warning message:\n",
      "“Column `subj_prefix` joining character vector and factor, coercing into character vector”Joining, by = \"obj_prefix\"\n",
      "Warning message:\n",
      "“Column `obj_prefix` joining character vector and factor, coercing into character vector”"
     ]
    },
    {
     "name": "stdout",
     "output_type": "stream",
     "text": [
      "[1] 22000\n"
     ]
    }
   ],
   "source": [
    "add_datacenters_labes<-function(data, dc_labels,xr_labels){\n",
    "    data <- data %>% \n",
    "        rowwise() %>% \n",
    "        left_join(xr_labels)\n",
    "    data <- data %>% \n",
    "        rowwise() %>% \n",
    "        left_join(dc_labels)\n",
    "    print(nrow(data))\n",
    "    return(data)\n",
    "}\n",
    "proce_data_file<-add_datacenters_labes(data_pack,dd,dd2)"
   ]
  },
  {
   "cell_type": "code",
   "execution_count": 200,
   "metadata": {},
   "outputs": [],
   "source": [
    "save(proce_data_file,file=\"../data/11032018_Mugging_Crossref_Datacite_links_out_with_labels.Rda\")"
   ]
  }
 ],
 "metadata": {
  "kernelspec": {
   "display_name": "R",
   "language": "R",
   "name": "ir"
  },
  "language_info": {
   "codemirror_mode": "r",
   "file_extension": ".r",
   "mimetype": "text/x-r-source",
   "name": "R",
   "pygments_lexer": "r",
   "version": "3.3.2"
  }
 },
 "nbformat": 4,
 "nbformat_minor": 2
}
